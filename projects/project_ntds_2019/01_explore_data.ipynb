{
 "cells": [
  {
   "cell_type": "markdown",
   "metadata": {},
   "source": [
    "# Explore IMDb movies dataset"
   ]
  },
  {
   "cell_type": "code",
   "execution_count": null,
   "metadata": {},
   "outputs": [],
   "source": [
    "import pandas as pd\n",
    "import json\n",
    "import matplotlib.pyplot as plt\n",
    "import numpy as np\n",
    "from pandas.io.json import json_normalize\n",
    "from project_utils import *\n",
    "\n",
    "%reload_ext lab_black\n",
    "%load_ext autoreload\n",
    "%autoreload 2"
   ]
  },
  {
   "cell_type": "markdown",
   "metadata": {},
   "source": [
    "## Import data"
   ]
  },
  {
   "cell_type": "code",
   "execution_count": null,
   "metadata": {},
   "outputs": [],
   "source": [
    "movies_df = pd.read_csv(\"./data/tmdb_5000_movies.csv\", sep=\",\", quotechar='\"').rename(\n",
    "    {\"id\": \"movie_id\"}, axis=1\n",
    ")\n",
    "movies_df.head()"
   ]
  },
  {
   "cell_type": "code",
   "execution_count": null,
   "metadata": {},
   "outputs": [],
   "source": [
    "movies_df.columns"
   ]
  },
  {
   "cell_type": "code",
   "execution_count": null,
   "metadata": {},
   "outputs": [],
   "source": [
    "credits_df = pd.read_csv(\"./data/tmdb_5000_credits.csv\", sep=\",\", quotechar='\"')"
   ]
  },
  {
   "cell_type": "code",
   "execution_count": null,
   "metadata": {},
   "outputs": [],
   "source": [
    "credits_df.columns"
   ]
  },
  {
   "cell_type": "markdown",
   "metadata": {},
   "source": [
    "## Explore movies data"
   ]
  },
  {
   "cell_type": "code",
   "execution_count": null,
   "metadata": {},
   "outputs": [],
   "source": [
    "movies_df.describe()"
   ]
  },
  {
   "cell_type": "markdown",
   "metadata": {},
   "source": [
    "### Numerical features exploration\n",
    "Plot the histograms of the numerical features to indentify outliers"
   ]
  },
  {
   "cell_type": "code",
   "execution_count": null,
   "metadata": {},
   "outputs": [],
   "source": [
    "np.log10(np.min(movies_df[\"budget\"]) + 1e-6)"
   ]
  },
  {
   "cell_type": "code",
   "execution_count": null,
   "metadata": {},
   "outputs": [],
   "source": [
    "col = movies_df[\"budget\"]\n",
    "plot_hist(col, \"Budget histogram\", \"budget [$us] (log10 scale)\", \"count\", log=True)"
   ]
  },
  {
   "cell_type": "code",
   "execution_count": null,
   "metadata": {},
   "outputs": [],
   "source": [
    "col = movies_df[\"popularity\"]\n",
    "plot_hist(col, \"Popularity histogram\", \"popularity (log10 scale)\", \"count\", log=True)"
   ]
  },
  {
   "cell_type": "code",
   "execution_count": null,
   "metadata": {},
   "outputs": [],
   "source": [
    "col = movies_df[\"revenue\"]\n",
    "plot_hist(col, \"Revenue histogram\", \"revenue (log10 scale)\", \"count\", log=True)"
   ]
  },
  {
   "cell_type": "code",
   "execution_count": null,
   "metadata": {},
   "outputs": [],
   "source": [
    "col = movies_df[\"vote_average\"]\n",
    "plot_hist(col, \"Vote average histogram\", \"vote_average\", \"count\", log=False, bins=105)"
   ]
  },
  {
   "cell_type": "code",
   "execution_count": null,
   "metadata": {},
   "outputs": [],
   "source": [
    "col = movies_df[\"vote_count\"]\n",
    "plot_hist(col, \"Vote count histogram\", \"vote_count (log10 scale)\", \"count\", log=True)"
   ]
  },
  {
   "cell_type": "markdown",
   "metadata": {},
   "source": [
    "### Number of movies to remove"
   ]
  },
  {
   "cell_type": "code",
   "execution_count": null,
   "metadata": {},
   "outputs": [],
   "source": [
    "cond_to_remove = (\n",
    "    (movies_df[\"budget\"] == 0)\n",
    "    | (movies_df[\"popularity\"] == 0)\n",
    "    | (movies_df[\"revenue\"] == 0)\n",
    "    | (movies_df[\"runtime\"] == 0)\n",
    "    | (movies_df[\"vote_average\"] == 0)\n",
    "    | (movies_df[\"vote_count\"] == 0)\n",
    ")\n",
    "to_remove_movies_df = movies_df[cond_to_remove][\n",
    "    [\n",
    "        \"title\",\n",
    "        \"genres\",\n",
    "        \"production_companies\",\n",
    "        \"budget\",\n",
    "        \"popularity\",\n",
    "        \"revenue\",\n",
    "        \"runtime\",\n",
    "        \"vote_average\",\n",
    "        \"vote_count\",\n",
    "    ]\n",
    "]\n",
    "print((\"Number of movies to remove: \" + str(len(to_remove_movies_df))))\n",
    "to_remove_movies_df.head()"
   ]
  },
  {
   "cell_type": "markdown",
   "metadata": {},
   "source": [
    "### Categorical features exploration"
   ]
  },
  {
   "cell_type": "code",
   "execution_count": null,
   "metadata": {},
   "outputs": [],
   "source": [
    "values, _ = get_json_values_from_col(movies_df[\"genres\"], \"name\")\n",
    "values"
   ]
  },
  {
   "cell_type": "code",
   "execution_count": null,
   "metadata": {},
   "outputs": [],
   "source": [
    "values, _ = get_json_values_from_col(movies_df[\"production_companies\"], \"name\")\n",
    "values[:20]"
   ]
  },
  {
   "cell_type": "code",
   "execution_count": null,
   "metadata": {},
   "outputs": [],
   "source": [
    "values, _ = get_json_values_from_col(movies_df[\"keywords\"], \"name\")\n",
    "values[:20]"
   ]
  },
  {
   "cell_type": "markdown",
   "metadata": {},
   "source": [
    "### Time features exploration"
   ]
  },
  {
   "cell_type": "code",
   "execution_count": null,
   "metadata": {},
   "outputs": [],
   "source": [
    "movies_df[\"release_date\"] = movies_df[\"release_date\"].astype(\"datetime64\")"
   ]
  },
  {
   "cell_type": "code",
   "execution_count": null,
   "metadata": {},
   "outputs": [],
   "source": [
    "fig, ax = plt.subplots(figsize=(20, 5))\n",
    "years = movies_df[\"release_date\"].dt.year\n",
    "years = years[years.notna()]\n",
    "tick_labels = years.unique().astype(int)\n",
    "movies_df[\"release_date\"].groupby([movies_df[\"release_date\"].dt.year]).count().plot(\n",
    "    ax=ax, kind=\"bar\", grid=True, width=1, tick_label=tick_labels,\n",
    ")"
   ]
  },
  {
   "cell_type": "markdown",
   "metadata": {},
   "source": [
    "## Explore credits data"
   ]
  },
  {
   "cell_type": "code",
   "execution_count": null,
   "metadata": {},
   "outputs": [],
   "source": [
    "list(credits_df.columns)"
   ]
  },
  {
   "cell_type": "markdown",
   "metadata": {},
   "source": [
    "### Explore json fields"
   ]
  },
  {
   "cell_type": "markdown",
   "metadata": {},
   "source": [
    "#### Explore json keys"
   ]
  },
  {
   "cell_type": "code",
   "execution_count": null,
   "metadata": {},
   "outputs": [],
   "source": [
    "col = credits_df[\"cast\"]\n",
    "values, _ = get_json_keys_from_col(col)\n",
    "values[:20]"
   ]
  },
  {
   "cell_type": "code",
   "execution_count": null,
   "metadata": {},
   "outputs": [],
   "source": [
    "col = credits_df[\"crew\"]\n",
    "values, _ = get_json_keys_from_col(col)\n",
    "values[:20]"
   ]
  },
  {
   "cell_type": "code",
   "execution_count": null,
   "metadata": {},
   "outputs": [],
   "source": [
    "values, _ = get_json_values_from_col(credits_df[\"crew\"], \"job\")\n",
    "values[:20]"
   ]
  },
  {
   "cell_type": "markdown",
   "metadata": {},
   "source": [
    "#### Most relevant jobs of the crew\n",
    "Manually selected from the whole list of jobs\n",
    "- Director\n",
    "- Co-Director\n",
    "- Creator\n",
    "- Producer\n",
    "- Editor\n",
    "- Executive Producer\n",
    "- Co-Executive Producer\n",
    "- Co-Producer\n",
    "- Script Editor\n",
    "- Executive In Charge Of Production\n",
    "- Author\n",
    "- Dialogue Editor\n",
    "- Script\n",
    "- Original Story"
   ]
  },
  {
   "cell_type": "code",
   "execution_count": null,
   "metadata": {},
   "outputs": [],
   "source": [
    "values, _ = get_json_values_from_col(credits_df[\"crew\"], \"gender\")\n",
    "values"
   ]
  }
 ],
 "metadata": {
  "kernelspec": {
   "display_name": "Python 3",
   "language": "python",
   "name": "python3"
  },
  "language_info": {
   "codemirror_mode": {
    "name": "ipython",
    "version": 3
   },
   "file_extension": ".py",
   "mimetype": "text/x-python",
   "name": "python",
   "nbconvert_exporter": "python",
   "pygments_lexer": "ipython3",
   "version": "3.7.3"
  }
 },
 "nbformat": 4,
 "nbformat_minor": 4
}
