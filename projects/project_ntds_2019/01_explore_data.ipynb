{
 "cells": [
  {
   "cell_type": "markdown",
   "metadata": {},
   "source": [
    "# Explore IMDb actor dataframe"
   ]
  },
  {
   "cell_type": "code",
   "execution_count": null,
   "metadata": {},
   "outputs": [],
   "source": [
    "import pandas as pd\n",
    "import json\n",
    "import matplotlib.pyplot as plt\n",
    "import numpy as np\n",
    "from pandas.io.json import json_normalize\n",
    "from project_utils import *\n",
    "\n",
    "%load_ext autoreload\n",
    "%autoreload 2"
   ]
  },
  {
   "cell_type": "markdown",
   "metadata": {},
   "source": [
    "## Import data"
   ]
  },
  {
   "cell_type": "code",
   "execution_count": null,
   "metadata": {},
   "outputs": [],
   "source": [
    "movies_df = pd.read_csv(\"./data/tmdb_5000_movies.csv\", sep=\",\", quotechar='\"').rename(\n",
    "    {\"id\": \"movie_id\"}, axis=1\n",
    ")\n",
    "movies_df.head()"
   ]
  },
  {
   "cell_type": "code",
   "execution_count": null,
   "metadata": {},
   "outputs": [],
   "source": [
    "credits_df = pd.read_csv(\"./data/tmdb_5000_credits.csv\", sep=\",\", quotechar='\"')"
   ]
  },
  {
   "cell_type": "code",
   "execution_count": null,
   "metadata": {},
   "outputs": [],
   "source": [
    "# - movies with empty genre\n",
    "# - movies with no production company\n",
    "# - movies with no production country\n",
    "# - movies with no spoken languages\n",
    "ill_condition = (\n",
    "    (movies_df.astype(str)[\"genres\"] == \"[]\")\n",
    "    | (movies_df.astype(str)[\"production_companies\"] == \"[]\")\n",
    "    | (movies_df.astype(str)[\"production_countries\"] == \"[]\")\n",
    "    | (movies_df.astype(str)[\"spoken_languages\"] == \"[]\")\n",
    "    | (movies_df[\"runtime\"] == 0)\n",
    "    | (movies_df[\"revenue\"] == 0)\n",
    "    | (movies_df[\"budget\"] == 0)\n",
    ")\n",
    "ill_conditioned_movies_df = movies_df[ill_condition][\n",
    "    [\n",
    "        \"title\",\n",
    "        \"genres\",\n",
    "        \"production_companies\",\n",
    "        \"production_countries\",\n",
    "        \"spoken_languages\",\n",
    "        \"runtime\",\n",
    "        \"revenue\",\n",
    "        \"budget\",\n",
    "    ]\n",
    "]\n",
    "print(len(ill_conditioned_movies_df))\n",
    "ill_conditioned_movies_df.head()"
   ]
  },
  {
   "cell_type": "code",
   "execution_count": null,
   "metadata": {},
   "outputs": [],
   "source": [
    "# movies with budget 0\n",
    "no_revenue_df = movies_df[movies_df[\"budget\"] == 0][[\"genres\", \"revenue\", \"title\"]]\n",
    "print(len(no_revenue_df))\n",
    "display(no_revenue_df)"
   ]
  },
  {
   "cell_type": "markdown",
   "metadata": {},
   "source": [
    "## Explore data"
   ]
  },
  {
   "cell_type": "code",
   "execution_count": null,
   "metadata": {},
   "outputs": [],
   "source": [
    "list(credits_df.columns)"
   ]
  },
  {
   "cell_type": "code",
   "execution_count": null,
   "metadata": {},
   "outputs": [],
   "source": [
    "list(movies_df.columns)"
   ]
  },
  {
   "cell_type": "code",
   "execution_count": null,
   "metadata": {},
   "outputs": [],
   "source": [
    "credits_df.isna().sum(axis=0)"
   ]
  },
  {
   "cell_type": "code",
   "execution_count": null,
   "metadata": {},
   "outputs": [],
   "source": [
    "movies_df.isna().sum(axis=0)"
   ]
  },
  {
   "cell_type": "code",
   "execution_count": null,
   "metadata": {},
   "outputs": [],
   "source": [
    "movies_df.dtypes"
   ]
  },
  {
   "cell_type": "code",
   "execution_count": null,
   "metadata": {},
   "outputs": [],
   "source": [
    "credits_df.dtypes"
   ]
  },
  {
   "cell_type": "markdown",
   "metadata": {},
   "source": [
    "### Explore json fields"
   ]
  },
  {
   "cell_type": "markdown",
   "metadata": {},
   "source": [
    "### Most relevant jobs of the crew\n",
    "- Creator\n",
    "- Director\n",
    "- Producer\n",
    "- Co-Director\n",
    "- Editor\n",
    "- Executive Producer\n",
    "- Co-Executive Producer\n",
    "- Co-Producer\n",
    "- Script Editor\n",
    "- Executive In Charge Of Production\n",
    "- Author\n",
    "- Dialogue Editor\n",
    "- Script\n",
    "- Original Story"
   ]
  },
  {
   "cell_type": "code",
   "execution_count": null,
   "metadata": {},
   "outputs": [],
   "source": [
    "values, _ = get_json_values_from_col(credits_df[\"crew\"], \"job\")\n",
    "values[:20]"
   ]
  },
  {
   "cell_type": "code",
   "execution_count": null,
   "metadata": {},
   "outputs": [],
   "source": [
    "values, _ = get_json_values_from_col(credits_df[\"crew\"], \"gender\")\n",
    "values"
   ]
  },
  {
   "cell_type": "code",
   "execution_count": null,
   "metadata": {},
   "outputs": [],
   "source": [
    "values, _ = get_json_values_from_col(movies_df[\"genres\"], \"name\")\n",
    "values"
   ]
  },
  {
   "cell_type": "code",
   "execution_count": null,
   "metadata": {},
   "outputs": [],
   "source": [
    "values, _ = get_json_values_from_col(movies_df[\"keywords\"], \"name\")\n",
    "values[:20]"
   ]
  },
  {
   "cell_type": "code",
   "execution_count": null,
   "metadata": {},
   "outputs": [],
   "source": [
    "values, _ = get_json_values_from_col(movies_df[\"production_countries\"], \"name\")\n",
    "values[:20]"
   ]
  },
  {
   "cell_type": "code",
   "execution_count": null,
   "metadata": {},
   "outputs": [],
   "source": [
    "values, _ = get_json_values_from_col(movies_df[\"spoken_languages\"], \"name\")\n",
    "values[:20]"
   ]
  },
  {
   "cell_type": "markdown",
   "metadata": {},
   "source": [
    "### Explore json keys"
   ]
  },
  {
   "cell_type": "code",
   "execution_count": null,
   "metadata": {},
   "outputs": [],
   "source": [
    "keys, _ = get_json_keys_from_col(credits_df[\"cast\"])\n",
    "keys"
   ]
  },
  {
   "cell_type": "code",
   "execution_count": null,
   "metadata": {},
   "outputs": [],
   "source": [
    "keys, _ = get_json_keys_from_col(credits_df[\"crew\"])\n",
    "keys"
   ]
  },
  {
   "cell_type": "code",
   "execution_count": null,
   "metadata": {},
   "outputs": [],
   "source": [
    "keys, _ = get_json_keys_from_col(movies_df[\"genres\"])\n",
    "keys"
   ]
  },
  {
   "cell_type": "code",
   "execution_count": null,
   "metadata": {},
   "outputs": [],
   "source": [
    "keys, _ = get_json_keys_from_col(movies_df[\"keywords\"])\n",
    "keys"
   ]
  },
  {
   "cell_type": "code",
   "execution_count": null,
   "metadata": {},
   "outputs": [],
   "source": [
    "keys, _ = get_json_keys_from_col(movies_df[\"keywords\"])\n",
    "keys"
   ]
  },
  {
   "cell_type": "code",
   "execution_count": null,
   "metadata": {},
   "outputs": [],
   "source": [
    "keys, _ = get_json_keys_from_col(movies_df[\"production_companies\"])\n",
    "keys"
   ]
  },
  {
   "cell_type": "code",
   "execution_count": null,
   "metadata": {},
   "outputs": [],
   "source": [
    "keys, _ = get_json_keys_from_col(movies_df[\"production_countries\"])\n",
    "keys"
   ]
  },
  {
   "cell_type": "code",
   "execution_count": null,
   "metadata": {},
   "outputs": [],
   "source": [
    "keys, _ = get_json_keys_from_col(movies_df[\"spoken_languages\"])\n",
    "keys"
   ]
  }
 ],
 "metadata": {
  "kernelspec": {
   "display_name": "Python 3",
   "language": "python",
   "name": "python3"
  },
  "language_info": {
   "codemirror_mode": {
    "name": "ipython",
    "version": 3
   },
   "file_extension": ".py",
   "mimetype": "text/x-python",
   "name": "python",
   "nbconvert_exporter": "python",
   "pygments_lexer": "ipython3",
   "version": "3.7.3"
  }
 },
 "nbformat": 4,
 "nbformat_minor": 4
}
