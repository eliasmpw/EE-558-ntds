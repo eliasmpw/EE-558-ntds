{
 "cells": [
  {
   "cell_type": "code",
   "execution_count": 1,
   "metadata": {},
   "outputs": [],
   "source": [
    "import pandas as pd\n",
    "import networkx as nx\n",
    "import matplotlib.pyplot as plt\n",
    "import numpy as np\n",
    "from scipy import sparse\n",
    "from project_utils import *\n",
    "from pygsp import graphs, filters\n",
    "from sklearn.model_selection import train_test_split\n",
    "from sklearn.linear_model import LinearRegression\n",
    "\n",
    "%load_ext autoreload\n",
    "%autoreload 2"
   ]
  },
  {
   "cell_type": "code",
   "execution_count": 2,
   "metadata": {},
   "outputs": [],
   "source": [
    "# Load data and graph\n",
    "actors_agg_adj = np.load(\"sparse_agg_actor_adj.npy\")\n",
    "actors_agg_df = pd.read_pickle(\"actors_agg_df.pkl\")\n",
    "actors_graph = nx.from_numpy_matrix(actors_agg_adj)\n",
    "G = graphs.Graph(actors_agg_adj)"
   ]
  },
  {
   "cell_type": "code",
   "execution_count": 3,
   "metadata": {},
   "outputs": [],
   "source": [
    "# Laplacian and spectral decomposition\n",
    "G.compute_laplacian('combinatorial')\n",
    "laplacian = G.L.toarray()\n",
    "lam, U = np.linalg.eig(laplacian)"
   ]
  },
  {
   "cell_type": "code",
   "execution_count": 4,
   "metadata": {},
   "outputs": [],
   "source": [
    "# Create ideal high-pass filter\n",
    "ideal_hp = np.ones((actors_agg_adj.shape[0],))\n",
    "ideal_hp[lam <= 1] = 0  # High-pass filter with cut-off at lambda=0.1\n",
    "\n",
    "# Create ideal low-pass filter\n",
    "ideal_lp = np.ones((actors_agg_adj.shape[0],))\n",
    "ideal_lp[lam >= 0.1] = 0  # Low-pass filter with cut-off at lambda=0.1\n",
    "\n",
    "# Create ideal band-pass filter\n",
    "ideal_bp = np.ones((actors_agg_adj.shape[0],))\n",
    "ideal_bp[lam < 0.1] = 0  # Band-pass filter with cut-offs at lambda=0.1 and lambda=0.5\n",
    "ideal_bp[lam > 0.5] = 0\n",
    "\n",
    "# Create ideal Tikhonov filter\n",
    "alpha = 0.99 / np.max(lam)\n",
    "ideal_tk = np.ones((actors_agg_adj.shape[0],))\n",
    "ideal_tk = 1 / (1 + alpha * lam)"
   ]
  },
  {
   "cell_type": "code",
   "execution_count": 5,
   "metadata": {},
   "outputs": [],
   "source": [
    "# Create polynomial graph filter with given order\n",
    "def graph_filter(order, ideal):\n",
    "    coeff = fit_polynomial(lam, order, ideal)\n",
    "    return polynomial_graph_filter(coeff, laplacian)"
   ]
  },
  {
   "cell_type": "code",
   "execution_count": 6,
   "metadata": {},
   "outputs": [],
   "source": [
    "# Create polynomial graph filters\n",
    "order = 3\n",
    "g_f_hp = graph_filter(order, ideal_hp) # High-pass\n",
    "g_f_lp = graph_filter(order, ideal_lp) # Low-pass\n",
    "g_f_bp = graph_filter(order, ideal_bp) # Band-pass\n",
    "g_f_tk = graph_filter(order, ideal_tk) # Tikhonov"
   ]
  },
  {
   "cell_type": "code",
   "execution_count": 7,
   "metadata": {},
   "outputs": [],
   "source": [
    "def apply_filter_and_add_communities(graph_filter):\n",
    "    # Get only continous features\n",
    "    continuous_features = actors_agg_df.filter([\"budget\", \"revenue\", \"vote_average\", \"popularity\"]).to_numpy()\n",
    "    # Apply filter\n",
    "    x_filtered = graph_filter @ continuous_features\n",
    "    x_filtered_df = pd.DataFrame(data=x_filtered, columns=[\"budget\", \"revenue\", \"vote_average\", \"popularity\"])\n",
    "    # Update dataframe with new filtered columns\n",
    "    new_df = actors_agg_df.copy()\n",
    "    new_df.update(x_filtered_df)\n",
    "    # Add communities column\n",
    "    communities_df = pd.DataFrame(data=actors_with_comunities_dataset[:,-1], columns=[\"community\"])\n",
    "    communities_df[\"community\"] = communities_df[\"community\"].apply(np.int)\n",
    "    new_df = new_df.merge(communities_df, left_index=True, right_index=True)\n",
    "    return new_df"
   ]
  },
  {
   "cell_type": "code",
   "execution_count": 34,
   "metadata": {},
   "outputs": [],
   "source": [
    "actors_with_comunities_dataset = np.load(\"actors_with_communities_dataset.npy\")\n",
    "# Apply filter, get new dataframes\n",
    "hp_new_df = apply_filter_and_add_communities(g_f_hp) # high-pass filter new dataframe\n",
    "lp_new_df = apply_filter_and_add_communities(g_f_lp) # low-pass filter new dataframe\n",
    "bp_new_df = apply_filter_and_add_communities(g_f_bp) # band-pass filter new dataframe\n",
    "tk_new_df = apply_filter_and_add_communities(g_f_tk) # Tikhonov filter new dataframe"
   ]
  },
  {
   "cell_type": "code",
   "execution_count": 35,
   "metadata": {},
   "outputs": [],
   "source": [
    "cols = [\"budget\", \"revenue\", \"vote_average\", \"popularity\",\"community\"]"
   ]
  },
  {
   "cell_type": "code",
   "execution_count": 36,
   "metadata": {},
   "outputs": [],
   "source": [
    "hp_new_df = hp_new_df[cols]\n",
    "lp_new_df = lp_new_df[cols]\n",
    "bp_new_df = bp_new_df[cols]\n",
    "tk_new_df = tk_new_df[cols]"
   ]
  },
  {
   "cell_type": "markdown",
   "metadata": {},
   "source": [
    "## Linear regression with filters"
   ]
  },
  {
   "cell_type": "code",
   "execution_count": 75,
   "metadata": {},
   "outputs": [],
   "source": [
    "cols = [\"budget\", \"revenue\", \"vote_average\", \"popularity\"]"
   ]
  },
  {
   "cell_type": "code",
   "execution_count": 76,
   "metadata": {},
   "outputs": [],
   "source": [
    "Xs_hp, Xs_com_hp, ys_hp, ys_com_hp = get_datasets(hp_new_df, cols)\n",
    "Xs_lp, Xs_com_lp, ys_lp, ys_com_lp = get_datasets(lp_new_df, cols)\n",
    "Xs_bp, Xs_com_bp, ys_bp, ys_com_bp = get_datasets(bp_new_df, cols)\n",
    "Xs_tk, Xs_com_tk, ys_tk, ys_com_tk = get_datasets(tk_new_df, cols)"
   ]
  },
  {
   "cell_type": "code",
   "execution_count": 66,
   "metadata": {},
   "outputs": [],
   "source": [
    "seed = 42"
   ]
  },
  {
   "cell_type": "code",
   "execution_count": 106,
   "metadata": {},
   "outputs": [],
   "source": [
    "test_size = 0.2"
   ]
  },
  {
   "cell_type": "markdown",
   "metadata": {},
   "source": [
    "## Highpass"
   ]
  },
  {
   "cell_type": "code",
   "execution_count": 107,
   "metadata": {},
   "outputs": [
    {
     "name": "stdout",
     "output_type": "stream",
     "text": [
      "Normalized MAE budget: 0.06299409150343695\n"
     ]
    }
   ],
   "source": [
    "# Worse than vanilla LR\n",
    "y_budget_pred, budget_nmae, _ = get_linear_reg_results(Xs_hp[\"budget\"],ys_hp[\"budget\"],test_size,seed)\n",
    "print(\"Normalized MAE budget: \"+str(budget_nmae))"
   ]
  },
  {
   "cell_type": "code",
   "execution_count": 108,
   "metadata": {},
   "outputs": [
    {
     "name": "stdout",
     "output_type": "stream",
     "text": [
      "Normalized MAE revenue: 0.03596644272965434\n"
     ]
    }
   ],
   "source": [
    "# Better than vanilla LR\n",
    "y_revenue_pred, revenue_nmae, _ = get_linear_reg_results(Xs_hp[\"revenue\"],ys_hp[\"revenue\"],test_size,seed)\n",
    "print(\"Normalized MAE revenue: \"+str(revenue_nmae))"
   ]
  },
  {
   "cell_type": "code",
   "execution_count": 109,
   "metadata": {},
   "outputs": [
    {
     "name": "stdout",
     "output_type": "stream",
     "text": [
      "Normalized MAE popularity: 0.06469265096046435\n"
     ]
    }
   ],
   "source": [
    "# Worse than vanilla LR\n",
    "y_popularity_pred, popularity_nmae, _ = get_linear_reg_results(Xs_hp[\"popularity\"],ys_hp[\"popularity\"],test_size,seed)\n",
    "print(\"Normalized MAE popularity: \"+str(popularity_nmae))"
   ]
  },
  {
   "cell_type": "code",
   "execution_count": 110,
   "metadata": {},
   "outputs": [
    {
     "name": "stdout",
     "output_type": "stream",
     "text": [
      "Normalized MAE vote average: 0.03345200714837459\n"
     ]
    }
   ],
   "source": [
    "# Better than vanilla LR\n",
    "y_popularity_pred, popularity_nmae, _ = get_linear_reg_results(Xs_hp[\"vote_average\"],ys_hp[\"vote_average\"],test_size,seed)\n",
    "print(\"Normalized MAE vote average: \"+str(vote_average_nmae))"
   ]
  },
  {
   "cell_type": "markdown",
   "metadata": {},
   "source": [
    "## Highpass with communities"
   ]
  },
  {
   "cell_type": "code",
   "execution_count": 118,
   "metadata": {},
   "outputs": [
    {
     "name": "stdout",
     "output_type": "stream",
     "text": [
      "Normalized MAE budget: 0.05829442265740332\n"
     ]
    }
   ],
   "source": [
    "# Worse than vanilla LR\n",
    "y_budget_com_pred, budget_com_nmae, _ = get_linear_reg_results(Xs_com_hp[\"budget\"],ys_com_hp[\"budget\"],test_size,seed)\n",
    "print(\"Normalized MAE budget: \"+str(budget_com_nmae))"
   ]
  },
  {
   "cell_type": "code",
   "execution_count": 119,
   "metadata": {},
   "outputs": [
    {
     "name": "stdout",
     "output_type": "stream",
     "text": [
      "Normalized MAE revenue: 0.035399450146715694\n"
     ]
    }
   ],
   "source": [
    "# Better than vanilla LR\n",
    "y_revenue_com_pred, revenue_com_nmae, _ = get_linear_reg_results(Xs_com_hp[\"revenue\"],ys_com_hp[\"revenue\"],test_size,seed)\n",
    "print(\"Normalized MAE revenue: \"+str(revenue_com_nmae))"
   ]
  },
  {
   "cell_type": "code",
   "execution_count": 121,
   "metadata": {},
   "outputs": [
    {
     "name": "stdout",
     "output_type": "stream",
     "text": [
      "Normalized MAE popularity: 0.06371574392347595\n"
     ]
    }
   ],
   "source": [
    "# Worse than vanilla LR\n",
    "y_popularity_com_pred, popularity_com_nmae, _ = get_linear_reg_results(Xs_com_hp[\"popularity\"],ys_com_hp[\"popularity\"],test_size,seed)\n",
    "print(\"Normalized MAE popularity: \"+str(popularity_com_nmae))"
   ]
  },
  {
   "cell_type": "code",
   "execution_count": 117,
   "metadata": {},
   "outputs": [
    {
     "name": "stdout",
     "output_type": "stream",
     "text": [
      "Normalized MAE vote average: 0.06988900420380362\n"
     ]
    }
   ],
   "source": [
    "# Better than vanilla LR\n",
    "y_vote_average_com_pred, vote_average_com_nmae, _ = get_linear_reg_results(Xs_com_hp[\"vote_average\"],ys_com_hp[\"vote_average\"],test_size,seed)\n",
    "print(\"Normalized MAE vote average: \"+str(vote_average_com_nmae))"
   ]
  },
  {
   "cell_type": "markdown",
   "metadata": {},
   "source": [
    "## Low pass"
   ]
  },
  {
   "cell_type": "code",
   "execution_count": 133,
   "metadata": {},
   "outputs": [
    {
     "name": "stdout",
     "output_type": "stream",
     "text": [
      "Normalized MAE budget: 0.03021694271060793\n"
     ]
    }
   ],
   "source": [
    "# Better than vanilla LR\n",
    "y_budget_pred, budget_com_nmae, _ = get_linear_reg_results(Xs_lp[\"budget\"],ys_lp[\"budget\"],test_size,seed)\n",
    "print(\"Normalized MAE budget: \"+str(budget_com_nmae))"
   ]
  },
  {
   "cell_type": "code",
   "execution_count": 132,
   "metadata": {},
   "outputs": [
    {
     "name": "stdout",
     "output_type": "stream",
     "text": [
      "Normalized MAE revenue: 0.020584757899991157\n"
     ]
    }
   ],
   "source": [
    "# Better than vanilla LR\n",
    "y_revenue_pred, revenue_nmae, _ = get_linear_reg_results(Xs_lp[\"revenue\"],ys_lp[\"revenue\"],test_size,seed)\n",
    "print(\"Normalized MAE revenue: \"+str(revenue_nmae))"
   ]
  },
  {
   "cell_type": "code",
   "execution_count": 131,
   "metadata": {},
   "outputs": [
    {
     "name": "stdout",
     "output_type": "stream",
     "text": [
      "Normalized MAE popularity: 0.043734962807939794\n"
     ]
    }
   ],
   "source": [
    "# Worse than vanilla LR\n",
    "y_popularity_pred, popularity_nmae, _ = get_linear_reg_results(Xs_lp[\"popularity\"],ys_lp[\"popularity\"],test_size,seed)\n",
    "print(\"Normalized MAE popularity: \"+str(popularity_nmae))"
   ]
  },
  {
   "cell_type": "code",
   "execution_count": 130,
   "metadata": {},
   "outputs": [
    {
     "name": "stdout",
     "output_type": "stream",
     "text": [
      "Normalized MAE vote average: 0.033396165578973146\n"
     ]
    }
   ],
   "source": [
    "# Better than vanilla LR\n",
    "y_vote_average_pred, vote_average_nmae, _ = get_linear_reg_results(Xs_lp[\"vote_average\"],ys_lp[\"vote_average\"],test_size,seed)\n",
    "print(\"Normalized MAE vote average: \"+str(vote_average_nmae))"
   ]
  },
  {
   "cell_type": "markdown",
   "metadata": {},
   "source": [
    "## Low pass with communities"
   ]
  },
  {
   "cell_type": "code",
   "execution_count": 134,
   "metadata": {},
   "outputs": [
    {
     "name": "stdout",
     "output_type": "stream",
     "text": [
      "Normalized MAE budget: 0.029486408159055212\n"
     ]
    }
   ],
   "source": [
    "# Better than vanilla LR\n",
    "y_budget_com_pred, budget_com_nmae, _ = get_linear_reg_results(Xs_com_lp[\"budget\"],ys_com_lp[\"budget\"],test_size,seed)\n",
    "print(\"Normalized MAE budget: \"+str(budget_com_nmae))"
   ]
  },
  {
   "cell_type": "code",
   "execution_count": 135,
   "metadata": {},
   "outputs": [
    {
     "name": "stdout",
     "output_type": "stream",
     "text": [
      "Normalized MAE revenue: 0.020615900141906673\n"
     ]
    }
   ],
   "source": [
    "# Better than vanilla LR\n",
    "y_revenue_com_pred, revenue_com_nmae, _ = get_linear_reg_results(Xs_com_lp[\"revenue\"],ys_com_lp[\"revenue\"],test_size,seed)\n",
    "print(\"Normalized MAE revenue: \"+str(revenue_com_nmae))"
   ]
  },
  {
   "cell_type": "code",
   "execution_count": 136,
   "metadata": {},
   "outputs": [
    {
     "name": "stdout",
     "output_type": "stream",
     "text": [
      "Normalized MAE popularity: 0.04300490754563347\n"
     ]
    }
   ],
   "source": [
    "# Worse than vanilla LR\n",
    "y_popularity_com_pred, popularity_com_nmae, _ = get_linear_reg_results(Xs_com_lp[\"popularity\"],ys_com_lp[\"popularity\"],test_size,seed)\n",
    "print(\"Normalized MAE popularity: \"+str(popularity_com_nmae))"
   ]
  },
  {
   "cell_type": "code",
   "execution_count": 138,
   "metadata": {},
   "outputs": [
    {
     "name": "stdout",
     "output_type": "stream",
     "text": [
      "Normalized MAE vote average: 0.03345200714837459\n"
     ]
    }
   ],
   "source": [
    "# Better than vanilla LR\n",
    "y_vote_average_com_pred, vote_average_com_nmae, _ = get_linear_reg_results(Xs_com_lp[\"vote_average\"],ys_com_lp[\"vote_average\"],test_size,seed)\n",
    "print(\"Normalized MAE vote average: \"+str(vote_average_com_nmae))"
   ]
  },
  {
   "cell_type": "markdown",
   "metadata": {},
   "source": [
    "## Band pass"
   ]
  },
  {
   "cell_type": "code",
   "execution_count": 139,
   "metadata": {},
   "outputs": [
    {
     "name": "stdout",
     "output_type": "stream",
     "text": [
      "Normalized MAE budget: 0.029864704534328285\n"
     ]
    }
   ],
   "source": [
    "# Better than vanilla LR\n",
    "y_budget_pred, budget_nmae, _ = get_linear_reg_results(Xs_bp[\"budget\"],ys_bp[\"budget\"],test_size,seed)\n",
    "print(\"Normalized MAE budget: \"+str(budget_nmae))"
   ]
  },
  {
   "cell_type": "code",
   "execution_count": 143,
   "metadata": {},
   "outputs": [
    {
     "name": "stdout",
     "output_type": "stream",
     "text": [
      "Normalized MAE revenue: 0.019870952451698915\n"
     ]
    }
   ],
   "source": [
    "# Better than vanilla LR\n",
    "y_revenue_pred, revenue_nmae, _ = get_linear_reg_results(Xs_bp[\"revenue\"],ys_bp[\"revenue\"],test_size,seed)\n",
    "print(\"Normalized MAE revenue: \"+str(revenue_nmae))"
   ]
  },
  {
   "cell_type": "code",
   "execution_count": 142,
   "metadata": {},
   "outputs": [
    {
     "name": "stdout",
     "output_type": "stream",
     "text": [
      "Normalized MAE popularity: 0.04319556160629556\n"
     ]
    }
   ],
   "source": [
    "# Worse than vanilla LR\n",
    "y_popularity_pred,popularity_nmae, _ = get_linear_reg_results(Xs_bp[\"popularity\"],ys_bp[\"popularity\"],test_size,seed)\n",
    "print(\"Normalized MAE popularity: \"+str(popularity_nmae))"
   ]
  },
  {
   "cell_type": "code",
   "execution_count": 144,
   "metadata": {},
   "outputs": [
    {
     "name": "stdout",
     "output_type": "stream",
     "text": [
      "Normalized MAE vote_average: 0.0333420209335887\n"
     ]
    }
   ],
   "source": [
    "# Better than vanilla LR\n",
    "y_vote_average_pred,vote_average_nmae, _ = get_linear_reg_results(Xs_bp[\"vote_average\"],ys_bp[\"vote_average\"],test_size,seed)\n",
    "print(\"Normalized MAE vote_average: \"+str(vote_average_nmae))"
   ]
  },
  {
   "cell_type": "markdown",
   "metadata": {},
   "source": [
    "## Band pass with communities"
   ]
  },
  {
   "cell_type": "code",
   "execution_count": 145,
   "metadata": {},
   "outputs": [
    {
     "name": "stdout",
     "output_type": "stream",
     "text": [
      "Normalized MAE budget: 0.029080765866805997\n"
     ]
    }
   ],
   "source": [
    "# Better than vanilla LR\n",
    "y_budget_com_pred, budget_com_nmae, _ = get_linear_reg_results(Xs_com_bp[\"budget\"],ys_com_bp[\"budget\"],test_size,seed)\n",
    "print(\"Normalized MAE budget: \"+str(budget_com_nmae))"
   ]
  },
  {
   "cell_type": "code",
   "execution_count": 147,
   "metadata": {},
   "outputs": [
    {
     "name": "stdout",
     "output_type": "stream",
     "text": [
      "Normalized MAE revenue: 0.019902773498509982\n"
     ]
    }
   ],
   "source": [
    "# Better than vanilla LR\n",
    "y_revenue_com_pred, revenue_com_nmae, _ = get_linear_reg_results(Xs_com_bp[\"revenue\"],ys_com_bp[\"revenue\"],test_size,seed)\n",
    "print(\"Normalized MAE revenue: \"+str(revenue_com_nmae))"
   ]
  },
  {
   "cell_type": "code",
   "execution_count": 148,
   "metadata": {},
   "outputs": [
    {
     "name": "stdout",
     "output_type": "stream",
     "text": [
      "Normalized MAE popularity: 0.04249996925963499\n"
     ]
    }
   ],
   "source": [
    "# Better than vanilla LR\n",
    "y_popularity_com_pred, popularity_com_nmae, _ = get_linear_reg_results(Xs_com_bp[\"popularity\"],ys_com_bp[\"popularity\"],test_size,seed)\n",
    "print(\"Normalized MAE popularity: \"+str(popularity_com_nmae))"
   ]
  },
  {
   "cell_type": "code",
   "execution_count": 149,
   "metadata": {},
   "outputs": [
    {
     "name": "stdout",
     "output_type": "stream",
     "text": [
      "Normalized MAE vote average: 0.03340285581751198\n"
     ]
    }
   ],
   "source": [
    "# Better than vanilla LR\n",
    "y_vote_average_com_pred, vote_average_com_nmae, _ = get_linear_reg_results(Xs_com_bp[\"vote_average\"],ys_com_bp[\"vote_average\"],test_size,seed)\n",
    "print(\"Normalized MAE vote average: \"+str(vote_average_com_nmae))"
   ]
  },
  {
   "cell_type": "markdown",
   "metadata": {},
   "source": [
    "## Tikhonov"
   ]
  },
  {
   "cell_type": "code",
   "execution_count": 150,
   "metadata": {},
   "outputs": [
    {
     "name": "stdout",
     "output_type": "stream",
     "text": [
      "Normalized MAE budget: 0.05046659069286355\n"
     ]
    }
   ],
   "source": [
    "# Better than vanilla LR\n",
    "y_budget_pred, budget_nmae, _ = get_linear_reg_results(Xs_tk[\"budget\"],ys_tk[\"budget\"],test_size,seed)\n",
    "print(\"Normalized MAE budget: \"+str(budget_nmae))"
   ]
  },
  {
   "cell_type": "code",
   "execution_count": 151,
   "metadata": {},
   "outputs": [
    {
     "name": "stdout",
     "output_type": "stream",
     "text": [
      "Normalized MAE revenue: 0.028305018875898178\n"
     ]
    }
   ],
   "source": [
    "# Better than vanilla LR\n",
    "y_revenue_pred, revenue_nmae, _ = get_linear_reg_results(Xs_tk[\"revenue\"],ys_tk[\"revenue\"],test_size,seed)\n",
    "print(\"Normalized MAE revenue: \"+str(revenue_nmae))"
   ]
  },
  {
   "cell_type": "code",
   "execution_count": 152,
   "metadata": {},
   "outputs": [
    {
     "name": "stdout",
     "output_type": "stream",
     "text": [
      "Normalized MAE popularity: 0.06069344351326073\n"
     ]
    }
   ],
   "source": [
    "# Worse than vanilla LR\n",
    "y_popularity_pred,popularity_nmae, _ = get_linear_reg_results(Xs_tk[\"popularity\"],ys_tk[\"popularity\"],test_size,seed)\n",
    "print(\"Normalized MAE popularity: \"+str(popularity_nmae))"
   ]
  },
  {
   "cell_type": "code",
   "execution_count": 159,
   "metadata": {},
   "outputs": [
    {
     "name": "stdout",
     "output_type": "stream",
     "text": [
      "Normalized MAE vote average: 0.051929251686079154\n"
     ]
    }
   ],
   "source": [
    "# Better than vanilla LR\n",
    "y_vote_average_pred, vote_average_nmae, _ = get_linear_reg_results(Xs_tk[\"vote_average\"],ys_tk[\"vote_average\"],test_size,seed)\n",
    "print(\"Normalized MAE vote average: \"+str(vote_average_com_nmae))"
   ]
  },
  {
   "cell_type": "markdown",
   "metadata": {},
   "source": [
    "## Tikhonov with communities"
   ]
  },
  {
   "cell_type": "code",
   "execution_count": 154,
   "metadata": {},
   "outputs": [
    {
     "name": "stdout",
     "output_type": "stream",
     "text": [
      "Normalized MAE budget: 0.04649059228451098\n"
     ]
    }
   ],
   "source": [
    "# Better than vanilla LR\n",
    "y_budget_com_pred, budget_com_nmae, _ = get_linear_reg_results(Xs_com_tk[\"budget\"],ys_com_tk[\"budget\"],test_size,seed)\n",
    "print(\"Normalized MAE budget: \"+str(budget_com_nmae))"
   ]
  },
  {
   "cell_type": "code",
   "execution_count": 155,
   "metadata": {},
   "outputs": [
    {
     "name": "stdout",
     "output_type": "stream",
     "text": [
      "Normalized MAE revenue: 0.028139101863799382\n"
     ]
    }
   ],
   "source": [
    "# Better than vanilla LR\n",
    "y_revenue_com_pred, revenue_com_nmae, _ = get_linear_reg_results(Xs_com_tk[\"revenue\"],ys_com_tk[\"revenue\"],test_size,seed)\n",
    "print(\"Normalized MAE revenue: \"+str(revenue_nmae_com))"
   ]
  },
  {
   "cell_type": "code",
   "execution_count": 157,
   "metadata": {},
   "outputs": [
    {
     "name": "stdout",
     "output_type": "stream",
     "text": [
      "Normalized MAE popularity: 0.05958096618106214\n"
     ]
    }
   ],
   "source": [
    "# Worse than vanilla LR\n",
    "y_popularity_com_pred, popularity_com_nmae, _ = get_linear_reg_results(Xs_com_tk[\"popularity\"],ys_com_tk[\"popularity\"],test_size,seed)\n",
    "print(\"Normalized MAE popularity: \"+str(popularity_com_nmae))"
   ]
  },
  {
   "cell_type": "code",
   "execution_count": 160,
   "metadata": {},
   "outputs": [
    {
     "name": "stdout",
     "output_type": "stream",
     "text": [
      "Normalized MAE vote average: 0.051929251686079154\n"
     ]
    }
   ],
   "source": [
    "# Better than vanilla LR\n",
    "y_vote_average_com_pred, vote_average_com_nmae, _ = get_linear_reg_results(Xs_com_tk[\"vote_average\"],ys_com_tk[\"vote_average\"],test_size,seed)\n",
    "print(\"Normalized MAE vote average: \"+str(vote_average_com_nmae))"
   ]
  }
 ],
 "metadata": {
  "kernelspec": {
   "display_name": "Python 3",
   "language": "python",
   "name": "python3"
  },
  "language_info": {
   "codemirror_mode": {
    "name": "ipython",
    "version": 3
   },
   "file_extension": ".py",
   "mimetype": "text/x-python",
   "name": "python",
   "nbconvert_exporter": "python",
   "pygments_lexer": "ipython3",
   "version": "3.7.3"
  }
 },
 "nbformat": 4,
 "nbformat_minor": 4
}
