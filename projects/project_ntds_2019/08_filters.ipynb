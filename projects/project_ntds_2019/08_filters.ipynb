{
 "cells": [
  {
   "cell_type": "code",
   "execution_count": 2,
   "metadata": {},
   "outputs": [],
   "source": [
    "import pandas as pd\n",
    "import networkx as nx\n",
    "import matplotlib.pyplot as plt\n",
    "import numpy as np\n",
    "from scipy import sparse\n",
    "from project_utils import *\n",
    "from pygsp import graphs, filters\n",
    "\n",
    "%load_ext autoreload\n",
    "%autoreload 2"
   ]
  },
  {
   "cell_type": "code",
   "execution_count": 3,
   "metadata": {},
   "outputs": [],
   "source": [
    "# Load data and graph\n",
    "actors_agg_adj = np.load(\"sparse_agg_actor_adj.npy\")\n",
    "actors_agg_df = pd.read_pickle(\"actors_agg_df.pkl\")\n",
    "actors_graph = nx.from_numpy_matrix(actors_agg_adj)\n",
    "G = graphs.Graph(actors_agg_adj)"
   ]
  },
  {
   "cell_type": "code",
   "execution_count": 4,
   "metadata": {},
   "outputs": [],
   "source": [
    "# Laplacian and spectral decomposition\n",
    "G.compute_laplacian('combinatorial')\n",
    "laplacian = G.L.toarray()\n",
    "lam, U = np.linalg.eig(laplacian)"
   ]
  },
  {
   "cell_type": "code",
   "execution_count": 5,
   "metadata": {},
   "outputs": [],
   "source": [
    "# Create ideal high-pass filter\n",
    "ideal_hp = np.ones((actors_agg_adj.shape[0],))\n",
    "ideal_hp[lam <= 1] = 0  # High-pass filter with cut-off at lambda=0.1\n",
    "\n",
    "# Create ideal low-pass filter\n",
    "ideal_lp = np.ones((actors_agg_adj.shape[0],))\n",
    "ideal_lp[lam >= 0.1] = 0  # Low-pass filter with cut-off at lambda=0.1\n",
    "\n",
    "# Create ideal band-pass filter\n",
    "ideal_bp = np.ones((actors_agg_adj.shape[0],))\n",
    "ideal_bp[lam < 0.1] = 0  # Band-pass filter with cut-offs at lambda=0.1 and lambda=0.5\n",
    "ideal_bp[lam > 0.5] = 0\n",
    "\n",
    "# Create ideal Tikhonov filter\n",
    "alpha = 0.99 / np.max(lam)\n",
    "ideal_tk = np.ones((actors_agg_adj.shape[0],))\n",
    "ideal_tk = 1 / (1 + alpha * lam)"
   ]
  },
  {
   "cell_type": "code",
   "execution_count": 6,
   "metadata": {},
   "outputs": [],
   "source": [
    "# Create polynomial graph filter with given order\n",
    "def graph_filter(order, ideal):\n",
    "    coeff = fit_polynomial(lam, order, ideal)\n",
    "    return polynomial_graph_filter(coeff, laplacian)"
   ]
  },
  {
   "cell_type": "code",
   "execution_count": 7,
   "metadata": {},
   "outputs": [],
   "source": [
    "# Create polynomial graph filters\n",
    "order = 3\n",
    "g_f_hp = graph_filter(order, ideal_hp) # High-pass\n",
    "g_f_lp = graph_filter(order, ideal_lp) # Low-pass\n",
    "g_f_bp = graph_filter(order, ideal_bp) # Band-pass\n",
    "g_f_tk = graph_filter(order, ideal_tk) # Tikhonov"
   ]
  },
  {
   "cell_type": "code",
   "execution_count": 8,
   "metadata": {},
   "outputs": [],
   "source": [
    "def apply_filter_and_add_communities(graph_filter):\n",
    "    # Get only continous features\n",
    "    continuous_features = actors_agg_df.filter([\"budget\", \"revenue\", \"vote_average\", \"popularity\"]).to_numpy()\n",
    "    # Apply filter\n",
    "    x_filtered = graph_filter @ continuous_features\n",
    "    x_filtered_df = pd.DataFrame(data=x_filtered, columns=[\"budget\", \"revenue\", \"vote_average\", \"popularity\"])\n",
    "    # Update dataframe with new filtered columns\n",
    "    new_df = actors_agg_df.copy()\n",
    "    new_df.update(x_filtered_df)\n",
    "    # Add communities column\n",
    "    communities_df = pd.DataFrame(data=actors_with_comunities_dataset[:,-1], columns=[\"community\"])\n",
    "    communities_df[\"community\"] = communities_df[\"community\"].apply(np.int)\n",
    "    new_df = new_df.merge(communities_df, left_index=True, right_index=True)\n",
    "    return new_df"
   ]
  },
  {
   "cell_type": "code",
   "execution_count": 9,
   "metadata": {},
   "outputs": [
    {
     "ename": "FileNotFoundError",
     "evalue": "[Errno 2] No such file or directory: 'actors_with_communities_dataset.npy'",
     "output_type": "error",
     "traceback": [
      "\u001b[0;31m---------------------------------------------------------------------------\u001b[0m",
      "\u001b[0;31mFileNotFoundError\u001b[0m                         Traceback (most recent call last)",
      "\u001b[0;32m<ipython-input-9-fdd4688ebd52>\u001b[0m in \u001b[0;36m<module>\u001b[0;34m\u001b[0m\n\u001b[0;32m----> 1\u001b[0;31m \u001b[0mactors_with_comunities_dataset\u001b[0m \u001b[0;34m=\u001b[0m \u001b[0mnp\u001b[0m\u001b[0;34m.\u001b[0m\u001b[0mload\u001b[0m\u001b[0;34m(\u001b[0m\u001b[0;34m\"actors_with_communities_dataset.npy\"\u001b[0m\u001b[0;34m)\u001b[0m\u001b[0;34m\u001b[0m\u001b[0;34m\u001b[0m\u001b[0m\n\u001b[0m\u001b[1;32m      2\u001b[0m \u001b[0;31m# Apply filter, get new dataframes\u001b[0m\u001b[0;34m\u001b[0m\u001b[0;34m\u001b[0m\u001b[0;34m\u001b[0m\u001b[0m\n\u001b[1;32m      3\u001b[0m \u001b[0mhp_new_df\u001b[0m \u001b[0;34m=\u001b[0m \u001b[0mapply_filter_and_add_communities\u001b[0m\u001b[0;34m(\u001b[0m\u001b[0mg_f_hp\u001b[0m\u001b[0;34m)\u001b[0m \u001b[0;31m# high-pass filter new dataframe\u001b[0m\u001b[0;34m\u001b[0m\u001b[0;34m\u001b[0m\u001b[0m\n\u001b[1;32m      4\u001b[0m \u001b[0mlp_new_df\u001b[0m \u001b[0;34m=\u001b[0m \u001b[0mapply_filter_and_add_communities\u001b[0m\u001b[0;34m(\u001b[0m\u001b[0mg_f_lp\u001b[0m\u001b[0;34m)\u001b[0m \u001b[0;31m# low-pass filter new dataframe\u001b[0m\u001b[0;34m\u001b[0m\u001b[0;34m\u001b[0m\u001b[0m\n\u001b[1;32m      5\u001b[0m \u001b[0mbp_new_df\u001b[0m \u001b[0;34m=\u001b[0m \u001b[0mapply_filter_and_add_communities\u001b[0m\u001b[0;34m(\u001b[0m\u001b[0mg_f_bp\u001b[0m\u001b[0;34m)\u001b[0m \u001b[0;31m# band-pass filter new dataframe\u001b[0m\u001b[0;34m\u001b[0m\u001b[0;34m\u001b[0m\u001b[0m\n",
      "\u001b[0;32m~/anaconda3/envs/ntds_2019/lib/python3.7/site-packages/numpy/lib/npyio.py\u001b[0m in \u001b[0;36mload\u001b[0;34m(file, mmap_mode, allow_pickle, fix_imports, encoding)\u001b[0m\n\u001b[1;32m    382\u001b[0m     \u001b[0mown_fid\u001b[0m \u001b[0;34m=\u001b[0m \u001b[0;32mFalse\u001b[0m\u001b[0;34m\u001b[0m\u001b[0;34m\u001b[0m\u001b[0m\n\u001b[1;32m    383\u001b[0m     \u001b[0;32mif\u001b[0m \u001b[0misinstance\u001b[0m\u001b[0;34m(\u001b[0m\u001b[0mfile\u001b[0m\u001b[0;34m,\u001b[0m \u001b[0mbasestring\u001b[0m\u001b[0;34m)\u001b[0m\u001b[0;34m:\u001b[0m\u001b[0;34m\u001b[0m\u001b[0;34m\u001b[0m\u001b[0m\n\u001b[0;32m--> 384\u001b[0;31m         \u001b[0mfid\u001b[0m \u001b[0;34m=\u001b[0m \u001b[0mopen\u001b[0m\u001b[0;34m(\u001b[0m\u001b[0mfile\u001b[0m\u001b[0;34m,\u001b[0m \u001b[0;34m\"rb\"\u001b[0m\u001b[0;34m)\u001b[0m\u001b[0;34m\u001b[0m\u001b[0;34m\u001b[0m\u001b[0m\n\u001b[0m\u001b[1;32m    385\u001b[0m         \u001b[0mown_fid\u001b[0m \u001b[0;34m=\u001b[0m \u001b[0;32mTrue\u001b[0m\u001b[0;34m\u001b[0m\u001b[0;34m\u001b[0m\u001b[0m\n\u001b[1;32m    386\u001b[0m     \u001b[0;32melif\u001b[0m \u001b[0mis_pathlib_path\u001b[0m\u001b[0;34m(\u001b[0m\u001b[0mfile\u001b[0m\u001b[0;34m)\u001b[0m\u001b[0;34m:\u001b[0m\u001b[0;34m\u001b[0m\u001b[0;34m\u001b[0m\u001b[0m\n",
      "\u001b[0;31mFileNotFoundError\u001b[0m: [Errno 2] No such file or directory: 'actors_with_communities_dataset.npy'"
     ]
    }
   ],
   "source": [
    "actors_with_comunities_dataset = np.load(\"actors_with_communities_dataset.npy\")\n",
    "# Apply filter, get new dataframes\n",
    "hp_new_df = apply_filter_and_add_communities(g_f_hp) # high-pass filter new dataframe\n",
    "lp_new_df = apply_filter_and_add_communities(g_f_lp) # low-pass filter new dataframe\n",
    "bp_new_df = apply_filter_and_add_communities(g_f_bp) # band-pass filter new dataframe\n",
    "tk_new_df = apply_filter_and_add_communities(g_f_tk) # Tikhonov filter new dataframe"
   ]
  },
  {
   "cell_type": "code",
   "execution_count": null,
   "metadata": {},
   "outputs": [],
   "source": []
  }
 ],
 "metadata": {
  "kernelspec": {
   "display_name": "Python 3",
   "language": "python",
   "name": "python3"
  },
  "language_info": {
   "codemirror_mode": {
    "name": "ipython",
    "version": 3
   },
   "file_extension": ".py",
   "mimetype": "text/x-python",
   "name": "python",
   "nbconvert_exporter": "python",
   "pygments_lexer": "ipython3",
   "version": "3.7.3"
  }
 },
 "nbformat": 4,
 "nbformat_minor": 4
}
