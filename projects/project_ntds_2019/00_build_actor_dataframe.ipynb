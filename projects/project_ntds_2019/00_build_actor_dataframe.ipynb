{
 "cells": [
  {
   "cell_type": "markdown",
   "metadata": {},
   "source": [
    "# Build actor dataframe"
   ]
  },
  {
   "cell_type": "code",
   "execution_count": null,
   "metadata": {},
   "outputs": [],
   "source": [
    "import pandas as pd\n",
    "import numpy as np\n",
    "import matplotlib.pyplot as plt\n",
    "import json\n",
    "import csv\n",
    "from project_utils import *\n",
    "from pandas.io.json import json_normalize\n",
    "from functools import reduce\n",
    "\n",
    "%reload_ext lab_black"
   ]
  },
  {
   "cell_type": "code",
   "execution_count": null,
   "metadata": {},
   "outputs": [],
   "source": [
    "credits_df = pd.read_csv(\"./data/tmdb_5000_credits.csv\", sep=\",\", quotechar='\"')\n",
    "credits_df.head()"
   ]
  },
  {
   "cell_type": "code",
   "execution_count": null,
   "metadata": {},
   "outputs": [],
   "source": [
    "movies_df = pd.read_csv(\"./data/tmdb_5000_movies.csv\", sep=\",\", quotechar='\"').rename(\n",
    "    {\"id\": \"movie_id\"}, axis=1\n",
    ")\n",
    "movies_df.head()"
   ]
  },
  {
   "cell_type": "code",
   "execution_count": null,
   "metadata": {},
   "outputs": [],
   "source": [
    "movies_df = pd.read_csv(\"./data/tmdb_5000_movies.csv\", sep=\",\", quotechar='\"').rename(\n",
    "    {\"id\": \"movie_id\"}, axis=1\n",
    ")\n",
    "movies_df.head()"
   ]
  },
  {
   "cell_type": "markdown",
   "metadata": {},
   "source": [
    "## Process movies DataFrame\n",
    "Flatten and clean movies DataFrame"
   ]
  },
  {
   "cell_type": "code",
   "execution_count": null,
   "metadata": {},
   "outputs": [],
   "source": [
    "pr_movies_df = movies_df.copy()\n",
    "# Transform json to list of dictionaries within cols\n",
    "movies_df_json_cols = [\n",
    "    \"genres\",\n",
    "    \"production_companies\",\n",
    "    \"keywords\",\n",
    "    \"production_countries\",\n",
    "    \"spoken_languages\",\n",
    "]\n",
    "cols_to_drop = [\"homepage\", \"overview\", \"tagline\", \"original_title\"]\n",
    "key = \"name\"\n",
    "movie_id_col = \"movie_id\"\n",
    "pr_movies_df = col_json_to_dict(pr_movies_df, movies_df_json_cols)\n",
    "\n",
    "# Transform list of dictionaries to sets containing a relevant value from dictionaries\n",
    "for col in movies_df_json_cols:\n",
    "    pr_movies_df = col_dict_to_set(pr_movies_df, col, key)\n",
    "pr_movies_df = pr_movies_df.drop(columns=cols_to_drop)\n",
    "pr_movies_df.head()"
   ]
  },
  {
   "cell_type": "markdown",
   "metadata": {},
   "source": [
    "## Process credits DataFrame\n",
    "Flatten and clean credits DataFrame"
   ]
  },
  {
   "cell_type": "code",
   "execution_count": null,
   "metadata": {},
   "outputs": [],
   "source": [
    "pr_credits_df = credits_df.copy()\n",
    "\n",
    "# Parse json cols to list of dictionaries\n",
    "credits_df_json_cols = [\"cast\", \"crew\"]\n",
    "key = \"name\"\n",
    "pr_credits_df = col_json_to_dict(pr_credits_df, credits_df_json_cols)\n",
    "# Create the actors col\n",
    "pr_credits_df = pr_credits_df.assign(actors=pr_credits_df[credits_df_json_cols[0]])\n",
    "# Get sets of relevant values from the lists of dictionaries\n",
    "for col in credits_df_json_cols:\n",
    "    if col != \"crew\":\n",
    "        pr_credits_df = col_dict_to_set(pr_credits_df, col, key)"
   ]
  },
  {
   "cell_type": "code",
   "execution_count": null,
   "metadata": {},
   "outputs": [],
   "source": [
    "# Filter crew dictionaries with Director as job\n",
    "crew_col = \"crew\"\n",
    "job_field = \"job\"\n",
    "values = [\"Director\"]\n",
    "pr_credits_df = col_filter_dict_with_vals(\n",
    "    pr_credits_df, crew_col, job_field, values\n",
    ").rename({crew_col: values[0]})\n",
    "pr_credits_df = col_dict_to_set(pr_credits_df, crew_col, key)"
   ]
  },
  {
   "cell_type": "code",
   "execution_count": null,
   "metadata": {},
   "outputs": [],
   "source": [
    "# Select a specific number of actors as nodes\n",
    "actors_col = \"actors\"\n",
    "order_field = \"order\"\n",
    "# Set the actor importances (the order key. The main actor is order 0) to consider for taking an actor as a node\n",
    "values = [0]\n",
    "pr_credits_df = col_filter_dict_with_vals(\n",
    "    pr_credits_df, actors_col, order_field, values\n",
    ").rename({crew_col: values[0]})\n",
    "\n",
    "get_value = lambda dict_: dict_.get(key)\n",
    "\n",
    "pr_credits_df = pr_credits_df.explode(actors_col)\n",
    "pr_credits_df = pr_credits_df[pr_credits_df[actors_col].notna()]\n",
    "actors_series = pr_credits_df[actors_col]\n",
    "pr_credits_df = pr_credits_df.assign(\n",
    "    **{actors_col: pr_credits_df[actors_col].apply(get_value)}\n",
    ")"
   ]
  },
  {
   "cell_type": "code",
   "execution_count": null,
   "metadata": {},
   "outputs": [],
   "source": [
    "# Remove actors taken as nodes from cast column\n",
    "actor_cast_col = \"actor_cast\"\n",
    "pr_credits_df = pr_credits_df.reset_index(drop=True)\n",
    "remove_from_cast = lambda row: row[credits_df_json_cols[0]] - set({row[actors_col]})\n",
    "pr_credits_df = pr_credits_df.assign(\n",
    "    **{credits_df_json_cols[0]: pr_credits_df.apply(remove_from_cast, axis=1)}\n",
    ").drop(columns=\"title\")\n",
    "pr_credits_df.head()"
   ]
  },
  {
   "cell_type": "markdown",
   "metadata": {},
   "source": [
    "## Build actors index DataFrame\n",
    "Get actors index and most relevant features"
   ]
  },
  {
   "cell_type": "code",
   "execution_count": null,
   "metadata": {},
   "outputs": [],
   "source": [
    "actor_cols = [\"name\", \"gender\", \"order\"]\n",
    "actors_idx_df = json_normalize(actors_series)[actor_cols]\n",
    "actors_idx_df = (\n",
    "    actors_idx_df.rename(columns={actor_cols[0]: actors_col})\n",
    "    .groupby(actors_col)\n",
    "    .aggregate({actor_cols[1]: max, actor_cols[2]: list})\n",
    "    .reset_index()\n",
    "    .reset_index()\n",
    "    .rename(columns={\"index\": \"actor_id\"})\n",
    ")\n",
    "actors_idx_df.head()"
   ]
  },
  {
   "cell_type": "markdown",
   "metadata": {},
   "source": [
    "## Build actors_index-credits DataFrame\n",
    "Add actor features to the credits DataFrame"
   ]
  },
  {
   "cell_type": "code",
   "execution_count": null,
   "metadata": {},
   "outputs": [],
   "source": [
    "actors_idx_credits_df = pr_credits_df.merge(\n",
    "    actors_idx_df, right_on=actors_col, left_on=actors_col, how=\"inner\"\n",
    ")\n",
    "actors_idx_credits_df.head(20)"
   ]
  },
  {
   "cell_type": "markdown",
   "metadata": {},
   "source": [
    "## Build movies index DataFrame\n",
    "Re-index movies "
   ]
  },
  {
   "cell_type": "code",
   "execution_count": null,
   "metadata": {},
   "outputs": [],
   "source": [
    "movie_id_col = \"movie_id\"\n",
    "title_col = \"title\"\n",
    "new_movie_id_col = \"new_movie_id\"\n",
    "movies_idx_df = (\n",
    "    pr_movies_df[[movie_id_col, title_col]]\n",
    "    .drop_duplicates()\n",
    "    .reset_index()\n",
    "    .rename(columns={\"index\": new_movie_id_col})\n",
    ")\n",
    "movies_idx_df.head()"
   ]
  },
  {
   "cell_type": "markdown",
   "metadata": {},
   "source": [
    "## Build actors-movies-credits DataFrame\n",
    "Get actors from each movie and append their respective credits"
   ]
  },
  {
   "cell_type": "code",
   "execution_count": null,
   "metadata": {},
   "outputs": [],
   "source": [
    "actors_movies_credits_df = actors_idx_credits_df.merge(\n",
    "    pr_movies_df, right_on=movie_id_col, left_on=movie_id_col, how=\"inner\"\n",
    ")\n",
    "actors_movies_credits_df = (\n",
    "    actors_movies_credits_df.merge(\n",
    "        movies_idx_df.drop(columns=title_col),\n",
    "        right_on=movie_id_col,\n",
    "        left_on=movie_id_col,\n",
    "        how=\"inner\",\n",
    "    )\n",
    "    .drop(columns=movie_id_col)\n",
    "    .rename(columns={new_movie_id_col: movie_id_col})\n",
    ")\n",
    "actors_movies_credits_df.head()"
   ]
  },
  {
   "cell_type": "markdown",
   "metadata": {},
   "source": [
    "## Build actors aggregated DataFrame"
   ]
  },
  {
   "cell_type": "code",
   "execution_count": null,
   "metadata": {},
   "outputs": [],
   "source": [
    "get_union = lambda s: reduce(set.union, s)\n",
    "actor_id_col = \"actor_id\"\n",
    "actors_agg_df = (\n",
    "    actors_movies_credits_df.groupby(actors_col, as_index=False)\n",
    "    .aggregate(\n",
    "        {\n",
    "            \"movie_id\": set,\n",
    "            \"cast\": get_union,\n",
    "            \"crew\": get_union,\n",
    "            \"actor_id\": max,\n",
    "            \"gender\": max,\n",
    "            \"budget\": \"mean\",\n",
    "            \"genres\": get_union,\n",
    "            \"keywords\": get_union,\n",
    "            \"original_language\": set,\n",
    "            \"popularity\": \"mean\",\n",
    "            \"production_companies\": get_union,\n",
    "            \"production_countries\": get_union,\n",
    "            \"release_date\": list,\n",
    "            \"revenue\": \"mean\",\n",
    "            \"runtime\": sum,\n",
    "            \"spoken_languages\": get_union,\n",
    "            \"status\": list,\n",
    "            \"title\": set,\n",
    "            \"vote_average\": \"mean\",\n",
    "            \"vote_count\": \"mean\",\n",
    "        }\n",
    "    )\n",
    "    .set_index(actor_id_col)\n",
    ")\n",
    "actors_agg_df.head()"
   ]
  },
  {
   "cell_type": "code",
   "execution_count": null,
   "metadata": {},
   "outputs": [],
   "source": [
    "actors_agg_df.to_csv(\"actors_agg_df.csv\")"
   ]
  },
  {
   "cell_type": "markdown",
   "metadata": {},
   "source": [
    "## Tests"
   ]
  },
  {
   "cell_type": "code",
   "execution_count": null,
   "metadata": {},
   "outputs": [],
   "source": [
    "actors_agg_df = pd.read_csv(\"actors_agg_df.csv\").replace(\"'\", \"\", regex=True)"
   ]
  },
  {
   "cell_type": "code",
   "execution_count": null,
   "metadata": {},
   "outputs": [],
   "source": [
    "actors_agg_df.head()"
   ]
  }
 ],
 "metadata": {
  "kernelspec": {
   "display_name": "Python 3 (ntds_2019)",
   "language": "python",
   "name": "ntds_2019"
  },
  "language_info": {
   "codemirror_mode": {
    "name": "ipython",
    "version": 3
   },
   "file_extension": ".py",
   "mimetype": "text/x-python",
   "name": "python",
   "nbconvert_exporter": "python",
   "pygments_lexer": "ipython3",
   "version": "3.7.3"
  }
 },
 "nbformat": 4,
 "nbformat_minor": 4
}
