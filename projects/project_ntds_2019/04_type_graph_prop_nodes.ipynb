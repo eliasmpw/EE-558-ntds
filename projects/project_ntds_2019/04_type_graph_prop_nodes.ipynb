{
 "cells": [
  {
   "cell_type": "code",
   "execution_count": null,
   "metadata": {},
   "outputs": [],
   "source": [
    "import pandas as pd\n",
    "import matplotlib.pyplot as plt\n",
    "import numpy as np\n",
    "import networkx as nx\n",
    "import seaborn as sns\n",
    "import collections"
   ]
  },
  {
   "cell_type": "markdown",
   "metadata": {},
   "source": [
    "# Type of the graph\n",
    "(e.g., power law, small world, regular, sampled manifold)"
   ]
  },
  {
   "cell_type": "code",
   "execution_count": null,
   "metadata": {},
   "outputs": [],
   "source": [
    "actors_agg_adj = np.load(\"sparse_agg_actor_adj.npy\")\n",
    "actors_agg_df = pd.read_pickle(\"actors_agg_df.pkl\")\n",
    "actors_graph = nx.from_numpy_matrix(actors_agg_adj)"
   ]
  },
  {
   "cell_type": "code",
   "execution_count": null,
   "metadata": {},
   "outputs": [],
   "source": [
    "# Test Small World\n",
    "# Average clustering coefficient\n",
    "clustering_coefficient = nx.average_clustering(actors_graph)\n",
    "mean_shortest_path = nx.average_shortest_path_length(actors_graph)\n",
    "d = nx.diameter(actors_graph)\n",
    "\n",
    "# Erdős–Rényi to test\n",
    "n = len(actors_graph.nodes)\n",
    "m = actors_graph.size()\n",
    "p = 2 * m / (n * (n - 1))\n",
    "G_er = nx.erdos_renyi_graph(n, p)\n",
    "clustering_coefficient2 = nx.average_clustering(G_er)\n",
    "mean_shortest_path2 = nx.average_shortest_path_length(actors_graph)"
   ]
  },
  {
   "cell_type": "markdown",
   "metadata": {},
   "source": [
    "Thus, it means that the network is not a small world type of graph, because its clustering coefficient is not small"
   ]
  },
  {
   "cell_type": "markdown",
   "metadata": {},
   "source": [
    "For the other types of graphs:"
   ]
  },
  {
   "cell_type": "code",
   "execution_count": null,
   "metadata": {},
   "outputs": [],
   "source": [
    "degree_sequence = sorted(\n",
    "    [degree for node, degree in actors_graph.degree()], reverse=True\n",
    ")  # degree sequence\n",
    "degreeCount = collections.Counter(degree_sequence)\n",
    "deg, cnt = zip(*degreeCount.items())\n",
    "\n",
    "fig, ax = plt.subplots()\n",
    "plt.bar(deg, cnt, width=0.80, color=\"b\")\n",
    "plt.grid(True)"
   ]
  },
  {
   "cell_type": "code",
   "execution_count": null,
   "metadata": {},
   "outputs": [],
   "source": [
    "# Average Degree\n",
    "sum([degree for node, degree in actors_graph.degree()]) / len(actors_graph.nodes)"
   ]
  },
  {
   "cell_type": "code",
   "execution_count": null,
   "metadata": {},
   "outputs": [],
   "source": []
  },
  {
   "cell_type": "code",
   "execution_count": null,
   "metadata": {},
   "outputs": [],
   "source": []
  },
  {
   "cell_type": "code",
   "execution_count": null,
   "metadata": {},
   "outputs": [],
   "source": [
    "def plot_degree_distribution():\n",
    "    degs = {}\n",
    "    for n in actors_graph.nodes():\n",
    "        deg = actors_graph.degree(n)\n",
    "        if deg not in degs:\n",
    "            degs[deg] = 0\n",
    "        degs[deg] += 1\n",
    "    items = sorted(degs.items())\n",
    "    fig = plt.figure()\n",
    "    ax = fig.add_subplot(111)\n",
    "    ax.plot([k for (k, v) in items], [v for (k, v) in items])\n",
    "\n",
    "plot_degree_distribution()"
   ]
  },
  {
   "cell_type": "markdown",
   "metadata": {},
   "source": [
    "Other graphs type is the scale free or Power law graph, however looking at the degree distribution clearly we can see that is not a power-law "
   ]
  },
  {
   "cell_type": "markdown",
   "metadata": {},
   "source": [
    "Looking at the degree distribution we can see that graph is a random graph following a uniformal distribution"
   ]
  },
  {
   "cell_type": "markdown",
   "metadata": {},
   "source": [
    "It is not a regular graph because nodes does not have the same degree as seen below:"
   ]
  },
  {
   "cell_type": "code",
   "execution_count": null,
   "metadata": {},
   "outputs": [],
   "source": [
    "# regular graph\n",
    "for node, degree in sorted(actors_graph.degree(), key=lambda x: x[1], reverse=True)[:5]:\n",
    "    print(f\"node {node}: degree: {degree}\")"
   ]
  },
  {
   "cell_type": "code",
   "execution_count": null,
   "metadata": {},
   "outputs": [],
   "source": [
    "# sample manifold"
   ]
  },
  {
   "cell_type": "code",
   "execution_count": null,
   "metadata": {},
   "outputs": [],
   "source": []
  },
  {
   "cell_type": "code",
   "execution_count": null,
   "metadata": {},
   "outputs": [],
   "source": []
  },
  {
   "cell_type": "markdown",
   "metadata": {},
   "source": [
    "# Properties of nodes\n",
    "(e.g., clustering coefficient, modularity, centrality)"
   ]
  },
  {
   "cell_type": "code",
   "execution_count": null,
   "metadata": {},
   "outputs": [],
   "source": [
    "# Average clustering coefficient\n",
    "print(clustering_coefficient)"
   ]
  },
  {
   "cell_type": "code",
   "execution_count": null,
   "metadata": {},
   "outputs": [],
   "source": [
    "# Degree centrality sorted\n",
    "degree_centrality = nx.degree_centrality(actors_graph)\n",
    "sorted_centrality = sorted(\n",
    "    degree_centrality.items(), key=lambda kv: kv[1], reverse=True\n",
    ")"
   ]
  },
  {
   "cell_type": "code",
   "execution_count": null,
   "metadata": {},
   "outputs": [],
   "source": [
    "# Actors that have more dense connections\n",
    "for node_id, centrality in sorted_centrality[:5]:\n",
    "    print(actors_agg_df.loc[node_id, \"actors\"], centrality)"
   ]
  },
  {
   "cell_type": "code",
   "execution_count": null,
   "metadata": {},
   "outputs": [],
   "source": [
    "# Actors that does not have dense connections\n",
    "for node_id, centrality in sorted_centrality[-5:]:\n",
    "    print(actors_agg_df.loc[node_id, \"actors\"], centrality)"
   ]
  },
  {
   "cell_type": "code",
   "execution_count": null,
   "metadata": {},
   "outputs": [],
   "source": [
    "# modularity"
   ]
  },
  {
   "cell_type": "code",
   "execution_count": null,
   "metadata": {},
   "outputs": [],
   "source": []
  }
 ],
 "metadata": {
  "kernelspec": {
   "display_name": "Python 3",
   "language": "python",
   "name": "python3"
  },
  "language_info": {
   "codemirror_mode": {
    "name": "ipython",
    "version": 3
   },
   "file_extension": ".py",
   "mimetype": "text/x-python",
   "name": "python",
   "nbconvert_exporter": "python",
   "pygments_lexer": "ipython3",
   "version": "3.7.4"
  }
 },
 "nbformat": 4,
 "nbformat_minor": 4
}
