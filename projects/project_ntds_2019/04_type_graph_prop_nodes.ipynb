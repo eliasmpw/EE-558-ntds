{
 "cells": [
  {
   "cell_type": "code",
   "execution_count": 1,
   "metadata": {},
   "outputs": [],
   "source": [
    "import pandas as pd\n",
    "import matplotlib.pyplot as plt\n",
    "import numpy as np\n",
    "import networkx as nx\n",
    "import seaborn as sns\n",
    "import collections"
   ]
  },
  {
   "cell_type": "markdown",
   "metadata": {},
   "source": [
    "# Type of the graph\n",
    "(e.g., power law, small world, regular, sampled manifold)"
   ]
  },
  {
   "cell_type": "code",
   "execution_count": 2,
   "metadata": {},
   "outputs": [],
   "source": [
    "actors_agg_adj = np.load(\"sparse_agg_actor_adj.npy\")\n",
    "actors_agg_df = pd.read_pickle(\"actors_agg_df.pkl\")\n",
    "actors_graph = nx.from_numpy_matrix(actors_agg_adj)"
   ]
  },
  {
   "cell_type": "code",
   "execution_count": 3,
   "metadata": {},
   "outputs": [],
   "source": [
    "# Average clustering coefficient\n",
    "clustering_coefficient = nx.average_clustering(actors_graph)"
   ]
  },
  {
   "cell_type": "markdown",
   "metadata": {},
   "source": [
    "Thus, it means that the network is not a small world type of graph, because its clustering coefficient is not small"
   ]
  },
  {
   "cell_type": "markdown",
   "metadata": {},
   "source": [
    "For the other types of graphs:"
   ]
  },
  {
   "cell_type": "code",
   "execution_count": 4,
   "metadata": {},
   "outputs": [],
   "source": [
    "# power law"
   ]
  },
  {
   "cell_type": "code",
   "execution_count": 5,
   "metadata": {},
   "outputs": [],
   "source": [
    "# regular graph"
   ]
  },
  {
   "cell_type": "code",
   "execution_count": 6,
   "metadata": {},
   "outputs": [],
   "source": [
    "# sample manifold"
   ]
  },
  {
   "cell_type": "markdown",
   "metadata": {},
   "source": [
    "# Properties of nodes\n",
    "(e.g., clustering coefficient, modularity, centrality)"
   ]
  },
  {
   "cell_type": "code",
   "execution_count": 7,
   "metadata": {},
   "outputs": [
    {
     "name": "stdout",
     "output_type": "stream",
     "text": [
      "0.6403268534042411\n"
     ]
    }
   ],
   "source": [
    "# Average clustering coefficient\n",
    "print(clustering_coefficient)"
   ]
  },
  {
   "cell_type": "code",
   "execution_count": 8,
   "metadata": {},
   "outputs": [],
   "source": [
    "# Degree centrality sorted\n",
    "degree_centrality = nx.degree_centrality(actors_graph)\n",
    "sorted_centrality = sorted(\n",
    "    degree_centrality.items(), key=lambda kv: kv[1], reverse=True\n",
    ")"
   ]
  },
  {
   "cell_type": "code",
   "execution_count": 9,
   "metadata": {},
   "outputs": [
    {
     "name": "stdout",
     "output_type": "stream",
     "text": [
      "Britney Spears 0.7812182741116752\n",
      "Melissa Joan Hart 0.7578680203045686\n",
      "Orlando Jones 0.733502538071066\n",
      "Nicholas Rowe 0.7324873096446701\n",
      "Tom Selleck 0.7279187817258883\n"
     ]
    }
   ],
   "source": [
    "# Actors that have more dense connections\n",
    "for node_id, centrality in sorted_centrality[:5]:\n",
    "    print(actors_agg_df.loc[node_id, \"actors\"], centrality)"
   ]
  },
  {
   "cell_type": "code",
   "execution_count": 10,
   "metadata": {},
   "outputs": [
    {
     "name": "stdout",
     "output_type": "stream",
     "text": [
      "Ben Youcef 0.0040609137055837565\n",
      "Caitlin Fitzgerald 0.003553299492385787\n",
      "Kirby Heyborne 0.0015228426395939086\n",
      "J.D. Williams 0.0010152284263959391\n",
      "Toshirō Mifune 0.0010152284263959391\n"
     ]
    }
   ],
   "source": [
    "# Actors that does not have dense connections\n",
    "for node_id, centrality in sorted_centrality[-5:]:\n",
    "    print(actors_agg_df.loc[node_id, \"actors\"], centrality)"
   ]
  },
  {
   "cell_type": "code",
   "execution_count": 11,
   "metadata": {},
   "outputs": [],
   "source": [
    "# modularity"
   ]
  },
  {
   "cell_type": "code",
   "execution_count": null,
   "metadata": {},
   "outputs": [],
   "source": []
  }
 ],
 "metadata": {
  "kernelspec": {
   "display_name": "Python 3",
   "language": "python",
   "name": "python3"
  },
  "language_info": {
   "codemirror_mode": {
    "name": "ipython",
    "version": 3
   },
   "file_extension": ".py",
   "mimetype": "text/x-python",
   "name": "python",
   "nbconvert_exporter": "python",
   "pygments_lexer": "ipython3",
   "version": "3.7.3"
  }
 },
 "nbformat": 4,
 "nbformat_minor": 4
}
