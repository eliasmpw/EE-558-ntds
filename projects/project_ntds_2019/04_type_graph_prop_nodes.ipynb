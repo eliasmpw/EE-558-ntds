{
 "cells": [
  {
   "cell_type": "code",
   "execution_count": 1,
   "metadata": {},
   "outputs": [],
   "source": [
    "import collections\n",
    "import math\n",
    "import matplotlib.pyplot as plt\n",
    "import numpy as np\n",
    "import networkx as nx\n",
    "import pandas as pd\n",
    "import seaborn as sns"
   ]
  },
  {
   "cell_type": "markdown",
   "metadata": {},
   "source": [
    "# Type of the graph\n"
   ]
  },
  {
   "cell_type": "code",
   "execution_count": 2,
   "metadata": {},
   "outputs": [],
   "source": [
    "actors_agg_adj = np.load(\"sparse_agg_actor_adj.npy\")\n",
    "actors_agg_df = pd.read_pickle(\"actors_agg_df.pkl\")\n",
    "actors_graph = nx.from_numpy_matrix(actors_agg_adj)"
   ]
  },
  {
   "cell_type": "markdown",
   "metadata": {},
   "source": [
    "It is not a regular graph because nodes does not have the same degree as seen below:"
   ]
  },
  {
   "cell_type": "code",
   "execution_count": 3,
   "metadata": {},
   "outputs": [
    {
     "name": "stdout",
     "output_type": "stream",
     "text": [
      "node 243: degree: 1539\n",
      "node 1295: degree: 1493\n",
      "node 1437: degree: 1445\n",
      "node 1400: degree: 1443\n",
      "node 1864: degree: 1434\n"
     ]
    }
   ],
   "source": [
    "# regular graph\n",
    "for node, degree in sorted(actors_graph.degree(), key=lambda x: x[1], reverse=True)[:5]:\n",
    "    print(f\"node {node}: degree: {degree}\")"
   ]
  },
  {
   "cell_type": "code",
   "execution_count": 4,
   "metadata": {},
   "outputs": [],
   "source": [
    "# degree list with node_id as index\n",
    "degree_list = [degree for node, degree in actors_graph.degree()]"
   ]
  },
  {
   "cell_type": "code",
   "execution_count": 5,
   "metadata": {},
   "outputs": [
    {
     "data": {
      "image/png": "[encoded data removed]",
      "text/plain": [
       "<Figure size 1080x720 with 1 Axes>"
      ]
     },
     "metadata": {
      "needs_background": "light"
     },
     "output_type": "display_data"
    }
   ],
   "source": [
    "degree_sequence = sorted(degree_list, reverse=True)  # degree sequence\n",
    "degreeCount = collections.Counter(degree_sequence)\n",
    "deg, cnt = zip(*degreeCount.items())\n",
    "\n",
    "plt.figure(figsize=(15, 10))\n",
    "plt.bar(deg, cnt, width=0.80, color=\"b\")\n",
    "plt.title(\"Degree Distribution\")\n",
    "plt.xlabel(\"Degree\")\n",
    "plt.ylabel(\"Frequency\")\n",
    "plt.grid(True)\n",
    "plt.savefig(\"plots/degree_distribution.pdf\")\n",
    "plt.show()"
   ]
  },
  {
   "cell_type": "markdown",
   "metadata": {},
   "source": [
    "Other graphs type is the scale free or Power law graph, however looking at the degree distribution clearly we can see that it is not a power-law "
   ]
  },
  {
   "cell_type": "markdown",
   "metadata": {},
   "source": [
    "Looking at the degree distribution we can see that graph is a random graph"
   ]
  },
  {
   "cell_type": "code",
   "execution_count": 6,
   "metadata": {},
   "outputs": [
    {
     "name": "stdout",
     "output_type": "stream",
     "text": [
      "590.388635210553\n"
     ]
    }
   ],
   "source": [
    "# Average Degree\n",
    "average_degree = sum([degree for node, degree in actors_graph.degree()]) / len(\n",
    "    actors_graph.nodes\n",
    ")\n",
    "print(average_degree)"
   ]
  },
  {
   "cell_type": "code",
   "execution_count": 7,
   "metadata": {},
   "outputs": [
    {
     "data": {
      "text/plain": [
       "1.1889291105368636"
      ]
     },
     "execution_count": 7,
     "metadata": {},
     "output_type": "execute_result"
    }
   ],
   "source": [
    "math.log(len(actors_graph.degree())) / math.log(average_degree)"
   ]
  },
  {
   "cell_type": "code",
   "execution_count": 8,
   "metadata": {},
   "outputs": [],
   "source": [
    "# Test Small World\n",
    "# Average clustering coefficient\n",
    "clustering_coefficient = nx.average_clustering(actors_graph)\n",
    "mean_shortest_path = nx.average_shortest_path_length(actors_graph)\n",
    "\n",
    "# Erdős–Rényi to test\n",
    "n = len(actors_graph.nodes)\n",
    "m = actors_graph.size()\n",
    "p = 2 * m / (n * (n - 1))\n",
    "G_er = nx.erdos_renyi_graph(n, p)\n",
    "clustering_coefficient_er = nx.average_clustering(G_er)\n",
    "mean_shortest_path_er = nx.average_shortest_path_length(actors_graph)"
   ]
  },
  {
   "cell_type": "code",
   "execution_count": 9,
   "metadata": {},
   "outputs": [
    {
     "data": {
      "text/plain": [
       "2.1370106555862423"
      ]
     },
     "execution_count": 9,
     "metadata": {},
     "output_type": "execute_result"
    }
   ],
   "source": [
    "clustering_coefficient / clustering_coefficient_er"
   ]
  },
  {
   "cell_type": "code",
   "execution_count": 10,
   "metadata": {},
   "outputs": [
    {
     "data": {
      "text/plain": [
       "1.0"
      ]
     },
     "execution_count": 10,
     "metadata": {},
     "output_type": "execute_result"
    }
   ],
   "source": [
    "mean_shortest_path / mean_shortest_path_er"
   ]
  },
  {
   "cell_type": "markdown",
   "metadata": {},
   "source": [
    "Thus, it means that the network is a small world, due to the comparison between network statistics like clustering coefficient and the mean shortest path. The comparison is done with a similar Erdős–Rényi generated network. Small networks should have some spatial structure, that is reflected on a bigger clustering coefficient."
   ]
  },
  {
   "cell_type": "markdown",
   "metadata": {},
   "source": [
    "# Properties of nodes"
   ]
  },
  {
   "cell_type": "code",
   "execution_count": 11,
   "metadata": {},
   "outputs": [
    {
     "name": "stdout",
     "output_type": "stream",
     "text": [
      "0.6403268534042411\n"
     ]
    }
   ],
   "source": [
    "# Average clustering coefficient\n",
    "print(clustering_coefficient)"
   ]
  },
  {
   "cell_type": "code",
   "execution_count": 12,
   "metadata": {},
   "outputs": [],
   "source": [
    "# Degree centrality sorted\n",
    "degree_centrality = nx.degree_centrality(actors_graph)\n",
    "sorted_centrality = sorted(\n",
    "    degree_centrality.items(), key=lambda kv: kv[1], reverse=True\n",
    ")"
   ]
  },
  {
   "cell_type": "code",
   "execution_count": 13,
   "metadata": {},
   "outputs": [
    {
     "name": "stdout",
     "output_type": "stream",
     "text": [
      "Britney Spears 0.7812182741116752\n",
      "Melissa Joan Hart 0.7578680203045686\n",
      "Orlando Jones 0.733502538071066\n",
      "Nicholas Rowe 0.7324873096446701\n",
      "Tom Selleck 0.7279187817258883\n"
     ]
    }
   ],
   "source": [
    "# Actors that have more dense connections\n",
    "for node_id, centrality in sorted_centrality[:5]:\n",
    "    print(actors_agg_df.loc[node_id, \"actors\"], centrality)"
   ]
  },
  {
   "cell_type": "code",
   "execution_count": 14,
   "metadata": {},
   "outputs": [
    {
     "name": "stdout",
     "output_type": "stream",
     "text": [
      "Ben Youcef 0.0040609137055837565\n",
      "Caitlin Fitzgerald 0.003553299492385787\n",
      "Kirby Heyborne 0.0015228426395939086\n",
      "J.D. Williams 0.0010152284263959391\n",
      "Toshirō Mifune 0.0010152284263959391\n"
     ]
    }
   ],
   "source": [
    "# Actors that does not have dense connections\n",
    "for node_id, centrality in sorted_centrality[-5:]:\n",
    "    print(actors_agg_df.loc[node_id, \"actors\"], centrality)"
   ]
  },
  {
   "cell_type": "code",
   "execution_count": 15,
   "metadata": {},
   "outputs": [
    {
     "name": "stdout",
     "output_type": "stream",
     "text": [
      "Actor's hubs: number 964\n"
     ]
    },
    {
     "data": {
      "text/plain": [
       "actor_id\n",
       "1                 50 Cent\n",
       "2             AJ Michalka\n",
       "4            Aaron Abrams\n",
       "8          Aaron Stanford\n",
       "10      Aasheekaa Bathija\n",
       "              ...        \n",
       "1965           Zhang Ziyi\n",
       "1966            Zoe Kazan\n",
       "1967     Zoe Lister-Jones\n",
       "1968          Zoe Saldana\n",
       "1970      Zooey Deschanel\n",
       "Name: actors, Length: 964, dtype: object"
      ]
     },
     "execution_count": 15,
     "metadata": {},
     "output_type": "execute_result"
    }
   ],
   "source": [
    "# hubs\n",
    "degrees_np = np.array(degree_list)\n",
    "\n",
    "# nodes that have degree greater than average\n",
    "indexes = np.where(degrees_np > average_degree)[0]\n",
    "print(f\"Actor's hubs: number {len(indexes)}\")\n",
    "actors_agg_df.loc[np.array(indexes), \"actors\"]"
   ]
  },
  {
   "cell_type": "code",
   "execution_count": null,
   "metadata": {},
   "outputs": [],
   "source": []
  }
 ],
 "metadata": {
  "kernelspec": {
   "display_name": "Python 3",
   "language": "python",
   "name": "python3"
  },
  "language_info": {
   "codemirror_mode": {
    "name": "ipython",
    "version": 3
   },
   "file_extension": ".py",
   "mimetype": "text/x-python",
   "name": "python",
   "nbconvert_exporter": "python",
   "pygments_lexer": "ipython3",
   "version": "3.7.3"
  }
 },
 "nbformat": 4,
 "nbformat_minor": 4
}
