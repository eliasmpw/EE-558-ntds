{
 "cells": [
  {
   "cell_type": "code",
   "execution_count": null,
   "metadata": {},
   "outputs": [],
   "source": [
    "import collections\n",
    "import math\n",
    "import matplotlib.pyplot as plt\n",
    "import numpy as np\n",
    "import networkx as nx\n",
    "import pandas as pd\n",
    "import seaborn as sns"
   ]
  },
  {
   "cell_type": "markdown",
   "metadata": {},
   "source": [
    "# Type of the graph\n"
   ]
  },
  {
   "cell_type": "code",
   "execution_count": null,
   "metadata": {},
   "outputs": [],
   "source": [
    "actors_agg_adj = np.load(\"sparse_agg_actor_adj.npy\")\n",
    "actors_agg_df = pd.read_pickle(\"actors_agg_df.pkl\")\n",
    "actors_graph = nx.from_numpy_matrix(actors_agg_adj)"
   ]
  },
  {
   "cell_type": "markdown",
   "metadata": {},
   "source": [
    "It is not a regular graph because nodes does not have the same degree as seen below:"
   ]
  },
  {
   "cell_type": "code",
   "execution_count": null,
   "metadata": {},
   "outputs": [],
   "source": [
    "# regular graph\n",
    "for node, degree in sorted(actors_graph.degree(), key=lambda x: x[1], reverse=True)[:5]:\n",
    "    print(f\"node {node}: degree: {degree}\")"
   ]
  },
  {
   "cell_type": "code",
   "execution_count": null,
   "metadata": {},
   "outputs": [],
   "source": [
    "# degree list with node_id as index\n",
    "degree_list = [degree for node, degree in actors_graph.degree()]"
   ]
  },
  {
   "cell_type": "code",
   "execution_count": null,
   "metadata": {},
   "outputs": [],
   "source": [
    "degree_sequence = sorted(degree_list, reverse=True)  # degree sequence\n",
    "degreeCount = collections.Counter(degree_sequence)\n",
    "deg, cnt = zip(*degreeCount.items())\n",
    "\n",
    "plt.figure(figsize=(15, 10))\n",
    "plt.bar(deg, cnt, width=0.80, color=\"b\")\n",
    "plt.title(\"Degree Distribution\")\n",
    "plt.xlabel(\"Degree\")\n",
    "plt.ylabel(\"Frequency\")\n",
    "plt.grid(True)\n",
    "plt.savefig(\"plots/degree_distribution.png\")\n",
    "plt.show()"
   ]
  },
  {
   "cell_type": "markdown",
   "metadata": {},
   "source": [
    "Other graphs type is the scale free or Power law graph, however looking at the degree distribution clearly we can see that it is not a power-law "
   ]
  },
  {
   "cell_type": "markdown",
   "metadata": {},
   "source": [
    "Looking at the degree distribution we can see that graph is a random graph"
   ]
  },
  {
   "cell_type": "code",
   "execution_count": null,
   "metadata": {},
   "outputs": [],
   "source": [
    "# Average Degree\n",
    "average_degree = sum([degree for node, degree in actors_graph.degree()]) / len(\n",
    "    actors_graph.nodes\n",
    ")\n",
    "print(average_degree)"
   ]
  },
  {
   "cell_type": "code",
   "execution_count": null,
   "metadata": {},
   "outputs": [],
   "source": [
    "math.log(len(actors_graph.degree())) / math.log(average_degree)"
   ]
  },
  {
   "cell_type": "code",
   "execution_count": null,
   "metadata": {},
   "outputs": [],
   "source": [
    "# Test Small World\n",
    "# Average clustering coefficient\n",
    "clustering_coefficient = nx.average_clustering(actors_graph)\n",
    "mean_shortest_path = nx.average_shortest_path_length(actors_graph)\n",
    "\n",
    "# Erdős–Rényi to test\n",
    "n = len(actors_graph.nodes)\n",
    "m = actors_graph.size()\n",
    "p = 2 * m / (n * (n - 1))\n",
    "G_er = nx.erdos_renyi_graph(n, p)\n",
    "clustering_coefficient_er = nx.average_clustering(G_er)\n",
    "mean_shortest_path_er = nx.average_shortest_path_length(actors_graph)"
   ]
  },
  {
   "cell_type": "code",
   "execution_count": null,
   "metadata": {},
   "outputs": [],
   "source": [
    "clustering_coefficient / clustering_coefficient_er"
   ]
  },
  {
   "cell_type": "code",
   "execution_count": null,
   "metadata": {},
   "outputs": [],
   "source": [
    "mean_shortest_path / mean_shortest_path_er"
   ]
  },
  {
   "cell_type": "markdown",
   "metadata": {},
   "source": [
    "Thus, it means that the network is a small world, due to the comparison between network statistics like clustering coefficient and the mean shortest path. The comparison is done with a similar Erdős–Rényi generated network. Small networks should have some spatial structure, that is reflected on a bigger clustering coefficient."
   ]
  },
  {
   "cell_type": "markdown",
   "metadata": {},
   "source": [
    "# Properties of nodes"
   ]
  },
  {
   "cell_type": "code",
   "execution_count": null,
   "metadata": {},
   "outputs": [],
   "source": [
    "# Average clustering coefficient\n",
    "print(clustering_coefficient)"
   ]
  },
  {
   "cell_type": "code",
   "execution_count": null,
   "metadata": {},
   "outputs": [],
   "source": [
    "# Degree centrality sorted\n",
    "degree_centrality = nx.degree_centrality(actors_graph)\n",
    "sorted_centrality = sorted(\n",
    "    degree_centrality.items(), key=lambda kv: kv[1], reverse=True\n",
    ")"
   ]
  },
  {
   "cell_type": "code",
   "execution_count": null,
   "metadata": {},
   "outputs": [],
   "source": [
    "# Actors that have more dense connections\n",
    "actors_col = \"actor_name\"\n",
    "for node_id, centrality in sorted_centrality[:5]:\n",
    "    print(actors_agg_df.loc[node_id, actors_col], centrality)"
   ]
  },
  {
   "cell_type": "code",
   "execution_count": null,
   "metadata": {},
   "outputs": [],
   "source": [
    "# Actors that does not have dense connections\n",
    "for node_id, centrality in sorted_centrality[-5:]:\n",
    "    print(actors_agg_df.loc[node_id, actors_col], centrality)"
   ]
  },
  {
   "cell_type": "code",
   "execution_count": null,
   "metadata": {},
   "outputs": [],
   "source": [
    "# hubs\n",
    "degrees_np = np.array(degree_list)\n",
    "\n",
    "# nodes that have degree greater than average\n",
    "indexes = np.where(degrees_np > average_degree)[0]\n",
    "print(f\"Actor's hubs: number {len(indexes)}\")\n",
    "actors_agg_df.loc[np.array(indexes), actors_col]"
   ]
  },
  {
   "cell_type": "code",
   "execution_count": null,
   "metadata": {},
   "outputs": [],
   "source": []
  }
 ],
 "metadata": {
  "kernelspec": {
   "display_name": "Python 3",
   "language": "python",
   "name": "python3"
  },
  "language_info": {
   "codemirror_mode": {
    "name": "ipython",
    "version": 3
   },
   "file_extension": ".py",
   "mimetype": "text/x-python",
   "name": "python",
   "nbconvert_exporter": "python",
   "pygments_lexer": "ipython3",
   "version": "3.7.3"
  }
 },
 "nbformat": 4,
 "nbformat_minor": 4
}
