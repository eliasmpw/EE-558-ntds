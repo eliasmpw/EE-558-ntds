{
 "cells": [
  {
   "cell_type": "code",
   "execution_count": null,
   "metadata": {},
   "outputs": [],
   "source": [
    "import pandas as pd\n",
    "import json\n",
    "import matplotlib.pyplot as plt\n",
    "import numpy as np\n",
    "import json\n",
    "import networkx as nx\n",
    "from project_utils import *\n",
    "from pandas.io.json import json_normalize\n",
    "from functools import reduce\n",
    "from scipy import sparse\n",
    "\n",
    "%reload_ext lab_black"
   ]
  },
  {
   "cell_type": "code",
   "execution_count": null,
   "metadata": {},
   "outputs": [],
   "source": [
    "credits_df = pd.read_csv(\"./data/tmdb_5000_credits.csv\", sep=\",\", quotechar='\"')\n",
    "credits_df.head()"
   ]
  },
  {
   "cell_type": "code",
   "execution_count": null,
   "metadata": {},
   "outputs": [],
   "source": [
    "movies_df = pd.read_csv(\"./data/tmdb_5000_movies.csv\", sep=\",\", quotechar='\"').rename(\n",
    "    {\"id\": \"movie_id\"}, axis=1\n",
    ")\n",
    "movies_df.head()"
   ]
  },
  {
   "cell_type": "code",
   "execution_count": null,
   "metadata": {},
   "outputs": [],
   "source": [
    "credits_df_cp = credits_df.copy()\n",
    "movies_df_cp = movies_df.copy()"
   ]
  },
  {
   "cell_type": "markdown",
   "metadata": {},
   "source": [
    "## Clean movies_df_cp"
   ]
  },
  {
   "cell_type": "code",
   "execution_count": null,
   "metadata": {},
   "outputs": [],
   "source": [
    "# movies with empty genre field\n",
    "len(movies_df_cp[movies_df_cp.astype(str)[\"genres\"] == \"[]\"])"
   ]
  },
  {
   "cell_type": "code",
   "execution_count": null,
   "metadata": {},
   "outputs": [],
   "source": [
    "# movies with empty production_companies field\n",
    "len(movies_df_cp[movies_df_cp.astype(str)[\"production_companies\"] == \"[]\"])"
   ]
  },
  {
   "cell_type": "code",
   "execution_count": null,
   "metadata": {},
   "outputs": [],
   "source": [
    "# movies with empty production_companies field\n",
    "len(movies_df_cp[movies_df_cp.astype(str)[\"production_countries\"] == \"[]\"])"
   ]
  },
  {
   "cell_type": "code",
   "execution_count": null,
   "metadata": {},
   "outputs": [],
   "source": [
    "# movies with empty production_companies field\n",
    "len(movies_df_cp[movies_df_cp.astype(str)[\"spoken_languages\"] == \"[]\"])"
   ]
  },
  {
   "cell_type": "markdown",
   "metadata": {},
   "source": [
    "## Process movies df"
   ]
  },
  {
   "cell_type": "code",
   "execution_count": null,
   "metadata": {},
   "outputs": [],
   "source": [
    "pr_movies_df = movies_df_cp\n",
    "len(pr_movies_df)"
   ]
  },
  {
   "cell_type": "code",
   "execution_count": null,
   "metadata": {},
   "outputs": [],
   "source": [
    "pr_movies_df.head()"
   ]
  },
  {
   "cell_type": "code",
   "execution_count": null,
   "metadata": {},
   "outputs": [],
   "source": [
    "# Transform json to list of dictionaries within cols\n",
    "movies_df_json_cols = [\n",
    "    \"genres\",\n",
    "    \"production_companies\",\n",
    "    \"keywords\",\n",
    "    \"production_countries\",\n",
    "    \"spoken_languages\",\n",
    "]\n",
    "cols_to_drop = [\"homepage\", \"overview\", \"tagline\", \"original_title\"]\n",
    "key = \"name\"\n",
    "movie_id_col = \"movie_id\"\n",
    "\n",
    "pr_movies_df = col_json_to_dict(pr_movies_df, movies_df_json_cols)\n",
    "for col in movies_df_json_cols:\n",
    "    pr_movies_df = col_dict_to_set(pr_movies_df, col, key)\n",
    "pr_movies_df = pr_movies_df.drop(columns=cols_to_drop)\n",
    "pr_movies_df.head()"
   ]
  },
  {
   "cell_type": "markdown",
   "metadata": {},
   "source": [
    "## Process credits df"
   ]
  },
  {
   "cell_type": "code",
   "execution_count": null,
   "metadata": {},
   "outputs": [],
   "source": [
    "pr_credits_df = credits_df_cp\n",
    "credits_df_json_cols = [\"cast\", \"crew\"]\n",
    "key = \"name\"\n",
    "pr_credits_df = col_json_to_dict(pr_credits_df, credits_df_json_cols)\n",
    "pr_credits_df = pr_credits_df.assign(actors=pr_credits_df[credits_df_json_cols[0]])\n",
    "for col in credits_df_json_cols:\n",
    "    if col != \"crew\":\n",
    "        pr_credits_df = col_dict_to_set(pr_credits_df, col, key)\n",
    "crew_col = \"crew\"\n",
    "job_field = \"job\"\n",
    "values = [\"Director\"]\n",
    "# Filter dictionaries with Director as job\n",
    "pr_credits_df = col_filter_dict_with_vals(\n",
    "    pr_credits_df, crew_col, job_field, values\n",
    ").rename({crew_col: values[0]})\n",
    "pr_credits_df = col_dict_to_set(pr_credits_df, crew_col, key)\n",
    "# Get actors col\n",
    "# Only select main actors to reduce the size of the dataset\n",
    "actors_col = \"actors\"\n",
    "order_field = \"order\"\n",
    "# Select the number of important actors\n",
    "values = [0, 1]\n",
    "pr_credits_df = col_filter_dict_with_vals(\n",
    "    pr_credits_df, actors_col, order_field, values\n",
    ").rename({crew_col: values[0]})\n",
    "\n",
    "get_value = lambda dict_: dict_.get(key)\n",
    "\n",
    "pr_credits_df = pr_credits_df.explode(actors_col)\n",
    "pr_credits_df = pr_credits_df[pr_credits_df[actors_col].notna()]\n",
    "actors_series = pr_credits_df[actors_col]\n",
    "pr_credits_df = pr_credits_df.assign(\n",
    "    **{actors_col: pr_credits_df[actors_col].apply(get_value)}\n",
    ")\n",
    "# Remove actor from cast\n",
    "actor_cast_col = \"actor_cast\"\n",
    "pr_credits_df = pr_credits_df.reset_index(drop=True)\n",
    "remove_from_cast = lambda row: row[credits_df_json_cols[0]] - set({row[actors_col]})\n",
    "pr_credits_df = pr_credits_df.assign(\n",
    "    **{credits_df_json_cols[0]: pr_credits_df.apply(remove_from_cast, axis=1)}\n",
    ").drop(columns=\"title\")\n",
    "pr_credits_df.head()"
   ]
  },
  {
   "cell_type": "code",
   "execution_count": null,
   "metadata": {},
   "outputs": [],
   "source": [
    "actor_cols = [\"name\", \"gender\", \"order\"]\n",
    "actors_df = json_normalize(actors_series)[actor_cols]\n",
    "actors_df = (\n",
    "    actors_df.rename(columns={actor_cols[0]: actors_col})\n",
    "    .groupby(actors_col)\n",
    "    .aggregate({actor_cols[1]: max, actor_cols[2]: list})\n",
    "    .reset_index()\n",
    "    .reset_index()\n",
    "    .rename(columns={\"index\": \"actor_id\"})\n",
    ")\n",
    "actors_df"
   ]
  },
  {
   "cell_type": "code",
   "execution_count": null,
   "metadata": {},
   "outputs": [],
   "source": [
    "actors_credits_df = pr_credits_df.merge(\n",
    "    actors_df, right_on=actors_col, left_on=actors_col, how=\"inner\"\n",
    ")\n",
    "actors_credits_df.head(20)"
   ]
  },
  {
   "cell_type": "code",
   "execution_count": null,
   "metadata": {},
   "outputs": [],
   "source": [
    "movie_id_col = \"movie_id\"\n",
    "new_movie_id_col = \"new_movie_id\"\n",
    "actors_movies_credits_df = actors_credits_df.merge(\n",
    "    pr_movies_df, right_on=movie_id_col, left_on=movie_id_col, how=\"inner\"\n",
    ")\n",
    "# Set new movie ids\n",
    "unique_movies_df = (\n",
    "    pr_movies_df[movie_id_col]\n",
    "    .to_frame()\n",
    "    .drop_duplicates()\n",
    "    .reset_index()\n",
    "    .rename(columns={\"index\": new_movie_id_col})\n",
    ")\n",
    "actors_movies_credits_df = (\n",
    "    actors_movies_credits_df.merge(\n",
    "        unique_movies_df, right_on=movie_id_col, left_on=movie_id_col, how=\"inner\"\n",
    "    )\n",
    "    .drop(columns=movie_id_col)\n",
    "    .rename(columns={new_movie_id_col: movie_id_col})\n",
    ")\n",
    "\n",
    "actors_movies_credits_df.head()"
   ]
  },
  {
   "cell_type": "code",
   "execution_count": null,
   "metadata": {},
   "outputs": [],
   "source": [
    "aux_movies_df = unique_movies_df.merge(\n",
    "    pr_movies_df[[\"movie_id\", \"title\"]].drop_duplicates(),\n",
    "    right_on=\"movie_id\",\n",
    "    left_on=\"movie_id\",\n",
    ")\n",
    "aux_movies_df.head()"
   ]
  },
  {
   "cell_type": "code",
   "execution_count": null,
   "metadata": {},
   "outputs": [],
   "source": [
    "actors_movies_credits_df.columns"
   ]
  },
  {
   "cell_type": "code",
   "execution_count": null,
   "metadata": {},
   "outputs": [],
   "source": [
    "len(actors_movies_credits_df)"
   ]
  },
  {
   "cell_type": "code",
   "execution_count": null,
   "metadata": {},
   "outputs": [],
   "source": [
    "get_union = lambda s: reduce(set.union, s)\n",
    "actor_id_col = \"actor_id\"\n",
    "actors_agg_df = (\n",
    "    actors_movies_credits_df.groupby(actors_col)\n",
    "    .aggregate(\n",
    "        {\n",
    "            \"movie_id\": set,\n",
    "            \"cast\": get_union,\n",
    "            \"crew\": get_union,\n",
    "            \"actor_id\": max,\n",
    "            \"gender\": max,\n",
    "            \"budget\": \"mean\",\n",
    "            \"genres\": get_union,\n",
    "            \"keywords\": get_union,\n",
    "            \"original_language\": set,\n",
    "            \"popularity\": \"mean\",\n",
    "            \"production_companies\": get_union,\n",
    "            \"production_countries\": get_union,\n",
    "            \"release_date\": list,\n",
    "            \"revenue\": \"mean\",\n",
    "            \"runtime\": sum,\n",
    "            \"spoken_languages\": get_union,\n",
    "            \"status\": list,\n",
    "            \"title\": set,\n",
    "            \"vote_average\": \"mean\",\n",
    "            \"vote_count\": \"mean\",\n",
    "        }\n",
    "    )\n",
    "    .set_index(actor_id_col)\n",
    ")\n",
    "actors_agg_df.head()"
   ]
  },
  {
   "cell_type": "markdown",
   "metadata": {},
   "source": [
    "## Build graph"
   ]
  },
  {
   "cell_type": "code",
   "execution_count": null,
   "metadata": {},
   "outputs": [],
   "source": [
    "nodes_df = actors_agg_df[[\"cast\", \"crew\", \"production_companies\", \"genres\", \"movie_id\"]]\n",
    "nodes_df.head()"
   ]
  },
  {
   "cell_type": "code",
   "execution_count": null,
   "metadata": {},
   "outputs": [],
   "source": [
    "dict_actor_id = dict(zip(actors_df[actors_col], actors_df[actor_id_col]))\n",
    "dict_id_actor = dict(zip(actors_df[actor_id_col], actors_df[actors_col]))"
   ]
  },
  {
   "cell_type": "markdown",
   "metadata": {},
   "source": [
    "## Get cast intersecctions length mat"
   ]
  },
  {
   "cell_type": "markdown",
   "metadata": {},
   "source": [
    "## Get cast intersections"
   ]
  },
  {
   "cell_type": "code",
   "execution_count": null,
   "metadata": {},
   "outputs": [],
   "source": [
    "col = \"cast\"\n",
    "cast_col = nodes_df[col]\n",
    "cast_adj_raw = get_intersections_length_adj_mat(cast_col)\n",
    "cast_adj_diag = np.diag(np.diag(cast_adj_raw))\n",
    "cast_adj = cast_adj_raw - cast_adj_diag"
   ]
  },
  {
   "cell_type": "code",
   "execution_count": null,
   "metadata": {},
   "outputs": [],
   "source": [
    "plt.spy(cast_adj)"
   ]
  },
  {
   "cell_type": "code",
   "execution_count": null,
   "metadata": {},
   "outputs": [],
   "source": [
    "np.save(\"cast_adj\", cast_adj)"
   ]
  },
  {
   "cell_type": "markdown",
   "metadata": {},
   "source": [
    "## Load cast adjacency matrix"
   ]
  },
  {
   "cell_type": "code",
   "execution_count": null,
   "metadata": {},
   "outputs": [],
   "source": [
    "cast_adj = np.load(\"cast_adj.npy\")"
   ]
  },
  {
   "cell_type": "code",
   "execution_count": null,
   "metadata": {},
   "outputs": [],
   "source": [
    "cast_adj.shape"
   ]
  },
  {
   "cell_type": "code",
   "execution_count": null,
   "metadata": {},
   "outputs": [],
   "source": [
    "node_degree = cast_adj.sum(axis=0)"
   ]
  },
  {
   "cell_type": "code",
   "execution_count": null,
   "metadata": {},
   "outputs": [],
   "source": [
    "most_connected_actors_id = np.argsort(-node_degree)[:20]\n",
    "most_connected_actors = [dict_id_actor.get(id_) for id_ in most_connected_actors_id]\n",
    "actors_df[actors_df[actor_id_col].isin(most_connected_actors_id)]\n",
    "print(most_connected_actors)"
   ]
  },
  {
   "cell_type": "markdown",
   "metadata": {},
   "source": [
    "## Get cast unions length mat"
   ]
  },
  {
   "cell_type": "code",
   "execution_count": null,
   "metadata": {},
   "outputs": [],
   "source": [
    "col = \"cast\"\n",
    "cast_col = nodes_df[col]\n",
    "cast_adj_union_raw = get_unions_length_adj_mat(cast_col)\n",
    "cast_adj_union_diag = np.diag(np.diag(cast_adj_union_raw))\n",
    "cast_adj_union = cast_adj_union_raw - cast_adj_union_diag"
   ]
  },
  {
   "cell_type": "code",
   "execution_count": null,
   "metadata": {},
   "outputs": [],
   "source": [
    "plt.imshow(cast_adj_union, cmap=\"hot\", interpolation=\"none\")"
   ]
  },
  {
   "cell_type": "code",
   "execution_count": null,
   "metadata": {},
   "outputs": [],
   "source": [
    "np.save(\"cast_adj_union\", cast_adj_union)"
   ]
  },
  {
   "cell_type": "markdown",
   "metadata": {},
   "source": [
    "## Get movies intersections length mat"
   ]
  },
  {
   "cell_type": "code",
   "execution_count": null,
   "metadata": {},
   "outputs": [],
   "source": [
    "col = \"movie_id\"\n",
    "movie_col = nodes_df[col]\n",
    "movie_adj_raw = get_intersections_length_adj_mat(movie_col)\n",
    "movie_adj_diag = np.diag(np.diag(movie_adj_raw))\n",
    "movie_adj = movie_adj_raw - movie_adj_diag"
   ]
  },
  {
   "cell_type": "code",
   "execution_count": null,
   "metadata": {},
   "outputs": [],
   "source": [
    "plt.spy(movie_adj)"
   ]
  },
  {
   "cell_type": "code",
   "execution_count": null,
   "metadata": {},
   "outputs": [],
   "source": [
    "np.save(\"movie_adj\", movie_adj)"
   ]
  },
  {
   "cell_type": "markdown",
   "metadata": {},
   "source": [
    "## Get movies union length mat"
   ]
  },
  {
   "cell_type": "code",
   "execution_count": null,
   "metadata": {},
   "outputs": [],
   "source": [
    "col = \"movie_id\"\n",
    "movie_col = nodes_df[col]\n",
    "movie_adj_union_raw = get_unions_length_adj_mat(movie_col)\n",
    "movie_adj_union_diag = np.diag(np.diag(movie_adj_union_raw))\n",
    "movie_adj_union = movie_adj_union_raw - movie_adj_union_diag"
   ]
  },
  {
   "cell_type": "code",
   "execution_count": null,
   "metadata": {},
   "outputs": [],
   "source": [
    "plt.imshow(movie_adj_union, cmap=\"hot\", interpolation=\"none\")"
   ]
  },
  {
   "cell_type": "code",
   "execution_count": null,
   "metadata": {},
   "outputs": [],
   "source": [
    "np.save(\"movie_adj_union\", movie_adj_union)"
   ]
  },
  {
   "cell_type": "markdown",
   "metadata": {},
   "source": [
    "## Get directors intersections lenght mat"
   ]
  },
  {
   "cell_type": "code",
   "execution_count": null,
   "metadata": {},
   "outputs": [],
   "source": [
    "col = \"crew\"\n",
    "crew_col = nodes_df[col]\n",
    "crew_adj_raw = get_intersections_length_adj_mat(crew_col)\n",
    "crew_adj_diag = np.diag(np.diag(crew_adj_raw))\n",
    "crew_adj = crew_adj_raw - crew_adj_diag"
   ]
  },
  {
   "cell_type": "code",
   "execution_count": null,
   "metadata": {},
   "outputs": [],
   "source": [
    "plt.spy(crew_adj)"
   ]
  },
  {
   "cell_type": "code",
   "execution_count": null,
   "metadata": {},
   "outputs": [],
   "source": [
    "np.save(\"crew_adj\", crew_adj)"
   ]
  },
  {
   "cell_type": "markdown",
   "metadata": {},
   "source": [
    "## Get directors union length mat"
   ]
  },
  {
   "cell_type": "code",
   "execution_count": null,
   "metadata": {},
   "outputs": [],
   "source": [
    "col = \"crew\"\n",
    "crew_col = nodes_df[col]\n",
    "crew_adj_union_raw = get_unions_length_adj_mat(crew_col)\n",
    "crew_adj_union_diag = np.diag(np.diag(crew_adj_union_raw))\n",
    "crew_adj_union = crew_adj_union_raw - crew_adj_union_diag"
   ]
  },
  {
   "cell_type": "code",
   "execution_count": null,
   "metadata": {},
   "outputs": [],
   "source": [
    "plt.imshow(crew_adj_union, cmap=\"hot\", interpolation=\"none\")"
   ]
  },
  {
   "cell_type": "code",
   "execution_count": null,
   "metadata": {},
   "outputs": [],
   "source": [
    "np.save(\"crew_adj_union\", crew_adj_union)"
   ]
  },
  {
   "cell_type": "markdown",
   "metadata": {},
   "source": [
    "## Get production companies intersections length mat"
   ]
  },
  {
   "cell_type": "code",
   "execution_count": null,
   "metadata": {},
   "outputs": [],
   "source": [
    "col = \"production_companies\"\n",
    "prod_comp_col = nodes_df[col]\n",
    "prod_comp_adj_raw = get_intersections_length_adj_mat(prod_comp_col)\n",
    "prod_comp_adj_diag = np.diag(np.diag(prod_comp_adj_raw))\n",
    "prod_comp_adj = prod_comp_adj_raw - prod_comp_adj_diag"
   ]
  },
  {
   "cell_type": "code",
   "execution_count": null,
   "metadata": {},
   "outputs": [],
   "source": [
    "plt.spy(prod_comp_adj)"
   ]
  },
  {
   "cell_type": "code",
   "execution_count": null,
   "metadata": {},
   "outputs": [],
   "source": [
    "np.save(\"prod_comp_adj\", prod_comp_adj)"
   ]
  },
  {
   "cell_type": "markdown",
   "metadata": {},
   "source": [
    "## Get production companies unions length mat"
   ]
  },
  {
   "cell_type": "code",
   "execution_count": null,
   "metadata": {},
   "outputs": [],
   "source": [
    "col = \"production_companies\"\n",
    "prod_comp_col = nodes_df[col]\n",
    "prod_comp_adj_union_raw = get_unions_length_adj_mat(prod_comp_col)\n",
    "prod_comp_adj_union_diag = np.diag(np.diag(prod_comp_adj_union_raw))\n",
    "prod_comp_adj_union = prod_comp_adj_union_raw - prod_comp_adj_union_diag"
   ]
  },
  {
   "cell_type": "code",
   "execution_count": null,
   "metadata": {},
   "outputs": [],
   "source": [
    "plt.imshow(prod_comp_adj_union, cmap=\"hot\", interpolation=\"none\")"
   ]
  },
  {
   "cell_type": "code",
   "execution_count": null,
   "metadata": {},
   "outputs": [],
   "source": [
    "np.save(\"prod_comp_adj_union\", prod_comp_adj_union)"
   ]
  },
  {
   "cell_type": "markdown",
   "metadata": {},
   "source": [
    "## Get genres intersections length mat"
   ]
  },
  {
   "cell_type": "code",
   "execution_count": null,
   "metadata": {},
   "outputs": [],
   "source": [
    "col = \"genres\"\n",
    "genres_col = nodes_df[col]\n",
    "genres_adj_raw = get_intersections_length_adj_mat(genres_col)\n",
    "genres_adj_diag = np.diag(np.diag(genres_adj_raw))\n",
    "genres_adj = genres_adj_raw - genres_adj_diag"
   ]
  },
  {
   "cell_type": "code",
   "execution_count": null,
   "metadata": {},
   "outputs": [],
   "source": [
    "plt.spy(genres_adj)"
   ]
  },
  {
   "cell_type": "code",
   "execution_count": null,
   "metadata": {},
   "outputs": [],
   "source": [
    "np.save(\"genres_adj\", genres_adj)"
   ]
  },
  {
   "cell_type": "markdown",
   "metadata": {},
   "source": [
    "## Get genres unions length mat"
   ]
  },
  {
   "cell_type": "code",
   "execution_count": null,
   "metadata": {},
   "outputs": [],
   "source": [
    "col = \"genres\"\n",
    "genres_col = nodes_df[col]\n",
    "genres_adj_union_raw = get_unions_length_adj_mat(genres_col)\n",
    "genres_adj_union_diag = np.diag(np.diag(genres_adj_union_raw))\n",
    "genres_adj_union = genres_adj_union_raw - genres_adj_union_diag"
   ]
  },
  {
   "cell_type": "code",
   "execution_count": 59,
   "metadata": {},
   "outputs": [],
   "source": [
    "plt.imshow(genres_adj_union, cmap=\"hot\", interpolation=\"none\")"
   ]
  },
  {
   "cell_type": "code",
   "execution_count": 60,
   "metadata": {},
   "outputs": [],
   "source": [
    "np.save(\"genres_adj_union\", genres_adj_union)"
   ]
  },
  {
   "cell_type": "markdown",
   "metadata": {},
   "source": [
    "## Aggregated adjacency matrix"
   ]
  },
  {
   "cell_type": "code",
   "execution_count": 61,
   "metadata": {},
   "outputs": [
    {
     "name": "stderr",
     "output_type": "stream",
     "text": [
      "C:\\Users\\AndresMontero\\.conda\\envs\\ntds_2019\\lib\\site-packages\\ipykernel_launcher.py:14: RuntimeWarning: invalid value encountered in true_divide\n",
      "  \n"
     ]
    },
    {
     "data": {
      "text/plain": [
       "77236.65386911613"
      ]
     },
     "execution_count": 61,
     "metadata": {},
     "output_type": "execute_result"
    }
   ],
   "source": [
    "agg_adj = np.divide(\n",
    "    (\n",
    "        0.3 * cast_adj\n",
    "        + 0.3 * movie_adj\n",
    "        + 0.2 * crew_adj\n",
    "        + 0.1 * genres_adj\n",
    "        + 0.1 * prod_comp_adj\n",
    "    ),\n",
    "    (\n",
    "        0.3 * cast_adj_union\n",
    "        + 0.3 * movie_adj_union\n",
    "        + 0.2 * crew_adj_union\n",
    "        + 0.1 * genres_adj_union\n",
    "        + 0.1 * prod_comp_adj_union\n",
    "    ),\n",
    ")\n",
    "agg_adj = np.where(np.isnan(agg_adj), 0, agg_adj)\n",
    "np.sum(agg_adj)"
   ]
  },
  {
   "cell_type": "code",
   "execution_count": 62,
   "metadata": {},
   "outputs": [
    {
     "data": {
      "text/plain": [
       "<matplotlib.image.AxesImage at 0x2012a965c50>"
      ]
     },
     "execution_count": 62,
     "metadata": {},
     "output_type": "execute_result"
    },
    {
     "data": {
      "image/png": "[encoded data removed]",
      "text/plain": [
       "<Figure size 432x288 with 1 Axes>"
      ]
     },
     "metadata": {
      "needs_background": "light"
     },
     "output_type": "display_data"
    }
   ],
   "source": [
    "plt.spy(agg_adj)"
   ]
  },
  {
   "cell_type": "code",
   "execution_count": 63,
   "metadata": {},
   "outputs": [
    {
     "data": {
      "text/plain": [
       "<matplotlib.image.AxesImage at 0x2012ab71860>"
      ]
     },
     "execution_count": 63,
     "metadata": {},
     "output_type": "execute_result"
    },
    {
     "data": {
      "image/png": "[encoded data removed]",
      "text/plain": [
       "<Figure size 432x288 with 1 Axes>"
      ]
     },
     "metadata": {
      "needs_background": "light"
     },
     "output_type": "display_data"
    }
   ],
   "source": [
    "plt.imshow(agg_adj, cmap=\"hot\", interpolation=\"none\")"
   ]
  },
  {
   "cell_type": "code",
   "execution_count": 64,
   "metadata": {},
   "outputs": [
    {
     "data": {
      "text/plain": [
       "0.0"
      ]
     },
     "execution_count": 64,
     "metadata": {},
     "output_type": "execute_result"
    }
   ],
   "source": [
    "np.min(agg_adj)"
   ]
  },
  {
   "cell_type": "code",
   "execution_count": 65,
   "metadata": {},
   "outputs": [
    {
     "data": {
      "text/plain": [
       "0.9850374064837905"
      ]
     },
     "execution_count": 65,
     "metadata": {},
     "output_type": "execute_result"
    }
   ],
   "source": [
    "np.max(agg_adj)"
   ]
  },
  {
   "cell_type": "code",
   "execution_count": 66,
   "metadata": {},
   "outputs": [],
   "source": [
    "np.save(\"agg_adj\", agg_adj)"
   ]
  },
  {
   "cell_type": "code",
   "execution_count": null,
   "metadata": {},
   "outputs": [],
   "source": [
    "np.load(\"agg_adj.npy\")"
   ]
  },
  {
   "cell_type": "markdown",
   "metadata": {},
   "source": [
    "## Sparsify graph"
   ]
  },
  {
   "cell_type": "code",
   "execution_count": 67,
   "metadata": {},
   "outputs": [],
   "source": [
    "agg_adj = np.load(\"agg_adj.npy\")"
   ]
  },
  {
   "cell_type": "code",
   "execution_count": 68,
   "metadata": {},
   "outputs": [],
   "source": [
    "def sparsify_adj(adj, epsilon):\n",
    "    return np.where(adj <= epsilon, 0, adj)"
   ]
  },
  {
   "cell_type": "code",
   "execution_count": 69,
   "metadata": {},
   "outputs": [
    {
     "name": "stdout",
     "output_type": "stream",
     "text": [
      "0.007038783699837348\n"
     ]
    }
   ],
   "source": [
    "percentile = 70\n",
    "eps = np.percentile(agg_adj, 70)\n",
    "print(eps)"
   ]
  },
  {
   "cell_type": "code",
   "execution_count": 70,
   "metadata": {},
   "outputs": [],
   "source": [
    "sparse_agg_adj = sparsify_adj(agg_adj, eps)"
   ]
  },
  {
   "cell_type": "markdown",
   "metadata": {},
   "source": [
    "## Tests"
   ]
  },
  {
   "cell_type": "markdown",
   "metadata": {},
   "source": [
    "### Test consistency of data"
   ]
  },
  {
   "cell_type": "code",
   "execution_count": 75,
   "metadata": {},
   "outputs": [
    {
     "data": {
      "text/plain": [
       "3169"
      ]
     },
     "execution_count": 75,
     "metadata": {},
     "output_type": "execute_result"
    }
   ],
   "source": [
    "dict_actor_id.get(\"Sam Worthington\")"
   ]
  },
  {
   "cell_type": "code",
   "execution_count": 76,
   "metadata": {},
   "outputs": [
    {
     "data": {
      "text/html": [
       "<div>\n",
       "<style scoped>\n",
       "    .dataframe tbody tr th:only-of-type {\n",
       "        vertical-align: middle;\n",
       "    }\n",
       "\n",
       "    .dataframe tbody tr th {\n",
       "        vertical-align: top;\n",
       "    }\n",
       "\n",
       "    .dataframe thead th {\n",
       "        text-align: right;\n",
       "    }\n",
       "</style>\n",
       "<table border=\"1\" class=\"dataframe\">\n",
       "  <thead>\n",
       "    <tr style=\"text-align: right;\">\n",
       "      <th></th>\n",
       "      <th>actor_id</th>\n",
       "      <th>actors</th>\n",
       "      <th>gender</th>\n",
       "      <th>order</th>\n",
       "    </tr>\n",
       "  </thead>\n",
       "  <tbody>\n",
       "    <tr>\n",
       "      <td>45</td>\n",
       "      <td>45</td>\n",
       "      <td>Adriana Barraza</td>\n",
       "      <td>1</td>\n",
       "      <td>[0]</td>\n",
       "    </tr>\n",
       "  </tbody>\n",
       "</table>\n",
       "</div>"
      ],
      "text/plain": [
       "    actor_id           actors  gender order\n",
       "45        45  Adriana Barraza       1   [0]"
      ]
     },
     "execution_count": 76,
     "metadata": {},
     "output_type": "execute_result"
    }
   ],
   "source": [
    "actors_df[actors_df[\"actors\"] == \"Adriana Barraza\"]"
   ]
  },
  {
   "cell_type": "code",
   "execution_count": 77,
   "metadata": {},
   "outputs": [],
   "source": [
    "dict_actor_id.get(\"Andreas Berg\")"
   ]
  },
  {
   "cell_type": "code",
   "execution_count": 78,
   "metadata": {},
   "outputs": [
    {
     "data": {
      "text/html": [
       "<div>\n",
       "<style scoped>\n",
       "    .dataframe tbody tr th:only-of-type {\n",
       "        vertical-align: middle;\n",
       "    }\n",
       "\n",
       "    .dataframe tbody tr th {\n",
       "        vertical-align: top;\n",
       "    }\n",
       "\n",
       "    .dataframe thead th {\n",
       "        text-align: right;\n",
       "    }\n",
       "</style>\n",
       "<table border=\"1\" class=\"dataframe\">\n",
       "  <thead>\n",
       "    <tr style=\"text-align: right;\">\n",
       "      <th></th>\n",
       "      <th>actor_id</th>\n",
       "      <th>actors</th>\n",
       "      <th>gender</th>\n",
       "      <th>order</th>\n",
       "    </tr>\n",
       "  </thead>\n",
       "  <tbody>\n",
       "    <tr>\n",
       "      <td>1000</td>\n",
       "      <td>1000</td>\n",
       "      <td>Elden Henson</td>\n",
       "      <td>2</td>\n",
       "      <td>[1, 1]</td>\n",
       "    </tr>\n",
       "  </tbody>\n",
       "</table>\n",
       "</div>"
      ],
      "text/plain": [
       "      actor_id        actors  gender   order\n",
       "1000      1000  Elden Henson       2  [1, 1]"
      ]
     },
     "execution_count": 78,
     "metadata": {},
     "output_type": "execute_result"
    }
   ],
   "source": [
    "actors_df[actors_df[\"actor_id\"] == 1000]"
   ]
  },
  {
   "cell_type": "code",
   "execution_count": 79,
   "metadata": {},
   "outputs": [
    {
     "data": {
      "text/plain": [
       "{'Anthony Geary',\n",
       " 'Billy Barty',\n",
       " 'David Bowe',\n",
       " 'Emo Philips',\n",
       " 'Fran Drescher',\n",
       " 'Kevin McCarthy',\n",
       " 'Michael Richards',\n",
       " 'Trinidad Silva',\n",
       " 'Victoria Jackson'}"
      ]
     },
     "execution_count": 79,
     "metadata": {},
     "output_type": "execute_result"
    }
   ],
   "source": [
    "nodes_df.loc[0, \"cast\"]"
   ]
  },
  {
   "cell_type": "code",
   "execution_count": 80,
   "metadata": {},
   "outputs": [
    {
     "data": {
      "text/plain": [
       "3770"
      ]
     },
     "execution_count": 80,
     "metadata": {},
     "output_type": "execute_result"
    }
   ],
   "source": [
    "# Test number of actors\n",
    "len(np.unique(actors_agg_df.index.values))"
   ]
  },
  {
   "cell_type": "code",
   "execution_count": 81,
   "metadata": {},
   "outputs": [
    {
     "data": {
      "text/html": [
       "<div>\n",
       "<style scoped>\n",
       "    .dataframe tbody tr th:only-of-type {\n",
       "        vertical-align: middle;\n",
       "    }\n",
       "\n",
       "    .dataframe tbody tr th {\n",
       "        vertical-align: top;\n",
       "    }\n",
       "\n",
       "    .dataframe thead th {\n",
       "        text-align: right;\n",
       "    }\n",
       "</style>\n",
       "<table border=\"1\" class=\"dataframe\">\n",
       "  <thead>\n",
       "    <tr style=\"text-align: right;\">\n",
       "      <th></th>\n",
       "      <th>movie_id</th>\n",
       "      <th>cast</th>\n",
       "      <th>crew</th>\n",
       "      <th>gender</th>\n",
       "      <th>budget</th>\n",
       "      <th>genres</th>\n",
       "      <th>keywords</th>\n",
       "      <th>original_language</th>\n",
       "      <th>popularity</th>\n",
       "      <th>production_companies</th>\n",
       "      <th>production_countries</th>\n",
       "      <th>release_date</th>\n",
       "      <th>revenue</th>\n",
       "      <th>runtime</th>\n",
       "      <th>spoken_languages</th>\n",
       "      <th>status</th>\n",
       "      <th>title</th>\n",
       "      <th>vote_average</th>\n",
       "      <th>vote_count</th>\n",
       "    </tr>\n",
       "    <tr>\n",
       "      <th>actor_id</th>\n",
       "      <th></th>\n",
       "      <th></th>\n",
       "      <th></th>\n",
       "      <th></th>\n",
       "      <th></th>\n",
       "      <th></th>\n",
       "      <th></th>\n",
       "      <th></th>\n",
       "      <th></th>\n",
       "      <th></th>\n",
       "      <th></th>\n",
       "      <th></th>\n",
       "      <th></th>\n",
       "      <th></th>\n",
       "      <th></th>\n",
       "      <th></th>\n",
       "      <th></th>\n",
       "      <th></th>\n",
       "      <th></th>\n",
       "    </tr>\n",
       "  </thead>\n",
       "  <tbody>\n",
       "    <tr>\n",
       "      <td>0</td>\n",
       "      <td>{3619}</td>\n",
       "      <td>{David Bowe, Trinidad Silva, Anthony Geary, Mi...</td>\n",
       "      <td>{Jay Levey}</td>\n",
       "      <td>0</td>\n",
       "      <td>5.000000e+06</td>\n",
       "      <td>{Comedy}</td>\n",
       "      <td>{indiana jones spoof scene, satire, tv star, g...</td>\n",
       "      <td>{en}</td>\n",
       "      <td>4.070044</td>\n",
       "      <td>{Cinecorp, Orion Pictures}</td>\n",
       "      <td>{United States of America}</td>\n",
       "      <td>[1989-07-21]</td>\n",
       "      <td>0.000000e+00</td>\n",
       "      <td>97.0</td>\n",
       "      <td>{English}</td>\n",
       "      <td>[Released]</td>\n",
       "      <td>{UHF}</td>\n",
       "      <td>6.700000</td>\n",
       "      <td>89.000000</td>\n",
       "    </tr>\n",
       "    <tr>\n",
       "      <td>1</td>\n",
       "      <td>{1233}</td>\n",
       "      <td>{Sullivan Walker, Terrence Howard, Joseph Pier...</td>\n",
       "      <td>{Jim Sheridan}</td>\n",
       "      <td>2</td>\n",
       "      <td>4.000000e+07</td>\n",
       "      <td>{Drama}</td>\n",
       "      <td>{career, musical, attempted murder, drug, rapp...</td>\n",
       "      <td>{en}</td>\n",
       "      <td>12.885985</td>\n",
       "      <td>{Paramount Pictures, MTV Films, Cent Productio...</td>\n",
       "      <td>{United States of America}</td>\n",
       "      <td>[2005-11-09]</td>\n",
       "      <td>4.644253e+07</td>\n",
       "      <td>117.0</td>\n",
       "      <td>{English}</td>\n",
       "      <td>[Released]</td>\n",
       "      <td>{Get Rich or Die Tryin'}</td>\n",
       "      <td>6.300000</td>\n",
       "      <td>186.000000</td>\n",
       "    </tr>\n",
       "    <tr>\n",
       "      <td>2</td>\n",
       "      <td>{4034}</td>\n",
       "      <td>{Ron Roggé, Vanessa Evigan, Piper Mackenzie Ha...</td>\n",
       "      <td>{John Murlowski}</td>\n",
       "      <td>2</td>\n",
       "      <td>0.000000e+00</td>\n",
       "      <td>{Comedy, Family}</td>\n",
       "      <td>{}</td>\n",
       "      <td>{en}</td>\n",
       "      <td>0.630226</td>\n",
       "      <td>{}</td>\n",
       "      <td>{United States of America}</td>\n",
       "      <td>[2010-12-01]</td>\n",
       "      <td>0.000000e+00</td>\n",
       "      <td>89.0</td>\n",
       "      <td>{English}</td>\n",
       "      <td>[Released]</td>\n",
       "      <td>{Christmas Mail}</td>\n",
       "      <td>5.000000</td>\n",
       "      <td>15.000000</td>\n",
       "    </tr>\n",
       "    <tr>\n",
       "      <td>3</td>\n",
       "      <td>{1789}</td>\n",
       "      <td>{Alejandro Rae, Shaun Sipos, Ali Larter, Micha...</td>\n",
       "      <td>{David R. Ellis}</td>\n",
       "      <td>1</td>\n",
       "      <td>2.600000e+07</td>\n",
       "      <td>{Mystery, Horror}</td>\n",
       "      <td>{hospital, premonition, ambulance}</td>\n",
       "      <td>{en}</td>\n",
       "      <td>37.355826</td>\n",
       "      <td>{New Line Cinema, Zide-Perry Productions}</td>\n",
       "      <td>{United States of America}</td>\n",
       "      <td>[2003-01-31]</td>\n",
       "      <td>9.042640e+07</td>\n",
       "      <td>90.0</td>\n",
       "      <td>{English}</td>\n",
       "      <td>[Released]</td>\n",
       "      <td>{Final Destination 2}</td>\n",
       "      <td>5.900000</td>\n",
       "      <td>1023.000000</td>\n",
       "    </tr>\n",
       "    <tr>\n",
       "      <td>4</td>\n",
       "      <td>{4203}</td>\n",
       "      <td>{Kevin Pollak, James Denton, Jamie Grace, Shaw...</td>\n",
       "      <td>{Brad J. Silverman}</td>\n",
       "      <td>1</td>\n",
       "      <td>0.000000e+00</td>\n",
       "      <td>{Drama, Music}</td>\n",
       "      <td>{christian}</td>\n",
       "      <td>{en}</td>\n",
       "      <td>2.160586</td>\n",
       "      <td>{Birchwood Pictures, Coram Deo Studios}</td>\n",
       "      <td>{United States of America}</td>\n",
       "      <td>[2013-10-04]</td>\n",
       "      <td>0.000000e+00</td>\n",
       "      <td>102.0</td>\n",
       "      <td>{English}</td>\n",
       "      <td>[Released]</td>\n",
       "      <td>{Grace Unplugged}</td>\n",
       "      <td>6.000000</td>\n",
       "      <td>24.000000</td>\n",
       "    </tr>\n",
       "    <tr>\n",
       "      <td>...</td>\n",
       "      <td>...</td>\n",
       "      <td>...</td>\n",
       "      <td>...</td>\n",
       "      <td>...</td>\n",
       "      <td>...</td>\n",
       "      <td>...</td>\n",
       "      <td>...</td>\n",
       "      <td>...</td>\n",
       "      <td>...</td>\n",
       "      <td>...</td>\n",
       "      <td>...</td>\n",
       "      <td>...</td>\n",
       "      <td>...</td>\n",
       "      <td>...</td>\n",
       "      <td>...</td>\n",
       "      <td>...</td>\n",
       "      <td>...</td>\n",
       "      <td>...</td>\n",
       "      <td>...</td>\n",
       "    </tr>\n",
       "    <tr>\n",
       "      <td>3765</td>\n",
       "      <td>{3979}</td>\n",
       "      <td>{Kellie Geradi, Kelli Chaves, James Leibow, Ca...</td>\n",
       "      <td>{Morgan Spurlock, Alex Gibney, Eugene Jarecki,...</td>\n",
       "      <td>0</td>\n",
       "      <td>3.000000e+06</td>\n",
       "      <td>{Documentary}</td>\n",
       "      <td>{experiment, cheating, corruption, limousine, ...</td>\n",
       "      <td>{en}</td>\n",
       "      <td>1.781462</td>\n",
       "      <td>{Chad Troutwine Films, Loki Films, Green Film ...</td>\n",
       "      <td>{United States of America}</td>\n",
       "      <td>[2010-10-01]</td>\n",
       "      <td>1.037350e+05</td>\n",
       "      <td>93.0</td>\n",
       "      <td>{English}</td>\n",
       "      <td>[Released]</td>\n",
       "      <td>{Freakonomics}</td>\n",
       "      <td>6.600000</td>\n",
       "      <td>36.000000</td>\n",
       "    </tr>\n",
       "    <tr>\n",
       "      <td>3766</td>\n",
       "      <td>{3847, 3339, 1068, 913, 723, 4373}</td>\n",
       "      <td>{Molly Sims, Traci Law, Maurice Compte, Gregor...</td>\n",
       "      <td>{M. Night Shyamalan, Peyton Reed, Garth Jennin...</td>\n",
       "      <td>1</td>\n",
       "      <td>3.183333e+07</td>\n",
       "      <td>{Drama, Romance, Comedy, Science Fiction, Fami...</td>\n",
       "      <td>{spaceship, dolphin, intergalactic travel, bas...</td>\n",
       "      <td>{en}</td>\n",
       "      <td>28.167807</td>\n",
       "      <td>{Warner Bros., Watermark, UTV Motion Pictures,...</td>\n",
       "      <td>{India, United States of America, France}</td>\n",
       "      <td>[2005-01-15, 2008-06-11, 2008-12-09, 2009-07-1...</td>\n",
       "      <td>9.245162e+07</td>\n",
       "      <td>605.0</td>\n",
       "      <td>{Français, svenska, English, Eesti, 한국어/조선말}</td>\n",
       "      <td>[Released, Released, Released, Released, Relea...</td>\n",
       "      <td>{The Happening, (500) Days of Summer, All the ...</td>\n",
       "      <td>6.283333</td>\n",
       "      <td>1173.333333</td>\n",
       "    </tr>\n",
       "    <tr>\n",
       "      <td>3767</td>\n",
       "      <td>{3691}</td>\n",
       "      <td>{Don McKellar, Kim Ly, Ariadna Gil, Douglas Sm...</td>\n",
       "      <td>{Analeine Cal y Mayor}</td>\n",
       "      <td>1</td>\n",
       "      <td>4.700000e+06</td>\n",
       "      <td>{Comedy, Drama}</td>\n",
       "      <td>{parenting, boy, woman director, self acceptan...</td>\n",
       "      <td>{en}</td>\n",
       "      <td>0.217538</td>\n",
       "      <td>{Mecanismo Films, Redrum, Rhombus Media}</td>\n",
       "      <td>{Mexico, Canada}</td>\n",
       "      <td>[2013-09-13]</td>\n",
       "      <td>0.000000e+00</td>\n",
       "      <td>92.0</td>\n",
       "      <td>{English}</td>\n",
       "      <td>[Released]</td>\n",
       "      <td>{Treading Water}</td>\n",
       "      <td>5.600000</td>\n",
       "      <td>6.000000</td>\n",
       "    </tr>\n",
       "    <tr>\n",
       "      <td>3768</td>\n",
       "      <td>{498}</td>\n",
       "      <td>{Silas Carson, Peter Mensah, Viggo Mortensen, ...</td>\n",
       "      <td>{Joe Johnston}</td>\n",
       "      <td>1</td>\n",
       "      <td>1.000000e+08</td>\n",
       "      <td>{Adventure, Western}</td>\n",
       "      <td>{horse race, racehorse, horse}</td>\n",
       "      <td>{en}</td>\n",
       "      <td>16.759252</td>\n",
       "      <td>{Casey Silver Productions, Touchstone Pictures...</td>\n",
       "      <td>{Morocco, United States of America}</td>\n",
       "      <td>[2004-03-05]</td>\n",
       "      <td>1.081034e+08</td>\n",
       "      <td>136.0</td>\n",
       "      <td>{English}</td>\n",
       "      <td>[Released]</td>\n",
       "      <td>{Hidalgo}</td>\n",
       "      <td>6.500000</td>\n",
       "      <td>318.000000</td>\n",
       "    </tr>\n",
       "    <tr>\n",
       "      <td>3769</td>\n",
       "      <td>{2742}</td>\n",
       "      <td>{Pablo Calva, Sedona Legge, Chelsea Moody, Jos...</td>\n",
       "      <td>{Jaume Collet-Serra}</td>\n",
       "      <td>2</td>\n",
       "      <td>1.700000e+07</td>\n",
       "      <td>{Drama, Horror, Thriller}</td>\n",
       "      <td>{island, animal attack, mexico, survival, shar...</td>\n",
       "      <td>{en}</td>\n",
       "      <td>60.829621</td>\n",
       "      <td>{Ombra Films, Weimaraner Republic Pictures, Co...</td>\n",
       "      <td>{United States of America}</td>\n",
       "      <td>[2016-06-24]</td>\n",
       "      <td>1.191008e+08</td>\n",
       "      <td>86.0</td>\n",
       "      <td>{English}</td>\n",
       "      <td>[Released]</td>\n",
       "      <td>{The Shallows}</td>\n",
       "      <td>6.200000</td>\n",
       "      <td>1567.000000</td>\n",
       "    </tr>\n",
       "  </tbody>\n",
       "</table>\n",
       "<p>3770 rows × 19 columns</p>\n",
       "</div>"
      ],
      "text/plain": [
       "                                    movie_id  \\\n",
       "actor_id                                       \n",
       "0                                     {3619}   \n",
       "1                                     {1233}   \n",
       "2                                     {4034}   \n",
       "3                                     {1789}   \n",
       "4                                     {4203}   \n",
       "...                                      ...   \n",
       "3765                                  {3979}   \n",
       "3766      {3847, 3339, 1068, 913, 723, 4373}   \n",
       "3767                                  {3691}   \n",
       "3768                                   {498}   \n",
       "3769                                  {2742}   \n",
       "\n",
       "                                                       cast  \\\n",
       "actor_id                                                      \n",
       "0         {David Bowe, Trinidad Silva, Anthony Geary, Mi...   \n",
       "1         {Sullivan Walker, Terrence Howard, Joseph Pier...   \n",
       "2         {Ron Roggé, Vanessa Evigan, Piper Mackenzie Ha...   \n",
       "3         {Alejandro Rae, Shaun Sipos, Ali Larter, Micha...   \n",
       "4         {Kevin Pollak, James Denton, Jamie Grace, Shaw...   \n",
       "...                                                     ...   \n",
       "3765      {Kellie Geradi, Kelli Chaves, James Leibow, Ca...   \n",
       "3766      {Molly Sims, Traci Law, Maurice Compte, Gregor...   \n",
       "3767      {Don McKellar, Kim Ly, Ariadna Gil, Douglas Sm...   \n",
       "3768      {Silas Carson, Peter Mensah, Viggo Mortensen, ...   \n",
       "3769      {Pablo Calva, Sedona Legge, Chelsea Moody, Jos...   \n",
       "\n",
       "                                                       crew  gender  \\\n",
       "actor_id                                                              \n",
       "0                                               {Jay Levey}       0   \n",
       "1                                            {Jim Sheridan}       2   \n",
       "2                                          {John Murlowski}       2   \n",
       "3                                          {David R. Ellis}       1   \n",
       "4                                       {Brad J. Silverman}       1   \n",
       "...                                                     ...     ...   \n",
       "3765      {Morgan Spurlock, Alex Gibney, Eugene Jarecki,...       0   \n",
       "3766      {M. Night Shyamalan, Peyton Reed, Garth Jennin...       1   \n",
       "3767                                 {Analeine Cal y Mayor}       1   \n",
       "3768                                         {Joe Johnston}       1   \n",
       "3769                                   {Jaume Collet-Serra}       2   \n",
       "\n",
       "                budget                                             genres  \\\n",
       "actor_id                                                                    \n",
       "0         5.000000e+06                                           {Comedy}   \n",
       "1         4.000000e+07                                            {Drama}   \n",
       "2         0.000000e+00                                   {Comedy, Family}   \n",
       "3         2.600000e+07                                  {Mystery, Horror}   \n",
       "4         0.000000e+00                                     {Drama, Music}   \n",
       "...                ...                                                ...   \n",
       "3765      3.000000e+06                                      {Documentary}   \n",
       "3766      3.183333e+07  {Drama, Romance, Comedy, Science Fiction, Fami...   \n",
       "3767      4.700000e+06                                    {Comedy, Drama}   \n",
       "3768      1.000000e+08                               {Adventure, Western}   \n",
       "3769      1.700000e+07                          {Drama, Horror, Thriller}   \n",
       "\n",
       "                                                   keywords original_language  \\\n",
       "actor_id                                                                        \n",
       "0         {indiana jones spoof scene, satire, tv star, g...              {en}   \n",
       "1         {career, musical, attempted murder, drug, rapp...              {en}   \n",
       "2                                                        {}              {en}   \n",
       "3                        {hospital, premonition, ambulance}              {en}   \n",
       "4                                               {christian}              {en}   \n",
       "...                                                     ...               ...   \n",
       "3765      {experiment, cheating, corruption, limousine, ...              {en}   \n",
       "3766      {spaceship, dolphin, intergalactic travel, bas...              {en}   \n",
       "3767      {parenting, boy, woman director, self acceptan...              {en}   \n",
       "3768                         {horse race, racehorse, horse}              {en}   \n",
       "3769      {island, animal attack, mexico, survival, shar...              {en}   \n",
       "\n",
       "          popularity                               production_companies  \\\n",
       "actor_id                                                                  \n",
       "0           4.070044                         {Cinecorp, Orion Pictures}   \n",
       "1          12.885985  {Paramount Pictures, MTV Films, Cent Productio...   \n",
       "2           0.630226                                                 {}   \n",
       "3          37.355826          {New Line Cinema, Zide-Perry Productions}   \n",
       "4           2.160586            {Birchwood Pictures, Coram Deo Studios}   \n",
       "...              ...                                                ...   \n",
       "3765        1.781462  {Chad Troutwine Films, Loki Films, Green Film ...   \n",
       "3766       28.167807  {Warner Bros., Watermark, UTV Motion Pictures,...   \n",
       "3767        0.217538           {Mecanismo Films, Redrum, Rhombus Media}   \n",
       "3768       16.759252  {Casey Silver Productions, Touchstone Pictures...   \n",
       "3769       60.829621  {Ombra Films, Weimaraner Republic Pictures, Co...   \n",
       "\n",
       "                               production_countries  \\\n",
       "actor_id                                              \n",
       "0                        {United States of America}   \n",
       "1                        {United States of America}   \n",
       "2                        {United States of America}   \n",
       "3                        {United States of America}   \n",
       "4                        {United States of America}   \n",
       "...                                             ...   \n",
       "3765                     {United States of America}   \n",
       "3766      {India, United States of America, France}   \n",
       "3767                               {Mexico, Canada}   \n",
       "3768            {Morocco, United States of America}   \n",
       "3769                     {United States of America}   \n",
       "\n",
       "                                               release_date       revenue  \\\n",
       "actor_id                                                                    \n",
       "0                                              [1989-07-21]  0.000000e+00   \n",
       "1                                              [2005-11-09]  4.644253e+07   \n",
       "2                                              [2010-12-01]  0.000000e+00   \n",
       "3                                              [2003-01-31]  9.042640e+07   \n",
       "4                                              [2013-10-04]  0.000000e+00   \n",
       "...                                                     ...           ...   \n",
       "3765                                           [2010-10-01]  1.037350e+05   \n",
       "3766      [2005-01-15, 2008-06-11, 2008-12-09, 2009-07-1...  9.245162e+07   \n",
       "3767                                           [2013-09-13]  0.000000e+00   \n",
       "3768                                           [2004-03-05]  1.081034e+08   \n",
       "3769                                           [2016-06-24]  1.191008e+08   \n",
       "\n",
       "          runtime                              spoken_languages  \\\n",
       "actor_id                                                          \n",
       "0            97.0                                     {English}   \n",
       "1           117.0                                     {English}   \n",
       "2            89.0                                     {English}   \n",
       "3            90.0                                     {English}   \n",
       "4           102.0                                     {English}   \n",
       "...           ...                                           ...   \n",
       "3765         93.0                                     {English}   \n",
       "3766        605.0  {Français, svenska, English, Eesti, 한국어/조선말}   \n",
       "3767         92.0                                     {English}   \n",
       "3768        136.0                                     {English}   \n",
       "3769         86.0                                     {English}   \n",
       "\n",
       "                                                     status  \\\n",
       "actor_id                                                      \n",
       "0                                                [Released]   \n",
       "1                                                [Released]   \n",
       "2                                                [Released]   \n",
       "3                                                [Released]   \n",
       "4                                                [Released]   \n",
       "...                                                     ...   \n",
       "3765                                             [Released]   \n",
       "3766      [Released, Released, Released, Released, Relea...   \n",
       "3767                                             [Released]   \n",
       "3768                                             [Released]   \n",
       "3769                                             [Released]   \n",
       "\n",
       "                                                      title  vote_average  \\\n",
       "actor_id                                                                    \n",
       "0                                                     {UHF}      6.700000   \n",
       "1                                  {Get Rich or Die Tryin'}      6.300000   \n",
       "2                                          {Christmas Mail}      5.000000   \n",
       "3                                     {Final Destination 2}      5.900000   \n",
       "4                                         {Grace Unplugged}      6.000000   \n",
       "...                                                     ...           ...   \n",
       "3765                                         {Freakonomics}      6.600000   \n",
       "3766      {The Happening, (500) Days of Summer, All the ...      6.283333   \n",
       "3767                                       {Treading Water}      5.600000   \n",
       "3768                                              {Hidalgo}      6.500000   \n",
       "3769                                         {The Shallows}      6.200000   \n",
       "\n",
       "           vote_count  \n",
       "actor_id               \n",
       "0           89.000000  \n",
       "1          186.000000  \n",
       "2           15.000000  \n",
       "3         1023.000000  \n",
       "4           24.000000  \n",
       "...               ...  \n",
       "3765        36.000000  \n",
       "3766      1173.333333  \n",
       "3767         6.000000  \n",
       "3768       318.000000  \n",
       "3769      1567.000000  \n",
       "\n",
       "[3770 rows x 19 columns]"
      ]
     },
     "execution_count": 81,
     "metadata": {},
     "output_type": "execute_result"
    }
   ],
   "source": [
    "actors_agg_df"
   ]
  },
  {
   "cell_type": "code",
   "execution_count": 82,
   "metadata": {},
   "outputs": [
    {
     "data": {
      "text/plain": [
       "{0, 43, 132, 206, 1146, 1448}"
      ]
     },
     "execution_count": 82,
     "metadata": {},
     "output_type": "execute_result"
    }
   ],
   "source": [
    "test_movie_id = actors_agg_df.loc[dict_actor_id.get(\"Sam Worthington\")][\"movie_id\"]\n",
    "test_movie_id"
   ]
  },
  {
   "cell_type": "code",
   "execution_count": 83,
   "metadata": {},
   "outputs": [
    {
     "data": {
      "text/html": [
       "<div>\n",
       "<style scoped>\n",
       "    .dataframe tbody tr th:only-of-type {\n",
       "        vertical-align: middle;\n",
       "    }\n",
       "\n",
       "    .dataframe tbody tr th {\n",
       "        vertical-align: top;\n",
       "    }\n",
       "\n",
       "    .dataframe thead th {\n",
       "        text-align: right;\n",
       "    }\n",
       "</style>\n",
       "<table border=\"1\" class=\"dataframe\">\n",
       "  <thead>\n",
       "    <tr style=\"text-align: right;\">\n",
       "      <th></th>\n",
       "      <th>movie_id</th>\n",
       "      <th>new_movie_id</th>\n",
       "      <th>title</th>\n",
       "    </tr>\n",
       "  </thead>\n",
       "  <tbody>\n",
       "    <tr>\n",
       "      <td>0</td>\n",
       "      <td>19995</td>\n",
       "      <td>0</td>\n",
       "      <td>Avatar</td>\n",
       "    </tr>\n",
       "    <tr>\n",
       "      <td>1</td>\n",
       "      <td>534</td>\n",
       "      <td>43</td>\n",
       "      <td>Terminator Salvation</td>\n",
       "    </tr>\n",
       "    <tr>\n",
       "      <td>2</td>\n",
       "      <td>57165</td>\n",
       "      <td>132</td>\n",
       "      <td>Wrath of the Titans</td>\n",
       "    </tr>\n",
       "    <tr>\n",
       "      <td>3</td>\n",
       "      <td>18823</td>\n",
       "      <td>206</td>\n",
       "      <td>Clash of the Titans</td>\n",
       "    </tr>\n",
       "    <tr>\n",
       "      <td>4</td>\n",
       "      <td>49527</td>\n",
       "      <td>1146</td>\n",
       "      <td>Man on a Ledge</td>\n",
       "    </tr>\n",
       "    <tr>\n",
       "      <td>5</td>\n",
       "      <td>144336</td>\n",
       "      <td>1448</td>\n",
       "      <td>Sabotage</td>\n",
       "    </tr>\n",
       "  </tbody>\n",
       "</table>\n",
       "</div>"
      ],
      "text/plain": [
       "   movie_id  new_movie_id                 title\n",
       "0     19995             0                Avatar\n",
       "1       534            43  Terminator Salvation\n",
       "2     57165           132   Wrath of the Titans\n",
       "3     18823           206   Clash of the Titans\n",
       "4     49527          1146        Man on a Ledge\n",
       "5    144336          1448              Sabotage"
      ]
     },
     "execution_count": 83,
     "metadata": {},
     "output_type": "execute_result"
    }
   ],
   "source": [
    "test_movies_df = unique_movies_df[\n",
    "    unique_movies_df[new_movie_id_col].isin(test_movie_id)\n",
    "]\n",
    "test_movies_df = test_movies_df.merge(\n",
    "    pr_movies_df, right_on=movie_id_col, left_on=movie_id_col\n",
    ")\n",
    "test_movies_df[[movie_id_col, new_movie_id_col, \"title\"]]"
   ]
  },
  {
   "cell_type": "code",
   "execution_count": 84,
   "metadata": {},
   "outputs": [
    {
     "data": {
      "text/plain": [
       "False"
      ]
     },
     "execution_count": 84,
     "metadata": {},
     "output_type": "execute_result"
    }
   ],
   "source": [
    "\"Sam Worthington\" in pr_credits_df.loc[0, \"cast\"]"
   ]
  },
  {
   "cell_type": "code",
   "execution_count": 85,
   "metadata": {},
   "outputs": [
    {
     "data": {
      "text/plain": [
       "movie_id                                                19995\n",
       "cast        {Zoe Saldana, Jamie Harrison, Mike Bodnar, Tay...\n",
       "crew                                          {James Cameron}\n",
       "actors                                        Sam Worthington\n",
       "Name: 0, dtype: object"
      ]
     },
     "execution_count": 85,
     "metadata": {},
     "output_type": "execute_result"
    }
   ],
   "source": [
    "pr_credits_df.loc[0]"
   ]
  }
 ],
 "metadata": {
  "kernelspec": {
   "display_name": "Python 3",
   "language": "python",
   "name": "python3"
  },
  "language_info": {
   "codemirror_mode": {
    "name": "ipython",
    "version": 3
   },
   "file_extension": ".py",
   "mimetype": "text/x-python",
   "name": "python",
   "nbconvert_exporter": "python",
   "pygments_lexer": "ipython3",
   "version": "3.7.3"
  }
 },
 "nbformat": 4,
 "nbformat_minor": 4
}
