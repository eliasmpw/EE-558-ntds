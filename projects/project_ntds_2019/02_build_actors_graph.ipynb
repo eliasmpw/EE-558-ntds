{
 "cells": [
  {
   "cell_type": "code",
   "execution_count": 1,
   "metadata": {},
   "outputs": [],
   "source": [
    "import pandas as pd\n",
    "import json\n",
    "import matplotlib.pyplot as plt\n",
    "import numpy as np\n",
    "import json\n",
    "import networkx as nx\n",
    "from pandas.io.json import json_normalize\n",
    "from functools import reduce\n",
    "from scipy import sparse\n",
    "\n",
    "%reload_ext lab_black"
   ]
  },
  {
   "cell_type": "code",
   "execution_count": 2,
   "metadata": {},
   "outputs": [],
   "source": [
    "def col_json_to_dict(df, cols):\n",
    "    \"Transform the json values inside a column into list of dictionaries\"\n",
    "    transformed_df = df\n",
    "    for col in cols:\n",
    "        transformed_df = transformed_df.assign(**{col: df[col].apply(json.loads)})\n",
    "    return transformed_df"
   ]
  },
  {
   "cell_type": "code",
   "execution_count": 3,
   "metadata": {},
   "outputs": [],
   "source": [
    "def col_dict_to_set(df, col, key):\n",
    "    \"Create a set from the values of the dictionaries give a key\"\n",
    "    get_set = lambda dict_list: set([dict_.get(key) for dict_ in dict_list])\n",
    "    return df.assign(**{col: df[col].apply(get_set)})"
   ]
  },
  {
   "cell_type": "code",
   "execution_count": 4,
   "metadata": {},
   "outputs": [],
   "source": [
    "def col_filter_dict_with_vals(df, col, field, values):\n",
    "    \"Filter dictionaries with specific values from a column with lists of dictionaries\"\n",
    "    filter_dicts = lambda dict_list: [\n",
    "        dict_ for dict_ in dict_list if dict_.get(field) in values\n",
    "    ]\n",
    "    return df.assign(**{col: df[col].apply(filter_dicts)})"
   ]
  },
  {
   "cell_type": "code",
   "execution_count": 5,
   "metadata": {},
   "outputs": [
    {
     "data": {
      "text/html": [
       "<div>\n",
       "<style scoped>\n",
       "    .dataframe tbody tr th:only-of-type {\n",
       "        vertical-align: middle;\n",
       "    }\n",
       "\n",
       "    .dataframe tbody tr th {\n",
       "        vertical-align: top;\n",
       "    }\n",
       "\n",
       "    .dataframe thead th {\n",
       "        text-align: right;\n",
       "    }\n",
       "</style>\n",
       "<table border=\"1\" class=\"dataframe\">\n",
       "  <thead>\n",
       "    <tr style=\"text-align: right;\">\n",
       "      <th></th>\n",
       "      <th>movie_id</th>\n",
       "      <th>title</th>\n",
       "      <th>cast</th>\n",
       "      <th>crew</th>\n",
       "    </tr>\n",
       "  </thead>\n",
       "  <tbody>\n",
       "    <tr>\n",
       "      <td>0</td>\n",
       "      <td>19995</td>\n",
       "      <td>Avatar</td>\n",
       "      <td>[{\"cast_id\": 242, \"character\": \"Jake Sully\", \"...</td>\n",
       "      <td>[{\"credit_id\": \"52fe48009251416c750aca23\", \"de...</td>\n",
       "    </tr>\n",
       "    <tr>\n",
       "      <td>1</td>\n",
       "      <td>285</td>\n",
       "      <td>Pirates of the Caribbean: At World's End</td>\n",
       "      <td>[{\"cast_id\": 4, \"character\": \"Captain Jack Spa...</td>\n",
       "      <td>[{\"credit_id\": \"52fe4232c3a36847f800b579\", \"de...</td>\n",
       "    </tr>\n",
       "    <tr>\n",
       "      <td>2</td>\n",
       "      <td>206647</td>\n",
       "      <td>Spectre</td>\n",
       "      <td>[{\"cast_id\": 1, \"character\": \"James Bond\", \"cr...</td>\n",
       "      <td>[{\"credit_id\": \"54805967c3a36829b5002c41\", \"de...</td>\n",
       "    </tr>\n",
       "    <tr>\n",
       "      <td>3</td>\n",
       "      <td>49026</td>\n",
       "      <td>The Dark Knight Rises</td>\n",
       "      <td>[{\"cast_id\": 2, \"character\": \"Bruce Wayne / Ba...</td>\n",
       "      <td>[{\"credit_id\": \"52fe4781c3a36847f81398c3\", \"de...</td>\n",
       "    </tr>\n",
       "    <tr>\n",
       "      <td>4</td>\n",
       "      <td>49529</td>\n",
       "      <td>John Carter</td>\n",
       "      <td>[{\"cast_id\": 5, \"character\": \"John Carter\", \"c...</td>\n",
       "      <td>[{\"credit_id\": \"52fe479ac3a36847f813eaa3\", \"de...</td>\n",
       "    </tr>\n",
       "  </tbody>\n",
       "</table>\n",
       "</div>"
      ],
      "text/plain": [
       "   movie_id                                     title  \\\n",
       "0     19995                                    Avatar   \n",
       "1       285  Pirates of the Caribbean: At World's End   \n",
       "2    206647                                   Spectre   \n",
       "3     49026                     The Dark Knight Rises   \n",
       "4     49529                               John Carter   \n",
       "\n",
       "                                                cast  \\\n",
       "0  [{\"cast_id\": 242, \"character\": \"Jake Sully\", \"...   \n",
       "1  [{\"cast_id\": 4, \"character\": \"Captain Jack Spa...   \n",
       "2  [{\"cast_id\": 1, \"character\": \"James Bond\", \"cr...   \n",
       "3  [{\"cast_id\": 2, \"character\": \"Bruce Wayne / Ba...   \n",
       "4  [{\"cast_id\": 5, \"character\": \"John Carter\", \"c...   \n",
       "\n",
       "                                                crew  \n",
       "0  [{\"credit_id\": \"52fe48009251416c750aca23\", \"de...  \n",
       "1  [{\"credit_id\": \"52fe4232c3a36847f800b579\", \"de...  \n",
       "2  [{\"credit_id\": \"54805967c3a36829b5002c41\", \"de...  \n",
       "3  [{\"credit_id\": \"52fe4781c3a36847f81398c3\", \"de...  \n",
       "4  [{\"credit_id\": \"52fe479ac3a36847f813eaa3\", \"de...  "
      ]
     },
     "execution_count": 5,
     "metadata": {},
     "output_type": "execute_result"
    }
   ],
   "source": [
    "credits_df = pd.read_csv(\"./data/tmdb_5000_credits.csv\", sep=\",\", quotechar='\"')\n",
    "credits_df.head()"
   ]
  },
  {
   "cell_type": "code",
   "execution_count": 6,
   "metadata": {},
   "outputs": [
    {
     "data": {
      "text/html": [
       "<div>\n",
       "<style scoped>\n",
       "    .dataframe tbody tr th:only-of-type {\n",
       "        vertical-align: middle;\n",
       "    }\n",
       "\n",
       "    .dataframe tbody tr th {\n",
       "        vertical-align: top;\n",
       "    }\n",
       "\n",
       "    .dataframe thead th {\n",
       "        text-align: right;\n",
       "    }\n",
       "</style>\n",
       "<table border=\"1\" class=\"dataframe\">\n",
       "  <thead>\n",
       "    <tr style=\"text-align: right;\">\n",
       "      <th></th>\n",
       "      <th>budget</th>\n",
       "      <th>genres</th>\n",
       "      <th>homepage</th>\n",
       "      <th>movie_id</th>\n",
       "      <th>keywords</th>\n",
       "      <th>original_language</th>\n",
       "      <th>original_title</th>\n",
       "      <th>overview</th>\n",
       "      <th>popularity</th>\n",
       "      <th>production_companies</th>\n",
       "      <th>production_countries</th>\n",
       "      <th>release_date</th>\n",
       "      <th>revenue</th>\n",
       "      <th>runtime</th>\n",
       "      <th>spoken_languages</th>\n",
       "      <th>status</th>\n",
       "      <th>tagline</th>\n",
       "      <th>title</th>\n",
       "      <th>vote_average</th>\n",
       "      <th>vote_count</th>\n",
       "    </tr>\n",
       "  </thead>\n",
       "  <tbody>\n",
       "    <tr>\n",
       "      <td>0</td>\n",
       "      <td>237000000</td>\n",
       "      <td>[{\"id\": 28, \"name\": \"Action\"}, {\"id\": 12, \"nam...</td>\n",
       "      <td>http://www.avatarmovie.com/</td>\n",
       "      <td>19995</td>\n",
       "      <td>[{\"id\": 1463, \"name\": \"culture clash\"}, {\"id\":...</td>\n",
       "      <td>en</td>\n",
       "      <td>Avatar</td>\n",
       "      <td>In the 22nd century, a paraplegic Marine is di...</td>\n",
       "      <td>150.437577</td>\n",
       "      <td>[{\"name\": \"Ingenious Film Partners\", \"id\": 289...</td>\n",
       "      <td>[{\"iso_3166_1\": \"US\", \"name\": \"United States o...</td>\n",
       "      <td>2009-12-10</td>\n",
       "      <td>2787965087</td>\n",
       "      <td>162.0</td>\n",
       "      <td>[{\"iso_639_1\": \"en\", \"name\": \"English\"}, {\"iso...</td>\n",
       "      <td>Released</td>\n",
       "      <td>Enter the World of Pandora.</td>\n",
       "      <td>Avatar</td>\n",
       "      <td>7.2</td>\n",
       "      <td>11800</td>\n",
       "    </tr>\n",
       "    <tr>\n",
       "      <td>1</td>\n",
       "      <td>300000000</td>\n",
       "      <td>[{\"id\": 12, \"name\": \"Adventure\"}, {\"id\": 14, \"...</td>\n",
       "      <td>http://disney.go.com/disneypictures/pirates/</td>\n",
       "      <td>285</td>\n",
       "      <td>[{\"id\": 270, \"name\": \"ocean\"}, {\"id\": 726, \"na...</td>\n",
       "      <td>en</td>\n",
       "      <td>Pirates of the Caribbean: At World's End</td>\n",
       "      <td>Captain Barbossa, long believed to be dead, ha...</td>\n",
       "      <td>139.082615</td>\n",
       "      <td>[{\"name\": \"Walt Disney Pictures\", \"id\": 2}, {\"...</td>\n",
       "      <td>[{\"iso_3166_1\": \"US\", \"name\": \"United States o...</td>\n",
       "      <td>2007-05-19</td>\n",
       "      <td>961000000</td>\n",
       "      <td>169.0</td>\n",
       "      <td>[{\"iso_639_1\": \"en\", \"name\": \"English\"}]</td>\n",
       "      <td>Released</td>\n",
       "      <td>At the end of the world, the adventure begins.</td>\n",
       "      <td>Pirates of the Caribbean: At World's End</td>\n",
       "      <td>6.9</td>\n",
       "      <td>4500</td>\n",
       "    </tr>\n",
       "    <tr>\n",
       "      <td>2</td>\n",
       "      <td>245000000</td>\n",
       "      <td>[{\"id\": 28, \"name\": \"Action\"}, {\"id\": 12, \"nam...</td>\n",
       "      <td>http://www.sonypictures.com/movies/spectre/</td>\n",
       "      <td>206647</td>\n",
       "      <td>[{\"id\": 470, \"name\": \"spy\"}, {\"id\": 818, \"name...</td>\n",
       "      <td>en</td>\n",
       "      <td>Spectre</td>\n",
       "      <td>A cryptic message from Bond’s past sends him o...</td>\n",
       "      <td>107.376788</td>\n",
       "      <td>[{\"name\": \"Columbia Pictures\", \"id\": 5}, {\"nam...</td>\n",
       "      <td>[{\"iso_3166_1\": \"GB\", \"name\": \"United Kingdom\"...</td>\n",
       "      <td>2015-10-26</td>\n",
       "      <td>880674609</td>\n",
       "      <td>148.0</td>\n",
       "      <td>[{\"iso_639_1\": \"fr\", \"name\": \"Fran\\u00e7ais\"},...</td>\n",
       "      <td>Released</td>\n",
       "      <td>A Plan No One Escapes</td>\n",
       "      <td>Spectre</td>\n",
       "      <td>6.3</td>\n",
       "      <td>4466</td>\n",
       "    </tr>\n",
       "    <tr>\n",
       "      <td>3</td>\n",
       "      <td>250000000</td>\n",
       "      <td>[{\"id\": 28, \"name\": \"Action\"}, {\"id\": 80, \"nam...</td>\n",
       "      <td>http://www.thedarkknightrises.com/</td>\n",
       "      <td>49026</td>\n",
       "      <td>[{\"id\": 849, \"name\": \"dc comics\"}, {\"id\": 853,...</td>\n",
       "      <td>en</td>\n",
       "      <td>The Dark Knight Rises</td>\n",
       "      <td>Following the death of District Attorney Harve...</td>\n",
       "      <td>112.312950</td>\n",
       "      <td>[{\"name\": \"Legendary Pictures\", \"id\": 923}, {\"...</td>\n",
       "      <td>[{\"iso_3166_1\": \"US\", \"name\": \"United States o...</td>\n",
       "      <td>2012-07-16</td>\n",
       "      <td>1084939099</td>\n",
       "      <td>165.0</td>\n",
       "      <td>[{\"iso_639_1\": \"en\", \"name\": \"English\"}]</td>\n",
       "      <td>Released</td>\n",
       "      <td>The Legend Ends</td>\n",
       "      <td>The Dark Knight Rises</td>\n",
       "      <td>7.6</td>\n",
       "      <td>9106</td>\n",
       "    </tr>\n",
       "    <tr>\n",
       "      <td>4</td>\n",
       "      <td>260000000</td>\n",
       "      <td>[{\"id\": 28, \"name\": \"Action\"}, {\"id\": 12, \"nam...</td>\n",
       "      <td>http://movies.disney.com/john-carter</td>\n",
       "      <td>49529</td>\n",
       "      <td>[{\"id\": 818, \"name\": \"based on novel\"}, {\"id\":...</td>\n",
       "      <td>en</td>\n",
       "      <td>John Carter</td>\n",
       "      <td>John Carter is a war-weary, former military ca...</td>\n",
       "      <td>43.926995</td>\n",
       "      <td>[{\"name\": \"Walt Disney Pictures\", \"id\": 2}]</td>\n",
       "      <td>[{\"iso_3166_1\": \"US\", \"name\": \"United States o...</td>\n",
       "      <td>2012-03-07</td>\n",
       "      <td>284139100</td>\n",
       "      <td>132.0</td>\n",
       "      <td>[{\"iso_639_1\": \"en\", \"name\": \"English\"}]</td>\n",
       "      <td>Released</td>\n",
       "      <td>Lost in our world, found in another.</td>\n",
       "      <td>John Carter</td>\n",
       "      <td>6.1</td>\n",
       "      <td>2124</td>\n",
       "    </tr>\n",
       "  </tbody>\n",
       "</table>\n",
       "</div>"
      ],
      "text/plain": [
       "      budget                                             genres  \\\n",
       "0  237000000  [{\"id\": 28, \"name\": \"Action\"}, {\"id\": 12, \"nam...   \n",
       "1  300000000  [{\"id\": 12, \"name\": \"Adventure\"}, {\"id\": 14, \"...   \n",
       "2  245000000  [{\"id\": 28, \"name\": \"Action\"}, {\"id\": 12, \"nam...   \n",
       "3  250000000  [{\"id\": 28, \"name\": \"Action\"}, {\"id\": 80, \"nam...   \n",
       "4  260000000  [{\"id\": 28, \"name\": \"Action\"}, {\"id\": 12, \"nam...   \n",
       "\n",
       "                                       homepage  movie_id  \\\n",
       "0                   http://www.avatarmovie.com/     19995   \n",
       "1  http://disney.go.com/disneypictures/pirates/       285   \n",
       "2   http://www.sonypictures.com/movies/spectre/    206647   \n",
       "3            http://www.thedarkknightrises.com/     49026   \n",
       "4          http://movies.disney.com/john-carter     49529   \n",
       "\n",
       "                                            keywords original_language  \\\n",
       "0  [{\"id\": 1463, \"name\": \"culture clash\"}, {\"id\":...                en   \n",
       "1  [{\"id\": 270, \"name\": \"ocean\"}, {\"id\": 726, \"na...                en   \n",
       "2  [{\"id\": 470, \"name\": \"spy\"}, {\"id\": 818, \"name...                en   \n",
       "3  [{\"id\": 849, \"name\": \"dc comics\"}, {\"id\": 853,...                en   \n",
       "4  [{\"id\": 818, \"name\": \"based on novel\"}, {\"id\":...                en   \n",
       "\n",
       "                             original_title  \\\n",
       "0                                    Avatar   \n",
       "1  Pirates of the Caribbean: At World's End   \n",
       "2                                   Spectre   \n",
       "3                     The Dark Knight Rises   \n",
       "4                               John Carter   \n",
       "\n",
       "                                            overview  popularity  \\\n",
       "0  In the 22nd century, a paraplegic Marine is di...  150.437577   \n",
       "1  Captain Barbossa, long believed to be dead, ha...  139.082615   \n",
       "2  A cryptic message from Bond’s past sends him o...  107.376788   \n",
       "3  Following the death of District Attorney Harve...  112.312950   \n",
       "4  John Carter is a war-weary, former military ca...   43.926995   \n",
       "\n",
       "                                production_companies  \\\n",
       "0  [{\"name\": \"Ingenious Film Partners\", \"id\": 289...   \n",
       "1  [{\"name\": \"Walt Disney Pictures\", \"id\": 2}, {\"...   \n",
       "2  [{\"name\": \"Columbia Pictures\", \"id\": 5}, {\"nam...   \n",
       "3  [{\"name\": \"Legendary Pictures\", \"id\": 923}, {\"...   \n",
       "4        [{\"name\": \"Walt Disney Pictures\", \"id\": 2}]   \n",
       "\n",
       "                                production_countries release_date     revenue  \\\n",
       "0  [{\"iso_3166_1\": \"US\", \"name\": \"United States o...   2009-12-10  2787965087   \n",
       "1  [{\"iso_3166_1\": \"US\", \"name\": \"United States o...   2007-05-19   961000000   \n",
       "2  [{\"iso_3166_1\": \"GB\", \"name\": \"United Kingdom\"...   2015-10-26   880674609   \n",
       "3  [{\"iso_3166_1\": \"US\", \"name\": \"United States o...   2012-07-16  1084939099   \n",
       "4  [{\"iso_3166_1\": \"US\", \"name\": \"United States o...   2012-03-07   284139100   \n",
       "\n",
       "   runtime                                   spoken_languages    status  \\\n",
       "0    162.0  [{\"iso_639_1\": \"en\", \"name\": \"English\"}, {\"iso...  Released   \n",
       "1    169.0           [{\"iso_639_1\": \"en\", \"name\": \"English\"}]  Released   \n",
       "2    148.0  [{\"iso_639_1\": \"fr\", \"name\": \"Fran\\u00e7ais\"},...  Released   \n",
       "3    165.0           [{\"iso_639_1\": \"en\", \"name\": \"English\"}]  Released   \n",
       "4    132.0           [{\"iso_639_1\": \"en\", \"name\": \"English\"}]  Released   \n",
       "\n",
       "                                          tagline  \\\n",
       "0                     Enter the World of Pandora.   \n",
       "1  At the end of the world, the adventure begins.   \n",
       "2                           A Plan No One Escapes   \n",
       "3                                 The Legend Ends   \n",
       "4            Lost in our world, found in another.   \n",
       "\n",
       "                                      title  vote_average  vote_count  \n",
       "0                                    Avatar           7.2       11800  \n",
       "1  Pirates of the Caribbean: At World's End           6.9        4500  \n",
       "2                                   Spectre           6.3        4466  \n",
       "3                     The Dark Knight Rises           7.6        9106  \n",
       "4                               John Carter           6.1        2124  "
      ]
     },
     "execution_count": 6,
     "metadata": {},
     "output_type": "execute_result"
    }
   ],
   "source": [
    "movies_df = pd.read_csv(\"./data/tmdb_5000_movies.csv\", sep=\",\", quotechar='\"').rename(\n",
    "    {\"id\": \"movie_id\"}, axis=1\n",
    ")\n",
    "movies_df.head()"
   ]
  },
  {
   "cell_type": "code",
   "execution_count": 7,
   "metadata": {},
   "outputs": [],
   "source": [
    "credits_df_cp = credits_df.copy()\n",
    "movies_df_cp = movies_df.copy()"
   ]
  },
  {
   "cell_type": "markdown",
   "metadata": {},
   "source": [
    "## Clean movies_df_cp"
   ]
  },
  {
   "cell_type": "code",
   "execution_count": 8,
   "metadata": {},
   "outputs": [
    {
     "data": {
      "text/plain": [
       "28"
      ]
     },
     "execution_count": 8,
     "metadata": {},
     "output_type": "execute_result"
    }
   ],
   "source": [
    "# movies with empty genre field\n",
    "len(movies_df_cp[movies_df_cp.astype(str)[\"genres\"] == \"[]\"])"
   ]
  },
  {
   "cell_type": "code",
   "execution_count": 9,
   "metadata": {},
   "outputs": [
    {
     "data": {
      "text/plain": [
       "351"
      ]
     },
     "execution_count": 9,
     "metadata": {},
     "output_type": "execute_result"
    }
   ],
   "source": [
    "# movies with empty production_companies field\n",
    "len(movies_df_cp[movies_df_cp.astype(str)[\"production_companies\"] == \"[]\"])"
   ]
  },
  {
   "cell_type": "code",
   "execution_count": 10,
   "metadata": {},
   "outputs": [
    {
     "data": {
      "text/plain": [
       "174"
      ]
     },
     "execution_count": 10,
     "metadata": {},
     "output_type": "execute_result"
    }
   ],
   "source": [
    "# movies with empty production_companies field\n",
    "len(movies_df_cp[movies_df_cp.astype(str)[\"production_countries\"] == \"[]\"])"
   ]
  },
  {
   "cell_type": "code",
   "execution_count": 11,
   "metadata": {},
   "outputs": [
    {
     "data": {
      "text/plain": [
       "86"
      ]
     },
     "execution_count": 11,
     "metadata": {},
     "output_type": "execute_result"
    }
   ],
   "source": [
    "# movies with empty production_companies field\n",
    "len(movies_df_cp[movies_df_cp.astype(str)[\"spoken_languages\"] == \"[]\"])"
   ]
  },
  {
   "cell_type": "markdown",
   "metadata": {},
   "source": [
    "## Process movies df"
   ]
  },
  {
   "cell_type": "code",
   "execution_count": 12,
   "metadata": {},
   "outputs": [
    {
     "data": {
      "text/plain": [
       "4803"
      ]
     },
     "execution_count": 12,
     "metadata": {},
     "output_type": "execute_result"
    }
   ],
   "source": [
    "pr_movies_df = movies_df_cp\n",
    "len(pr_movies_df)"
   ]
  },
  {
   "cell_type": "code",
   "execution_count": 13,
   "metadata": {},
   "outputs": [
    {
     "data": {
      "text/html": [
       "<div>\n",
       "<style scoped>\n",
       "    .dataframe tbody tr th:only-of-type {\n",
       "        vertical-align: middle;\n",
       "    }\n",
       "\n",
       "    .dataframe tbody tr th {\n",
       "        vertical-align: top;\n",
       "    }\n",
       "\n",
       "    .dataframe thead th {\n",
       "        text-align: right;\n",
       "    }\n",
       "</style>\n",
       "<table border=\"1\" class=\"dataframe\">\n",
       "  <thead>\n",
       "    <tr style=\"text-align: right;\">\n",
       "      <th></th>\n",
       "      <th>budget</th>\n",
       "      <th>genres</th>\n",
       "      <th>homepage</th>\n",
       "      <th>movie_id</th>\n",
       "      <th>keywords</th>\n",
       "      <th>original_language</th>\n",
       "      <th>original_title</th>\n",
       "      <th>overview</th>\n",
       "      <th>popularity</th>\n",
       "      <th>production_companies</th>\n",
       "      <th>production_countries</th>\n",
       "      <th>release_date</th>\n",
       "      <th>revenue</th>\n",
       "      <th>runtime</th>\n",
       "      <th>spoken_languages</th>\n",
       "      <th>status</th>\n",
       "      <th>tagline</th>\n",
       "      <th>title</th>\n",
       "      <th>vote_average</th>\n",
       "      <th>vote_count</th>\n",
       "    </tr>\n",
       "  </thead>\n",
       "  <tbody>\n",
       "    <tr>\n",
       "      <td>0</td>\n",
       "      <td>237000000</td>\n",
       "      <td>[{\"id\": 28, \"name\": \"Action\"}, {\"id\": 12, \"nam...</td>\n",
       "      <td>http://www.avatarmovie.com/</td>\n",
       "      <td>19995</td>\n",
       "      <td>[{\"id\": 1463, \"name\": \"culture clash\"}, {\"id\":...</td>\n",
       "      <td>en</td>\n",
       "      <td>Avatar</td>\n",
       "      <td>In the 22nd century, a paraplegic Marine is di...</td>\n",
       "      <td>150.437577</td>\n",
       "      <td>[{\"name\": \"Ingenious Film Partners\", \"id\": 289...</td>\n",
       "      <td>[{\"iso_3166_1\": \"US\", \"name\": \"United States o...</td>\n",
       "      <td>2009-12-10</td>\n",
       "      <td>2787965087</td>\n",
       "      <td>162.0</td>\n",
       "      <td>[{\"iso_639_1\": \"en\", \"name\": \"English\"}, {\"iso...</td>\n",
       "      <td>Released</td>\n",
       "      <td>Enter the World of Pandora.</td>\n",
       "      <td>Avatar</td>\n",
       "      <td>7.2</td>\n",
       "      <td>11800</td>\n",
       "    </tr>\n",
       "    <tr>\n",
       "      <td>1</td>\n",
       "      <td>300000000</td>\n",
       "      <td>[{\"id\": 12, \"name\": \"Adventure\"}, {\"id\": 14, \"...</td>\n",
       "      <td>http://disney.go.com/disneypictures/pirates/</td>\n",
       "      <td>285</td>\n",
       "      <td>[{\"id\": 270, \"name\": \"ocean\"}, {\"id\": 726, \"na...</td>\n",
       "      <td>en</td>\n",
       "      <td>Pirates of the Caribbean: At World's End</td>\n",
       "      <td>Captain Barbossa, long believed to be dead, ha...</td>\n",
       "      <td>139.082615</td>\n",
       "      <td>[{\"name\": \"Walt Disney Pictures\", \"id\": 2}, {\"...</td>\n",
       "      <td>[{\"iso_3166_1\": \"US\", \"name\": \"United States o...</td>\n",
       "      <td>2007-05-19</td>\n",
       "      <td>961000000</td>\n",
       "      <td>169.0</td>\n",
       "      <td>[{\"iso_639_1\": \"en\", \"name\": \"English\"}]</td>\n",
       "      <td>Released</td>\n",
       "      <td>At the end of the world, the adventure begins.</td>\n",
       "      <td>Pirates of the Caribbean: At World's End</td>\n",
       "      <td>6.9</td>\n",
       "      <td>4500</td>\n",
       "    </tr>\n",
       "    <tr>\n",
       "      <td>2</td>\n",
       "      <td>245000000</td>\n",
       "      <td>[{\"id\": 28, \"name\": \"Action\"}, {\"id\": 12, \"nam...</td>\n",
       "      <td>http://www.sonypictures.com/movies/spectre/</td>\n",
       "      <td>206647</td>\n",
       "      <td>[{\"id\": 470, \"name\": \"spy\"}, {\"id\": 818, \"name...</td>\n",
       "      <td>en</td>\n",
       "      <td>Spectre</td>\n",
       "      <td>A cryptic message from Bond’s past sends him o...</td>\n",
       "      <td>107.376788</td>\n",
       "      <td>[{\"name\": \"Columbia Pictures\", \"id\": 5}, {\"nam...</td>\n",
       "      <td>[{\"iso_3166_1\": \"GB\", \"name\": \"United Kingdom\"...</td>\n",
       "      <td>2015-10-26</td>\n",
       "      <td>880674609</td>\n",
       "      <td>148.0</td>\n",
       "      <td>[{\"iso_639_1\": \"fr\", \"name\": \"Fran\\u00e7ais\"},...</td>\n",
       "      <td>Released</td>\n",
       "      <td>A Plan No One Escapes</td>\n",
       "      <td>Spectre</td>\n",
       "      <td>6.3</td>\n",
       "      <td>4466</td>\n",
       "    </tr>\n",
       "    <tr>\n",
       "      <td>3</td>\n",
       "      <td>250000000</td>\n",
       "      <td>[{\"id\": 28, \"name\": \"Action\"}, {\"id\": 80, \"nam...</td>\n",
       "      <td>http://www.thedarkknightrises.com/</td>\n",
       "      <td>49026</td>\n",
       "      <td>[{\"id\": 849, \"name\": \"dc comics\"}, {\"id\": 853,...</td>\n",
       "      <td>en</td>\n",
       "      <td>The Dark Knight Rises</td>\n",
       "      <td>Following the death of District Attorney Harve...</td>\n",
       "      <td>112.312950</td>\n",
       "      <td>[{\"name\": \"Legendary Pictures\", \"id\": 923}, {\"...</td>\n",
       "      <td>[{\"iso_3166_1\": \"US\", \"name\": \"United States o...</td>\n",
       "      <td>2012-07-16</td>\n",
       "      <td>1084939099</td>\n",
       "      <td>165.0</td>\n",
       "      <td>[{\"iso_639_1\": \"en\", \"name\": \"English\"}]</td>\n",
       "      <td>Released</td>\n",
       "      <td>The Legend Ends</td>\n",
       "      <td>The Dark Knight Rises</td>\n",
       "      <td>7.6</td>\n",
       "      <td>9106</td>\n",
       "    </tr>\n",
       "    <tr>\n",
       "      <td>4</td>\n",
       "      <td>260000000</td>\n",
       "      <td>[{\"id\": 28, \"name\": \"Action\"}, {\"id\": 12, \"nam...</td>\n",
       "      <td>http://movies.disney.com/john-carter</td>\n",
       "      <td>49529</td>\n",
       "      <td>[{\"id\": 818, \"name\": \"based on novel\"}, {\"id\":...</td>\n",
       "      <td>en</td>\n",
       "      <td>John Carter</td>\n",
       "      <td>John Carter is a war-weary, former military ca...</td>\n",
       "      <td>43.926995</td>\n",
       "      <td>[{\"name\": \"Walt Disney Pictures\", \"id\": 2}]</td>\n",
       "      <td>[{\"iso_3166_1\": \"US\", \"name\": \"United States o...</td>\n",
       "      <td>2012-03-07</td>\n",
       "      <td>284139100</td>\n",
       "      <td>132.0</td>\n",
       "      <td>[{\"iso_639_1\": \"en\", \"name\": \"English\"}]</td>\n",
       "      <td>Released</td>\n",
       "      <td>Lost in our world, found in another.</td>\n",
       "      <td>John Carter</td>\n",
       "      <td>6.1</td>\n",
       "      <td>2124</td>\n",
       "    </tr>\n",
       "  </tbody>\n",
       "</table>\n",
       "</div>"
      ],
      "text/plain": [
       "      budget                                             genres  \\\n",
       "0  237000000  [{\"id\": 28, \"name\": \"Action\"}, {\"id\": 12, \"nam...   \n",
       "1  300000000  [{\"id\": 12, \"name\": \"Adventure\"}, {\"id\": 14, \"...   \n",
       "2  245000000  [{\"id\": 28, \"name\": \"Action\"}, {\"id\": 12, \"nam...   \n",
       "3  250000000  [{\"id\": 28, \"name\": \"Action\"}, {\"id\": 80, \"nam...   \n",
       "4  260000000  [{\"id\": 28, \"name\": \"Action\"}, {\"id\": 12, \"nam...   \n",
       "\n",
       "                                       homepage  movie_id  \\\n",
       "0                   http://www.avatarmovie.com/     19995   \n",
       "1  http://disney.go.com/disneypictures/pirates/       285   \n",
       "2   http://www.sonypictures.com/movies/spectre/    206647   \n",
       "3            http://www.thedarkknightrises.com/     49026   \n",
       "4          http://movies.disney.com/john-carter     49529   \n",
       "\n",
       "                                            keywords original_language  \\\n",
       "0  [{\"id\": 1463, \"name\": \"culture clash\"}, {\"id\":...                en   \n",
       "1  [{\"id\": 270, \"name\": \"ocean\"}, {\"id\": 726, \"na...                en   \n",
       "2  [{\"id\": 470, \"name\": \"spy\"}, {\"id\": 818, \"name...                en   \n",
       "3  [{\"id\": 849, \"name\": \"dc comics\"}, {\"id\": 853,...                en   \n",
       "4  [{\"id\": 818, \"name\": \"based on novel\"}, {\"id\":...                en   \n",
       "\n",
       "                             original_title  \\\n",
       "0                                    Avatar   \n",
       "1  Pirates of the Caribbean: At World's End   \n",
       "2                                   Spectre   \n",
       "3                     The Dark Knight Rises   \n",
       "4                               John Carter   \n",
       "\n",
       "                                            overview  popularity  \\\n",
       "0  In the 22nd century, a paraplegic Marine is di...  150.437577   \n",
       "1  Captain Barbossa, long believed to be dead, ha...  139.082615   \n",
       "2  A cryptic message from Bond’s past sends him o...  107.376788   \n",
       "3  Following the death of District Attorney Harve...  112.312950   \n",
       "4  John Carter is a war-weary, former military ca...   43.926995   \n",
       "\n",
       "                                production_companies  \\\n",
       "0  [{\"name\": \"Ingenious Film Partners\", \"id\": 289...   \n",
       "1  [{\"name\": \"Walt Disney Pictures\", \"id\": 2}, {\"...   \n",
       "2  [{\"name\": \"Columbia Pictures\", \"id\": 5}, {\"nam...   \n",
       "3  [{\"name\": \"Legendary Pictures\", \"id\": 923}, {\"...   \n",
       "4        [{\"name\": \"Walt Disney Pictures\", \"id\": 2}]   \n",
       "\n",
       "                                production_countries release_date     revenue  \\\n",
       "0  [{\"iso_3166_1\": \"US\", \"name\": \"United States o...   2009-12-10  2787965087   \n",
       "1  [{\"iso_3166_1\": \"US\", \"name\": \"United States o...   2007-05-19   961000000   \n",
       "2  [{\"iso_3166_1\": \"GB\", \"name\": \"United Kingdom\"...   2015-10-26   880674609   \n",
       "3  [{\"iso_3166_1\": \"US\", \"name\": \"United States o...   2012-07-16  1084939099   \n",
       "4  [{\"iso_3166_1\": \"US\", \"name\": \"United States o...   2012-03-07   284139100   \n",
       "\n",
       "   runtime                                   spoken_languages    status  \\\n",
       "0    162.0  [{\"iso_639_1\": \"en\", \"name\": \"English\"}, {\"iso...  Released   \n",
       "1    169.0           [{\"iso_639_1\": \"en\", \"name\": \"English\"}]  Released   \n",
       "2    148.0  [{\"iso_639_1\": \"fr\", \"name\": \"Fran\\u00e7ais\"},...  Released   \n",
       "3    165.0           [{\"iso_639_1\": \"en\", \"name\": \"English\"}]  Released   \n",
       "4    132.0           [{\"iso_639_1\": \"en\", \"name\": \"English\"}]  Released   \n",
       "\n",
       "                                          tagline  \\\n",
       "0                     Enter the World of Pandora.   \n",
       "1  At the end of the world, the adventure begins.   \n",
       "2                           A Plan No One Escapes   \n",
       "3                                 The Legend Ends   \n",
       "4            Lost in our world, found in another.   \n",
       "\n",
       "                                      title  vote_average  vote_count  \n",
       "0                                    Avatar           7.2       11800  \n",
       "1  Pirates of the Caribbean: At World's End           6.9        4500  \n",
       "2                                   Spectre           6.3        4466  \n",
       "3                     The Dark Knight Rises           7.6        9106  \n",
       "4                               John Carter           6.1        2124  "
      ]
     },
     "execution_count": 13,
     "metadata": {},
     "output_type": "execute_result"
    }
   ],
   "source": [
    "pr_movies_df.head()"
   ]
  },
  {
   "cell_type": "code",
   "execution_count": 14,
   "metadata": {},
   "outputs": [
    {
     "data": {
      "text/html": [
       "<div>\n",
       "<style scoped>\n",
       "    .dataframe tbody tr th:only-of-type {\n",
       "        vertical-align: middle;\n",
       "    }\n",
       "\n",
       "    .dataframe tbody tr th {\n",
       "        vertical-align: top;\n",
       "    }\n",
       "\n",
       "    .dataframe thead th {\n",
       "        text-align: right;\n",
       "    }\n",
       "</style>\n",
       "<table border=\"1\" class=\"dataframe\">\n",
       "  <thead>\n",
       "    <tr style=\"text-align: right;\">\n",
       "      <th></th>\n",
       "      <th>budget</th>\n",
       "      <th>genres</th>\n",
       "      <th>movie_id</th>\n",
       "      <th>keywords</th>\n",
       "      <th>original_language</th>\n",
       "      <th>popularity</th>\n",
       "      <th>production_companies</th>\n",
       "      <th>production_countries</th>\n",
       "      <th>release_date</th>\n",
       "      <th>revenue</th>\n",
       "      <th>runtime</th>\n",
       "      <th>spoken_languages</th>\n",
       "      <th>status</th>\n",
       "      <th>title</th>\n",
       "      <th>vote_average</th>\n",
       "      <th>vote_count</th>\n",
       "    </tr>\n",
       "  </thead>\n",
       "  <tbody>\n",
       "    <tr>\n",
       "      <td>0</td>\n",
       "      <td>237000000</td>\n",
       "      <td>{Action, Adventure, Science Fiction, Fantasy}</td>\n",
       "      <td>19995</td>\n",
       "      <td>{battle, anti war, alien, mind and soul, space...</td>\n",
       "      <td>en</td>\n",
       "      <td>150.437577</td>\n",
       "      <td>{Lightstorm Entertainment, Ingenious Film Part...</td>\n",
       "      <td>{United Kingdom, United States of America}</td>\n",
       "      <td>2009-12-10</td>\n",
       "      <td>2787965087</td>\n",
       "      <td>162.0</td>\n",
       "      <td>{English, Español}</td>\n",
       "      <td>Released</td>\n",
       "      <td>Avatar</td>\n",
       "      <td>7.2</td>\n",
       "      <td>11800</td>\n",
       "    </tr>\n",
       "    <tr>\n",
       "      <td>1</td>\n",
       "      <td>300000000</td>\n",
       "      <td>{Action, Adventure, Fantasy}</td>\n",
       "      <td>285</td>\n",
       "      <td>{afterlife, traitor, ship, drug abuse, ocean, ...</td>\n",
       "      <td>en</td>\n",
       "      <td>139.082615</td>\n",
       "      <td>{Jerry Bruckheimer Films, Second Mate Producti...</td>\n",
       "      <td>{United States of America}</td>\n",
       "      <td>2007-05-19</td>\n",
       "      <td>961000000</td>\n",
       "      <td>169.0</td>\n",
       "      <td>{English}</td>\n",
       "      <td>Released</td>\n",
       "      <td>Pirates of the Caribbean: At World's End</td>\n",
       "      <td>6.9</td>\n",
       "      <td>4500</td>\n",
       "    </tr>\n",
       "    <tr>\n",
       "      <td>2</td>\n",
       "      <td>245000000</td>\n",
       "      <td>{Action, Adventure, Crime}</td>\n",
       "      <td>206647</td>\n",
       "      <td>{secret agent, united kingdom, british secret ...</td>\n",
       "      <td>en</td>\n",
       "      <td>107.376788</td>\n",
       "      <td>{B24, Danjaq, Columbia Pictures}</td>\n",
       "      <td>{United Kingdom, United States of America}</td>\n",
       "      <td>2015-10-26</td>\n",
       "      <td>880674609</td>\n",
       "      <td>148.0</td>\n",
       "      <td>{Français, English, Español, Deutsch, Italiano}</td>\n",
       "      <td>Released</td>\n",
       "      <td>Spectre</td>\n",
       "      <td>6.3</td>\n",
       "      <td>4466</td>\n",
       "    </tr>\n",
       "    <tr>\n",
       "      <td>3</td>\n",
       "      <td>250000000</td>\n",
       "      <td>{Action, Drama, Crime, Thriller}</td>\n",
       "      <td>49026</td>\n",
       "      <td>{catwoman, villainess, destruction, secret ide...</td>\n",
       "      <td>en</td>\n",
       "      <td>112.312950</td>\n",
       "      <td>{Syncopy, Legendary Pictures, Warner Bros., DC...</td>\n",
       "      <td>{United States of America}</td>\n",
       "      <td>2012-07-16</td>\n",
       "      <td>1084939099</td>\n",
       "      <td>165.0</td>\n",
       "      <td>{English}</td>\n",
       "      <td>Released</td>\n",
       "      <td>The Dark Knight Rises</td>\n",
       "      <td>7.6</td>\n",
       "      <td>9106</td>\n",
       "    </tr>\n",
       "    <tr>\n",
       "      <td>4</td>\n",
       "      <td>260000000</td>\n",
       "      <td>{Action, Adventure, Science Fiction}</td>\n",
       "      <td>49529</td>\n",
       "      <td>{martian, 19th century, medallion, sword and p...</td>\n",
       "      <td>en</td>\n",
       "      <td>43.926995</td>\n",
       "      <td>{Walt Disney Pictures}</td>\n",
       "      <td>{United States of America}</td>\n",
       "      <td>2012-03-07</td>\n",
       "      <td>284139100</td>\n",
       "      <td>132.0</td>\n",
       "      <td>{English}</td>\n",
       "      <td>Released</td>\n",
       "      <td>John Carter</td>\n",
       "      <td>6.1</td>\n",
       "      <td>2124</td>\n",
       "    </tr>\n",
       "  </tbody>\n",
       "</table>\n",
       "</div>"
      ],
      "text/plain": [
       "      budget                                         genres  movie_id  \\\n",
       "0  237000000  {Action, Adventure, Science Fiction, Fantasy}     19995   \n",
       "1  300000000                   {Action, Adventure, Fantasy}       285   \n",
       "2  245000000                     {Action, Adventure, Crime}    206647   \n",
       "3  250000000               {Action, Drama, Crime, Thriller}     49026   \n",
       "4  260000000           {Action, Adventure, Science Fiction}     49529   \n",
       "\n",
       "                                            keywords original_language  \\\n",
       "0  {battle, anti war, alien, mind and soul, space...                en   \n",
       "1  {afterlife, traitor, ship, drug abuse, ocean, ...                en   \n",
       "2  {secret agent, united kingdom, british secret ...                en   \n",
       "3  {catwoman, villainess, destruction, secret ide...                en   \n",
       "4  {martian, 19th century, medallion, sword and p...                en   \n",
       "\n",
       "   popularity                               production_companies  \\\n",
       "0  150.437577  {Lightstorm Entertainment, Ingenious Film Part...   \n",
       "1  139.082615  {Jerry Bruckheimer Films, Second Mate Producti...   \n",
       "2  107.376788                   {B24, Danjaq, Columbia Pictures}   \n",
       "3  112.312950  {Syncopy, Legendary Pictures, Warner Bros., DC...   \n",
       "4   43.926995                             {Walt Disney Pictures}   \n",
       "\n",
       "                         production_countries release_date     revenue  \\\n",
       "0  {United Kingdom, United States of America}   2009-12-10  2787965087   \n",
       "1                  {United States of America}   2007-05-19   961000000   \n",
       "2  {United Kingdom, United States of America}   2015-10-26   880674609   \n",
       "3                  {United States of America}   2012-07-16  1084939099   \n",
       "4                  {United States of America}   2012-03-07   284139100   \n",
       "\n",
       "   runtime                                 spoken_languages    status  \\\n",
       "0    162.0                               {English, Español}  Released   \n",
       "1    169.0                                        {English}  Released   \n",
       "2    148.0  {Français, English, Español, Deutsch, Italiano}  Released   \n",
       "3    165.0                                        {English}  Released   \n",
       "4    132.0                                        {English}  Released   \n",
       "\n",
       "                                      title  vote_average  vote_count  \n",
       "0                                    Avatar           7.2       11800  \n",
       "1  Pirates of the Caribbean: At World's End           6.9        4500  \n",
       "2                                   Spectre           6.3        4466  \n",
       "3                     The Dark Knight Rises           7.6        9106  \n",
       "4                               John Carter           6.1        2124  "
      ]
     },
     "execution_count": 14,
     "metadata": {},
     "output_type": "execute_result"
    }
   ],
   "source": [
    "# Transform json to list of dictionaries within cols\n",
    "movies_df_json_cols = [\n",
    "    \"genres\",\n",
    "    \"production_companies\",\n",
    "    \"keywords\",\n",
    "    \"production_countries\",\n",
    "    \"spoken_languages\",\n",
    "]\n",
    "cols_to_drop = [\"homepage\", \"overview\", \"tagline\", \"original_title\"]\n",
    "key = \"name\"\n",
    "movie_id_col = \"movie_id\"\n",
    "\n",
    "pr_movies_df = col_json_to_dict(pr_movies_df, movies_df_json_cols)\n",
    "for col in movies_df_json_cols:\n",
    "    pr_movies_df = col_dict_to_set(pr_movies_df, col, key)\n",
    "pr_movies_df = pr_movies_df.drop(columns=cols_to_drop)\n",
    "pr_movies_df.head()"
   ]
  },
  {
   "cell_type": "markdown",
   "metadata": {},
   "source": [
    "## Process credits df"
   ]
  },
  {
   "cell_type": "code",
   "execution_count": 15,
   "metadata": {},
   "outputs": [
    {
     "data": {
      "text/html": [
       "<div>\n",
       "<style scoped>\n",
       "    .dataframe tbody tr th:only-of-type {\n",
       "        vertical-align: middle;\n",
       "    }\n",
       "\n",
       "    .dataframe tbody tr th {\n",
       "        vertical-align: top;\n",
       "    }\n",
       "\n",
       "    .dataframe thead th {\n",
       "        text-align: right;\n",
       "    }\n",
       "</style>\n",
       "<table border=\"1\" class=\"dataframe\">\n",
       "  <thead>\n",
       "    <tr style=\"text-align: right;\">\n",
       "      <th></th>\n",
       "      <th>movie_id</th>\n",
       "      <th>cast</th>\n",
       "      <th>crew</th>\n",
       "      <th>actors</th>\n",
       "    </tr>\n",
       "  </thead>\n",
       "  <tbody>\n",
       "    <tr>\n",
       "      <td>0</td>\n",
       "      <td>19995</td>\n",
       "      <td>{Zoe Saldana, Jamie Harrison, Mike Bodnar, Tay...</td>\n",
       "      <td>{James Cameron}</td>\n",
       "      <td>Sam Worthington</td>\n",
       "    </tr>\n",
       "    <tr>\n",
       "      <td>1</td>\n",
       "      <td>19995</td>\n",
       "      <td>{Jamie Harrison, Mike Bodnar, Taylor Kibby, Ka...</td>\n",
       "      <td>{James Cameron}</td>\n",
       "      <td>Zoe Saldana</td>\n",
       "    </tr>\n",
       "    <tr>\n",
       "      <td>2</td>\n",
       "      <td>285</td>\n",
       "      <td>{Reggie Lee, Keith Richards, Ghassan Massoud, ...</td>\n",
       "      <td>{Gore Verbinski}</td>\n",
       "      <td>Johnny Depp</td>\n",
       "    </tr>\n",
       "    <tr>\n",
       "      <td>3</td>\n",
       "      <td>285</td>\n",
       "      <td>{Reggie Lee, Keith Richards, Ghassan Massoud, ...</td>\n",
       "      <td>{Gore Verbinski}</td>\n",
       "      <td>Orlando Bloom</td>\n",
       "    </tr>\n",
       "    <tr>\n",
       "      <td>4</td>\n",
       "      <td>206647</td>\n",
       "      <td>{Detlef Bothe, Pip Carter, Nari Blair-Mangat, ...</td>\n",
       "      <td>{Sam Mendes}</td>\n",
       "      <td>Daniel Craig</td>\n",
       "    </tr>\n",
       "  </tbody>\n",
       "</table>\n",
       "</div>"
      ],
      "text/plain": [
       "   movie_id                                               cast  \\\n",
       "0     19995  {Zoe Saldana, Jamie Harrison, Mike Bodnar, Tay...   \n",
       "1     19995  {Jamie Harrison, Mike Bodnar, Taylor Kibby, Ka...   \n",
       "2       285  {Reggie Lee, Keith Richards, Ghassan Massoud, ...   \n",
       "3       285  {Reggie Lee, Keith Richards, Ghassan Massoud, ...   \n",
       "4    206647  {Detlef Bothe, Pip Carter, Nari Blair-Mangat, ...   \n",
       "\n",
       "               crew           actors  \n",
       "0   {James Cameron}  Sam Worthington  \n",
       "1   {James Cameron}      Zoe Saldana  \n",
       "2  {Gore Verbinski}      Johnny Depp  \n",
       "3  {Gore Verbinski}    Orlando Bloom  \n",
       "4      {Sam Mendes}     Daniel Craig  "
      ]
     },
     "execution_count": 15,
     "metadata": {},
     "output_type": "execute_result"
    }
   ],
   "source": [
    "pr_credits_df = credits_df_cp\n",
    "credits_df_json_cols = [\"cast\", \"crew\"]\n",
    "key = \"name\"\n",
    "pr_credits_df = col_json_to_dict(pr_credits_df, credits_df_json_cols)\n",
    "pr_credits_df = pr_credits_df.assign(actors=pr_credits_df[credits_df_json_cols[0]])\n",
    "for col in credits_df_json_cols:\n",
    "    if col != \"crew\":\n",
    "        pr_credits_df = col_dict_to_set(pr_credits_df, col, key)\n",
    "crew_col = \"crew\"\n",
    "job_field = \"job\"\n",
    "values = [\"Director\"]\n",
    "# Filter dictionaries with Director as job\n",
    "pr_credits_df = col_filter_dict_with_vals(\n",
    "    pr_credits_df, crew_col, job_field, values\n",
    ").rename({crew_col: values[0]})\n",
    "pr_credits_df = col_dict_to_set(pr_credits_df, crew_col, key)\n",
    "# Get actors col\n",
    "# Only select main actors to reduce the size of the dataset\n",
    "actors_col = \"actors\"\n",
    "order_field = \"order\"\n",
    "# Select the number of important actors\n",
    "values = [0, 1]\n",
    "pr_credits_df = col_filter_dict_with_vals(\n",
    "    pr_credits_df, actors_col, order_field, values\n",
    ").rename({crew_col: values[0]})\n",
    "\n",
    "get_value = lambda dict_: dict_.get(key)\n",
    "\n",
    "pr_credits_df = pr_credits_df.explode(actors_col)\n",
    "pr_credits_df = pr_credits_df[pr_credits_df[actors_col].notna()]\n",
    "actors_series = pr_credits_df[actors_col]\n",
    "pr_credits_df = pr_credits_df.assign(\n",
    "    **{actors_col: pr_credits_df[actors_col].apply(get_value)}\n",
    ")\n",
    "# Remove actor from cast\n",
    "actor_cast_col = \"actor_cast\"\n",
    "pr_credits_df = pr_credits_df.reset_index(drop=True)\n",
    "remove_from_cast = lambda row: row[credits_df_json_cols[0]] - set({row[actors_col]})\n",
    "pr_credits_df = pr_credits_df.assign(\n",
    "    **{credits_df_json_cols[0]: pr_credits_df.apply(remove_from_cast, axis=1)}\n",
    ").drop(columns=\"title\")\n",
    "pr_credits_df.head()"
   ]
  },
  {
   "cell_type": "code",
   "execution_count": 16,
   "metadata": {},
   "outputs": [
    {
     "data": {
      "text/html": [
       "<div>\n",
       "<style scoped>\n",
       "    .dataframe tbody tr th:only-of-type {\n",
       "        vertical-align: middle;\n",
       "    }\n",
       "\n",
       "    .dataframe tbody tr th {\n",
       "        vertical-align: top;\n",
       "    }\n",
       "\n",
       "    .dataframe thead th {\n",
       "        text-align: right;\n",
       "    }\n",
       "</style>\n",
       "<table border=\"1\" class=\"dataframe\">\n",
       "  <thead>\n",
       "    <tr style=\"text-align: right;\">\n",
       "      <th></th>\n",
       "      <th>actor_id</th>\n",
       "      <th>actors</th>\n",
       "      <th>gender</th>\n",
       "      <th>order</th>\n",
       "    </tr>\n",
       "  </thead>\n",
       "  <tbody>\n",
       "    <tr>\n",
       "      <td>0</td>\n",
       "      <td>0</td>\n",
       "      <td>\"Weird Al\" Yankovic</td>\n",
       "      <td>0</td>\n",
       "      <td>[0]</td>\n",
       "    </tr>\n",
       "    <tr>\n",
       "      <td>1</td>\n",
       "      <td>1</td>\n",
       "      <td>50 Cent</td>\n",
       "      <td>2</td>\n",
       "      <td>[0]</td>\n",
       "    </tr>\n",
       "    <tr>\n",
       "      <td>2</td>\n",
       "      <td>2</td>\n",
       "      <td>A.J. Buckley</td>\n",
       "      <td>2</td>\n",
       "      <td>[1]</td>\n",
       "    </tr>\n",
       "    <tr>\n",
       "      <td>3</td>\n",
       "      <td>3</td>\n",
       "      <td>A.J. Cook</td>\n",
       "      <td>1</td>\n",
       "      <td>[1]</td>\n",
       "    </tr>\n",
       "    <tr>\n",
       "      <td>4</td>\n",
       "      <td>4</td>\n",
       "      <td>AJ Michalka</td>\n",
       "      <td>1</td>\n",
       "      <td>[0]</td>\n",
       "    </tr>\n",
       "    <tr>\n",
       "      <td>...</td>\n",
       "      <td>...</td>\n",
       "      <td>...</td>\n",
       "      <td>...</td>\n",
       "      <td>...</td>\n",
       "    </tr>\n",
       "    <tr>\n",
       "      <td>3765</td>\n",
       "      <td>3765</td>\n",
       "      <td>Zoe Sloane</td>\n",
       "      <td>0</td>\n",
       "      <td>[0]</td>\n",
       "    </tr>\n",
       "    <tr>\n",
       "      <td>3766</td>\n",
       "      <td>3766</td>\n",
       "      <td>Zooey Deschanel</td>\n",
       "      <td>1</td>\n",
       "      <td>[1, 1, 1, 1, 0, 1]</td>\n",
       "    </tr>\n",
       "    <tr>\n",
       "      <td>3767</td>\n",
       "      <td>3767</td>\n",
       "      <td>Zoë Kravitz</td>\n",
       "      <td>1</td>\n",
       "      <td>[1]</td>\n",
       "    </tr>\n",
       "    <tr>\n",
       "      <td>3768</td>\n",
       "      <td>3768</td>\n",
       "      <td>Zuleikha Robinson</td>\n",
       "      <td>1</td>\n",
       "      <td>[1]</td>\n",
       "    </tr>\n",
       "    <tr>\n",
       "      <td>3769</td>\n",
       "      <td>3769</td>\n",
       "      <td>Óscar Jaenada</td>\n",
       "      <td>2</td>\n",
       "      <td>[1]</td>\n",
       "    </tr>\n",
       "  </tbody>\n",
       "</table>\n",
       "<p>3770 rows × 4 columns</p>\n",
       "</div>"
      ],
      "text/plain": [
       "      actor_id               actors  gender               order\n",
       "0            0  \"Weird Al\" Yankovic       0                 [0]\n",
       "1            1              50 Cent       2                 [0]\n",
       "2            2         A.J. Buckley       2                 [1]\n",
       "3            3            A.J. Cook       1                 [1]\n",
       "4            4          AJ Michalka       1                 [0]\n",
       "...        ...                  ...     ...                 ...\n",
       "3765      3765           Zoe Sloane       0                 [0]\n",
       "3766      3766      Zooey Deschanel       1  [1, 1, 1, 1, 0, 1]\n",
       "3767      3767          Zoë Kravitz       1                 [1]\n",
       "3768      3768    Zuleikha Robinson       1                 [1]\n",
       "3769      3769        Óscar Jaenada       2                 [1]\n",
       "\n",
       "[3770 rows x 4 columns]"
      ]
     },
     "execution_count": 16,
     "metadata": {},
     "output_type": "execute_result"
    }
   ],
   "source": [
    "actor_cols = [\"name\", \"gender\", \"order\"]\n",
    "actors_df = json_normalize(actors_series)[actor_cols]\n",
    "actors_df = (\n",
    "    actors_df.rename(columns={actor_cols[0]: actors_col})\n",
    "    .groupby(actors_col)\n",
    "    .aggregate({actor_cols[1]: max, actor_cols[2]: list})\n",
    "    .reset_index()\n",
    "    .reset_index()\n",
    "    .rename(columns={\"index\": \"actor_id\"})\n",
    ")\n",
    "actors_df"
   ]
  },
  {
   "cell_type": "code",
   "execution_count": 17,
   "metadata": {},
   "outputs": [
    {
     "data": {
      "text/html": [
       "<div>\n",
       "<style scoped>\n",
       "    .dataframe tbody tr th:only-of-type {\n",
       "        vertical-align: middle;\n",
       "    }\n",
       "\n",
       "    .dataframe tbody tr th {\n",
       "        vertical-align: top;\n",
       "    }\n",
       "\n",
       "    .dataframe thead th {\n",
       "        text-align: right;\n",
       "    }\n",
       "</style>\n",
       "<table border=\"1\" class=\"dataframe\">\n",
       "  <thead>\n",
       "    <tr style=\"text-align: right;\">\n",
       "      <th></th>\n",
       "      <th>movie_id</th>\n",
       "      <th>cast</th>\n",
       "      <th>crew</th>\n",
       "      <th>actors</th>\n",
       "      <th>actor_id</th>\n",
       "      <th>gender</th>\n",
       "      <th>order</th>\n",
       "    </tr>\n",
       "  </thead>\n",
       "  <tbody>\n",
       "    <tr>\n",
       "      <td>0</td>\n",
       "      <td>19995</td>\n",
       "      <td>{Zoe Saldana, Jamie Harrison, Mike Bodnar, Tay...</td>\n",
       "      <td>{James Cameron}</td>\n",
       "      <td>Sam Worthington</td>\n",
       "      <td>3169</td>\n",
       "      <td>2</td>\n",
       "      <td>[0, 1, 0, 0, 0, 1]</td>\n",
       "    </tr>\n",
       "    <tr>\n",
       "      <td>1</td>\n",
       "      <td>534</td>\n",
       "      <td>{Chris Ashworth, Bryce Dallas Howard, Anton Ye...</td>\n",
       "      <td>{McG}</td>\n",
       "      <td>Sam Worthington</td>\n",
       "      <td>3169</td>\n",
       "      <td>2</td>\n",
       "      <td>[0, 1, 0, 0, 0, 1]</td>\n",
       "    </tr>\n",
       "    <tr>\n",
       "      <td>2</td>\n",
       "      <td>57165</td>\n",
       "      <td>{Liam Neeson, Bill Nighy, Lily James, Kathryn ...</td>\n",
       "      <td>{Jonathan Liebesman}</td>\n",
       "      <td>Sam Worthington</td>\n",
       "      <td>3169</td>\n",
       "      <td>2</td>\n",
       "      <td>[0, 1, 0, 0, 0, 1]</td>\n",
       "    </tr>\n",
       "    <tr>\n",
       "      <td>3</td>\n",
       "      <td>18823</td>\n",
       "      <td>{David Kennedy, Polly Walker, Luke Evans, Alex...</td>\n",
       "      <td>{Louis Leterrier}</td>\n",
       "      <td>Sam Worthington</td>\n",
       "      <td>3169</td>\n",
       "      <td>2</td>\n",
       "      <td>[0, 1, 0, 0, 0, 1]</td>\n",
       "    </tr>\n",
       "    <tr>\n",
       "      <td>4</td>\n",
       "      <td>49527</td>\n",
       "      <td>{Liz Holtan, J. Bernard Calloway, Frank Anello...</td>\n",
       "      <td>{Asger Leth}</td>\n",
       "      <td>Sam Worthington</td>\n",
       "      <td>3169</td>\n",
       "      <td>2</td>\n",
       "      <td>[0, 1, 0, 0, 0, 1]</td>\n",
       "    </tr>\n",
       "    <tr>\n",
       "      <td>5</td>\n",
       "      <td>144336</td>\n",
       "      <td>{Parisa Johnston, Morgan Alexandria, Maurice C...</td>\n",
       "      <td>{David Ayer}</td>\n",
       "      <td>Sam Worthington</td>\n",
       "      <td>3169</td>\n",
       "      <td>2</td>\n",
       "      <td>[0, 1, 0, 0, 0, 1]</td>\n",
       "    </tr>\n",
       "    <tr>\n",
       "      <td>6</td>\n",
       "      <td>19995</td>\n",
       "      <td>{Jamie Harrison, Mike Bodnar, Taylor Kibby, Ka...</td>\n",
       "      <td>{James Cameron}</td>\n",
       "      <td>Zoe Saldana</td>\n",
       "      <td>3764</td>\n",
       "      <td>1</td>\n",
       "      <td>[1, 1, 0, 1, 1, 1, 1, 1, 1]</td>\n",
       "    </tr>\n",
       "    <tr>\n",
       "      <td>7</td>\n",
       "      <td>118340</td>\n",
       "      <td>{Jennifer Moylan-Taylor, Keeley Forsyth, Ophel...</td>\n",
       "      <td>{James Gunn}</td>\n",
       "      <td>Zoe Saldana</td>\n",
       "      <td>3764</td>\n",
       "      <td>1</td>\n",
       "      <td>[1, 1, 0, 1, 1, 1, 1, 1, 1]</td>\n",
       "    </tr>\n",
       "    <tr>\n",
       "      <td>8</td>\n",
       "      <td>62835</td>\n",
       "      <td>{Cliff Curtis, Beto Benitez, Amandla Stenberg,...</td>\n",
       "      <td>{Olivier Megaton}</td>\n",
       "      <td>Zoe Saldana</td>\n",
       "      <td>3764</td>\n",
       "      <td>1</td>\n",
       "      <td>[1, 1, 0, 1, 1, 1, 1, 1, 1]</td>\n",
       "    </tr>\n",
       "    <tr>\n",
       "      <td>9</td>\n",
       "      <td>34813</td>\n",
       "      <td>{Ramiro 'Ramir' Delgado Ruiz, Robert Slavonia,...</td>\n",
       "      <td>{Sylvain White}</td>\n",
       "      <td>Zoe Saldana</td>\n",
       "      <td>3764</td>\n",
       "      <td>1</td>\n",
       "      <td>[1, 1, 0, 1, 1, 1, 1, 1, 1]</td>\n",
       "    </tr>\n",
       "    <tr>\n",
       "      <td>10</td>\n",
       "      <td>164457</td>\n",
       "      <td>{Willem Dafoe, Julian Curi, Bobby Wolfe, Woody...</td>\n",
       "      <td>{Scott Cooper}</td>\n",
       "      <td>Zoe Saldana</td>\n",
       "      <td>3764</td>\n",
       "      <td>1</td>\n",
       "      <td>[1, 1, 0, 1, 1, 1, 1, 1, 1]</td>\n",
       "    </tr>\n",
       "    <tr>\n",
       "      <td>11</td>\n",
       "      <td>13497</td>\n",
       "      <td>{Angela Elayne Gibbs, Miguel A. Gaetan, Earl P...</td>\n",
       "      <td>{Charles Stone III}</td>\n",
       "      <td>Zoe Saldana</td>\n",
       "      <td>3764</td>\n",
       "      <td>1</td>\n",
       "      <td>[1, 1, 0, 1, 1, 1, 1, 1, 1]</td>\n",
       "    </tr>\n",
       "    <tr>\n",
       "      <td>12</td>\n",
       "      <td>10560</td>\n",
       "      <td>{Peter Gallagher, Amanda Schull, Susan May Pra...</td>\n",
       "      <td>{Nicholas Hytner}</td>\n",
       "      <td>Zoe Saldana</td>\n",
       "      <td>3764</td>\n",
       "      <td>1</td>\n",
       "      <td>[1, 1, 0, 1, 1, 1, 1, 1, 1]</td>\n",
       "    </tr>\n",
       "    <tr>\n",
       "      <td>13</td>\n",
       "      <td>17130</td>\n",
       "      <td>{Dan Aykroyd, Seth Romatelli, Jamie Lynn Spear...</td>\n",
       "      <td>{Tamra Davis}</td>\n",
       "      <td>Zoe Saldana</td>\n",
       "      <td>3764</td>\n",
       "      <td>1</td>\n",
       "      <td>[1, 1, 0, 1, 1, 1, 1, 1, 1]</td>\n",
       "    </tr>\n",
       "    <tr>\n",
       "      <td>14</td>\n",
       "      <td>83686</td>\n",
       "      <td>{Dennis Quaid, Nora Arnezeder, Gianpaolo Venut...</td>\n",
       "      <td>{Brian Klugman, Lee Sternthal}</td>\n",
       "      <td>Zoe Saldana</td>\n",
       "      <td>3764</td>\n",
       "      <td>1</td>\n",
       "      <td>[1, 1, 0, 1, 1, 1, 1, 1, 1]</td>\n",
       "    </tr>\n",
       "    <tr>\n",
       "      <td>15</td>\n",
       "      <td>285</td>\n",
       "      <td>{Reggie Lee, Keith Richards, Ghassan Massoud, ...</td>\n",
       "      <td>{Gore Verbinski}</td>\n",
       "      <td>Johnny Depp</td>\n",
       "      <td>1774</td>\n",
       "      <td>2</td>\n",
       "      <td>[0, 0, 0, 0, 1, 0, 0, 0, 0, 0, 1, 0, 0, 0, 0, ...</td>\n",
       "    </tr>\n",
       "    <tr>\n",
       "      <td>16</td>\n",
       "      <td>58</td>\n",
       "      <td>{Reggie Lee, John Boswall, Stellan Skarsgård, ...</td>\n",
       "      <td>{Gore Verbinski}</td>\n",
       "      <td>Johnny Depp</td>\n",
       "      <td>1774</td>\n",
       "      <td>2</td>\n",
       "      <td>[0, 0, 0, 0, 1, 0, 0, 0, 0, 0, 1, 0, 0, 0, 0, ...</td>\n",
       "    </tr>\n",
       "    <tr>\n",
       "      <td>17</td>\n",
       "      <td>57201</td>\n",
       "      <td>{Robert Baker, Tait Fletcher, James Frain, Luz...</td>\n",
       "      <td>{Gore Verbinski}</td>\n",
       "      <td>Johnny Depp</td>\n",
       "      <td>1774</td>\n",
       "      <td>2</td>\n",
       "      <td>[0, 0, 0, 0, 1, 0, 0, 0, 0, 0, 1, 0, 0, 0, 0, ...</td>\n",
       "    </tr>\n",
       "    <tr>\n",
       "      <td>18</td>\n",
       "      <td>1865</td>\n",
       "      <td>{Emilia Jones, Ian McShane, Keith Richards, St...</td>\n",
       "      <td>{Rob Marshall}</td>\n",
       "      <td>Johnny Depp</td>\n",
       "      <td>1774</td>\n",
       "      <td>2</td>\n",
       "      <td>[0, 0, 0, 0, 1, 0, 0, 0, 0, 0, 1, 0, 0, 0, 0, ...</td>\n",
       "    </tr>\n",
       "    <tr>\n",
       "      <td>19</td>\n",
       "      <td>12155</td>\n",
       "      <td>{Michael Sheen, Rebecca Crookshank, Helena Bon...</td>\n",
       "      <td>{Tim Burton}</td>\n",
       "      <td>Johnny Depp</td>\n",
       "      <td>1774</td>\n",
       "      <td>2</td>\n",
       "      <td>[0, 0, 0, 0, 1, 0, 0, 0, 0, 0, 1, 0, 0, 0, 0, ...</td>\n",
       "    </tr>\n",
       "  </tbody>\n",
       "</table>\n",
       "</div>"
      ],
      "text/plain": [
       "    movie_id                                               cast  \\\n",
       "0      19995  {Zoe Saldana, Jamie Harrison, Mike Bodnar, Tay...   \n",
       "1        534  {Chris Ashworth, Bryce Dallas Howard, Anton Ye...   \n",
       "2      57165  {Liam Neeson, Bill Nighy, Lily James, Kathryn ...   \n",
       "3      18823  {David Kennedy, Polly Walker, Luke Evans, Alex...   \n",
       "4      49527  {Liz Holtan, J. Bernard Calloway, Frank Anello...   \n",
       "5     144336  {Parisa Johnston, Morgan Alexandria, Maurice C...   \n",
       "6      19995  {Jamie Harrison, Mike Bodnar, Taylor Kibby, Ka...   \n",
       "7     118340  {Jennifer Moylan-Taylor, Keeley Forsyth, Ophel...   \n",
       "8      62835  {Cliff Curtis, Beto Benitez, Amandla Stenberg,...   \n",
       "9      34813  {Ramiro 'Ramir' Delgado Ruiz, Robert Slavonia,...   \n",
       "10    164457  {Willem Dafoe, Julian Curi, Bobby Wolfe, Woody...   \n",
       "11     13497  {Angela Elayne Gibbs, Miguel A. Gaetan, Earl P...   \n",
       "12     10560  {Peter Gallagher, Amanda Schull, Susan May Pra...   \n",
       "13     17130  {Dan Aykroyd, Seth Romatelli, Jamie Lynn Spear...   \n",
       "14     83686  {Dennis Quaid, Nora Arnezeder, Gianpaolo Venut...   \n",
       "15       285  {Reggie Lee, Keith Richards, Ghassan Massoud, ...   \n",
       "16        58  {Reggie Lee, John Boswall, Stellan Skarsgård, ...   \n",
       "17     57201  {Robert Baker, Tait Fletcher, James Frain, Luz...   \n",
       "18      1865  {Emilia Jones, Ian McShane, Keith Richards, St...   \n",
       "19     12155  {Michael Sheen, Rebecca Crookshank, Helena Bon...   \n",
       "\n",
       "                              crew           actors  actor_id  gender  \\\n",
       "0                  {James Cameron}  Sam Worthington      3169       2   \n",
       "1                            {McG}  Sam Worthington      3169       2   \n",
       "2             {Jonathan Liebesman}  Sam Worthington      3169       2   \n",
       "3                {Louis Leterrier}  Sam Worthington      3169       2   \n",
       "4                     {Asger Leth}  Sam Worthington      3169       2   \n",
       "5                     {David Ayer}  Sam Worthington      3169       2   \n",
       "6                  {James Cameron}      Zoe Saldana      3764       1   \n",
       "7                     {James Gunn}      Zoe Saldana      3764       1   \n",
       "8                {Olivier Megaton}      Zoe Saldana      3764       1   \n",
       "9                  {Sylvain White}      Zoe Saldana      3764       1   \n",
       "10                  {Scott Cooper}      Zoe Saldana      3764       1   \n",
       "11             {Charles Stone III}      Zoe Saldana      3764       1   \n",
       "12               {Nicholas Hytner}      Zoe Saldana      3764       1   \n",
       "13                   {Tamra Davis}      Zoe Saldana      3764       1   \n",
       "14  {Brian Klugman, Lee Sternthal}      Zoe Saldana      3764       1   \n",
       "15                {Gore Verbinski}      Johnny Depp      1774       2   \n",
       "16                {Gore Verbinski}      Johnny Depp      1774       2   \n",
       "17                {Gore Verbinski}      Johnny Depp      1774       2   \n",
       "18                  {Rob Marshall}      Johnny Depp      1774       2   \n",
       "19                    {Tim Burton}      Johnny Depp      1774       2   \n",
       "\n",
       "                                                order  \n",
       "0                                  [0, 1, 0, 0, 0, 1]  \n",
       "1                                  [0, 1, 0, 0, 0, 1]  \n",
       "2                                  [0, 1, 0, 0, 0, 1]  \n",
       "3                                  [0, 1, 0, 0, 0, 1]  \n",
       "4                                  [0, 1, 0, 0, 0, 1]  \n",
       "5                                  [0, 1, 0, 0, 0, 1]  \n",
       "6                         [1, 1, 0, 1, 1, 1, 1, 1, 1]  \n",
       "7                         [1, 1, 0, 1, 1, 1, 1, 1, 1]  \n",
       "8                         [1, 1, 0, 1, 1, 1, 1, 1, 1]  \n",
       "9                         [1, 1, 0, 1, 1, 1, 1, 1, 1]  \n",
       "10                        [1, 1, 0, 1, 1, 1, 1, 1, 1]  \n",
       "11                        [1, 1, 0, 1, 1, 1, 1, 1, 1]  \n",
       "12                        [1, 1, 0, 1, 1, 1, 1, 1, 1]  \n",
       "13                        [1, 1, 0, 1, 1, 1, 1, 1, 1]  \n",
       "14                        [1, 1, 0, 1, 1, 1, 1, 1, 1]  \n",
       "15  [0, 0, 0, 0, 1, 0, 0, 0, 0, 0, 1, 0, 0, 0, 0, ...  \n",
       "16  [0, 0, 0, 0, 1, 0, 0, 0, 0, 0, 1, 0, 0, 0, 0, ...  \n",
       "17  [0, 0, 0, 0, 1, 0, 0, 0, 0, 0, 1, 0, 0, 0, 0, ...  \n",
       "18  [0, 0, 0, 0, 1, 0, 0, 0, 0, 0, 1, 0, 0, 0, 0, ...  \n",
       "19  [0, 0, 0, 0, 1, 0, 0, 0, 0, 0, 1, 0, 0, 0, 0, ...  "
      ]
     },
     "execution_count": 17,
     "metadata": {},
     "output_type": "execute_result"
    }
   ],
   "source": [
    "actors_credits_df = pr_credits_df.merge(\n",
    "    actors_df, right_on=actors_col, left_on=actors_col, how=\"inner\"\n",
    ")\n",
    "actors_credits_df.head(20)"
   ]
  },
  {
   "cell_type": "code",
   "execution_count": 18,
   "metadata": {},
   "outputs": [
    {
     "data": {
      "text/html": [
       "<div>\n",
       "<style scoped>\n",
       "    .dataframe tbody tr th:only-of-type {\n",
       "        vertical-align: middle;\n",
       "    }\n",
       "\n",
       "    .dataframe tbody tr th {\n",
       "        vertical-align: top;\n",
       "    }\n",
       "\n",
       "    .dataframe thead th {\n",
       "        text-align: right;\n",
       "    }\n",
       "</style>\n",
       "<table border=\"1\" class=\"dataframe\">\n",
       "  <thead>\n",
       "    <tr style=\"text-align: right;\">\n",
       "      <th></th>\n",
       "      <th>cast</th>\n",
       "      <th>crew</th>\n",
       "      <th>actors</th>\n",
       "      <th>actor_id</th>\n",
       "      <th>gender</th>\n",
       "      <th>order</th>\n",
       "      <th>budget</th>\n",
       "      <th>genres</th>\n",
       "      <th>keywords</th>\n",
       "      <th>original_language</th>\n",
       "      <th>...</th>\n",
       "      <th>production_countries</th>\n",
       "      <th>release_date</th>\n",
       "      <th>revenue</th>\n",
       "      <th>runtime</th>\n",
       "      <th>spoken_languages</th>\n",
       "      <th>status</th>\n",
       "      <th>title</th>\n",
       "      <th>vote_average</th>\n",
       "      <th>vote_count</th>\n",
       "      <th>movie_id</th>\n",
       "    </tr>\n",
       "  </thead>\n",
       "  <tbody>\n",
       "    <tr>\n",
       "      <td>0</td>\n",
       "      <td>{Zoe Saldana, Jamie Harrison, Mike Bodnar, Tay...</td>\n",
       "      <td>{James Cameron}</td>\n",
       "      <td>Sam Worthington</td>\n",
       "      <td>3169</td>\n",
       "      <td>2</td>\n",
       "      <td>[0, 1, 0, 0, 0, 1]</td>\n",
       "      <td>237000000</td>\n",
       "      <td>{Action, Adventure, Science Fiction, Fantasy}</td>\n",
       "      <td>{battle, anti war, alien, mind and soul, space...</td>\n",
       "      <td>en</td>\n",
       "      <td>...</td>\n",
       "      <td>{United Kingdom, United States of America}</td>\n",
       "      <td>2009-12-10</td>\n",
       "      <td>2787965087</td>\n",
       "      <td>162.0</td>\n",
       "      <td>{English, Español}</td>\n",
       "      <td>Released</td>\n",
       "      <td>Avatar</td>\n",
       "      <td>7.2</td>\n",
       "      <td>11800</td>\n",
       "      <td>0</td>\n",
       "    </tr>\n",
       "    <tr>\n",
       "      <td>1</td>\n",
       "      <td>{Jamie Harrison, Mike Bodnar, Taylor Kibby, Ka...</td>\n",
       "      <td>{James Cameron}</td>\n",
       "      <td>Zoe Saldana</td>\n",
       "      <td>3764</td>\n",
       "      <td>1</td>\n",
       "      <td>[1, 1, 0, 1, 1, 1, 1, 1, 1]</td>\n",
       "      <td>237000000</td>\n",
       "      <td>{Action, Adventure, Science Fiction, Fantasy}</td>\n",
       "      <td>{battle, anti war, alien, mind and soul, space...</td>\n",
       "      <td>en</td>\n",
       "      <td>...</td>\n",
       "      <td>{United Kingdom, United States of America}</td>\n",
       "      <td>2009-12-10</td>\n",
       "      <td>2787965087</td>\n",
       "      <td>162.0</td>\n",
       "      <td>{English, Español}</td>\n",
       "      <td>Released</td>\n",
       "      <td>Avatar</td>\n",
       "      <td>7.2</td>\n",
       "      <td>11800</td>\n",
       "      <td>0</td>\n",
       "    </tr>\n",
       "    <tr>\n",
       "      <td>2</td>\n",
       "      <td>{Chris Ashworth, Bryce Dallas Howard, Anton Ye...</td>\n",
       "      <td>{McG}</td>\n",
       "      <td>Sam Worthington</td>\n",
       "      <td>3169</td>\n",
       "      <td>2</td>\n",
       "      <td>[0, 1, 0, 0, 0, 1]</td>\n",
       "      <td>200000000</td>\n",
       "      <td>{Action, Science Fiction, Thriller}</td>\n",
       "      <td>{cyborg, saving the world, post-apocalyptic, d...</td>\n",
       "      <td>en</td>\n",
       "      <td>...</td>\n",
       "      <td>{United Kingdom, Italy, Germany, United States...</td>\n",
       "      <td>2009-05-20</td>\n",
       "      <td>371353001</td>\n",
       "      <td>115.0</td>\n",
       "      <td>{English, Italiano}</td>\n",
       "      <td>Released</td>\n",
       "      <td>Terminator Salvation</td>\n",
       "      <td>5.9</td>\n",
       "      <td>2463</td>\n",
       "      <td>43</td>\n",
       "    </tr>\n",
       "    <tr>\n",
       "      <td>3</td>\n",
       "      <td>{Chris Ashworth, Bryce Dallas Howard, Anton Ye...</td>\n",
       "      <td>{McG}</td>\n",
       "      <td>Christian Bale</td>\n",
       "      <td>620</td>\n",
       "      <td>2</td>\n",
       "      <td>[0, 0, 0, 0, 0, 0, 0, 0, 1, 0, 1, 0, 0, 0, 1, ...</td>\n",
       "      <td>200000000</td>\n",
       "      <td>{Action, Science Fiction, Thriller}</td>\n",
       "      <td>{cyborg, saving the world, post-apocalyptic, d...</td>\n",
       "      <td>en</td>\n",
       "      <td>...</td>\n",
       "      <td>{United Kingdom, Italy, Germany, United States...</td>\n",
       "      <td>2009-05-20</td>\n",
       "      <td>371353001</td>\n",
       "      <td>115.0</td>\n",
       "      <td>{English, Italiano}</td>\n",
       "      <td>Released</td>\n",
       "      <td>Terminator Salvation</td>\n",
       "      <td>5.9</td>\n",
       "      <td>2463</td>\n",
       "      <td>43</td>\n",
       "    </tr>\n",
       "    <tr>\n",
       "      <td>4</td>\n",
       "      <td>{Liam Neeson, Bill Nighy, Lily James, Kathryn ...</td>\n",
       "      <td>{Jonathan Liebesman}</td>\n",
       "      <td>Sam Worthington</td>\n",
       "      <td>3169</td>\n",
       "      <td>2</td>\n",
       "      <td>[0, 1, 0, 0, 0, 1]</td>\n",
       "      <td>150000000</td>\n",
       "      <td>{Adventure}</td>\n",
       "      <td>{based on greek myth, zeus, 3d, perseus, hades...</td>\n",
       "      <td>en</td>\n",
       "      <td>...</td>\n",
       "      <td>{Spain, United States of America}</td>\n",
       "      <td>2012-03-27</td>\n",
       "      <td>301000000</td>\n",
       "      <td>99.0</td>\n",
       "      <td>{English}</td>\n",
       "      <td>Released</td>\n",
       "      <td>Wrath of the Titans</td>\n",
       "      <td>5.5</td>\n",
       "      <td>1431</td>\n",
       "      <td>132</td>\n",
       "    </tr>\n",
       "  </tbody>\n",
       "</table>\n",
       "<p>5 rows × 22 columns</p>\n",
       "</div>"
      ],
      "text/plain": [
       "                                                cast                  crew  \\\n",
       "0  {Zoe Saldana, Jamie Harrison, Mike Bodnar, Tay...       {James Cameron}   \n",
       "1  {Jamie Harrison, Mike Bodnar, Taylor Kibby, Ka...       {James Cameron}   \n",
       "2  {Chris Ashworth, Bryce Dallas Howard, Anton Ye...                 {McG}   \n",
       "3  {Chris Ashworth, Bryce Dallas Howard, Anton Ye...                 {McG}   \n",
       "4  {Liam Neeson, Bill Nighy, Lily James, Kathryn ...  {Jonathan Liebesman}   \n",
       "\n",
       "            actors  actor_id  gender  \\\n",
       "0  Sam Worthington      3169       2   \n",
       "1      Zoe Saldana      3764       1   \n",
       "2  Sam Worthington      3169       2   \n",
       "3   Christian Bale       620       2   \n",
       "4  Sam Worthington      3169       2   \n",
       "\n",
       "                                               order     budget  \\\n",
       "0                                 [0, 1, 0, 0, 0, 1]  237000000   \n",
       "1                        [1, 1, 0, 1, 1, 1, 1, 1, 1]  237000000   \n",
       "2                                 [0, 1, 0, 0, 0, 1]  200000000   \n",
       "3  [0, 0, 0, 0, 0, 0, 0, 0, 1, 0, 1, 0, 0, 0, 1, ...  200000000   \n",
       "4                                 [0, 1, 0, 0, 0, 1]  150000000   \n",
       "\n",
       "                                          genres  \\\n",
       "0  {Action, Adventure, Science Fiction, Fantasy}   \n",
       "1  {Action, Adventure, Science Fiction, Fantasy}   \n",
       "2            {Action, Science Fiction, Thriller}   \n",
       "3            {Action, Science Fiction, Thriller}   \n",
       "4                                    {Adventure}   \n",
       "\n",
       "                                            keywords original_language  ...  \\\n",
       "0  {battle, anti war, alien, mind and soul, space...                en  ...   \n",
       "1  {battle, anti war, alien, mind and soul, space...                en  ...   \n",
       "2  {cyborg, saving the world, post-apocalyptic, d...                en  ...   \n",
       "3  {cyborg, saving the world, post-apocalyptic, d...                en  ...   \n",
       "4  {based on greek myth, zeus, 3d, perseus, hades...                en  ...   \n",
       "\n",
       "                                production_countries release_date     revenue  \\\n",
       "0         {United Kingdom, United States of America}   2009-12-10  2787965087   \n",
       "1         {United Kingdom, United States of America}   2009-12-10  2787965087   \n",
       "2  {United Kingdom, Italy, Germany, United States...   2009-05-20   371353001   \n",
       "3  {United Kingdom, Italy, Germany, United States...   2009-05-20   371353001   \n",
       "4                  {Spain, United States of America}   2012-03-27   301000000   \n",
       "\n",
       "  runtime     spoken_languages    status                 title vote_average  \\\n",
       "0   162.0   {English, Español}  Released                Avatar          7.2   \n",
       "1   162.0   {English, Español}  Released                Avatar          7.2   \n",
       "2   115.0  {English, Italiano}  Released  Terminator Salvation          5.9   \n",
       "3   115.0  {English, Italiano}  Released  Terminator Salvation          5.9   \n",
       "4    99.0            {English}  Released   Wrath of the Titans          5.5   \n",
       "\n",
       "  vote_count  movie_id  \n",
       "0      11800         0  \n",
       "1      11800         0  \n",
       "2       2463        43  \n",
       "3       2463        43  \n",
       "4       1431       132  \n",
       "\n",
       "[5 rows x 22 columns]"
      ]
     },
     "execution_count": 18,
     "metadata": {},
     "output_type": "execute_result"
    }
   ],
   "source": [
    "movie_id_col = \"movie_id\"\n",
    "new_movie_id_col = \"new_movie_id\"\n",
    "actors_movies_credits_df = actors_credits_df.merge(\n",
    "    pr_movies_df, right_on=movie_id_col, left_on=movie_id_col, how=\"inner\"\n",
    ")\n",
    "# Set new movie ids\n",
    "unique_movies_df = (\n",
    "    pr_movies_df[movie_id_col]\n",
    "    .to_frame()\n",
    "    .drop_duplicates()\n",
    "    .reset_index()\n",
    "    .rename(columns={\"index\": new_movie_id_col})\n",
    ")\n",
    "actors_movies_credits_df = (\n",
    "    actors_movies_credits_df.merge(\n",
    "        unique_movies_df, right_on=movie_id_col, left_on=movie_id_col, how=\"inner\"\n",
    "    )\n",
    "    .drop(columns=movie_id_col)\n",
    "    .rename(columns={new_movie_id_col: movie_id_col})\n",
    ")\n",
    "\n",
    "actors_movies_credits_df.head()"
   ]
  },
  {
   "cell_type": "code",
   "execution_count": 19,
   "metadata": {},
   "outputs": [
    {
     "data": {
      "text/html": [
       "<div>\n",
       "<style scoped>\n",
       "    .dataframe tbody tr th:only-of-type {\n",
       "        vertical-align: middle;\n",
       "    }\n",
       "\n",
       "    .dataframe tbody tr th {\n",
       "        vertical-align: top;\n",
       "    }\n",
       "\n",
       "    .dataframe thead th {\n",
       "        text-align: right;\n",
       "    }\n",
       "</style>\n",
       "<table border=\"1\" class=\"dataframe\">\n",
       "  <thead>\n",
       "    <tr style=\"text-align: right;\">\n",
       "      <th></th>\n",
       "      <th>new_movie_id</th>\n",
       "      <th>movie_id</th>\n",
       "      <th>title</th>\n",
       "    </tr>\n",
       "  </thead>\n",
       "  <tbody>\n",
       "    <tr>\n",
       "      <td>0</td>\n",
       "      <td>0</td>\n",
       "      <td>19995</td>\n",
       "      <td>Avatar</td>\n",
       "    </tr>\n",
       "    <tr>\n",
       "      <td>1</td>\n",
       "      <td>1</td>\n",
       "      <td>285</td>\n",
       "      <td>Pirates of the Caribbean: At World's End</td>\n",
       "    </tr>\n",
       "    <tr>\n",
       "      <td>2</td>\n",
       "      <td>2</td>\n",
       "      <td>206647</td>\n",
       "      <td>Spectre</td>\n",
       "    </tr>\n",
       "    <tr>\n",
       "      <td>3</td>\n",
       "      <td>3</td>\n",
       "      <td>49026</td>\n",
       "      <td>The Dark Knight Rises</td>\n",
       "    </tr>\n",
       "    <tr>\n",
       "      <td>4</td>\n",
       "      <td>4</td>\n",
       "      <td>49529</td>\n",
       "      <td>John Carter</td>\n",
       "    </tr>\n",
       "  </tbody>\n",
       "</table>\n",
       "</div>"
      ],
      "text/plain": [
       "   new_movie_id  movie_id                                     title\n",
       "0             0     19995                                    Avatar\n",
       "1             1       285  Pirates of the Caribbean: At World's End\n",
       "2             2    206647                                   Spectre\n",
       "3             3     49026                     The Dark Knight Rises\n",
       "4             4     49529                               John Carter"
      ]
     },
     "execution_count": 19,
     "metadata": {},
     "output_type": "execute_result"
    }
   ],
   "source": [
    "aux_movies_df = unique_movies_df.merge(\n",
    "    pr_movies_df[[\"movie_id\", \"title\"]].drop_duplicates(),\n",
    "    right_on=\"movie_id\",\n",
    "    left_on=\"movie_id\",\n",
    ")\n",
    "aux_movies_df.head()"
   ]
  },
  {
   "cell_type": "code",
   "execution_count": 20,
   "metadata": {},
   "outputs": [
    {
     "data": {
      "text/plain": [
       "Index(['cast', 'crew', 'actors', 'actor_id', 'gender', 'order', 'budget',\n",
       "       'genres', 'keywords', 'original_language', 'popularity',\n",
       "       'production_companies', 'production_countries', 'release_date',\n",
       "       'revenue', 'runtime', 'spoken_languages', 'status', 'title',\n",
       "       'vote_average', 'vote_count', 'movie_id'],\n",
       "      dtype='object')"
      ]
     },
     "execution_count": 20,
     "metadata": {},
     "output_type": "execute_result"
    }
   ],
   "source": [
    "actors_movies_credits_df.columns"
   ]
  },
  {
   "cell_type": "code",
   "execution_count": 21,
   "metadata": {},
   "outputs": [
    {
     "data": {
      "text/plain": [
       "9296"
      ]
     },
     "execution_count": 21,
     "metadata": {},
     "output_type": "execute_result"
    }
   ],
   "source": [
    "len(actors_movies_credits_df)"
   ]
  },
  {
   "cell_type": "code",
   "execution_count": 22,
   "metadata": {},
   "outputs": [
    {
     "data": {
      "text/html": [
       "<div>\n",
       "<style scoped>\n",
       "    .dataframe tbody tr th:only-of-type {\n",
       "        vertical-align: middle;\n",
       "    }\n",
       "\n",
       "    .dataframe tbody tr th {\n",
       "        vertical-align: top;\n",
       "    }\n",
       "\n",
       "    .dataframe thead th {\n",
       "        text-align: right;\n",
       "    }\n",
       "</style>\n",
       "<table border=\"1\" class=\"dataframe\">\n",
       "  <thead>\n",
       "    <tr style=\"text-align: right;\">\n",
       "      <th></th>\n",
       "      <th>movie_id</th>\n",
       "      <th>cast</th>\n",
       "      <th>crew</th>\n",
       "      <th>gender</th>\n",
       "      <th>budget</th>\n",
       "      <th>genres</th>\n",
       "      <th>keywords</th>\n",
       "      <th>original_language</th>\n",
       "      <th>popularity</th>\n",
       "      <th>production_companies</th>\n",
       "      <th>production_countries</th>\n",
       "      <th>release_date</th>\n",
       "      <th>revenue</th>\n",
       "      <th>runtime</th>\n",
       "      <th>spoken_languages</th>\n",
       "      <th>status</th>\n",
       "      <th>title</th>\n",
       "      <th>vote_average</th>\n",
       "      <th>vote_count</th>\n",
       "    </tr>\n",
       "    <tr>\n",
       "      <th>actor_id</th>\n",
       "      <th></th>\n",
       "      <th></th>\n",
       "      <th></th>\n",
       "      <th></th>\n",
       "      <th></th>\n",
       "      <th></th>\n",
       "      <th></th>\n",
       "      <th></th>\n",
       "      <th></th>\n",
       "      <th></th>\n",
       "      <th></th>\n",
       "      <th></th>\n",
       "      <th></th>\n",
       "      <th></th>\n",
       "      <th></th>\n",
       "      <th></th>\n",
       "      <th></th>\n",
       "      <th></th>\n",
       "      <th></th>\n",
       "    </tr>\n",
       "  </thead>\n",
       "  <tbody>\n",
       "    <tr>\n",
       "      <td>0</td>\n",
       "      <td>{3619}</td>\n",
       "      <td>{David Bowe, Trinidad Silva, Anthony Geary, Mi...</td>\n",
       "      <td>{Jay Levey}</td>\n",
       "      <td>0</td>\n",
       "      <td>5000000.0</td>\n",
       "      <td>{Comedy}</td>\n",
       "      <td>{indiana jones spoof scene, satire, tv star, g...</td>\n",
       "      <td>{en}</td>\n",
       "      <td>4.070044</td>\n",
       "      <td>{Cinecorp, Orion Pictures}</td>\n",
       "      <td>{United States of America}</td>\n",
       "      <td>[1989-07-21]</td>\n",
       "      <td>0.0</td>\n",
       "      <td>97.0</td>\n",
       "      <td>{English}</td>\n",
       "      <td>[Released]</td>\n",
       "      <td>{UHF}</td>\n",
       "      <td>6.7</td>\n",
       "      <td>89.0</td>\n",
       "    </tr>\n",
       "    <tr>\n",
       "      <td>1</td>\n",
       "      <td>{1233}</td>\n",
       "      <td>{Sullivan Walker, Terrence Howard, Joseph Pier...</td>\n",
       "      <td>{Jim Sheridan}</td>\n",
       "      <td>2</td>\n",
       "      <td>40000000.0</td>\n",
       "      <td>{Drama}</td>\n",
       "      <td>{career, musical, attempted murder, drug, rapp...</td>\n",
       "      <td>{en}</td>\n",
       "      <td>12.885985</td>\n",
       "      <td>{Paramount Pictures, MTV Films, Cent Productio...</td>\n",
       "      <td>{United States of America}</td>\n",
       "      <td>[2005-11-09]</td>\n",
       "      <td>46442528.0</td>\n",
       "      <td>117.0</td>\n",
       "      <td>{English}</td>\n",
       "      <td>[Released]</td>\n",
       "      <td>{Get Rich or Die Tryin'}</td>\n",
       "      <td>6.3</td>\n",
       "      <td>186.0</td>\n",
       "    </tr>\n",
       "    <tr>\n",
       "      <td>2</td>\n",
       "      <td>{4034}</td>\n",
       "      <td>{Ron Roggé, Vanessa Evigan, Piper Mackenzie Ha...</td>\n",
       "      <td>{John Murlowski}</td>\n",
       "      <td>2</td>\n",
       "      <td>0.0</td>\n",
       "      <td>{Comedy, Family}</td>\n",
       "      <td>{}</td>\n",
       "      <td>{en}</td>\n",
       "      <td>0.630226</td>\n",
       "      <td>{}</td>\n",
       "      <td>{United States of America}</td>\n",
       "      <td>[2010-12-01]</td>\n",
       "      <td>0.0</td>\n",
       "      <td>89.0</td>\n",
       "      <td>{English}</td>\n",
       "      <td>[Released]</td>\n",
       "      <td>{Christmas Mail}</td>\n",
       "      <td>5.0</td>\n",
       "      <td>15.0</td>\n",
       "    </tr>\n",
       "    <tr>\n",
       "      <td>3</td>\n",
       "      <td>{1789}</td>\n",
       "      <td>{Alejandro Rae, Shaun Sipos, Ali Larter, Micha...</td>\n",
       "      <td>{David R. Ellis}</td>\n",
       "      <td>1</td>\n",
       "      <td>26000000.0</td>\n",
       "      <td>{Mystery, Horror}</td>\n",
       "      <td>{hospital, premonition, ambulance}</td>\n",
       "      <td>{en}</td>\n",
       "      <td>37.355826</td>\n",
       "      <td>{New Line Cinema, Zide-Perry Productions}</td>\n",
       "      <td>{United States of America}</td>\n",
       "      <td>[2003-01-31]</td>\n",
       "      <td>90426405.0</td>\n",
       "      <td>90.0</td>\n",
       "      <td>{English}</td>\n",
       "      <td>[Released]</td>\n",
       "      <td>{Final Destination 2}</td>\n",
       "      <td>5.9</td>\n",
       "      <td>1023.0</td>\n",
       "    </tr>\n",
       "    <tr>\n",
       "      <td>4</td>\n",
       "      <td>{4203}</td>\n",
       "      <td>{Kevin Pollak, James Denton, Jamie Grace, Shaw...</td>\n",
       "      <td>{Brad J. Silverman}</td>\n",
       "      <td>1</td>\n",
       "      <td>0.0</td>\n",
       "      <td>{Drama, Music}</td>\n",
       "      <td>{christian}</td>\n",
       "      <td>{en}</td>\n",
       "      <td>2.160586</td>\n",
       "      <td>{Birchwood Pictures, Coram Deo Studios}</td>\n",
       "      <td>{United States of America}</td>\n",
       "      <td>[2013-10-04]</td>\n",
       "      <td>0.0</td>\n",
       "      <td>102.0</td>\n",
       "      <td>{English}</td>\n",
       "      <td>[Released]</td>\n",
       "      <td>{Grace Unplugged}</td>\n",
       "      <td>6.0</td>\n",
       "      <td>24.0</td>\n",
       "    </tr>\n",
       "  </tbody>\n",
       "</table>\n",
       "</div>"
      ],
      "text/plain": [
       "         movie_id                                               cast  \\\n",
       "actor_id                                                               \n",
       "0          {3619}  {David Bowe, Trinidad Silva, Anthony Geary, Mi...   \n",
       "1          {1233}  {Sullivan Walker, Terrence Howard, Joseph Pier...   \n",
       "2          {4034}  {Ron Roggé, Vanessa Evigan, Piper Mackenzie Ha...   \n",
       "3          {1789}  {Alejandro Rae, Shaun Sipos, Ali Larter, Micha...   \n",
       "4          {4203}  {Kevin Pollak, James Denton, Jamie Grace, Shaw...   \n",
       "\n",
       "                         crew  gender      budget             genres  \\\n",
       "actor_id                                                               \n",
       "0                 {Jay Levey}       0   5000000.0           {Comedy}   \n",
       "1              {Jim Sheridan}       2  40000000.0            {Drama}   \n",
       "2            {John Murlowski}       2         0.0   {Comedy, Family}   \n",
       "3            {David R. Ellis}       1  26000000.0  {Mystery, Horror}   \n",
       "4         {Brad J. Silverman}       1         0.0     {Drama, Music}   \n",
       "\n",
       "                                                   keywords original_language  \\\n",
       "actor_id                                                                        \n",
       "0         {indiana jones spoof scene, satire, tv star, g...              {en}   \n",
       "1         {career, musical, attempted murder, drug, rapp...              {en}   \n",
       "2                                                        {}              {en}   \n",
       "3                        {hospital, premonition, ambulance}              {en}   \n",
       "4                                               {christian}              {en}   \n",
       "\n",
       "          popularity                               production_companies  \\\n",
       "actor_id                                                                  \n",
       "0           4.070044                         {Cinecorp, Orion Pictures}   \n",
       "1          12.885985  {Paramount Pictures, MTV Films, Cent Productio...   \n",
       "2           0.630226                                                 {}   \n",
       "3          37.355826          {New Line Cinema, Zide-Perry Productions}   \n",
       "4           2.160586            {Birchwood Pictures, Coram Deo Studios}   \n",
       "\n",
       "                production_countries  release_date     revenue  runtime  \\\n",
       "actor_id                                                                  \n",
       "0         {United States of America}  [1989-07-21]         0.0     97.0   \n",
       "1         {United States of America}  [2005-11-09]  46442528.0    117.0   \n",
       "2         {United States of America}  [2010-12-01]         0.0     89.0   \n",
       "3         {United States of America}  [2003-01-31]  90426405.0     90.0   \n",
       "4         {United States of America}  [2013-10-04]         0.0    102.0   \n",
       "\n",
       "         spoken_languages      status                     title  vote_average  \\\n",
       "actor_id                                                                        \n",
       "0               {English}  [Released]                     {UHF}           6.7   \n",
       "1               {English}  [Released]  {Get Rich or Die Tryin'}           6.3   \n",
       "2               {English}  [Released]          {Christmas Mail}           5.0   \n",
       "3               {English}  [Released]     {Final Destination 2}           5.9   \n",
       "4               {English}  [Released]         {Grace Unplugged}           6.0   \n",
       "\n",
       "          vote_count  \n",
       "actor_id              \n",
       "0               89.0  \n",
       "1              186.0  \n",
       "2               15.0  \n",
       "3             1023.0  \n",
       "4               24.0  "
      ]
     },
     "execution_count": 22,
     "metadata": {},
     "output_type": "execute_result"
    }
   ],
   "source": [
    "get_union = lambda s: reduce(set.union, s)\n",
    "actor_id_col = \"actor_id\"\n",
    "actors_agg_df = (\n",
    "    actors_movies_credits_df.groupby(actors_col)\n",
    "    .aggregate(\n",
    "        {\n",
    "            \"movie_id\": set,\n",
    "            \"cast\": get_union,\n",
    "            \"crew\": get_union,\n",
    "            \"actor_id\": max,\n",
    "            \"gender\": max,\n",
    "            \"budget\": \"mean\",\n",
    "            \"genres\": get_union,\n",
    "            \"keywords\": get_union,\n",
    "            \"original_language\": set,\n",
    "            \"popularity\": \"mean\",\n",
    "            \"production_companies\": get_union,\n",
    "            \"production_countries\": get_union,\n",
    "            \"release_date\": list,\n",
    "            \"revenue\": \"mean\",\n",
    "            \"runtime\": sum,\n",
    "            \"spoken_languages\": get_union,\n",
    "            \"status\": list,\n",
    "            \"title\": set,\n",
    "            \"vote_average\": \"mean\",\n",
    "            \"vote_count\": \"mean\",\n",
    "        }\n",
    "    )\n",
    "    .set_index(actor_id_col)\n",
    ")\n",
    "actors_agg_df.head()"
   ]
  },
  {
   "cell_type": "markdown",
   "metadata": {},
   "source": [
    "## Build graph"
   ]
  },
  {
   "cell_type": "code",
   "execution_count": 23,
   "metadata": {},
   "outputs": [
    {
     "data": {
      "text/html": [
       "<div>\n",
       "<style scoped>\n",
       "    .dataframe tbody tr th:only-of-type {\n",
       "        vertical-align: middle;\n",
       "    }\n",
       "\n",
       "    .dataframe tbody tr th {\n",
       "        vertical-align: top;\n",
       "    }\n",
       "\n",
       "    .dataframe thead th {\n",
       "        text-align: right;\n",
       "    }\n",
       "</style>\n",
       "<table border=\"1\" class=\"dataframe\">\n",
       "  <thead>\n",
       "    <tr style=\"text-align: right;\">\n",
       "      <th></th>\n",
       "      <th>cast</th>\n",
       "      <th>crew</th>\n",
       "      <th>production_companies</th>\n",
       "      <th>genres</th>\n",
       "      <th>movie_id</th>\n",
       "    </tr>\n",
       "    <tr>\n",
       "      <th>actor_id</th>\n",
       "      <th></th>\n",
       "      <th></th>\n",
       "      <th></th>\n",
       "      <th></th>\n",
       "      <th></th>\n",
       "    </tr>\n",
       "  </thead>\n",
       "  <tbody>\n",
       "    <tr>\n",
       "      <td>0</td>\n",
       "      <td>{David Bowe, Trinidad Silva, Anthony Geary, Mi...</td>\n",
       "      <td>{Jay Levey}</td>\n",
       "      <td>{Cinecorp, Orion Pictures}</td>\n",
       "      <td>{Comedy}</td>\n",
       "      <td>{3619}</td>\n",
       "    </tr>\n",
       "    <tr>\n",
       "      <td>1</td>\n",
       "      <td>{Sullivan Walker, Terrence Howard, Joseph Pier...</td>\n",
       "      <td>{Jim Sheridan}</td>\n",
       "      <td>{Paramount Pictures, MTV Films, Cent Productio...</td>\n",
       "      <td>{Drama}</td>\n",
       "      <td>{1233}</td>\n",
       "    </tr>\n",
       "    <tr>\n",
       "      <td>2</td>\n",
       "      <td>{Ron Roggé, Vanessa Evigan, Piper Mackenzie Ha...</td>\n",
       "      <td>{John Murlowski}</td>\n",
       "      <td>{}</td>\n",
       "      <td>{Comedy, Family}</td>\n",
       "      <td>{4034}</td>\n",
       "    </tr>\n",
       "    <tr>\n",
       "      <td>3</td>\n",
       "      <td>{Alejandro Rae, Shaun Sipos, Ali Larter, Micha...</td>\n",
       "      <td>{David R. Ellis}</td>\n",
       "      <td>{New Line Cinema, Zide-Perry Productions}</td>\n",
       "      <td>{Mystery, Horror}</td>\n",
       "      <td>{1789}</td>\n",
       "    </tr>\n",
       "    <tr>\n",
       "      <td>4</td>\n",
       "      <td>{Kevin Pollak, James Denton, Jamie Grace, Shaw...</td>\n",
       "      <td>{Brad J. Silverman}</td>\n",
       "      <td>{Birchwood Pictures, Coram Deo Studios}</td>\n",
       "      <td>{Drama, Music}</td>\n",
       "      <td>{4203}</td>\n",
       "    </tr>\n",
       "  </tbody>\n",
       "</table>\n",
       "</div>"
      ],
      "text/plain": [
       "                                                       cast  \\\n",
       "actor_id                                                      \n",
       "0         {David Bowe, Trinidad Silva, Anthony Geary, Mi...   \n",
       "1         {Sullivan Walker, Terrence Howard, Joseph Pier...   \n",
       "2         {Ron Roggé, Vanessa Evigan, Piper Mackenzie Ha...   \n",
       "3         {Alejandro Rae, Shaun Sipos, Ali Larter, Micha...   \n",
       "4         {Kevin Pollak, James Denton, Jamie Grace, Shaw...   \n",
       "\n",
       "                         crew  \\\n",
       "actor_id                        \n",
       "0                 {Jay Levey}   \n",
       "1              {Jim Sheridan}   \n",
       "2            {John Murlowski}   \n",
       "3            {David R. Ellis}   \n",
       "4         {Brad J. Silverman}   \n",
       "\n",
       "                                       production_companies  \\\n",
       "actor_id                                                      \n",
       "0                                {Cinecorp, Orion Pictures}   \n",
       "1         {Paramount Pictures, MTV Films, Cent Productio...   \n",
       "2                                                        {}   \n",
       "3                 {New Line Cinema, Zide-Perry Productions}   \n",
       "4                   {Birchwood Pictures, Coram Deo Studios}   \n",
       "\n",
       "                     genres movie_id  \n",
       "actor_id                              \n",
       "0                  {Comedy}   {3619}  \n",
       "1                   {Drama}   {1233}  \n",
       "2          {Comedy, Family}   {4034}  \n",
       "3         {Mystery, Horror}   {1789}  \n",
       "4            {Drama, Music}   {4203}  "
      ]
     },
     "execution_count": 23,
     "metadata": {},
     "output_type": "execute_result"
    }
   ],
   "source": [
    "nodes_df = actors_agg_df[[\"cast\", \"crew\", \"production_companies\", \"genres\", \"movie_id\"]]\n",
    "nodes_df.head()"
   ]
  },
  {
   "cell_type": "code",
   "execution_count": 24,
   "metadata": {},
   "outputs": [],
   "source": [
    "dict_actor_id = dict(zip(actors_df[actors_col], actors_df[actor_id_col]))\n",
    "dict_id_actor = dict(zip(actors_df[actor_id_col], actors_df[actors_col]))"
   ]
  },
  {
   "cell_type": "markdown",
   "metadata": {},
   "source": [
    "## Get cast intersecctions length mat"
   ]
  },
  {
   "cell_type": "code",
   "execution_count": 25,
   "metadata": {},
   "outputs": [],
   "source": [
    "import timeit\n",
    "\n",
    "\n",
    "def get_intersections_length_adj_mat(col):\n",
    "    \"Get the intersecction length of the set of each entry with the set of every other entry in the column\"\n",
    "    start = timeit.default_timer()\n",
    "    adj = np.zeros((col.shape[0], col.shape[0]))\n",
    "    for (i, set_row) in enumerate(col):\n",
    "        for (j, set_col) in enumerate(col):\n",
    "            try:\n",
    "                adj[i, j] = len(set_row.intersection(set_col))\n",
    "            except AttributeError:\n",
    "                adj[i, j] = 0\n",
    "    stop = timeit.default_timer()\n",
    "    print(\"Time: \", stop - start)\n",
    "    return adj"
   ]
  },
  {
   "cell_type": "code",
   "execution_count": 26,
   "metadata": {},
   "outputs": [],
   "source": [
    "def get_unions_length_adj_mat(col):\n",
    "    \"Get the unions length of the set of each entry with the set of every other entry in the column\"\n",
    "    start = timeit.default_timer()\n",
    "    adj = np.zeros((col.shape[0], col.shape[0]))\n",
    "    for (i, set_row) in enumerate(col):\n",
    "        for (j, set_col) in enumerate(col):\n",
    "            try:\n",
    "                adj[i, j] = len(set_row.union(set_col))\n",
    "            except AttributeError:\n",
    "                adj[i, j] = 0\n",
    "    stop = timeit.default_timer()\n",
    "    print(\"Time: \", stop - start)\n",
    "    return adj"
   ]
  },
  {
   "cell_type": "markdown",
   "metadata": {},
   "source": [
    "## Get cast intersections"
   ]
  },
  {
   "cell_type": "code",
   "execution_count": 27,
   "metadata": {},
   "outputs": [
    {
     "name": "stdout",
     "output_type": "stream",
     "text": [
      "Time:  15.0813199\n"
     ]
    }
   ],
   "source": [
    "col = \"cast\"\n",
    "cast_col = nodes_df[col]\n",
    "cast_adj_raw = get_intersections_length_adj_mat(cast_col)\n",
    "cast_adj_diag = np.diag(np.diag(cast_adj_raw))\n",
    "cast_adj = cast_adj_raw - cast_adj_diag"
   ]
  },
  {
   "cell_type": "code",
   "execution_count": 28,
   "metadata": {},
   "outputs": [
    {
     "data": {
      "text/plain": [
       "<matplotlib.image.AxesImage at 0x20126a5cf98>"
      ]
     },
     "execution_count": 28,
     "metadata": {},
     "output_type": "execute_result"
    },
    {
     "data": {
      "image/png": "[encoded data removed]",
      "text/plain": [
       "<Figure size 432x288 with 1 Axes>"
      ]
     },
     "metadata": {
      "needs_background": "light"
     },
     "output_type": "display_data"
    }
   ],
   "source": [
    "plt.spy(cast_adj)"
   ]
  },
  {
   "cell_type": "code",
   "execution_count": 29,
   "metadata": {},
   "outputs": [],
   "source": [
    "np.save(\"cast_adj\", cast_adj)"
   ]
  },
  {
   "cell_type": "markdown",
   "metadata": {},
   "source": [
    "## Load cast adjacency matrix"
   ]
  },
  {
   "cell_type": "code",
   "execution_count": 30,
   "metadata": {},
   "outputs": [],
   "source": [
    "cast_adj = np.load(\"cast_adj.npy\")"
   ]
  },
  {
   "cell_type": "code",
   "execution_count": 31,
   "metadata": {},
   "outputs": [
    {
     "data": {
      "text/plain": [
       "(3770, 3770)"
      ]
     },
     "execution_count": 31,
     "metadata": {},
     "output_type": "execute_result"
    }
   ],
   "source": [
    "cast_adj.shape"
   ]
  },
  {
   "cell_type": "code",
   "execution_count": 32,
   "metadata": {},
   "outputs": [],
   "source": [
    "node_degree = cast_adj.sum(axis=0)"
   ]
  },
  {
   "cell_type": "code",
   "execution_count": 33,
   "metadata": {},
   "outputs": [
    {
     "name": "stdout",
     "output_type": "stream",
     "text": [
      "['Matt Damon', 'Bruce Willis', 'Robert De Niro', 'Denzel Washington', 'Mark Wahlberg', 'Johnny Depp', 'Ben Stiller', 'Tom Hanks', 'Brad Pitt', 'George Clooney', 'Tom Cruise', 'Nicolas Cage', 'Christian Bale', 'Ben Affleck', 'Leonardo DiCaprio', 'Owen Wilson', 'Harrison Ford', 'Russell Crowe', 'John Travolta', 'Will Smith']\n"
     ]
    }
   ],
   "source": [
    "most_connected_actors_id = np.argsort(-node_degree)[:20]\n",
    "most_connected_actors = [dict_id_actor.get(id_) for id_ in most_connected_actors_id]\n",
    "actors_df[actors_df[actor_id_col].isin(most_connected_actors_id)]\n",
    "print(most_connected_actors)"
   ]
  },
  {
   "cell_type": "markdown",
   "metadata": {},
   "source": [
    "## Get cast unions length mat"
   ]
  },
  {
   "cell_type": "code",
   "execution_count": 34,
   "metadata": {},
   "outputs": [
    {
     "name": "stdout",
     "output_type": "stream",
     "text": [
      "Time:  58.0809291\n"
     ]
    }
   ],
   "source": [
    "col = \"cast\"\n",
    "cast_col = nodes_df[col]\n",
    "cast_adj_union_raw = get_unions_length_adj_mat(cast_col)\n",
    "cast_adj_union_diag = np.diag(np.diag(cast_adj_union_raw))\n",
    "cast_adj_union = cast_adj_union_raw - cast_adj_union_diag"
   ]
  },
  {
   "cell_type": "code",
   "execution_count": 35,
   "metadata": {},
   "outputs": [
    {
     "data": {
      "text/plain": [
       "<matplotlib.image.AxesImage at 0x2012edc5470>"
      ]
     },
     "execution_count": 35,
     "metadata": {},
     "output_type": "execute_result"
    },
    {
     "data": {
      "image/png": "[encoded data removed]",
      "text/plain": [
       "<Figure size 432x288 with 1 Axes>"
      ]
     },
     "metadata": {
      "needs_background": "light"
     },
     "output_type": "display_data"
    }
   ],
   "source": [
    "plt.imshow(cast_adj_union, cmap=\"hot\", interpolation=\"none\")"
   ]
  },
  {
   "cell_type": "code",
   "execution_count": 36,
   "metadata": {},
   "outputs": [],
   "source": [
    "np.save(\"cast_adj_union\", cast_adj_union)"
   ]
  },
  {
   "cell_type": "markdown",
   "metadata": {},
   "source": [
    "## Get movies intersections length mat"
   ]
  },
  {
   "cell_type": "code",
   "execution_count": 37,
   "metadata": {},
   "outputs": [
    {
     "name": "stdout",
     "output_type": "stream",
     "text": [
      "Time:  6.941259100000011\n"
     ]
    }
   ],
   "source": [
    "col = \"movie_id\"\n",
    "movie_col = nodes_df[col]\n",
    "movie_adj_raw = get_intersections_length_adj_mat(movie_col)\n",
    "movie_adj_diag = np.diag(np.diag(movie_adj_raw))\n",
    "movie_adj = movie_adj_raw - movie_adj_diag"
   ]
  },
  {
   "cell_type": "code",
   "execution_count": 38,
   "metadata": {},
   "outputs": [
    {
     "data": {
      "text/plain": [
       "<matplotlib.image.AxesImage at 0x20126ea9c50>"
      ]
     },
     "execution_count": 38,
     "metadata": {},
     "output_type": "execute_result"
    },
    {
     "data": {
      "image/png": "[encoded data removed]",
      "text/plain": [
       "<Figure size 432x288 with 1 Axes>"
      ]
     },
     "metadata": {
      "needs_background": "light"
     },
     "output_type": "display_data"
    }
   ],
   "source": [
    "plt.spy(movie_adj)"
   ]
  },
  {
   "cell_type": "code",
   "execution_count": 39,
   "metadata": {},
   "outputs": [],
   "source": [
    "np.save(\"movie_adj\", movie_adj)"
   ]
  },
  {
   "cell_type": "markdown",
   "metadata": {},
   "source": [
    "## Get movies union length mat"
   ]
  },
  {
   "cell_type": "code",
   "execution_count": 40,
   "metadata": {},
   "outputs": [
    {
     "name": "stdout",
     "output_type": "stream",
     "text": [
      "Time:  8.787211799999994\n"
     ]
    }
   ],
   "source": [
    "col = \"movie_id\"\n",
    "movie_col = nodes_df[col]\n",
    "movie_adj_union_raw = get_unions_length_adj_mat(movie_col)\n",
    "movie_adj_union_diag = np.diag(np.diag(movie_adj_union_raw))\n",
    "movie_adj_union = movie_adj_union_raw - movie_adj_union_diag"
   ]
  },
  {
   "cell_type": "code",
   "execution_count": 41,
   "metadata": {},
   "outputs": [
    {
     "data": {
      "text/plain": [
       "<matplotlib.image.AxesImage at 0x20126f70fd0>"
      ]
     },
     "execution_count": 41,
     "metadata": {},
     "output_type": "execute_result"
    },
    {
     "data": {
      "image/png": "[encoded data removed]",
      "text/plain": [
       "<Figure size 432x288 with 1 Axes>"
      ]
     },
     "metadata": {
      "needs_background": "light"
     },
     "output_type": "display_data"
    }
   ],
   "source": [
    "plt.imshow(movie_adj_union, cmap=\"hot\", interpolation=\"none\")"
   ]
  },
  {
   "cell_type": "code",
   "execution_count": 42,
   "metadata": {},
   "outputs": [],
   "source": [
    "np.save(\"movie_adj_union\", movie_adj_union)"
   ]
  },
  {
   "cell_type": "markdown",
   "metadata": {},
   "source": [
    "## Get directors intersections lenght mat"
   ]
  },
  {
   "cell_type": "code",
   "execution_count": 43,
   "metadata": {},
   "outputs": [
    {
     "name": "stdout",
     "output_type": "stream",
     "text": [
      "Time:  7.231373699999992\n"
     ]
    }
   ],
   "source": [
    "col = \"crew\"\n",
    "crew_col = nodes_df[col]\n",
    "crew_adj_raw = get_intersections_length_adj_mat(crew_col)\n",
    "crew_adj_diag = np.diag(np.diag(crew_adj_raw))\n",
    "crew_adj = crew_adj_raw - crew_adj_diag"
   ]
  },
  {
   "cell_type": "code",
   "execution_count": 44,
   "metadata": {},
   "outputs": [
    {
     "data": {
      "text/plain": [
       "<matplotlib.image.AxesImage at 0x20127101278>"
      ]
     },
     "execution_count": 44,
     "metadata": {},
     "output_type": "execute_result"
    },
    {
     "data": {
      "image/png": "[encoded data removed]",
      "text/plain": [
       "<Figure size 432x288 with 1 Axes>"
      ]
     },
     "metadata": {
      "needs_background": "light"
     },
     "output_type": "display_data"
    }
   ],
   "source": [
    "plt.spy(crew_adj)"
   ]
  },
  {
   "cell_type": "code",
   "execution_count": 45,
   "metadata": {},
   "outputs": [],
   "source": [
    "np.save(\"crew_adj\", crew_adj)"
   ]
  },
  {
   "cell_type": "markdown",
   "metadata": {},
   "source": [
    "## Get directors union length mat"
   ]
  },
  {
   "cell_type": "code",
   "execution_count": 46,
   "metadata": {},
   "outputs": [
    {
     "name": "stdout",
     "output_type": "stream",
     "text": [
      "Time:  9.1199127\n"
     ]
    }
   ],
   "source": [
    "col = \"crew\"\n",
    "crew_col = nodes_df[col]\n",
    "crew_adj_union_raw = get_unions_length_adj_mat(crew_col)\n",
    "crew_adj_union_diag = np.diag(np.diag(crew_adj_union_raw))\n",
    "crew_adj_union = crew_adj_union_raw - crew_adj_union_diag"
   ]
  },
  {
   "cell_type": "code",
   "execution_count": 47,
   "metadata": {},
   "outputs": [
    {
     "data": {
      "text/plain": [
       "<matplotlib.image.AxesImage at 0x201272217b8>"
      ]
     },
     "execution_count": 47,
     "metadata": {},
     "output_type": "execute_result"
    },
    {
     "data": {
      "image/png": "[encoded data removed]",
      "text/plain": [
       "<Figure size 432x288 with 1 Axes>"
      ]
     },
     "metadata": {
      "needs_background": "light"
     },
     "output_type": "display_data"
    }
   ],
   "source": [
    "plt.imshow(crew_adj_union, cmap=\"hot\", interpolation=\"none\")"
   ]
  },
  {
   "cell_type": "code",
   "execution_count": 48,
   "metadata": {},
   "outputs": [],
   "source": [
    "np.save(\"crew_adj_union\", crew_adj_union)"
   ]
  },
  {
   "cell_type": "markdown",
   "metadata": {},
   "source": [
    "## Get production companies intersections length mat"
   ]
  },
  {
   "cell_type": "code",
   "execution_count": 49,
   "metadata": {},
   "outputs": [
    {
     "name": "stdout",
     "output_type": "stream",
     "text": [
      "Time:  8.685163099999983\n"
     ]
    }
   ],
   "source": [
    "col = \"production_companies\"\n",
    "prod_comp_col = nodes_df[col]\n",
    "prod_comp_adj_raw = get_intersections_length_adj_mat(prod_comp_col)\n",
    "prod_comp_adj_diag = np.diag(np.diag(prod_comp_adj_raw))\n",
    "prod_comp_adj = prod_comp_adj_raw - prod_comp_adj_diag"
   ]
  },
  {
   "cell_type": "code",
   "execution_count": 50,
   "metadata": {},
   "outputs": [
    {
     "data": {
      "text/plain": [
       "<matplotlib.image.AxesImage at 0x201272cf748>"
      ]
     },
     "execution_count": 50,
     "metadata": {},
     "output_type": "execute_result"
    },
    {
     "data": {
      "image/png": "[encoded data removed]",
      "text/plain": [
       "<Figure size 432x288 with 1 Axes>"
      ]
     },
     "metadata": {
      "needs_background": "light"
     },
     "output_type": "display_data"
    }
   ],
   "source": [
    "plt.spy(prod_comp_adj)"
   ]
  },
  {
   "cell_type": "code",
   "execution_count": 51,
   "metadata": {},
   "outputs": [],
   "source": [
    "np.save(\"prod_comp_adj\", prod_comp_adj)"
   ]
  },
  {
   "cell_type": "markdown",
   "metadata": {},
   "source": [
    "## Get production companies unions length mat"
   ]
  },
  {
   "cell_type": "code",
   "execution_count": 52,
   "metadata": {},
   "outputs": [
    {
     "name": "stdout",
     "output_type": "stream",
     "text": [
      "Time:  12.489993099999992\n"
     ]
    }
   ],
   "source": [
    "col = \"production_companies\"\n",
    "prod_comp_col = nodes_df[col]\n",
    "prod_comp_adj_union_raw = get_unions_length_adj_mat(prod_comp_col)\n",
    "prod_comp_adj_union_diag = np.diag(np.diag(prod_comp_adj_union_raw))\n",
    "prod_comp_adj_union = prod_comp_adj_union_raw - prod_comp_adj_union_diag"
   ]
  },
  {
   "cell_type": "code",
   "execution_count": 53,
   "metadata": {},
   "outputs": [
    {
     "data": {
      "text/plain": [
       "<matplotlib.image.AxesImage at 0x201274407b8>"
      ]
     },
     "execution_count": 53,
     "metadata": {},
     "output_type": "execute_result"
    },
    {
     "data": {
      "image/png": "[encoded data removed]",
      "text/plain": [
       "<Figure size 432x288 with 1 Axes>"
      ]
     },
     "metadata": {
      "needs_background": "light"
     },
     "output_type": "display_data"
    }
   ],
   "source": [
    "plt.imshow(prod_comp_adj_union, cmap=\"hot\", interpolation=\"none\")"
   ]
  },
  {
   "cell_type": "code",
   "execution_count": 54,
   "metadata": {},
   "outputs": [],
   "source": [
    "np.save(\"prod_comp_adj_union\", prod_comp_adj_union)"
   ]
  },
  {
   "cell_type": "markdown",
   "metadata": {},
   "source": [
    "## Get genres intersections length mat"
   ]
  },
  {
   "cell_type": "code",
   "execution_count": 55,
   "metadata": {},
   "outputs": [
    {
     "name": "stdout",
     "output_type": "stream",
     "text": [
      "Time:  8.127426600000007\n"
     ]
    }
   ],
   "source": [
    "col = \"genres\"\n",
    "genres_col = nodes_df[col]\n",
    "genres_adj_raw = get_intersections_length_adj_mat(genres_col)\n",
    "genres_adj_diag = np.diag(np.diag(genres_adj_raw))\n",
    "genres_adj = genres_adj_raw - genres_adj_diag"
   ]
  },
  {
   "cell_type": "code",
   "execution_count": 56,
   "metadata": {},
   "outputs": [
    {
     "data": {
      "text/plain": [
       "<matplotlib.image.AxesImage at 0x20127566e80>"
      ]
     },
     "execution_count": 56,
     "metadata": {},
     "output_type": "execute_result"
    },
    {
     "data": {
      "image/png": "[encoded data removed]",
      "text/plain": [
       "<Figure size 432x288 with 1 Axes>"
      ]
     },
     "metadata": {
      "needs_background": "light"
     },
     "output_type": "display_data"
    }
   ],
   "source": [
    "plt.spy(genres_adj)"
   ]
  },
  {
   "cell_type": "code",
   "execution_count": 57,
   "metadata": {},
   "outputs": [],
   "source": [
    "np.save(\"genres_adj\", genres_adj)"
   ]
  },
  {
   "cell_type": "markdown",
   "metadata": {},
   "source": [
    "## Get genres unions length mat"
   ]
  },
  {
   "cell_type": "code",
   "execution_count": 58,
   "metadata": {},
   "outputs": [
    {
     "name": "stdout",
     "output_type": "stream",
     "text": [
      "Time:  11.236002299999996\n"
     ]
    }
   ],
   "source": [
    "col = \"genres\"\n",
    "genres_col = nodes_df[col]\n",
    "genres_adj_union_raw = get_unions_length_adj_mat(genres_col)\n",
    "genres_adj_union_diag = np.diag(np.diag(genres_adj_union_raw))\n",
    "genres_adj_union = genres_adj_union_raw - genres_adj_union_diag"
   ]
  },
  {
   "cell_type": "code",
   "execution_count": 59,
   "metadata": {},
   "outputs": [
    {
     "data": {
      "text/plain": [
       "<matplotlib.image.AxesImage at 0x201276d1860>"
      ]
     },
     "execution_count": 59,
     "metadata": {},
     "output_type": "execute_result"
    },
    {
     "data": {
      "image/png": "[encoded data removed]",
      "text/plain": [
       "<Figure size 432x288 with 1 Axes>"
      ]
     },
     "metadata": {
      "needs_background": "light"
     },
     "output_type": "display_data"
    }
   ],
   "source": [
    "plt.imshow(genres_adj_union, cmap=\"hot\", interpolation=\"none\")"
   ]
  },
  {
   "cell_type": "code",
   "execution_count": 60,
   "metadata": {},
   "outputs": [],
   "source": [
    "np.save(\"genres_adj_union\", genres_adj_union)"
   ]
  },
  {
   "cell_type": "markdown",
   "metadata": {},
   "source": [
    "## Aggregated adjacency matrix"
   ]
  },
  {
   "cell_type": "code",
   "execution_count": 61,
   "metadata": {},
   "outputs": [
    {
     "name": "stderr",
     "output_type": "stream",
     "text": [
      "C:\\Users\\AndresMontero\\.conda\\envs\\ntds_2019\\lib\\site-packages\\ipykernel_launcher.py:14: RuntimeWarning: invalid value encountered in true_divide\n",
      "  \n"
     ]
    },
    {
     "data": {
      "text/plain": [
       "77236.65386911613"
      ]
     },
     "execution_count": 61,
     "metadata": {},
     "output_type": "execute_result"
    }
   ],
   "source": [
    "agg_adj = np.divide(\n",
    "    (\n",
    "        0.3 * cast_adj\n",
    "        + 0.3 * movie_adj\n",
    "        + 0.2 * crew_adj\n",
    "        + 0.1 * genres_adj\n",
    "        + 0.1 * prod_comp_adj\n",
    "    ),\n",
    "    (\n",
    "        0.3 * cast_adj_union\n",
    "        + 0.3 * movie_adj_union\n",
    "        + 0.2 * crew_adj_union\n",
    "        + 0.1 * genres_adj_union\n",
    "        + 0.1 * prod_comp_adj_union\n",
    "    ),\n",
    ")\n",
    "agg_adj = np.where(np.isnan(agg_adj), 0, agg_adj)\n",
    "np.sum(agg_adj)"
   ]
  },
  {
   "cell_type": "code",
   "execution_count": 62,
   "metadata": {},
   "outputs": [
    {
     "data": {
      "text/plain": [
       "<matplotlib.image.AxesImage at 0x2012a965c50>"
      ]
     },
     "execution_count": 62,
     "metadata": {},
     "output_type": "execute_result"
    },
    {
     "data": {
      "image/png": "[encoded data removed]",
      "text/plain": [
       "<Figure size 432x288 with 1 Axes>"
      ]
     },
     "metadata": {
      "needs_background": "light"
     },
     "output_type": "display_data"
    }
   ],
   "source": [
    "plt.spy(agg_adj)"
   ]
  },
  {
   "cell_type": "code",
   "execution_count": 63,
   "metadata": {},
   "outputs": [
    {
     "data": {
      "text/plain": [
       "<matplotlib.image.AxesImage at 0x2012ab71860>"
      ]
     },
     "execution_count": 63,
     "metadata": {},
     "output_type": "execute_result"
    },
    {
     "data": {
      "image/png": "[encoded data removed]",
      "text/plain": [
       "<Figure size 432x288 with 1 Axes>"
      ]
     },
     "metadata": {
      "needs_background": "light"
     },
     "output_type": "display_data"
    }
   ],
   "source": [
    "plt.imshow(agg_adj, cmap=\"hot\", interpolation=\"none\")"
   ]
  },
  {
   "cell_type": "code",
   "execution_count": 64,
   "metadata": {},
   "outputs": [
    {
     "data": {
      "text/plain": [
       "0.0"
      ]
     },
     "execution_count": 64,
     "metadata": {},
     "output_type": "execute_result"
    }
   ],
   "source": [
    "np.min(agg_adj)"
   ]
  },
  {
   "cell_type": "code",
   "execution_count": 65,
   "metadata": {},
   "outputs": [
    {
     "data": {
      "text/plain": [
       "0.9850374064837905"
      ]
     },
     "execution_count": 65,
     "metadata": {},
     "output_type": "execute_result"
    }
   ],
   "source": [
    "np.max(agg_adj)"
   ]
  },
  {
   "cell_type": "code",
   "execution_count": 66,
   "metadata": {},
   "outputs": [],
   "source": [
    "np.save(\"agg_adj\", agg_adj)"
   ]
  },
  {
   "cell_type": "markdown",
   "metadata": {},
   "source": [
    "## Sparsify graph"
   ]
  },
  {
   "cell_type": "code",
   "execution_count": 67,
   "metadata": {},
   "outputs": [],
   "source": [
    "agg_adj = np.load(\"agg_adj.npy\")"
   ]
  },
  {
   "cell_type": "code",
   "execution_count": 68,
   "metadata": {},
   "outputs": [],
   "source": [
    "def sparsify_adj(adj, epsilon):\n",
    "    return np.where(adj <= epsilon, 0, adj)"
   ]
  },
  {
   "cell_type": "code",
   "execution_count": 69,
   "metadata": {},
   "outputs": [
    {
     "name": "stdout",
     "output_type": "stream",
     "text": [
      "0.007038783699837348\n"
     ]
    }
   ],
   "source": [
    "percentile = 70\n",
    "eps = np.percentile(agg_adj, 70)\n",
    "print(eps)"
   ]
  },
  {
   "cell_type": "code",
   "execution_count": 70,
   "metadata": {},
   "outputs": [],
   "source": [
    "sparse_agg_adj = sparsify_adj(agg_adj, eps)"
   ]
  },
  {
   "cell_type": "code",
   "execution_count": 71,
   "metadata": {},
   "outputs": [
    {
     "data": {
      "text/plain": [
       "<matplotlib.image.AxesImage at 0x2012ada9f60>"
      ]
     },
     "execution_count": 71,
     "metadata": {},
     "output_type": "execute_result"
    },
    {
     "data": {
      "image/png": "[encoded data removed]",
      "text/plain": [
       "<Figure size 432x288 with 1 Axes>"
      ]
     },
     "metadata": {
      "needs_background": "light"
     },
     "output_type": "display_data"
    }
   ],
   "source": [
    "plt.spy(sparse_agg_adj)"
   ]
  },
  {
   "cell_type": "code",
   "execution_count": 72,
   "metadata": {},
   "outputs": [],
   "source": [
    "actors_graph = nx.from_numpy_matrix(sparse_agg_adj)"
   ]
  },
  {
   "cell_type": "code",
   "execution_count": 73,
   "metadata": {},
   "outputs": [],
   "source": [
    "csr_sparse_agg_adj = sparse.csr_matrix(sparse_agg_adj)"
   ]
  },
  {
   "cell_type": "code",
   "execution_count": 74,
   "metadata": {},
   "outputs": [],
   "source": [
    "np.save(\"sparse_agg_adj_actors\", sparse_agg_adj)"
   ]
  },
  {
   "cell_type": "markdown",
   "metadata": {},
   "source": [
    "## Tests"
   ]
  },
  {
   "cell_type": "markdown",
   "metadata": {},
   "source": [
    "### Test consistency of data"
   ]
  },
  {
   "cell_type": "code",
   "execution_count": 75,
   "metadata": {},
   "outputs": [
    {
     "data": {
      "text/plain": [
       "3169"
      ]
     },
     "execution_count": 75,
     "metadata": {},
     "output_type": "execute_result"
    }
   ],
   "source": [
    "dict_actor_id.get(\"Sam Worthington\")"
   ]
  },
  {
   "cell_type": "code",
   "execution_count": 76,
   "metadata": {},
   "outputs": [
    {
     "data": {
      "text/html": [
       "<div>\n",
       "<style scoped>\n",
       "    .dataframe tbody tr th:only-of-type {\n",
       "        vertical-align: middle;\n",
       "    }\n",
       "\n",
       "    .dataframe tbody tr th {\n",
       "        vertical-align: top;\n",
       "    }\n",
       "\n",
       "    .dataframe thead th {\n",
       "        text-align: right;\n",
       "    }\n",
       "</style>\n",
       "<table border=\"1\" class=\"dataframe\">\n",
       "  <thead>\n",
       "    <tr style=\"text-align: right;\">\n",
       "      <th></th>\n",
       "      <th>actor_id</th>\n",
       "      <th>actors</th>\n",
       "      <th>gender</th>\n",
       "      <th>order</th>\n",
       "    </tr>\n",
       "  </thead>\n",
       "  <tbody>\n",
       "    <tr>\n",
       "      <td>45</td>\n",
       "      <td>45</td>\n",
       "      <td>Adriana Barraza</td>\n",
       "      <td>1</td>\n",
       "      <td>[0]</td>\n",
       "    </tr>\n",
       "  </tbody>\n",
       "</table>\n",
       "</div>"
      ],
      "text/plain": [
       "    actor_id           actors  gender order\n",
       "45        45  Adriana Barraza       1   [0]"
      ]
     },
     "execution_count": 76,
     "metadata": {},
     "output_type": "execute_result"
    }
   ],
   "source": [
    "actors_df[actors_df[\"actors\"] == \"Adriana Barraza\"]"
   ]
  },
  {
   "cell_type": "code",
   "execution_count": 77,
   "metadata": {},
   "outputs": [],
   "source": [
    "dict_actor_id.get(\"Andreas Berg\")"
   ]
  },
  {
   "cell_type": "code",
   "execution_count": 78,
   "metadata": {},
   "outputs": [
    {
     "data": {
      "text/html": [
       "<div>\n",
       "<style scoped>\n",
       "    .dataframe tbody tr th:only-of-type {\n",
       "        vertical-align: middle;\n",
       "    }\n",
       "\n",
       "    .dataframe tbody tr th {\n",
       "        vertical-align: top;\n",
       "    }\n",
       "\n",
       "    .dataframe thead th {\n",
       "        text-align: right;\n",
       "    }\n",
       "</style>\n",
       "<table border=\"1\" class=\"dataframe\">\n",
       "  <thead>\n",
       "    <tr style=\"text-align: right;\">\n",
       "      <th></th>\n",
       "      <th>actor_id</th>\n",
       "      <th>actors</th>\n",
       "      <th>gender</th>\n",
       "      <th>order</th>\n",
       "    </tr>\n",
       "  </thead>\n",
       "  <tbody>\n",
       "    <tr>\n",
       "      <td>1000</td>\n",
       "      <td>1000</td>\n",
       "      <td>Elden Henson</td>\n",
       "      <td>2</td>\n",
       "      <td>[1, 1]</td>\n",
       "    </tr>\n",
       "  </tbody>\n",
       "</table>\n",
       "</div>"
      ],
      "text/plain": [
       "      actor_id        actors  gender   order\n",
       "1000      1000  Elden Henson       2  [1, 1]"
      ]
     },
     "execution_count": 78,
     "metadata": {},
     "output_type": "execute_result"
    }
   ],
   "source": [
    "actors_df[actors_df[\"actor_id\"] == 1000]"
   ]
  },
  {
   "cell_type": "code",
   "execution_count": 79,
   "metadata": {},
   "outputs": [
    {
     "data": {
      "text/plain": [
       "{'Anthony Geary',\n",
       " 'Billy Barty',\n",
       " 'David Bowe',\n",
       " 'Emo Philips',\n",
       " 'Fran Drescher',\n",
       " 'Kevin McCarthy',\n",
       " 'Michael Richards',\n",
       " 'Trinidad Silva',\n",
       " 'Victoria Jackson'}"
      ]
     },
     "execution_count": 79,
     "metadata": {},
     "output_type": "execute_result"
    }
   ],
   "source": [
    "nodes_df.loc[0, \"cast\"]"
   ]
  },
  {
   "cell_type": "code",
   "execution_count": 80,
   "metadata": {},
   "outputs": [
    {
     "data": {
      "text/plain": [
       "3770"
      ]
     },
     "execution_count": 80,
     "metadata": {},
     "output_type": "execute_result"
    }
   ],
   "source": [
    "# Test number of actors\n",
    "len(np.unique(actors_agg_df.index.values))"
   ]
  },
  {
   "cell_type": "code",
   "execution_count": 81,
   "metadata": {},
   "outputs": [
    {
     "data": {
      "text/html": [
       "<div>\n",
       "<style scoped>\n",
       "    .dataframe tbody tr th:only-of-type {\n",
       "        vertical-align: middle;\n",
       "    }\n",
       "\n",
       "    .dataframe tbody tr th {\n",
       "        vertical-align: top;\n",
       "    }\n",
       "\n",
       "    .dataframe thead th {\n",
       "        text-align: right;\n",
       "    }\n",
       "</style>\n",
       "<table border=\"1\" class=\"dataframe\">\n",
       "  <thead>\n",
       "    <tr style=\"text-align: right;\">\n",
       "      <th></th>\n",
       "      <th>movie_id</th>\n",
       "      <th>cast</th>\n",
       "      <th>crew</th>\n",
       "      <th>gender</th>\n",
       "      <th>budget</th>\n",
       "      <th>genres</th>\n",
       "      <th>keywords</th>\n",
       "      <th>original_language</th>\n",
       "      <th>popularity</th>\n",
       "      <th>production_companies</th>\n",
       "      <th>production_countries</th>\n",
       "      <th>release_date</th>\n",
       "      <th>revenue</th>\n",
       "      <th>runtime</th>\n",
       "      <th>spoken_languages</th>\n",
       "      <th>status</th>\n",
       "      <th>title</th>\n",
       "      <th>vote_average</th>\n",
       "      <th>vote_count</th>\n",
       "    </tr>\n",
       "    <tr>\n",
       "      <th>actor_id</th>\n",
       "      <th></th>\n",
       "      <th></th>\n",
       "      <th></th>\n",
       "      <th></th>\n",
       "      <th></th>\n",
       "      <th></th>\n",
       "      <th></th>\n",
       "      <th></th>\n",
       "      <th></th>\n",
       "      <th></th>\n",
       "      <th></th>\n",
       "      <th></th>\n",
       "      <th></th>\n",
       "      <th></th>\n",
       "      <th></th>\n",
       "      <th></th>\n",
       "      <th></th>\n",
       "      <th></th>\n",
       "      <th></th>\n",
       "    </tr>\n",
       "  </thead>\n",
       "  <tbody>\n",
       "    <tr>\n",
       "      <td>0</td>\n",
       "      <td>{3619}</td>\n",
       "      <td>{David Bowe, Trinidad Silva, Anthony Geary, Mi...</td>\n",
       "      <td>{Jay Levey}</td>\n",
       "      <td>0</td>\n",
       "      <td>5.000000e+06</td>\n",
       "      <td>{Comedy}</td>\n",
       "      <td>{indiana jones spoof scene, satire, tv star, g...</td>\n",
       "      <td>{en}</td>\n",
       "      <td>4.070044</td>\n",
       "      <td>{Cinecorp, Orion Pictures}</td>\n",
       "      <td>{United States of America}</td>\n",
       "      <td>[1989-07-21]</td>\n",
       "      <td>0.000000e+00</td>\n",
       "      <td>97.0</td>\n",
       "      <td>{English}</td>\n",
       "      <td>[Released]</td>\n",
       "      <td>{UHF}</td>\n",
       "      <td>6.700000</td>\n",
       "      <td>89.000000</td>\n",
       "    </tr>\n",
       "    <tr>\n",
       "      <td>1</td>\n",
       "      <td>{1233}</td>\n",
       "      <td>{Sullivan Walker, Terrence Howard, Joseph Pier...</td>\n",
       "      <td>{Jim Sheridan}</td>\n",
       "      <td>2</td>\n",
       "      <td>4.000000e+07</td>\n",
       "      <td>{Drama}</td>\n",
       "      <td>{career, musical, attempted murder, drug, rapp...</td>\n",
       "      <td>{en}</td>\n",
       "      <td>12.885985</td>\n",
       "      <td>{Paramount Pictures, MTV Films, Cent Productio...</td>\n",
       "      <td>{United States of America}</td>\n",
       "      <td>[2005-11-09]</td>\n",
       "      <td>4.644253e+07</td>\n",
       "      <td>117.0</td>\n",
       "      <td>{English}</td>\n",
       "      <td>[Released]</td>\n",
       "      <td>{Get Rich or Die Tryin'}</td>\n",
       "      <td>6.300000</td>\n",
       "      <td>186.000000</td>\n",
       "    </tr>\n",
       "    <tr>\n",
       "      <td>2</td>\n",
       "      <td>{4034}</td>\n",
       "      <td>{Ron Roggé, Vanessa Evigan, Piper Mackenzie Ha...</td>\n",
       "      <td>{John Murlowski}</td>\n",
       "      <td>2</td>\n",
       "      <td>0.000000e+00</td>\n",
       "      <td>{Comedy, Family}</td>\n",
       "      <td>{}</td>\n",
       "      <td>{en}</td>\n",
       "      <td>0.630226</td>\n",
       "      <td>{}</td>\n",
       "      <td>{United States of America}</td>\n",
       "      <td>[2010-12-01]</td>\n",
       "      <td>0.000000e+00</td>\n",
       "      <td>89.0</td>\n",
       "      <td>{English}</td>\n",
       "      <td>[Released]</td>\n",
       "      <td>{Christmas Mail}</td>\n",
       "      <td>5.000000</td>\n",
       "      <td>15.000000</td>\n",
       "    </tr>\n",
       "    <tr>\n",
       "      <td>3</td>\n",
       "      <td>{1789}</td>\n",
       "      <td>{Alejandro Rae, Shaun Sipos, Ali Larter, Micha...</td>\n",
       "      <td>{David R. Ellis}</td>\n",
       "      <td>1</td>\n",
       "      <td>2.600000e+07</td>\n",
       "      <td>{Mystery, Horror}</td>\n",
       "      <td>{hospital, premonition, ambulance}</td>\n",
       "      <td>{en}</td>\n",
       "      <td>37.355826</td>\n",
       "      <td>{New Line Cinema, Zide-Perry Productions}</td>\n",
       "      <td>{United States of America}</td>\n",
       "      <td>[2003-01-31]</td>\n",
       "      <td>9.042640e+07</td>\n",
       "      <td>90.0</td>\n",
       "      <td>{English}</td>\n",
       "      <td>[Released]</td>\n",
       "      <td>{Final Destination 2}</td>\n",
       "      <td>5.900000</td>\n",
       "      <td>1023.000000</td>\n",
       "    </tr>\n",
       "    <tr>\n",
       "      <td>4</td>\n",
       "      <td>{4203}</td>\n",
       "      <td>{Kevin Pollak, James Denton, Jamie Grace, Shaw...</td>\n",
       "      <td>{Brad J. Silverman}</td>\n",
       "      <td>1</td>\n",
       "      <td>0.000000e+00</td>\n",
       "      <td>{Drama, Music}</td>\n",
       "      <td>{christian}</td>\n",
       "      <td>{en}</td>\n",
       "      <td>2.160586</td>\n",
       "      <td>{Birchwood Pictures, Coram Deo Studios}</td>\n",
       "      <td>{United States of America}</td>\n",
       "      <td>[2013-10-04]</td>\n",
       "      <td>0.000000e+00</td>\n",
       "      <td>102.0</td>\n",
       "      <td>{English}</td>\n",
       "      <td>[Released]</td>\n",
       "      <td>{Grace Unplugged}</td>\n",
       "      <td>6.000000</td>\n",
       "      <td>24.000000</td>\n",
       "    </tr>\n",
       "    <tr>\n",
       "      <td>...</td>\n",
       "      <td>...</td>\n",
       "      <td>...</td>\n",
       "      <td>...</td>\n",
       "      <td>...</td>\n",
       "      <td>...</td>\n",
       "      <td>...</td>\n",
       "      <td>...</td>\n",
       "      <td>...</td>\n",
       "      <td>...</td>\n",
       "      <td>...</td>\n",
       "      <td>...</td>\n",
       "      <td>...</td>\n",
       "      <td>...</td>\n",
       "      <td>...</td>\n",
       "      <td>...</td>\n",
       "      <td>...</td>\n",
       "      <td>...</td>\n",
       "      <td>...</td>\n",
       "      <td>...</td>\n",
       "    </tr>\n",
       "    <tr>\n",
       "      <td>3765</td>\n",
       "      <td>{3979}</td>\n",
       "      <td>{Kellie Geradi, Kelli Chaves, James Leibow, Ca...</td>\n",
       "      <td>{Morgan Spurlock, Alex Gibney, Eugene Jarecki,...</td>\n",
       "      <td>0</td>\n",
       "      <td>3.000000e+06</td>\n",
       "      <td>{Documentary}</td>\n",
       "      <td>{experiment, cheating, corruption, limousine, ...</td>\n",
       "      <td>{en}</td>\n",
       "      <td>1.781462</td>\n",
       "      <td>{Chad Troutwine Films, Loki Films, Green Film ...</td>\n",
       "      <td>{United States of America}</td>\n",
       "      <td>[2010-10-01]</td>\n",
       "      <td>1.037350e+05</td>\n",
       "      <td>93.0</td>\n",
       "      <td>{English}</td>\n",
       "      <td>[Released]</td>\n",
       "      <td>{Freakonomics}</td>\n",
       "      <td>6.600000</td>\n",
       "      <td>36.000000</td>\n",
       "    </tr>\n",
       "    <tr>\n",
       "      <td>3766</td>\n",
       "      <td>{3847, 3339, 1068, 913, 723, 4373}</td>\n",
       "      <td>{Molly Sims, Traci Law, Maurice Compte, Gregor...</td>\n",
       "      <td>{M. Night Shyamalan, Peyton Reed, Garth Jennin...</td>\n",
       "      <td>1</td>\n",
       "      <td>3.183333e+07</td>\n",
       "      <td>{Drama, Romance, Comedy, Science Fiction, Fami...</td>\n",
       "      <td>{spaceship, dolphin, intergalactic travel, bas...</td>\n",
       "      <td>{en}</td>\n",
       "      <td>28.167807</td>\n",
       "      <td>{Warner Bros., Watermark, UTV Motion Pictures,...</td>\n",
       "      <td>{India, United States of America, France}</td>\n",
       "      <td>[2005-01-15, 2008-06-11, 2008-12-09, 2009-07-1...</td>\n",
       "      <td>9.245162e+07</td>\n",
       "      <td>605.0</td>\n",
       "      <td>{Français, svenska, English, Eesti, 한국어/조선말}</td>\n",
       "      <td>[Released, Released, Released, Released, Relea...</td>\n",
       "      <td>{The Happening, (500) Days of Summer, All the ...</td>\n",
       "      <td>6.283333</td>\n",
       "      <td>1173.333333</td>\n",
       "    </tr>\n",
       "    <tr>\n",
       "      <td>3767</td>\n",
       "      <td>{3691}</td>\n",
       "      <td>{Don McKellar, Kim Ly, Ariadna Gil, Douglas Sm...</td>\n",
       "      <td>{Analeine Cal y Mayor}</td>\n",
       "      <td>1</td>\n",
       "      <td>4.700000e+06</td>\n",
       "      <td>{Comedy, Drama}</td>\n",
       "      <td>{parenting, boy, woman director, self acceptan...</td>\n",
       "      <td>{en}</td>\n",
       "      <td>0.217538</td>\n",
       "      <td>{Mecanismo Films, Redrum, Rhombus Media}</td>\n",
       "      <td>{Mexico, Canada}</td>\n",
       "      <td>[2013-09-13]</td>\n",
       "      <td>0.000000e+00</td>\n",
       "      <td>92.0</td>\n",
       "      <td>{English}</td>\n",
       "      <td>[Released]</td>\n",
       "      <td>{Treading Water}</td>\n",
       "      <td>5.600000</td>\n",
       "      <td>6.000000</td>\n",
       "    </tr>\n",
       "    <tr>\n",
       "      <td>3768</td>\n",
       "      <td>{498}</td>\n",
       "      <td>{Silas Carson, Peter Mensah, Viggo Mortensen, ...</td>\n",
       "      <td>{Joe Johnston}</td>\n",
       "      <td>1</td>\n",
       "      <td>1.000000e+08</td>\n",
       "      <td>{Adventure, Western}</td>\n",
       "      <td>{horse race, racehorse, horse}</td>\n",
       "      <td>{en}</td>\n",
       "      <td>16.759252</td>\n",
       "      <td>{Casey Silver Productions, Touchstone Pictures...</td>\n",
       "      <td>{Morocco, United States of America}</td>\n",
       "      <td>[2004-03-05]</td>\n",
       "      <td>1.081034e+08</td>\n",
       "      <td>136.0</td>\n",
       "      <td>{English}</td>\n",
       "      <td>[Released]</td>\n",
       "      <td>{Hidalgo}</td>\n",
       "      <td>6.500000</td>\n",
       "      <td>318.000000</td>\n",
       "    </tr>\n",
       "    <tr>\n",
       "      <td>3769</td>\n",
       "      <td>{2742}</td>\n",
       "      <td>{Pablo Calva, Sedona Legge, Chelsea Moody, Jos...</td>\n",
       "      <td>{Jaume Collet-Serra}</td>\n",
       "      <td>2</td>\n",
       "      <td>1.700000e+07</td>\n",
       "      <td>{Drama, Horror, Thriller}</td>\n",
       "      <td>{island, animal attack, mexico, survival, shar...</td>\n",
       "      <td>{en}</td>\n",
       "      <td>60.829621</td>\n",
       "      <td>{Ombra Films, Weimaraner Republic Pictures, Co...</td>\n",
       "      <td>{United States of America}</td>\n",
       "      <td>[2016-06-24]</td>\n",
       "      <td>1.191008e+08</td>\n",
       "      <td>86.0</td>\n",
       "      <td>{English}</td>\n",
       "      <td>[Released]</td>\n",
       "      <td>{The Shallows}</td>\n",
       "      <td>6.200000</td>\n",
       "      <td>1567.000000</td>\n",
       "    </tr>\n",
       "  </tbody>\n",
       "</table>\n",
       "<p>3770 rows × 19 columns</p>\n",
       "</div>"
      ],
      "text/plain": [
       "                                    movie_id  \\\n",
       "actor_id                                       \n",
       "0                                     {3619}   \n",
       "1                                     {1233}   \n",
       "2                                     {4034}   \n",
       "3                                     {1789}   \n",
       "4                                     {4203}   \n",
       "...                                      ...   \n",
       "3765                                  {3979}   \n",
       "3766      {3847, 3339, 1068, 913, 723, 4373}   \n",
       "3767                                  {3691}   \n",
       "3768                                   {498}   \n",
       "3769                                  {2742}   \n",
       "\n",
       "                                                       cast  \\\n",
       "actor_id                                                      \n",
       "0         {David Bowe, Trinidad Silva, Anthony Geary, Mi...   \n",
       "1         {Sullivan Walker, Terrence Howard, Joseph Pier...   \n",
       "2         {Ron Roggé, Vanessa Evigan, Piper Mackenzie Ha...   \n",
       "3         {Alejandro Rae, Shaun Sipos, Ali Larter, Micha...   \n",
       "4         {Kevin Pollak, James Denton, Jamie Grace, Shaw...   \n",
       "...                                                     ...   \n",
       "3765      {Kellie Geradi, Kelli Chaves, James Leibow, Ca...   \n",
       "3766      {Molly Sims, Traci Law, Maurice Compte, Gregor...   \n",
       "3767      {Don McKellar, Kim Ly, Ariadna Gil, Douglas Sm...   \n",
       "3768      {Silas Carson, Peter Mensah, Viggo Mortensen, ...   \n",
       "3769      {Pablo Calva, Sedona Legge, Chelsea Moody, Jos...   \n",
       "\n",
       "                                                       crew  gender  \\\n",
       "actor_id                                                              \n",
       "0                                               {Jay Levey}       0   \n",
       "1                                            {Jim Sheridan}       2   \n",
       "2                                          {John Murlowski}       2   \n",
       "3                                          {David R. Ellis}       1   \n",
       "4                                       {Brad J. Silverman}       1   \n",
       "...                                                     ...     ...   \n",
       "3765      {Morgan Spurlock, Alex Gibney, Eugene Jarecki,...       0   \n",
       "3766      {M. Night Shyamalan, Peyton Reed, Garth Jennin...       1   \n",
       "3767                                 {Analeine Cal y Mayor}       1   \n",
       "3768                                         {Joe Johnston}       1   \n",
       "3769                                   {Jaume Collet-Serra}       2   \n",
       "\n",
       "                budget                                             genres  \\\n",
       "actor_id                                                                    \n",
       "0         5.000000e+06                                           {Comedy}   \n",
       "1         4.000000e+07                                            {Drama}   \n",
       "2         0.000000e+00                                   {Comedy, Family}   \n",
       "3         2.600000e+07                                  {Mystery, Horror}   \n",
       "4         0.000000e+00                                     {Drama, Music}   \n",
       "...                ...                                                ...   \n",
       "3765      3.000000e+06                                      {Documentary}   \n",
       "3766      3.183333e+07  {Drama, Romance, Comedy, Science Fiction, Fami...   \n",
       "3767      4.700000e+06                                    {Comedy, Drama}   \n",
       "3768      1.000000e+08                               {Adventure, Western}   \n",
       "3769      1.700000e+07                          {Drama, Horror, Thriller}   \n",
       "\n",
       "                                                   keywords original_language  \\\n",
       "actor_id                                                                        \n",
       "0         {indiana jones spoof scene, satire, tv star, g...              {en}   \n",
       "1         {career, musical, attempted murder, drug, rapp...              {en}   \n",
       "2                                                        {}              {en}   \n",
       "3                        {hospital, premonition, ambulance}              {en}   \n",
       "4                                               {christian}              {en}   \n",
       "...                                                     ...               ...   \n",
       "3765      {experiment, cheating, corruption, limousine, ...              {en}   \n",
       "3766      {spaceship, dolphin, intergalactic travel, bas...              {en}   \n",
       "3767      {parenting, boy, woman director, self acceptan...              {en}   \n",
       "3768                         {horse race, racehorse, horse}              {en}   \n",
       "3769      {island, animal attack, mexico, survival, shar...              {en}   \n",
       "\n",
       "          popularity                               production_companies  \\\n",
       "actor_id                                                                  \n",
       "0           4.070044                         {Cinecorp, Orion Pictures}   \n",
       "1          12.885985  {Paramount Pictures, MTV Films, Cent Productio...   \n",
       "2           0.630226                                                 {}   \n",
       "3          37.355826          {New Line Cinema, Zide-Perry Productions}   \n",
       "4           2.160586            {Birchwood Pictures, Coram Deo Studios}   \n",
       "...              ...                                                ...   \n",
       "3765        1.781462  {Chad Troutwine Films, Loki Films, Green Film ...   \n",
       "3766       28.167807  {Warner Bros., Watermark, UTV Motion Pictures,...   \n",
       "3767        0.217538           {Mecanismo Films, Redrum, Rhombus Media}   \n",
       "3768       16.759252  {Casey Silver Productions, Touchstone Pictures...   \n",
       "3769       60.829621  {Ombra Films, Weimaraner Republic Pictures, Co...   \n",
       "\n",
       "                               production_countries  \\\n",
       "actor_id                                              \n",
       "0                        {United States of America}   \n",
       "1                        {United States of America}   \n",
       "2                        {United States of America}   \n",
       "3                        {United States of America}   \n",
       "4                        {United States of America}   \n",
       "...                                             ...   \n",
       "3765                     {United States of America}   \n",
       "3766      {India, United States of America, France}   \n",
       "3767                               {Mexico, Canada}   \n",
       "3768            {Morocco, United States of America}   \n",
       "3769                     {United States of America}   \n",
       "\n",
       "                                               release_date       revenue  \\\n",
       "actor_id                                                                    \n",
       "0                                              [1989-07-21]  0.000000e+00   \n",
       "1                                              [2005-11-09]  4.644253e+07   \n",
       "2                                              [2010-12-01]  0.000000e+00   \n",
       "3                                              [2003-01-31]  9.042640e+07   \n",
       "4                                              [2013-10-04]  0.000000e+00   \n",
       "...                                                     ...           ...   \n",
       "3765                                           [2010-10-01]  1.037350e+05   \n",
       "3766      [2005-01-15, 2008-06-11, 2008-12-09, 2009-07-1...  9.245162e+07   \n",
       "3767                                           [2013-09-13]  0.000000e+00   \n",
       "3768                                           [2004-03-05]  1.081034e+08   \n",
       "3769                                           [2016-06-24]  1.191008e+08   \n",
       "\n",
       "          runtime                              spoken_languages  \\\n",
       "actor_id                                                          \n",
       "0            97.0                                     {English}   \n",
       "1           117.0                                     {English}   \n",
       "2            89.0                                     {English}   \n",
       "3            90.0                                     {English}   \n",
       "4           102.0                                     {English}   \n",
       "...           ...                                           ...   \n",
       "3765         93.0                                     {English}   \n",
       "3766        605.0  {Français, svenska, English, Eesti, 한국어/조선말}   \n",
       "3767         92.0                                     {English}   \n",
       "3768        136.0                                     {English}   \n",
       "3769         86.0                                     {English}   \n",
       "\n",
       "                                                     status  \\\n",
       "actor_id                                                      \n",
       "0                                                [Released]   \n",
       "1                                                [Released]   \n",
       "2                                                [Released]   \n",
       "3                                                [Released]   \n",
       "4                                                [Released]   \n",
       "...                                                     ...   \n",
       "3765                                             [Released]   \n",
       "3766      [Released, Released, Released, Released, Relea...   \n",
       "3767                                             [Released]   \n",
       "3768                                             [Released]   \n",
       "3769                                             [Released]   \n",
       "\n",
       "                                                      title  vote_average  \\\n",
       "actor_id                                                                    \n",
       "0                                                     {UHF}      6.700000   \n",
       "1                                  {Get Rich or Die Tryin'}      6.300000   \n",
       "2                                          {Christmas Mail}      5.000000   \n",
       "3                                     {Final Destination 2}      5.900000   \n",
       "4                                         {Grace Unplugged}      6.000000   \n",
       "...                                                     ...           ...   \n",
       "3765                                         {Freakonomics}      6.600000   \n",
       "3766      {The Happening, (500) Days of Summer, All the ...      6.283333   \n",
       "3767                                       {Treading Water}      5.600000   \n",
       "3768                                              {Hidalgo}      6.500000   \n",
       "3769                                         {The Shallows}      6.200000   \n",
       "\n",
       "           vote_count  \n",
       "actor_id               \n",
       "0           89.000000  \n",
       "1          186.000000  \n",
       "2           15.000000  \n",
       "3         1023.000000  \n",
       "4           24.000000  \n",
       "...               ...  \n",
       "3765        36.000000  \n",
       "3766      1173.333333  \n",
       "3767         6.000000  \n",
       "3768       318.000000  \n",
       "3769      1567.000000  \n",
       "\n",
       "[3770 rows x 19 columns]"
      ]
     },
     "execution_count": 81,
     "metadata": {},
     "output_type": "execute_result"
    }
   ],
   "source": [
    "actors_agg_df"
   ]
  },
  {
   "cell_type": "code",
   "execution_count": 82,
   "metadata": {},
   "outputs": [
    {
     "data": {
      "text/plain": [
       "{0, 43, 132, 206, 1146, 1448}"
      ]
     },
     "execution_count": 82,
     "metadata": {},
     "output_type": "execute_result"
    }
   ],
   "source": [
    "test_movie_id = actors_agg_df.loc[dict_actor_id.get(\"Sam Worthington\")][\"movie_id\"]\n",
    "test_movie_id"
   ]
  },
  {
   "cell_type": "code",
   "execution_count": 83,
   "metadata": {},
   "outputs": [
    {
     "data": {
      "text/html": [
       "<div>\n",
       "<style scoped>\n",
       "    .dataframe tbody tr th:only-of-type {\n",
       "        vertical-align: middle;\n",
       "    }\n",
       "\n",
       "    .dataframe tbody tr th {\n",
       "        vertical-align: top;\n",
       "    }\n",
       "\n",
       "    .dataframe thead th {\n",
       "        text-align: right;\n",
       "    }\n",
       "</style>\n",
       "<table border=\"1\" class=\"dataframe\">\n",
       "  <thead>\n",
       "    <tr style=\"text-align: right;\">\n",
       "      <th></th>\n",
       "      <th>movie_id</th>\n",
       "      <th>new_movie_id</th>\n",
       "      <th>title</th>\n",
       "    </tr>\n",
       "  </thead>\n",
       "  <tbody>\n",
       "    <tr>\n",
       "      <td>0</td>\n",
       "      <td>19995</td>\n",
       "      <td>0</td>\n",
       "      <td>Avatar</td>\n",
       "    </tr>\n",
       "    <tr>\n",
       "      <td>1</td>\n",
       "      <td>534</td>\n",
       "      <td>43</td>\n",
       "      <td>Terminator Salvation</td>\n",
       "    </tr>\n",
       "    <tr>\n",
       "      <td>2</td>\n",
       "      <td>57165</td>\n",
       "      <td>132</td>\n",
       "      <td>Wrath of the Titans</td>\n",
       "    </tr>\n",
       "    <tr>\n",
       "      <td>3</td>\n",
       "      <td>18823</td>\n",
       "      <td>206</td>\n",
       "      <td>Clash of the Titans</td>\n",
       "    </tr>\n",
       "    <tr>\n",
       "      <td>4</td>\n",
       "      <td>49527</td>\n",
       "      <td>1146</td>\n",
       "      <td>Man on a Ledge</td>\n",
       "    </tr>\n",
       "    <tr>\n",
       "      <td>5</td>\n",
       "      <td>144336</td>\n",
       "      <td>1448</td>\n",
       "      <td>Sabotage</td>\n",
       "    </tr>\n",
       "  </tbody>\n",
       "</table>\n",
       "</div>"
      ],
      "text/plain": [
       "   movie_id  new_movie_id                 title\n",
       "0     19995             0                Avatar\n",
       "1       534            43  Terminator Salvation\n",
       "2     57165           132   Wrath of the Titans\n",
       "3     18823           206   Clash of the Titans\n",
       "4     49527          1146        Man on a Ledge\n",
       "5    144336          1448              Sabotage"
      ]
     },
     "execution_count": 83,
     "metadata": {},
     "output_type": "execute_result"
    }
   ],
   "source": [
    "test_movies_df = unique_movies_df[\n",
    "    unique_movies_df[new_movie_id_col].isin(test_movie_id)\n",
    "]\n",
    "test_movies_df = test_movies_df.merge(\n",
    "    pr_movies_df, right_on=movie_id_col, left_on=movie_id_col\n",
    ")\n",
    "test_movies_df[[movie_id_col, new_movie_id_col, \"title\"]]"
   ]
  },
  {
   "cell_type": "code",
   "execution_count": 84,
   "metadata": {},
   "outputs": [
    {
     "data": {
      "text/plain": [
       "False"
      ]
     },
     "execution_count": 84,
     "metadata": {},
     "output_type": "execute_result"
    }
   ],
   "source": [
    "\"Sam Worthington\" in pr_credits_df.loc[0, \"cast\"]"
   ]
  },
  {
   "cell_type": "code",
   "execution_count": 85,
   "metadata": {},
   "outputs": [
    {
     "data": {
      "text/plain": [
       "movie_id                                                19995\n",
       "cast        {Zoe Saldana, Jamie Harrison, Mike Bodnar, Tay...\n",
       "crew                                          {James Cameron}\n",
       "actors                                        Sam Worthington\n",
       "Name: 0, dtype: object"
      ]
     },
     "execution_count": 85,
     "metadata": {},
     "output_type": "execute_result"
    }
   ],
   "source": [
    "pr_credits_df.loc[0]"
   ]
  }
 ],
 "metadata": {
  "kernelspec": {
   "display_name": "Python 3",
   "language": "python",
   "name": "python3"
  },
  "language_info": {
   "codemirror_mode": {
    "name": "ipython",
    "version": 3
   },
   "file_extension": ".py",
   "mimetype": "text/x-python",
   "name": "python",
   "nbconvert_exporter": "python",
   "pygments_lexer": "ipython3",
   "version": "3.7.3"
  }
 },
 "nbformat": 4,
 "nbformat_minor": 4
}
