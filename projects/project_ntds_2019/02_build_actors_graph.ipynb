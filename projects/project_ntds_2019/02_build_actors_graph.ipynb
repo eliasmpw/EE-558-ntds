{
 "cells": [
  {
   "cell_type": "code",
   "execution_count": 1,
   "metadata": {},
   "outputs": [],
   "source": [
    "import pandas as pd\n",
    "import json\n",
    "import matplotlib.pyplot as plt\n",
    "import numpy as np\n",
    "import json\n",
    "import networkx as nx\n",
    "from pandas.io.json import json_normalize\n",
    "from functools import reduce\n",
    "from scipy import sparse"
   ]
  },
  {
   "cell_type": "code",
   "execution_count": 2,
   "metadata": {},
   "outputs": [],
   "source": [
    "def col_json_to_dict(df, cols):\n",
    "    \"Transform the json values inside a column into list of dictionaries\"\n",
    "    transformed_df = df\n",
    "    for col in cols:\n",
    "        transformed_df = transformed_df.assign(**{col: df[col].apply(json.loads)})\n",
    "    return transformed_df"
   ]
  },
  {
   "cell_type": "code",
   "execution_count": 3,
   "metadata": {},
   "outputs": [],
   "source": [
    "def col_dict_to_set(df, col, key):\n",
    "    \"Create a set from the values of the dictionaries give a key\"\n",
    "    get_set = lambda dict_list: set([dict_.get(key) for dict_ in dict_list])\n",
    "    return df.assign(**{col: df[col].apply(get_set)})"
   ]
  },
  {
   "cell_type": "code",
   "execution_count": 4,
   "metadata": {},
   "outputs": [],
   "source": [
    "def col_filter_dict_with_vals(df, col, field, values):\n",
    "    \"Filter dictionaries with specific values from a column with lists of dictionaries\"\n",
    "    filter_dicts = lambda dict_list: [\n",
    "        dict_ for dict_ in dict_list if dict_.get(field) in values\n",
    "    ]\n",
    "    return df.assign(**{col: df[col].apply(filter_dicts)})"
   ]
  },
  {
   "cell_type": "code",
   "execution_count": 5,
   "metadata": {},
   "outputs": [
    {
     "data": {
      "text/html": [
       "<div>\n",
       "<style scoped>\n",
       "    .dataframe tbody tr th:only-of-type {\n",
       "        vertical-align: middle;\n",
       "    }\n",
       "\n",
       "    .dataframe tbody tr th {\n",
       "        vertical-align: top;\n",
       "    }\n",
       "\n",
       "    .dataframe thead th {\n",
       "        text-align: right;\n",
       "    }\n",
       "</style>\n",
       "<table border=\"1\" class=\"dataframe\">\n",
       "  <thead>\n",
       "    <tr style=\"text-align: right;\">\n",
       "      <th></th>\n",
       "      <th>movie_id</th>\n",
       "      <th>title</th>\n",
       "      <th>cast</th>\n",
       "      <th>crew</th>\n",
       "    </tr>\n",
       "  </thead>\n",
       "  <tbody>\n",
       "    <tr>\n",
       "      <td>0</td>\n",
       "      <td>19995</td>\n",
       "      <td>Avatar</td>\n",
       "      <td>[{\"cast_id\": 242, \"character\": \"Jake Sully\", \"...</td>\n",
       "      <td>[{\"credit_id\": \"52fe48009251416c750aca23\", \"de...</td>\n",
       "    </tr>\n",
       "    <tr>\n",
       "      <td>1</td>\n",
       "      <td>285</td>\n",
       "      <td>Pirates of the Caribbean: At World's End</td>\n",
       "      <td>[{\"cast_id\": 4, \"character\": \"Captain Jack Spa...</td>\n",
       "      <td>[{\"credit_id\": \"52fe4232c3a36847f800b579\", \"de...</td>\n",
       "    </tr>\n",
       "    <tr>\n",
       "      <td>2</td>\n",
       "      <td>206647</td>\n",
       "      <td>Spectre</td>\n",
       "      <td>[{\"cast_id\": 1, \"character\": \"James Bond\", \"cr...</td>\n",
       "      <td>[{\"credit_id\": \"54805967c3a36829b5002c41\", \"de...</td>\n",
       "    </tr>\n",
       "    <tr>\n",
       "      <td>3</td>\n",
       "      <td>49026</td>\n",
       "      <td>The Dark Knight Rises</td>\n",
       "      <td>[{\"cast_id\": 2, \"character\": \"Bruce Wayne / Ba...</td>\n",
       "      <td>[{\"credit_id\": \"52fe4781c3a36847f81398c3\", \"de...</td>\n",
       "    </tr>\n",
       "    <tr>\n",
       "      <td>4</td>\n",
       "      <td>49529</td>\n",
       "      <td>John Carter</td>\n",
       "      <td>[{\"cast_id\": 5, \"character\": \"John Carter\", \"c...</td>\n",
       "      <td>[{\"credit_id\": \"52fe479ac3a36847f813eaa3\", \"de...</td>\n",
       "    </tr>\n",
       "  </tbody>\n",
       "</table>\n",
       "</div>"
      ],
      "text/plain": [
       "   movie_id                                     title  \\\n",
       "0     19995                                    Avatar   \n",
       "1       285  Pirates of the Caribbean: At World's End   \n",
       "2    206647                                   Spectre   \n",
       "3     49026                     The Dark Knight Rises   \n",
       "4     49529                               John Carter   \n",
       "\n",
       "                                                cast  \\\n",
       "0  [{\"cast_id\": 242, \"character\": \"Jake Sully\", \"...   \n",
       "1  [{\"cast_id\": 4, \"character\": \"Captain Jack Spa...   \n",
       "2  [{\"cast_id\": 1, \"character\": \"James Bond\", \"cr...   \n",
       "3  [{\"cast_id\": 2, \"character\": \"Bruce Wayne / Ba...   \n",
       "4  [{\"cast_id\": 5, \"character\": \"John Carter\", \"c...   \n",
       "\n",
       "                                                crew  \n",
       "0  [{\"credit_id\": \"52fe48009251416c750aca23\", \"de...  \n",
       "1  [{\"credit_id\": \"52fe4232c3a36847f800b579\", \"de...  \n",
       "2  [{\"credit_id\": \"54805967c3a36829b5002c41\", \"de...  \n",
       "3  [{\"credit_id\": \"52fe4781c3a36847f81398c3\", \"de...  \n",
       "4  [{\"credit_id\": \"52fe479ac3a36847f813eaa3\", \"de...  "
      ]
     },
     "execution_count": 5,
     "metadata": {},
     "output_type": "execute_result"
    }
   ],
   "source": [
    "credits_df = pd.read_csv(\"./data/tmdb_5000_credits.csv\", sep=\",\", quotechar='\"')\n",
    "credits_df.head()"
   ]
  },
  {
   "cell_type": "code",
   "execution_count": 6,
   "metadata": {},
   "outputs": [
    {
     "data": {
      "text/html": [
       "<div>\n",
       "<style scoped>\n",
       "    .dataframe tbody tr th:only-of-type {\n",
       "        vertical-align: middle;\n",
       "    }\n",
       "\n",
       "    .dataframe tbody tr th {\n",
       "        vertical-align: top;\n",
       "    }\n",
       "\n",
       "    .dataframe thead th {\n",
       "        text-align: right;\n",
       "    }\n",
       "</style>\n",
       "<table border=\"1\" class=\"dataframe\">\n",
       "  <thead>\n",
       "    <tr style=\"text-align: right;\">\n",
       "      <th></th>\n",
       "      <th>budget</th>\n",
       "      <th>genres</th>\n",
       "      <th>homepage</th>\n",
       "      <th>movie_id</th>\n",
       "      <th>keywords</th>\n",
       "      <th>original_language</th>\n",
       "      <th>original_title</th>\n",
       "      <th>overview</th>\n",
       "      <th>popularity</th>\n",
       "      <th>production_companies</th>\n",
       "      <th>production_countries</th>\n",
       "      <th>release_date</th>\n",
       "      <th>revenue</th>\n",
       "      <th>runtime</th>\n",
       "      <th>spoken_languages</th>\n",
       "      <th>status</th>\n",
       "      <th>tagline</th>\n",
       "      <th>title</th>\n",
       "      <th>vote_average</th>\n",
       "      <th>vote_count</th>\n",
       "    </tr>\n",
       "  </thead>\n",
       "  <tbody>\n",
       "    <tr>\n",
       "      <td>0</td>\n",
       "      <td>237000000</td>\n",
       "      <td>[{\"id\": 28, \"name\": \"Action\"}, {\"id\": 12, \"nam...</td>\n",
       "      <td>http://www.avatarmovie.com/</td>\n",
       "      <td>19995</td>\n",
       "      <td>[{\"id\": 1463, \"name\": \"culture clash\"}, {\"id\":...</td>\n",
       "      <td>en</td>\n",
       "      <td>Avatar</td>\n",
       "      <td>In the 22nd century, a paraplegic Marine is di...</td>\n",
       "      <td>150.437577</td>\n",
       "      <td>[{\"name\": \"Ingenious Film Partners\", \"id\": 289...</td>\n",
       "      <td>[{\"iso_3166_1\": \"US\", \"name\": \"United States o...</td>\n",
       "      <td>2009-12-10</td>\n",
       "      <td>2787965087</td>\n",
       "      <td>162.0</td>\n",
       "      <td>[{\"iso_639_1\": \"en\", \"name\": \"English\"}, {\"iso...</td>\n",
       "      <td>Released</td>\n",
       "      <td>Enter the World of Pandora.</td>\n",
       "      <td>Avatar</td>\n",
       "      <td>7.2</td>\n",
       "      <td>11800</td>\n",
       "    </tr>\n",
       "    <tr>\n",
       "      <td>1</td>\n",
       "      <td>300000000</td>\n",
       "      <td>[{\"id\": 12, \"name\": \"Adventure\"}, {\"id\": 14, \"...</td>\n",
       "      <td>http://disney.go.com/disneypictures/pirates/</td>\n",
       "      <td>285</td>\n",
       "      <td>[{\"id\": 270, \"name\": \"ocean\"}, {\"id\": 726, \"na...</td>\n",
       "      <td>en</td>\n",
       "      <td>Pirates of the Caribbean: At World's End</td>\n",
       "      <td>Captain Barbossa, long believed to be dead, ha...</td>\n",
       "      <td>139.082615</td>\n",
       "      <td>[{\"name\": \"Walt Disney Pictures\", \"id\": 2}, {\"...</td>\n",
       "      <td>[{\"iso_3166_1\": \"US\", \"name\": \"United States o...</td>\n",
       "      <td>2007-05-19</td>\n",
       "      <td>961000000</td>\n",
       "      <td>169.0</td>\n",
       "      <td>[{\"iso_639_1\": \"en\", \"name\": \"English\"}]</td>\n",
       "      <td>Released</td>\n",
       "      <td>At the end of the world, the adventure begins.</td>\n",
       "      <td>Pirates of the Caribbean: At World's End</td>\n",
       "      <td>6.9</td>\n",
       "      <td>4500</td>\n",
       "    </tr>\n",
       "    <tr>\n",
       "      <td>2</td>\n",
       "      <td>245000000</td>\n",
       "      <td>[{\"id\": 28, \"name\": \"Action\"}, {\"id\": 12, \"nam...</td>\n",
       "      <td>http://www.sonypictures.com/movies/spectre/</td>\n",
       "      <td>206647</td>\n",
       "      <td>[{\"id\": 470, \"name\": \"spy\"}, {\"id\": 818, \"name...</td>\n",
       "      <td>en</td>\n",
       "      <td>Spectre</td>\n",
       "      <td>A cryptic message from Bond’s past sends him o...</td>\n",
       "      <td>107.376788</td>\n",
       "      <td>[{\"name\": \"Columbia Pictures\", \"id\": 5}, {\"nam...</td>\n",
       "      <td>[{\"iso_3166_1\": \"GB\", \"name\": \"United Kingdom\"...</td>\n",
       "      <td>2015-10-26</td>\n",
       "      <td>880674609</td>\n",
       "      <td>148.0</td>\n",
       "      <td>[{\"iso_639_1\": \"fr\", \"name\": \"Fran\\u00e7ais\"},...</td>\n",
       "      <td>Released</td>\n",
       "      <td>A Plan No One Escapes</td>\n",
       "      <td>Spectre</td>\n",
       "      <td>6.3</td>\n",
       "      <td>4466</td>\n",
       "    </tr>\n",
       "    <tr>\n",
       "      <td>3</td>\n",
       "      <td>250000000</td>\n",
       "      <td>[{\"id\": 28, \"name\": \"Action\"}, {\"id\": 80, \"nam...</td>\n",
       "      <td>http://www.thedarkknightrises.com/</td>\n",
       "      <td>49026</td>\n",
       "      <td>[{\"id\": 849, \"name\": \"dc comics\"}, {\"id\": 853,...</td>\n",
       "      <td>en</td>\n",
       "      <td>The Dark Knight Rises</td>\n",
       "      <td>Following the death of District Attorney Harve...</td>\n",
       "      <td>112.312950</td>\n",
       "      <td>[{\"name\": \"Legendary Pictures\", \"id\": 923}, {\"...</td>\n",
       "      <td>[{\"iso_3166_1\": \"US\", \"name\": \"United States o...</td>\n",
       "      <td>2012-07-16</td>\n",
       "      <td>1084939099</td>\n",
       "      <td>165.0</td>\n",
       "      <td>[{\"iso_639_1\": \"en\", \"name\": \"English\"}]</td>\n",
       "      <td>Released</td>\n",
       "      <td>The Legend Ends</td>\n",
       "      <td>The Dark Knight Rises</td>\n",
       "      <td>7.6</td>\n",
       "      <td>9106</td>\n",
       "    </tr>\n",
       "    <tr>\n",
       "      <td>4</td>\n",
       "      <td>260000000</td>\n",
       "      <td>[{\"id\": 28, \"name\": \"Action\"}, {\"id\": 12, \"nam...</td>\n",
       "      <td>http://movies.disney.com/john-carter</td>\n",
       "      <td>49529</td>\n",
       "      <td>[{\"id\": 818, \"name\": \"based on novel\"}, {\"id\":...</td>\n",
       "      <td>en</td>\n",
       "      <td>John Carter</td>\n",
       "      <td>John Carter is a war-weary, former military ca...</td>\n",
       "      <td>43.926995</td>\n",
       "      <td>[{\"name\": \"Walt Disney Pictures\", \"id\": 2}]</td>\n",
       "      <td>[{\"iso_3166_1\": \"US\", \"name\": \"United States o...</td>\n",
       "      <td>2012-03-07</td>\n",
       "      <td>284139100</td>\n",
       "      <td>132.0</td>\n",
       "      <td>[{\"iso_639_1\": \"en\", \"name\": \"English\"}]</td>\n",
       "      <td>Released</td>\n",
       "      <td>Lost in our world, found in another.</td>\n",
       "      <td>John Carter</td>\n",
       "      <td>6.1</td>\n",
       "      <td>2124</td>\n",
       "    </tr>\n",
       "  </tbody>\n",
       "</table>\n",
       "</div>"
      ],
      "text/plain": [
       "      budget                                             genres  \\\n",
       "0  237000000  [{\"id\": 28, \"name\": \"Action\"}, {\"id\": 12, \"nam...   \n",
       "1  300000000  [{\"id\": 12, \"name\": \"Adventure\"}, {\"id\": 14, \"...   \n",
       "2  245000000  [{\"id\": 28, \"name\": \"Action\"}, {\"id\": 12, \"nam...   \n",
       "3  250000000  [{\"id\": 28, \"name\": \"Action\"}, {\"id\": 80, \"nam...   \n",
       "4  260000000  [{\"id\": 28, \"name\": \"Action\"}, {\"id\": 12, \"nam...   \n",
       "\n",
       "                                       homepage  movie_id  \\\n",
       "0                   http://www.avatarmovie.com/     19995   \n",
       "1  http://disney.go.com/disneypictures/pirates/       285   \n",
       "2   http://www.sonypictures.com/movies/spectre/    206647   \n",
       "3            http://www.thedarkknightrises.com/     49026   \n",
       "4          http://movies.disney.com/john-carter     49529   \n",
       "\n",
       "                                            keywords original_language  \\\n",
       "0  [{\"id\": 1463, \"name\": \"culture clash\"}, {\"id\":...                en   \n",
       "1  [{\"id\": 270, \"name\": \"ocean\"}, {\"id\": 726, \"na...                en   \n",
       "2  [{\"id\": 470, \"name\": \"spy\"}, {\"id\": 818, \"name...                en   \n",
       "3  [{\"id\": 849, \"name\": \"dc comics\"}, {\"id\": 853,...                en   \n",
       "4  [{\"id\": 818, \"name\": \"based on novel\"}, {\"id\":...                en   \n",
       "\n",
       "                             original_title  \\\n",
       "0                                    Avatar   \n",
       "1  Pirates of the Caribbean: At World's End   \n",
       "2                                   Spectre   \n",
       "3                     The Dark Knight Rises   \n",
       "4                               John Carter   \n",
       "\n",
       "                                            overview  popularity  \\\n",
       "0  In the 22nd century, a paraplegic Marine is di...  150.437577   \n",
       "1  Captain Barbossa, long believed to be dead, ha...  139.082615   \n",
       "2  A cryptic message from Bond’s past sends him o...  107.376788   \n",
       "3  Following the death of District Attorney Harve...  112.312950   \n",
       "4  John Carter is a war-weary, former military ca...   43.926995   \n",
       "\n",
       "                                production_companies  \\\n",
       "0  [{\"name\": \"Ingenious Film Partners\", \"id\": 289...   \n",
       "1  [{\"name\": \"Walt Disney Pictures\", \"id\": 2}, {\"...   \n",
       "2  [{\"name\": \"Columbia Pictures\", \"id\": 5}, {\"nam...   \n",
       "3  [{\"name\": \"Legendary Pictures\", \"id\": 923}, {\"...   \n",
       "4        [{\"name\": \"Walt Disney Pictures\", \"id\": 2}]   \n",
       "\n",
       "                                production_countries release_date     revenue  \\\n",
       "0  [{\"iso_3166_1\": \"US\", \"name\": \"United States o...   2009-12-10  2787965087   \n",
       "1  [{\"iso_3166_1\": \"US\", \"name\": \"United States o...   2007-05-19   961000000   \n",
       "2  [{\"iso_3166_1\": \"GB\", \"name\": \"United Kingdom\"...   2015-10-26   880674609   \n",
       "3  [{\"iso_3166_1\": \"US\", \"name\": \"United States o...   2012-07-16  1084939099   \n",
       "4  [{\"iso_3166_1\": \"US\", \"name\": \"United States o...   2012-03-07   284139100   \n",
       "\n",
       "   runtime                                   spoken_languages    status  \\\n",
       "0    162.0  [{\"iso_639_1\": \"en\", \"name\": \"English\"}, {\"iso...  Released   \n",
       "1    169.0           [{\"iso_639_1\": \"en\", \"name\": \"English\"}]  Released   \n",
       "2    148.0  [{\"iso_639_1\": \"fr\", \"name\": \"Fran\\u00e7ais\"},...  Released   \n",
       "3    165.0           [{\"iso_639_1\": \"en\", \"name\": \"English\"}]  Released   \n",
       "4    132.0           [{\"iso_639_1\": \"en\", \"name\": \"English\"}]  Released   \n",
       "\n",
       "                                          tagline  \\\n",
       "0                     Enter the World of Pandora.   \n",
       "1  At the end of the world, the adventure begins.   \n",
       "2                           A Plan No One Escapes   \n",
       "3                                 The Legend Ends   \n",
       "4            Lost in our world, found in another.   \n",
       "\n",
       "                                      title  vote_average  vote_count  \n",
       "0                                    Avatar           7.2       11800  \n",
       "1  Pirates of the Caribbean: At World's End           6.9        4500  \n",
       "2                                   Spectre           6.3        4466  \n",
       "3                     The Dark Knight Rises           7.6        9106  \n",
       "4                               John Carter           6.1        2124  "
      ]
     },
     "execution_count": 6,
     "metadata": {},
     "output_type": "execute_result"
    }
   ],
   "source": [
    "movies_df = pd.read_csv(\"./data/tmdb_5000_movies.csv\", sep=\",\", quotechar='\"').rename(\n",
    "    {\"id\": \"movie_id\"}, axis=1\n",
    ")\n",
    "movies_df.head()"
   ]
  },
  {
   "cell_type": "code",
   "execution_count": 7,
   "metadata": {},
   "outputs": [],
   "source": [
    "credits_df_cp = credits_df.copy()\n",
    "movies_df_cp = movies_df.copy()"
   ]
  },
  {
   "cell_type": "markdown",
   "metadata": {},
   "source": [
    "## Clean movies_df_cp"
   ]
  },
  {
   "cell_type": "code",
   "execution_count": 8,
   "metadata": {},
   "outputs": [
    {
     "data": {
      "text/plain": [
       "28"
      ]
     },
     "execution_count": 8,
     "metadata": {},
     "output_type": "execute_result"
    }
   ],
   "source": [
    "# movies with empty genre field\n",
    "len(movies_df_cp[movies_df_cp.astype(str)[\"genres\"] == \"[]\"])"
   ]
  },
  {
   "cell_type": "code",
   "execution_count": 9,
   "metadata": {},
   "outputs": [
    {
     "data": {
      "text/plain": [
       "351"
      ]
     },
     "execution_count": 9,
     "metadata": {},
     "output_type": "execute_result"
    }
   ],
   "source": [
    "# movies with empty production_companies field\n",
    "len(movies_df_cp[movies_df_cp.astype(str)[\"production_companies\"] == \"[]\"])"
   ]
  },
  {
   "cell_type": "code",
   "execution_count": 10,
   "metadata": {},
   "outputs": [
    {
     "data": {
      "text/plain": [
       "174"
      ]
     },
     "execution_count": 10,
     "metadata": {},
     "output_type": "execute_result"
    }
   ],
   "source": [
    "# movies with empty production_companies field\n",
    "len(movies_df_cp[movies_df_cp.astype(str)[\"production_countries\"] == \"[]\"])"
   ]
  },
  {
   "cell_type": "code",
   "execution_count": 11,
   "metadata": {},
   "outputs": [
    {
     "data": {
      "text/plain": [
       "86"
      ]
     },
     "execution_count": 11,
     "metadata": {},
     "output_type": "execute_result"
    }
   ],
   "source": [
    "# movies with empty production_companies field\n",
    "len(movies_df_cp[movies_df_cp.astype(str)[\"spoken_languages\"] == \"[]\"])"
   ]
  },
  {
   "cell_type": "markdown",
   "metadata": {},
   "source": [
    "## Process movies df"
   ]
  },
  {
   "cell_type": "code",
   "execution_count": 12,
   "metadata": {},
   "outputs": [
    {
     "data": {
      "text/plain": [
       "4803"
      ]
     },
     "execution_count": 12,
     "metadata": {},
     "output_type": "execute_result"
    }
   ],
   "source": [
    "pr_movies_df = movies_df_cp\n",
    "len(pr_movies_df)"
   ]
  },
  {
   "cell_type": "code",
   "execution_count": 13,
   "metadata": {},
   "outputs": [
    {
     "data": {
      "text/html": [
       "<div>\n",
       "<style scoped>\n",
       "    .dataframe tbody tr th:only-of-type {\n",
       "        vertical-align: middle;\n",
       "    }\n",
       "\n",
       "    .dataframe tbody tr th {\n",
       "        vertical-align: top;\n",
       "    }\n",
       "\n",
       "    .dataframe thead th {\n",
       "        text-align: right;\n",
       "    }\n",
       "</style>\n",
       "<table border=\"1\" class=\"dataframe\">\n",
       "  <thead>\n",
       "    <tr style=\"text-align: right;\">\n",
       "      <th></th>\n",
       "      <th>budget</th>\n",
       "      <th>genres</th>\n",
       "      <th>homepage</th>\n",
       "      <th>movie_id</th>\n",
       "      <th>keywords</th>\n",
       "      <th>original_language</th>\n",
       "      <th>original_title</th>\n",
       "      <th>overview</th>\n",
       "      <th>popularity</th>\n",
       "      <th>production_companies</th>\n",
       "      <th>production_countries</th>\n",
       "      <th>release_date</th>\n",
       "      <th>revenue</th>\n",
       "      <th>runtime</th>\n",
       "      <th>spoken_languages</th>\n",
       "      <th>status</th>\n",
       "      <th>tagline</th>\n",
       "      <th>title</th>\n",
       "      <th>vote_average</th>\n",
       "      <th>vote_count</th>\n",
       "    </tr>\n",
       "  </thead>\n",
       "  <tbody>\n",
       "    <tr>\n",
       "      <td>0</td>\n",
       "      <td>237000000</td>\n",
       "      <td>[{\"id\": 28, \"name\": \"Action\"}, {\"id\": 12, \"nam...</td>\n",
       "      <td>http://www.avatarmovie.com/</td>\n",
       "      <td>19995</td>\n",
       "      <td>[{\"id\": 1463, \"name\": \"culture clash\"}, {\"id\":...</td>\n",
       "      <td>en</td>\n",
       "      <td>Avatar</td>\n",
       "      <td>In the 22nd century, a paraplegic Marine is di...</td>\n",
       "      <td>150.437577</td>\n",
       "      <td>[{\"name\": \"Ingenious Film Partners\", \"id\": 289...</td>\n",
       "      <td>[{\"iso_3166_1\": \"US\", \"name\": \"United States o...</td>\n",
       "      <td>2009-12-10</td>\n",
       "      <td>2787965087</td>\n",
       "      <td>162.0</td>\n",
       "      <td>[{\"iso_639_1\": \"en\", \"name\": \"English\"}, {\"iso...</td>\n",
       "      <td>Released</td>\n",
       "      <td>Enter the World of Pandora.</td>\n",
       "      <td>Avatar</td>\n",
       "      <td>7.2</td>\n",
       "      <td>11800</td>\n",
       "    </tr>\n",
       "    <tr>\n",
       "      <td>1</td>\n",
       "      <td>300000000</td>\n",
       "      <td>[{\"id\": 12, \"name\": \"Adventure\"}, {\"id\": 14, \"...</td>\n",
       "      <td>http://disney.go.com/disneypictures/pirates/</td>\n",
       "      <td>285</td>\n",
       "      <td>[{\"id\": 270, \"name\": \"ocean\"}, {\"id\": 726, \"na...</td>\n",
       "      <td>en</td>\n",
       "      <td>Pirates of the Caribbean: At World's End</td>\n",
       "      <td>Captain Barbossa, long believed to be dead, ha...</td>\n",
       "      <td>139.082615</td>\n",
       "      <td>[{\"name\": \"Walt Disney Pictures\", \"id\": 2}, {\"...</td>\n",
       "      <td>[{\"iso_3166_1\": \"US\", \"name\": \"United States o...</td>\n",
       "      <td>2007-05-19</td>\n",
       "      <td>961000000</td>\n",
       "      <td>169.0</td>\n",
       "      <td>[{\"iso_639_1\": \"en\", \"name\": \"English\"}]</td>\n",
       "      <td>Released</td>\n",
       "      <td>At the end of the world, the adventure begins.</td>\n",
       "      <td>Pirates of the Caribbean: At World's End</td>\n",
       "      <td>6.9</td>\n",
       "      <td>4500</td>\n",
       "    </tr>\n",
       "    <tr>\n",
       "      <td>2</td>\n",
       "      <td>245000000</td>\n",
       "      <td>[{\"id\": 28, \"name\": \"Action\"}, {\"id\": 12, \"nam...</td>\n",
       "      <td>http://www.sonypictures.com/movies/spectre/</td>\n",
       "      <td>206647</td>\n",
       "      <td>[{\"id\": 470, \"name\": \"spy\"}, {\"id\": 818, \"name...</td>\n",
       "      <td>en</td>\n",
       "      <td>Spectre</td>\n",
       "      <td>A cryptic message from Bond’s past sends him o...</td>\n",
       "      <td>107.376788</td>\n",
       "      <td>[{\"name\": \"Columbia Pictures\", \"id\": 5}, {\"nam...</td>\n",
       "      <td>[{\"iso_3166_1\": \"GB\", \"name\": \"United Kingdom\"...</td>\n",
       "      <td>2015-10-26</td>\n",
       "      <td>880674609</td>\n",
       "      <td>148.0</td>\n",
       "      <td>[{\"iso_639_1\": \"fr\", \"name\": \"Fran\\u00e7ais\"},...</td>\n",
       "      <td>Released</td>\n",
       "      <td>A Plan No One Escapes</td>\n",
       "      <td>Spectre</td>\n",
       "      <td>6.3</td>\n",
       "      <td>4466</td>\n",
       "    </tr>\n",
       "    <tr>\n",
       "      <td>3</td>\n",
       "      <td>250000000</td>\n",
       "      <td>[{\"id\": 28, \"name\": \"Action\"}, {\"id\": 80, \"nam...</td>\n",
       "      <td>http://www.thedarkknightrises.com/</td>\n",
       "      <td>49026</td>\n",
       "      <td>[{\"id\": 849, \"name\": \"dc comics\"}, {\"id\": 853,...</td>\n",
       "      <td>en</td>\n",
       "      <td>The Dark Knight Rises</td>\n",
       "      <td>Following the death of District Attorney Harve...</td>\n",
       "      <td>112.312950</td>\n",
       "      <td>[{\"name\": \"Legendary Pictures\", \"id\": 923}, {\"...</td>\n",
       "      <td>[{\"iso_3166_1\": \"US\", \"name\": \"United States o...</td>\n",
       "      <td>2012-07-16</td>\n",
       "      <td>1084939099</td>\n",
       "      <td>165.0</td>\n",
       "      <td>[{\"iso_639_1\": \"en\", \"name\": \"English\"}]</td>\n",
       "      <td>Released</td>\n",
       "      <td>The Legend Ends</td>\n",
       "      <td>The Dark Knight Rises</td>\n",
       "      <td>7.6</td>\n",
       "      <td>9106</td>\n",
       "    </tr>\n",
       "    <tr>\n",
       "      <td>4</td>\n",
       "      <td>260000000</td>\n",
       "      <td>[{\"id\": 28, \"name\": \"Action\"}, {\"id\": 12, \"nam...</td>\n",
       "      <td>http://movies.disney.com/john-carter</td>\n",
       "      <td>49529</td>\n",
       "      <td>[{\"id\": 818, \"name\": \"based on novel\"}, {\"id\":...</td>\n",
       "      <td>en</td>\n",
       "      <td>John Carter</td>\n",
       "      <td>John Carter is a war-weary, former military ca...</td>\n",
       "      <td>43.926995</td>\n",
       "      <td>[{\"name\": \"Walt Disney Pictures\", \"id\": 2}]</td>\n",
       "      <td>[{\"iso_3166_1\": \"US\", \"name\": \"United States o...</td>\n",
       "      <td>2012-03-07</td>\n",
       "      <td>284139100</td>\n",
       "      <td>132.0</td>\n",
       "      <td>[{\"iso_639_1\": \"en\", \"name\": \"English\"}]</td>\n",
       "      <td>Released</td>\n",
       "      <td>Lost in our world, found in another.</td>\n",
       "      <td>John Carter</td>\n",
       "      <td>6.1</td>\n",
       "      <td>2124</td>\n",
       "    </tr>\n",
       "  </tbody>\n",
       "</table>\n",
       "</div>"
      ],
      "text/plain": [
       "      budget                                             genres  \\\n",
       "0  237000000  [{\"id\": 28, \"name\": \"Action\"}, {\"id\": 12, \"nam...   \n",
       "1  300000000  [{\"id\": 12, \"name\": \"Adventure\"}, {\"id\": 14, \"...   \n",
       "2  245000000  [{\"id\": 28, \"name\": \"Action\"}, {\"id\": 12, \"nam...   \n",
       "3  250000000  [{\"id\": 28, \"name\": \"Action\"}, {\"id\": 80, \"nam...   \n",
       "4  260000000  [{\"id\": 28, \"name\": \"Action\"}, {\"id\": 12, \"nam...   \n",
       "\n",
       "                                       homepage  movie_id  \\\n",
       "0                   http://www.avatarmovie.com/     19995   \n",
       "1  http://disney.go.com/disneypictures/pirates/       285   \n",
       "2   http://www.sonypictures.com/movies/spectre/    206647   \n",
       "3            http://www.thedarkknightrises.com/     49026   \n",
       "4          http://movies.disney.com/john-carter     49529   \n",
       "\n",
       "                                            keywords original_language  \\\n",
       "0  [{\"id\": 1463, \"name\": \"culture clash\"}, {\"id\":...                en   \n",
       "1  [{\"id\": 270, \"name\": \"ocean\"}, {\"id\": 726, \"na...                en   \n",
       "2  [{\"id\": 470, \"name\": \"spy\"}, {\"id\": 818, \"name...                en   \n",
       "3  [{\"id\": 849, \"name\": \"dc comics\"}, {\"id\": 853,...                en   \n",
       "4  [{\"id\": 818, \"name\": \"based on novel\"}, {\"id\":...                en   \n",
       "\n",
       "                             original_title  \\\n",
       "0                                    Avatar   \n",
       "1  Pirates of the Caribbean: At World's End   \n",
       "2                                   Spectre   \n",
       "3                     The Dark Knight Rises   \n",
       "4                               John Carter   \n",
       "\n",
       "                                            overview  popularity  \\\n",
       "0  In the 22nd century, a paraplegic Marine is di...  150.437577   \n",
       "1  Captain Barbossa, long believed to be dead, ha...  139.082615   \n",
       "2  A cryptic message from Bond’s past sends him o...  107.376788   \n",
       "3  Following the death of District Attorney Harve...  112.312950   \n",
       "4  John Carter is a war-weary, former military ca...   43.926995   \n",
       "\n",
       "                                production_companies  \\\n",
       "0  [{\"name\": \"Ingenious Film Partners\", \"id\": 289...   \n",
       "1  [{\"name\": \"Walt Disney Pictures\", \"id\": 2}, {\"...   \n",
       "2  [{\"name\": \"Columbia Pictures\", \"id\": 5}, {\"nam...   \n",
       "3  [{\"name\": \"Legendary Pictures\", \"id\": 923}, {\"...   \n",
       "4        [{\"name\": \"Walt Disney Pictures\", \"id\": 2}]   \n",
       "\n",
       "                                production_countries release_date     revenue  \\\n",
       "0  [{\"iso_3166_1\": \"US\", \"name\": \"United States o...   2009-12-10  2787965087   \n",
       "1  [{\"iso_3166_1\": \"US\", \"name\": \"United States o...   2007-05-19   961000000   \n",
       "2  [{\"iso_3166_1\": \"GB\", \"name\": \"United Kingdom\"...   2015-10-26   880674609   \n",
       "3  [{\"iso_3166_1\": \"US\", \"name\": \"United States o...   2012-07-16  1084939099   \n",
       "4  [{\"iso_3166_1\": \"US\", \"name\": \"United States o...   2012-03-07   284139100   \n",
       "\n",
       "   runtime                                   spoken_languages    status  \\\n",
       "0    162.0  [{\"iso_639_1\": \"en\", \"name\": \"English\"}, {\"iso...  Released   \n",
       "1    169.0           [{\"iso_639_1\": \"en\", \"name\": \"English\"}]  Released   \n",
       "2    148.0  [{\"iso_639_1\": \"fr\", \"name\": \"Fran\\u00e7ais\"},...  Released   \n",
       "3    165.0           [{\"iso_639_1\": \"en\", \"name\": \"English\"}]  Released   \n",
       "4    132.0           [{\"iso_639_1\": \"en\", \"name\": \"English\"}]  Released   \n",
       "\n",
       "                                          tagline  \\\n",
       "0                     Enter the World of Pandora.   \n",
       "1  At the end of the world, the adventure begins.   \n",
       "2                           A Plan No One Escapes   \n",
       "3                                 The Legend Ends   \n",
       "4            Lost in our world, found in another.   \n",
       "\n",
       "                                      title  vote_average  vote_count  \n",
       "0                                    Avatar           7.2       11800  \n",
       "1  Pirates of the Caribbean: At World's End           6.9        4500  \n",
       "2                                   Spectre           6.3        4466  \n",
       "3                     The Dark Knight Rises           7.6        9106  \n",
       "4                               John Carter           6.1        2124  "
      ]
     },
     "execution_count": 13,
     "metadata": {},
     "output_type": "execute_result"
    }
   ],
   "source": [
    "pr_movies_df.head()"
   ]
  },
  {
   "cell_type": "code",
   "execution_count": 14,
   "metadata": {},
   "outputs": [
    {
     "data": {
      "text/html": [
       "<div>\n",
       "<style scoped>\n",
       "    .dataframe tbody tr th:only-of-type {\n",
       "        vertical-align: middle;\n",
       "    }\n",
       "\n",
       "    .dataframe tbody tr th {\n",
       "        vertical-align: top;\n",
       "    }\n",
       "\n",
       "    .dataframe thead th {\n",
       "        text-align: right;\n",
       "    }\n",
       "</style>\n",
       "<table border=\"1\" class=\"dataframe\">\n",
       "  <thead>\n",
       "    <tr style=\"text-align: right;\">\n",
       "      <th></th>\n",
       "      <th>budget</th>\n",
       "      <th>genres</th>\n",
       "      <th>movie_id</th>\n",
       "      <th>keywords</th>\n",
       "      <th>original_language</th>\n",
       "      <th>popularity</th>\n",
       "      <th>production_companies</th>\n",
       "      <th>production_countries</th>\n",
       "      <th>release_date</th>\n",
       "      <th>revenue</th>\n",
       "      <th>runtime</th>\n",
       "      <th>spoken_languages</th>\n",
       "      <th>status</th>\n",
       "      <th>title</th>\n",
       "      <th>vote_average</th>\n",
       "      <th>vote_count</th>\n",
       "    </tr>\n",
       "  </thead>\n",
       "  <tbody>\n",
       "    <tr>\n",
       "      <td>0</td>\n",
       "      <td>237000000</td>\n",
       "      <td>{Adventure, Fantasy, Science Fiction, Action}</td>\n",
       "      <td>19995</td>\n",
       "      <td>{futuristic, alien planet, 3d, mind and soul, ...</td>\n",
       "      <td>en</td>\n",
       "      <td>150.437577</td>\n",
       "      <td>{Lightstorm Entertainment, Ingenious Film Part...</td>\n",
       "      <td>{United States of America, United Kingdom}</td>\n",
       "      <td>2009-12-10</td>\n",
       "      <td>2787965087</td>\n",
       "      <td>162.0</td>\n",
       "      <td>{Español, English}</td>\n",
       "      <td>Released</td>\n",
       "      <td>Avatar</td>\n",
       "      <td>7.2</td>\n",
       "      <td>11800</td>\n",
       "    </tr>\n",
       "    <tr>\n",
       "      <td>1</td>\n",
       "      <td>300000000</td>\n",
       "      <td>{Adventure, Fantasy, Action}</td>\n",
       "      <td>285</td>\n",
       "      <td>{afterlife, exotic island, east india trading ...</td>\n",
       "      <td>en</td>\n",
       "      <td>139.082615</td>\n",
       "      <td>{Jerry Bruckheimer Films, Second Mate Producti...</td>\n",
       "      <td>{United States of America}</td>\n",
       "      <td>2007-05-19</td>\n",
       "      <td>961000000</td>\n",
       "      <td>169.0</td>\n",
       "      <td>{English}</td>\n",
       "      <td>Released</td>\n",
       "      <td>Pirates of the Caribbean: At World's End</td>\n",
       "      <td>6.9</td>\n",
       "      <td>4500</td>\n",
       "    </tr>\n",
       "    <tr>\n",
       "      <td>2</td>\n",
       "      <td>245000000</td>\n",
       "      <td>{Adventure, Crime, Action}</td>\n",
       "      <td>206647</td>\n",
       "      <td>{sequel, spy, mi6, united kingdom, based on no...</td>\n",
       "      <td>en</td>\n",
       "      <td>107.376788</td>\n",
       "      <td>{Columbia Pictures, Danjaq, B24}</td>\n",
       "      <td>{United States of America, United Kingdom}</td>\n",
       "      <td>2015-10-26</td>\n",
       "      <td>880674609</td>\n",
       "      <td>148.0</td>\n",
       "      <td>{Italiano, Español, Français, English, Deutsch}</td>\n",
       "      <td>Released</td>\n",
       "      <td>Spectre</td>\n",
       "      <td>6.3</td>\n",
       "      <td>4466</td>\n",
       "    </tr>\n",
       "    <tr>\n",
       "      <td>3</td>\n",
       "      <td>250000000</td>\n",
       "      <td>{Thriller, Drama, Crime, Action}</td>\n",
       "      <td>49026</td>\n",
       "      <td>{cat burglar, flood, crime fighter, superhero,...</td>\n",
       "      <td>en</td>\n",
       "      <td>112.312950</td>\n",
       "      <td>{DC Entertainment, Legendary Pictures, Warner ...</td>\n",
       "      <td>{United States of America}</td>\n",
       "      <td>2012-07-16</td>\n",
       "      <td>1084939099</td>\n",
       "      <td>165.0</td>\n",
       "      <td>{English}</td>\n",
       "      <td>Released</td>\n",
       "      <td>The Dark Knight Rises</td>\n",
       "      <td>7.6</td>\n",
       "      <td>9106</td>\n",
       "    </tr>\n",
       "    <tr>\n",
       "      <td>4</td>\n",
       "      <td>260000000</td>\n",
       "      <td>{Adventure, Science Fiction, Action}</td>\n",
       "      <td>49529</td>\n",
       "      <td>{mars civilization, alien, martian, medallion,...</td>\n",
       "      <td>en</td>\n",
       "      <td>43.926995</td>\n",
       "      <td>{Walt Disney Pictures}</td>\n",
       "      <td>{United States of America}</td>\n",
       "      <td>2012-03-07</td>\n",
       "      <td>284139100</td>\n",
       "      <td>132.0</td>\n",
       "      <td>{English}</td>\n",
       "      <td>Released</td>\n",
       "      <td>John Carter</td>\n",
       "      <td>6.1</td>\n",
       "      <td>2124</td>\n",
       "    </tr>\n",
       "  </tbody>\n",
       "</table>\n",
       "</div>"
      ],
      "text/plain": [
       "      budget                                         genres  movie_id  \\\n",
       "0  237000000  {Adventure, Fantasy, Science Fiction, Action}     19995   \n",
       "1  300000000                   {Adventure, Fantasy, Action}       285   \n",
       "2  245000000                     {Adventure, Crime, Action}    206647   \n",
       "3  250000000               {Thriller, Drama, Crime, Action}     49026   \n",
       "4  260000000           {Adventure, Science Fiction, Action}     49529   \n",
       "\n",
       "                                            keywords original_language  \\\n",
       "0  {futuristic, alien planet, 3d, mind and soul, ...                en   \n",
       "1  {afterlife, exotic island, east india trading ...                en   \n",
       "2  {sequel, spy, mi6, united kingdom, based on no...                en   \n",
       "3  {cat burglar, flood, crime fighter, superhero,...                en   \n",
       "4  {mars civilization, alien, martian, medallion,...                en   \n",
       "\n",
       "   popularity                               production_companies  \\\n",
       "0  150.437577  {Lightstorm Entertainment, Ingenious Film Part...   \n",
       "1  139.082615  {Jerry Bruckheimer Films, Second Mate Producti...   \n",
       "2  107.376788                   {Columbia Pictures, Danjaq, B24}   \n",
       "3  112.312950  {DC Entertainment, Legendary Pictures, Warner ...   \n",
       "4   43.926995                             {Walt Disney Pictures}   \n",
       "\n",
       "                         production_countries release_date     revenue  \\\n",
       "0  {United States of America, United Kingdom}   2009-12-10  2787965087   \n",
       "1                  {United States of America}   2007-05-19   961000000   \n",
       "2  {United States of America, United Kingdom}   2015-10-26   880674609   \n",
       "3                  {United States of America}   2012-07-16  1084939099   \n",
       "4                  {United States of America}   2012-03-07   284139100   \n",
       "\n",
       "   runtime                                 spoken_languages    status  \\\n",
       "0    162.0                               {Español, English}  Released   \n",
       "1    169.0                                        {English}  Released   \n",
       "2    148.0  {Italiano, Español, Français, English, Deutsch}  Released   \n",
       "3    165.0                                        {English}  Released   \n",
       "4    132.0                                        {English}  Released   \n",
       "\n",
       "                                      title  vote_average  vote_count  \n",
       "0                                    Avatar           7.2       11800  \n",
       "1  Pirates of the Caribbean: At World's End           6.9        4500  \n",
       "2                                   Spectre           6.3        4466  \n",
       "3                     The Dark Knight Rises           7.6        9106  \n",
       "4                               John Carter           6.1        2124  "
      ]
     },
     "execution_count": 14,
     "metadata": {},
     "output_type": "execute_result"
    }
   ],
   "source": [
    "# Transform json to list of dictionaries within cols\n",
    "movies_df_json_cols = [\n",
    "    \"genres\",\n",
    "    \"production_companies\",\n",
    "    \"keywords\",\n",
    "    \"production_countries\",\n",
    "    \"spoken_languages\",\n",
    "]\n",
    "cols_to_drop = [\"homepage\", \"overview\", \"tagline\", \"original_title\"]\n",
    "key = \"name\"\n",
    "movie_id_col = \"movie_id\"\n",
    "\n",
    "pr_movies_df = col_json_to_dict(pr_movies_df, movies_df_json_cols)\n",
    "for col in movies_df_json_cols:\n",
    "    pr_movies_df = col_dict_to_set(pr_movies_df, col, key)\n",
    "pr_movies_df = pr_movies_df.drop(columns=cols_to_drop)\n",
    "pr_movies_df.head()"
   ]
  },
  {
   "cell_type": "markdown",
   "metadata": {},
   "source": [
    "## Process credits df"
   ]
  },
  {
   "cell_type": "code",
   "execution_count": 15,
   "metadata": {},
   "outputs": [
    {
     "data": {
      "text/html": [
       "<div>\n",
       "<style scoped>\n",
       "    .dataframe tbody tr th:only-of-type {\n",
       "        vertical-align: middle;\n",
       "    }\n",
       "\n",
       "    .dataframe tbody tr th {\n",
       "        vertical-align: top;\n",
       "    }\n",
       "\n",
       "    .dataframe thead th {\n",
       "        text-align: right;\n",
       "    }\n",
       "</style>\n",
       "<table border=\"1\" class=\"dataframe\">\n",
       "  <thead>\n",
       "    <tr style=\"text-align: right;\">\n",
       "      <th></th>\n",
       "      <th>movie_id</th>\n",
       "      <th>cast</th>\n",
       "      <th>crew</th>\n",
       "      <th>actors</th>\n",
       "    </tr>\n",
       "  </thead>\n",
       "  <tbody>\n",
       "    <tr>\n",
       "      <td>0</td>\n",
       "      <td>19995</td>\n",
       "      <td>{April Marie Thomas, Colin Bleasdale, Dileep R...</td>\n",
       "      <td>{James Cameron}</td>\n",
       "      <td>Sam Worthington</td>\n",
       "    </tr>\n",
       "    <tr>\n",
       "      <td>1</td>\n",
       "      <td>285</td>\n",
       "      <td>{Jonathan Pryce, Takayo Fischer, Naomie Harris...</td>\n",
       "      <td>{Gore Verbinski}</td>\n",
       "      <td>Johnny Depp</td>\n",
       "    </tr>\n",
       "    <tr>\n",
       "      <td>2</td>\n",
       "      <td>206647</td>\n",
       "      <td>{Adel Bencherif, Noemi Krausz, Stephane Cornic...</td>\n",
       "      <td>{Sam Mendes}</td>\n",
       "      <td>Daniel Craig</td>\n",
       "    </tr>\n",
       "    <tr>\n",
       "      <td>3</td>\n",
       "      <td>49026</td>\n",
       "      <td>{Bill Cowher, Diogo Hausen, Claire Julien, Chr...</td>\n",
       "      <td>{Christopher Nolan}</td>\n",
       "      <td>Christian Bale</td>\n",
       "    </tr>\n",
       "    <tr>\n",
       "      <td>4</td>\n",
       "      <td>49529</td>\n",
       "      <td>{Bryan Cranston, Daryl Sabara, Willem Dafoe, L...</td>\n",
       "      <td>{Andrew Stanton}</td>\n",
       "      <td>Taylor Kitsch</td>\n",
       "    </tr>\n",
       "  </tbody>\n",
       "</table>\n",
       "</div>"
      ],
      "text/plain": [
       "   movie_id                                               cast  \\\n",
       "0     19995  {April Marie Thomas, Colin Bleasdale, Dileep R...   \n",
       "1       285  {Jonathan Pryce, Takayo Fischer, Naomie Harris...   \n",
       "2    206647  {Adel Bencherif, Noemi Krausz, Stephane Cornic...   \n",
       "3     49026  {Bill Cowher, Diogo Hausen, Claire Julien, Chr...   \n",
       "4     49529  {Bryan Cranston, Daryl Sabara, Willem Dafoe, L...   \n",
       "\n",
       "                  crew           actors  \n",
       "0      {James Cameron}  Sam Worthington  \n",
       "1     {Gore Verbinski}      Johnny Depp  \n",
       "2         {Sam Mendes}     Daniel Craig  \n",
       "3  {Christopher Nolan}   Christian Bale  \n",
       "4     {Andrew Stanton}    Taylor Kitsch  "
      ]
     },
     "execution_count": 15,
     "metadata": {},
     "output_type": "execute_result"
    }
   ],
   "source": [
    "pr_credits_df = credits_df_cp\n",
    "credits_df_json_cols = [\"cast\", \"crew\"]\n",
    "key = \"name\"\n",
    "pr_credits_df = col_json_to_dict(pr_credits_df, credits_df_json_cols)\n",
    "pr_credits_df = pr_credits_df.assign(actors=pr_credits_df[credits_df_json_cols[0]])\n",
    "for col in credits_df_json_cols:\n",
    "    if col != \"crew\":\n",
    "        pr_credits_df = col_dict_to_set(pr_credits_df, col, key)\n",
    "crew_col = \"crew\"\n",
    "job_field = \"job\"\n",
    "values = [\"Director\"]\n",
    "# Filter dictionaries with Director as job\n",
    "pr_credits_df = col_filter_dict_with_vals(\n",
    "    pr_credits_df, crew_col, job_field, values\n",
    ").rename({crew_col: values[0]})\n",
    "pr_credits_df = col_dict_to_set(pr_credits_df, crew_col, key)\n",
    "# Get actors col\n",
    "# Only select main actors to reduce the size of the dataset\n",
    "actors_col = \"actors\"\n",
    "order_field = \"order\"\n",
    "# Select the number of important actors\n",
    "values = [0]\n",
    "pr_credits_df = col_filter_dict_with_vals(\n",
    "    pr_credits_df, actors_col, order_field, values\n",
    ").rename({crew_col: values[0]})\n",
    "\n",
    "get_value = lambda dict_: dict_.get(key)\n",
    "\n",
    "pr_credits_df = pr_credits_df.explode(actors_col)\n",
    "pr_credits_df = pr_credits_df[pr_credits_df[actors_col].notna()]\n",
    "actors_series = pr_credits_df[actors_col]\n",
    "pr_credits_df = pr_credits_df.assign(\n",
    "    **{actors_col: pr_credits_df[actors_col].apply(get_value)}\n",
    ")\n",
    "# Remove actor from cast\n",
    "actor_cast_col = \"actor_cast\"\n",
    "pr_credits_df = pr_credits_df.reset_index(drop=True)\n",
    "remove_from_cast = lambda row: row[credits_df_json_cols[0]] - set({row[actors_col]})\n",
    "pr_credits_df = pr_credits_df.assign(\n",
    "    **{credits_df_json_cols[0]: pr_credits_df.apply(remove_from_cast, axis=1)}\n",
    ").drop(columns=\"title\")\n",
    "pr_credits_df.head()"
   ]
  },
  {
   "cell_type": "code",
   "execution_count": 16,
   "metadata": {},
   "outputs": [
    {
     "data": {
      "text/html": [
       "<div>\n",
       "<style scoped>\n",
       "    .dataframe tbody tr th:only-of-type {\n",
       "        vertical-align: middle;\n",
       "    }\n",
       "\n",
       "    .dataframe tbody tr th {\n",
       "        vertical-align: top;\n",
       "    }\n",
       "\n",
       "    .dataframe thead th {\n",
       "        text-align: right;\n",
       "    }\n",
       "</style>\n",
       "<table border=\"1\" class=\"dataframe\">\n",
       "  <thead>\n",
       "    <tr style=\"text-align: right;\">\n",
       "      <th></th>\n",
       "      <th>actor_id</th>\n",
       "      <th>actors</th>\n",
       "      <th>gender</th>\n",
       "      <th>order</th>\n",
       "    </tr>\n",
       "  </thead>\n",
       "  <tbody>\n",
       "    <tr>\n",
       "      <td>0</td>\n",
       "      <td>0</td>\n",
       "      <td>\"Weird Al\" Yankovic</td>\n",
       "      <td>0</td>\n",
       "      <td>[0]</td>\n",
       "    </tr>\n",
       "    <tr>\n",
       "      <td>1</td>\n",
       "      <td>1</td>\n",
       "      <td>50 Cent</td>\n",
       "      <td>2</td>\n",
       "      <td>[0]</td>\n",
       "    </tr>\n",
       "    <tr>\n",
       "      <td>2</td>\n",
       "      <td>2</td>\n",
       "      <td>AJ Michalka</td>\n",
       "      <td>1</td>\n",
       "      <td>[0]</td>\n",
       "    </tr>\n",
       "    <tr>\n",
       "      <td>3</td>\n",
       "      <td>3</td>\n",
       "      <td>Aamir Khan</td>\n",
       "      <td>2</td>\n",
       "      <td>[0, 0]</td>\n",
       "    </tr>\n",
       "    <tr>\n",
       "      <td>4</td>\n",
       "      <td>4</td>\n",
       "      <td>Aaron Abrams</td>\n",
       "      <td>2</td>\n",
       "      <td>[0]</td>\n",
       "    </tr>\n",
       "    <tr>\n",
       "      <td>...</td>\n",
       "      <td>...</td>\n",
       "      <td>...</td>\n",
       "      <td>...</td>\n",
       "      <td>...</td>\n",
       "    </tr>\n",
       "    <tr>\n",
       "      <td>1966</td>\n",
       "      <td>1966</td>\n",
       "      <td>Zoe Kazan</td>\n",
       "      <td>1</td>\n",
       "      <td>[0]</td>\n",
       "    </tr>\n",
       "    <tr>\n",
       "      <td>1967</td>\n",
       "      <td>1967</td>\n",
       "      <td>Zoe Lister-Jones</td>\n",
       "      <td>1</td>\n",
       "      <td>[0]</td>\n",
       "    </tr>\n",
       "    <tr>\n",
       "      <td>1968</td>\n",
       "      <td>1968</td>\n",
       "      <td>Zoe Saldana</td>\n",
       "      <td>1</td>\n",
       "      <td>[0]</td>\n",
       "    </tr>\n",
       "    <tr>\n",
       "      <td>1969</td>\n",
       "      <td>1969</td>\n",
       "      <td>Zoe Sloane</td>\n",
       "      <td>0</td>\n",
       "      <td>[0]</td>\n",
       "    </tr>\n",
       "    <tr>\n",
       "      <td>1970</td>\n",
       "      <td>1970</td>\n",
       "      <td>Zooey Deschanel</td>\n",
       "      <td>1</td>\n",
       "      <td>[0]</td>\n",
       "    </tr>\n",
       "  </tbody>\n",
       "</table>\n",
       "<p>1971 rows × 4 columns</p>\n",
       "</div>"
      ],
      "text/plain": [
       "      actor_id               actors  gender   order\n",
       "0            0  \"Weird Al\" Yankovic       0     [0]\n",
       "1            1              50 Cent       2     [0]\n",
       "2            2          AJ Michalka       1     [0]\n",
       "3            3           Aamir Khan       2  [0, 0]\n",
       "4            4         Aaron Abrams       2     [0]\n",
       "...        ...                  ...     ...     ...\n",
       "1966      1966            Zoe Kazan       1     [0]\n",
       "1967      1967     Zoe Lister-Jones       1     [0]\n",
       "1968      1968          Zoe Saldana       1     [0]\n",
       "1969      1969           Zoe Sloane       0     [0]\n",
       "1970      1970      Zooey Deschanel       1     [0]\n",
       "\n",
       "[1971 rows x 4 columns]"
      ]
     },
     "execution_count": 16,
     "metadata": {},
     "output_type": "execute_result"
    }
   ],
   "source": [
    "actor_cols = [\"name\", \"gender\", \"order\"]\n",
    "actors_df = json_normalize(actors_series)[actor_cols]\n",
    "actors_df = (\n",
    "    actors_df.rename(columns={actor_cols[0]: actors_col})\n",
    "    .groupby(actors_col)\n",
    "    .aggregate({actor_cols[1]: max, actor_cols[2]: list})\n",
    "    .reset_index()\n",
    "    .reset_index()\n",
    "    .rename(columns={\"index\": \"actor_id\"})\n",
    ")\n",
    "actors_df"
   ]
  },
  {
   "cell_type": "code",
   "execution_count": 17,
   "metadata": {},
   "outputs": [
    {
     "data": {
      "text/html": [
       "<div>\n",
       "<style scoped>\n",
       "    .dataframe tbody tr th:only-of-type {\n",
       "        vertical-align: middle;\n",
       "    }\n",
       "\n",
       "    .dataframe tbody tr th {\n",
       "        vertical-align: top;\n",
       "    }\n",
       "\n",
       "    .dataframe thead th {\n",
       "        text-align: right;\n",
       "    }\n",
       "</style>\n",
       "<table border=\"1\" class=\"dataframe\">\n",
       "  <thead>\n",
       "    <tr style=\"text-align: right;\">\n",
       "      <th></th>\n",
       "      <th>movie_id</th>\n",
       "      <th>cast</th>\n",
       "      <th>crew</th>\n",
       "      <th>actors</th>\n",
       "      <th>actor_id</th>\n",
       "      <th>gender</th>\n",
       "      <th>order</th>\n",
       "    </tr>\n",
       "  </thead>\n",
       "  <tbody>\n",
       "    <tr>\n",
       "      <td>0</td>\n",
       "      <td>19995</td>\n",
       "      <td>{April Marie Thomas, Colin Bleasdale, Dileep R...</td>\n",
       "      <td>{James Cameron}</td>\n",
       "      <td>Sam Worthington</td>\n",
       "      <td>1653</td>\n",
       "      <td>2</td>\n",
       "      <td>[0, 0, 0, 0]</td>\n",
       "    </tr>\n",
       "    <tr>\n",
       "      <td>1</td>\n",
       "      <td>57165</td>\n",
       "      <td>{Lily James, Bill Nighy, Sinéad Cusack, Edgar ...</td>\n",
       "      <td>{Jonathan Liebesman}</td>\n",
       "      <td>Sam Worthington</td>\n",
       "      <td>1653</td>\n",
       "      <td>2</td>\n",
       "      <td>[0, 0, 0, 0]</td>\n",
       "    </tr>\n",
       "    <tr>\n",
       "      <td>2</td>\n",
       "      <td>18823</td>\n",
       "      <td>{Jane March, Phil McKee, Nathalie Cox, Natalia...</td>\n",
       "      <td>{Louis Leterrier}</td>\n",
       "      <td>Sam Worthington</td>\n",
       "      <td>1653</td>\n",
       "      <td>2</td>\n",
       "      <td>[0, 0, 0, 0]</td>\n",
       "    </tr>\n",
       "    <tr>\n",
       "      <td>3</td>\n",
       "      <td>49527</td>\n",
       "      <td>{Frank Anello, Derrick T. Lewis, Liz Holtan, R...</td>\n",
       "      <td>{Asger Leth}</td>\n",
       "      <td>Sam Worthington</td>\n",
       "      <td>1653</td>\n",
       "      <td>2</td>\n",
       "      <td>[0, 0, 0, 0]</td>\n",
       "    </tr>\n",
       "    <tr>\n",
       "      <td>4</td>\n",
       "      <td>285</td>\n",
       "      <td>{Jonathan Pryce, Takayo Fischer, Naomie Harris...</td>\n",
       "      <td>{Gore Verbinski}</td>\n",
       "      <td>Johnny Depp</td>\n",
       "      <td>926</td>\n",
       "      <td>2</td>\n",
       "      <td>[0, 0, 0, 0, 0, 0, 0, 0, 0, 0, 0, 0, 0, 0, 0, ...</td>\n",
       "    </tr>\n",
       "    <tr>\n",
       "      <td>5</td>\n",
       "      <td>58</td>\n",
       "      <td>{Alex Norton, Luke de Woolfson, Jonathan Pryce...</td>\n",
       "      <td>{Gore Verbinski}</td>\n",
       "      <td>Johnny Depp</td>\n",
       "      <td>926</td>\n",
       "      <td>2</td>\n",
       "      <td>[0, 0, 0, 0, 0, 0, 0, 0, 0, 0, 0, 0, 0, 0, 0, ...</td>\n",
       "    </tr>\n",
       "    <tr>\n",
       "      <td>6</td>\n",
       "      <td>57201</td>\n",
       "      <td>{Tom Wilkinson, Damon Herriman, Chad Randall, ...</td>\n",
       "      <td>{Gore Verbinski}</td>\n",
       "      <td>Johnny Depp</td>\n",
       "      <td>926</td>\n",
       "      <td>2</td>\n",
       "      <td>[0, 0, 0, 0, 0, 0, 0, 0, 0, 0, 0, 0, 0, 0, 0, ...</td>\n",
       "    </tr>\n",
       "    <tr>\n",
       "      <td>7</td>\n",
       "      <td>1865</td>\n",
       "      <td>{Ian McShane, Stephen Graham, Roger Allam, Ste...</td>\n",
       "      <td>{Rob Marshall}</td>\n",
       "      <td>Johnny Depp</td>\n",
       "      <td>926</td>\n",
       "      <td>2</td>\n",
       "      <td>[0, 0, 0, 0, 0, 0, 0, 0, 0, 0, 0, 0, 0, 0, 0, ...</td>\n",
       "    </tr>\n",
       "    <tr>\n",
       "      <td>8</td>\n",
       "      <td>241259</td>\n",
       "      <td>{Toby Jones, Jamie Baughan, Neil Edmond, Minou...</td>\n",
       "      <td>{James Bobin}</td>\n",
       "      <td>Johnny Depp</td>\n",
       "      <td>926</td>\n",
       "      <td>2</td>\n",
       "      <td>[0, 0, 0, 0, 0, 0, 0, 0, 0, 0, 0, 0, 0, 0, 0, ...</td>\n",
       "    </tr>\n",
       "    <tr>\n",
       "      <td>9</td>\n",
       "      <td>118</td>\n",
       "      <td>{Tony Kirwood, Chris Cresswell, Oscar James, G...</td>\n",
       "      <td>{Tim Burton}</td>\n",
       "      <td>Johnny Depp</td>\n",
       "      <td>926</td>\n",
       "      <td>2</td>\n",
       "      <td>[0, 0, 0, 0, 0, 0, 0, 0, 0, 0, 0, 0, 0, 0, 0, ...</td>\n",
       "    </tr>\n",
       "    <tr>\n",
       "      <td>10</td>\n",
       "      <td>62213</td>\n",
       "      <td>{Ray Shirley, Susanna Cappellaro, Michelle Pfe...</td>\n",
       "      <td>{Tim Burton}</td>\n",
       "      <td>Johnny Depp</td>\n",
       "      <td>926</td>\n",
       "      <td>2</td>\n",
       "      <td>[0, 0, 0, 0, 0, 0, 0, 0, 0, 0, 0, 0, 0, 0, 0, ...</td>\n",
       "    </tr>\n",
       "    <tr>\n",
       "      <td>11</td>\n",
       "      <td>44896</td>\n",
       "      <td>{Harry Dean Stanton, Timothy Olyphant, Bill Ni...</td>\n",
       "      <td>{Gore Verbinski}</td>\n",
       "      <td>Johnny Depp</td>\n",
       "      <td>926</td>\n",
       "      <td>2</td>\n",
       "      <td>[0, 0, 0, 0, 0, 0, 0, 0, 0, 0, 0, 0, 0, 0, 0, ...</td>\n",
       "    </tr>\n",
       "    <tr>\n",
       "      <td>12</td>\n",
       "      <td>22</td>\n",
       "      <td>{Fred Toft, Ian McIntyre, Dylan Smith, Tobias ...</td>\n",
       "      <td>{Gore Verbinski}</td>\n",
       "      <td>Johnny Depp</td>\n",
       "      <td>926</td>\n",
       "      <td>2</td>\n",
       "      <td>[0, 0, 0, 0, 0, 0, 0, 0, 0, 0, 0, 0, 0, 0, 0, ...</td>\n",
       "    </tr>\n",
       "    <tr>\n",
       "      <td>13</td>\n",
       "      <td>37710</td>\n",
       "      <td>{Clément Sibony, Igor Jijikine, Gwilym Lee, Id...</td>\n",
       "      <td>{Florian Henckel von Donnersmarck}</td>\n",
       "      <td>Johnny Depp</td>\n",
       "      <td>926</td>\n",
       "      <td>2</td>\n",
       "      <td>[0, 0, 0, 0, 0, 0, 0, 0, 0, 0, 0, 0, 0, 0, 0, ...</td>\n",
       "    </tr>\n",
       "    <tr>\n",
       "      <td>14</td>\n",
       "      <td>157353</td>\n",
       "      <td>{Clifton Collins Jr, James Burnett, Sam Quinn,...</td>\n",
       "      <td>{Wally Pfister}</td>\n",
       "      <td>Johnny Depp</td>\n",
       "      <td>926</td>\n",
       "      <td>2</td>\n",
       "      <td>[0, 0, 0, 0, 0, 0, 0, 0, 0, 0, 0, 0, 0, 0, 0, ...</td>\n",
       "    </tr>\n",
       "    <tr>\n",
       "      <td>15</td>\n",
       "      <td>210860</td>\n",
       "      <td>{Guy Burnet, Gwyneth Paltrow, Michael Culkin, ...</td>\n",
       "      <td>{David Koepp}</td>\n",
       "      <td>Johnny Depp</td>\n",
       "      <td>926</td>\n",
       "      <td>2</td>\n",
       "      <td>[0, 0, 0, 0, 0, 0, 0, 0, 0, 0, 0, 0, 0, 0, 0, ...</td>\n",
       "    </tr>\n",
       "    <tr>\n",
       "      <td>16</td>\n",
       "      <td>261023</td>\n",
       "      <td>{Bates Wilder, Dakota Johnson, Danae Nason, Co...</td>\n",
       "      <td>{Scott Cooper}</td>\n",
       "      <td>Johnny Depp</td>\n",
       "      <td>926</td>\n",
       "      <td>2</td>\n",
       "      <td>[0, 0, 0, 0, 0, 0, 0, 0, 0, 0, 0, 0, 0, 0, 0, ...</td>\n",
       "    </tr>\n",
       "    <tr>\n",
       "      <td>17</td>\n",
       "      <td>768</td>\n",
       "      <td>{Terence Harvey, Annabelle Apsion, Rupert Farl...</td>\n",
       "      <td>{Albert Hughes, Allen Hughes}</td>\n",
       "      <td>Johnny Depp</td>\n",
       "      <td>926</td>\n",
       "      <td>2</td>\n",
       "      <td>[0, 0, 0, 0, 0, 0, 0, 0, 0, 0, 0, 0, 0, 0, 0, ...</td>\n",
       "    </tr>\n",
       "    <tr>\n",
       "      <td>18</td>\n",
       "      <td>1586</td>\n",
       "      <td>{Charles S. Dutton, Timothy Hutton, John Turtu...</td>\n",
       "      <td>{David Koepp}</td>\n",
       "      <td>Johnny Depp</td>\n",
       "      <td>926</td>\n",
       "      <td>2</td>\n",
       "      <td>[0, 0, 0, 0, 0, 0, 0, 0, 0, 0, 0, 0, 0, 0, 0, ...</td>\n",
       "    </tr>\n",
       "    <tr>\n",
       "      <td>19</td>\n",
       "      <td>622</td>\n",
       "      <td>{Marinette Richier, José López Rodero, Jacques...</td>\n",
       "      <td>{Roman Polanski}</td>\n",
       "      <td>Johnny Depp</td>\n",
       "      <td>926</td>\n",
       "      <td>2</td>\n",
       "      <td>[0, 0, 0, 0, 0, 0, 0, 0, 0, 0, 0, 0, 0, 0, 0, ...</td>\n",
       "    </tr>\n",
       "  </tbody>\n",
       "</table>\n",
       "</div>"
      ],
      "text/plain": [
       "    movie_id                                               cast  \\\n",
       "0      19995  {April Marie Thomas, Colin Bleasdale, Dileep R...   \n",
       "1      57165  {Lily James, Bill Nighy, Sinéad Cusack, Edgar ...   \n",
       "2      18823  {Jane March, Phil McKee, Nathalie Cox, Natalia...   \n",
       "3      49527  {Frank Anello, Derrick T. Lewis, Liz Holtan, R...   \n",
       "4        285  {Jonathan Pryce, Takayo Fischer, Naomie Harris...   \n",
       "5         58  {Alex Norton, Luke de Woolfson, Jonathan Pryce...   \n",
       "6      57201  {Tom Wilkinson, Damon Herriman, Chad Randall, ...   \n",
       "7       1865  {Ian McShane, Stephen Graham, Roger Allam, Ste...   \n",
       "8     241259  {Toby Jones, Jamie Baughan, Neil Edmond, Minou...   \n",
       "9        118  {Tony Kirwood, Chris Cresswell, Oscar James, G...   \n",
       "10     62213  {Ray Shirley, Susanna Cappellaro, Michelle Pfe...   \n",
       "11     44896  {Harry Dean Stanton, Timothy Olyphant, Bill Ni...   \n",
       "12        22  {Fred Toft, Ian McIntyre, Dylan Smith, Tobias ...   \n",
       "13     37710  {Clément Sibony, Igor Jijikine, Gwilym Lee, Id...   \n",
       "14    157353  {Clifton Collins Jr, James Burnett, Sam Quinn,...   \n",
       "15    210860  {Guy Burnet, Gwyneth Paltrow, Michael Culkin, ...   \n",
       "16    261023  {Bates Wilder, Dakota Johnson, Danae Nason, Co...   \n",
       "17       768  {Terence Harvey, Annabelle Apsion, Rupert Farl...   \n",
       "18      1586  {Charles S. Dutton, Timothy Hutton, John Turtu...   \n",
       "19       622  {Marinette Richier, José López Rodero, Jacques...   \n",
       "\n",
       "                                  crew           actors  actor_id  gender  \\\n",
       "0                      {James Cameron}  Sam Worthington      1653       2   \n",
       "1                 {Jonathan Liebesman}  Sam Worthington      1653       2   \n",
       "2                    {Louis Leterrier}  Sam Worthington      1653       2   \n",
       "3                         {Asger Leth}  Sam Worthington      1653       2   \n",
       "4                     {Gore Verbinski}      Johnny Depp       926       2   \n",
       "5                     {Gore Verbinski}      Johnny Depp       926       2   \n",
       "6                     {Gore Verbinski}      Johnny Depp       926       2   \n",
       "7                       {Rob Marshall}      Johnny Depp       926       2   \n",
       "8                        {James Bobin}      Johnny Depp       926       2   \n",
       "9                         {Tim Burton}      Johnny Depp       926       2   \n",
       "10                        {Tim Burton}      Johnny Depp       926       2   \n",
       "11                    {Gore Verbinski}      Johnny Depp       926       2   \n",
       "12                    {Gore Verbinski}      Johnny Depp       926       2   \n",
       "13  {Florian Henckel von Donnersmarck}      Johnny Depp       926       2   \n",
       "14                     {Wally Pfister}      Johnny Depp       926       2   \n",
       "15                       {David Koepp}      Johnny Depp       926       2   \n",
       "16                      {Scott Cooper}      Johnny Depp       926       2   \n",
       "17       {Albert Hughes, Allen Hughes}      Johnny Depp       926       2   \n",
       "18                       {David Koepp}      Johnny Depp       926       2   \n",
       "19                    {Roman Polanski}      Johnny Depp       926       2   \n",
       "\n",
       "                                                order  \n",
       "0                                        [0, 0, 0, 0]  \n",
       "1                                        [0, 0, 0, 0]  \n",
       "2                                        [0, 0, 0, 0]  \n",
       "3                                        [0, 0, 0, 0]  \n",
       "4   [0, 0, 0, 0, 0, 0, 0, 0, 0, 0, 0, 0, 0, 0, 0, ...  \n",
       "5   [0, 0, 0, 0, 0, 0, 0, 0, 0, 0, 0, 0, 0, 0, 0, ...  \n",
       "6   [0, 0, 0, 0, 0, 0, 0, 0, 0, 0, 0, 0, 0, 0, 0, ...  \n",
       "7   [0, 0, 0, 0, 0, 0, 0, 0, 0, 0, 0, 0, 0, 0, 0, ...  \n",
       "8   [0, 0, 0, 0, 0, 0, 0, 0, 0, 0, 0, 0, 0, 0, 0, ...  \n",
       "9   [0, 0, 0, 0, 0, 0, 0, 0, 0, 0, 0, 0, 0, 0, 0, ...  \n",
       "10  [0, 0, 0, 0, 0, 0, 0, 0, 0, 0, 0, 0, 0, 0, 0, ...  \n",
       "11  [0, 0, 0, 0, 0, 0, 0, 0, 0, 0, 0, 0, 0, 0, 0, ...  \n",
       "12  [0, 0, 0, 0, 0, 0, 0, 0, 0, 0, 0, 0, 0, 0, 0, ...  \n",
       "13  [0, 0, 0, 0, 0, 0, 0, 0, 0, 0, 0, 0, 0, 0, 0, ...  \n",
       "14  [0, 0, 0, 0, 0, 0, 0, 0, 0, 0, 0, 0, 0, 0, 0, ...  \n",
       "15  [0, 0, 0, 0, 0, 0, 0, 0, 0, 0, 0, 0, 0, 0, 0, ...  \n",
       "16  [0, 0, 0, 0, 0, 0, 0, 0, 0, 0, 0, 0, 0, 0, 0, ...  \n",
       "17  [0, 0, 0, 0, 0, 0, 0, 0, 0, 0, 0, 0, 0, 0, 0, ...  \n",
       "18  [0, 0, 0, 0, 0, 0, 0, 0, 0, 0, 0, 0, 0, 0, 0, ...  \n",
       "19  [0, 0, 0, 0, 0, 0, 0, 0, 0, 0, 0, 0, 0, 0, 0, ...  "
      ]
     },
     "execution_count": 17,
     "metadata": {},
     "output_type": "execute_result"
    }
   ],
   "source": [
    "actors_credits_df = pr_credits_df.merge(\n",
    "    actors_df, right_on=actors_col, left_on=actors_col, how=\"inner\"\n",
    ")\n",
    "actors_credits_df.head(20)"
   ]
  },
  {
   "cell_type": "code",
   "execution_count": 18,
   "metadata": {},
   "outputs": [
    {
     "data": {
      "text/html": [
       "<div>\n",
       "<style scoped>\n",
       "    .dataframe tbody tr th:only-of-type {\n",
       "        vertical-align: middle;\n",
       "    }\n",
       "\n",
       "    .dataframe tbody tr th {\n",
       "        vertical-align: top;\n",
       "    }\n",
       "\n",
       "    .dataframe thead th {\n",
       "        text-align: right;\n",
       "    }\n",
       "</style>\n",
       "<table border=\"1\" class=\"dataframe\">\n",
       "  <thead>\n",
       "    <tr style=\"text-align: right;\">\n",
       "      <th></th>\n",
       "      <th>cast</th>\n",
       "      <th>crew</th>\n",
       "      <th>actors</th>\n",
       "      <th>actor_id</th>\n",
       "      <th>gender</th>\n",
       "      <th>order</th>\n",
       "      <th>budget</th>\n",
       "      <th>genres</th>\n",
       "      <th>keywords</th>\n",
       "      <th>original_language</th>\n",
       "      <th>...</th>\n",
       "      <th>production_countries</th>\n",
       "      <th>release_date</th>\n",
       "      <th>revenue</th>\n",
       "      <th>runtime</th>\n",
       "      <th>spoken_languages</th>\n",
       "      <th>status</th>\n",
       "      <th>title</th>\n",
       "      <th>vote_average</th>\n",
       "      <th>vote_count</th>\n",
       "      <th>movie_id</th>\n",
       "    </tr>\n",
       "  </thead>\n",
       "  <tbody>\n",
       "    <tr>\n",
       "      <td>0</td>\n",
       "      <td>{April Marie Thomas, Colin Bleasdale, Dileep R...</td>\n",
       "      <td>{James Cameron}</td>\n",
       "      <td>Sam Worthington</td>\n",
       "      <td>1653</td>\n",
       "      <td>2</td>\n",
       "      <td>[0, 0, 0, 0]</td>\n",
       "      <td>237000000</td>\n",
       "      <td>{Adventure, Fantasy, Science Fiction, Action}</td>\n",
       "      <td>{futuristic, alien planet, 3d, mind and soul, ...</td>\n",
       "      <td>en</td>\n",
       "      <td>...</td>\n",
       "      <td>{United States of America, United Kingdom}</td>\n",
       "      <td>2009-12-10</td>\n",
       "      <td>2787965087</td>\n",
       "      <td>162.0</td>\n",
       "      <td>{Español, English}</td>\n",
       "      <td>Released</td>\n",
       "      <td>Avatar</td>\n",
       "      <td>7.2</td>\n",
       "      <td>11800</td>\n",
       "      <td>0</td>\n",
       "    </tr>\n",
       "    <tr>\n",
       "      <td>1</td>\n",
       "      <td>{Lily James, Bill Nighy, Sinéad Cusack, Edgar ...</td>\n",
       "      <td>{Jonathan Liebesman}</td>\n",
       "      <td>Sam Worthington</td>\n",
       "      <td>1653</td>\n",
       "      <td>2</td>\n",
       "      <td>[0, 0, 0, 0]</td>\n",
       "      <td>150000000</td>\n",
       "      <td>{Adventure}</td>\n",
       "      <td>{zeus, based on greek myth, ares, gods, hades,...</td>\n",
       "      <td>en</td>\n",
       "      <td>...</td>\n",
       "      <td>{United States of America, Spain}</td>\n",
       "      <td>2012-03-27</td>\n",
       "      <td>301000000</td>\n",
       "      <td>99.0</td>\n",
       "      <td>{English}</td>\n",
       "      <td>Released</td>\n",
       "      <td>Wrath of the Titans</td>\n",
       "      <td>5.5</td>\n",
       "      <td>1431</td>\n",
       "      <td>132</td>\n",
       "    </tr>\n",
       "    <tr>\n",
       "      <td>2</td>\n",
       "      <td>{Jane March, Phil McKee, Nathalie Cox, Natalia...</td>\n",
       "      <td>{Louis Leterrier}</td>\n",
       "      <td>Sam Worthington</td>\n",
       "      <td>1653</td>\n",
       "      <td>2</td>\n",
       "      <td>[0, 0, 0, 0]</td>\n",
       "      <td>125000000</td>\n",
       "      <td>{Adventure, Fantasy, Action}</td>\n",
       "      <td>{zeus, based on greek myth, kraken, gods, hade...</td>\n",
       "      <td>en</td>\n",
       "      <td>...</td>\n",
       "      <td>{United States of America}</td>\n",
       "      <td>2010-04-01</td>\n",
       "      <td>232713139</td>\n",
       "      <td>106.0</td>\n",
       "      <td>{English}</td>\n",
       "      <td>Released</td>\n",
       "      <td>Clash of the Titans</td>\n",
       "      <td>5.6</td>\n",
       "      <td>2233</td>\n",
       "      <td>206</td>\n",
       "    </tr>\n",
       "    <tr>\n",
       "      <td>3</td>\n",
       "      <td>{Frank Anello, Derrick T. Lewis, Liz Holtan, R...</td>\n",
       "      <td>{Asger Leth}</td>\n",
       "      <td>Sam Worthington</td>\n",
       "      <td>1653</td>\n",
       "      <td>2</td>\n",
       "      <td>[0, 0, 0, 0]</td>\n",
       "      <td>42000000</td>\n",
       "      <td>{Thriller, Crime, Action}</td>\n",
       "      <td>{diamond heist, framed for a crime, rooftop, n...</td>\n",
       "      <td>en</td>\n",
       "      <td>...</td>\n",
       "      <td>{United States of America}</td>\n",
       "      <td>2012-01-13</td>\n",
       "      <td>46221189</td>\n",
       "      <td>102.0</td>\n",
       "      <td>{English}</td>\n",
       "      <td>Released</td>\n",
       "      <td>Man on a Ledge</td>\n",
       "      <td>6.2</td>\n",
       "      <td>925</td>\n",
       "      <td>1146</td>\n",
       "    </tr>\n",
       "    <tr>\n",
       "      <td>4</td>\n",
       "      <td>{Jonathan Pryce, Takayo Fischer, Naomie Harris...</td>\n",
       "      <td>{Gore Verbinski}</td>\n",
       "      <td>Johnny Depp</td>\n",
       "      <td>926</td>\n",
       "      <td>2</td>\n",
       "      <td>[0, 0, 0, 0, 0, 0, 0, 0, 0, 0, 0, 0, 0, 0, 0, ...</td>\n",
       "      <td>300000000</td>\n",
       "      <td>{Adventure, Fantasy, Action}</td>\n",
       "      <td>{afterlife, exotic island, east india trading ...</td>\n",
       "      <td>en</td>\n",
       "      <td>...</td>\n",
       "      <td>{United States of America}</td>\n",
       "      <td>2007-05-19</td>\n",
       "      <td>961000000</td>\n",
       "      <td>169.0</td>\n",
       "      <td>{English}</td>\n",
       "      <td>Released</td>\n",
       "      <td>Pirates of the Caribbean: At World's End</td>\n",
       "      <td>6.9</td>\n",
       "      <td>4500</td>\n",
       "      <td>1</td>\n",
       "    </tr>\n",
       "  </tbody>\n",
       "</table>\n",
       "<p>5 rows × 22 columns</p>\n",
       "</div>"
      ],
      "text/plain": [
       "                                                cast                  crew  \\\n",
       "0  {April Marie Thomas, Colin Bleasdale, Dileep R...       {James Cameron}   \n",
       "1  {Lily James, Bill Nighy, Sinéad Cusack, Edgar ...  {Jonathan Liebesman}   \n",
       "2  {Jane March, Phil McKee, Nathalie Cox, Natalia...     {Louis Leterrier}   \n",
       "3  {Frank Anello, Derrick T. Lewis, Liz Holtan, R...          {Asger Leth}   \n",
       "4  {Jonathan Pryce, Takayo Fischer, Naomie Harris...      {Gore Verbinski}   \n",
       "\n",
       "            actors  actor_id  gender  \\\n",
       "0  Sam Worthington      1653       2   \n",
       "1  Sam Worthington      1653       2   \n",
       "2  Sam Worthington      1653       2   \n",
       "3  Sam Worthington      1653       2   \n",
       "4      Johnny Depp       926       2   \n",
       "\n",
       "                                               order     budget  \\\n",
       "0                                       [0, 0, 0, 0]  237000000   \n",
       "1                                       [0, 0, 0, 0]  150000000   \n",
       "2                                       [0, 0, 0, 0]  125000000   \n",
       "3                                       [0, 0, 0, 0]   42000000   \n",
       "4  [0, 0, 0, 0, 0, 0, 0, 0, 0, 0, 0, 0, 0, 0, 0, ...  300000000   \n",
       "\n",
       "                                          genres  \\\n",
       "0  {Adventure, Fantasy, Science Fiction, Action}   \n",
       "1                                    {Adventure}   \n",
       "2                   {Adventure, Fantasy, Action}   \n",
       "3                      {Thriller, Crime, Action}   \n",
       "4                   {Adventure, Fantasy, Action}   \n",
       "\n",
       "                                            keywords original_language  ...  \\\n",
       "0  {futuristic, alien planet, 3d, mind and soul, ...                en  ...   \n",
       "1  {zeus, based on greek myth, ares, gods, hades,...                en  ...   \n",
       "2  {zeus, based on greek myth, kraken, gods, hade...                en  ...   \n",
       "3  {diamond heist, framed for a crime, rooftop, n...                en  ...   \n",
       "4  {afterlife, exotic island, east india trading ...                en  ...   \n",
       "\n",
       "                         production_countries release_date     revenue  \\\n",
       "0  {United States of America, United Kingdom}   2009-12-10  2787965087   \n",
       "1           {United States of America, Spain}   2012-03-27   301000000   \n",
       "2                  {United States of America}   2010-04-01   232713139   \n",
       "3                  {United States of America}   2012-01-13    46221189   \n",
       "4                  {United States of America}   2007-05-19   961000000   \n",
       "\n",
       "  runtime    spoken_languages    status  \\\n",
       "0   162.0  {Español, English}  Released   \n",
       "1    99.0           {English}  Released   \n",
       "2   106.0           {English}  Released   \n",
       "3   102.0           {English}  Released   \n",
       "4   169.0           {English}  Released   \n",
       "\n",
       "                                      title vote_average vote_count  movie_id  \n",
       "0                                    Avatar          7.2      11800         0  \n",
       "1                       Wrath of the Titans          5.5       1431       132  \n",
       "2                       Clash of the Titans          5.6       2233       206  \n",
       "3                            Man on a Ledge          6.2        925      1146  \n",
       "4  Pirates of the Caribbean: At World's End          6.9       4500         1  \n",
       "\n",
       "[5 rows x 22 columns]"
      ]
     },
     "execution_count": 18,
     "metadata": {},
     "output_type": "execute_result"
    }
   ],
   "source": [
    "movie_id_col = \"movie_id\"\n",
    "new_movie_id_col = \"new_movie_id\"\n",
    "actors_movies_credits_df = actors_credits_df.merge(\n",
    "    pr_movies_df, right_on=movie_id_col, left_on=movie_id_col, how=\"inner\"\n",
    ")\n",
    "# Set new movie ids\n",
    "unique_movies_df = (\n",
    "    pr_movies_df[movie_id_col]\n",
    "    .to_frame()\n",
    "    .drop_duplicates()\n",
    "    .reset_index()\n",
    "    .rename(columns={\"index\": new_movie_id_col})\n",
    ")\n",
    "actors_movies_credits_df = (\n",
    "    actors_movies_credits_df.merge(\n",
    "        unique_movies_df, right_on=movie_id_col, left_on=movie_id_col, how=\"inner\"\n",
    "    )\n",
    "    .drop(columns=movie_id_col)\n",
    "    .rename(columns={new_movie_id_col: movie_id_col})\n",
    ")\n",
    "\n",
    "actors_movies_credits_df.head()"
   ]
  },
  {
   "cell_type": "code",
   "execution_count": 19,
   "metadata": {},
   "outputs": [
    {
     "data": {
      "text/html": [
       "<div>\n",
       "<style scoped>\n",
       "    .dataframe tbody tr th:only-of-type {\n",
       "        vertical-align: middle;\n",
       "    }\n",
       "\n",
       "    .dataframe tbody tr th {\n",
       "        vertical-align: top;\n",
       "    }\n",
       "\n",
       "    .dataframe thead th {\n",
       "        text-align: right;\n",
       "    }\n",
       "</style>\n",
       "<table border=\"1\" class=\"dataframe\">\n",
       "  <thead>\n",
       "    <tr style=\"text-align: right;\">\n",
       "      <th></th>\n",
       "      <th>new_movie_id</th>\n",
       "      <th>movie_id</th>\n",
       "      <th>title</th>\n",
       "    </tr>\n",
       "  </thead>\n",
       "  <tbody>\n",
       "    <tr>\n",
       "      <td>0</td>\n",
       "      <td>0</td>\n",
       "      <td>19995</td>\n",
       "      <td>Avatar</td>\n",
       "    </tr>\n",
       "    <tr>\n",
       "      <td>1</td>\n",
       "      <td>1</td>\n",
       "      <td>285</td>\n",
       "      <td>Pirates of the Caribbean: At World's End</td>\n",
       "    </tr>\n",
       "    <tr>\n",
       "      <td>2</td>\n",
       "      <td>2</td>\n",
       "      <td>206647</td>\n",
       "      <td>Spectre</td>\n",
       "    </tr>\n",
       "    <tr>\n",
       "      <td>3</td>\n",
       "      <td>3</td>\n",
       "      <td>49026</td>\n",
       "      <td>The Dark Knight Rises</td>\n",
       "    </tr>\n",
       "    <tr>\n",
       "      <td>4</td>\n",
       "      <td>4</td>\n",
       "      <td>49529</td>\n",
       "      <td>John Carter</td>\n",
       "    </tr>\n",
       "  </tbody>\n",
       "</table>\n",
       "</div>"
      ],
      "text/plain": [
       "   new_movie_id  movie_id                                     title\n",
       "0             0     19995                                    Avatar\n",
       "1             1       285  Pirates of the Caribbean: At World's End\n",
       "2             2    206647                                   Spectre\n",
       "3             3     49026                     The Dark Knight Rises\n",
       "4             4     49529                               John Carter"
      ]
     },
     "execution_count": 19,
     "metadata": {},
     "output_type": "execute_result"
    }
   ],
   "source": [
    "aux_movies_df = unique_movies_df.merge(\n",
    "    pr_movies_df[[\"movie_id\", \"title\"]].drop_duplicates(),\n",
    "    right_on=\"movie_id\",\n",
    "    left_on=\"movie_id\",\n",
    ")\n",
    "aux_movies_df.head()"
   ]
  },
  {
   "cell_type": "code",
   "execution_count": 20,
   "metadata": {},
   "outputs": [
    {
     "data": {
      "text/plain": [
       "Index(['cast', 'crew', 'actors', 'actor_id', 'gender', 'order', 'budget',\n",
       "       'genres', 'keywords', 'original_language', 'popularity',\n",
       "       'production_companies', 'production_countries', 'release_date',\n",
       "       'revenue', 'runtime', 'spoken_languages', 'status', 'title',\n",
       "       'vote_average', 'vote_count', 'movie_id'],\n",
       "      dtype='object')"
      ]
     },
     "execution_count": 20,
     "metadata": {},
     "output_type": "execute_result"
    }
   ],
   "source": [
    "actors_movies_credits_df.columns"
   ]
  },
  {
   "cell_type": "code",
   "execution_count": 21,
   "metadata": {},
   "outputs": [
    {
     "data": {
      "text/plain": [
       "4581"
      ]
     },
     "execution_count": 21,
     "metadata": {},
     "output_type": "execute_result"
    }
   ],
   "source": [
    "len(actors_movies_credits_df)"
   ]
  },
  {
   "cell_type": "code",
   "execution_count": 22,
   "metadata": {},
   "outputs": [
    {
     "data": {
      "text/html": [
       "<div>\n",
       "<style scoped>\n",
       "    .dataframe tbody tr th:only-of-type {\n",
       "        vertical-align: middle;\n",
       "    }\n",
       "\n",
       "    .dataframe tbody tr th {\n",
       "        vertical-align: top;\n",
       "    }\n",
       "\n",
       "    .dataframe thead th {\n",
       "        text-align: right;\n",
       "    }\n",
       "</style>\n",
       "<table border=\"1\" class=\"dataframe\">\n",
       "  <thead>\n",
       "    <tr style=\"text-align: right;\">\n",
       "      <th></th>\n",
       "      <th>movie_id</th>\n",
       "      <th>cast</th>\n",
       "      <th>crew</th>\n",
       "      <th>gender</th>\n",
       "      <th>budget</th>\n",
       "      <th>genres</th>\n",
       "      <th>keywords</th>\n",
       "      <th>original_language</th>\n",
       "      <th>popularity</th>\n",
       "      <th>production_companies</th>\n",
       "      <th>production_countries</th>\n",
       "      <th>release_date</th>\n",
       "      <th>revenue</th>\n",
       "      <th>runtime</th>\n",
       "      <th>spoken_languages</th>\n",
       "      <th>status</th>\n",
       "      <th>title</th>\n",
       "      <th>vote_average</th>\n",
       "      <th>vote_count</th>\n",
       "    </tr>\n",
       "    <tr>\n",
       "      <th>actor_id</th>\n",
       "      <th></th>\n",
       "      <th></th>\n",
       "      <th></th>\n",
       "      <th></th>\n",
       "      <th></th>\n",
       "      <th></th>\n",
       "      <th></th>\n",
       "      <th></th>\n",
       "      <th></th>\n",
       "      <th></th>\n",
       "      <th></th>\n",
       "      <th></th>\n",
       "      <th></th>\n",
       "      <th></th>\n",
       "      <th></th>\n",
       "      <th></th>\n",
       "      <th></th>\n",
       "      <th></th>\n",
       "      <th></th>\n",
       "    </tr>\n",
       "  </thead>\n",
       "  <tbody>\n",
       "    <tr>\n",
       "      <td>0</td>\n",
       "      <td>{3619}</td>\n",
       "      <td>{David Bowe, Kevin McCarthy, Emo Philips, Fran...</td>\n",
       "      <td>{Jay Levey}</td>\n",
       "      <td>0</td>\n",
       "      <td>5000000.0</td>\n",
       "      <td>{Comedy}</td>\n",
       "      <td>{tv station, music video, music spoof, game sh...</td>\n",
       "      <td>{en}</td>\n",
       "      <td>4.070044</td>\n",
       "      <td>{Orion Pictures, Cinecorp}</td>\n",
       "      <td>{United States of America}</td>\n",
       "      <td>[1989-07-21]</td>\n",
       "      <td>0.0</td>\n",
       "      <td>97.0</td>\n",
       "      <td>{English}</td>\n",
       "      <td>[Released]</td>\n",
       "      <td>{UHF}</td>\n",
       "      <td>6.7</td>\n",
       "      <td>89.0</td>\n",
       "    </tr>\n",
       "    <tr>\n",
       "      <td>1</td>\n",
       "      <td>{1233}</td>\n",
       "      <td>{Omar Benson Miller, Adewale Akinnuoye-Agbaje,...</td>\n",
       "      <td>{Jim Sheridan}</td>\n",
       "      <td>2</td>\n",
       "      <td>40000000.0</td>\n",
       "      <td>{Drama}</td>\n",
       "      <td>{attempted murder, musical, loss of mother, ra...</td>\n",
       "      <td>{en}</td>\n",
       "      <td>12.885985</td>\n",
       "      <td>{MTV Films, Paramount Pictures, Cent Productio...</td>\n",
       "      <td>{United States of America}</td>\n",
       "      <td>[2005-11-09]</td>\n",
       "      <td>46442528.0</td>\n",
       "      <td>117.0</td>\n",
       "      <td>{English}</td>\n",
       "      <td>[Released]</td>\n",
       "      <td>{Get Rich or Die Tryin'}</td>\n",
       "      <td>6.3</td>\n",
       "      <td>186.0</td>\n",
       "    </tr>\n",
       "    <tr>\n",
       "      <td>2</td>\n",
       "      <td>{4203}</td>\n",
       "      <td>{James Denton, Emma Catherwood, Kevin Pollak, ...</td>\n",
       "      <td>{Brad J. Silverman}</td>\n",
       "      <td>1</td>\n",
       "      <td>0.0</td>\n",
       "      <td>{Drama, Music}</td>\n",
       "      <td>{christian}</td>\n",
       "      <td>{en}</td>\n",
       "      <td>2.160586</td>\n",
       "      <td>{Birchwood Pictures, Coram Deo Studios}</td>\n",
       "      <td>{United States of America}</td>\n",
       "      <td>[2013-10-04]</td>\n",
       "      <td>0.0</td>\n",
       "      <td>102.0</td>\n",
       "      <td>{English}</td>\n",
       "      <td>[Released]</td>\n",
       "      <td>{Grace Unplugged}</td>\n",
       "      <td>6.0</td>\n",
       "      <td>24.0</td>\n",
       "    </tr>\n",
       "    <tr>\n",
       "      <td>3</td>\n",
       "      <td>{3543, 1023}</td>\n",
       "      <td>{Kulbhushan Kharbanda, Arif Zakaria, Eric Pete...</td>\n",
       "      <td>{Deepa Mehta, Rakeysh Omprakash Mehra}</td>\n",
       "      <td>2</td>\n",
       "      <td>1100000.0</td>\n",
       "      <td>{Drama}</td>\n",
       "      <td>{students' movement, partition, woman director...</td>\n",
       "      <td>{hi}</td>\n",
       "      <td>3.226925</td>\n",
       "      <td>{Flicks Motion Pictures, Cracking the Earth Fi...</td>\n",
       "      <td>{India, Canada}</td>\n",
       "      <td>[1998-09-16, 2006-01-26]</td>\n",
       "      <td>6015561.5</td>\n",
       "      <td>258.0</td>\n",
       "      <td>{हिन्दी}</td>\n",
       "      <td>[Released, Released]</td>\n",
       "      <td>{Rang De Basanti, Earth}</td>\n",
       "      <td>6.9</td>\n",
       "      <td>53.0</td>\n",
       "    </tr>\n",
       "    <tr>\n",
       "      <td>4</td>\n",
       "      <td>{2242}</td>\n",
       "      <td>{Alan Alda, Lauren Graham, Tim Kelleher, Tatia...</td>\n",
       "      <td>{Marc Abraham}</td>\n",
       "      <td>2</td>\n",
       "      <td>0.0</td>\n",
       "      <td>{Drama}</td>\n",
       "      <td>{biography}</td>\n",
       "      <td>{en}</td>\n",
       "      <td>3.350297</td>\n",
       "      <td>{Universal Pictures, Strike Entertainment, Spy...</td>\n",
       "      <td>{United States of America}</td>\n",
       "      <td>[2008-09-07]</td>\n",
       "      <td>0.0</td>\n",
       "      <td>119.0</td>\n",
       "      <td>{English}</td>\n",
       "      <td>[Released]</td>\n",
       "      <td>{Flash of Genius}</td>\n",
       "      <td>6.3</td>\n",
       "      <td>59.0</td>\n",
       "    </tr>\n",
       "  </tbody>\n",
       "</table>\n",
       "</div>"
      ],
      "text/plain": [
       "              movie_id                                               cast  \\\n",
       "actor_id                                                                    \n",
       "0               {3619}  {David Bowe, Kevin McCarthy, Emo Philips, Fran...   \n",
       "1               {1233}  {Omar Benson Miller, Adewale Akinnuoye-Agbaje,...   \n",
       "2               {4203}  {James Denton, Emma Catherwood, Kevin Pollak, ...   \n",
       "3         {3543, 1023}  {Kulbhushan Kharbanda, Arif Zakaria, Eric Pete...   \n",
       "4               {2242}  {Alan Alda, Lauren Graham, Tim Kelleher, Tatia...   \n",
       "\n",
       "                                            crew  gender      budget  \\\n",
       "actor_id                                                               \n",
       "0                                    {Jay Levey}       0   5000000.0   \n",
       "1                                 {Jim Sheridan}       2  40000000.0   \n",
       "2                            {Brad J. Silverman}       1         0.0   \n",
       "3         {Deepa Mehta, Rakeysh Omprakash Mehra}       2   1100000.0   \n",
       "4                                 {Marc Abraham}       2         0.0   \n",
       "\n",
       "                  genres                                           keywords  \\\n",
       "actor_id                                                                      \n",
       "0               {Comedy}  {tv station, music video, music spoof, game sh...   \n",
       "1                {Drama}  {attempted murder, musical, loss of mother, ra...   \n",
       "2         {Drama, Music}                                        {christian}   \n",
       "3                {Drama}  {students' movement, partition, woman director...   \n",
       "4                {Drama}                                        {biography}   \n",
       "\n",
       "         original_language  popularity  \\\n",
       "actor_id                                 \n",
       "0                     {en}    4.070044   \n",
       "1                     {en}   12.885985   \n",
       "2                     {en}    2.160586   \n",
       "3                     {hi}    3.226925   \n",
       "4                     {en}    3.350297   \n",
       "\n",
       "                                       production_companies  \\\n",
       "actor_id                                                      \n",
       "0                                {Orion Pictures, Cinecorp}   \n",
       "1         {MTV Films, Paramount Pictures, Cent Productio...   \n",
       "2                   {Birchwood Pictures, Coram Deo Studios}   \n",
       "3         {Flicks Motion Pictures, Cracking the Earth Fi...   \n",
       "4         {Universal Pictures, Strike Entertainment, Spy...   \n",
       "\n",
       "                production_countries              release_date     revenue  \\\n",
       "actor_id                                                                     \n",
       "0         {United States of America}              [1989-07-21]         0.0   \n",
       "1         {United States of America}              [2005-11-09]  46442528.0   \n",
       "2         {United States of America}              [2013-10-04]         0.0   \n",
       "3                    {India, Canada}  [1998-09-16, 2006-01-26]   6015561.5   \n",
       "4         {United States of America}              [2008-09-07]         0.0   \n",
       "\n",
       "          runtime spoken_languages                status  \\\n",
       "actor_id                                                   \n",
       "0            97.0        {English}            [Released]   \n",
       "1           117.0        {English}            [Released]   \n",
       "2           102.0        {English}            [Released]   \n",
       "3           258.0         {हिन्दी}  [Released, Released]   \n",
       "4           119.0        {English}            [Released]   \n",
       "\n",
       "                             title  vote_average  vote_count  \n",
       "actor_id                                                      \n",
       "0                            {UHF}           6.7        89.0  \n",
       "1         {Get Rich or Die Tryin'}           6.3       186.0  \n",
       "2                {Grace Unplugged}           6.0        24.0  \n",
       "3         {Rang De Basanti, Earth}           6.9        53.0  \n",
       "4                {Flash of Genius}           6.3        59.0  "
      ]
     },
     "execution_count": 22,
     "metadata": {},
     "output_type": "execute_result"
    }
   ],
   "source": [
    "get_union = lambda s: reduce(set.union, s)\n",
    "actor_id_col = \"actor_id\"\n",
    "actors_agg_df = (\n",
    "    actors_movies_credits_df.groupby(actors_col)\n",
    "    .aggregate(\n",
    "        {\n",
    "            \"movie_id\": set,\n",
    "            \"cast\": get_union,\n",
    "            \"crew\": get_union,\n",
    "            \"actor_id\": max,\n",
    "            \"gender\": max,\n",
    "            \"budget\": \"mean\",\n",
    "            \"genres\": get_union,\n",
    "            \"keywords\": get_union,\n",
    "            \"original_language\": set,\n",
    "            \"popularity\": \"mean\",\n",
    "            \"production_companies\": get_union,\n",
    "            \"production_countries\": get_union,\n",
    "            \"release_date\": list,\n",
    "            \"revenue\": \"mean\",\n",
    "            \"runtime\": sum,\n",
    "            \"spoken_languages\": get_union,\n",
    "            \"status\": list,\n",
    "            \"title\": set,\n",
    "            \"vote_average\": \"mean\",\n",
    "            \"vote_count\": \"mean\",\n",
    "        }\n",
    "    )\n",
    "    .set_index(actor_id_col)\n",
    ")\n",
    "actors_agg_df.head()"
   ]
  },
  {
   "cell_type": "markdown",
   "metadata": {},
   "source": [
    "## Build graph"
   ]
  },
  {
   "cell_type": "code",
   "execution_count": 23,
   "metadata": {},
   "outputs": [
    {
     "data": {
      "text/html": [
       "<div>\n",
       "<style scoped>\n",
       "    .dataframe tbody tr th:only-of-type {\n",
       "        vertical-align: middle;\n",
       "    }\n",
       "\n",
       "    .dataframe tbody tr th {\n",
       "        vertical-align: top;\n",
       "    }\n",
       "\n",
       "    .dataframe thead th {\n",
       "        text-align: right;\n",
       "    }\n",
       "</style>\n",
       "<table border=\"1\" class=\"dataframe\">\n",
       "  <thead>\n",
       "    <tr style=\"text-align: right;\">\n",
       "      <th></th>\n",
       "      <th>cast</th>\n",
       "      <th>crew</th>\n",
       "      <th>production_companies</th>\n",
       "      <th>genres</th>\n",
       "      <th>movie_id</th>\n",
       "    </tr>\n",
       "    <tr>\n",
       "      <th>actor_id</th>\n",
       "      <th></th>\n",
       "      <th></th>\n",
       "      <th></th>\n",
       "      <th></th>\n",
       "      <th></th>\n",
       "    </tr>\n",
       "  </thead>\n",
       "  <tbody>\n",
       "    <tr>\n",
       "      <td>0</td>\n",
       "      <td>{David Bowe, Kevin McCarthy, Emo Philips, Fran...</td>\n",
       "      <td>{Jay Levey}</td>\n",
       "      <td>{Orion Pictures, Cinecorp}</td>\n",
       "      <td>{Comedy}</td>\n",
       "      <td>{3619}</td>\n",
       "    </tr>\n",
       "    <tr>\n",
       "      <td>1</td>\n",
       "      <td>{Omar Benson Miller, Adewale Akinnuoye-Agbaje,...</td>\n",
       "      <td>{Jim Sheridan}</td>\n",
       "      <td>{MTV Films, Paramount Pictures, Cent Productio...</td>\n",
       "      <td>{Drama}</td>\n",
       "      <td>{1233}</td>\n",
       "    </tr>\n",
       "    <tr>\n",
       "      <td>2</td>\n",
       "      <td>{James Denton, Emma Catherwood, Kevin Pollak, ...</td>\n",
       "      <td>{Brad J. Silverman}</td>\n",
       "      <td>{Birchwood Pictures, Coram Deo Studios}</td>\n",
       "      <td>{Drama, Music}</td>\n",
       "      <td>{4203}</td>\n",
       "    </tr>\n",
       "    <tr>\n",
       "      <td>3</td>\n",
       "      <td>{Kulbhushan Kharbanda, Arif Zakaria, Eric Pete...</td>\n",
       "      <td>{Deepa Mehta, Rakeysh Omprakash Mehra}</td>\n",
       "      <td>{Flicks Motion Pictures, Cracking the Earth Fi...</td>\n",
       "      <td>{Drama}</td>\n",
       "      <td>{3543, 1023}</td>\n",
       "    </tr>\n",
       "    <tr>\n",
       "      <td>4</td>\n",
       "      <td>{Alan Alda, Lauren Graham, Tim Kelleher, Tatia...</td>\n",
       "      <td>{Marc Abraham}</td>\n",
       "      <td>{Universal Pictures, Strike Entertainment, Spy...</td>\n",
       "      <td>{Drama}</td>\n",
       "      <td>{2242}</td>\n",
       "    </tr>\n",
       "  </tbody>\n",
       "</table>\n",
       "</div>"
      ],
      "text/plain": [
       "                                                       cast  \\\n",
       "actor_id                                                      \n",
       "0         {David Bowe, Kevin McCarthy, Emo Philips, Fran...   \n",
       "1         {Omar Benson Miller, Adewale Akinnuoye-Agbaje,...   \n",
       "2         {James Denton, Emma Catherwood, Kevin Pollak, ...   \n",
       "3         {Kulbhushan Kharbanda, Arif Zakaria, Eric Pete...   \n",
       "4         {Alan Alda, Lauren Graham, Tim Kelleher, Tatia...   \n",
       "\n",
       "                                            crew  \\\n",
       "actor_id                                           \n",
       "0                                    {Jay Levey}   \n",
       "1                                 {Jim Sheridan}   \n",
       "2                            {Brad J. Silverman}   \n",
       "3         {Deepa Mehta, Rakeysh Omprakash Mehra}   \n",
       "4                                 {Marc Abraham}   \n",
       "\n",
       "                                       production_companies          genres  \\\n",
       "actor_id                                                                      \n",
       "0                                {Orion Pictures, Cinecorp}        {Comedy}   \n",
       "1         {MTV Films, Paramount Pictures, Cent Productio...         {Drama}   \n",
       "2                   {Birchwood Pictures, Coram Deo Studios}  {Drama, Music}   \n",
       "3         {Flicks Motion Pictures, Cracking the Earth Fi...         {Drama}   \n",
       "4         {Universal Pictures, Strike Entertainment, Spy...         {Drama}   \n",
       "\n",
       "              movie_id  \n",
       "actor_id                \n",
       "0               {3619}  \n",
       "1               {1233}  \n",
       "2               {4203}  \n",
       "3         {3543, 1023}  \n",
       "4               {2242}  "
      ]
     },
     "execution_count": 23,
     "metadata": {},
     "output_type": "execute_result"
    }
   ],
   "source": [
    "nodes_df = actors_agg_df[[\"cast\", \"crew\", \"production_companies\", \"genres\", \"movie_id\"]]\n",
    "nodes_df.head()"
   ]
  },
  {
   "cell_type": "code",
   "execution_count": 24,
   "metadata": {},
   "outputs": [],
   "source": [
    "dict_actor_id = dict(zip(actors_df[actors_col], actors_df[actor_id_col]))\n",
    "dict_id_actor = dict(zip(actors_df[actor_id_col], actors_df[actors_col]))"
   ]
  },
  {
   "cell_type": "markdown",
   "metadata": {},
   "source": [
    "## Get cast intersecctions length mat"
   ]
  },
  {
   "cell_type": "code",
   "execution_count": 25,
   "metadata": {},
   "outputs": [],
   "source": [
    "import timeit\n",
    "\n",
    "\n",
    "def get_intersections_length_adj_mat(col):\n",
    "    \"Get the intersecction length of the set of each entry with the set of every other entry in the column\"\n",
    "    start = timeit.default_timer()\n",
    "    adj = np.zeros((col.shape[0], col.shape[0]))\n",
    "    for (i, set_row) in enumerate(col):\n",
    "        for (j, set_col) in enumerate(col):\n",
    "            try:\n",
    "                adj[i, j] = len(set_row.intersection(set_col))\n",
    "            except AttributeError:\n",
    "                adj[i, j] = 0\n",
    "    stop = timeit.default_timer()\n",
    "    print(\"Time: \", stop - start)\n",
    "    return adj"
   ]
  },
  {
   "cell_type": "code",
   "execution_count": 26,
   "metadata": {},
   "outputs": [],
   "source": [
    "def get_unions_length_adj_mat(col):\n",
    "    \"Get the unions length of the set of each entry with the set of every other entry in the column\"\n",
    "    start = timeit.default_timer()\n",
    "    adj = np.zeros((col.shape[0], col.shape[0]))\n",
    "    for (i, set_row) in enumerate(col):\n",
    "        for (j, set_col) in enumerate(col):\n",
    "            try:\n",
    "                adj[i, j] = len(set_row.union(set_col))\n",
    "            except AttributeError:\n",
    "                adj[i, j] = 0\n",
    "    stop = timeit.default_timer()\n",
    "    print(\"Time: \", stop - start)\n",
    "    return adj"
   ]
  },
  {
   "cell_type": "markdown",
   "metadata": {},
   "source": [
    "## Get cast intersections"
   ]
  },
  {
   "cell_type": "code",
   "execution_count": 27,
   "metadata": {},
   "outputs": [
    {
     "name": "stdout",
     "output_type": "stream",
     "text": [
      "Time:  3.633344674000001\n"
     ]
    }
   ],
   "source": [
    "col = \"cast\"\n",
    "cast_col = nodes_df[col]\n",
    "cast_adj_raw = get_intersections_length_adj_mat(cast_col)\n",
    "cast_adj_diag = np.diag(np.diag(cast_adj_raw))\n",
    "cast_adj = cast_adj_raw - cast_adj_diag"
   ]
  },
  {
   "cell_type": "code",
   "execution_count": 28,
   "metadata": {},
   "outputs": [
    {
     "data": {
      "text/plain": [
       "<matplotlib.image.AxesImage at 0x1210b9198>"
      ]
     },
     "execution_count": 28,
     "metadata": {},
     "output_type": "execute_result"
    },
    {
     "data": {
      "image/png": "[encoded data removed]",
      "text/plain": [
       "<Figure size 432x288 with 1 Axes>"
      ]
     },
     "metadata": {
      "needs_background": "light"
     },
     "output_type": "display_data"
    }
   ],
   "source": [
    "plt.spy(cast_adj)"
   ]
  },
  {
   "cell_type": "code",
   "execution_count": 29,
   "metadata": {},
   "outputs": [],
   "source": [
    "np.save(\"cast_adj\", cast_adj)"
   ]
  },
  {
   "cell_type": "markdown",
   "metadata": {},
   "source": [
    "## Load cast adjacency matrix"
   ]
  },
  {
   "cell_type": "code",
   "execution_count": 30,
   "metadata": {},
   "outputs": [],
   "source": [
    "cast_adj = np.load(\"cast_adj.npy\")"
   ]
  },
  {
   "cell_type": "code",
   "execution_count": 31,
   "metadata": {},
   "outputs": [
    {
     "data": {
      "text/plain": [
       "(1971, 1971)"
      ]
     },
     "execution_count": 31,
     "metadata": {},
     "output_type": "execute_result"
    }
   ],
   "source": [
    "cast_adj.shape"
   ]
  },
  {
   "cell_type": "code",
   "execution_count": 32,
   "metadata": {},
   "outputs": [],
   "source": [
    "node_degree = cast_adj.sum(axis=0)"
   ]
  },
  {
   "cell_type": "code",
   "execution_count": 33,
   "metadata": {},
   "outputs": [
    {
     "name": "stdout",
     "output_type": "stream",
     "text": [
      "['Bruce Willis', 'Johnny Depp', 'Denzel Washington', 'Ben Stiller', 'Tom Hanks', 'Nicolas Cage', 'Tom Cruise', 'Ben Affleck', 'Robert De Niro', 'George Clooney', 'Mark Wahlberg', 'Matt Damon', 'Leonardo DiCaprio', 'Christian Bale', 'Harrison Ford', 'Will Ferrell', 'Will Smith', 'Adam Sandler', 'John Travolta', 'Kevin Costner']\n"
     ]
    }
   ],
   "source": [
    "most_connected_actors_id = np.argsort(-node_degree)[:20]\n",
    "most_connected_actors = [dict_id_actor.get(id_) for id_ in most_connected_actors_id]\n",
    "actors_df[actors_df[actor_id_col].isin(most_connected_actors_id)]\n",
    "print(most_connected_actors)"
   ]
  },
  {
   "cell_type": "markdown",
   "metadata": {},
   "source": [
    "## Get cast unions length mat"
   ]
  },
  {
   "cell_type": "code",
   "execution_count": 34,
   "metadata": {},
   "outputs": [
    {
     "name": "stdout",
     "output_type": "stream",
     "text": [
      "Time:  12.495566950999999\n"
     ]
    }
   ],
   "source": [
    "col = \"cast\"\n",
    "cast_col = nodes_df[col]\n",
    "cast_adj_union_raw = get_unions_length_adj_mat(cast_col)\n",
    "cast_adj_union_diag = np.diag(np.diag(cast_adj_union_raw))\n",
    "cast_adj_union = cast_adj_union_raw - cast_adj_union_diag"
   ]
  },
  {
   "cell_type": "code",
   "execution_count": 35,
   "metadata": {},
   "outputs": [
    {
     "data": {
      "text/plain": [
       "<matplotlib.image.AxesImage at 0x120fb3400>"
      ]
     },
     "execution_count": 35,
     "metadata": {},
     "output_type": "execute_result"
    },
    {
     "data": {
      "image/png": "[encoded data removed]",
      "text/plain": [
       "<Figure size 432x288 with 1 Axes>"
      ]
     },
     "metadata": {
      "needs_background": "light"
     },
     "output_type": "display_data"
    }
   ],
   "source": [
    "plt.imshow(cast_adj_union, cmap=\"hot\", interpolation=\"none\")"
   ]
  },
  {
   "cell_type": "code",
   "execution_count": 36,
   "metadata": {},
   "outputs": [],
   "source": [
    "np.save(\"cast_adj_union\", cast_adj_union)"
   ]
  },
  {
   "cell_type": "markdown",
   "metadata": {},
   "source": [
    "## Get movies intersections length mat"
   ]
  },
  {
   "cell_type": "code",
   "execution_count": 37,
   "metadata": {},
   "outputs": [
    {
     "name": "stdout",
     "output_type": "stream",
     "text": [
      "Time:  1.7683923770000014\n"
     ]
    }
   ],
   "source": [
    "col = \"movie_id\"\n",
    "movie_col = nodes_df[col]\n",
    "movie_adj_raw = get_intersections_length_adj_mat(movie_col)\n",
    "movie_adj_diag = np.diag(np.diag(movie_adj_raw))\n",
    "movie_adj = movie_adj_raw - movie_adj_diag"
   ]
  },
  {
   "cell_type": "code",
   "execution_count": 38,
   "metadata": {},
   "outputs": [
    {
     "data": {
      "text/plain": [
       "<matplotlib.image.AxesImage at 0x10c02b908>"
      ]
     },
     "execution_count": 38,
     "metadata": {},
     "output_type": "execute_result"
    },
    {
     "data": {
      "image/png": "[encoded data removed]",
      "text/plain": [
       "<Figure size 432x288 with 1 Axes>"
      ]
     },
     "metadata": {
      "needs_background": "light"
     },
     "output_type": "display_data"
    }
   ],
   "source": [
    "plt.spy(movie_adj)"
   ]
  },
  {
   "cell_type": "code",
   "execution_count": 39,
   "metadata": {},
   "outputs": [],
   "source": [
    "np.save(\"movie_adj\", movie_adj)"
   ]
  },
  {
   "cell_type": "markdown",
   "metadata": {},
   "source": [
    "## Get movies union length mat"
   ]
  },
  {
   "cell_type": "code",
   "execution_count": 40,
   "metadata": {},
   "outputs": [
    {
     "name": "stdout",
     "output_type": "stream",
     "text": [
      "Time:  2.081847691\n"
     ]
    }
   ],
   "source": [
    "col = \"movie_id\"\n",
    "movie_col = nodes_df[col]\n",
    "movie_adj_union_raw = get_unions_length_adj_mat(movie_col)\n",
    "movie_adj_union_diag = np.diag(np.diag(movie_adj_union_raw))\n",
    "movie_adj_union = movie_adj_union_raw - movie_adj_union_diag"
   ]
  },
  {
   "cell_type": "code",
   "execution_count": 41,
   "metadata": {},
   "outputs": [
    {
     "data": {
      "text/plain": [
       "<matplotlib.image.AxesImage at 0x11b268ac8>"
      ]
     },
     "execution_count": 41,
     "metadata": {},
     "output_type": "execute_result"
    },
    {
     "data": {
      "image/png": "[encoded data removed]",
      "text/plain": [
       "<Figure size 432x288 with 1 Axes>"
      ]
     },
     "metadata": {
      "needs_background": "light"
     },
     "output_type": "display_data"
    }
   ],
   "source": [
    "plt.imshow(movie_adj_union, cmap=\"hot\", interpolation=\"none\")"
   ]
  },
  {
   "cell_type": "code",
   "execution_count": 42,
   "metadata": {},
   "outputs": [],
   "source": [
    "np.save(\"movie_adj_union\", movie_adj_union)"
   ]
  },
  {
   "cell_type": "markdown",
   "metadata": {},
   "source": [
    "## Get directors intersections lenght mat"
   ]
  },
  {
   "cell_type": "code",
   "execution_count": 43,
   "metadata": {},
   "outputs": [
    {
     "name": "stdout",
     "output_type": "stream",
     "text": [
      "Time:  1.7957613200000004\n"
     ]
    }
   ],
   "source": [
    "col = \"crew\"\n",
    "crew_col = nodes_df[col]\n",
    "crew_adj_raw = get_intersections_length_adj_mat(crew_col)\n",
    "crew_adj_diag = np.diag(np.diag(crew_adj_raw))\n",
    "crew_adj = crew_adj_raw - crew_adj_diag"
   ]
  },
  {
   "cell_type": "code",
   "execution_count": 44,
   "metadata": {},
   "outputs": [
    {
     "data": {
      "text/plain": [
       "<matplotlib.image.AxesImage at 0x11b11a2b0>"
      ]
     },
     "execution_count": 44,
     "metadata": {},
     "output_type": "execute_result"
    },
    {
     "data": {
      "image/png": "[encoded data removed]",
      "text/plain": [
       "<Figure size 432x288 with 1 Axes>"
      ]
     },
     "metadata": {
      "needs_background": "light"
     },
     "output_type": "display_data"
    }
   ],
   "source": [
    "plt.spy(crew_adj)"
   ]
  },
  {
   "cell_type": "code",
   "execution_count": 45,
   "metadata": {},
   "outputs": [],
   "source": [
    "np.save(\"crew_adj\", crew_adj)"
   ]
  },
  {
   "cell_type": "markdown",
   "metadata": {},
   "source": [
    "## Get directors union length mat"
   ]
  },
  {
   "cell_type": "code",
   "execution_count": 46,
   "metadata": {},
   "outputs": [
    {
     "name": "stdout",
     "output_type": "stream",
     "text": [
      "Time:  2.249620412999999\n"
     ]
    }
   ],
   "source": [
    "col = \"crew\"\n",
    "crew_col = nodes_df[col]\n",
    "crew_adj_union_raw = get_unions_length_adj_mat(crew_col)\n",
    "crew_adj_union_diag = np.diag(np.diag(crew_adj_union_raw))\n",
    "crew_adj_union = crew_adj_union_raw - crew_adj_union_diag"
   ]
  },
  {
   "cell_type": "code",
   "execution_count": 47,
   "metadata": {},
   "outputs": [
    {
     "data": {
      "text/plain": [
       "<matplotlib.image.AxesImage at 0x11becd518>"
      ]
     },
     "execution_count": 47,
     "metadata": {},
     "output_type": "execute_result"
    },
    {
     "data": {
      "image/png": "[encoded data removed]",
      "text/plain": [
       "<Figure size 432x288 with 1 Axes>"
      ]
     },
     "metadata": {
      "needs_background": "light"
     },
     "output_type": "display_data"
    }
   ],
   "source": [
    "plt.imshow(crew_adj_union, cmap=\"hot\", interpolation=\"none\")"
   ]
  },
  {
   "cell_type": "code",
   "execution_count": 48,
   "metadata": {},
   "outputs": [],
   "source": [
    "np.save(\"crew_adj_union\", crew_adj_union)"
   ]
  },
  {
   "cell_type": "markdown",
   "metadata": {},
   "source": [
    "## Get production companies intersections length mat"
   ]
  },
  {
   "cell_type": "code",
   "execution_count": 49,
   "metadata": {},
   "outputs": [
    {
     "name": "stdout",
     "output_type": "stream",
     "text": [
      "Time:  2.109672463999999\n"
     ]
    }
   ],
   "source": [
    "col = \"production_companies\"\n",
    "prod_comp_col = nodes_df[col]\n",
    "prod_comp_adj_raw = get_intersections_length_adj_mat(prod_comp_col)\n",
    "prod_comp_adj_diag = np.diag(np.diag(prod_comp_adj_raw))\n",
    "prod_comp_adj = prod_comp_adj_raw - prod_comp_adj_diag"
   ]
  },
  {
   "cell_type": "code",
   "execution_count": 50,
   "metadata": {},
   "outputs": [
    {
     "data": {
      "text/plain": [
       "<matplotlib.image.AxesImage at 0x11bf88940>"
      ]
     },
     "execution_count": 50,
     "metadata": {},
     "output_type": "execute_result"
    },
    {
     "data": {
      "image/png": "[encoded data removed]",
      "text/plain": [
       "<Figure size 432x288 with 1 Axes>"
      ]
     },
     "metadata": {
      "needs_background": "light"
     },
     "output_type": "display_data"
    }
   ],
   "source": [
    "plt.spy(prod_comp_adj)"
   ]
  },
  {
   "cell_type": "code",
   "execution_count": 51,
   "metadata": {},
   "outputs": [],
   "source": [
    "np.save(\"prod_comp_adj\", prod_comp_adj)"
   ]
  },
  {
   "cell_type": "markdown",
   "metadata": {},
   "source": [
    "## Get production companies unions length mat"
   ]
  },
  {
   "cell_type": "code",
   "execution_count": 52,
   "metadata": {},
   "outputs": [
    {
     "name": "stdout",
     "output_type": "stream",
     "text": [
      "Time:  4.080618467000001\n"
     ]
    }
   ],
   "source": [
    "col = \"production_companies\"\n",
    "prod_comp_col = nodes_df[col]\n",
    "prod_comp_adj_union_raw = get_unions_length_adj_mat(prod_comp_col)\n",
    "prod_comp_adj_union_diag = np.diag(np.diag(prod_comp_adj_union_raw))\n",
    "prod_comp_adj_union = prod_comp_adj_union_raw - prod_comp_adj_union_diag"
   ]
  },
  {
   "cell_type": "code",
   "execution_count": 53,
   "metadata": {},
   "outputs": [
    {
     "data": {
      "text/plain": [
       "<matplotlib.image.AxesImage at 0x11c023588>"
      ]
     },
     "execution_count": 53,
     "metadata": {},
     "output_type": "execute_result"
    },
    {
     "data": {
      "image/png": "[encoded data removed]",
      "text/plain": [
       "<Figure size 432x288 with 1 Axes>"
      ]
     },
     "metadata": {
      "needs_background": "light"
     },
     "output_type": "display_data"
    }
   ],
   "source": [
    "plt.imshow(prod_comp_adj_union, cmap=\"hot\", interpolation=\"none\")"
   ]
  },
  {
   "cell_type": "code",
   "execution_count": 54,
   "metadata": {},
   "outputs": [],
   "source": [
    "np.save(\"prod_comp_adj_union\", prod_comp_adj_union)"
   ]
  },
  {
   "cell_type": "markdown",
   "metadata": {},
   "source": [
    "## Get genres intersections length mat"
   ]
  },
  {
   "cell_type": "code",
   "execution_count": 55,
   "metadata": {},
   "outputs": [
    {
     "name": "stdout",
     "output_type": "stream",
     "text": [
      "Time:  2.439012875000003\n"
     ]
    }
   ],
   "source": [
    "col = \"genres\"\n",
    "genres_col = nodes_df[col]\n",
    "genres_adj_raw = get_intersections_length_adj_mat(genres_col)\n",
    "genres_adj_diag = np.diag(np.diag(genres_adj_raw))\n",
    "genres_adj = genres_adj_raw - genres_adj_diag"
   ]
  },
  {
   "cell_type": "code",
   "execution_count": 56,
   "metadata": {},
   "outputs": [
    {
     "data": {
      "text/plain": [
       "<matplotlib.image.AxesImage at 0x11c0bc630>"
      ]
     },
     "execution_count": 56,
     "metadata": {},
     "output_type": "execute_result"
    },
    {
     "data": {
      "image/png": "[encoded data removed]",
      "text/plain": [
       "<Figure size 432x288 with 1 Axes>"
      ]
     },
     "metadata": {
      "needs_background": "light"
     },
     "output_type": "display_data"
    }
   ],
   "source": [
    "plt.spy(genres_adj)"
   ]
  },
  {
   "cell_type": "code",
   "execution_count": 57,
   "metadata": {},
   "outputs": [],
   "source": [
    "np.save(\"genres_adj\", genres_adj)"
   ]
  },
  {
   "cell_type": "markdown",
   "metadata": {},
   "source": [
    "## Get genres unions length mat"
   ]
  },
  {
   "cell_type": "code",
   "execution_count": 58,
   "metadata": {},
   "outputs": [
    {
     "name": "stdout",
     "output_type": "stream",
     "text": [
      "Time:  3.134671355000002\n"
     ]
    }
   ],
   "source": [
    "col = \"genres\"\n",
    "genres_col = nodes_df[col]\n",
    "genres_adj_union_raw = get_unions_length_adj_mat(genres_col)\n",
    "genres_adj_union_diag = np.diag(np.diag(genres_adj_union_raw))\n",
    "genres_adj_union = genres_adj_union_raw - genres_adj_union_diag"
   ]
  },
  {
   "cell_type": "code",
   "execution_count": null,
   "metadata": {},
   "outputs": [
    {
     "data": {
      "text/plain": [
       "<matplotlib.image.AxesImage at 0x11c148240>"
      ]
     },
     "execution_count": 59,
     "metadata": {},
     "output_type": "execute_result"
    }
   ],
   "source": [
    "plt.imshow(genres_adj_union, cmap=\"hot\", interpolation=\"none\")"
   ]
  },
  {
   "cell_type": "code",
   "execution_count": null,
   "metadata": {},
   "outputs": [],
   "source": [
    "np.save(\"genres_adj_union\", genres_adj_union)"
   ]
  },
  {
   "cell_type": "markdown",
   "metadata": {},
   "source": [
    "## Aggregated adjacency matrix"
   ]
  },
  {
   "cell_type": "code",
   "execution_count": null,
   "metadata": {},
   "outputs": [],
   "source": [
    "agg_adj = np.divide(\n",
    "    (\n",
    "        0.3 * cast_adj\n",
    "        + 0.3 * movie_adj\n",
    "        + 0.2 * crew_adj\n",
    "        + 0.1 * genres_adj\n",
    "        + 0.1 * prod_comp_adj\n",
    "    ),\n",
    "    (\n",
    "        0.3 * cast_adj_union\n",
    "        + 0.3 * movie_adj_union\n",
    "        + 0.2 * crew_adj_union\n",
    "        + 0.1 * genres_adj_union\n",
    "        + 0.1 * prod_comp_adj_union\n",
    "    ),\n",
    ")\n",
    "agg_adj = np.where(np.isnan(agg_adj), 0, agg_adj)\n",
    "np.sum(agg_adj)"
   ]
  },
  {
   "cell_type": "code",
   "execution_count": null,
   "metadata": {},
   "outputs": [],
   "source": [
    "plt.spy(agg_adj)"
   ]
  },
  {
   "cell_type": "code",
   "execution_count": null,
   "metadata": {},
   "outputs": [],
   "source": [
    "plt.imshow(agg_adj, cmap=\"hot\", interpolation=\"none\")"
   ]
  },
  {
   "cell_type": "code",
   "execution_count": null,
   "metadata": {},
   "outputs": [],
   "source": [
    "np.min(agg_adj)"
   ]
  },
  {
   "cell_type": "code",
   "execution_count": null,
   "metadata": {},
   "outputs": [],
   "source": [
    "np.max(agg_adj)"
   ]
  },
  {
   "cell_type": "code",
   "execution_count": null,
   "metadata": {},
   "outputs": [],
   "source": [
    "np.save(\"agg_adj\", agg_adj)"
   ]
  },
  {
   "cell_type": "markdown",
   "metadata": {},
   "source": [
    "## Sparsify graph"
   ]
  },
  {
   "cell_type": "code",
   "execution_count": null,
   "metadata": {},
   "outputs": [],
   "source": [
    "agg_adj = np.load(\"agg_adj.npy\")"
   ]
  },
  {
   "cell_type": "code",
   "execution_count": null,
   "metadata": {},
   "outputs": [],
   "source": [
    "def sparsify_adj(adj,epsilon):\n",
    "    return np.where(adj<=epsilon,0,adj)"
   ]
  },
  {
   "cell_type": "code",
   "execution_count": null,
   "metadata": {},
   "outputs": [],
   "source": [
    "percentile = 70\n",
    "eps = np.percentile(agg_adj,70)\n",
    "print(eps)"
   ]
  },
  {
   "cell_type": "code",
   "execution_count": null,
   "metadata": {},
   "outputs": [],
   "source": [
    "sparse_agg_adj = sparsify_adj(agg_adj,eps)"
   ]
  },
  {
   "cell_type": "code",
   "execution_count": null,
   "metadata": {},
   "outputs": [],
   "source": [
    "plt.spy(sparse_agg_adj)"
   ]
  },
  {
   "cell_type": "code",
   "execution_count": null,
   "metadata": {},
   "outputs": [],
   "source": [
    "actors_graph = nx.from_numpy_matrix(sparse_agg_adj)\n"
   ]
  },
  {
   "cell_type": "code",
   "execution_count": null,
   "metadata": {},
   "outputs": [],
   "source": [
    "csr_sparse_agg_adj = sparse.csr_matrix(sparse_agg_adj)"
   ]
  },
  {
   "cell_type": "markdown",
   "metadata": {},
   "source": [
    "## Tests"
   ]
  },
  {
   "cell_type": "markdown",
   "metadata": {},
   "source": [
    "### Test consistency of data"
   ]
  },
  {
   "cell_type": "code",
   "execution_count": null,
   "metadata": {},
   "outputs": [],
   "source": [
    "dict_actor_id.get(\"Sam Worthington\")"
   ]
  },
  {
   "cell_type": "code",
   "execution_count": null,
   "metadata": {},
   "outputs": [],
   "source": [
    "actors_df[actors_df[\"actors\"] == \"Adriana Barraza\"]"
   ]
  },
  {
   "cell_type": "code",
   "execution_count": null,
   "metadata": {},
   "outputs": [],
   "source": [
    "dict_actor_id.get(\"Andreas Berg\")"
   ]
  },
  {
   "cell_type": "code",
   "execution_count": null,
   "metadata": {},
   "outputs": [],
   "source": [
    "actors_df[actors_df[\"actor_id\"] == 1000]"
   ]
  },
  {
   "cell_type": "code",
   "execution_count": null,
   "metadata": {},
   "outputs": [],
   "source": [
    "nodes_df.loc[0, \"cast\"]"
   ]
  },
  {
   "cell_type": "code",
   "execution_count": null,
   "metadata": {},
   "outputs": [],
   "source": [
    "# Test number of actors\n",
    "len(np.unique(actors_agg_df.index.values))"
   ]
  },
  {
   "cell_type": "code",
   "execution_count": null,
   "metadata": {},
   "outputs": [],
   "source": [
    "actors_agg_df"
   ]
  },
  {
   "cell_type": "code",
   "execution_count": null,
   "metadata": {},
   "outputs": [],
   "source": [
    "test_movie_id = actors_agg_df.loc[dict_actor_id.get(\"Sam Worthington\")][\"movie_id\"]\n",
    "test_movie_id"
   ]
  },
  {
   "cell_type": "code",
   "execution_count": null,
   "metadata": {},
   "outputs": [],
   "source": [
    "test_movies_df = unique_movies_df[\n",
    "    unique_movies_df[new_movie_id_col].isin(test_movie_id)\n",
    "]\n",
    "test_movies_df = test_movies_df.merge(\n",
    "    pr_movies_df, right_on=movie_id_col, left_on=movie_id_col\n",
    ")\n",
    "test_movies_df[[movie_id_col, new_movie_id_col, \"title\"]]"
   ]
  },
  {
   "cell_type": "code",
   "execution_count": null,
   "metadata": {},
   "outputs": [],
   "source": [
    "\"Sam Worthington\" in pr_credits_df.loc[0, \"cast\"]"
   ]
  },
  {
   "cell_type": "code",
   "execution_count": null,
   "metadata": {},
   "outputs": [],
   "source": [
    "pr_credits_df.loc[0]"
   ]
  }
 ],
 "metadata": {
  "kernelspec": {
   "display_name": "Python 3",
   "language": "python",
   "name": "python3"
  },
  "language_info": {
   "codemirror_mode": {
    "name": "ipython",
    "version": 3
   },
   "file_extension": ".py",
   "mimetype": "text/x-python",
   "name": "python",
   "nbconvert_exporter": "python",
   "pygments_lexer": "ipython3",
   "version": "3.7.3"
  }
 },
 "nbformat": 4,
 "nbformat_minor": 4
}
