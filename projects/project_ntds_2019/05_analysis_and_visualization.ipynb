{
 "cells": [
  {
   "cell_type": "code",
   "execution_count": null,
   "metadata": {},
   "outputs": [],
   "source": [
    "import collections\n",
    "import math\n",
    "import matplotlib.pyplot as plt\n",
    "import numpy as np\n",
    "import networkx as nx\n",
    "import pandas as pd\n",
    "import seaborn as sns\n",
    "import community\n",
    "from itertools import count"
   ]
  },
  {
   "cell_type": "markdown",
   "metadata": {},
   "source": [
    "# Analysis of the attributes"
   ]
  },
  {
   "cell_type": "code",
   "execution_count": null,
   "metadata": {},
   "outputs": [],
   "source": [
    "actors_agg_adj = np.load(\"sparse_agg_actor_adj.npy\")\n",
    "actors_agg_df = pd.read_pickle(\"actors_agg_df.pkl\")\n",
    "actors_graph = nx.from_numpy_matrix(actors_agg_adj)"
   ]
  },
  {
   "cell_type": "code",
   "execution_count": null,
   "metadata": {},
   "outputs": [],
   "source": [
    "# Add name and gender as node attribute\n",
    "name_dict = {}\n",
    "gender_dict = {}\n",
    "attributes = actors_agg_df[['actors', 'gender']].values\n",
    "for index, attr in enumerate(attributes):\n",
    "          name_dict[index] = attr[0]    \n",
    "          gender_dict[index] = attr[1]\n",
    "\n",
    "nx.set_node_attributes(actors_graph, name_dict, 'name')\n",
    "nx.set_node_attributes(actors_graph, gender_dict, 'gender')"
   ]
  },
  {
   "cell_type": "code",
   "execution_count": null,
   "metadata": {},
   "outputs": [],
   "source": [
    "# Add eigenvector centrality as node attribute\n",
    "eigenvector_dict = nx.eigenvector_centrality(actors_graph)\n",
    "nx.set_node_attributes(actors_graph, eigenvector_dict, 'eigenvector')"
   ]
  },
  {
   "cell_type": "code",
   "execution_count": null,
   "metadata": {},
   "outputs": [],
   "source": [
    "# Create communities using community detection library\n",
    "communities_dict = community.best_partition(actors_graph)\n",
    "# Add community as attribute\n",
    "nx.set_node_attributes(actors_graph, communities_dict, 'community')"
   ]
  },
  {
   "cell_type": "code",
   "execution_count": null,
   "metadata": {
    "collapsed": false,
    "jupyter": {
     "outputs_hidden": false
    },
    "pycharm": {
     "name": "#%%\n"
    }
   },
   "outputs": [],
   "source": [
    "# write in gefx format\n",
    "DATA_PATH = \"data\"\n",
    "nx.write_gexf(actors_graph, f\"{DATA_PATH}/louvain_graph.gexf\")"
   ]
  },
  {
   "cell_type": "code",
   "execution_count": null,
   "metadata": {},
   "outputs": [],
   "source": [
    "# Extract communities to an array of objects\n",
    "communities = []\n",
    "for i in range(max(communities_dict.values()) + 1):\n",
    "    communities.append([actors_graph.node[n] for n in actors_graph.nodes() if actors_graph.node[n]['community'] == i])"
   ]
  },
  {
   "cell_type": "code",
   "execution_count": null,
   "metadata": {},
   "outputs": [],
   "source": [
    "# Extract communities to an array of objects\n",
    "communities = []\n",
    "for i in range(max(communities_dict.values()) + 1):\n",
    "    communities.append([actors_graph.node[n] for n in actors_graph.nodes() if actors_graph.node[n]['community'] == i])"
   ]
  },
  {
   "cell_type": "code",
   "execution_count": null,
   "metadata": {},
   "outputs": [],
   "source": [
    "# Create dataframe from extracted communities \n",
    "communities_df = [pd.DataFrame(n) for n in communities]"
   ]
  },
  {
   "cell_type": "code",
   "execution_count": null,
   "metadata": {},
   "outputs": [],
   "source": [
    "# Find representatives of each class by eigenvector centrality\n",
    "for index, community in enumerate(communities_df):\n",
    "    print(f'Representatives of community {index} with a size of {len(community.index)} actors\\n{community.nlargest(10, \"eigenvector\")}\\n')"
   ]
  },
  {
   "cell_type": "markdown",
   "metadata": {},
   "source": [
    "We can observe that in community 2 we have notable A-list actors while in the smallest one (community 4) we have celebrities who might have participated in some movies but are not really actors."
   ]
  },
  {
   "cell_type": "markdown",
   "metadata": {},
   "source": [
    "# Visualization"
   ]
  },
  {
   "cell_type": "code",
   "execution_count": null,
   "metadata": {},
   "outputs": [],
   "source": [
    "# Visualize with colors per community\n",
    "groups = set(nx.get_node_attributes(actors_graph,'community').values())\n",
    "mapping = dict(zip(sorted(groups),count()))\n",
    "nodes = actors_graph.nodes()\n",
    "colors = [mapping[actors_graph.node[n]['community']] for n in nodes]\n",
    "\n",
    "# Drawing nodes and edges separately to add colors\n",
    "plt.figure(figsize=(28, 7))\n",
    "pos = nx.spring_layout(actors_graph)\n",
    "ec = nx.draw_networkx_edges(actors_graph, pos, alpha=0.1, width=0.7)\n",
    "nc = nx.draw_networkx_nodes(actors_graph, pos, nodelist=nodes, node_color=colors, \n",
    "                            with_labels=False, node_size=10, cmap=plt.cm.jet)\n",
    "plt.colorbar(nc)\n",
    "plt.axis('off')\n",
    "plt.title(\"Louvain Communities\")\n",
    "plt.savefig(\"plots/louvain.pdf\")\n",
    "plt.show()"
   ]
  },
  {
   "cell_type": "markdown",
   "metadata": {},
   "source": [
    "We can observe that community 2 (the famous A-list actors) tend to work together more often, and also with a selection of actors from other communities. Some mid-tier actors are popular and mix with many other communities, while some are stuck in their own community. The celebrities who are not really actors (community 4) are very separated from other actors communities."
   ]
  },
  {
   "cell_type": "markdown",
   "metadata": {},
   "source": [
    "# Explain communities with logistic regression on signals"
   ]
  },
  {
   "cell_type": "code",
   "execution_count": null,
   "metadata": {},
   "outputs": [],
   "source": [
    "from sklearn.linear_model import LogisticRegression\n",
    "from sklearn.metrics import accuracy_score\n",
    "from sklearn.model_selection import train_test_split\n",
    "from sklearn.preprocessing import StandardScaler"
   ]
  },
  {
   "cell_type": "code",
   "execution_count": null,
   "metadata": {},
   "outputs": [],
   "source": [
    "actors_id_df = actors_agg_df[[\"actors\"]].reset_index()\n",
    "actors_id_df.head()"
   ]
  },
  {
   "cell_type": "code",
   "execution_count": null,
   "metadata": {},
   "outputs": [],
   "source": [
    "communities_df = pd.concat(communities_df).drop(columns=[\"gender\",\"eigenvector\"])\n",
    "print(len(communities_df))\n",
    "communities_df.head()"
   ]
  },
  {
   "cell_type": "code",
   "execution_count": null,
   "metadata": {},
   "outputs": [],
   "source": [
    "community_labels_df = communities_df.merge(actors_id_df,left_on=\"name\",right_on=\"actors\").drop(columns=[\"name\"]).set_index(\"actor_id\")\n",
    "print(np.unique(community_labels_df.index))\n",
    "print(len(np.unique(community_labels_df.index)))\n",
    "community_labels_df.head()\n"
   ]
  },
  {
   "cell_type": "code",
   "execution_count": null,
   "metadata": {},
   "outputs": [],
   "source": [
    "community_labels_df=community_labels_df.drop(columns=[\"actors\"])\n",
    "community_labels_df.head()"
   ]
  },
  {
   "cell_type": "code",
   "execution_count": null,
   "metadata": {},
   "outputs": [],
   "source": [
    "actors_dataset_df = actors_agg_df.join(community_labels_df)[[\"budget\",\"popularity\",\"revenue\",\"vote_average\",\"vote_count\",\"community\"]]\n",
    "actors_dataset_df.head()"
   ]
  },
  {
   "cell_type": "markdown",
   "metadata": {},
   "source": [
    "### Save dataset with communities"
   ]
  },
  {
   "cell_type": "code",
   "execution_count": null,
   "metadata": {},
   "outputs": [],
   "source": [
    "actors_dataset_df.to_pickle(\"actors_dataset_df.pkl\")"
   ]
  },
  {
   "cell_type": "code",
   "execution_count": null,
   "metadata": {},
   "outputs": [],
   "source": [
    "actors_dataset = actors_dataset_df.values\n",
    "X = actors_dataset[:,1:-1]\n",
    "y = actors_dataset[:,-1]\n",
    "train_features,test_features,train_labels,test_labels=train_test_split(X,y,test_size=0.2)"
   ]
  },
  {
   "cell_type": "code",
   "execution_count": null,
   "metadata": {},
   "outputs": [],
   "source": [
    "# Fit a logistic regression model\n",
    "# Your code here\n",
    "max_iter = 10000000\n",
    "std_scaler = StandardScaler()\n",
    "scaled_train_features = std_scaler.fit_transform(train_features)\n",
    "model = LogisticRegression(\n",
    "    solver=\"liblinear\", multi_class=\"auto\", max_iter=max_iter, C=10000\n",
    ")\n",
    "model.fit(scaled_train_features, train_labels)\n",
    "scaled_test_features = std_scaler.transform(test_features)\n",
    "predict_train = model.predict(scaled_train_features)\n",
    "predict_test = model.predict(scaled_test_features)"
   ]
  },
  {
   "cell_type": "code",
   "execution_count": null,
   "metadata": {
    "pycharm": {
     "name": "#%%\n"
    }
   },
   "outputs": [],
   "source": [
    "accuracy=accuracy_score(test_labels,predict_test)\n",
    "print(\"Accuracy: \" +str(accuracy))"
   ]
  },
  {
   "cell_type": "markdown",
   "metadata": {
    "pycharm": {
     "name": "#%% md\n"
    }
   },
   "source": [
    "# Boxplots of signals on communities"
   ]
  },
  {
   "cell_type": "code",
   "execution_count": null,
   "metadata": {
    "collapsed": false,
    "jupyter": {
     "outputs_hidden": false
    },
    "pycharm": {
     "name": "#%%\n"
    }
   },
   "outputs": [],
   "source": [
    "signals = [\"budget\",\"popularity\",\"vote_average\",\"vote_count\"]\n",
    "fig, ax = plt.subplots(4,1,figsize=(10,15),sharex= True)\n",
    "actors_dataset_df.boxplot(signals,ax=ax,by=\"community\",)"
   ]
  }
 ],
 "metadata": {
  "kernelspec": {
   "display_name": "Python 3",
   "language": "python",
   "name": "python3"
  },
  "language_info": {
   "codemirror_mode": {
    "name": "ipython",
    "version": 3
   },
   "file_extension": ".py",
   "mimetype": "text/x-python",
   "name": "python",
   "nbconvert_exporter": "python",
   "pygments_lexer": "ipython3",
   "version": "3.7.3"
  },
  "pycharm": {
   "stem_cell": {
    "cell_type": "raw",
    "metadata": {
     "collapsed": false
    },
    "source": []
   }
  }
 },
 "nbformat": 4,
 "nbformat_minor": 4
}
