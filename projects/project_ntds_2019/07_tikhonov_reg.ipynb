{
 "cells": [
  {
   "cell_type": "markdown",
   "metadata": {},
   "source": [
    "# Tikhonov regularization"
   ]
  },
  {
   "cell_type": "markdown",
   "metadata": {},
   "source": [
    "In this notebook we are going to predict the aggregated popularity, revenue and budget for actors using Tikhonov Regularization"
   ]
  },
  {
   "cell_type": "code",
   "execution_count": null,
   "metadata": {},
   "outputs": [],
   "source": [
    "import pandas as pd\n",
    "import numpy as np\n",
    "import matplotlib.pyplot as plt\n",
    "import json\n",
    "import csv\n",
    "import pyunlocbox\n",
    "import time\n",
    "from sklearn.metrics import mean_squared_error, mean_absolute_error\n",
    "from sklearn.linear_model import LinearRegression\n",
    "from sklearn.preprocessing import OneHotEncoder\n",
    "from sklearn.model_selection import train_test_split\n",
    "from project_utils import *\n",
    "from pygsp import graphs, plotting"
   ]
  },
  {
   "cell_type": "code",
   "execution_count": null,
   "metadata": {},
   "outputs": [],
   "source": [
    "seed = 42\n",
    "actors_agg_adj = np.load(\"sparse_agg_actor_adj.npy\")\n",
    "actors_dataset_df = pd.read_pickle(\"actors_dataset_df.pkl\")\n",
    "G = graphs.Graph(actors_agg_adj)\n",
    "G.set_coordinates(kind=\"spring\",seed=seed)"
   ]
  },
  {
   "cell_type": "code",
   "execution_count": null,
   "metadata": {},
   "outputs": [],
   "source": [
    "budget_signal = actors_dataset_df[\"budget\"]\n",
    "popularity_signal = actors_dataset_df[\"popularity\"]\n",
    "vote_average_signal = actors_dataset_df[\"vote_average\"]\n",
    "revenue_signal = actors_dataset_df[\"revenue\"]"
   ]
  },
  {
   "cell_type": "markdown",
   "metadata": {},
   "source": [
    "## Budget signal"
   ]
  },
  {
   "cell_type": "code",
   "execution_count": null,
   "metadata": {},
   "outputs": [],
   "source": [
    "fig,ax = plt.subplots(figsize = (20,15))\n",
    "G.plot_signal(budget_signal,ax=ax,plot_name = \"Budget [$]\\n G.N={:2d} nodes, G.Ne={:2d} edges\".format(G.N,G.Ne))"
   ]
  },
  {
   "cell_type": "code",
   "execution_count": null,
   "metadata": {},
   "outputs": [],
   "source": [
    "rs = np.random.RandomState(42)\n",
    "M = rs.rand(G.N)\n",
    "M = (M > 0.6).astype(float)\n",
    "\n",
    "sigma = 0.1\n",
    "subsampled_budget_signal = M * (budget_signal + sigma * rs.standard_normal(G.N))\n",
    "fig,ax = plt.subplots(figsize = (20,15))\n",
    "G.plot_signal(subsampled_budget_signal,ax=ax,plot_name = \"Budget [$]\\n G.N={:2d} nodes, G.Ne={:2d} edges\".format(G.N,G.Ne))"
   ]
  },
  {
   "cell_type": "code",
   "execution_count": null,
   "metadata": {},
   "outputs": [],
   "source": [
    "gamma = 3.0\n",
    "d = pyunlocbox.functions.dummy()\n",
    "r = pyunlocbox.functions.norm_l1()\n",
    "f = pyunlocbox.functions.norm_l2(w=M, y=subsampled_budget_signal,\n",
    "                                  lambda_=gamma)\n",
    "G.compute_differential_operator()\n",
    "L = G.D.toarray()\n",
    "step = 0.999 / (1 + np.linalg.norm(L))\n",
    "solver = pyunlocbox.solvers.mlfbf(L=L, step=step)\n",
    "\n",
    "start_time = time.time()\n",
    "x0 = subsampled_budget_signal.copy()\n",
    "budget1 = pyunlocbox.solvers.solve([d, r, f], solver=solver, x0=x0, rtol=0, maxit=1000)\n",
    "print(\"---Solve operation took %s seconds ---\" % (time.time() - start_time))"
   ]
  },
  {
   "cell_type": "code",
   "execution_count": null,
   "metadata": {},
   "outputs": [],
   "source": [
    "fig, ax = plt.subplots(figsize=(15,15))\n",
    "G.plot_signal(budget1['sol'],ax=ax,plot_name = \"Budget [$]\\n G.N={:2d} nodes, G.Ne={:2d} edges\".format(G.N,G.Ne))"
   ]
  },
  {
   "cell_type": "code",
   "execution_count": null,
   "metadata": {},
   "outputs": [],
   "source": [
    "budget_nmae = nmae(budget1['sol'],budget_signal,\"range\")\n",
    "print(\"Normalized MAE budget: \"+str(budget_nmae))"
   ]
  },
  {
   "cell_type": "markdown",
   "metadata": {},
   "source": [
    "## Popularity signal"
   ]
  },
  {
   "cell_type": "code",
   "execution_count": null,
   "metadata": {},
   "outputs": [],
   "source": [
    "fig,ax = plt.subplots(figsize = (20,15))\n",
    "G.plot_signal(popularity_signal,ax=ax,plot_name = \"Popularity \\n G.N={:2d} nodes, G.Ne={:2d} edges\".format(G.N,G.Ne))"
   ]
  },
  {
   "cell_type": "code",
   "execution_count": null,
   "metadata": {},
   "outputs": [],
   "source": [
    "rs = np.random.RandomState(42)\n",
    "M = rs.rand(G.N)\n",
    "M = (M > 0.6).astype(float)\n",
    "\n",
    "sigma = 0.1\n",
    "subsampled_popularity_signal = M * (popularity_signal + sigma * rs.standard_normal(G.N))\n",
    "fig,ax = plt.subplots(figsize = (20,15))\n",
    "G.plot_signal(subsampled_popularity_signal,ax=ax,plot_name = \"Popularity \\n G.N={:2d} nodes, G.Ne={:2d} edges\".format(G.N,G.Ne))"
   ]
  },
  {
   "cell_type": "code",
   "execution_count": null,
   "metadata": {},
   "outputs": [],
   "source": [
    "gamma = 3.0\n",
    "d = pyunlocbox.functions.dummy()\n",
    "r = pyunlocbox.functions.norm_l1()\n",
    "f = pyunlocbox.functions.norm_l2(w=M, y=subsampled_popularity_signal,\n",
    "                                  lambda_=gamma)\n",
    "G.compute_differential_operator()\n",
    "L = G.D.toarray()\n",
    "step = 0.999 / (1 + np.linalg.norm(L))\n",
    "solver = pyunlocbox.solvers.mlfbf(L=L, step=step)\n",
    "\n",
    "start_time = time.time()\n",
    "x0 = subsampled_popularity_signal.copy()\n",
    "popularity1 = pyunlocbox.solvers.solve([d, r, f], solver=solver, x0=x0, rtol=0, maxit=1000)\n",
    "print(\"---Solve operation took %s seconds ---\" % (time.time() - start_time))"
   ]
  },
  {
   "cell_type": "code",
   "execution_count": null,
   "metadata": {},
   "outputs": [],
   "source": [
    "fig, ax = plt.subplots(figsize=(15,15))\n",
    "G.plot_signal(popularity1['sol'],ax=ax,plot_name = \"Popularity\\n G.N={:2d} nodes, G.Ne={:2d} edges\".format(G.N,G.Ne))"
   ]
  },
  {
   "cell_type": "code",
   "execution_count": null,
   "metadata": {},
   "outputs": [],
   "source": [
    "popularity_nmae = nmae(popularity1['sol'],popularity_signal,\"range\")\n",
    "print(\"Normalized MAE popularity: \"+str(popularity_nmae))"
   ]
  },
  {
   "cell_type": "markdown",
   "metadata": {},
   "source": [
    "## Vote average signal"
   ]
  },
  {
   "cell_type": "code",
   "execution_count": null,
   "metadata": {},
   "outputs": [],
   "source": [
    "fig,ax = plt.subplots(figsize = (20,15))\n",
    "G.plot_signal(vote_average_signal,ax=ax,plot_name = \"Vote average \\n G.N={:2d} nodes, G.Ne={:2d} edges\".format(G.N,G.Ne))"
   ]
  },
  {
   "cell_type": "code",
   "execution_count": null,
   "metadata": {},
   "outputs": [],
   "source": [
    "rs = np.random.RandomState(42)\n",
    "M = rs.rand(G.N)\n",
    "M = (M > 0.6).astype(float)\n",
    "\n",
    "sigma = 0.1\n",
    "subsampled_vote_average_signal = M * (vote_average_signal + sigma * rs.standard_normal(G.N))\n",
    "fig,ax = plt.subplots(figsize = (20,15))\n",
    "G.plot_signal(subsampled_vote_average_signal,ax=ax,plot_name = \"Vote average\\n G.N={:2d} nodes, G.Ne={:2d} edges\".format(G.N,G.Ne))"
   ]
  },
  {
   "cell_type": "code",
   "execution_count": null,
   "metadata": {},
   "outputs": [],
   "source": [
    "gamma = 3.0\n",
    "d = pyunlocbox.functions.dummy()\n",
    "r = pyunlocbox.functions.norm_l1()\n",
    "f = pyunlocbox.functions.norm_l2(w=M, y=subsampled_vote_average_signal,\n",
    "                                  lambda_=gamma)\n",
    "G.compute_differential_operator()\n",
    "L = G.D.toarray()\n",
    "step = 0.999 / (1 + np.linalg.norm(L))\n",
    "solver = pyunlocbox.solvers.mlfbf(L=L, step=step)\n",
    "\n",
    "start_time = time.time()\n",
    "x0 = subsampled_vote_average_signal.copy()\n",
    "vote_average1 = pyunlocbox.solvers.solve([d, r, f], solver=solver, x0=x0, rtol=0, maxit=1000)\n",
    "print(\"---Solve operation took %s seconds ---\" % (time.time() - start_time))"
   ]
  },
  {
   "cell_type": "code",
   "execution_count": null,
   "metadata": {},
   "outputs": [],
   "source": [
    "ig, ax = plt.subplots(figsize=(15,15))\n",
    "G.plot_signal(vote_average1['sol'],ax=ax,plot_name = \"Vote average\\n G.N={:2d} nodes, G.Ne={:2d} edges\".format(G.N,G.Ne))"
   ]
  },
  {
   "cell_type": "code",
   "execution_count": null,
   "metadata": {},
   "outputs": [],
   "source": [
    "vote_average_nmae = nmae(vote_average1['sol'],vote_average_signal,\"range\")\n",
    "print(\"Normalized MAE vote_average: \"+str(vote_average_nmae))"
   ]
  }
 ],
 "metadata": {
  "kernelspec": {
   "display_name": "Python 3 (ntds_2019)",
   "language": "python",
   "name": "ntds_2019"
  },
  "language_info": {
   "codemirror_mode": {
    "name": "ipython",
    "version": 3
   },
   "file_extension": ".py",
   "mimetype": "text/x-python",
   "name": "python",
   "nbconvert_exporter": "python",
   "pygments_lexer": "ipython3",
   "version": "3.7.3"
  }
 },
 "nbformat": 4,
 "nbformat_minor": 4
}
