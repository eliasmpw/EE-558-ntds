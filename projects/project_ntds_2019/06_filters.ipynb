{
 "cells": [
  {
   "cell_type": "code",
   "execution_count": 1,
   "metadata": {},
   "outputs": [],
   "source": [
    "import pandas as pd\n",
    "import networkx as nx\n",
    "import matplotlib.pyplot as plt\n",
    "import numpy as np\n",
    "from scipy import sparse\n",
    "from project_utils import *\n",
    "from pygsp import graphs, filters\n",
    "\n",
    "%load_ext autoreload\n",
    "%autoreload 2"
   ]
  },
  {
   "cell_type": "code",
   "execution_count": 2,
   "metadata": {},
   "outputs": [],
   "source": [
    "actors_agg_adj = np.load(\"sparse_agg_actor_adj.npy\")\n",
    "actors_agg_df = pd.read_pickle(\"actors_agg_df.pkl\")\n",
    "actors_graph = nx.from_numpy_matrix(actors_agg_adj)"
   ]
  },
  {
   "cell_type": "code",
   "execution_count": 3,
   "metadata": {},
   "outputs": [],
   "source": [
    "G = graphs.Graph(actors_agg_adj)"
   ]
  },
  {
   "cell_type": "code",
   "execution_count": 4,
   "metadata": {},
   "outputs": [],
   "source": [
    "#G.set_coordinates('spring')\n",
    "#G.plot()"
   ]
  },
  {
   "cell_type": "code",
   "execution_count": 5,
   "metadata": {},
   "outputs": [],
   "source": [
    "#Laplacian and spectral decomposition\n",
    "G.compute_laplacian('combinatorial')\n",
    "laplacian = G.L.toarray()\n",
    "lam, U = np.linalg.eig(laplacian)"
   ]
  },
  {
   "cell_type": "code",
   "execution_count": 6,
   "metadata": {},
   "outputs": [],
   "source": [
    "# Create ideal filters\n",
    "ideal_hp = np.ones((actors_agg_adj.shape[0],))\n",
    "ideal_hp[lam <= 0.1] = 0  # High-pass filter with cut-off at lambda=0.1"
   ]
  },
  {
   "cell_type": "code",
   "execution_count": 7,
   "metadata": {},
   "outputs": [],
   "source": [
    "order = 3\n",
    "coeff_hp = fit_polynomial(lam, order, ideal_hp)\n",
    "g_hp = polynomial_graph_filter(coeff_hp, laplacian)"
   ]
  },
  {
   "cell_type": "code",
   "execution_count": 8,
   "metadata": {},
   "outputs": [],
   "source": [
    "x_hp_polynomial = g_hp @ actors_agg_adj"
   ]
  },
  {
   "cell_type": "code",
   "execution_count": 9,
   "metadata": {},
   "outputs": [],
   "source": [
    "from sklearn.linear_model import LogisticRegression\n",
    "from sklearn.metrics import accuracy_score\n",
    "from sklearn.model_selection import train_test_split\n",
    "from sklearn.preprocessing import StandardScaler"
   ]
  },
  {
   "cell_type": "code",
   "execution_count": 10,
   "metadata": {},
   "outputs": [],
   "source": [
    "# load communities obtained running notebook 05 \n",
    "actors_dataset = np.load(\"actors_with_communities_dataset.npy\")\n",
    "y = actors_dataset[:,-1]\n",
    "train_features,test_features,train_labels,test_labels=train_test_split(x_hp_polynomial,y,test_size=0.2)"
   ]
  },
  {
   "cell_type": "code",
   "execution_count": 11,
   "metadata": {},
   "outputs": [],
   "source": [
    "# Fit a logistic regression model\n",
    "max_iter = 10000000\n",
    "std_scaler = StandardScaler()\n",
    "scaled_train_features = std_scaler.fit_transform(train_features)\n",
    "model = LogisticRegression(\n",
    "    solver=\"liblinear\", multi_class=\"auto\", max_iter=max_iter, C=10000\n",
    ")\n",
    "model.fit(scaled_train_features, train_labels)\n",
    "scaled_test_features = std_scaler.transform(test_features)\n",
    "predict_train = model.predict(scaled_train_features)\n",
    "predict_test = model.predict(scaled_test_features)"
   ]
  },
  {
   "cell_type": "code",
   "execution_count": 12,
   "metadata": {},
   "outputs": [
    {
     "name": "stdout",
     "output_type": "stream",
     "text": [
      "Accuracy: 0.9367088607594937\n"
     ]
    }
   ],
   "source": [
    "# Logistic regression accuracy on filtered adj matrix\n",
    "accuracy = accuracy_score(test_labels,predict_test)\n",
    "print(\"Accuracy: \" +str(accuracy))"
   ]
  },
  {
   "cell_type": "code",
   "execution_count": null,
   "metadata": {},
   "outputs": [],
   "source": []
  }
 ],
 "metadata": {
  "kernelspec": {
   "display_name": "Python 3",
   "language": "python",
   "name": "python3"
  },
  "language_info": {
   "codemirror_mode": {
    "name": "ipython",
    "version": 3
   },
   "file_extension": ".py",
   "mimetype": "text/x-python",
   "name": "python",
   "nbconvert_exporter": "python",
   "pygments_lexer": "ipython3",
   "version": "3.7.3"
  }
 },
 "nbformat": 4,
 "nbformat_minor": 4
}
