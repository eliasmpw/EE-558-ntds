{
 "cells": [
  {
   "cell_type": "code",
   "execution_count": 1,
   "metadata": {},
   "outputs": [],
   "source": [
    "import pandas as pd\n",
    "import json\n",
    "import matplotlib.pyplot as plt\n",
    "import numpy as np\n",
    "import json\n",
    "from pandas.io.json import json_normalize\n",
    "from functools import reduce"
   ]
  },
  {
   "cell_type": "code",
   "execution_count": 2,
   "metadata": {},
   "outputs": [],
   "source": [
    "def col_json_to_dict(df, cols):\n",
    "    \"Transform the json values inside a column into list of dictionaries\"\n",
    "    transformed_df = df\n",
    "    for col in cols:\n",
    "        transformed_df = transformed_df.assign(**{col: df[col].apply(json.loads)})\n",
    "    return transformed_df"
   ]
  },
  {
   "cell_type": "code",
   "execution_count": 3,
   "metadata": {},
   "outputs": [],
   "source": [
    "def col_dict_to_set(df, col, key):\n",
    "    \"Create a set from the values of the dictionaries give a key\"\n",
    "    get_set = lambda dict_list: set([dict_.get(key) for dict_ in dict_list])\n",
    "    return df.assign(**{col: df[col].apply(get_set)})"
   ]
  },
  {
   "cell_type": "code",
   "execution_count": 4,
   "metadata": {},
   "outputs": [],
   "source": [
    "def col_filter_dict_with_vals(df, col, field, values):\n",
    "    \"Filter dictionaries with specific values from a column with lists of dictionaries\"\n",
    "    filter_dicts = lambda dict_list: [\n",
    "        dict_ for dict_ in dict_list if dict_.get(field) in values\n",
    "    ]\n",
    "    return df.assign(**{col: df[col].apply(filter_dicts)})"
   ]
  },
  {
   "cell_type": "code",
   "execution_count": 5,
   "metadata": {},
   "outputs": [
    {
     "data": {
      "text/html": [
       "<div>\n",
       "<style scoped>\n",
       "    .dataframe tbody tr th:only-of-type {\n",
       "        vertical-align: middle;\n",
       "    }\n",
       "\n",
       "    .dataframe tbody tr th {\n",
       "        vertical-align: top;\n",
       "    }\n",
       "\n",
       "    .dataframe thead th {\n",
       "        text-align: right;\n",
       "    }\n",
       "</style>\n",
       "<table border=\"1\" class=\"dataframe\">\n",
       "  <thead>\n",
       "    <tr style=\"text-align: right;\">\n",
       "      <th></th>\n",
       "      <th>movie_id</th>\n",
       "      <th>title</th>\n",
       "      <th>cast</th>\n",
       "      <th>crew</th>\n",
       "    </tr>\n",
       "  </thead>\n",
       "  <tbody>\n",
       "    <tr>\n",
       "      <th>0</th>\n",
       "      <td>19995</td>\n",
       "      <td>Avatar</td>\n",
       "      <td>[{\"cast_id\": 242, \"character\": \"Jake Sully\", \"...</td>\n",
       "      <td>[{\"credit_id\": \"52fe48009251416c750aca23\", \"de...</td>\n",
       "    </tr>\n",
       "    <tr>\n",
       "      <th>1</th>\n",
       "      <td>285</td>\n",
       "      <td>Pirates of the Caribbean: At World's End</td>\n",
       "      <td>[{\"cast_id\": 4, \"character\": \"Captain Jack Spa...</td>\n",
       "      <td>[{\"credit_id\": \"52fe4232c3a36847f800b579\", \"de...</td>\n",
       "    </tr>\n",
       "    <tr>\n",
       "      <th>2</th>\n",
       "      <td>206647</td>\n",
       "      <td>Spectre</td>\n",
       "      <td>[{\"cast_id\": 1, \"character\": \"James Bond\", \"cr...</td>\n",
       "      <td>[{\"credit_id\": \"54805967c3a36829b5002c41\", \"de...</td>\n",
       "    </tr>\n",
       "    <tr>\n",
       "      <th>3</th>\n",
       "      <td>49026</td>\n",
       "      <td>The Dark Knight Rises</td>\n",
       "      <td>[{\"cast_id\": 2, \"character\": \"Bruce Wayne / Ba...</td>\n",
       "      <td>[{\"credit_id\": \"52fe4781c3a36847f81398c3\", \"de...</td>\n",
       "    </tr>\n",
       "    <tr>\n",
       "      <th>4</th>\n",
       "      <td>49529</td>\n",
       "      <td>John Carter</td>\n",
       "      <td>[{\"cast_id\": 5, \"character\": \"John Carter\", \"c...</td>\n",
       "      <td>[{\"credit_id\": \"52fe479ac3a36847f813eaa3\", \"de...</td>\n",
       "    </tr>\n",
       "  </tbody>\n",
       "</table>\n",
       "</div>"
      ],
      "text/plain": [
       "   movie_id                                     title  \\\n",
       "0     19995                                    Avatar   \n",
       "1       285  Pirates of the Caribbean: At World's End   \n",
       "2    206647                                   Spectre   \n",
       "3     49026                     The Dark Knight Rises   \n",
       "4     49529                               John Carter   \n",
       "\n",
       "                                                cast  \\\n",
       "0  [{\"cast_id\": 242, \"character\": \"Jake Sully\", \"...   \n",
       "1  [{\"cast_id\": 4, \"character\": \"Captain Jack Spa...   \n",
       "2  [{\"cast_id\": 1, \"character\": \"James Bond\", \"cr...   \n",
       "3  [{\"cast_id\": 2, \"character\": \"Bruce Wayne / Ba...   \n",
       "4  [{\"cast_id\": 5, \"character\": \"John Carter\", \"c...   \n",
       "\n",
       "                                                crew  \n",
       "0  [{\"credit_id\": \"52fe48009251416c750aca23\", \"de...  \n",
       "1  [{\"credit_id\": \"52fe4232c3a36847f800b579\", \"de...  \n",
       "2  [{\"credit_id\": \"54805967c3a36829b5002c41\", \"de...  \n",
       "3  [{\"credit_id\": \"52fe4781c3a36847f81398c3\", \"de...  \n",
       "4  [{\"credit_id\": \"52fe479ac3a36847f813eaa3\", \"de...  "
      ]
     },
     "execution_count": 5,
     "metadata": {},
     "output_type": "execute_result"
    }
   ],
   "source": [
    "credits_df = pd.read_csv(\"./data/tmdb_5000_credits.csv\", sep=\",\", quotechar='\"')\n",
    "credits_df.head()"
   ]
  },
  {
   "cell_type": "code",
   "execution_count": 6,
   "metadata": {},
   "outputs": [
    {
     "data": {
      "text/html": [
       "<div>\n",
       "<style scoped>\n",
       "    .dataframe tbody tr th:only-of-type {\n",
       "        vertical-align: middle;\n",
       "    }\n",
       "\n",
       "    .dataframe tbody tr th {\n",
       "        vertical-align: top;\n",
       "    }\n",
       "\n",
       "    .dataframe thead th {\n",
       "        text-align: right;\n",
       "    }\n",
       "</style>\n",
       "<table border=\"1\" class=\"dataframe\">\n",
       "  <thead>\n",
       "    <tr style=\"text-align: right;\">\n",
       "      <th></th>\n",
       "      <th>budget</th>\n",
       "      <th>genres</th>\n",
       "      <th>homepage</th>\n",
       "      <th>movie_id</th>\n",
       "      <th>keywords</th>\n",
       "      <th>original_language</th>\n",
       "      <th>original_title</th>\n",
       "      <th>overview</th>\n",
       "      <th>popularity</th>\n",
       "      <th>production_companies</th>\n",
       "      <th>production_countries</th>\n",
       "      <th>release_date</th>\n",
       "      <th>revenue</th>\n",
       "      <th>runtime</th>\n",
       "      <th>spoken_languages</th>\n",
       "      <th>status</th>\n",
       "      <th>tagline</th>\n",
       "      <th>title</th>\n",
       "      <th>vote_average</th>\n",
       "      <th>vote_count</th>\n",
       "    </tr>\n",
       "  </thead>\n",
       "  <tbody>\n",
       "    <tr>\n",
       "      <th>0</th>\n",
       "      <td>237000000</td>\n",
       "      <td>[{\"id\": 28, \"name\": \"Action\"}, {\"id\": 12, \"nam...</td>\n",
       "      <td>http://www.avatarmovie.com/</td>\n",
       "      <td>19995</td>\n",
       "      <td>[{\"id\": 1463, \"name\": \"culture clash\"}, {\"id\":...</td>\n",
       "      <td>en</td>\n",
       "      <td>Avatar</td>\n",
       "      <td>In the 22nd century, a paraplegic Marine is di...</td>\n",
       "      <td>150.437577</td>\n",
       "      <td>[{\"name\": \"Ingenious Film Partners\", \"id\": 289...</td>\n",
       "      <td>[{\"iso_3166_1\": \"US\", \"name\": \"United States o...</td>\n",
       "      <td>2009-12-10</td>\n",
       "      <td>2787965087</td>\n",
       "      <td>162.0</td>\n",
       "      <td>[{\"iso_639_1\": \"en\", \"name\": \"English\"}, {\"iso...</td>\n",
       "      <td>Released</td>\n",
       "      <td>Enter the World of Pandora.</td>\n",
       "      <td>Avatar</td>\n",
       "      <td>7.2</td>\n",
       "      <td>11800</td>\n",
       "    </tr>\n",
       "    <tr>\n",
       "      <th>1</th>\n",
       "      <td>300000000</td>\n",
       "      <td>[{\"id\": 12, \"name\": \"Adventure\"}, {\"id\": 14, \"...</td>\n",
       "      <td>http://disney.go.com/disneypictures/pirates/</td>\n",
       "      <td>285</td>\n",
       "      <td>[{\"id\": 270, \"name\": \"ocean\"}, {\"id\": 726, \"na...</td>\n",
       "      <td>en</td>\n",
       "      <td>Pirates of the Caribbean: At World's End</td>\n",
       "      <td>Captain Barbossa, long believed to be dead, ha...</td>\n",
       "      <td>139.082615</td>\n",
       "      <td>[{\"name\": \"Walt Disney Pictures\", \"id\": 2}, {\"...</td>\n",
       "      <td>[{\"iso_3166_1\": \"US\", \"name\": \"United States o...</td>\n",
       "      <td>2007-05-19</td>\n",
       "      <td>961000000</td>\n",
       "      <td>169.0</td>\n",
       "      <td>[{\"iso_639_1\": \"en\", \"name\": \"English\"}]</td>\n",
       "      <td>Released</td>\n",
       "      <td>At the end of the world, the adventure begins.</td>\n",
       "      <td>Pirates of the Caribbean: At World's End</td>\n",
       "      <td>6.9</td>\n",
       "      <td>4500</td>\n",
       "    </tr>\n",
       "    <tr>\n",
       "      <th>2</th>\n",
       "      <td>245000000</td>\n",
       "      <td>[{\"id\": 28, \"name\": \"Action\"}, {\"id\": 12, \"nam...</td>\n",
       "      <td>http://www.sonypictures.com/movies/spectre/</td>\n",
       "      <td>206647</td>\n",
       "      <td>[{\"id\": 470, \"name\": \"spy\"}, {\"id\": 818, \"name...</td>\n",
       "      <td>en</td>\n",
       "      <td>Spectre</td>\n",
       "      <td>A cryptic message from Bond’s past sends him o...</td>\n",
       "      <td>107.376788</td>\n",
       "      <td>[{\"name\": \"Columbia Pictures\", \"id\": 5}, {\"nam...</td>\n",
       "      <td>[{\"iso_3166_1\": \"GB\", \"name\": \"United Kingdom\"...</td>\n",
       "      <td>2015-10-26</td>\n",
       "      <td>880674609</td>\n",
       "      <td>148.0</td>\n",
       "      <td>[{\"iso_639_1\": \"fr\", \"name\": \"Fran\\u00e7ais\"},...</td>\n",
       "      <td>Released</td>\n",
       "      <td>A Plan No One Escapes</td>\n",
       "      <td>Spectre</td>\n",
       "      <td>6.3</td>\n",
       "      <td>4466</td>\n",
       "    </tr>\n",
       "    <tr>\n",
       "      <th>3</th>\n",
       "      <td>250000000</td>\n",
       "      <td>[{\"id\": 28, \"name\": \"Action\"}, {\"id\": 80, \"nam...</td>\n",
       "      <td>http://www.thedarkknightrises.com/</td>\n",
       "      <td>49026</td>\n",
       "      <td>[{\"id\": 849, \"name\": \"dc comics\"}, {\"id\": 853,...</td>\n",
       "      <td>en</td>\n",
       "      <td>The Dark Knight Rises</td>\n",
       "      <td>Following the death of District Attorney Harve...</td>\n",
       "      <td>112.312950</td>\n",
       "      <td>[{\"name\": \"Legendary Pictures\", \"id\": 923}, {\"...</td>\n",
       "      <td>[{\"iso_3166_1\": \"US\", \"name\": \"United States o...</td>\n",
       "      <td>2012-07-16</td>\n",
       "      <td>1084939099</td>\n",
       "      <td>165.0</td>\n",
       "      <td>[{\"iso_639_1\": \"en\", \"name\": \"English\"}]</td>\n",
       "      <td>Released</td>\n",
       "      <td>The Legend Ends</td>\n",
       "      <td>The Dark Knight Rises</td>\n",
       "      <td>7.6</td>\n",
       "      <td>9106</td>\n",
       "    </tr>\n",
       "    <tr>\n",
       "      <th>4</th>\n",
       "      <td>260000000</td>\n",
       "      <td>[{\"id\": 28, \"name\": \"Action\"}, {\"id\": 12, \"nam...</td>\n",
       "      <td>http://movies.disney.com/john-carter</td>\n",
       "      <td>49529</td>\n",
       "      <td>[{\"id\": 818, \"name\": \"based on novel\"}, {\"id\":...</td>\n",
       "      <td>en</td>\n",
       "      <td>John Carter</td>\n",
       "      <td>John Carter is a war-weary, former military ca...</td>\n",
       "      <td>43.926995</td>\n",
       "      <td>[{\"name\": \"Walt Disney Pictures\", \"id\": 2}]</td>\n",
       "      <td>[{\"iso_3166_1\": \"US\", \"name\": \"United States o...</td>\n",
       "      <td>2012-03-07</td>\n",
       "      <td>284139100</td>\n",
       "      <td>132.0</td>\n",
       "      <td>[{\"iso_639_1\": \"en\", \"name\": \"English\"}]</td>\n",
       "      <td>Released</td>\n",
       "      <td>Lost in our world, found in another.</td>\n",
       "      <td>John Carter</td>\n",
       "      <td>6.1</td>\n",
       "      <td>2124</td>\n",
       "    </tr>\n",
       "  </tbody>\n",
       "</table>\n",
       "</div>"
      ],
      "text/plain": [
       "      budget                                             genres  \\\n",
       "0  237000000  [{\"id\": 28, \"name\": \"Action\"}, {\"id\": 12, \"nam...   \n",
       "1  300000000  [{\"id\": 12, \"name\": \"Adventure\"}, {\"id\": 14, \"...   \n",
       "2  245000000  [{\"id\": 28, \"name\": \"Action\"}, {\"id\": 12, \"nam...   \n",
       "3  250000000  [{\"id\": 28, \"name\": \"Action\"}, {\"id\": 80, \"nam...   \n",
       "4  260000000  [{\"id\": 28, \"name\": \"Action\"}, {\"id\": 12, \"nam...   \n",
       "\n",
       "                                       homepage  movie_id  \\\n",
       "0                   http://www.avatarmovie.com/     19995   \n",
       "1  http://disney.go.com/disneypictures/pirates/       285   \n",
       "2   http://www.sonypictures.com/movies/spectre/    206647   \n",
       "3            http://www.thedarkknightrises.com/     49026   \n",
       "4          http://movies.disney.com/john-carter     49529   \n",
       "\n",
       "                                            keywords original_language  \\\n",
       "0  [{\"id\": 1463, \"name\": \"culture clash\"}, {\"id\":...                en   \n",
       "1  [{\"id\": 270, \"name\": \"ocean\"}, {\"id\": 726, \"na...                en   \n",
       "2  [{\"id\": 470, \"name\": \"spy\"}, {\"id\": 818, \"name...                en   \n",
       "3  [{\"id\": 849, \"name\": \"dc comics\"}, {\"id\": 853,...                en   \n",
       "4  [{\"id\": 818, \"name\": \"based on novel\"}, {\"id\":...                en   \n",
       "\n",
       "                             original_title  \\\n",
       "0                                    Avatar   \n",
       "1  Pirates of the Caribbean: At World's End   \n",
       "2                                   Spectre   \n",
       "3                     The Dark Knight Rises   \n",
       "4                               John Carter   \n",
       "\n",
       "                                            overview  popularity  \\\n",
       "0  In the 22nd century, a paraplegic Marine is di...  150.437577   \n",
       "1  Captain Barbossa, long believed to be dead, ha...  139.082615   \n",
       "2  A cryptic message from Bond’s past sends him o...  107.376788   \n",
       "3  Following the death of District Attorney Harve...  112.312950   \n",
       "4  John Carter is a war-weary, former military ca...   43.926995   \n",
       "\n",
       "                                production_companies  \\\n",
       "0  [{\"name\": \"Ingenious Film Partners\", \"id\": 289...   \n",
       "1  [{\"name\": \"Walt Disney Pictures\", \"id\": 2}, {\"...   \n",
       "2  [{\"name\": \"Columbia Pictures\", \"id\": 5}, {\"nam...   \n",
       "3  [{\"name\": \"Legendary Pictures\", \"id\": 923}, {\"...   \n",
       "4        [{\"name\": \"Walt Disney Pictures\", \"id\": 2}]   \n",
       "\n",
       "                                production_countries release_date     revenue  \\\n",
       "0  [{\"iso_3166_1\": \"US\", \"name\": \"United States o...   2009-12-10  2787965087   \n",
       "1  [{\"iso_3166_1\": \"US\", \"name\": \"United States o...   2007-05-19   961000000   \n",
       "2  [{\"iso_3166_1\": \"GB\", \"name\": \"United Kingdom\"...   2015-10-26   880674609   \n",
       "3  [{\"iso_3166_1\": \"US\", \"name\": \"United States o...   2012-07-16  1084939099   \n",
       "4  [{\"iso_3166_1\": \"US\", \"name\": \"United States o...   2012-03-07   284139100   \n",
       "\n",
       "   runtime                                   spoken_languages    status  \\\n",
       "0    162.0  [{\"iso_639_1\": \"en\", \"name\": \"English\"}, {\"iso...  Released   \n",
       "1    169.0           [{\"iso_639_1\": \"en\", \"name\": \"English\"}]  Released   \n",
       "2    148.0  [{\"iso_639_1\": \"fr\", \"name\": \"Fran\\u00e7ais\"},...  Released   \n",
       "3    165.0           [{\"iso_639_1\": \"en\", \"name\": \"English\"}]  Released   \n",
       "4    132.0           [{\"iso_639_1\": \"en\", \"name\": \"English\"}]  Released   \n",
       "\n",
       "                                          tagline  \\\n",
       "0                     Enter the World of Pandora.   \n",
       "1  At the end of the world, the adventure begins.   \n",
       "2                           A Plan No One Escapes   \n",
       "3                                 The Legend Ends   \n",
       "4            Lost in our world, found in another.   \n",
       "\n",
       "                                      title  vote_average  vote_count  \n",
       "0                                    Avatar           7.2       11800  \n",
       "1  Pirates of the Caribbean: At World's End           6.9        4500  \n",
       "2                                   Spectre           6.3        4466  \n",
       "3                     The Dark Knight Rises           7.6        9106  \n",
       "4                               John Carter           6.1        2124  "
      ]
     },
     "execution_count": 6,
     "metadata": {},
     "output_type": "execute_result"
    }
   ],
   "source": [
    "movies_df = pd.read_csv(\"./data/tmdb_5000_movies.csv\", sep=\",\", quotechar='\"').rename(\n",
    "    {\"id\": \"movie_id\"}, axis=1\n",
    ")\n",
    "movies_df.head()"
   ]
  },
  {
   "cell_type": "code",
   "execution_count": 7,
   "metadata": {},
   "outputs": [],
   "source": [
    "credits_df_cp = credits_df.copy()\n",
    "movies_df_cp = movies_df.copy()"
   ]
  },
  {
   "cell_type": "markdown",
   "metadata": {},
   "source": [
    "## Clean movies_df_cp"
   ]
  },
  {
   "cell_type": "code",
   "execution_count": 8,
   "metadata": {},
   "outputs": [
    {
     "data": {
      "text/plain": [
       "28"
      ]
     },
     "execution_count": 8,
     "metadata": {},
     "output_type": "execute_result"
    }
   ],
   "source": [
    "# movies with empty genre field\n",
    "len(movies_df_cp[movies_df_cp.astype(str)[\"genres\"] == \"[]\"])"
   ]
  },
  {
   "cell_type": "code",
   "execution_count": 9,
   "metadata": {},
   "outputs": [
    {
     "data": {
      "text/plain": [
       "351"
      ]
     },
     "execution_count": 9,
     "metadata": {},
     "output_type": "execute_result"
    }
   ],
   "source": [
    "# movies with empty production_companies field\n",
    "len(movies_df_cp[movies_df_cp.astype(str)[\"production_companies\"] == \"[]\"])"
   ]
  },
  {
   "cell_type": "code",
   "execution_count": 10,
   "metadata": {},
   "outputs": [
    {
     "data": {
      "text/plain": [
       "174"
      ]
     },
     "execution_count": 10,
     "metadata": {},
     "output_type": "execute_result"
    }
   ],
   "source": [
    "# movies with empty production_companies field\n",
    "len(movies_df_cp[movies_df_cp.astype(str)[\"production_countries\"] == \"[]\"])"
   ]
  },
  {
   "cell_type": "code",
   "execution_count": 11,
   "metadata": {},
   "outputs": [
    {
     "data": {
      "text/plain": [
       "86"
      ]
     },
     "execution_count": 11,
     "metadata": {},
     "output_type": "execute_result"
    }
   ],
   "source": [
    "# movies with empty production_companies field\n",
    "len(movies_df_cp[movies_df_cp.astype(str)[\"spoken_languages\"] == \"[]\"])"
   ]
  },
  {
   "cell_type": "markdown",
   "metadata": {},
   "source": [
    "## Process movies df"
   ]
  },
  {
   "cell_type": "code",
   "execution_count": 12,
   "metadata": {},
   "outputs": [
    {
     "data": {
      "text/plain": [
       "4803"
      ]
     },
     "execution_count": 12,
     "metadata": {},
     "output_type": "execute_result"
    }
   ],
   "source": [
    "pr_movies_df = movies_df_cp\n",
    "len(pr_movies_df)"
   ]
  },
  {
   "cell_type": "code",
   "execution_count": 13,
   "metadata": {},
   "outputs": [
    {
     "data": {
      "text/html": [
       "<div>\n",
       "<style scoped>\n",
       "    .dataframe tbody tr th:only-of-type {\n",
       "        vertical-align: middle;\n",
       "    }\n",
       "\n",
       "    .dataframe tbody tr th {\n",
       "        vertical-align: top;\n",
       "    }\n",
       "\n",
       "    .dataframe thead th {\n",
       "        text-align: right;\n",
       "    }\n",
       "</style>\n",
       "<table border=\"1\" class=\"dataframe\">\n",
       "  <thead>\n",
       "    <tr style=\"text-align: right;\">\n",
       "      <th></th>\n",
       "      <th>budget</th>\n",
       "      <th>genres</th>\n",
       "      <th>homepage</th>\n",
       "      <th>movie_id</th>\n",
       "      <th>keywords</th>\n",
       "      <th>original_language</th>\n",
       "      <th>original_title</th>\n",
       "      <th>overview</th>\n",
       "      <th>popularity</th>\n",
       "      <th>production_companies</th>\n",
       "      <th>production_countries</th>\n",
       "      <th>release_date</th>\n",
       "      <th>revenue</th>\n",
       "      <th>runtime</th>\n",
       "      <th>spoken_languages</th>\n",
       "      <th>status</th>\n",
       "      <th>tagline</th>\n",
       "      <th>title</th>\n",
       "      <th>vote_average</th>\n",
       "      <th>vote_count</th>\n",
       "    </tr>\n",
       "  </thead>\n",
       "  <tbody>\n",
       "    <tr>\n",
       "      <th>0</th>\n",
       "      <td>237000000</td>\n",
       "      <td>[{\"id\": 28, \"name\": \"Action\"}, {\"id\": 12, \"nam...</td>\n",
       "      <td>http://www.avatarmovie.com/</td>\n",
       "      <td>19995</td>\n",
       "      <td>[{\"id\": 1463, \"name\": \"culture clash\"}, {\"id\":...</td>\n",
       "      <td>en</td>\n",
       "      <td>Avatar</td>\n",
       "      <td>In the 22nd century, a paraplegic Marine is di...</td>\n",
       "      <td>150.437577</td>\n",
       "      <td>[{\"name\": \"Ingenious Film Partners\", \"id\": 289...</td>\n",
       "      <td>[{\"iso_3166_1\": \"US\", \"name\": \"United States o...</td>\n",
       "      <td>2009-12-10</td>\n",
       "      <td>2787965087</td>\n",
       "      <td>162.0</td>\n",
       "      <td>[{\"iso_639_1\": \"en\", \"name\": \"English\"}, {\"iso...</td>\n",
       "      <td>Released</td>\n",
       "      <td>Enter the World of Pandora.</td>\n",
       "      <td>Avatar</td>\n",
       "      <td>7.2</td>\n",
       "      <td>11800</td>\n",
       "    </tr>\n",
       "    <tr>\n",
       "      <th>1</th>\n",
       "      <td>300000000</td>\n",
       "      <td>[{\"id\": 12, \"name\": \"Adventure\"}, {\"id\": 14, \"...</td>\n",
       "      <td>http://disney.go.com/disneypictures/pirates/</td>\n",
       "      <td>285</td>\n",
       "      <td>[{\"id\": 270, \"name\": \"ocean\"}, {\"id\": 726, \"na...</td>\n",
       "      <td>en</td>\n",
       "      <td>Pirates of the Caribbean: At World's End</td>\n",
       "      <td>Captain Barbossa, long believed to be dead, ha...</td>\n",
       "      <td>139.082615</td>\n",
       "      <td>[{\"name\": \"Walt Disney Pictures\", \"id\": 2}, {\"...</td>\n",
       "      <td>[{\"iso_3166_1\": \"US\", \"name\": \"United States o...</td>\n",
       "      <td>2007-05-19</td>\n",
       "      <td>961000000</td>\n",
       "      <td>169.0</td>\n",
       "      <td>[{\"iso_639_1\": \"en\", \"name\": \"English\"}]</td>\n",
       "      <td>Released</td>\n",
       "      <td>At the end of the world, the adventure begins.</td>\n",
       "      <td>Pirates of the Caribbean: At World's End</td>\n",
       "      <td>6.9</td>\n",
       "      <td>4500</td>\n",
       "    </tr>\n",
       "    <tr>\n",
       "      <th>2</th>\n",
       "      <td>245000000</td>\n",
       "      <td>[{\"id\": 28, \"name\": \"Action\"}, {\"id\": 12, \"nam...</td>\n",
       "      <td>http://www.sonypictures.com/movies/spectre/</td>\n",
       "      <td>206647</td>\n",
       "      <td>[{\"id\": 470, \"name\": \"spy\"}, {\"id\": 818, \"name...</td>\n",
       "      <td>en</td>\n",
       "      <td>Spectre</td>\n",
       "      <td>A cryptic message from Bond’s past sends him o...</td>\n",
       "      <td>107.376788</td>\n",
       "      <td>[{\"name\": \"Columbia Pictures\", \"id\": 5}, {\"nam...</td>\n",
       "      <td>[{\"iso_3166_1\": \"GB\", \"name\": \"United Kingdom\"...</td>\n",
       "      <td>2015-10-26</td>\n",
       "      <td>880674609</td>\n",
       "      <td>148.0</td>\n",
       "      <td>[{\"iso_639_1\": \"fr\", \"name\": \"Fran\\u00e7ais\"},...</td>\n",
       "      <td>Released</td>\n",
       "      <td>A Plan No One Escapes</td>\n",
       "      <td>Spectre</td>\n",
       "      <td>6.3</td>\n",
       "      <td>4466</td>\n",
       "    </tr>\n",
       "    <tr>\n",
       "      <th>3</th>\n",
       "      <td>250000000</td>\n",
       "      <td>[{\"id\": 28, \"name\": \"Action\"}, {\"id\": 80, \"nam...</td>\n",
       "      <td>http://www.thedarkknightrises.com/</td>\n",
       "      <td>49026</td>\n",
       "      <td>[{\"id\": 849, \"name\": \"dc comics\"}, {\"id\": 853,...</td>\n",
       "      <td>en</td>\n",
       "      <td>The Dark Knight Rises</td>\n",
       "      <td>Following the death of District Attorney Harve...</td>\n",
       "      <td>112.312950</td>\n",
       "      <td>[{\"name\": \"Legendary Pictures\", \"id\": 923}, {\"...</td>\n",
       "      <td>[{\"iso_3166_1\": \"US\", \"name\": \"United States o...</td>\n",
       "      <td>2012-07-16</td>\n",
       "      <td>1084939099</td>\n",
       "      <td>165.0</td>\n",
       "      <td>[{\"iso_639_1\": \"en\", \"name\": \"English\"}]</td>\n",
       "      <td>Released</td>\n",
       "      <td>The Legend Ends</td>\n",
       "      <td>The Dark Knight Rises</td>\n",
       "      <td>7.6</td>\n",
       "      <td>9106</td>\n",
       "    </tr>\n",
       "    <tr>\n",
       "      <th>4</th>\n",
       "      <td>260000000</td>\n",
       "      <td>[{\"id\": 28, \"name\": \"Action\"}, {\"id\": 12, \"nam...</td>\n",
       "      <td>http://movies.disney.com/john-carter</td>\n",
       "      <td>49529</td>\n",
       "      <td>[{\"id\": 818, \"name\": \"based on novel\"}, {\"id\":...</td>\n",
       "      <td>en</td>\n",
       "      <td>John Carter</td>\n",
       "      <td>John Carter is a war-weary, former military ca...</td>\n",
       "      <td>43.926995</td>\n",
       "      <td>[{\"name\": \"Walt Disney Pictures\", \"id\": 2}]</td>\n",
       "      <td>[{\"iso_3166_1\": \"US\", \"name\": \"United States o...</td>\n",
       "      <td>2012-03-07</td>\n",
       "      <td>284139100</td>\n",
       "      <td>132.0</td>\n",
       "      <td>[{\"iso_639_1\": \"en\", \"name\": \"English\"}]</td>\n",
       "      <td>Released</td>\n",
       "      <td>Lost in our world, found in another.</td>\n",
       "      <td>John Carter</td>\n",
       "      <td>6.1</td>\n",
       "      <td>2124</td>\n",
       "    </tr>\n",
       "  </tbody>\n",
       "</table>\n",
       "</div>"
      ],
      "text/plain": [
       "      budget                                             genres  \\\n",
       "0  237000000  [{\"id\": 28, \"name\": \"Action\"}, {\"id\": 12, \"nam...   \n",
       "1  300000000  [{\"id\": 12, \"name\": \"Adventure\"}, {\"id\": 14, \"...   \n",
       "2  245000000  [{\"id\": 28, \"name\": \"Action\"}, {\"id\": 12, \"nam...   \n",
       "3  250000000  [{\"id\": 28, \"name\": \"Action\"}, {\"id\": 80, \"nam...   \n",
       "4  260000000  [{\"id\": 28, \"name\": \"Action\"}, {\"id\": 12, \"nam...   \n",
       "\n",
       "                                       homepage  movie_id  \\\n",
       "0                   http://www.avatarmovie.com/     19995   \n",
       "1  http://disney.go.com/disneypictures/pirates/       285   \n",
       "2   http://www.sonypictures.com/movies/spectre/    206647   \n",
       "3            http://www.thedarkknightrises.com/     49026   \n",
       "4          http://movies.disney.com/john-carter     49529   \n",
       "\n",
       "                                            keywords original_language  \\\n",
       "0  [{\"id\": 1463, \"name\": \"culture clash\"}, {\"id\":...                en   \n",
       "1  [{\"id\": 270, \"name\": \"ocean\"}, {\"id\": 726, \"na...                en   \n",
       "2  [{\"id\": 470, \"name\": \"spy\"}, {\"id\": 818, \"name...                en   \n",
       "3  [{\"id\": 849, \"name\": \"dc comics\"}, {\"id\": 853,...                en   \n",
       "4  [{\"id\": 818, \"name\": \"based on novel\"}, {\"id\":...                en   \n",
       "\n",
       "                             original_title  \\\n",
       "0                                    Avatar   \n",
       "1  Pirates of the Caribbean: At World's End   \n",
       "2                                   Spectre   \n",
       "3                     The Dark Knight Rises   \n",
       "4                               John Carter   \n",
       "\n",
       "                                            overview  popularity  \\\n",
       "0  In the 22nd century, a paraplegic Marine is di...  150.437577   \n",
       "1  Captain Barbossa, long believed to be dead, ha...  139.082615   \n",
       "2  A cryptic message from Bond’s past sends him o...  107.376788   \n",
       "3  Following the death of District Attorney Harve...  112.312950   \n",
       "4  John Carter is a war-weary, former military ca...   43.926995   \n",
       "\n",
       "                                production_companies  \\\n",
       "0  [{\"name\": \"Ingenious Film Partners\", \"id\": 289...   \n",
       "1  [{\"name\": \"Walt Disney Pictures\", \"id\": 2}, {\"...   \n",
       "2  [{\"name\": \"Columbia Pictures\", \"id\": 5}, {\"nam...   \n",
       "3  [{\"name\": \"Legendary Pictures\", \"id\": 923}, {\"...   \n",
       "4        [{\"name\": \"Walt Disney Pictures\", \"id\": 2}]   \n",
       "\n",
       "                                production_countries release_date     revenue  \\\n",
       "0  [{\"iso_3166_1\": \"US\", \"name\": \"United States o...   2009-12-10  2787965087   \n",
       "1  [{\"iso_3166_1\": \"US\", \"name\": \"United States o...   2007-05-19   961000000   \n",
       "2  [{\"iso_3166_1\": \"GB\", \"name\": \"United Kingdom\"...   2015-10-26   880674609   \n",
       "3  [{\"iso_3166_1\": \"US\", \"name\": \"United States o...   2012-07-16  1084939099   \n",
       "4  [{\"iso_3166_1\": \"US\", \"name\": \"United States o...   2012-03-07   284139100   \n",
       "\n",
       "   runtime                                   spoken_languages    status  \\\n",
       "0    162.0  [{\"iso_639_1\": \"en\", \"name\": \"English\"}, {\"iso...  Released   \n",
       "1    169.0           [{\"iso_639_1\": \"en\", \"name\": \"English\"}]  Released   \n",
       "2    148.0  [{\"iso_639_1\": \"fr\", \"name\": \"Fran\\u00e7ais\"},...  Released   \n",
       "3    165.0           [{\"iso_639_1\": \"en\", \"name\": \"English\"}]  Released   \n",
       "4    132.0           [{\"iso_639_1\": \"en\", \"name\": \"English\"}]  Released   \n",
       "\n",
       "                                          tagline  \\\n",
       "0                     Enter the World of Pandora.   \n",
       "1  At the end of the world, the adventure begins.   \n",
       "2                           A Plan No One Escapes   \n",
       "3                                 The Legend Ends   \n",
       "4            Lost in our world, found in another.   \n",
       "\n",
       "                                      title  vote_average  vote_count  \n",
       "0                                    Avatar           7.2       11800  \n",
       "1  Pirates of the Caribbean: At World's End           6.9        4500  \n",
       "2                                   Spectre           6.3        4466  \n",
       "3                     The Dark Knight Rises           7.6        9106  \n",
       "4                               John Carter           6.1        2124  "
      ]
     },
     "execution_count": 13,
     "metadata": {},
     "output_type": "execute_result"
    }
   ],
   "source": [
    "pr_movies_df.head()"
   ]
  },
  {
   "cell_type": "code",
   "execution_count": 14,
   "metadata": {},
   "outputs": [
    {
     "data": {
      "text/html": [
       "<div>\n",
       "<style scoped>\n",
       "    .dataframe tbody tr th:only-of-type {\n",
       "        vertical-align: middle;\n",
       "    }\n",
       "\n",
       "    .dataframe tbody tr th {\n",
       "        vertical-align: top;\n",
       "    }\n",
       "\n",
       "    .dataframe thead th {\n",
       "        text-align: right;\n",
       "    }\n",
       "</style>\n",
       "<table border=\"1\" class=\"dataframe\">\n",
       "  <thead>\n",
       "    <tr style=\"text-align: right;\">\n",
       "      <th></th>\n",
       "      <th>budget</th>\n",
       "      <th>genres</th>\n",
       "      <th>movie_id</th>\n",
       "      <th>keywords</th>\n",
       "      <th>original_language</th>\n",
       "      <th>popularity</th>\n",
       "      <th>production_companies</th>\n",
       "      <th>production_countries</th>\n",
       "      <th>release_date</th>\n",
       "      <th>revenue</th>\n",
       "      <th>runtime</th>\n",
       "      <th>spoken_languages</th>\n",
       "      <th>status</th>\n",
       "      <th>title</th>\n",
       "      <th>vote_average</th>\n",
       "      <th>vote_count</th>\n",
       "    </tr>\n",
       "  </thead>\n",
       "  <tbody>\n",
       "    <tr>\n",
       "      <th>0</th>\n",
       "      <td>237000000</td>\n",
       "      <td>{Science Fiction, Fantasy, Adventure, Action}</td>\n",
       "      <td>19995</td>\n",
       "      <td>{space travel, love affair, battle, marine, sp...</td>\n",
       "      <td>en</td>\n",
       "      <td>150.437577</td>\n",
       "      <td>{Twentieth Century Fox Film Corporation, Dune ...</td>\n",
       "      <td>{United States of America, United Kingdom}</td>\n",
       "      <td>2009-12-10</td>\n",
       "      <td>2787965087</td>\n",
       "      <td>162.0</td>\n",
       "      <td>{English, Español}</td>\n",
       "      <td>Released</td>\n",
       "      <td>Avatar</td>\n",
       "      <td>7.2</td>\n",
       "      <td>11800</td>\n",
       "    </tr>\n",
       "    <tr>\n",
       "      <th>1</th>\n",
       "      <td>300000000</td>\n",
       "      <td>{Adventure, Fantasy, Action}</td>\n",
       "      <td>285</td>\n",
       "      <td>{calypso, traitor, drug abuse, swashbuckler, l...</td>\n",
       "      <td>en</td>\n",
       "      <td>139.082615</td>\n",
       "      <td>{Second Mate Productions, Walt Disney Pictures...</td>\n",
       "      <td>{United States of America}</td>\n",
       "      <td>2007-05-19</td>\n",
       "      <td>961000000</td>\n",
       "      <td>169.0</td>\n",
       "      <td>{English}</td>\n",
       "      <td>Released</td>\n",
       "      <td>Pirates of the Caribbean: At World's End</td>\n",
       "      <td>6.9</td>\n",
       "      <td>4500</td>\n",
       "    </tr>\n",
       "    <tr>\n",
       "      <th>2</th>\n",
       "      <td>245000000</td>\n",
       "      <td>{Crime, Adventure, Action}</td>\n",
       "      <td>206647</td>\n",
       "      <td>{british secret service, united kingdom, spy, ...</td>\n",
       "      <td>en</td>\n",
       "      <td>107.376788</td>\n",
       "      <td>{Columbia Pictures, Danjaq, B24}</td>\n",
       "      <td>{United States of America, United Kingdom}</td>\n",
       "      <td>2015-10-26</td>\n",
       "      <td>880674609</td>\n",
       "      <td>148.0</td>\n",
       "      <td>{Español, Français, Deutsch, English, Italiano}</td>\n",
       "      <td>Released</td>\n",
       "      <td>Spectre</td>\n",
       "      <td>6.3</td>\n",
       "      <td>4466</td>\n",
       "    </tr>\n",
       "    <tr>\n",
       "      <th>3</th>\n",
       "      <td>250000000</td>\n",
       "      <td>{Crime, Thriller, Action, Drama}</td>\n",
       "      <td>49026</td>\n",
       "      <td>{superhero, terrorism, flood, tragic hero, sec...</td>\n",
       "      <td>en</td>\n",
       "      <td>112.312950</td>\n",
       "      <td>{Syncopy, DC Entertainment, Legendary Pictures...</td>\n",
       "      <td>{United States of America}</td>\n",
       "      <td>2012-07-16</td>\n",
       "      <td>1084939099</td>\n",
       "      <td>165.0</td>\n",
       "      <td>{English}</td>\n",
       "      <td>Released</td>\n",
       "      <td>The Dark Knight Rises</td>\n",
       "      <td>7.6</td>\n",
       "      <td>9106</td>\n",
       "    </tr>\n",
       "    <tr>\n",
       "      <th>4</th>\n",
       "      <td>260000000</td>\n",
       "      <td>{Science Fiction, Adventure, Action}</td>\n",
       "      <td>49529</td>\n",
       "      <td>{mars, princess, escape, space travel, alien r...</td>\n",
       "      <td>en</td>\n",
       "      <td>43.926995</td>\n",
       "      <td>{Walt Disney Pictures}</td>\n",
       "      <td>{United States of America}</td>\n",
       "      <td>2012-03-07</td>\n",
       "      <td>284139100</td>\n",
       "      <td>132.0</td>\n",
       "      <td>{English}</td>\n",
       "      <td>Released</td>\n",
       "      <td>John Carter</td>\n",
       "      <td>6.1</td>\n",
       "      <td>2124</td>\n",
       "    </tr>\n",
       "  </tbody>\n",
       "</table>\n",
       "</div>"
      ],
      "text/plain": [
       "      budget                                         genres  movie_id  \\\n",
       "0  237000000  {Science Fiction, Fantasy, Adventure, Action}     19995   \n",
       "1  300000000                   {Adventure, Fantasy, Action}       285   \n",
       "2  245000000                     {Crime, Adventure, Action}    206647   \n",
       "3  250000000               {Crime, Thriller, Action, Drama}     49026   \n",
       "4  260000000           {Science Fiction, Adventure, Action}     49529   \n",
       "\n",
       "                                            keywords original_language  \\\n",
       "0  {space travel, love affair, battle, marine, sp...                en   \n",
       "1  {calypso, traitor, drug abuse, swashbuckler, l...                en   \n",
       "2  {british secret service, united kingdom, spy, ...                en   \n",
       "3  {superhero, terrorism, flood, tragic hero, sec...                en   \n",
       "4  {mars, princess, escape, space travel, alien r...                en   \n",
       "\n",
       "   popularity                               production_companies  \\\n",
       "0  150.437577  {Twentieth Century Fox Film Corporation, Dune ...   \n",
       "1  139.082615  {Second Mate Productions, Walt Disney Pictures...   \n",
       "2  107.376788                   {Columbia Pictures, Danjaq, B24}   \n",
       "3  112.312950  {Syncopy, DC Entertainment, Legendary Pictures...   \n",
       "4   43.926995                             {Walt Disney Pictures}   \n",
       "\n",
       "                         production_countries release_date     revenue  \\\n",
       "0  {United States of America, United Kingdom}   2009-12-10  2787965087   \n",
       "1                  {United States of America}   2007-05-19   961000000   \n",
       "2  {United States of America, United Kingdom}   2015-10-26   880674609   \n",
       "3                  {United States of America}   2012-07-16  1084939099   \n",
       "4                  {United States of America}   2012-03-07   284139100   \n",
       "\n",
       "   runtime                                 spoken_languages    status  \\\n",
       "0    162.0                               {English, Español}  Released   \n",
       "1    169.0                                        {English}  Released   \n",
       "2    148.0  {Español, Français, Deutsch, English, Italiano}  Released   \n",
       "3    165.0                                        {English}  Released   \n",
       "4    132.0                                        {English}  Released   \n",
       "\n",
       "                                      title  vote_average  vote_count  \n",
       "0                                    Avatar           7.2       11800  \n",
       "1  Pirates of the Caribbean: At World's End           6.9        4500  \n",
       "2                                   Spectre           6.3        4466  \n",
       "3                     The Dark Knight Rises           7.6        9106  \n",
       "4                               John Carter           6.1        2124  "
      ]
     },
     "execution_count": 14,
     "metadata": {},
     "output_type": "execute_result"
    }
   ],
   "source": [
    "# Transform json to list of dictionaries within cols\n",
    "movies_df_json_cols = [\n",
    "    \"genres\",\n",
    "    \"production_companies\",\n",
    "    \"keywords\",\n",
    "    \"production_countries\",\n",
    "    \"spoken_languages\",\n",
    "]\n",
    "cols_to_drop = [\"homepage\", \"overview\", \"tagline\", \"original_title\"]\n",
    "key = \"name\"\n",
    "movie_id_col = \"movie_id\"\n",
    "\n",
    "pr_movies_df = col_json_to_dict(pr_movies_df, movies_df_json_cols)\n",
    "for col in movies_df_json_cols:\n",
    "    pr_movies_df = col_dict_to_set(pr_movies_df, col, key)\n",
    "pr_movies_df = pr_movies_df.drop(columns=cols_to_drop)\n",
    "pr_movies_df.head()"
   ]
  },
  {
   "cell_type": "markdown",
   "metadata": {},
   "source": [
    "## Process credits df"
   ]
  },
  {
   "cell_type": "code",
   "execution_count": 15,
   "metadata": {},
   "outputs": [
    {
     "data": {
      "text/html": [
       "<div>\n",
       "<style scoped>\n",
       "    .dataframe tbody tr th:only-of-type {\n",
       "        vertical-align: middle;\n",
       "    }\n",
       "\n",
       "    .dataframe tbody tr th {\n",
       "        vertical-align: top;\n",
       "    }\n",
       "\n",
       "    .dataframe thead th {\n",
       "        text-align: right;\n",
       "    }\n",
       "</style>\n",
       "<table border=\"1\" class=\"dataframe\">\n",
       "  <thead>\n",
       "    <tr style=\"text-align: right;\">\n",
       "      <th></th>\n",
       "      <th>movie_id</th>\n",
       "      <th>cast</th>\n",
       "      <th>crew</th>\n",
       "      <th>actors</th>\n",
       "    </tr>\n",
       "  </thead>\n",
       "  <tbody>\n",
       "    <tr>\n",
       "      <th>0</th>\n",
       "      <td>19995</td>\n",
       "      <td>{Sigourney Weaver, Matt Gerald, Mike Bodnar, A...</td>\n",
       "      <td>{James Cameron}</td>\n",
       "      <td>Sam Worthington</td>\n",
       "    </tr>\n",
       "    <tr>\n",
       "      <th>1</th>\n",
       "      <td>19995</td>\n",
       "      <td>{Sigourney Weaver, Matt Gerald, Mike Bodnar, A...</td>\n",
       "      <td>{James Cameron}</td>\n",
       "      <td>Zoe Saldana</td>\n",
       "    </tr>\n",
       "    <tr>\n",
       "      <th>2</th>\n",
       "      <td>19995</td>\n",
       "      <td>{Matt Gerald, Mike Bodnar, Anthony Ingruber, H...</td>\n",
       "      <td>{James Cameron}</td>\n",
       "      <td>Sigourney Weaver</td>\n",
       "    </tr>\n",
       "    <tr>\n",
       "      <th>3</th>\n",
       "      <td>285</td>\n",
       "      <td>{Takayo Fischer, Stellan Skarsgård, Ghassan Ma...</td>\n",
       "      <td>{Gore Verbinski}</td>\n",
       "      <td>Johnny Depp</td>\n",
       "    </tr>\n",
       "    <tr>\n",
       "      <th>4</th>\n",
       "      <td>285</td>\n",
       "      <td>{Takayo Fischer, Stellan Skarsgård, Ghassan Ma...</td>\n",
       "      <td>{Gore Verbinski}</td>\n",
       "      <td>Orlando Bloom</td>\n",
       "    </tr>\n",
       "  </tbody>\n",
       "</table>\n",
       "</div>"
      ],
      "text/plain": [
       "   movie_id                                               cast  \\\n",
       "0     19995  {Sigourney Weaver, Matt Gerald, Mike Bodnar, A...   \n",
       "1     19995  {Sigourney Weaver, Matt Gerald, Mike Bodnar, A...   \n",
       "2     19995  {Matt Gerald, Mike Bodnar, Anthony Ingruber, H...   \n",
       "3       285  {Takayo Fischer, Stellan Skarsgård, Ghassan Ma...   \n",
       "4       285  {Takayo Fischer, Stellan Skarsgård, Ghassan Ma...   \n",
       "\n",
       "               crew            actors  \n",
       "0   {James Cameron}   Sam Worthington  \n",
       "1   {James Cameron}       Zoe Saldana  \n",
       "2   {James Cameron}  Sigourney Weaver  \n",
       "3  {Gore Verbinski}       Johnny Depp  \n",
       "4  {Gore Verbinski}     Orlando Bloom  "
      ]
     },
     "execution_count": 15,
     "metadata": {},
     "output_type": "execute_result"
    }
   ],
   "source": [
    "pr_credits_df = credits_df_cp\n",
    "credits_df_json_cols = [\"cast\", \"crew\"]\n",
    "key = \"name\"\n",
    "pr_credits_df = col_json_to_dict(pr_credits_df, credits_df_json_cols)\n",
    "pr_credits_df = pr_credits_df.assign(actors=pr_credits_df[credits_df_json_cols[0]])\n",
    "for col in credits_df_json_cols:\n",
    "    if col != \"crew\":\n",
    "        pr_credits_df = col_dict_to_set(pr_credits_df, col, key)\n",
    "crew_col = \"crew\"\n",
    "job_field = \"job\"\n",
    "values = [\"Director\"]\n",
    "# Filter dictionaries with Director as job\n",
    "pr_credits_df = col_filter_dict_with_vals(\n",
    "    pr_credits_df, crew_col, job_field, values\n",
    ").rename({crew_col: values[0]})\n",
    "pr_credits_df = col_dict_to_set(pr_credits_df, crew_col, key)\n",
    "# Get actors col\n",
    "# Only select main actors to reduce the size of the dataset\n",
    "actors_col = \"actors\"\n",
    "order_field = \"order\"\n",
    "# Select the number of important actors\n",
    "values = [0, 1, 2]\n",
    "pr_credits_df = col_filter_dict_with_vals(\n",
    "    pr_credits_df, actors_col, order_field, values\n",
    ").rename({crew_col: values[0]})\n",
    "\n",
    "get_value = lambda dict_: dict_.get(key)\n",
    "\n",
    "pr_credits_df = pr_credits_df.explode(actors_col)\n",
    "pr_credits_df = pr_credits_df[pr_credits_df[actors_col].notna()]\n",
    "actors_series = pr_credits_df[actors_col]\n",
    "pr_credits_df = pr_credits_df.assign(\n",
    "    **{actors_col: pr_credits_df[actors_col].apply(get_value)}\n",
    ")\n",
    "# Remove actor from cast\n",
    "actor_cast_col = \"actor_cast\"\n",
    "pr_credits_df = pr_credits_df.reset_index(drop=True)\n",
    "remove_from_cast = lambda row: row[credits_df_json_cols[0]] - set({row[actors_col]})\n",
    "pr_credits_df = pr_credits_df.assign(\n",
    "    **{credits_df_json_cols[0]: pr_credits_df.apply(remove_from_cast, axis=1)}\n",
    ").drop(columns=\"title\")\n",
    "pr_credits_df.head()"
   ]
  },
  {
   "cell_type": "code",
   "execution_count": 16,
   "metadata": {},
   "outputs": [
    {
     "data": {
      "text/html": [
       "<div>\n",
       "<style scoped>\n",
       "    .dataframe tbody tr th:only-of-type {\n",
       "        vertical-align: middle;\n",
       "    }\n",
       "\n",
       "    .dataframe tbody tr th {\n",
       "        vertical-align: top;\n",
       "    }\n",
       "\n",
       "    .dataframe thead th {\n",
       "        text-align: right;\n",
       "    }\n",
       "</style>\n",
       "<table border=\"1\" class=\"dataframe\">\n",
       "  <thead>\n",
       "    <tr style=\"text-align: right;\">\n",
       "      <th></th>\n",
       "      <th>actor_id</th>\n",
       "      <th>actors</th>\n",
       "      <th>gender</th>\n",
       "      <th>order</th>\n",
       "    </tr>\n",
       "  </thead>\n",
       "  <tbody>\n",
       "    <tr>\n",
       "      <th>0</th>\n",
       "      <td>0</td>\n",
       "      <td>\"Weird Al\" Yankovic</td>\n",
       "      <td>0</td>\n",
       "      <td>[0]</td>\n",
       "    </tr>\n",
       "    <tr>\n",
       "      <th>1</th>\n",
       "      <td>1</td>\n",
       "      <td>50 Cent</td>\n",
       "      <td>2</td>\n",
       "      <td>[2, 0]</td>\n",
       "    </tr>\n",
       "    <tr>\n",
       "      <th>2</th>\n",
       "      <td>2</td>\n",
       "      <td>A.J. Buckley</td>\n",
       "      <td>2</td>\n",
       "      <td>[1]</td>\n",
       "    </tr>\n",
       "    <tr>\n",
       "      <th>3</th>\n",
       "      <td>3</td>\n",
       "      <td>A.J. Cook</td>\n",
       "      <td>1</td>\n",
       "      <td>[1]</td>\n",
       "    </tr>\n",
       "    <tr>\n",
       "      <th>4</th>\n",
       "      <td>4</td>\n",
       "      <td>AJ Michalka</td>\n",
       "      <td>1</td>\n",
       "      <td>[0]</td>\n",
       "    </tr>\n",
       "    <tr>\n",
       "      <th>...</th>\n",
       "      <td>...</td>\n",
       "      <td>...</td>\n",
       "      <td>...</td>\n",
       "      <td>...</td>\n",
       "    </tr>\n",
       "    <tr>\n",
       "      <th>5512</th>\n",
       "      <td>5512</td>\n",
       "      <td>Zuleikha Robinson</td>\n",
       "      <td>1</td>\n",
       "      <td>[1]</td>\n",
       "    </tr>\n",
       "    <tr>\n",
       "      <th>5513</th>\n",
       "      <td>5513</td>\n",
       "      <td>Àlex Brendemühl</td>\n",
       "      <td>2</td>\n",
       "      <td>[2]</td>\n",
       "    </tr>\n",
       "    <tr>\n",
       "      <th>5514</th>\n",
       "      <td>5514</td>\n",
       "      <td>Óscar Jaenada</td>\n",
       "      <td>2</td>\n",
       "      <td>[1]</td>\n",
       "    </tr>\n",
       "    <tr>\n",
       "      <th>5515</th>\n",
       "      <td>5515</td>\n",
       "      <td>Đỗ Thị Hải Yến</td>\n",
       "      <td>1</td>\n",
       "      <td>[2]</td>\n",
       "    </tr>\n",
       "    <tr>\n",
       "      <th>5516</th>\n",
       "      <td>5516</td>\n",
       "      <td>Юлия Снигирь</td>\n",
       "      <td>1</td>\n",
       "      <td>[2]</td>\n",
       "    </tr>\n",
       "  </tbody>\n",
       "</table>\n",
       "<p>5517 rows × 4 columns</p>\n",
       "</div>"
      ],
      "text/plain": [
       "      actor_id               actors  gender   order\n",
       "0            0  \"Weird Al\" Yankovic       0     [0]\n",
       "1            1              50 Cent       2  [2, 0]\n",
       "2            2         A.J. Buckley       2     [1]\n",
       "3            3            A.J. Cook       1     [1]\n",
       "4            4          AJ Michalka       1     [0]\n",
       "...        ...                  ...     ...     ...\n",
       "5512      5512    Zuleikha Robinson       1     [1]\n",
       "5513      5513      Àlex Brendemühl       2     [2]\n",
       "5514      5514        Óscar Jaenada       2     [1]\n",
       "5515      5515       Đỗ Thị Hải Yến       1     [2]\n",
       "5516      5516         Юлия Снигирь       1     [2]\n",
       "\n",
       "[5517 rows x 4 columns]"
      ]
     },
     "execution_count": 16,
     "metadata": {},
     "output_type": "execute_result"
    }
   ],
   "source": [
    "actor_cols = [\"name\", \"gender\", \"order\"]\n",
    "actors_df = json_normalize(actors_series)[actor_cols]\n",
    "actors_df = (\n",
    "    actors_df.rename(columns={actor_cols[0]: actors_col})\n",
    "    .groupby(actors_col)\n",
    "    .aggregate({actor_cols[1]: max, actor_cols[2]: list})\n",
    "    .reset_index()\n",
    "    .reset_index()\n",
    "    .rename(columns={\"index\": \"actor_id\"})\n",
    ")\n",
    "actors_df"
   ]
  },
  {
   "cell_type": "code",
   "execution_count": 17,
   "metadata": {},
   "outputs": [
    {
     "data": {
      "text/html": [
       "<div>\n",
       "<style scoped>\n",
       "    .dataframe tbody tr th:only-of-type {\n",
       "        vertical-align: middle;\n",
       "    }\n",
       "\n",
       "    .dataframe tbody tr th {\n",
       "        vertical-align: top;\n",
       "    }\n",
       "\n",
       "    .dataframe thead th {\n",
       "        text-align: right;\n",
       "    }\n",
       "</style>\n",
       "<table border=\"1\" class=\"dataframe\">\n",
       "  <thead>\n",
       "    <tr style=\"text-align: right;\">\n",
       "      <th></th>\n",
       "      <th>movie_id</th>\n",
       "      <th>cast</th>\n",
       "      <th>crew</th>\n",
       "      <th>actors</th>\n",
       "      <th>actor_id</th>\n",
       "      <th>gender</th>\n",
       "      <th>order</th>\n",
       "    </tr>\n",
       "  </thead>\n",
       "  <tbody>\n",
       "    <tr>\n",
       "      <th>0</th>\n",
       "      <td>19995</td>\n",
       "      <td>{Sigourney Weaver, Matt Gerald, Mike Bodnar, A...</td>\n",
       "      <td>{James Cameron}</td>\n",
       "      <td>Sam Worthington</td>\n",
       "      <td>4637</td>\n",
       "      <td>2</td>\n",
       "      <td>[0, 1, 0, 0, 0, 1]</td>\n",
       "    </tr>\n",
       "    <tr>\n",
       "      <th>1</th>\n",
       "      <td>534</td>\n",
       "      <td>{Bryce Dallas Howard, David Midthunder, Jane A...</td>\n",
       "      <td>{McG}</td>\n",
       "      <td>Sam Worthington</td>\n",
       "      <td>4637</td>\n",
       "      <td>2</td>\n",
       "      <td>[0, 1, 0, 0, 0, 1]</td>\n",
       "    </tr>\n",
       "    <tr>\n",
       "      <th>2</th>\n",
       "      <td>57165</td>\n",
       "      <td>{Matt Milne, Liam Neeson, Danny Huston, Lily J...</td>\n",
       "      <td>{Jonathan Liebesman}</td>\n",
       "      <td>Sam Worthington</td>\n",
       "      <td>4637</td>\n",
       "      <td>2</td>\n",
       "      <td>[0, 1, 0, 0, 0, 1]</td>\n",
       "    </tr>\n",
       "    <tr>\n",
       "      <th>3</th>\n",
       "      <td>18823</td>\n",
       "      <td>{Agyness Deyn, Phil McKee, Jane March, Liam Ne...</td>\n",
       "      <td>{Louis Leterrier}</td>\n",
       "      <td>Sam Worthington</td>\n",
       "      <td>4637</td>\n",
       "      <td>2</td>\n",
       "      <td>[0, 1, 0, 0, 0, 1]</td>\n",
       "    </tr>\n",
       "    <tr>\n",
       "      <th>4</th>\n",
       "      <td>49527</td>\n",
       "      <td>{Marmee Cosico, Jimmy Palumbo, Ann Arvia, J. B...</td>\n",
       "      <td>{Asger Leth}</td>\n",
       "      <td>Sam Worthington</td>\n",
       "      <td>4637</td>\n",
       "      <td>2</td>\n",
       "      <td>[0, 1, 0, 0, 0, 1]</td>\n",
       "    </tr>\n",
       "    <tr>\n",
       "      <th>5</th>\n",
       "      <td>144336</td>\n",
       "      <td>{Nick Chacon, Laurence Chavez, Gary Grubbs, Al...</td>\n",
       "      <td>{David Ayer}</td>\n",
       "      <td>Sam Worthington</td>\n",
       "      <td>4637</td>\n",
       "      <td>2</td>\n",
       "      <td>[0, 1, 0, 0, 0, 1]</td>\n",
       "    </tr>\n",
       "    <tr>\n",
       "      <th>6</th>\n",
       "      <td>19995</td>\n",
       "      <td>{Sigourney Weaver, Matt Gerald, Mike Bodnar, A...</td>\n",
       "      <td>{James Cameron}</td>\n",
       "      <td>Zoe Saldana</td>\n",
       "      <td>5505</td>\n",
       "      <td>1</td>\n",
       "      <td>[1, 2, 1, 2, 0, 2, 1, 1, 1, 1, 1, 1]</td>\n",
       "    </tr>\n",
       "    <tr>\n",
       "      <th>7</th>\n",
       "      <td>54138</td>\n",
       "      <td>{Seth Ayott, Arlen Escarpeta, Ellie Newlands, ...</td>\n",
       "      <td>{J.J. Abrams}</td>\n",
       "      <td>Zoe Saldana</td>\n",
       "      <td>5505</td>\n",
       "      <td>1</td>\n",
       "      <td>[1, 2, 1, 2, 0, 2, 1, 1, 1, 1, 1, 1]</td>\n",
       "    </tr>\n",
       "    <tr>\n",
       "      <th>8</th>\n",
       "      <td>118340</td>\n",
       "      <td>{Michael Rooker, Nick Holmes, Fred, Alex Rose,...</td>\n",
       "      <td>{James Gunn}</td>\n",
       "      <td>Zoe Saldana</td>\n",
       "      <td>5505</td>\n",
       "      <td>1</td>\n",
       "      <td>[1, 2, 1, 2, 0, 2, 1, 1, 1, 1, 1, 1]</td>\n",
       "    </tr>\n",
       "    <tr>\n",
       "      <th>9</th>\n",
       "      <td>228326</td>\n",
       "      <td>{Channing Tatum, Miguel Sandoval, Ishan Sharma...</td>\n",
       "      <td>{Jorge R. Gutierrez}</td>\n",
       "      <td>Zoe Saldana</td>\n",
       "      <td>5505</td>\n",
       "      <td>1</td>\n",
       "      <td>[1, 2, 1, 2, 0, 2, 1, 1, 1, 1, 1, 1]</td>\n",
       "    </tr>\n",
       "    <tr>\n",
       "      <th>10</th>\n",
       "      <td>62835</td>\n",
       "      <td>{Graham McTavish, Max Martini, Jesse Borrego, ...</td>\n",
       "      <td>{Olivier Megaton}</td>\n",
       "      <td>Zoe Saldana</td>\n",
       "      <td>5505</td>\n",
       "      <td>1</td>\n",
       "      <td>[1, 2, 1, 2, 0, 2, 1, 1, 1, 1, 1, 1]</td>\n",
       "    </tr>\n",
       "    <tr>\n",
       "      <th>11</th>\n",
       "      <td>11638</td>\n",
       "      <td>{Judith Scott, Bernie Mac, Jessica Cauffiel, K...</td>\n",
       "      <td>{Kevin Rodney Sullivan}</td>\n",
       "      <td>Zoe Saldana</td>\n",
       "      <td>5505</td>\n",
       "      <td>1</td>\n",
       "      <td>[1, 2, 1, 2, 0, 2, 1, 1, 1, 1, 1, 1]</td>\n",
       "    </tr>\n",
       "    <tr>\n",
       "      <th>12</th>\n",
       "      <td>34813</td>\n",
       "      <td>{Tanee McCall, Holt McCallany, Jeffrey Dean Mo...</td>\n",
       "      <td>{Sylvain White}</td>\n",
       "      <td>Zoe Saldana</td>\n",
       "      <td>5505</td>\n",
       "      <td>1</td>\n",
       "      <td>[1, 2, 1, 2, 0, 2, 1, 1, 1, 1, 1, 1]</td>\n",
       "    </tr>\n",
       "    <tr>\n",
       "      <th>13</th>\n",
       "      <td>164457</td>\n",
       "      <td>{Matt Baker, Christian Bale, Vito Grassi, Will...</td>\n",
       "      <td>{Scott Cooper}</td>\n",
       "      <td>Zoe Saldana</td>\n",
       "      <td>5505</td>\n",
       "      <td>1</td>\n",
       "      <td>[1, 2, 1, 2, 0, 2, 1, 1, 1, 1, 1, 1]</td>\n",
       "    </tr>\n",
       "    <tr>\n",
       "      <th>14</th>\n",
       "      <td>13497</td>\n",
       "      <td>{Jason Weaver, Angela Elayne Gibbs, Leonard Ro...</td>\n",
       "      <td>{Charles Stone III}</td>\n",
       "      <td>Zoe Saldana</td>\n",
       "      <td>5505</td>\n",
       "      <td>1</td>\n",
       "      <td>[1, 2, 1, 2, 0, 2, 1, 1, 1, 1, 1, 1]</td>\n",
       "    </tr>\n",
       "    <tr>\n",
       "      <th>15</th>\n",
       "      <td>10560</td>\n",
       "      <td>{Scottie Thompson, Amanda Schull, Susan May Pr...</td>\n",
       "      <td>{Nicholas Hytner}</td>\n",
       "      <td>Zoe Saldana</td>\n",
       "      <td>5505</td>\n",
       "      <td>1</td>\n",
       "      <td>[1, 2, 1, 2, 0, 2, 1, 1, 1, 1, 1, 1]</td>\n",
       "    </tr>\n",
       "    <tr>\n",
       "      <th>16</th>\n",
       "      <td>17130</td>\n",
       "      <td>{Jamie Lynn Spears, Anson Mount, Seth Romatell...</td>\n",
       "      <td>{Tamra Davis}</td>\n",
       "      <td>Zoe Saldana</td>\n",
       "      <td>5505</td>\n",
       "      <td>1</td>\n",
       "      <td>[1, 2, 1, 2, 0, 2, 1, 1, 1, 1, 1, 1]</td>\n",
       "    </tr>\n",
       "    <tr>\n",
       "      <th>17</th>\n",
       "      <td>83686</td>\n",
       "      <td>{J.K. Simmons, Zeljko Ivanek, Liz Stauber, Ben...</td>\n",
       "      <td>{Brian Klugman, Lee Sternthal}</td>\n",
       "      <td>Zoe Saldana</td>\n",
       "      <td>5505</td>\n",
       "      <td>1</td>\n",
       "      <td>[1, 2, 1, 2, 0, 2, 1, 1, 1, 1, 1, 1]</td>\n",
       "    </tr>\n",
       "    <tr>\n",
       "      <th>18</th>\n",
       "      <td>19995</td>\n",
       "      <td>{Matt Gerald, Mike Bodnar, Anthony Ingruber, H...</td>\n",
       "      <td>{James Cameron}</td>\n",
       "      <td>Sigourney Weaver</td>\n",
       "      <td>4837</td>\n",
       "      <td>1</td>\n",
       "      <td>[2, 0, 0, 1, 0, 0, 0, 0, 1, 2, 2, 0, 0, 2, 0, ...</td>\n",
       "    </tr>\n",
       "    <tr>\n",
       "      <th>19</th>\n",
       "      <td>8078</td>\n",
       "      <td>{Brad Dourif, Rico Bueno, Nicole Fellows, Caro...</td>\n",
       "      <td>{Jean-Pierre Jeunet}</td>\n",
       "      <td>Sigourney Weaver</td>\n",
       "      <td>4837</td>\n",
       "      <td>1</td>\n",
       "      <td>[2, 0, 0, 1, 0, 0, 0, 0, 1, 2, 2, 0, 0, 2, 0, ...</td>\n",
       "    </tr>\n",
       "  </tbody>\n",
       "</table>\n",
       "</div>"
      ],
      "text/plain": [
       "    movie_id                                               cast  \\\n",
       "0      19995  {Sigourney Weaver, Matt Gerald, Mike Bodnar, A...   \n",
       "1        534  {Bryce Dallas Howard, David Midthunder, Jane A...   \n",
       "2      57165  {Matt Milne, Liam Neeson, Danny Huston, Lily J...   \n",
       "3      18823  {Agyness Deyn, Phil McKee, Jane March, Liam Ne...   \n",
       "4      49527  {Marmee Cosico, Jimmy Palumbo, Ann Arvia, J. B...   \n",
       "5     144336  {Nick Chacon, Laurence Chavez, Gary Grubbs, Al...   \n",
       "6      19995  {Sigourney Weaver, Matt Gerald, Mike Bodnar, A...   \n",
       "7      54138  {Seth Ayott, Arlen Escarpeta, Ellie Newlands, ...   \n",
       "8     118340  {Michael Rooker, Nick Holmes, Fred, Alex Rose,...   \n",
       "9     228326  {Channing Tatum, Miguel Sandoval, Ishan Sharma...   \n",
       "10     62835  {Graham McTavish, Max Martini, Jesse Borrego, ...   \n",
       "11     11638  {Judith Scott, Bernie Mac, Jessica Cauffiel, K...   \n",
       "12     34813  {Tanee McCall, Holt McCallany, Jeffrey Dean Mo...   \n",
       "13    164457  {Matt Baker, Christian Bale, Vito Grassi, Will...   \n",
       "14     13497  {Jason Weaver, Angela Elayne Gibbs, Leonard Ro...   \n",
       "15     10560  {Scottie Thompson, Amanda Schull, Susan May Pr...   \n",
       "16     17130  {Jamie Lynn Spears, Anson Mount, Seth Romatell...   \n",
       "17     83686  {J.K. Simmons, Zeljko Ivanek, Liz Stauber, Ben...   \n",
       "18     19995  {Matt Gerald, Mike Bodnar, Anthony Ingruber, H...   \n",
       "19      8078  {Brad Dourif, Rico Bueno, Nicole Fellows, Caro...   \n",
       "\n",
       "                              crew            actors  actor_id  gender  \\\n",
       "0                  {James Cameron}   Sam Worthington      4637       2   \n",
       "1                            {McG}   Sam Worthington      4637       2   \n",
       "2             {Jonathan Liebesman}   Sam Worthington      4637       2   \n",
       "3                {Louis Leterrier}   Sam Worthington      4637       2   \n",
       "4                     {Asger Leth}   Sam Worthington      4637       2   \n",
       "5                     {David Ayer}   Sam Worthington      4637       2   \n",
       "6                  {James Cameron}       Zoe Saldana      5505       1   \n",
       "7                    {J.J. Abrams}       Zoe Saldana      5505       1   \n",
       "8                     {James Gunn}       Zoe Saldana      5505       1   \n",
       "9             {Jorge R. Gutierrez}       Zoe Saldana      5505       1   \n",
       "10               {Olivier Megaton}       Zoe Saldana      5505       1   \n",
       "11         {Kevin Rodney Sullivan}       Zoe Saldana      5505       1   \n",
       "12                 {Sylvain White}       Zoe Saldana      5505       1   \n",
       "13                  {Scott Cooper}       Zoe Saldana      5505       1   \n",
       "14             {Charles Stone III}       Zoe Saldana      5505       1   \n",
       "15               {Nicholas Hytner}       Zoe Saldana      5505       1   \n",
       "16                   {Tamra Davis}       Zoe Saldana      5505       1   \n",
       "17  {Brian Klugman, Lee Sternthal}       Zoe Saldana      5505       1   \n",
       "18                 {James Cameron}  Sigourney Weaver      4837       1   \n",
       "19            {Jean-Pierre Jeunet}  Sigourney Weaver      4837       1   \n",
       "\n",
       "                                                order  \n",
       "0                                  [0, 1, 0, 0, 0, 1]  \n",
       "1                                  [0, 1, 0, 0, 0, 1]  \n",
       "2                                  [0, 1, 0, 0, 0, 1]  \n",
       "3                                  [0, 1, 0, 0, 0, 1]  \n",
       "4                                  [0, 1, 0, 0, 0, 1]  \n",
       "5                                  [0, 1, 0, 0, 0, 1]  \n",
       "6                [1, 2, 1, 2, 0, 2, 1, 1, 1, 1, 1, 1]  \n",
       "7                [1, 2, 1, 2, 0, 2, 1, 1, 1, 1, 1, 1]  \n",
       "8                [1, 2, 1, 2, 0, 2, 1, 1, 1, 1, 1, 1]  \n",
       "9                [1, 2, 1, 2, 0, 2, 1, 1, 1, 1, 1, 1]  \n",
       "10               [1, 2, 1, 2, 0, 2, 1, 1, 1, 1, 1, 1]  \n",
       "11               [1, 2, 1, 2, 0, 2, 1, 1, 1, 1, 1, 1]  \n",
       "12               [1, 2, 1, 2, 0, 2, 1, 1, 1, 1, 1, 1]  \n",
       "13               [1, 2, 1, 2, 0, 2, 1, 1, 1, 1, 1, 1]  \n",
       "14               [1, 2, 1, 2, 0, 2, 1, 1, 1, 1, 1, 1]  \n",
       "15               [1, 2, 1, 2, 0, 2, 1, 1, 1, 1, 1, 1]  \n",
       "16               [1, 2, 1, 2, 0, 2, 1, 1, 1, 1, 1, 1]  \n",
       "17               [1, 2, 1, 2, 0, 2, 1, 1, 1, 1, 1, 1]  \n",
       "18  [2, 0, 0, 1, 0, 0, 0, 0, 1, 2, 2, 0, 0, 2, 0, ...  \n",
       "19  [2, 0, 0, 1, 0, 0, 0, 0, 1, 2, 2, 0, 0, 2, 0, ...  "
      ]
     },
     "execution_count": 17,
     "metadata": {},
     "output_type": "execute_result"
    }
   ],
   "source": [
    "actors_credits_df = pr_credits_df.merge(\n",
    "    actors_df, right_on=actors_col, left_on=actors_col, how=\"inner\"\n",
    ")\n",
    "actors_credits_df.head(20)"
   ]
  },
  {
   "cell_type": "code",
   "execution_count": 18,
   "metadata": {},
   "outputs": [
    {
     "data": {
      "text/html": [
       "<div>\n",
       "<style scoped>\n",
       "    .dataframe tbody tr th:only-of-type {\n",
       "        vertical-align: middle;\n",
       "    }\n",
       "\n",
       "    .dataframe tbody tr th {\n",
       "        vertical-align: top;\n",
       "    }\n",
       "\n",
       "    .dataframe thead th {\n",
       "        text-align: right;\n",
       "    }\n",
       "</style>\n",
       "<table border=\"1\" class=\"dataframe\">\n",
       "  <thead>\n",
       "    <tr style=\"text-align: right;\">\n",
       "      <th></th>\n",
       "      <th>cast</th>\n",
       "      <th>crew</th>\n",
       "      <th>actors</th>\n",
       "      <th>actor_id</th>\n",
       "      <th>gender</th>\n",
       "      <th>order</th>\n",
       "      <th>budget</th>\n",
       "      <th>genres</th>\n",
       "      <th>keywords</th>\n",
       "      <th>original_language</th>\n",
       "      <th>...</th>\n",
       "      <th>production_countries</th>\n",
       "      <th>release_date</th>\n",
       "      <th>revenue</th>\n",
       "      <th>runtime</th>\n",
       "      <th>spoken_languages</th>\n",
       "      <th>status</th>\n",
       "      <th>title</th>\n",
       "      <th>vote_average</th>\n",
       "      <th>vote_count</th>\n",
       "      <th>movie_id</th>\n",
       "    </tr>\n",
       "  </thead>\n",
       "  <tbody>\n",
       "    <tr>\n",
       "      <th>0</th>\n",
       "      <td>{Sigourney Weaver, Matt Gerald, Mike Bodnar, A...</td>\n",
       "      <td>{James Cameron}</td>\n",
       "      <td>Sam Worthington</td>\n",
       "      <td>4637</td>\n",
       "      <td>2</td>\n",
       "      <td>[0, 1, 0, 0, 0, 1]</td>\n",
       "      <td>237000000</td>\n",
       "      <td>{Science Fiction, Fantasy, Adventure, Action}</td>\n",
       "      <td>{space travel, love affair, battle, marine, sp...</td>\n",
       "      <td>en</td>\n",
       "      <td>...</td>\n",
       "      <td>{United States of America, United Kingdom}</td>\n",
       "      <td>2009-12-10</td>\n",
       "      <td>2787965087</td>\n",
       "      <td>162.0</td>\n",
       "      <td>{English, Español}</td>\n",
       "      <td>Released</td>\n",
       "      <td>Avatar</td>\n",
       "      <td>7.2</td>\n",
       "      <td>11800</td>\n",
       "      <td>0</td>\n",
       "    </tr>\n",
       "    <tr>\n",
       "      <th>1</th>\n",
       "      <td>{Sigourney Weaver, Matt Gerald, Mike Bodnar, A...</td>\n",
       "      <td>{James Cameron}</td>\n",
       "      <td>Zoe Saldana</td>\n",
       "      <td>5505</td>\n",
       "      <td>1</td>\n",
       "      <td>[1, 2, 1, 2, 0, 2, 1, 1, 1, 1, 1, 1]</td>\n",
       "      <td>237000000</td>\n",
       "      <td>{Science Fiction, Fantasy, Adventure, Action}</td>\n",
       "      <td>{space travel, love affair, battle, marine, sp...</td>\n",
       "      <td>en</td>\n",
       "      <td>...</td>\n",
       "      <td>{United States of America, United Kingdom}</td>\n",
       "      <td>2009-12-10</td>\n",
       "      <td>2787965087</td>\n",
       "      <td>162.0</td>\n",
       "      <td>{English, Español}</td>\n",
       "      <td>Released</td>\n",
       "      <td>Avatar</td>\n",
       "      <td>7.2</td>\n",
       "      <td>11800</td>\n",
       "      <td>0</td>\n",
       "    </tr>\n",
       "    <tr>\n",
       "      <th>2</th>\n",
       "      <td>{Matt Gerald, Mike Bodnar, Anthony Ingruber, H...</td>\n",
       "      <td>{James Cameron}</td>\n",
       "      <td>Sigourney Weaver</td>\n",
       "      <td>4837</td>\n",
       "      <td>1</td>\n",
       "      <td>[2, 0, 0, 1, 0, 0, 0, 0, 1, 2, 2, 0, 0, 2, 0, ...</td>\n",
       "      <td>237000000</td>\n",
       "      <td>{Science Fiction, Fantasy, Adventure, Action}</td>\n",
       "      <td>{space travel, love affair, battle, marine, sp...</td>\n",
       "      <td>en</td>\n",
       "      <td>...</td>\n",
       "      <td>{United States of America, United Kingdom}</td>\n",
       "      <td>2009-12-10</td>\n",
       "      <td>2787965087</td>\n",
       "      <td>162.0</td>\n",
       "      <td>{English, Español}</td>\n",
       "      <td>Released</td>\n",
       "      <td>Avatar</td>\n",
       "      <td>7.2</td>\n",
       "      <td>11800</td>\n",
       "      <td>0</td>\n",
       "    </tr>\n",
       "    <tr>\n",
       "      <th>3</th>\n",
       "      <td>{Bryce Dallas Howard, David Midthunder, Jane A...</td>\n",
       "      <td>{McG}</td>\n",
       "      <td>Sam Worthington</td>\n",
       "      <td>4637</td>\n",
       "      <td>2</td>\n",
       "      <td>[0, 1, 0, 0, 0, 1]</td>\n",
       "      <td>200000000</td>\n",
       "      <td>{Thriller, Science Fiction, Action}</td>\n",
       "      <td>{killer robot, dystopia, army, gas station, fi...</td>\n",
       "      <td>en</td>\n",
       "      <td>...</td>\n",
       "      <td>{Italy, Germany, United States of America, Uni...</td>\n",
       "      <td>2009-05-20</td>\n",
       "      <td>371353001</td>\n",
       "      <td>115.0</td>\n",
       "      <td>{English, Italiano}</td>\n",
       "      <td>Released</td>\n",
       "      <td>Terminator Salvation</td>\n",
       "      <td>5.9</td>\n",
       "      <td>2463</td>\n",
       "      <td>43</td>\n",
       "    </tr>\n",
       "    <tr>\n",
       "      <th>4</th>\n",
       "      <td>{Bryce Dallas Howard, David Midthunder, Sam Wo...</td>\n",
       "      <td>{McG}</td>\n",
       "      <td>Christian Bale</td>\n",
       "      <td>911</td>\n",
       "      <td>2</td>\n",
       "      <td>[0, 0, 0, 0, 0, 0, 0, 0, 2, 1, 0, 1, 0, 0, 0, ...</td>\n",
       "      <td>200000000</td>\n",
       "      <td>{Thriller, Science Fiction, Action}</td>\n",
       "      <td>{killer robot, dystopia, army, gas station, fi...</td>\n",
       "      <td>en</td>\n",
       "      <td>...</td>\n",
       "      <td>{Italy, Germany, United States of America, Uni...</td>\n",
       "      <td>2009-05-20</td>\n",
       "      <td>371353001</td>\n",
       "      <td>115.0</td>\n",
       "      <td>{English, Italiano}</td>\n",
       "      <td>Released</td>\n",
       "      <td>Terminator Salvation</td>\n",
       "      <td>5.9</td>\n",
       "      <td>2463</td>\n",
       "      <td>43</td>\n",
       "    </tr>\n",
       "  </tbody>\n",
       "</table>\n",
       "<p>5 rows × 22 columns</p>\n",
       "</div>"
      ],
      "text/plain": [
       "                                                cast             crew  \\\n",
       "0  {Sigourney Weaver, Matt Gerald, Mike Bodnar, A...  {James Cameron}   \n",
       "1  {Sigourney Weaver, Matt Gerald, Mike Bodnar, A...  {James Cameron}   \n",
       "2  {Matt Gerald, Mike Bodnar, Anthony Ingruber, H...  {James Cameron}   \n",
       "3  {Bryce Dallas Howard, David Midthunder, Jane A...            {McG}   \n",
       "4  {Bryce Dallas Howard, David Midthunder, Sam Wo...            {McG}   \n",
       "\n",
       "             actors  actor_id  gender  \\\n",
       "0   Sam Worthington      4637       2   \n",
       "1       Zoe Saldana      5505       1   \n",
       "2  Sigourney Weaver      4837       1   \n",
       "3   Sam Worthington      4637       2   \n",
       "4    Christian Bale       911       2   \n",
       "\n",
       "                                               order     budget  \\\n",
       "0                                 [0, 1, 0, 0, 0, 1]  237000000   \n",
       "1               [1, 2, 1, 2, 0, 2, 1, 1, 1, 1, 1, 1]  237000000   \n",
       "2  [2, 0, 0, 1, 0, 0, 0, 0, 1, 2, 2, 0, 0, 2, 0, ...  237000000   \n",
       "3                                 [0, 1, 0, 0, 0, 1]  200000000   \n",
       "4  [0, 0, 0, 0, 0, 0, 0, 0, 2, 1, 0, 1, 0, 0, 0, ...  200000000   \n",
       "\n",
       "                                          genres  \\\n",
       "0  {Science Fiction, Fantasy, Adventure, Action}   \n",
       "1  {Science Fiction, Fantasy, Adventure, Action}   \n",
       "2  {Science Fiction, Fantasy, Adventure, Action}   \n",
       "3            {Thriller, Science Fiction, Action}   \n",
       "4            {Thriller, Science Fiction, Action}   \n",
       "\n",
       "                                            keywords original_language  ...  \\\n",
       "0  {space travel, love affair, battle, marine, sp...                en  ...   \n",
       "1  {space travel, love affair, battle, marine, sp...                en  ...   \n",
       "2  {space travel, love affair, battle, marine, sp...                en  ...   \n",
       "3  {killer robot, dystopia, army, gas station, fi...                en  ...   \n",
       "4  {killer robot, dystopia, army, gas station, fi...                en  ...   \n",
       "\n",
       "                                production_countries release_date     revenue  \\\n",
       "0         {United States of America, United Kingdom}   2009-12-10  2787965087   \n",
       "1         {United States of America, United Kingdom}   2009-12-10  2787965087   \n",
       "2         {United States of America, United Kingdom}   2009-12-10  2787965087   \n",
       "3  {Italy, Germany, United States of America, Uni...   2009-05-20   371353001   \n",
       "4  {Italy, Germany, United States of America, Uni...   2009-05-20   371353001   \n",
       "\n",
       "  runtime     spoken_languages    status                 title vote_average  \\\n",
       "0   162.0   {English, Español}  Released                Avatar          7.2   \n",
       "1   162.0   {English, Español}  Released                Avatar          7.2   \n",
       "2   162.0   {English, Español}  Released                Avatar          7.2   \n",
       "3   115.0  {English, Italiano}  Released  Terminator Salvation          5.9   \n",
       "4   115.0  {English, Italiano}  Released  Terminator Salvation          5.9   \n",
       "\n",
       "  vote_count  movie_id  \n",
       "0      11800         0  \n",
       "1      11800         0  \n",
       "2      11800         0  \n",
       "3       2463        43  \n",
       "4       2463        43  \n",
       "\n",
       "[5 rows x 22 columns]"
      ]
     },
     "execution_count": 18,
     "metadata": {},
     "output_type": "execute_result"
    }
   ],
   "source": [
    "movie_id_col = \"movie_id\"\n",
    "new_movie_id_col = \"new_movie_id\"\n",
    "actors_movies_credits_df = actors_credits_df.merge(\n",
    "    pr_movies_df, right_on=movie_id_col, left_on=movie_id_col, how=\"inner\"\n",
    ")\n",
    "# Set new movie ids\n",
    "unique_movies_df = (\n",
    "    pr_movies_df[movie_id_col]\n",
    "    .to_frame()\n",
    "    .drop_duplicates()\n",
    "    .reset_index()\n",
    "    .rename(columns={\"index\": new_movie_id_col})\n",
    ")\n",
    "actors_movies_credits_df = (\n",
    "    actors_movies_credits_df.merge(\n",
    "        unique_movies_df, right_on=movie_id_col, left_on=movie_id_col, how=\"inner\"\n",
    "    )\n",
    "    .drop(columns=movie_id_col)\n",
    "    .rename(columns={new_movie_id_col: movie_id_col})\n",
    ")\n",
    "\n",
    "actors_movies_credits_df.head()"
   ]
  },
  {
   "cell_type": "code",
   "execution_count": 19,
   "metadata": {},
   "outputs": [
    {
     "data": {
      "text/html": [
       "<div>\n",
       "<style scoped>\n",
       "    .dataframe tbody tr th:only-of-type {\n",
       "        vertical-align: middle;\n",
       "    }\n",
       "\n",
       "    .dataframe tbody tr th {\n",
       "        vertical-align: top;\n",
       "    }\n",
       "\n",
       "    .dataframe thead th {\n",
       "        text-align: right;\n",
       "    }\n",
       "</style>\n",
       "<table border=\"1\" class=\"dataframe\">\n",
       "  <thead>\n",
       "    <tr style=\"text-align: right;\">\n",
       "      <th></th>\n",
       "      <th>new_movie_id</th>\n",
       "      <th>movie_id</th>\n",
       "      <th>title</th>\n",
       "    </tr>\n",
       "  </thead>\n",
       "  <tbody>\n",
       "    <tr>\n",
       "      <th>0</th>\n",
       "      <td>0</td>\n",
       "      <td>19995</td>\n",
       "      <td>Avatar</td>\n",
       "    </tr>\n",
       "    <tr>\n",
       "      <th>1</th>\n",
       "      <td>1</td>\n",
       "      <td>285</td>\n",
       "      <td>Pirates of the Caribbean: At World's End</td>\n",
       "    </tr>\n",
       "    <tr>\n",
       "      <th>2</th>\n",
       "      <td>2</td>\n",
       "      <td>206647</td>\n",
       "      <td>Spectre</td>\n",
       "    </tr>\n",
       "    <tr>\n",
       "      <th>3</th>\n",
       "      <td>3</td>\n",
       "      <td>49026</td>\n",
       "      <td>The Dark Knight Rises</td>\n",
       "    </tr>\n",
       "    <tr>\n",
       "      <th>4</th>\n",
       "      <td>4</td>\n",
       "      <td>49529</td>\n",
       "      <td>John Carter</td>\n",
       "    </tr>\n",
       "  </tbody>\n",
       "</table>\n",
       "</div>"
      ],
      "text/plain": [
       "   new_movie_id  movie_id                                     title\n",
       "0             0     19995                                    Avatar\n",
       "1             1       285  Pirates of the Caribbean: At World's End\n",
       "2             2    206647                                   Spectre\n",
       "3             3     49026                     The Dark Knight Rises\n",
       "4             4     49529                               John Carter"
      ]
     },
     "execution_count": 19,
     "metadata": {},
     "output_type": "execute_result"
    }
   ],
   "source": [
    "aux_movies_df = unique_movies_df.merge(\n",
    "    pr_movies_df[[\"movie_id\", \"title\"]].drop_duplicates(),\n",
    "    right_on=\"movie_id\",\n",
    "    left_on=\"movie_id\",\n",
    ")\n",
    "aux_movies_df.head()"
   ]
  },
  {
   "cell_type": "code",
   "execution_count": 20,
   "metadata": {},
   "outputs": [
    {
     "data": {
      "text/plain": [
       "Index(['cast', 'crew', 'actors', 'actor_id', 'gender', 'order', 'budget',\n",
       "       'genres', 'keywords', 'original_language', 'popularity',\n",
       "       'production_companies', 'production_countries', 'release_date',\n",
       "       'revenue', 'runtime', 'spoken_languages', 'status', 'title',\n",
       "       'vote_average', 'vote_count', 'movie_id'],\n",
       "      dtype='object')"
      ]
     },
     "execution_count": 20,
     "metadata": {},
     "output_type": "execute_result"
    }
   ],
   "source": [
    "actors_movies_credits_df.columns"
   ]
  },
  {
   "cell_type": "code",
   "execution_count": 21,
   "metadata": {},
   "outputs": [
    {
     "data": {
      "text/plain": [
       "13997"
      ]
     },
     "execution_count": 21,
     "metadata": {},
     "output_type": "execute_result"
    }
   ],
   "source": [
    "len(actors_movies_credits_df)"
   ]
  },
  {
   "cell_type": "code",
   "execution_count": 22,
   "metadata": {},
   "outputs": [
    {
     "data": {
      "text/html": [
       "<div>\n",
       "<style scoped>\n",
       "    .dataframe tbody tr th:only-of-type {\n",
       "        vertical-align: middle;\n",
       "    }\n",
       "\n",
       "    .dataframe tbody tr th {\n",
       "        vertical-align: top;\n",
       "    }\n",
       "\n",
       "    .dataframe thead th {\n",
       "        text-align: right;\n",
       "    }\n",
       "</style>\n",
       "<table border=\"1\" class=\"dataframe\">\n",
       "  <thead>\n",
       "    <tr style=\"text-align: right;\">\n",
       "      <th></th>\n",
       "      <th>movie_id</th>\n",
       "      <th>cast</th>\n",
       "      <th>crew</th>\n",
       "      <th>gender</th>\n",
       "      <th>budget</th>\n",
       "      <th>genres</th>\n",
       "      <th>keywords</th>\n",
       "      <th>original_language</th>\n",
       "      <th>popularity</th>\n",
       "      <th>production_companies</th>\n",
       "      <th>production_countries</th>\n",
       "      <th>release_date</th>\n",
       "      <th>revenue</th>\n",
       "      <th>runtime</th>\n",
       "      <th>spoken_languages</th>\n",
       "      <th>status</th>\n",
       "      <th>title</th>\n",
       "      <th>vote_average</th>\n",
       "      <th>vote_count</th>\n",
       "    </tr>\n",
       "    <tr>\n",
       "      <th>actor_id</th>\n",
       "      <th></th>\n",
       "      <th></th>\n",
       "      <th></th>\n",
       "      <th></th>\n",
       "      <th></th>\n",
       "      <th></th>\n",
       "      <th></th>\n",
       "      <th></th>\n",
       "      <th></th>\n",
       "      <th></th>\n",
       "      <th></th>\n",
       "      <th></th>\n",
       "      <th></th>\n",
       "      <th></th>\n",
       "      <th></th>\n",
       "      <th></th>\n",
       "      <th></th>\n",
       "      <th></th>\n",
       "      <th></th>\n",
       "    </tr>\n",
       "  </thead>\n",
       "  <tbody>\n",
       "    <tr>\n",
       "      <th>0</th>\n",
       "      <td>{3619}</td>\n",
       "      <td>{Michael Richards, Victoria Jackson, David Bow...</td>\n",
       "      <td>{Jay Levey}</td>\n",
       "      <td>0</td>\n",
       "      <td>5000000.0</td>\n",
       "      <td>{Comedy}</td>\n",
       "      <td>{tv station, satire, game show, music spoof, i...</td>\n",
       "      <td>{en}</td>\n",
       "      <td>4.070044</td>\n",
       "      <td>{Orion Pictures, Cinecorp}</td>\n",
       "      <td>{United States of America}</td>\n",
       "      <td>[1989-07-21]</td>\n",
       "      <td>0.0</td>\n",
       "      <td>97.0</td>\n",
       "      <td>{English}</td>\n",
       "      <td>[Released]</td>\n",
       "      <td>{UHF}</td>\n",
       "      <td>6.7</td>\n",
       "      <td>89.0</td>\n",
       "    </tr>\n",
       "    <tr>\n",
       "      <th>1</th>\n",
       "      <td>{761, 1233}</td>\n",
       "      <td>{Sterling K. Brown, Terrence Howard, Joy Bryan...</td>\n",
       "      <td>{Jon Avnet, Jim Sheridan}</td>\n",
       "      <td>2</td>\n",
       "      <td>50000000.0</td>\n",
       "      <td>{Thriller, Action, Crime, Drama}</td>\n",
       "      <td>{dirty cop, revenge, plot twist, career, music...</td>\n",
       "      <td>{en}</td>\n",
       "      <td>15.633081</td>\n",
       "      <td>{Paramount Pictures, InVenture Entertainment, ...</td>\n",
       "      <td>{United States of America}</td>\n",
       "      <td>[2008-09-11, 2005-11-09]</td>\n",
       "      <td>59808547.0</td>\n",
       "      <td>218.0</td>\n",
       "      <td>{English, Pусский, Español}</td>\n",
       "      <td>[Released, Released]</td>\n",
       "      <td>{Righteous Kill, Get Rich or Die Tryin'}</td>\n",
       "      <td>6.1</td>\n",
       "      <td>280.5</td>\n",
       "    </tr>\n",
       "    <tr>\n",
       "      <th>2</th>\n",
       "      <td>{4034}</td>\n",
       "      <td>{Vanessa Evigan, Ron Roggé, Piper Mackenzie Ha...</td>\n",
       "      <td>{John Murlowski}</td>\n",
       "      <td>2</td>\n",
       "      <td>0.0</td>\n",
       "      <td>{Family, Comedy}</td>\n",
       "      <td>{}</td>\n",
       "      <td>{en}</td>\n",
       "      <td>0.630226</td>\n",
       "      <td>{}</td>\n",
       "      <td>{United States of America}</td>\n",
       "      <td>[2010-12-01]</td>\n",
       "      <td>0.0</td>\n",
       "      <td>89.0</td>\n",
       "      <td>{English}</td>\n",
       "      <td>[Released]</td>\n",
       "      <td>{Christmas Mail}</td>\n",
       "      <td>5.0</td>\n",
       "      <td>15.0</td>\n",
       "    </tr>\n",
       "    <tr>\n",
       "      <th>3</th>\n",
       "      <td>{1789}</td>\n",
       "      <td>{Ali Larter, Sarah Carter, Noel Fisher, James ...</td>\n",
       "      <td>{David R. Ellis}</td>\n",
       "      <td>1</td>\n",
       "      <td>26000000.0</td>\n",
       "      <td>{Horror, Mystery}</td>\n",
       "      <td>{ambulance, premonition, hospital}</td>\n",
       "      <td>{en}</td>\n",
       "      <td>37.355826</td>\n",
       "      <td>{New Line Cinema, Zide-Perry Productions}</td>\n",
       "      <td>{United States of America}</td>\n",
       "      <td>[2003-01-31]</td>\n",
       "      <td>90426405.0</td>\n",
       "      <td>90.0</td>\n",
       "      <td>{English}</td>\n",
       "      <td>[Released]</td>\n",
       "      <td>{Final Destination 2}</td>\n",
       "      <td>5.9</td>\n",
       "      <td>1023.0</td>\n",
       "    </tr>\n",
       "    <tr>\n",
       "      <th>4</th>\n",
       "      <td>{4203}</td>\n",
       "      <td>{Michael Welch, Shawnee Smith, Kevin Pollak, E...</td>\n",
       "      <td>{Brad J. Silverman}</td>\n",
       "      <td>1</td>\n",
       "      <td>0.0</td>\n",
       "      <td>{Music, Drama}</td>\n",
       "      <td>{christian}</td>\n",
       "      <td>{en}</td>\n",
       "      <td>2.160586</td>\n",
       "      <td>{Coram Deo Studios, Birchwood Pictures}</td>\n",
       "      <td>{United States of America}</td>\n",
       "      <td>[2013-10-04]</td>\n",
       "      <td>0.0</td>\n",
       "      <td>102.0</td>\n",
       "      <td>{English}</td>\n",
       "      <td>[Released]</td>\n",
       "      <td>{Grace Unplugged}</td>\n",
       "      <td>6.0</td>\n",
       "      <td>24.0</td>\n",
       "    </tr>\n",
       "  </tbody>\n",
       "</table>\n",
       "</div>"
      ],
      "text/plain": [
       "             movie_id                                               cast  \\\n",
       "actor_id                                                                   \n",
       "0              {3619}  {Michael Richards, Victoria Jackson, David Bow...   \n",
       "1         {761, 1233}  {Sterling K. Brown, Terrence Howard, Joy Bryan...   \n",
       "2              {4034}  {Vanessa Evigan, Ron Roggé, Piper Mackenzie Ha...   \n",
       "3              {1789}  {Ali Larter, Sarah Carter, Noel Fisher, James ...   \n",
       "4              {4203}  {Michael Welch, Shawnee Smith, Kevin Pollak, E...   \n",
       "\n",
       "                               crew  gender      budget  \\\n",
       "actor_id                                                  \n",
       "0                       {Jay Levey}       0   5000000.0   \n",
       "1         {Jon Avnet, Jim Sheridan}       2  50000000.0   \n",
       "2                  {John Murlowski}       2         0.0   \n",
       "3                  {David R. Ellis}       1  26000000.0   \n",
       "4               {Brad J. Silverman}       1         0.0   \n",
       "\n",
       "                                    genres  \\\n",
       "actor_id                                     \n",
       "0                                 {Comedy}   \n",
       "1         {Thriller, Action, Crime, Drama}   \n",
       "2                         {Family, Comedy}   \n",
       "3                        {Horror, Mystery}   \n",
       "4                           {Music, Drama}   \n",
       "\n",
       "                                                   keywords original_language  \\\n",
       "actor_id                                                                        \n",
       "0         {tv station, satire, game show, music spoof, i...              {en}   \n",
       "1         {dirty cop, revenge, plot twist, career, music...              {en}   \n",
       "2                                                        {}              {en}   \n",
       "3                        {ambulance, premonition, hospital}              {en}   \n",
       "4                                               {christian}              {en}   \n",
       "\n",
       "          popularity                               production_companies  \\\n",
       "actor_id                                                                  \n",
       "0           4.070044                         {Orion Pictures, Cinecorp}   \n",
       "1          15.633081  {Paramount Pictures, InVenture Entertainment, ...   \n",
       "2           0.630226                                                 {}   \n",
       "3          37.355826          {New Line Cinema, Zide-Perry Productions}   \n",
       "4           2.160586            {Coram Deo Studios, Birchwood Pictures}   \n",
       "\n",
       "                production_countries              release_date     revenue  \\\n",
       "actor_id                                                                     \n",
       "0         {United States of America}              [1989-07-21]         0.0   \n",
       "1         {United States of America}  [2008-09-11, 2005-11-09]  59808547.0   \n",
       "2         {United States of America}              [2010-12-01]         0.0   \n",
       "3         {United States of America}              [2003-01-31]  90426405.0   \n",
       "4         {United States of America}              [2013-10-04]         0.0   \n",
       "\n",
       "          runtime             spoken_languages                status  \\\n",
       "actor_id                                                               \n",
       "0            97.0                    {English}            [Released]   \n",
       "1           218.0  {English, Pусский, Español}  [Released, Released]   \n",
       "2            89.0                    {English}            [Released]   \n",
       "3            90.0                    {English}            [Released]   \n",
       "4           102.0                    {English}            [Released]   \n",
       "\n",
       "                                             title  vote_average  vote_count  \n",
       "actor_id                                                                      \n",
       "0                                            {UHF}           6.7        89.0  \n",
       "1         {Righteous Kill, Get Rich or Die Tryin'}           6.1       280.5  \n",
       "2                                 {Christmas Mail}           5.0        15.0  \n",
       "3                            {Final Destination 2}           5.9      1023.0  \n",
       "4                                {Grace Unplugged}           6.0        24.0  "
      ]
     },
     "execution_count": 22,
     "metadata": {},
     "output_type": "execute_result"
    }
   ],
   "source": [
    "get_union = lambda s: reduce(set.union, s)\n",
    "actor_id_col = \"actor_id\"\n",
    "actors_agg_df = (\n",
    "    actors_movies_credits_df.groupby(actors_col)\n",
    "    .aggregate(\n",
    "        {\n",
    "            \"movie_id\": set,\n",
    "            \"cast\": get_union,\n",
    "            \"crew\": get_union,\n",
    "            \"actor_id\": max,\n",
    "            \"gender\": max,\n",
    "            \"budget\": \"mean\",\n",
    "            \"genres\": get_union,\n",
    "            \"keywords\": get_union,\n",
    "            \"original_language\": set,\n",
    "            \"popularity\": \"mean\",\n",
    "            \"production_companies\": get_union,\n",
    "            \"production_countries\": get_union,\n",
    "            \"release_date\": list,\n",
    "            \"revenue\": \"mean\",\n",
    "            \"runtime\": sum,\n",
    "            \"spoken_languages\": get_union,\n",
    "            \"status\": list,\n",
    "            \"title\": set,\n",
    "            \"vote_average\": \"mean\",\n",
    "            \"vote_count\": \"mean\",\n",
    "        }\n",
    "    )\n",
    "    .set_index(actor_id_col)\n",
    ")\n",
    "actors_agg_df.head()"
   ]
  },
  {
   "cell_type": "markdown",
   "metadata": {},
   "source": [
    "## Build graph"
   ]
  },
  {
   "cell_type": "code",
   "execution_count": 23,
   "metadata": {},
   "outputs": [
    {
     "data": {
      "text/html": [
       "<div>\n",
       "<style scoped>\n",
       "    .dataframe tbody tr th:only-of-type {\n",
       "        vertical-align: middle;\n",
       "    }\n",
       "\n",
       "    .dataframe tbody tr th {\n",
       "        vertical-align: top;\n",
       "    }\n",
       "\n",
       "    .dataframe thead th {\n",
       "        text-align: right;\n",
       "    }\n",
       "</style>\n",
       "<table border=\"1\" class=\"dataframe\">\n",
       "  <thead>\n",
       "    <tr style=\"text-align: right;\">\n",
       "      <th></th>\n",
       "      <th>cast</th>\n",
       "      <th>crew</th>\n",
       "      <th>production_companies</th>\n",
       "      <th>genres</th>\n",
       "      <th>movie_id</th>\n",
       "    </tr>\n",
       "    <tr>\n",
       "      <th>actor_id</th>\n",
       "      <th></th>\n",
       "      <th></th>\n",
       "      <th></th>\n",
       "      <th></th>\n",
       "      <th></th>\n",
       "    </tr>\n",
       "  </thead>\n",
       "  <tbody>\n",
       "    <tr>\n",
       "      <th>0</th>\n",
       "      <td>{Michael Richards, Victoria Jackson, David Bow...</td>\n",
       "      <td>{Jay Levey}</td>\n",
       "      <td>{Orion Pictures, Cinecorp}</td>\n",
       "      <td>{Comedy}</td>\n",
       "      <td>{3619}</td>\n",
       "    </tr>\n",
       "    <tr>\n",
       "      <th>1</th>\n",
       "      <td>{Sterling K. Brown, Terrence Howard, Joy Bryan...</td>\n",
       "      <td>{Jon Avnet, Jim Sheridan}</td>\n",
       "      <td>{Paramount Pictures, InVenture Entertainment, ...</td>\n",
       "      <td>{Thriller, Action, Crime, Drama}</td>\n",
       "      <td>{761, 1233}</td>\n",
       "    </tr>\n",
       "    <tr>\n",
       "      <th>2</th>\n",
       "      <td>{Vanessa Evigan, Ron Roggé, Piper Mackenzie Ha...</td>\n",
       "      <td>{John Murlowski}</td>\n",
       "      <td>{}</td>\n",
       "      <td>{Family, Comedy}</td>\n",
       "      <td>{4034}</td>\n",
       "    </tr>\n",
       "    <tr>\n",
       "      <th>3</th>\n",
       "      <td>{Ali Larter, Sarah Carter, Noel Fisher, James ...</td>\n",
       "      <td>{David R. Ellis}</td>\n",
       "      <td>{New Line Cinema, Zide-Perry Productions}</td>\n",
       "      <td>{Horror, Mystery}</td>\n",
       "      <td>{1789}</td>\n",
       "    </tr>\n",
       "    <tr>\n",
       "      <th>4</th>\n",
       "      <td>{Michael Welch, Shawnee Smith, Kevin Pollak, E...</td>\n",
       "      <td>{Brad J. Silverman}</td>\n",
       "      <td>{Coram Deo Studios, Birchwood Pictures}</td>\n",
       "      <td>{Music, Drama}</td>\n",
       "      <td>{4203}</td>\n",
       "    </tr>\n",
       "  </tbody>\n",
       "</table>\n",
       "</div>"
      ],
      "text/plain": [
       "                                                       cast  \\\n",
       "actor_id                                                      \n",
       "0         {Michael Richards, Victoria Jackson, David Bow...   \n",
       "1         {Sterling K. Brown, Terrence Howard, Joy Bryan...   \n",
       "2         {Vanessa Evigan, Ron Roggé, Piper Mackenzie Ha...   \n",
       "3         {Ali Larter, Sarah Carter, Noel Fisher, James ...   \n",
       "4         {Michael Welch, Shawnee Smith, Kevin Pollak, E...   \n",
       "\n",
       "                               crew  \\\n",
       "actor_id                              \n",
       "0                       {Jay Levey}   \n",
       "1         {Jon Avnet, Jim Sheridan}   \n",
       "2                  {John Murlowski}   \n",
       "3                  {David R. Ellis}   \n",
       "4               {Brad J. Silverman}   \n",
       "\n",
       "                                       production_companies  \\\n",
       "actor_id                                                      \n",
       "0                                {Orion Pictures, Cinecorp}   \n",
       "1         {Paramount Pictures, InVenture Entertainment, ...   \n",
       "2                                                        {}   \n",
       "3                 {New Line Cinema, Zide-Perry Productions}   \n",
       "4                   {Coram Deo Studios, Birchwood Pictures}   \n",
       "\n",
       "                                    genres     movie_id  \n",
       "actor_id                                                 \n",
       "0                                 {Comedy}       {3619}  \n",
       "1         {Thriller, Action, Crime, Drama}  {761, 1233}  \n",
       "2                         {Family, Comedy}       {4034}  \n",
       "3                        {Horror, Mystery}       {1789}  \n",
       "4                           {Music, Drama}       {4203}  "
      ]
     },
     "execution_count": 23,
     "metadata": {},
     "output_type": "execute_result"
    }
   ],
   "source": [
    "nodes_df = actors_agg_df[[\"cast\", \"crew\", \"production_companies\", \"genres\", \"movie_id\"]]\n",
    "nodes_df.head()"
   ]
  },
  {
   "cell_type": "code",
   "execution_count": 24,
   "metadata": {},
   "outputs": [],
   "source": [
    "dict_actor_id = dict(zip(actors_df[actors_col], actors_df[actor_id_col]))\n",
    "dict_id_actor = dict(zip(actors_df[actor_id_col], actors_df[actors_col]))"
   ]
  },
  {
   "cell_type": "markdown",
   "metadata": {},
   "source": [
    "## Get cast intersecctions length mat"
   ]
  },
  {
   "cell_type": "code",
   "execution_count": 25,
   "metadata": {},
   "outputs": [],
   "source": [
    "import timeit\n",
    "\n",
    "\n",
    "def get_intersections_length_adj_mat(col):\n",
    "    \"Get the intersecction length of the set of each entry with the set of every other entry in the column\"\n",
    "    start = timeit.default_timer()\n",
    "    adj = np.zeros((col.shape[0], col.shape[0]))\n",
    "    for (i, set_row) in enumerate(col):\n",
    "        for (j, set_col) in enumerate(col):\n",
    "            try:\n",
    "                adj[i, j] = len(set_row.intersection(set_col))\n",
    "            except AttributeError:\n",
    "                adj[i, j] = 0\n",
    "    stop = timeit.default_timer()\n",
    "    print(\"Time: \", stop - start)\n",
    "    return adj"
   ]
  },
  {
   "cell_type": "code",
   "execution_count": 26,
   "metadata": {},
   "outputs": [],
   "source": [
    "def get_unions_length_adj_mat(col):\n",
    "    \"Get the unions length of the set of each entry with the set of every other entry in the column\"\n",
    "    start = timeit.default_timer()\n",
    "    adj = np.zeros((col.shape[0], col.shape[0]))\n",
    "    for (i, set_row) in enumerate(col):\n",
    "        for (j, set_col) in enumerate(col):\n",
    "            try:\n",
    "                adj[i, j] = len(set_row.union(set_col))\n",
    "            except AttributeError:\n",
    "                adj[i, j] = 0\n",
    "    stop = timeit.default_timer()\n",
    "    print(\"Time: \", stop - start)\n",
    "    return adj"
   ]
  },
  {
   "cell_type": "markdown",
   "metadata": {},
   "source": [
    "## Get cast intersections"
   ]
  },
  {
   "cell_type": "code",
   "execution_count": 27,
   "metadata": {},
   "outputs": [
    {
     "name": "stdout",
     "output_type": "stream",
     "text": [
      "Time:  38.151904437\n"
     ]
    }
   ],
   "source": [
    "col = \"cast\"\n",
    "cast_col = nodes_df[col]\n",
    "cast_adj_raw = get_intersections_length_adj_mat(cast_col)\n",
    "cast_adj_diag = np.diag(np.diag(cast_adj_raw))\n",
    "cast_adj = cast_adj_raw - cast_adj_diag"
   ]
  },
  {
   "cell_type": "code",
   "execution_count": 28,
   "metadata": {},
   "outputs": [
    {
     "data": {
      "text/plain": [
       "<matplotlib.image.AxesImage at 0x1259af810>"
      ]
     },
     "execution_count": 28,
     "metadata": {},
     "output_type": "execute_result"
    },
    {
     "data": {
      "image/png": "[encoded data removed]",
      "text/plain": [
       "<Figure size 432x288 with 1 Axes>"
      ]
     },
     "metadata": {
      "needs_background": "light"
     },
     "output_type": "display_data"
    }
   ],
   "source": [
    "plt.spy(cast_adj)"
   ]
  },
  {
   "cell_type": "code",
   "execution_count": 29,
   "metadata": {},
   "outputs": [],
   "source": [
    "np.save(\"cast_adj\", cast_adj)"
   ]
  },
  {
   "cell_type": "markdown",
   "metadata": {},
   "source": [
    "## Load cast adjacency matrix"
   ]
  },
  {
   "cell_type": "code",
   "execution_count": 30,
   "metadata": {},
   "outputs": [],
   "source": [
    "cast_adj = np.load(\"cast_adj.npy\")"
   ]
  },
  {
   "cell_type": "code",
   "execution_count": 31,
   "metadata": {},
   "outputs": [
    {
     "data": {
      "text/plain": [
       "(5517, 5517)"
      ]
     },
     "execution_count": 31,
     "metadata": {},
     "output_type": "execute_result"
    }
   ],
   "source": [
    "cast_adj.shape"
   ]
  },
  {
   "cell_type": "code",
   "execution_count": 32,
   "metadata": {},
   "outputs": [],
   "source": [
    "node_degree = cast_adj.sum(axis=0)"
   ]
  },
  {
   "cell_type": "code",
   "execution_count": 33,
   "metadata": {},
   "outputs": [
    {
     "name": "stdout",
     "output_type": "stream",
     "text": [
      "['Matt Damon', 'Robert De Niro', 'Bruce Willis', 'Johnny Depp', 'Mark Wahlberg', 'Denzel Washington', 'Owen Wilson', 'Ben Stiller', 'Samuel L. Jackson', 'Ben Affleck', 'Tom Cruise', 'Brad Pitt', 'Nicolas Cage', 'Tom Hanks', 'Leonardo DiCaprio', 'George Clooney', 'Harrison Ford', 'Christian Bale', 'Cameron Diaz', 'Will Ferrell']\n"
     ]
    }
   ],
   "source": [
    "most_connected_actors_id = np.argsort(-node_degree)[:20]\n",
    "most_connected_actors = [dict_id_actor.get(id_) for id_ in most_connected_actors_id]\n",
    "actors_df[actors_df[actor_id_col].isin(most_connected_actors_id)]\n",
    "print(most_connected_actors)"
   ]
  },
  {
   "cell_type": "markdown",
   "metadata": {},
   "source": [
    "## Get cast unions length mat"
   ]
  },
  {
   "cell_type": "code",
   "execution_count": 34,
   "metadata": {},
   "outputs": [
    {
     "name": "stdout",
     "output_type": "stream",
     "text": [
      "Time:  146.43614875\n"
     ]
    }
   ],
   "source": [
    "col = \"cast\"\n",
    "cast_col = nodes_df[col]\n",
    "cast_adj_union_raw = get_unions_length_adj_mat(cast_col)\n",
    "cast_adj_union_diag = np.diag(np.diag(cast_adj_union_raw))\n",
    "cast_adj_union = cast_adj_union_raw - cast_adj_union_diag"
   ]
  },
  {
   "cell_type": "code",
   "execution_count": 35,
   "metadata": {},
   "outputs": [
    {
     "data": {
      "text/plain": [
       "<matplotlib.image.AxesImage at 0x12586b910>"
      ]
     },
     "execution_count": 35,
     "metadata": {},
     "output_type": "execute_result"
    },
    {
     "data": {
      "image/png": "[encoded data removed]",
      "text/plain": [
       "<Figure size 432x288 with 1 Axes>"
      ]
     },
     "metadata": {
      "needs_background": "light"
     },
     "output_type": "display_data"
    }
   ],
   "source": [
    "plt.imshow(cast_adj_union, cmap=\"hot\", interpolation=\"none\")"
   ]
  },
  {
   "cell_type": "code",
   "execution_count": 36,
   "metadata": {},
   "outputs": [],
   "source": [
    "np.save(\"cast_adj_union\", cast_adj_union)"
   ]
  },
  {
   "cell_type": "markdown",
   "metadata": {},
   "source": [
    "## Get movies intersections length mat"
   ]
  },
  {
   "cell_type": "code",
   "execution_count": 37,
   "metadata": {},
   "outputs": [
    {
     "name": "stdout",
     "output_type": "stream",
     "text": [
      "Time:  16.400898885999993\n"
     ]
    }
   ],
   "source": [
    "col = \"movie_id\"\n",
    "movie_col = nodes_df[col]\n",
    "movie_adj_raw = get_intersections_length_adj_mat(movie_col)\n",
    "movie_adj_diag = np.diag(np.diag(movie_adj_raw))\n",
    "movie_adj = movie_adj_raw - movie_adj_diag"
   ]
  },
  {
   "cell_type": "code",
   "execution_count": 38,
   "metadata": {},
   "outputs": [
    {
     "data": {
      "text/plain": [
       "<matplotlib.image.AxesImage at 0x12585df90>"
      ]
     },
     "execution_count": 38,
     "metadata": {},
     "output_type": "execute_result"
    },
    {
     "data": {
      "image/png": "[encoded data removed]",
      "text/plain": [
       "<Figure size 432x288 with 1 Axes>"
      ]
     },
     "metadata": {
      "needs_background": "light"
     },
     "output_type": "display_data"
    }
   ],
   "source": [
    "plt.spy(movie_adj)"
   ]
  },
  {
   "cell_type": "code",
   "execution_count": 39,
   "metadata": {},
   "outputs": [],
   "source": [
    "np.save(\"movie_adj\", movie_adj)"
   ]
  },
  {
   "cell_type": "markdown",
   "metadata": {},
   "source": [
    "## Get movies union length mat"
   ]
  },
  {
   "cell_type": "code",
   "execution_count": 40,
   "metadata": {},
   "outputs": [
    {
     "name": "stdout",
     "output_type": "stream",
     "text": [
      "Time:  20.791676578999983\n"
     ]
    }
   ],
   "source": [
    "col = \"movie_id\"\n",
    "movie_col = nodes_df[col]\n",
    "movie_adj_union_raw = get_unions_length_adj_mat(movie_col)\n",
    "movie_adj_union_diag = np.diag(np.diag(movie_adj_union_raw))\n",
    "movie_adj_union = movie_adj_union_raw - movie_adj_union_diag"
   ]
  },
  {
   "cell_type": "code",
   "execution_count": 41,
   "metadata": {},
   "outputs": [
    {
     "data": {
      "text/plain": [
       "<matplotlib.image.AxesImage at 0x12567e2d0>"
      ]
     },
     "execution_count": 41,
     "metadata": {},
     "output_type": "execute_result"
    },
    {
     "data": {
      "image/png": "[encoded data removed]",
      "text/plain": [
       "<Figure size 432x288 with 1 Axes>"
      ]
     },
     "metadata": {
      "needs_background": "light"
     },
     "output_type": "display_data"
    }
   ],
   "source": [
    "plt.imshow(movie_adj_union, cmap=\"hot\", interpolation=\"none\")"
   ]
  },
  {
   "cell_type": "code",
   "execution_count": 42,
   "metadata": {},
   "outputs": [],
   "source": [
    "np.save(\"movie_adj_union\", movie_adj_union)"
   ]
  },
  {
   "cell_type": "markdown",
   "metadata": {},
   "source": [
    "## Get directors intersections lenght mat"
   ]
  },
  {
   "cell_type": "code",
   "execution_count": 43,
   "metadata": {},
   "outputs": [
    {
     "name": "stdout",
     "output_type": "stream",
     "text": [
      "Time:  18.220586407000013\n"
     ]
    }
   ],
   "source": [
    "col = \"crew\"\n",
    "crew_col = nodes_df[col]\n",
    "crew_adj_raw = get_intersections_length_adj_mat(crew_col)\n",
    "crew_adj_diag = np.diag(np.diag(crew_adj_raw))\n",
    "crew_adj = crew_adj_raw - crew_adj_diag"
   ]
  },
  {
   "cell_type": "code",
   "execution_count": 44,
   "metadata": {},
   "outputs": [
    {
     "data": {
      "text/plain": [
       "<matplotlib.image.AxesImage at 0x1255a36d0>"
      ]
     },
     "execution_count": 44,
     "metadata": {},
     "output_type": "execute_result"
    },
    {
     "data": {
      "image/png": "[encoded data removed]",
      "text/plain": [
       "<Figure size 432x288 with 1 Axes>"
      ]
     },
     "metadata": {
      "needs_background": "light"
     },
     "output_type": "display_data"
    }
   ],
   "source": [
    "plt.spy(crew_adj)"
   ]
  },
  {
   "cell_type": "code",
   "execution_count": 45,
   "metadata": {},
   "outputs": [],
   "source": [
    "np.save(\"crew_adj\", crew_adj)"
   ]
  },
  {
   "cell_type": "markdown",
   "metadata": {},
   "source": [
    "## Get directors union length mat"
   ]
  },
  {
   "cell_type": "code",
   "execution_count": 46,
   "metadata": {},
   "outputs": [
    {
     "name": "stdout",
     "output_type": "stream",
     "text": [
      "Time:  21.837577622999987\n"
     ]
    }
   ],
   "source": [
    "col = \"crew\"\n",
    "crew_col = nodes_df[col]\n",
    "crew_adj_union_raw = get_unions_length_adj_mat(crew_col)\n",
    "crew_adj_union_diag = np.diag(np.diag(crew_adj_union_raw))\n",
    "crew_adj_union = crew_adj_union_raw - crew_adj_union_diag"
   ]
  },
  {
   "cell_type": "code",
   "execution_count": 47,
   "metadata": {},
   "outputs": [
    {
     "data": {
      "text/plain": [
       "<matplotlib.image.AxesImage at 0x125496f50>"
      ]
     },
     "execution_count": 47,
     "metadata": {},
     "output_type": "execute_result"
    },
    {
     "data": {
      "image/png": "[encoded data removed]",
      "text/plain": [
       "<Figure size 432x288 with 1 Axes>"
      ]
     },
     "metadata": {
      "needs_background": "light"
     },
     "output_type": "display_data"
    }
   ],
   "source": [
    "plt.imshow(crew_adj_union, cmap=\"hot\", interpolation=\"none\")"
   ]
  },
  {
   "cell_type": "code",
   "execution_count": 48,
   "metadata": {},
   "outputs": [],
   "source": [
    "np.save(\"crew_adj_union\", crew_adj_union)"
   ]
  },
  {
   "cell_type": "markdown",
   "metadata": {},
   "source": [
    "## Get production companies intersections length mat"
   ]
  },
  {
   "cell_type": "code",
   "execution_count": 49,
   "metadata": {},
   "outputs": [
    {
     "name": "stdout",
     "output_type": "stream",
     "text": [
      "Time:  18.342983604999972\n"
     ]
    }
   ],
   "source": [
    "col = \"production_companies\"\n",
    "prod_comp_col = nodes_df[col]\n",
    "prod_comp_adj_raw = get_intersections_length_adj_mat(prod_comp_col)\n",
    "prod_comp_adj_diag = np.diag(np.diag(prod_comp_adj_raw))\n",
    "prod_comp_adj = prod_comp_adj_raw - prod_comp_adj_diag"
   ]
  },
  {
   "cell_type": "code",
   "execution_count": 50,
   "metadata": {},
   "outputs": [
    {
     "data": {
      "text/plain": [
       "<matplotlib.image.AxesImage at 0x1254289d0>"
      ]
     },
     "execution_count": 50,
     "metadata": {},
     "output_type": "execute_result"
    },
    {
     "data": {
      "image/png": "[encoded data removed]",
      "text/plain": [
       "<Figure size 432x288 with 1 Axes>"
      ]
     },
     "metadata": {
      "needs_background": "light"
     },
     "output_type": "display_data"
    }
   ],
   "source": [
    "plt.spy(prod_comp_adj)"
   ]
  },
  {
   "cell_type": "code",
   "execution_count": 51,
   "metadata": {},
   "outputs": [],
   "source": [
    "np.save(\"prod_comp_adj\", prod_comp_adj)"
   ]
  },
  {
   "cell_type": "markdown",
   "metadata": {},
   "source": [
    "## Get production companies unions length mat"
   ]
  },
  {
   "cell_type": "code",
   "execution_count": 52,
   "metadata": {},
   "outputs": [
    {
     "name": "stdout",
     "output_type": "stream",
     "text": [
      "Time:  30.561148978000006\n"
     ]
    }
   ],
   "source": [
    "col = \"production_companies\"\n",
    "prod_comp_col = nodes_df[col]\n",
    "prod_comp_adj_union_raw = get_unions_length_adj_mat(prod_comp_col)\n",
    "prod_comp_adj_union_diag = np.diag(np.diag(prod_comp_adj_union_raw))\n",
    "prod_comp_adj_union = prod_comp_adj_union_raw - prod_comp_adj_union_diag"
   ]
  },
  {
   "cell_type": "code",
   "execution_count": 53,
   "metadata": {},
   "outputs": [
    {
     "data": {
      "text/plain": [
       "<matplotlib.image.AxesImage at 0x12518c3d0>"
      ]
     },
     "execution_count": 53,
     "metadata": {},
     "output_type": "execute_result"
    },
    {
     "data": {
      "image/png": "[encoded data removed]",
      "text/plain": [
       "<Figure size 432x288 with 1 Axes>"
      ]
     },
     "metadata": {
      "needs_background": "light"
     },
     "output_type": "display_data"
    }
   ],
   "source": [
    "plt.imshow(prod_comp_adj_union, cmap=\"hot\", interpolation=\"none\")"
   ]
  },
  {
   "cell_type": "code",
   "execution_count": 54,
   "metadata": {},
   "outputs": [],
   "source": [
    "np.save(\"prod_comp_adj_union\", prod_comp_adj_union)"
   ]
  },
  {
   "cell_type": "markdown",
   "metadata": {},
   "source": [
    "## Get genres intersections length mat"
   ]
  },
  {
   "cell_type": "code",
   "execution_count": 55,
   "metadata": {},
   "outputs": [
    {
     "name": "stdout",
     "output_type": "stream",
     "text": [
      "Time:  19.109947761\n"
     ]
    }
   ],
   "source": [
    "col = \"genres\"\n",
    "genres_col = nodes_df[col]\n",
    "genres_adj_raw = get_intersections_length_adj_mat(genres_col)\n",
    "genres_adj_diag = np.diag(np.diag(genres_adj_raw))\n",
    "genres_adj = genres_adj_raw - genres_adj_diag"
   ]
  },
  {
   "cell_type": "code",
   "execution_count": 56,
   "metadata": {},
   "outputs": [
    {
     "data": {
      "text/plain": [
       "<matplotlib.image.AxesImage at 0x1250f1590>"
      ]
     },
     "execution_count": 56,
     "metadata": {},
     "output_type": "execute_result"
    },
    {
     "data": {
      "image/png": "[encoded data removed]",
      "text/plain": [
       "<Figure size 432x288 with 1 Axes>"
      ]
     },
     "metadata": {
      "needs_background": "light"
     },
     "output_type": "display_data"
    }
   ],
   "source": [
    "plt.spy(genres_adj)"
   ]
  },
  {
   "cell_type": "code",
   "execution_count": 57,
   "metadata": {},
   "outputs": [],
   "source": [
    "np.save(\"genres_adj\", genres_adj)"
   ]
  },
  {
   "cell_type": "markdown",
   "metadata": {},
   "source": [
    "## Get genres unions length mat"
   ]
  },
  {
   "cell_type": "code",
   "execution_count": 58,
   "metadata": {},
   "outputs": [
    {
     "name": "stdout",
     "output_type": "stream",
     "text": [
      "Time:  23.09909724099998\n"
     ]
    }
   ],
   "source": [
    "col = \"genres\"\n",
    "genres_col = nodes_df[col]\n",
    "genres_adj_union_raw = get_unions_length_adj_mat(genres_col)\n",
    "genres_adj_union_diag = np.diag(np.diag(genres_adj_union_raw))\n",
    "genres_adj_union = genres_adj_union_raw - genres_adj_union_diag"
   ]
  },
  {
   "cell_type": "code",
   "execution_count": 59,
   "metadata": {},
   "outputs": [
    {
     "data": {
      "text/plain": [
       "<matplotlib.image.AxesImage at 0x124fb3850>"
      ]
     },
     "execution_count": 59,
     "metadata": {},
     "output_type": "execute_result"
    },
    {
     "data": {
      "image/png": "[encoded data removed]",
      "text/plain": [
       "<Figure size 432x288 with 1 Axes>"
      ]
     },
     "metadata": {
      "needs_background": "light"
     },
     "output_type": "display_data"
    }
   ],
   "source": [
    "plt.imshow(genres_adj_union, cmap=\"hot\", interpolation=\"none\")"
   ]
  },
  {
   "cell_type": "code",
   "execution_count": 60,
   "metadata": {},
   "outputs": [],
   "source": [
    "np.save(\"genres_adj_union\", genres_adj_union)"
   ]
  },
  {
   "cell_type": "markdown",
   "metadata": {},
   "source": [
    "## Aggregated adjacency matrix"
   ]
  },
  {
   "cell_type": "code",
   "execution_count": 61,
   "metadata": {},
   "outputs": [
    {
     "name": "stderr",
     "output_type": "stream",
     "text": [
      "/Users/arielalba/anaconda3/envs/network-tour/lib/python3.7/site-packages/ipykernel_launcher.py:14: RuntimeWarning: invalid value encountered in true_divide\n",
      "  \n"
     ]
    },
    {
     "data": {
      "text/plain": [
       "167980.79168988537"
      ]
     },
     "execution_count": 61,
     "metadata": {},
     "output_type": "execute_result"
    }
   ],
   "source": [
    "agg_adj = np.divide(\n",
    "    (\n",
    "        0.3 * cast_adj\n",
    "        + 0.3 * movie_adj\n",
    "        + 0.2 * crew_adj\n",
    "        + 0.1 * genres_adj\n",
    "        + 0.1 * prod_comp_adj\n",
    "    ),\n",
    "    (\n",
    "        0.3 * cast_adj_union\n",
    "        + 0.3 * movie_adj_union\n",
    "        + 0.2 * crew_adj_union\n",
    "        + 0.1 * genres_adj_union\n",
    "        + 0.1 * prod_comp_adj_union\n",
    "    ),\n",
    ")\n",
    "agg_adj = np.where(np.isnan(agg_adj), 0, agg_adj)\n",
    "np.sum(agg_adj)"
   ]
  },
  {
   "cell_type": "code",
   "execution_count": 62,
   "metadata": {},
   "outputs": [
    {
     "data": {
      "text/plain": [
       "<matplotlib.image.AxesImage at 0x124f64590>"
      ]
     },
     "execution_count": 62,
     "metadata": {},
     "output_type": "execute_result"
    },
    {
     "data": {
      "image/png": "[encoded data removed]",
      "text/plain": [
       "<Figure size 432x288 with 1 Axes>"
      ]
     },
     "metadata": {
      "needs_background": "light"
     },
     "output_type": "display_data"
    }
   ],
   "source": [
    "plt.spy(agg_adj)"
   ]
  },
  {
   "cell_type": "code",
   "execution_count": 63,
   "metadata": {},
   "outputs": [
    {
     "data": {
      "text/plain": [
       "<matplotlib.image.AxesImage at 0x124e0f9d0>"
      ]
     },
     "execution_count": 63,
     "metadata": {},
     "output_type": "execute_result"
    },
    {
     "data": {
      "image/png": "[encoded data removed]",
      "text/plain": [
       "<Figure size 432x288 with 1 Axes>"
      ]
     },
     "metadata": {
      "needs_background": "light"
     },
     "output_type": "display_data"
    }
   ],
   "source": [
    "plt.imshow(agg_adj, cmap=\"hot\", interpolation=\"none\")"
   ]
  },
  {
   "cell_type": "code",
   "execution_count": 64,
   "metadata": {},
   "outputs": [
    {
     "data": {
      "text/plain": [
       "0.0"
      ]
     },
     "execution_count": 64,
     "metadata": {},
     "output_type": "execute_result"
    }
   ],
   "source": [
    "np.min(agg_adj)"
   ]
  },
  {
   "cell_type": "code",
   "execution_count": 65,
   "metadata": {},
   "outputs": [
    {
     "data": {
      "text/plain": [
       "0.9830985915492959"
      ]
     },
     "execution_count": 65,
     "metadata": {},
     "output_type": "execute_result"
    }
   ],
   "source": [
    "np.max(agg_adj)"
   ]
  },
  {
   "cell_type": "code",
   "execution_count": 66,
   "metadata": {},
   "outputs": [],
   "source": [
    "np.save(\"agg_adj\", agg_adj)"
   ]
  },
  {
   "cell_type": "code",
   "execution_count": 67,
   "metadata": {},
   "outputs": [
    {
     "data": {
      "text/plain": [
       "array([[0.        , 0.        , 0.01612903, ..., 0.        , 0.        ,\n",
       "        0.        ],\n",
       "       [0.        , 0.        , 0.        , ..., 0.00921659, 0.00977199,\n",
       "        0.00877193],\n",
       "       [0.01612903, 0.        , 0.        , ..., 0.        , 0.        ,\n",
       "        0.        ],\n",
       "       ...,\n",
       "       [0.        , 0.00921659, 0.        , ..., 0.        , 0.01129944,\n",
       "        0.01020408],\n",
       "       [0.        , 0.00977199, 0.        , ..., 0.01129944, 0.        ,\n",
       "        0.0106383 ],\n",
       "       [0.        , 0.00877193, 0.        , ..., 0.01020408, 0.0106383 ,\n",
       "        0.        ]])"
      ]
     },
     "execution_count": 67,
     "metadata": {},
     "output_type": "execute_result"
    }
   ],
   "source": [
    "np.load(\"agg_adj.npy\")"
   ]
  },
  {
   "cell_type": "markdown",
   "metadata": {},
   "source": [
    "## Tests"
   ]
  },
  {
   "cell_type": "markdown",
   "metadata": {},
   "source": [
    "### Test consistency of data"
   ]
  },
  {
   "cell_type": "code",
   "execution_count": 68,
   "metadata": {},
   "outputs": [
    {
     "data": {
      "text/plain": [
       "4637"
      ]
     },
     "execution_count": 68,
     "metadata": {},
     "output_type": "execute_result"
    }
   ],
   "source": [
    "dict_actor_id.get(\"Sam Worthington\")"
   ]
  },
  {
   "cell_type": "code",
   "execution_count": 69,
   "metadata": {},
   "outputs": [
    {
     "data": {
      "text/html": [
       "<div>\n",
       "<style scoped>\n",
       "    .dataframe tbody tr th:only-of-type {\n",
       "        vertical-align: middle;\n",
       "    }\n",
       "\n",
       "    .dataframe tbody tr th {\n",
       "        vertical-align: top;\n",
       "    }\n",
       "\n",
       "    .dataframe thead th {\n",
       "        text-align: right;\n",
       "    }\n",
       "</style>\n",
       "<table border=\"1\" class=\"dataframe\">\n",
       "  <thead>\n",
       "    <tr style=\"text-align: right;\">\n",
       "      <th></th>\n",
       "      <th>actor_id</th>\n",
       "      <th>actors</th>\n",
       "      <th>gender</th>\n",
       "      <th>order</th>\n",
       "    </tr>\n",
       "  </thead>\n",
       "  <tbody>\n",
       "    <tr>\n",
       "      <th>63</th>\n",
       "      <td>63</td>\n",
       "      <td>Adriana Barraza</td>\n",
       "      <td>1</td>\n",
       "      <td>[0]</td>\n",
       "    </tr>\n",
       "  </tbody>\n",
       "</table>\n",
       "</div>"
      ],
      "text/plain": [
       "    actor_id           actors  gender order\n",
       "63        63  Adriana Barraza       1   [0]"
      ]
     },
     "execution_count": 69,
     "metadata": {},
     "output_type": "execute_result"
    }
   ],
   "source": [
    "actors_df[actors_df[\"actors\"] == \"Adriana Barraza\"]"
   ]
  },
  {
   "cell_type": "code",
   "execution_count": 70,
   "metadata": {},
   "outputs": [],
   "source": [
    "dict_actor_id.get(\"Andreas Berg\")"
   ]
  },
  {
   "cell_type": "code",
   "execution_count": 71,
   "metadata": {},
   "outputs": [
    {
     "data": {
      "text/html": [
       "<div>\n",
       "<style scoped>\n",
       "    .dataframe tbody tr th:only-of-type {\n",
       "        vertical-align: middle;\n",
       "    }\n",
       "\n",
       "    .dataframe tbody tr th {\n",
       "        vertical-align: top;\n",
       "    }\n",
       "\n",
       "    .dataframe thead th {\n",
       "        text-align: right;\n",
       "    }\n",
       "</style>\n",
       "<table border=\"1\" class=\"dataframe\">\n",
       "  <thead>\n",
       "    <tr style=\"text-align: right;\">\n",
       "      <th></th>\n",
       "      <th>actor_id</th>\n",
       "      <th>actors</th>\n",
       "      <th>gender</th>\n",
       "      <th>order</th>\n",
       "    </tr>\n",
       "  </thead>\n",
       "  <tbody>\n",
       "    <tr>\n",
       "      <th>1000</th>\n",
       "      <td>1000</td>\n",
       "      <td>Cliff Robertson</td>\n",
       "      <td>0</td>\n",
       "      <td>[1, 0]</td>\n",
       "    </tr>\n",
       "  </tbody>\n",
       "</table>\n",
       "</div>"
      ],
      "text/plain": [
       "      actor_id           actors  gender   order\n",
       "1000      1000  Cliff Robertson       0  [1, 0]"
      ]
     },
     "execution_count": 71,
     "metadata": {},
     "output_type": "execute_result"
    }
   ],
   "source": [
    "actors_df[actors_df[\"actor_id\"] == 1000]"
   ]
  },
  {
   "cell_type": "code",
   "execution_count": 72,
   "metadata": {},
   "outputs": [
    {
     "data": {
      "text/plain": [
       "{'Anthony Geary',\n",
       " 'Billy Barty',\n",
       " 'David Bowe',\n",
       " 'Emo Philips',\n",
       " 'Fran Drescher',\n",
       " 'Kevin McCarthy',\n",
       " 'Michael Richards',\n",
       " 'Trinidad Silva',\n",
       " 'Victoria Jackson'}"
      ]
     },
     "execution_count": 72,
     "metadata": {},
     "output_type": "execute_result"
    }
   ],
   "source": [
    "nodes_df.loc[0, \"cast\"]"
   ]
  },
  {
   "cell_type": "code",
   "execution_count": 73,
   "metadata": {},
   "outputs": [
    {
     "data": {
      "text/plain": [
       "5517"
      ]
     },
     "execution_count": 73,
     "metadata": {},
     "output_type": "execute_result"
    }
   ],
   "source": [
    "# Test number of actors\n",
    "len(np.unique(actors_agg_df.index.values))"
   ]
  },
  {
   "cell_type": "code",
   "execution_count": 74,
   "metadata": {},
   "outputs": [
    {
     "data": {
      "text/html": [
       "<div>\n",
       "<style scoped>\n",
       "    .dataframe tbody tr th:only-of-type {\n",
       "        vertical-align: middle;\n",
       "    }\n",
       "\n",
       "    .dataframe tbody tr th {\n",
       "        vertical-align: top;\n",
       "    }\n",
       "\n",
       "    .dataframe thead th {\n",
       "        text-align: right;\n",
       "    }\n",
       "</style>\n",
       "<table border=\"1\" class=\"dataframe\">\n",
       "  <thead>\n",
       "    <tr style=\"text-align: right;\">\n",
       "      <th></th>\n",
       "      <th>movie_id</th>\n",
       "      <th>cast</th>\n",
       "      <th>crew</th>\n",
       "      <th>gender</th>\n",
       "      <th>budget</th>\n",
       "      <th>genres</th>\n",
       "      <th>keywords</th>\n",
       "      <th>original_language</th>\n",
       "      <th>popularity</th>\n",
       "      <th>production_companies</th>\n",
       "      <th>production_countries</th>\n",
       "      <th>release_date</th>\n",
       "      <th>revenue</th>\n",
       "      <th>runtime</th>\n",
       "      <th>spoken_languages</th>\n",
       "      <th>status</th>\n",
       "      <th>title</th>\n",
       "      <th>vote_average</th>\n",
       "      <th>vote_count</th>\n",
       "    </tr>\n",
       "    <tr>\n",
       "      <th>actor_id</th>\n",
       "      <th></th>\n",
       "      <th></th>\n",
       "      <th></th>\n",
       "      <th></th>\n",
       "      <th></th>\n",
       "      <th></th>\n",
       "      <th></th>\n",
       "      <th></th>\n",
       "      <th></th>\n",
       "      <th></th>\n",
       "      <th></th>\n",
       "      <th></th>\n",
       "      <th></th>\n",
       "      <th></th>\n",
       "      <th></th>\n",
       "      <th></th>\n",
       "      <th></th>\n",
       "      <th></th>\n",
       "      <th></th>\n",
       "    </tr>\n",
       "  </thead>\n",
       "  <tbody>\n",
       "    <tr>\n",
       "      <th>0</th>\n",
       "      <td>{3619}</td>\n",
       "      <td>{Michael Richards, Victoria Jackson, David Bow...</td>\n",
       "      <td>{Jay Levey}</td>\n",
       "      <td>0</td>\n",
       "      <td>5000000.0</td>\n",
       "      <td>{Comedy}</td>\n",
       "      <td>{tv station, satire, game show, music spoof, i...</td>\n",
       "      <td>{en}</td>\n",
       "      <td>4.070044</td>\n",
       "      <td>{Orion Pictures, Cinecorp}</td>\n",
       "      <td>{United States of America}</td>\n",
       "      <td>[1989-07-21]</td>\n",
       "      <td>0.0</td>\n",
       "      <td>97.0</td>\n",
       "      <td>{English}</td>\n",
       "      <td>[Released]</td>\n",
       "      <td>{UHF}</td>\n",
       "      <td>6.7</td>\n",
       "      <td>89.0</td>\n",
       "    </tr>\n",
       "    <tr>\n",
       "      <th>1</th>\n",
       "      <td>{761, 1233}</td>\n",
       "      <td>{Sterling K. Brown, Terrence Howard, Joy Bryan...</td>\n",
       "      <td>{Jon Avnet, Jim Sheridan}</td>\n",
       "      <td>2</td>\n",
       "      <td>50000000.0</td>\n",
       "      <td>{Thriller, Action, Crime, Drama}</td>\n",
       "      <td>{dirty cop, revenge, plot twist, career, music...</td>\n",
       "      <td>{en}</td>\n",
       "      <td>15.633081</td>\n",
       "      <td>{Paramount Pictures, InVenture Entertainment, ...</td>\n",
       "      <td>{United States of America}</td>\n",
       "      <td>[2008-09-11, 2005-11-09]</td>\n",
       "      <td>59808547.0</td>\n",
       "      <td>218.0</td>\n",
       "      <td>{English, Pусский, Español}</td>\n",
       "      <td>[Released, Released]</td>\n",
       "      <td>{Righteous Kill, Get Rich or Die Tryin'}</td>\n",
       "      <td>6.1</td>\n",
       "      <td>280.5</td>\n",
       "    </tr>\n",
       "    <tr>\n",
       "      <th>2</th>\n",
       "      <td>{4034}</td>\n",
       "      <td>{Vanessa Evigan, Ron Roggé, Piper Mackenzie Ha...</td>\n",
       "      <td>{John Murlowski}</td>\n",
       "      <td>2</td>\n",
       "      <td>0.0</td>\n",
       "      <td>{Family, Comedy}</td>\n",
       "      <td>{}</td>\n",
       "      <td>{en}</td>\n",
       "      <td>0.630226</td>\n",
       "      <td>{}</td>\n",
       "      <td>{United States of America}</td>\n",
       "      <td>[2010-12-01]</td>\n",
       "      <td>0.0</td>\n",
       "      <td>89.0</td>\n",
       "      <td>{English}</td>\n",
       "      <td>[Released]</td>\n",
       "      <td>{Christmas Mail}</td>\n",
       "      <td>5.0</td>\n",
       "      <td>15.0</td>\n",
       "    </tr>\n",
       "    <tr>\n",
       "      <th>3</th>\n",
       "      <td>{1789}</td>\n",
       "      <td>{Ali Larter, Sarah Carter, Noel Fisher, James ...</td>\n",
       "      <td>{David R. Ellis}</td>\n",
       "      <td>1</td>\n",
       "      <td>26000000.0</td>\n",
       "      <td>{Horror, Mystery}</td>\n",
       "      <td>{ambulance, premonition, hospital}</td>\n",
       "      <td>{en}</td>\n",
       "      <td>37.355826</td>\n",
       "      <td>{New Line Cinema, Zide-Perry Productions}</td>\n",
       "      <td>{United States of America}</td>\n",
       "      <td>[2003-01-31]</td>\n",
       "      <td>90426405.0</td>\n",
       "      <td>90.0</td>\n",
       "      <td>{English}</td>\n",
       "      <td>[Released]</td>\n",
       "      <td>{Final Destination 2}</td>\n",
       "      <td>5.9</td>\n",
       "      <td>1023.0</td>\n",
       "    </tr>\n",
       "    <tr>\n",
       "      <th>4</th>\n",
       "      <td>{4203}</td>\n",
       "      <td>{Michael Welch, Shawnee Smith, Kevin Pollak, E...</td>\n",
       "      <td>{Brad J. Silverman}</td>\n",
       "      <td>1</td>\n",
       "      <td>0.0</td>\n",
       "      <td>{Music, Drama}</td>\n",
       "      <td>{christian}</td>\n",
       "      <td>{en}</td>\n",
       "      <td>2.160586</td>\n",
       "      <td>{Coram Deo Studios, Birchwood Pictures}</td>\n",
       "      <td>{United States of America}</td>\n",
       "      <td>[2013-10-04]</td>\n",
       "      <td>0.0</td>\n",
       "      <td>102.0</td>\n",
       "      <td>{English}</td>\n",
       "      <td>[Released]</td>\n",
       "      <td>{Grace Unplugged}</td>\n",
       "      <td>6.0</td>\n",
       "      <td>24.0</td>\n",
       "    </tr>\n",
       "    <tr>\n",
       "      <th>...</th>\n",
       "      <td>...</td>\n",
       "      <td>...</td>\n",
       "      <td>...</td>\n",
       "      <td>...</td>\n",
       "      <td>...</td>\n",
       "      <td>...</td>\n",
       "      <td>...</td>\n",
       "      <td>...</td>\n",
       "      <td>...</td>\n",
       "      <td>...</td>\n",
       "      <td>...</td>\n",
       "      <td>...</td>\n",
       "      <td>...</td>\n",
       "      <td>...</td>\n",
       "      <td>...</td>\n",
       "      <td>...</td>\n",
       "      <td>...</td>\n",
       "      <td>...</td>\n",
       "      <td>...</td>\n",
       "    </tr>\n",
       "    <tr>\n",
       "      <th>5512</th>\n",
       "      <td>{498}</td>\n",
       "      <td>{Franky Mwangi, Floyd Red Crow Westerman, Vict...</td>\n",
       "      <td>{Joe Johnston}</td>\n",
       "      <td>1</td>\n",
       "      <td>100000000.0</td>\n",
       "      <td>{Western, Adventure}</td>\n",
       "      <td>{racehorse, horse race, horse}</td>\n",
       "      <td>{en}</td>\n",
       "      <td>16.759252</td>\n",
       "      <td>{Casey Silver Productions, Touchstone Pictures...</td>\n",
       "      <td>{United States of America, Morocco}</td>\n",
       "      <td>[2004-03-05]</td>\n",
       "      <td>108103450.0</td>\n",
       "      <td>136.0</td>\n",
       "      <td>{English}</td>\n",
       "      <td>[Released]</td>\n",
       "      <td>{Hidalgo}</td>\n",
       "      <td>6.5</td>\n",
       "      <td>318.0</td>\n",
       "    </tr>\n",
       "    <tr>\n",
       "      <th>5513</th>\n",
       "      <td>{2656}</td>\n",
       "      <td>{Mercedes Morán, Andres Gil, Pompeyo Audivert,...</td>\n",
       "      <td>{Daniele Luchetti}</td>\n",
       "      <td>2</td>\n",
       "      <td>15000000.0</td>\n",
       "      <td>{Drama}</td>\n",
       "      <td>{pope, biography}</td>\n",
       "      <td>{it}</td>\n",
       "      <td>0.738646</td>\n",
       "      <td>{Taodue Film}</td>\n",
       "      <td>{Italy}</td>\n",
       "      <td>[2015-12-03]</td>\n",
       "      <td>0.0</td>\n",
       "      <td>0.0</td>\n",
       "      <td>{Español}</td>\n",
       "      <td>[Released]</td>\n",
       "      <td>{Chiamatemi Francesco - Il Papa della gente}</td>\n",
       "      <td>7.3</td>\n",
       "      <td>12.0</td>\n",
       "    </tr>\n",
       "    <tr>\n",
       "      <th>5514</th>\n",
       "      <td>{2742}</td>\n",
       "      <td>{Chelsea Moody, Diego Espejel, Brett Cullen, J...</td>\n",
       "      <td>{Jaume Collet-Serra}</td>\n",
       "      <td>2</td>\n",
       "      <td>17000000.0</td>\n",
       "      <td>{Horror, Thriller, Drama}</td>\n",
       "      <td>{island, mexico, animal attack, young woman, s...</td>\n",
       "      <td>{en}</td>\n",
       "      <td>60.829621</td>\n",
       "      <td>{Columbia Pictures, Weimaraner Republic Pictur...</td>\n",
       "      <td>{United States of America}</td>\n",
       "      <td>[2016-06-24]</td>\n",
       "      <td>119100758.0</td>\n",
       "      <td>86.0</td>\n",
       "      <td>{English}</td>\n",
       "      <td>[Released]</td>\n",
       "      <td>{The Shallows}</td>\n",
       "      <td>6.2</td>\n",
       "      <td>1567.0</td>\n",
       "    </tr>\n",
       "    <tr>\n",
       "      <th>5515</th>\n",
       "      <td>{2203}</td>\n",
       "      <td>{Mathias Mlekuz, Rade Serbedzija, Kevin Tran, ...</td>\n",
       "      <td>{Phillip Noyce}</td>\n",
       "      <td>1</td>\n",
       "      <td>30000000.0</td>\n",
       "      <td>{Thriller, Romance, Action, Drama}</td>\n",
       "      <td>{saigon, terror, lover (female), indochina, jo...</td>\n",
       "      <td>{en}</td>\n",
       "      <td>5.133744</td>\n",
       "      <td>{Intermedia Films, Miramax Films, Mirage Enter...</td>\n",
       "      <td>{United States of America}</td>\n",
       "      <td>[2002-11-22]</td>\n",
       "      <td>27674124.0</td>\n",
       "      <td>101.0</td>\n",
       "      <td>{English, Français, Tiếng Việt}</td>\n",
       "      <td>[Released]</td>\n",
       "      <td>{The Quiet American}</td>\n",
       "      <td>6.4</td>\n",
       "      <td>81.0</td>\n",
       "    </tr>\n",
       "    <tr>\n",
       "      <th>5516</th>\n",
       "      <td>{1341}</td>\n",
       "      <td>{Vasily Stepanov, Olga Dolinina, Ignat Akrachk...</td>\n",
       "      <td>{Fyodor Bondarchuk}</td>\n",
       "      <td>1</td>\n",
       "      <td>36500000.0</td>\n",
       "      <td>{Thriller, Science Fiction, Fantasy, Action}</td>\n",
       "      <td>{spaceship, hard to kill, sword fight, girlfri...</td>\n",
       "      <td>{ru}</td>\n",
       "      <td>2.785832</td>\n",
       "      <td>{Premiere Stealth Rights, Telekanal STS, Non-S...</td>\n",
       "      <td>{Russia}</td>\n",
       "      <td>[2008-12-18]</td>\n",
       "      <td>21834845.0</td>\n",
       "      <td>115.0</td>\n",
       "      <td>{Pусский}</td>\n",
       "      <td>[Released]</td>\n",
       "      <td>{The Inhabited Island}</td>\n",
       "      <td>5.3</td>\n",
       "      <td>23.0</td>\n",
       "    </tr>\n",
       "  </tbody>\n",
       "</table>\n",
       "<p>5517 rows × 19 columns</p>\n",
       "</div>"
      ],
      "text/plain": [
       "             movie_id                                               cast  \\\n",
       "actor_id                                                                   \n",
       "0              {3619}  {Michael Richards, Victoria Jackson, David Bow...   \n",
       "1         {761, 1233}  {Sterling K. Brown, Terrence Howard, Joy Bryan...   \n",
       "2              {4034}  {Vanessa Evigan, Ron Roggé, Piper Mackenzie Ha...   \n",
       "3              {1789}  {Ali Larter, Sarah Carter, Noel Fisher, James ...   \n",
       "4              {4203}  {Michael Welch, Shawnee Smith, Kevin Pollak, E...   \n",
       "...               ...                                                ...   \n",
       "5512            {498}  {Franky Mwangi, Floyd Red Crow Westerman, Vict...   \n",
       "5513           {2656}  {Mercedes Morán, Andres Gil, Pompeyo Audivert,...   \n",
       "5514           {2742}  {Chelsea Moody, Diego Espejel, Brett Cullen, J...   \n",
       "5515           {2203}  {Mathias Mlekuz, Rade Serbedzija, Kevin Tran, ...   \n",
       "5516           {1341}  {Vasily Stepanov, Olga Dolinina, Ignat Akrachk...   \n",
       "\n",
       "                               crew  gender       budget  \\\n",
       "actor_id                                                   \n",
       "0                       {Jay Levey}       0    5000000.0   \n",
       "1         {Jon Avnet, Jim Sheridan}       2   50000000.0   \n",
       "2                  {John Murlowski}       2          0.0   \n",
       "3                  {David R. Ellis}       1   26000000.0   \n",
       "4               {Brad J. Silverman}       1          0.0   \n",
       "...                             ...     ...          ...   \n",
       "5512                 {Joe Johnston}       1  100000000.0   \n",
       "5513             {Daniele Luchetti}       2   15000000.0   \n",
       "5514           {Jaume Collet-Serra}       2   17000000.0   \n",
       "5515                {Phillip Noyce}       1   30000000.0   \n",
       "5516            {Fyodor Bondarchuk}       1   36500000.0   \n",
       "\n",
       "                                                genres  \\\n",
       "actor_id                                                 \n",
       "0                                             {Comedy}   \n",
       "1                     {Thriller, Action, Crime, Drama}   \n",
       "2                                     {Family, Comedy}   \n",
       "3                                    {Horror, Mystery}   \n",
       "4                                       {Music, Drama}   \n",
       "...                                                ...   \n",
       "5512                              {Western, Adventure}   \n",
       "5513                                           {Drama}   \n",
       "5514                         {Horror, Thriller, Drama}   \n",
       "5515                {Thriller, Romance, Action, Drama}   \n",
       "5516      {Thriller, Science Fiction, Fantasy, Action}   \n",
       "\n",
       "                                                   keywords original_language  \\\n",
       "actor_id                                                                        \n",
       "0         {tv station, satire, game show, music spoof, i...              {en}   \n",
       "1         {dirty cop, revenge, plot twist, career, music...              {en}   \n",
       "2                                                        {}              {en}   \n",
       "3                        {ambulance, premonition, hospital}              {en}   \n",
       "4                                               {christian}              {en}   \n",
       "...                                                     ...               ...   \n",
       "5512                         {racehorse, horse race, horse}              {en}   \n",
       "5513                                      {pope, biography}              {it}   \n",
       "5514      {island, mexico, animal attack, young woman, s...              {en}   \n",
       "5515      {saigon, terror, lover (female), indochina, jo...              {en}   \n",
       "5516      {spaceship, hard to kill, sword fight, girlfri...              {ru}   \n",
       "\n",
       "          popularity                               production_companies  \\\n",
       "actor_id                                                                  \n",
       "0           4.070044                         {Orion Pictures, Cinecorp}   \n",
       "1          15.633081  {Paramount Pictures, InVenture Entertainment, ...   \n",
       "2           0.630226                                                 {}   \n",
       "3          37.355826          {New Line Cinema, Zide-Perry Productions}   \n",
       "4           2.160586            {Coram Deo Studios, Birchwood Pictures}   \n",
       "...              ...                                                ...   \n",
       "5512       16.759252  {Casey Silver Productions, Touchstone Pictures...   \n",
       "5513        0.738646                                      {Taodue Film}   \n",
       "5514       60.829621  {Columbia Pictures, Weimaraner Republic Pictur...   \n",
       "5515        5.133744  {Intermedia Films, Miramax Films, Mirage Enter...   \n",
       "5516        2.785832  {Premiere Stealth Rights, Telekanal STS, Non-S...   \n",
       "\n",
       "                         production_countries              release_date  \\\n",
       "actor_id                                                                  \n",
       "0                  {United States of America}              [1989-07-21]   \n",
       "1                  {United States of America}  [2008-09-11, 2005-11-09]   \n",
       "2                  {United States of America}              [2010-12-01]   \n",
       "3                  {United States of America}              [2003-01-31]   \n",
       "4                  {United States of America}              [2013-10-04]   \n",
       "...                                       ...                       ...   \n",
       "5512      {United States of America, Morocco}              [2004-03-05]   \n",
       "5513                                  {Italy}              [2015-12-03]   \n",
       "5514               {United States of America}              [2016-06-24]   \n",
       "5515               {United States of America}              [2002-11-22]   \n",
       "5516                                 {Russia}              [2008-12-18]   \n",
       "\n",
       "              revenue  runtime                 spoken_languages  \\\n",
       "actor_id                                                          \n",
       "0                 0.0     97.0                        {English}   \n",
       "1          59808547.0    218.0      {English, Pусский, Español}   \n",
       "2                 0.0     89.0                        {English}   \n",
       "3          90426405.0     90.0                        {English}   \n",
       "4                 0.0    102.0                        {English}   \n",
       "...               ...      ...                              ...   \n",
       "5512      108103450.0    136.0                        {English}   \n",
       "5513              0.0      0.0                        {Español}   \n",
       "5514      119100758.0     86.0                        {English}   \n",
       "5515       27674124.0    101.0  {English, Français, Tiếng Việt}   \n",
       "5516       21834845.0    115.0                        {Pусский}   \n",
       "\n",
       "                        status                                         title  \\\n",
       "actor_id                                                                       \n",
       "0                   [Released]                                         {UHF}   \n",
       "1         [Released, Released]      {Righteous Kill, Get Rich or Die Tryin'}   \n",
       "2                   [Released]                              {Christmas Mail}   \n",
       "3                   [Released]                         {Final Destination 2}   \n",
       "4                   [Released]                             {Grace Unplugged}   \n",
       "...                        ...                                           ...   \n",
       "5512                [Released]                                     {Hidalgo}   \n",
       "5513                [Released]  {Chiamatemi Francesco - Il Papa della gente}   \n",
       "5514                [Released]                                {The Shallows}   \n",
       "5515                [Released]                          {The Quiet American}   \n",
       "5516                [Released]                        {The Inhabited Island}   \n",
       "\n",
       "          vote_average  vote_count  \n",
       "actor_id                            \n",
       "0                  6.7        89.0  \n",
       "1                  6.1       280.5  \n",
       "2                  5.0        15.0  \n",
       "3                  5.9      1023.0  \n",
       "4                  6.0        24.0  \n",
       "...                ...         ...  \n",
       "5512               6.5       318.0  \n",
       "5513               7.3        12.0  \n",
       "5514               6.2      1567.0  \n",
       "5515               6.4        81.0  \n",
       "5516               5.3        23.0  \n",
       "\n",
       "[5517 rows x 19 columns]"
      ]
     },
     "execution_count": 74,
     "metadata": {},
     "output_type": "execute_result"
    }
   ],
   "source": [
    "actors_agg_df"
   ]
  },
  {
   "cell_type": "code",
   "execution_count": 75,
   "metadata": {},
   "outputs": [
    {
     "data": {
      "text/plain": [
       "{0, 43, 132, 206, 1146, 1448}"
      ]
     },
     "execution_count": 75,
     "metadata": {},
     "output_type": "execute_result"
    }
   ],
   "source": [
    "test_movie_id = actors_agg_df.loc[dict_actor_id.get(\"Sam Worthington\")][\"movie_id\"]\n",
    "test_movie_id"
   ]
  },
  {
   "cell_type": "code",
   "execution_count": 76,
   "metadata": {},
   "outputs": [
    {
     "data": {
      "text/html": [
       "<div>\n",
       "<style scoped>\n",
       "    .dataframe tbody tr th:only-of-type {\n",
       "        vertical-align: middle;\n",
       "    }\n",
       "\n",
       "    .dataframe tbody tr th {\n",
       "        vertical-align: top;\n",
       "    }\n",
       "\n",
       "    .dataframe thead th {\n",
       "        text-align: right;\n",
       "    }\n",
       "</style>\n",
       "<table border=\"1\" class=\"dataframe\">\n",
       "  <thead>\n",
       "    <tr style=\"text-align: right;\">\n",
       "      <th></th>\n",
       "      <th>movie_id</th>\n",
       "      <th>new_movie_id</th>\n",
       "      <th>title</th>\n",
       "    </tr>\n",
       "  </thead>\n",
       "  <tbody>\n",
       "    <tr>\n",
       "      <th>0</th>\n",
       "      <td>19995</td>\n",
       "      <td>0</td>\n",
       "      <td>Avatar</td>\n",
       "    </tr>\n",
       "    <tr>\n",
       "      <th>1</th>\n",
       "      <td>534</td>\n",
       "      <td>43</td>\n",
       "      <td>Terminator Salvation</td>\n",
       "    </tr>\n",
       "    <tr>\n",
       "      <th>2</th>\n",
       "      <td>57165</td>\n",
       "      <td>132</td>\n",
       "      <td>Wrath of the Titans</td>\n",
       "    </tr>\n",
       "    <tr>\n",
       "      <th>3</th>\n",
       "      <td>18823</td>\n",
       "      <td>206</td>\n",
       "      <td>Clash of the Titans</td>\n",
       "    </tr>\n",
       "    <tr>\n",
       "      <th>4</th>\n",
       "      <td>49527</td>\n",
       "      <td>1146</td>\n",
       "      <td>Man on a Ledge</td>\n",
       "    </tr>\n",
       "    <tr>\n",
       "      <th>5</th>\n",
       "      <td>144336</td>\n",
       "      <td>1448</td>\n",
       "      <td>Sabotage</td>\n",
       "    </tr>\n",
       "  </tbody>\n",
       "</table>\n",
       "</div>"
      ],
      "text/plain": [
       "   movie_id  new_movie_id                 title\n",
       "0     19995             0                Avatar\n",
       "1       534            43  Terminator Salvation\n",
       "2     57165           132   Wrath of the Titans\n",
       "3     18823           206   Clash of the Titans\n",
       "4     49527          1146        Man on a Ledge\n",
       "5    144336          1448              Sabotage"
      ]
     },
     "execution_count": 76,
     "metadata": {},
     "output_type": "execute_result"
    }
   ],
   "source": [
    "test_movies_df = unique_movies_df[\n",
    "    unique_movies_df[new_movie_id_col].isin(test_movie_id)\n",
    "]\n",
    "test_movies_df = test_movies_df.merge(\n",
    "    pr_movies_df, right_on=movie_id_col, left_on=movie_id_col\n",
    ")\n",
    "test_movies_df[[movie_id_col, new_movie_id_col, \"title\"]]"
   ]
  },
  {
   "cell_type": "code",
   "execution_count": 77,
   "metadata": {},
   "outputs": [
    {
     "data": {
      "text/plain": [
       "False"
      ]
     },
     "execution_count": 77,
     "metadata": {},
     "output_type": "execute_result"
    }
   ],
   "source": [
    "\"Sam Worthington\" in pr_credits_df.loc[0, \"cast\"]"
   ]
  },
  {
   "cell_type": "code",
   "execution_count": 78,
   "metadata": {},
   "outputs": [
    {
     "data": {
      "text/plain": [
       "movie_id                                                19995\n",
       "cast        {Sigourney Weaver, Matt Gerald, Mike Bodnar, A...\n",
       "crew                                          {James Cameron}\n",
       "actors                                        Sam Worthington\n",
       "Name: 0, dtype: object"
      ]
     },
     "execution_count": 78,
     "metadata": {},
     "output_type": "execute_result"
    }
   ],
   "source": [
    "pr_credits_df.loc[0]"
   ]
  }
 ],
 "metadata": {
  "kernelspec": {
   "display_name": "Python 3",
   "language": "python",
   "name": "python3"
  },
  "language_info": {
   "codemirror_mode": {
    "name": "ipython",
    "version": 3
   },
   "file_extension": ".py",
   "mimetype": "text/x-python",
   "name": "python",
   "nbconvert_exporter": "python",
   "pygments_lexer": "ipython3",
   "version": "3.7.4"
  }
 },
 "nbformat": 4,
 "nbformat_minor": 4
}
