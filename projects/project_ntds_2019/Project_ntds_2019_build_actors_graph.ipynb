{
 "cells": [
  {
   "cell_type": "code",
   "execution_count": 1,
   "metadata": {},
   "outputs": [],
   "source": [
    "import pandas as pd\n",
    "import json\n",
    "import matplotlib.pyplot as plt\n",
    "import numpy as np\n",
    "import json\n",
    "from pandas.io.json import json_normalize\n",
    "from functools import reduce"
   ]
  },
  {
   "cell_type": "code",
   "execution_count": 2,
   "metadata": {},
   "outputs": [],
   "source": [
    "def col_json_to_dict(df,cols):\n",
    "    \"Transform the json values inside a column into list of dictionaries\"\n",
    "    transformed_df = df\n",
    "    for col in cols:\n",
    "        transformed_df = transformed_df.assign(**{col: df[col].apply(json.loads)})\n",
    "    return transformed_df"
   ]
  },
  {
   "cell_type": "code",
   "execution_count": 3,
   "metadata": {},
   "outputs": [],
   "source": [
    "def col_dict_to_set(df,col,key):\n",
    "    \"Create a set from the values of the dictionaries give a key\"\n",
    "    get_set = lambda dict_list : set([dict_.get(key) for dict_ in dict_list])\n",
    "    return df.assign(**{col: df[col].apply(get_set)})"
   ]
  },
  {
   "cell_type": "code",
   "execution_count": 4,
   "metadata": {},
   "outputs": [],
   "source": [
    "def col_filter_dict_with_vals(df,col,field,values):\n",
    "    \"Filter dictionaries with specific values from a column with lists of dictionaries\"\n",
    "    filter_dicts = lambda dict_list: [dict_ for dict_ in dict_list if dict_.get(field) in values]\n",
    "    return df.assign(**{col: df[col].apply(filter_dicts)})"
   ]
  },
  {
   "cell_type": "code",
   "execution_count": 5,
   "metadata": {},
   "outputs": [
    {
     "data": {
      "text/html": [
       "<div>\n",
       "<style scoped>\n",
       "    .dataframe tbody tr th:only-of-type {\n",
       "        vertical-align: middle;\n",
       "    }\n",
       "\n",
       "    .dataframe tbody tr th {\n",
       "        vertical-align: top;\n",
       "    }\n",
       "\n",
       "    .dataframe thead th {\n",
       "        text-align: right;\n",
       "    }\n",
       "</style>\n",
       "<table border=\"1\" class=\"dataframe\">\n",
       "  <thead>\n",
       "    <tr style=\"text-align: right;\">\n",
       "      <th></th>\n",
       "      <th>movie_id</th>\n",
       "      <th>title</th>\n",
       "      <th>cast</th>\n",
       "      <th>crew</th>\n",
       "    </tr>\n",
       "  </thead>\n",
       "  <tbody>\n",
       "    <tr>\n",
       "      <td>0</td>\n",
       "      <td>19995</td>\n",
       "      <td>Avatar</td>\n",
       "      <td>[{\"cast_id\": 242, \"character\": \"Jake Sully\", \"...</td>\n",
       "      <td>[{\"credit_id\": \"52fe48009251416c750aca23\", \"de...</td>\n",
       "    </tr>\n",
       "    <tr>\n",
       "      <td>1</td>\n",
       "      <td>285</td>\n",
       "      <td>Pirates of the Caribbean: At World's End</td>\n",
       "      <td>[{\"cast_id\": 4, \"character\": \"Captain Jack Spa...</td>\n",
       "      <td>[{\"credit_id\": \"52fe4232c3a36847f800b579\", \"de...</td>\n",
       "    </tr>\n",
       "    <tr>\n",
       "      <td>2</td>\n",
       "      <td>206647</td>\n",
       "      <td>Spectre</td>\n",
       "      <td>[{\"cast_id\": 1, \"character\": \"James Bond\", \"cr...</td>\n",
       "      <td>[{\"credit_id\": \"54805967c3a36829b5002c41\", \"de...</td>\n",
       "    </tr>\n",
       "    <tr>\n",
       "      <td>3</td>\n",
       "      <td>49026</td>\n",
       "      <td>The Dark Knight Rises</td>\n",
       "      <td>[{\"cast_id\": 2, \"character\": \"Bruce Wayne / Ba...</td>\n",
       "      <td>[{\"credit_id\": \"52fe4781c3a36847f81398c3\", \"de...</td>\n",
       "    </tr>\n",
       "    <tr>\n",
       "      <td>4</td>\n",
       "      <td>49529</td>\n",
       "      <td>John Carter</td>\n",
       "      <td>[{\"cast_id\": 5, \"character\": \"John Carter\", \"c...</td>\n",
       "      <td>[{\"credit_id\": \"52fe479ac3a36847f813eaa3\", \"de...</td>\n",
       "    </tr>\n",
       "  </tbody>\n",
       "</table>\n",
       "</div>"
      ],
      "text/plain": [
       "   movie_id                                     title  \\\n",
       "0     19995                                    Avatar   \n",
       "1       285  Pirates of the Caribbean: At World's End   \n",
       "2    206647                                   Spectre   \n",
       "3     49026                     The Dark Knight Rises   \n",
       "4     49529                               John Carter   \n",
       "\n",
       "                                                cast  \\\n",
       "0  [{\"cast_id\": 242, \"character\": \"Jake Sully\", \"...   \n",
       "1  [{\"cast_id\": 4, \"character\": \"Captain Jack Spa...   \n",
       "2  [{\"cast_id\": 1, \"character\": \"James Bond\", \"cr...   \n",
       "3  [{\"cast_id\": 2, \"character\": \"Bruce Wayne / Ba...   \n",
       "4  [{\"cast_id\": 5, \"character\": \"John Carter\", \"c...   \n",
       "\n",
       "                                                crew  \n",
       "0  [{\"credit_id\": \"52fe48009251416c750aca23\", \"de...  \n",
       "1  [{\"credit_id\": \"52fe4232c3a36847f800b579\", \"de...  \n",
       "2  [{\"credit_id\": \"54805967c3a36829b5002c41\", \"de...  \n",
       "3  [{\"credit_id\": \"52fe4781c3a36847f81398c3\", \"de...  \n",
       "4  [{\"credit_id\": \"52fe479ac3a36847f813eaa3\", \"de...  "
      ]
     },
     "execution_count": 5,
     "metadata": {},
     "output_type": "execute_result"
    }
   ],
   "source": [
    "credits_df = pd.read_csv(\"./data/tmdb_5000_credits.csv\",sep=',', quotechar='\"')\n",
    "credits_df.head()"
   ]
  },
  {
   "cell_type": "code",
   "execution_count": 6,
   "metadata": {},
   "outputs": [
    {
     "data": {
      "text/html": [
       "<div>\n",
       "<style scoped>\n",
       "    .dataframe tbody tr th:only-of-type {\n",
       "        vertical-align: middle;\n",
       "    }\n",
       "\n",
       "    .dataframe tbody tr th {\n",
       "        vertical-align: top;\n",
       "    }\n",
       "\n",
       "    .dataframe thead th {\n",
       "        text-align: right;\n",
       "    }\n",
       "</style>\n",
       "<table border=\"1\" class=\"dataframe\">\n",
       "  <thead>\n",
       "    <tr style=\"text-align: right;\">\n",
       "      <th></th>\n",
       "      <th>budget</th>\n",
       "      <th>genres</th>\n",
       "      <th>homepage</th>\n",
       "      <th>movie_id</th>\n",
       "      <th>keywords</th>\n",
       "      <th>original_language</th>\n",
       "      <th>original_title</th>\n",
       "      <th>overview</th>\n",
       "      <th>popularity</th>\n",
       "      <th>production_companies</th>\n",
       "      <th>production_countries</th>\n",
       "      <th>release_date</th>\n",
       "      <th>revenue</th>\n",
       "      <th>runtime</th>\n",
       "      <th>spoken_languages</th>\n",
       "      <th>status</th>\n",
       "      <th>tagline</th>\n",
       "      <th>title</th>\n",
       "      <th>vote_average</th>\n",
       "      <th>vote_count</th>\n",
       "    </tr>\n",
       "  </thead>\n",
       "  <tbody>\n",
       "    <tr>\n",
       "      <td>0</td>\n",
       "      <td>237000000</td>\n",
       "      <td>[{\"id\": 28, \"name\": \"Action\"}, {\"id\": 12, \"nam...</td>\n",
       "      <td>http://www.avatarmovie.com/</td>\n",
       "      <td>19995</td>\n",
       "      <td>[{\"id\": 1463, \"name\": \"culture clash\"}, {\"id\":...</td>\n",
       "      <td>en</td>\n",
       "      <td>Avatar</td>\n",
       "      <td>In the 22nd century, a paraplegic Marine is di...</td>\n",
       "      <td>150.437577</td>\n",
       "      <td>[{\"name\": \"Ingenious Film Partners\", \"id\": 289...</td>\n",
       "      <td>[{\"iso_3166_1\": \"US\", \"name\": \"United States o...</td>\n",
       "      <td>2009-12-10</td>\n",
       "      <td>2787965087</td>\n",
       "      <td>162.0</td>\n",
       "      <td>[{\"iso_639_1\": \"en\", \"name\": \"English\"}, {\"iso...</td>\n",
       "      <td>Released</td>\n",
       "      <td>Enter the World of Pandora.</td>\n",
       "      <td>Avatar</td>\n",
       "      <td>7.2</td>\n",
       "      <td>11800</td>\n",
       "    </tr>\n",
       "    <tr>\n",
       "      <td>1</td>\n",
       "      <td>300000000</td>\n",
       "      <td>[{\"id\": 12, \"name\": \"Adventure\"}, {\"id\": 14, \"...</td>\n",
       "      <td>http://disney.go.com/disneypictures/pirates/</td>\n",
       "      <td>285</td>\n",
       "      <td>[{\"id\": 270, \"name\": \"ocean\"}, {\"id\": 726, \"na...</td>\n",
       "      <td>en</td>\n",
       "      <td>Pirates of the Caribbean: At World's End</td>\n",
       "      <td>Captain Barbossa, long believed to be dead, ha...</td>\n",
       "      <td>139.082615</td>\n",
       "      <td>[{\"name\": \"Walt Disney Pictures\", \"id\": 2}, {\"...</td>\n",
       "      <td>[{\"iso_3166_1\": \"US\", \"name\": \"United States o...</td>\n",
       "      <td>2007-05-19</td>\n",
       "      <td>961000000</td>\n",
       "      <td>169.0</td>\n",
       "      <td>[{\"iso_639_1\": \"en\", \"name\": \"English\"}]</td>\n",
       "      <td>Released</td>\n",
       "      <td>At the end of the world, the adventure begins.</td>\n",
       "      <td>Pirates of the Caribbean: At World's End</td>\n",
       "      <td>6.9</td>\n",
       "      <td>4500</td>\n",
       "    </tr>\n",
       "    <tr>\n",
       "      <td>2</td>\n",
       "      <td>245000000</td>\n",
       "      <td>[{\"id\": 28, \"name\": \"Action\"}, {\"id\": 12, \"nam...</td>\n",
       "      <td>http://www.sonypictures.com/movies/spectre/</td>\n",
       "      <td>206647</td>\n",
       "      <td>[{\"id\": 470, \"name\": \"spy\"}, {\"id\": 818, \"name...</td>\n",
       "      <td>en</td>\n",
       "      <td>Spectre</td>\n",
       "      <td>A cryptic message from Bond’s past sends him o...</td>\n",
       "      <td>107.376788</td>\n",
       "      <td>[{\"name\": \"Columbia Pictures\", \"id\": 5}, {\"nam...</td>\n",
       "      <td>[{\"iso_3166_1\": \"GB\", \"name\": \"United Kingdom\"...</td>\n",
       "      <td>2015-10-26</td>\n",
       "      <td>880674609</td>\n",
       "      <td>148.0</td>\n",
       "      <td>[{\"iso_639_1\": \"fr\", \"name\": \"Fran\\u00e7ais\"},...</td>\n",
       "      <td>Released</td>\n",
       "      <td>A Plan No One Escapes</td>\n",
       "      <td>Spectre</td>\n",
       "      <td>6.3</td>\n",
       "      <td>4466</td>\n",
       "    </tr>\n",
       "    <tr>\n",
       "      <td>3</td>\n",
       "      <td>250000000</td>\n",
       "      <td>[{\"id\": 28, \"name\": \"Action\"}, {\"id\": 80, \"nam...</td>\n",
       "      <td>http://www.thedarkknightrises.com/</td>\n",
       "      <td>49026</td>\n",
       "      <td>[{\"id\": 849, \"name\": \"dc comics\"}, {\"id\": 853,...</td>\n",
       "      <td>en</td>\n",
       "      <td>The Dark Knight Rises</td>\n",
       "      <td>Following the death of District Attorney Harve...</td>\n",
       "      <td>112.312950</td>\n",
       "      <td>[{\"name\": \"Legendary Pictures\", \"id\": 923}, {\"...</td>\n",
       "      <td>[{\"iso_3166_1\": \"US\", \"name\": \"United States o...</td>\n",
       "      <td>2012-07-16</td>\n",
       "      <td>1084939099</td>\n",
       "      <td>165.0</td>\n",
       "      <td>[{\"iso_639_1\": \"en\", \"name\": \"English\"}]</td>\n",
       "      <td>Released</td>\n",
       "      <td>The Legend Ends</td>\n",
       "      <td>The Dark Knight Rises</td>\n",
       "      <td>7.6</td>\n",
       "      <td>9106</td>\n",
       "    </tr>\n",
       "    <tr>\n",
       "      <td>4</td>\n",
       "      <td>260000000</td>\n",
       "      <td>[{\"id\": 28, \"name\": \"Action\"}, {\"id\": 12, \"nam...</td>\n",
       "      <td>http://movies.disney.com/john-carter</td>\n",
       "      <td>49529</td>\n",
       "      <td>[{\"id\": 818, \"name\": \"based on novel\"}, {\"id\":...</td>\n",
       "      <td>en</td>\n",
       "      <td>John Carter</td>\n",
       "      <td>John Carter is a war-weary, former military ca...</td>\n",
       "      <td>43.926995</td>\n",
       "      <td>[{\"name\": \"Walt Disney Pictures\", \"id\": 2}]</td>\n",
       "      <td>[{\"iso_3166_1\": \"US\", \"name\": \"United States o...</td>\n",
       "      <td>2012-03-07</td>\n",
       "      <td>284139100</td>\n",
       "      <td>132.0</td>\n",
       "      <td>[{\"iso_639_1\": \"en\", \"name\": \"English\"}]</td>\n",
       "      <td>Released</td>\n",
       "      <td>Lost in our world, found in another.</td>\n",
       "      <td>John Carter</td>\n",
       "      <td>6.1</td>\n",
       "      <td>2124</td>\n",
       "    </tr>\n",
       "  </tbody>\n",
       "</table>\n",
       "</div>"
      ],
      "text/plain": [
       "      budget                                             genres  \\\n",
       "0  237000000  [{\"id\": 28, \"name\": \"Action\"}, {\"id\": 12, \"nam...   \n",
       "1  300000000  [{\"id\": 12, \"name\": \"Adventure\"}, {\"id\": 14, \"...   \n",
       "2  245000000  [{\"id\": 28, \"name\": \"Action\"}, {\"id\": 12, \"nam...   \n",
       "3  250000000  [{\"id\": 28, \"name\": \"Action\"}, {\"id\": 80, \"nam...   \n",
       "4  260000000  [{\"id\": 28, \"name\": \"Action\"}, {\"id\": 12, \"nam...   \n",
       "\n",
       "                                       homepage  movie_id  \\\n",
       "0                   http://www.avatarmovie.com/     19995   \n",
       "1  http://disney.go.com/disneypictures/pirates/       285   \n",
       "2   http://www.sonypictures.com/movies/spectre/    206647   \n",
       "3            http://www.thedarkknightrises.com/     49026   \n",
       "4          http://movies.disney.com/john-carter     49529   \n",
       "\n",
       "                                            keywords original_language  \\\n",
       "0  [{\"id\": 1463, \"name\": \"culture clash\"}, {\"id\":...                en   \n",
       "1  [{\"id\": 270, \"name\": \"ocean\"}, {\"id\": 726, \"na...                en   \n",
       "2  [{\"id\": 470, \"name\": \"spy\"}, {\"id\": 818, \"name...                en   \n",
       "3  [{\"id\": 849, \"name\": \"dc comics\"}, {\"id\": 853,...                en   \n",
       "4  [{\"id\": 818, \"name\": \"based on novel\"}, {\"id\":...                en   \n",
       "\n",
       "                             original_title  \\\n",
       "0                                    Avatar   \n",
       "1  Pirates of the Caribbean: At World's End   \n",
       "2                                   Spectre   \n",
       "3                     The Dark Knight Rises   \n",
       "4                               John Carter   \n",
       "\n",
       "                                            overview  popularity  \\\n",
       "0  In the 22nd century, a paraplegic Marine is di...  150.437577   \n",
       "1  Captain Barbossa, long believed to be dead, ha...  139.082615   \n",
       "2  A cryptic message from Bond’s past sends him o...  107.376788   \n",
       "3  Following the death of District Attorney Harve...  112.312950   \n",
       "4  John Carter is a war-weary, former military ca...   43.926995   \n",
       "\n",
       "                                production_companies  \\\n",
       "0  [{\"name\": \"Ingenious Film Partners\", \"id\": 289...   \n",
       "1  [{\"name\": \"Walt Disney Pictures\", \"id\": 2}, {\"...   \n",
       "2  [{\"name\": \"Columbia Pictures\", \"id\": 5}, {\"nam...   \n",
       "3  [{\"name\": \"Legendary Pictures\", \"id\": 923}, {\"...   \n",
       "4        [{\"name\": \"Walt Disney Pictures\", \"id\": 2}]   \n",
       "\n",
       "                                production_countries release_date     revenue  \\\n",
       "0  [{\"iso_3166_1\": \"US\", \"name\": \"United States o...   2009-12-10  2787965087   \n",
       "1  [{\"iso_3166_1\": \"US\", \"name\": \"United States o...   2007-05-19   961000000   \n",
       "2  [{\"iso_3166_1\": \"GB\", \"name\": \"United Kingdom\"...   2015-10-26   880674609   \n",
       "3  [{\"iso_3166_1\": \"US\", \"name\": \"United States o...   2012-07-16  1084939099   \n",
       "4  [{\"iso_3166_1\": \"US\", \"name\": \"United States o...   2012-03-07   284139100   \n",
       "\n",
       "   runtime                                   spoken_languages    status  \\\n",
       "0    162.0  [{\"iso_639_1\": \"en\", \"name\": \"English\"}, {\"iso...  Released   \n",
       "1    169.0           [{\"iso_639_1\": \"en\", \"name\": \"English\"}]  Released   \n",
       "2    148.0  [{\"iso_639_1\": \"fr\", \"name\": \"Fran\\u00e7ais\"},...  Released   \n",
       "3    165.0           [{\"iso_639_1\": \"en\", \"name\": \"English\"}]  Released   \n",
       "4    132.0           [{\"iso_639_1\": \"en\", \"name\": \"English\"}]  Released   \n",
       "\n",
       "                                          tagline  \\\n",
       "0                     Enter the World of Pandora.   \n",
       "1  At the end of the world, the adventure begins.   \n",
       "2                           A Plan No One Escapes   \n",
       "3                                 The Legend Ends   \n",
       "4            Lost in our world, found in another.   \n",
       "\n",
       "                                      title  vote_average  vote_count  \n",
       "0                                    Avatar           7.2       11800  \n",
       "1  Pirates of the Caribbean: At World's End           6.9        4500  \n",
       "2                                   Spectre           6.3        4466  \n",
       "3                     The Dark Knight Rises           7.6        9106  \n",
       "4                               John Carter           6.1        2124  "
      ]
     },
     "execution_count": 6,
     "metadata": {},
     "output_type": "execute_result"
    }
   ],
   "source": [
    "movies_df = pd.read_csv(\"./data/tmdb_5000_movies.csv\",sep=',', quotechar='\"')\\\n",
    "                .rename({\"id\":\"movie_id\"},axis=1)\n",
    "movies_df.head()"
   ]
  },
  {
   "cell_type": "code",
   "execution_count": 7,
   "metadata": {},
   "outputs": [],
   "source": [
    "credits_df_cp = credits_df.copy()\n",
    "movies_df_cp = movies_df.copy()"
   ]
  },
  {
   "cell_type": "markdown",
   "metadata": {},
   "source": [
    "## Clean movies_df_cp"
   ]
  },
  {
   "cell_type": "code",
   "execution_count": 8,
   "metadata": {},
   "outputs": [
    {
     "data": {
      "text/plain": [
       "28"
      ]
     },
     "execution_count": 8,
     "metadata": {},
     "output_type": "execute_result"
    }
   ],
   "source": [
    "# movies with empty genre field\n",
    "len(movies_df_cp[movies_df_cp.astype(str)['genres'] == '[]'])"
   ]
  },
  {
   "cell_type": "code",
   "execution_count": 9,
   "metadata": {},
   "outputs": [
    {
     "data": {
      "text/plain": [
       "351"
      ]
     },
     "execution_count": 9,
     "metadata": {},
     "output_type": "execute_result"
    }
   ],
   "source": [
    "# movies with empty production_companies field\n",
    "len(movies_df_cp[movies_df_cp.astype(str)['production_companies'] == '[]'])"
   ]
  },
  {
   "cell_type": "code",
   "execution_count": 10,
   "metadata": {},
   "outputs": [
    {
     "data": {
      "text/plain": [
       "174"
      ]
     },
     "execution_count": 10,
     "metadata": {},
     "output_type": "execute_result"
    }
   ],
   "source": [
    "# movies with empty production_companies field\n",
    "len(movies_df_cp[movies_df_cp.astype(str)['production_countries'] == '[]'])"
   ]
  },
  {
   "cell_type": "code",
   "execution_count": 11,
   "metadata": {},
   "outputs": [
    {
     "data": {
      "text/plain": [
       "86"
      ]
     },
     "execution_count": 11,
     "metadata": {},
     "output_type": "execute_result"
    }
   ],
   "source": [
    "# movies with empty production_companies field\n",
    "len(movies_df_cp[movies_df_cp.astype(str)['spoken_languages'] == '[]'])"
   ]
  },
  {
   "cell_type": "markdown",
   "metadata": {},
   "source": [
    "## Process movies df"
   ]
  },
  {
   "cell_type": "code",
   "execution_count": 12,
   "metadata": {},
   "outputs": [
    {
     "data": {
      "text/plain": [
       "4803"
      ]
     },
     "execution_count": 12,
     "metadata": {},
     "output_type": "execute_result"
    }
   ],
   "source": [
    "pr_movies_df = movies_df_cp\n",
    "len(pr_movies_df)"
   ]
  },
  {
   "cell_type": "code",
   "execution_count": 13,
   "metadata": {},
   "outputs": [
    {
     "data": {
      "text/html": [
       "<div>\n",
       "<style scoped>\n",
       "    .dataframe tbody tr th:only-of-type {\n",
       "        vertical-align: middle;\n",
       "    }\n",
       "\n",
       "    .dataframe tbody tr th {\n",
       "        vertical-align: top;\n",
       "    }\n",
       "\n",
       "    .dataframe thead th {\n",
       "        text-align: right;\n",
       "    }\n",
       "</style>\n",
       "<table border=\"1\" class=\"dataframe\">\n",
       "  <thead>\n",
       "    <tr style=\"text-align: right;\">\n",
       "      <th></th>\n",
       "      <th>budget</th>\n",
       "      <th>genres</th>\n",
       "      <th>homepage</th>\n",
       "      <th>movie_id</th>\n",
       "      <th>keywords</th>\n",
       "      <th>original_language</th>\n",
       "      <th>original_title</th>\n",
       "      <th>overview</th>\n",
       "      <th>popularity</th>\n",
       "      <th>production_companies</th>\n",
       "      <th>production_countries</th>\n",
       "      <th>release_date</th>\n",
       "      <th>revenue</th>\n",
       "      <th>runtime</th>\n",
       "      <th>spoken_languages</th>\n",
       "      <th>status</th>\n",
       "      <th>tagline</th>\n",
       "      <th>title</th>\n",
       "      <th>vote_average</th>\n",
       "      <th>vote_count</th>\n",
       "    </tr>\n",
       "  </thead>\n",
       "  <tbody>\n",
       "    <tr>\n",
       "      <td>0</td>\n",
       "      <td>237000000</td>\n",
       "      <td>[{\"id\": 28, \"name\": \"Action\"}, {\"id\": 12, \"nam...</td>\n",
       "      <td>http://www.avatarmovie.com/</td>\n",
       "      <td>19995</td>\n",
       "      <td>[{\"id\": 1463, \"name\": \"culture clash\"}, {\"id\":...</td>\n",
       "      <td>en</td>\n",
       "      <td>Avatar</td>\n",
       "      <td>In the 22nd century, a paraplegic Marine is di...</td>\n",
       "      <td>150.437577</td>\n",
       "      <td>[{\"name\": \"Ingenious Film Partners\", \"id\": 289...</td>\n",
       "      <td>[{\"iso_3166_1\": \"US\", \"name\": \"United States o...</td>\n",
       "      <td>2009-12-10</td>\n",
       "      <td>2787965087</td>\n",
       "      <td>162.0</td>\n",
       "      <td>[{\"iso_639_1\": \"en\", \"name\": \"English\"}, {\"iso...</td>\n",
       "      <td>Released</td>\n",
       "      <td>Enter the World of Pandora.</td>\n",
       "      <td>Avatar</td>\n",
       "      <td>7.2</td>\n",
       "      <td>11800</td>\n",
       "    </tr>\n",
       "    <tr>\n",
       "      <td>1</td>\n",
       "      <td>300000000</td>\n",
       "      <td>[{\"id\": 12, \"name\": \"Adventure\"}, {\"id\": 14, \"...</td>\n",
       "      <td>http://disney.go.com/disneypictures/pirates/</td>\n",
       "      <td>285</td>\n",
       "      <td>[{\"id\": 270, \"name\": \"ocean\"}, {\"id\": 726, \"na...</td>\n",
       "      <td>en</td>\n",
       "      <td>Pirates of the Caribbean: At World's End</td>\n",
       "      <td>Captain Barbossa, long believed to be dead, ha...</td>\n",
       "      <td>139.082615</td>\n",
       "      <td>[{\"name\": \"Walt Disney Pictures\", \"id\": 2}, {\"...</td>\n",
       "      <td>[{\"iso_3166_1\": \"US\", \"name\": \"United States o...</td>\n",
       "      <td>2007-05-19</td>\n",
       "      <td>961000000</td>\n",
       "      <td>169.0</td>\n",
       "      <td>[{\"iso_639_1\": \"en\", \"name\": \"English\"}]</td>\n",
       "      <td>Released</td>\n",
       "      <td>At the end of the world, the adventure begins.</td>\n",
       "      <td>Pirates of the Caribbean: At World's End</td>\n",
       "      <td>6.9</td>\n",
       "      <td>4500</td>\n",
       "    </tr>\n",
       "    <tr>\n",
       "      <td>2</td>\n",
       "      <td>245000000</td>\n",
       "      <td>[{\"id\": 28, \"name\": \"Action\"}, {\"id\": 12, \"nam...</td>\n",
       "      <td>http://www.sonypictures.com/movies/spectre/</td>\n",
       "      <td>206647</td>\n",
       "      <td>[{\"id\": 470, \"name\": \"spy\"}, {\"id\": 818, \"name...</td>\n",
       "      <td>en</td>\n",
       "      <td>Spectre</td>\n",
       "      <td>A cryptic message from Bond’s past sends him o...</td>\n",
       "      <td>107.376788</td>\n",
       "      <td>[{\"name\": \"Columbia Pictures\", \"id\": 5}, {\"nam...</td>\n",
       "      <td>[{\"iso_3166_1\": \"GB\", \"name\": \"United Kingdom\"...</td>\n",
       "      <td>2015-10-26</td>\n",
       "      <td>880674609</td>\n",
       "      <td>148.0</td>\n",
       "      <td>[{\"iso_639_1\": \"fr\", \"name\": \"Fran\\u00e7ais\"},...</td>\n",
       "      <td>Released</td>\n",
       "      <td>A Plan No One Escapes</td>\n",
       "      <td>Spectre</td>\n",
       "      <td>6.3</td>\n",
       "      <td>4466</td>\n",
       "    </tr>\n",
       "    <tr>\n",
       "      <td>3</td>\n",
       "      <td>250000000</td>\n",
       "      <td>[{\"id\": 28, \"name\": \"Action\"}, {\"id\": 80, \"nam...</td>\n",
       "      <td>http://www.thedarkknightrises.com/</td>\n",
       "      <td>49026</td>\n",
       "      <td>[{\"id\": 849, \"name\": \"dc comics\"}, {\"id\": 853,...</td>\n",
       "      <td>en</td>\n",
       "      <td>The Dark Knight Rises</td>\n",
       "      <td>Following the death of District Attorney Harve...</td>\n",
       "      <td>112.312950</td>\n",
       "      <td>[{\"name\": \"Legendary Pictures\", \"id\": 923}, {\"...</td>\n",
       "      <td>[{\"iso_3166_1\": \"US\", \"name\": \"United States o...</td>\n",
       "      <td>2012-07-16</td>\n",
       "      <td>1084939099</td>\n",
       "      <td>165.0</td>\n",
       "      <td>[{\"iso_639_1\": \"en\", \"name\": \"English\"}]</td>\n",
       "      <td>Released</td>\n",
       "      <td>The Legend Ends</td>\n",
       "      <td>The Dark Knight Rises</td>\n",
       "      <td>7.6</td>\n",
       "      <td>9106</td>\n",
       "    </tr>\n",
       "    <tr>\n",
       "      <td>4</td>\n",
       "      <td>260000000</td>\n",
       "      <td>[{\"id\": 28, \"name\": \"Action\"}, {\"id\": 12, \"nam...</td>\n",
       "      <td>http://movies.disney.com/john-carter</td>\n",
       "      <td>49529</td>\n",
       "      <td>[{\"id\": 818, \"name\": \"based on novel\"}, {\"id\":...</td>\n",
       "      <td>en</td>\n",
       "      <td>John Carter</td>\n",
       "      <td>John Carter is a war-weary, former military ca...</td>\n",
       "      <td>43.926995</td>\n",
       "      <td>[{\"name\": \"Walt Disney Pictures\", \"id\": 2}]</td>\n",
       "      <td>[{\"iso_3166_1\": \"US\", \"name\": \"United States o...</td>\n",
       "      <td>2012-03-07</td>\n",
       "      <td>284139100</td>\n",
       "      <td>132.0</td>\n",
       "      <td>[{\"iso_639_1\": \"en\", \"name\": \"English\"}]</td>\n",
       "      <td>Released</td>\n",
       "      <td>Lost in our world, found in another.</td>\n",
       "      <td>John Carter</td>\n",
       "      <td>6.1</td>\n",
       "      <td>2124</td>\n",
       "    </tr>\n",
       "  </tbody>\n",
       "</table>\n",
       "</div>"
      ],
      "text/plain": [
       "      budget                                             genres  \\\n",
       "0  237000000  [{\"id\": 28, \"name\": \"Action\"}, {\"id\": 12, \"nam...   \n",
       "1  300000000  [{\"id\": 12, \"name\": \"Adventure\"}, {\"id\": 14, \"...   \n",
       "2  245000000  [{\"id\": 28, \"name\": \"Action\"}, {\"id\": 12, \"nam...   \n",
       "3  250000000  [{\"id\": 28, \"name\": \"Action\"}, {\"id\": 80, \"nam...   \n",
       "4  260000000  [{\"id\": 28, \"name\": \"Action\"}, {\"id\": 12, \"nam...   \n",
       "\n",
       "                                       homepage  movie_id  \\\n",
       "0                   http://www.avatarmovie.com/     19995   \n",
       "1  http://disney.go.com/disneypictures/pirates/       285   \n",
       "2   http://www.sonypictures.com/movies/spectre/    206647   \n",
       "3            http://www.thedarkknightrises.com/     49026   \n",
       "4          http://movies.disney.com/john-carter     49529   \n",
       "\n",
       "                                            keywords original_language  \\\n",
       "0  [{\"id\": 1463, \"name\": \"culture clash\"}, {\"id\":...                en   \n",
       "1  [{\"id\": 270, \"name\": \"ocean\"}, {\"id\": 726, \"na...                en   \n",
       "2  [{\"id\": 470, \"name\": \"spy\"}, {\"id\": 818, \"name...                en   \n",
       "3  [{\"id\": 849, \"name\": \"dc comics\"}, {\"id\": 853,...                en   \n",
       "4  [{\"id\": 818, \"name\": \"based on novel\"}, {\"id\":...                en   \n",
       "\n",
       "                             original_title  \\\n",
       "0                                    Avatar   \n",
       "1  Pirates of the Caribbean: At World's End   \n",
       "2                                   Spectre   \n",
       "3                     The Dark Knight Rises   \n",
       "4                               John Carter   \n",
       "\n",
       "                                            overview  popularity  \\\n",
       "0  In the 22nd century, a paraplegic Marine is di...  150.437577   \n",
       "1  Captain Barbossa, long believed to be dead, ha...  139.082615   \n",
       "2  A cryptic message from Bond’s past sends him o...  107.376788   \n",
       "3  Following the death of District Attorney Harve...  112.312950   \n",
       "4  John Carter is a war-weary, former military ca...   43.926995   \n",
       "\n",
       "                                production_companies  \\\n",
       "0  [{\"name\": \"Ingenious Film Partners\", \"id\": 289...   \n",
       "1  [{\"name\": \"Walt Disney Pictures\", \"id\": 2}, {\"...   \n",
       "2  [{\"name\": \"Columbia Pictures\", \"id\": 5}, {\"nam...   \n",
       "3  [{\"name\": \"Legendary Pictures\", \"id\": 923}, {\"...   \n",
       "4        [{\"name\": \"Walt Disney Pictures\", \"id\": 2}]   \n",
       "\n",
       "                                production_countries release_date     revenue  \\\n",
       "0  [{\"iso_3166_1\": \"US\", \"name\": \"United States o...   2009-12-10  2787965087   \n",
       "1  [{\"iso_3166_1\": \"US\", \"name\": \"United States o...   2007-05-19   961000000   \n",
       "2  [{\"iso_3166_1\": \"GB\", \"name\": \"United Kingdom\"...   2015-10-26   880674609   \n",
       "3  [{\"iso_3166_1\": \"US\", \"name\": \"United States o...   2012-07-16  1084939099   \n",
       "4  [{\"iso_3166_1\": \"US\", \"name\": \"United States o...   2012-03-07   284139100   \n",
       "\n",
       "   runtime                                   spoken_languages    status  \\\n",
       "0    162.0  [{\"iso_639_1\": \"en\", \"name\": \"English\"}, {\"iso...  Released   \n",
       "1    169.0           [{\"iso_639_1\": \"en\", \"name\": \"English\"}]  Released   \n",
       "2    148.0  [{\"iso_639_1\": \"fr\", \"name\": \"Fran\\u00e7ais\"},...  Released   \n",
       "3    165.0           [{\"iso_639_1\": \"en\", \"name\": \"English\"}]  Released   \n",
       "4    132.0           [{\"iso_639_1\": \"en\", \"name\": \"English\"}]  Released   \n",
       "\n",
       "                                          tagline  \\\n",
       "0                     Enter the World of Pandora.   \n",
       "1  At the end of the world, the adventure begins.   \n",
       "2                           A Plan No One Escapes   \n",
       "3                                 The Legend Ends   \n",
       "4            Lost in our world, found in another.   \n",
       "\n",
       "                                      title  vote_average  vote_count  \n",
       "0                                    Avatar           7.2       11800  \n",
       "1  Pirates of the Caribbean: At World's End           6.9        4500  \n",
       "2                                   Spectre           6.3        4466  \n",
       "3                     The Dark Knight Rises           7.6        9106  \n",
       "4                               John Carter           6.1        2124  "
      ]
     },
     "execution_count": 13,
     "metadata": {},
     "output_type": "execute_result"
    }
   ],
   "source": [
    "pr_movies_df.head()"
   ]
  },
  {
   "cell_type": "code",
   "execution_count": 14,
   "metadata": {},
   "outputs": [
    {
     "data": {
      "text/html": [
       "<div>\n",
       "<style scoped>\n",
       "    .dataframe tbody tr th:only-of-type {\n",
       "        vertical-align: middle;\n",
       "    }\n",
       "\n",
       "    .dataframe tbody tr th {\n",
       "        vertical-align: top;\n",
       "    }\n",
       "\n",
       "    .dataframe thead th {\n",
       "        text-align: right;\n",
       "    }\n",
       "</style>\n",
       "<table border=\"1\" class=\"dataframe\">\n",
       "  <thead>\n",
       "    <tr style=\"text-align: right;\">\n",
       "      <th></th>\n",
       "      <th>budget</th>\n",
       "      <th>genres</th>\n",
       "      <th>movie_id</th>\n",
       "      <th>keywords</th>\n",
       "      <th>original_language</th>\n",
       "      <th>popularity</th>\n",
       "      <th>production_companies</th>\n",
       "      <th>production_countries</th>\n",
       "      <th>release_date</th>\n",
       "      <th>revenue</th>\n",
       "      <th>runtime</th>\n",
       "      <th>spoken_languages</th>\n",
       "      <th>status</th>\n",
       "      <th>title</th>\n",
       "      <th>vote_average</th>\n",
       "      <th>vote_count</th>\n",
       "    </tr>\n",
       "  </thead>\n",
       "  <tbody>\n",
       "    <tr>\n",
       "      <td>0</td>\n",
       "      <td>237000000</td>\n",
       "      <td>{Fantasy, Science Fiction, Action, Adventure}</td>\n",
       "      <td>19995</td>\n",
       "      <td>{romance, space colony, cgi, space war, tribe,...</td>\n",
       "      <td>en</td>\n",
       "      <td>150.437577</td>\n",
       "      <td>{Twentieth Century Fox Film Corporation, Light...</td>\n",
       "      <td>{United States of America, United Kingdom}</td>\n",
       "      <td>2009-12-10</td>\n",
       "      <td>2787965087</td>\n",
       "      <td>162.0</td>\n",
       "      <td>{English, Español}</td>\n",
       "      <td>Released</td>\n",
       "      <td>Avatar</td>\n",
       "      <td>7.2</td>\n",
       "      <td>11800</td>\n",
       "    </tr>\n",
       "    <tr>\n",
       "      <td>1</td>\n",
       "      <td>300000000</td>\n",
       "      <td>{Fantasy, Action, Adventure}</td>\n",
       "      <td>285</td>\n",
       "      <td>{drug abuse, exotic island, love of one's life...</td>\n",
       "      <td>en</td>\n",
       "      <td>139.082615</td>\n",
       "      <td>{Second Mate Productions, Jerry Bruckheimer Fi...</td>\n",
       "      <td>{United States of America}</td>\n",
       "      <td>2007-05-19</td>\n",
       "      <td>961000000</td>\n",
       "      <td>169.0</td>\n",
       "      <td>{English}</td>\n",
       "      <td>Released</td>\n",
       "      <td>Pirates of the Caribbean: At World's End</td>\n",
       "      <td>6.9</td>\n",
       "      <td>4500</td>\n",
       "    </tr>\n",
       "    <tr>\n",
       "      <td>2</td>\n",
       "      <td>245000000</td>\n",
       "      <td>{Action, Adventure, Crime}</td>\n",
       "      <td>206647</td>\n",
       "      <td>{based on novel, mi6, spy, sequel, british sec...</td>\n",
       "      <td>en</td>\n",
       "      <td>107.376788</td>\n",
       "      <td>{Columbia Pictures, B24, Danjaq}</td>\n",
       "      <td>{United States of America, United Kingdom}</td>\n",
       "      <td>2015-10-26</td>\n",
       "      <td>880674609</td>\n",
       "      <td>148.0</td>\n",
       "      <td>{Italiano, Deutsch, English, Español, Français}</td>\n",
       "      <td>Released</td>\n",
       "      <td>Spectre</td>\n",
       "      <td>6.3</td>\n",
       "      <td>4466</td>\n",
       "    </tr>\n",
       "    <tr>\n",
       "      <td>3</td>\n",
       "      <td>250000000</td>\n",
       "      <td>{Drama, Thriller, Action, Crime}</td>\n",
       "      <td>49026</td>\n",
       "      <td>{terrorist, batman, hostage drama, dc comics, ...</td>\n",
       "      <td>en</td>\n",
       "      <td>112.312950</td>\n",
       "      <td>{DC Entertainment, Legendary Pictures, Syncopy...</td>\n",
       "      <td>{United States of America}</td>\n",
       "      <td>2012-07-16</td>\n",
       "      <td>1084939099</td>\n",
       "      <td>165.0</td>\n",
       "      <td>{English}</td>\n",
       "      <td>Released</td>\n",
       "      <td>The Dark Knight Rises</td>\n",
       "      <td>7.6</td>\n",
       "      <td>9106</td>\n",
       "    </tr>\n",
       "    <tr>\n",
       "      <td>4</td>\n",
       "      <td>260000000</td>\n",
       "      <td>{Science Fiction, Action, Adventure}</td>\n",
       "      <td>49529</td>\n",
       "      <td>{escape, 19th century, based on novel, martian...</td>\n",
       "      <td>en</td>\n",
       "      <td>43.926995</td>\n",
       "      <td>{Walt Disney Pictures}</td>\n",
       "      <td>{United States of America}</td>\n",
       "      <td>2012-03-07</td>\n",
       "      <td>284139100</td>\n",
       "      <td>132.0</td>\n",
       "      <td>{English}</td>\n",
       "      <td>Released</td>\n",
       "      <td>John Carter</td>\n",
       "      <td>6.1</td>\n",
       "      <td>2124</td>\n",
       "    </tr>\n",
       "  </tbody>\n",
       "</table>\n",
       "</div>"
      ],
      "text/plain": [
       "      budget                                         genres  movie_id  \\\n",
       "0  237000000  {Fantasy, Science Fiction, Action, Adventure}     19995   \n",
       "1  300000000                   {Fantasy, Action, Adventure}       285   \n",
       "2  245000000                     {Action, Adventure, Crime}    206647   \n",
       "3  250000000               {Drama, Thriller, Action, Crime}     49026   \n",
       "4  260000000           {Science Fiction, Action, Adventure}     49529   \n",
       "\n",
       "                                            keywords original_language  \\\n",
       "0  {romance, space colony, cgi, space war, tribe,...                en   \n",
       "1  {drug abuse, exotic island, love of one's life...                en   \n",
       "2  {based on novel, mi6, spy, sequel, british sec...                en   \n",
       "3  {terrorist, batman, hostage drama, dc comics, ...                en   \n",
       "4  {escape, 19th century, based on novel, martian...                en   \n",
       "\n",
       "   popularity                               production_companies  \\\n",
       "0  150.437577  {Twentieth Century Fox Film Corporation, Light...   \n",
       "1  139.082615  {Second Mate Productions, Jerry Bruckheimer Fi...   \n",
       "2  107.376788                   {Columbia Pictures, B24, Danjaq}   \n",
       "3  112.312950  {DC Entertainment, Legendary Pictures, Syncopy...   \n",
       "4   43.926995                             {Walt Disney Pictures}   \n",
       "\n",
       "                         production_countries release_date     revenue  \\\n",
       "0  {United States of America, United Kingdom}   2009-12-10  2787965087   \n",
       "1                  {United States of America}   2007-05-19   961000000   \n",
       "2  {United States of America, United Kingdom}   2015-10-26   880674609   \n",
       "3                  {United States of America}   2012-07-16  1084939099   \n",
       "4                  {United States of America}   2012-03-07   284139100   \n",
       "\n",
       "   runtime                                 spoken_languages    status  \\\n",
       "0    162.0                               {English, Español}  Released   \n",
       "1    169.0                                        {English}  Released   \n",
       "2    148.0  {Italiano, Deutsch, English, Español, Français}  Released   \n",
       "3    165.0                                        {English}  Released   \n",
       "4    132.0                                        {English}  Released   \n",
       "\n",
       "                                      title  vote_average  vote_count  \n",
       "0                                    Avatar           7.2       11800  \n",
       "1  Pirates of the Caribbean: At World's End           6.9        4500  \n",
       "2                                   Spectre           6.3        4466  \n",
       "3                     The Dark Knight Rises           7.6        9106  \n",
       "4                               John Carter           6.1        2124  "
      ]
     },
     "execution_count": 14,
     "metadata": {},
     "output_type": "execute_result"
    }
   ],
   "source": [
    "# Transform json to list of dictionaries within cols\n",
    "movies_df_json_cols = ['genres','production_companies','keywords','production_countries','spoken_languages']\n",
    "cols_to_drop = ['homepage','overview','tagline','original_title']\n",
    "key = 'name'\n",
    "movie_id_col = 'movie_id'\n",
    "\n",
    "pr_movies_df = col_json_to_dict(pr_movies_df,movies_df_json_cols)\n",
    "for col in movies_df_json_cols :\n",
    "    pr_movies_df = col_dict_to_set(pr_movies_df,col,key)\n",
    "pr_movies_df = pr_movies_df.drop(columns = cols_to_drop)\n",
    "pr_movies_df.head()"
   ]
  },
  {
   "cell_type": "markdown",
   "metadata": {},
   "source": [
    "## Process credits df"
   ]
  },
  {
   "cell_type": "code",
   "execution_count": 15,
   "metadata": {},
   "outputs": [
    {
     "data": {
      "text/html": [
       "<div>\n",
       "<style scoped>\n",
       "    .dataframe tbody tr th:only-of-type {\n",
       "        vertical-align: middle;\n",
       "    }\n",
       "\n",
       "    .dataframe tbody tr th {\n",
       "        vertical-align: top;\n",
       "    }\n",
       "\n",
       "    .dataframe thead th {\n",
       "        text-align: right;\n",
       "    }\n",
       "</style>\n",
       "<table border=\"1\" class=\"dataframe\">\n",
       "  <thead>\n",
       "    <tr style=\"text-align: right;\">\n",
       "      <th></th>\n",
       "      <th>movie_id</th>\n",
       "      <th>cast</th>\n",
       "      <th>crew</th>\n",
       "      <th>actors</th>\n",
       "    </tr>\n",
       "  </thead>\n",
       "  <tbody>\n",
       "    <tr>\n",
       "      <td>0</td>\n",
       "      <td>19995</td>\n",
       "      <td>{Stuart Pollock, Gareth Ruck, James Patrick Pi...</td>\n",
       "      <td>{James Cameron}</td>\n",
       "      <td>Sam Worthington</td>\n",
       "    </tr>\n",
       "    <tr>\n",
       "      <td>1</td>\n",
       "      <td>19995</td>\n",
       "      <td>{Stuart Pollock, Gareth Ruck, James Patrick Pi...</td>\n",
       "      <td>{James Cameron}</td>\n",
       "      <td>Zoe Saldana</td>\n",
       "    </tr>\n",
       "    <tr>\n",
       "      <td>2</td>\n",
       "      <td>19995</td>\n",
       "      <td>{Stuart Pollock, Gareth Ruck, James Patrick Pi...</td>\n",
       "      <td>{James Cameron}</td>\n",
       "      <td>Sigourney Weaver</td>\n",
       "    </tr>\n",
       "    <tr>\n",
       "      <td>3</td>\n",
       "      <td>19995</td>\n",
       "      <td>{Stuart Pollock, Gareth Ruck, James Patrick Pi...</td>\n",
       "      <td>{James Cameron}</td>\n",
       "      <td>Stephen Lang</td>\n",
       "    </tr>\n",
       "    <tr>\n",
       "      <td>4</td>\n",
       "      <td>19995</td>\n",
       "      <td>{Stuart Pollock, Gareth Ruck, James Patrick Pi...</td>\n",
       "      <td>{James Cameron}</td>\n",
       "      <td>Michelle Rodriguez</td>\n",
       "    </tr>\n",
       "  </tbody>\n",
       "</table>\n",
       "</div>"
      ],
      "text/plain": [
       "   movie_id                                               cast  \\\n",
       "0     19995  {Stuart Pollock, Gareth Ruck, James Patrick Pi...   \n",
       "1     19995  {Stuart Pollock, Gareth Ruck, James Patrick Pi...   \n",
       "2     19995  {Stuart Pollock, Gareth Ruck, James Patrick Pi...   \n",
       "3     19995  {Stuart Pollock, Gareth Ruck, James Patrick Pi...   \n",
       "4     19995  {Stuart Pollock, Gareth Ruck, James Patrick Pi...   \n",
       "\n",
       "              crew              actors  \n",
       "0  {James Cameron}     Sam Worthington  \n",
       "1  {James Cameron}         Zoe Saldana  \n",
       "2  {James Cameron}    Sigourney Weaver  \n",
       "3  {James Cameron}        Stephen Lang  \n",
       "4  {James Cameron}  Michelle Rodriguez  "
      ]
     },
     "execution_count": 15,
     "metadata": {},
     "output_type": "execute_result"
    }
   ],
   "source": [
    "pr_credits_df = credits_df_cp\n",
    "credits_df_json_cols = ['cast','crew']\n",
    "key = 'name'\n",
    "pr_credits_df = col_json_to_dict(pr_credits_df,credits_df_json_cols)\n",
    "pr_credits_df = pr_credits_df.assign(actors = pr_credits_df[credits_df_json_cols[0]] )\n",
    "for col in credits_df_json_cols:\n",
    "    if col != \"crew\":\n",
    "        pr_credits_df = col_dict_to_set(pr_credits_df,col,key)\n",
    "crew_col = 'crew'\n",
    "job_field = 'job'\n",
    "values = ['Director']\n",
    "# Filter dictionaries with Director as job\n",
    "pr_credits_df = col_filter_dict_with_vals(pr_credits_df,crew_col,job_field,values)\\\n",
    "                    .rename({crew_col:values[0]})\n",
    "pr_credits_df = col_dict_to_set(pr_credits_df,crew_col,key)\n",
    "# Get actors col\n",
    "# Only select main actors to reduce the size of the dataset\n",
    "actors_col = 'actors'\n",
    "order_field = 'order'\n",
    "# Select the number of important actors\n",
    "values = [0,1,2,3,4]\n",
    "pr_credits_df = col_filter_dict_with_vals(pr_credits_df,actors_col,order_field,values)\\\n",
    "                    .rename({crew_col:values[0]})\n",
    "\n",
    "get_value = lambda dict_: dict_.get(key)\n",
    "\n",
    "pr_credits_df = pr_credits_df.explode(actors_col)\n",
    "pr_credits_df = pr_credits_df[pr_credits_df[actors_col].notna()]\n",
    "actors_series = pr_credits_df[actors_col]\n",
    "pr_credits_df = pr_credits_df.assign(**{actors_col:pr_credits_df[actors_col].apply(get_value)})\n",
    "# Remove actor from cast\n",
    "actor_cast_col = 'actor_cast'\n",
    "pr_credits_df = pr_credits_df.reset_index(drop=True)\n",
    "remove_from_cast = lambda row: row[credits_df_json_cols[0]]-set({row[actors_col]})\n",
    "pr_credits_df = pr_credits_df.assign(\\\n",
    "                **{credits_df_json_cols[0]:pr_credits_df.apply(remove_from_cast,axis=1)})\\\n",
    "                .drop(columns='title')\n",
    "pr_credits_df.head()"
   ]
  },
  {
   "cell_type": "code",
   "execution_count": 16,
   "metadata": {},
   "outputs": [
    {
     "data": {
      "text/html": [
       "<div>\n",
       "<style scoped>\n",
       "    .dataframe tbody tr th:only-of-type {\n",
       "        vertical-align: middle;\n",
       "    }\n",
       "\n",
       "    .dataframe tbody tr th {\n",
       "        vertical-align: top;\n",
       "    }\n",
       "\n",
       "    .dataframe thead th {\n",
       "        text-align: right;\n",
       "    }\n",
       "</style>\n",
       "<table border=\"1\" class=\"dataframe\">\n",
       "  <thead>\n",
       "    <tr style=\"text-align: right;\">\n",
       "      <th></th>\n",
       "      <th>actor_id</th>\n",
       "      <th>actors</th>\n",
       "      <th>gender</th>\n",
       "      <th>order</th>\n",
       "    </tr>\n",
       "  </thead>\n",
       "  <tbody>\n",
       "    <tr>\n",
       "      <td>0</td>\n",
       "      <td>0</td>\n",
       "      <td>Larry Mullen Jr.</td>\n",
       "      <td>2</td>\n",
       "      <td>[4]</td>\n",
       "    </tr>\n",
       "    <tr>\n",
       "      <td>1</td>\n",
       "      <td>1</td>\n",
       "      <td>\"Weird Al\" Yankovic</td>\n",
       "      <td>0</td>\n",
       "      <td>[0]</td>\n",
       "    </tr>\n",
       "    <tr>\n",
       "      <td>2</td>\n",
       "      <td>2</td>\n",
       "      <td>50 Cent</td>\n",
       "      <td>2</td>\n",
       "      <td>[4, 2, 4, 0, 4]</td>\n",
       "    </tr>\n",
       "    <tr>\n",
       "      <td>3</td>\n",
       "      <td>3</td>\n",
       "      <td>A.D. Johnson</td>\n",
       "      <td>0</td>\n",
       "      <td>[4]</td>\n",
       "    </tr>\n",
       "    <tr>\n",
       "      <td>4</td>\n",
       "      <td>4</td>\n",
       "      <td>A.J. Buckley</td>\n",
       "      <td>2</td>\n",
       "      <td>[1, 3, 4]</td>\n",
       "    </tr>\n",
       "    <tr>\n",
       "      <td>...</td>\n",
       "      <td>...</td>\n",
       "      <td>...</td>\n",
       "      <td>...</td>\n",
       "      <td>...</td>\n",
       "    </tr>\n",
       "    <tr>\n",
       "      <td>9177</td>\n",
       "      <td>9177</td>\n",
       "      <td>Óscar Jaenada</td>\n",
       "      <td>2</td>\n",
       "      <td>[1]</td>\n",
       "    </tr>\n",
       "    <tr>\n",
       "      <td>9178</td>\n",
       "      <td>9178</td>\n",
       "      <td>Đỗ Thị Hải Yến</td>\n",
       "      <td>1</td>\n",
       "      <td>[2]</td>\n",
       "    </tr>\n",
       "    <tr>\n",
       "      <td>9179</td>\n",
       "      <td>9179</td>\n",
       "      <td>Špela Colja</td>\n",
       "      <td>0</td>\n",
       "      <td>[3]</td>\n",
       "    </tr>\n",
       "    <tr>\n",
       "      <td>9180</td>\n",
       "      <td>9180</td>\n",
       "      <td>Юлия Снигирь</td>\n",
       "      <td>1</td>\n",
       "      <td>[4, 2]</td>\n",
       "    </tr>\n",
       "    <tr>\n",
       "      <td>9181</td>\n",
       "      <td>9181</td>\n",
       "      <td>پیمان معادی</td>\n",
       "      <td>2</td>\n",
       "      <td>[3]</td>\n",
       "    </tr>\n",
       "  </tbody>\n",
       "</table>\n",
       "<p>9182 rows × 4 columns</p>\n",
       "</div>"
      ],
      "text/plain": [
       "      actor_id               actors  gender            order\n",
       "0            0     Larry Mullen Jr.       2              [4]\n",
       "1            1  \"Weird Al\" Yankovic       0              [0]\n",
       "2            2              50 Cent       2  [4, 2, 4, 0, 4]\n",
       "3            3         A.D. Johnson       0              [4]\n",
       "4            4         A.J. Buckley       2        [1, 3, 4]\n",
       "...        ...                  ...     ...              ...\n",
       "9177      9177        Óscar Jaenada       2              [1]\n",
       "9178      9178       Đỗ Thị Hải Yến       1              [2]\n",
       "9179      9179          Špela Colja       0              [3]\n",
       "9180      9180         Юлия Снигирь       1           [4, 2]\n",
       "9181      9181          پیمان معادی       2              [3]\n",
       "\n",
       "[9182 rows x 4 columns]"
      ]
     },
     "execution_count": 16,
     "metadata": {},
     "output_type": "execute_result"
    }
   ],
   "source": [
    "actor_cols = ['name','gender','order']\n",
    "actors_df = json_normalize(actors_series)[actor_cols]\n",
    "actors_df = actors_df\\\n",
    "            .rename(columns ={actor_cols[0]:actors_col})\\\n",
    "            .groupby(actors_col)\\\n",
    "            .aggregate({actor_cols[1]:max,actor_cols[2]:list})\\\n",
    "            .reset_index()\\\n",
    "            .reset_index()\\\n",
    "            .rename(columns={'index':'actor_id'})\n",
    "actors_df"
   ]
  },
  {
   "cell_type": "code",
   "execution_count": 17,
   "metadata": {},
   "outputs": [
    {
     "data": {
      "text/html": [
       "<div>\n",
       "<style scoped>\n",
       "    .dataframe tbody tr th:only-of-type {\n",
       "        vertical-align: middle;\n",
       "    }\n",
       "\n",
       "    .dataframe tbody tr th {\n",
       "        vertical-align: top;\n",
       "    }\n",
       "\n",
       "    .dataframe thead th {\n",
       "        text-align: right;\n",
       "    }\n",
       "</style>\n",
       "<table border=\"1\" class=\"dataframe\">\n",
       "  <thead>\n",
       "    <tr style=\"text-align: right;\">\n",
       "      <th></th>\n",
       "      <th>movie_id</th>\n",
       "      <th>cast</th>\n",
       "      <th>crew</th>\n",
       "      <th>actors</th>\n",
       "      <th>actor_id</th>\n",
       "      <th>gender</th>\n",
       "      <th>order</th>\n",
       "    </tr>\n",
       "  </thead>\n",
       "  <tbody>\n",
       "    <tr>\n",
       "      <td>0</td>\n",
       "      <td>19995</td>\n",
       "      <td>{Stuart Pollock, Gareth Ruck, James Patrick Pi...</td>\n",
       "      <td>{James Cameron}</td>\n",
       "      <td>Sam Worthington</td>\n",
       "      <td>7735</td>\n",
       "      <td>2</td>\n",
       "      <td>[0, 1, 0, 0, 4, 0, 1, 4]</td>\n",
       "    </tr>\n",
       "    <tr>\n",
       "      <td>1</td>\n",
       "      <td>534</td>\n",
       "      <td>{Anton Yelchin, Christian Bale, Common, Michae...</td>\n",
       "      <td>{McG}</td>\n",
       "      <td>Sam Worthington</td>\n",
       "      <td>7735</td>\n",
       "      <td>2</td>\n",
       "      <td>[0, 1, 0, 0, 4, 0, 1, 4]</td>\n",
       "    </tr>\n",
       "    <tr>\n",
       "      <td>2</td>\n",
       "      <td>57165</td>\n",
       "      <td>{Martin Bayfield, Kett Turton, Lily James, Ral...</td>\n",
       "      <td>{Jonathan Liebesman}</td>\n",
       "      <td>Sam Worthington</td>\n",
       "      <td>7735</td>\n",
       "      <td>2</td>\n",
       "      <td>[0, 1, 0, 0, 4, 0, 1, 4]</td>\n",
       "    </tr>\n",
       "    <tr>\n",
       "      <td>3</td>\n",
       "      <td>18823</td>\n",
       "      <td>{Ian Whyte, Katherine Loeppky, Alexa Davalos, ...</td>\n",
       "      <td>{Louis Leterrier}</td>\n",
       "      <td>Sam Worthington</td>\n",
       "      <td>7735</td>\n",
       "      <td>2</td>\n",
       "      <td>[0, 1, 0, 0, 4, 0, 1, 4]</td>\n",
       "    </tr>\n",
       "    <tr>\n",
       "      <td>4</td>\n",
       "      <td>253412</td>\n",
       "      <td>{Lucy Newman-Williams, Naoko Mori, Charlotte B...</td>\n",
       "      <td>{Baltasar Kormákur}</td>\n",
       "      <td>Sam Worthington</td>\n",
       "      <td>7735</td>\n",
       "      <td>2</td>\n",
       "      <td>[0, 1, 0, 0, 4, 0, 1, 4]</td>\n",
       "    </tr>\n",
       "    <tr>\n",
       "      <td>5</td>\n",
       "      <td>49527</td>\n",
       "      <td>{Frank Pando, Geoffrey Cantor, Gerry Vichi, Gé...</td>\n",
       "      <td>{Asger Leth}</td>\n",
       "      <td>Sam Worthington</td>\n",
       "      <td>7735</td>\n",
       "      <td>2</td>\n",
       "      <td>[0, 1, 0, 0, 4, 0, 1, 4]</td>\n",
       "    </tr>\n",
       "    <tr>\n",
       "      <td>6</td>\n",
       "      <td>144336</td>\n",
       "      <td>{Gary Grubbs, B.J. Winfrey, Everton Lawrence, ...</td>\n",
       "      <td>{David Ayer}</td>\n",
       "      <td>Sam Worthington</td>\n",
       "      <td>7735</td>\n",
       "      <td>2</td>\n",
       "      <td>[0, 1, 0, 0, 4, 0, 1, 4]</td>\n",
       "    </tr>\n",
       "    <tr>\n",
       "      <td>7</td>\n",
       "      <td>48289</td>\n",
       "      <td>{Adar Beck, Tom Wilkinson, Marton Csokas, Jesp...</td>\n",
       "      <td>{John Madden}</td>\n",
       "      <td>Sam Worthington</td>\n",
       "      <td>7735</td>\n",
       "      <td>2</td>\n",
       "      <td>[0, 1, 0, 0, 4, 0, 1, 4]</td>\n",
       "    </tr>\n",
       "    <tr>\n",
       "      <td>8</td>\n",
       "      <td>19995</td>\n",
       "      <td>{Stuart Pollock, Gareth Ruck, James Patrick Pi...</td>\n",
       "      <td>{James Cameron}</td>\n",
       "      <td>Zoe Saldana</td>\n",
       "      <td>9158</td>\n",
       "      <td>1</td>\n",
       "      <td>[1, 2, 4, 1, 2, 0, 2, 4, 1, 1, 1, 1, 1, 4, 1]</td>\n",
       "    </tr>\n",
       "    <tr>\n",
       "      <td>9</td>\n",
       "      <td>54138</td>\n",
       "      <td>{Anton Yelchin, Cynthia Addai-Robinson, Matthe...</td>\n",
       "      <td>{J.J. Abrams}</td>\n",
       "      <td>Zoe Saldana</td>\n",
       "      <td>9158</td>\n",
       "      <td>1</td>\n",
       "      <td>[1, 2, 4, 1, 2, 0, 2, 4, 1, 1, 1, 1, 1, 4, 1]</td>\n",
       "    </tr>\n",
       "    <tr>\n",
       "      <td>10</td>\n",
       "      <td>188927</td>\n",
       "      <td>{Anton Yelchin, Shohreh Aghdashloo, Doug Jung,...</td>\n",
       "      <td>{Justin Lin}</td>\n",
       "      <td>Zoe Saldana</td>\n",
       "      <td>9158</td>\n",
       "      <td>1</td>\n",
       "      <td>[1, 2, 4, 1, 2, 0, 2, 4, 1, 1, 1, 1, 1, 4, 1]</td>\n",
       "    </tr>\n",
       "    <tr>\n",
       "      <td>11</td>\n",
       "      <td>118340</td>\n",
       "      <td>{Marama Corlett, Seth Green, Raed Abbas, Tyler...</td>\n",
       "      <td>{James Gunn}</td>\n",
       "      <td>Zoe Saldana</td>\n",
       "      <td>9158</td>\n",
       "      <td>1</td>\n",
       "      <td>[1, 2, 4, 1, 2, 0, 2, 4, 1, 1, 1, 1, 1, 4, 1]</td>\n",
       "    </tr>\n",
       "    <tr>\n",
       "      <td>12</td>\n",
       "      <td>228326</td>\n",
       "      <td>{Ben Gleib, Gabriel Iglesias, Diego Luna, Chee...</td>\n",
       "      <td>{Jorge R. Gutierrez}</td>\n",
       "      <td>Zoe Saldana</td>\n",
       "      <td>9158</td>\n",
       "      <td>1</td>\n",
       "      <td>[1, 2, 4, 1, 2, 0, 2, 4, 1, 1, 1, 1, 1, 4, 1]</td>\n",
       "    </tr>\n",
       "    <tr>\n",
       "      <td>13</td>\n",
       "      <td>62835</td>\n",
       "      <td>{Charles Maquignon, Lennie James, Affif Ben Ba...</td>\n",
       "      <td>{Olivier Megaton}</td>\n",
       "      <td>Zoe Saldana</td>\n",
       "      <td>9158</td>\n",
       "      <td>1</td>\n",
       "      <td>[1, 2, 4, 1, 2, 0, 2, 4, 1, 1, 1, 1, 1, 4, 1]</td>\n",
       "    </tr>\n",
       "    <tr>\n",
       "      <td>14</td>\n",
       "      <td>11638</td>\n",
       "      <td>{Jessica Cauffiel, Hal Williams, Bernie Mac, K...</td>\n",
       "      <td>{Kevin Rodney Sullivan}</td>\n",
       "      <td>Zoe Saldana</td>\n",
       "      <td>9158</td>\n",
       "      <td>1</td>\n",
       "      <td>[1, 2, 4, 1, 2, 0, 2, 4, 1, 1, 1, 1, 1, 4, 1]</td>\n",
       "    </tr>\n",
       "    <tr>\n",
       "      <td>15</td>\n",
       "      <td>190955</td>\n",
       "      <td>{Lili Taylor, Olek Krupa, Richard Petrocelli, ...</td>\n",
       "      <td>{Guillaume Canet}</td>\n",
       "      <td>Zoe Saldana</td>\n",
       "      <td>9158</td>\n",
       "      <td>1</td>\n",
       "      <td>[1, 2, 4, 1, 2, 0, 2, 4, 1, 1, 1, 1, 1, 4, 1]</td>\n",
       "    </tr>\n",
       "    <tr>\n",
       "      <td>16</td>\n",
       "      <td>34813</td>\n",
       "      <td>{Óscar Jaenada, Peter Macdissi, Holt McCallany...</td>\n",
       "      <td>{Sylvain White}</td>\n",
       "      <td>Zoe Saldana</td>\n",
       "      <td>9158</td>\n",
       "      <td>1</td>\n",
       "      <td>[1, 2, 4, 1, 2, 0, 2, 4, 1, 1, 1, 1, 1, 4, 1]</td>\n",
       "    </tr>\n",
       "    <tr>\n",
       "      <td>17</td>\n",
       "      <td>164457</td>\n",
       "      <td>{Todd Bobenrieth, Matt Baker, James Quinn, Mar...</td>\n",
       "      <td>{Scott Cooper}</td>\n",
       "      <td>Zoe Saldana</td>\n",
       "      <td>9158</td>\n",
       "      <td>1</td>\n",
       "      <td>[1, 2, 4, 1, 2, 0, 2, 4, 1, 1, 1, 1, 1, 4, 1]</td>\n",
       "    </tr>\n",
       "    <tr>\n",
       "      <td>18</td>\n",
       "      <td>13497</td>\n",
       "      <td>{Brandon Hirsch, Angela Elayne Gibbs, J. Antho...</td>\n",
       "      <td>{Charles Stone III}</td>\n",
       "      <td>Zoe Saldana</td>\n",
       "      <td>9158</td>\n",
       "      <td>1</td>\n",
       "      <td>[1, 2, 4, 1, 2, 0, 2, 4, 1, 1, 1, 1, 1, 4, 1]</td>\n",
       "    </tr>\n",
       "    <tr>\n",
       "      <td>19</td>\n",
       "      <td>10560</td>\n",
       "      <td>{Amanda Schull, Susan May Pratt, Scottie Thomp...</td>\n",
       "      <td>{Nicholas Hytner}</td>\n",
       "      <td>Zoe Saldana</td>\n",
       "      <td>9158</td>\n",
       "      <td>1</td>\n",
       "      <td>[1, 2, 4, 1, 2, 0, 2, 4, 1, 1, 1, 1, 1, 4, 1]</td>\n",
       "    </tr>\n",
       "  </tbody>\n",
       "</table>\n",
       "</div>"
      ],
      "text/plain": [
       "    movie_id                                               cast  \\\n",
       "0      19995  {Stuart Pollock, Gareth Ruck, James Patrick Pi...   \n",
       "1        534  {Anton Yelchin, Christian Bale, Common, Michae...   \n",
       "2      57165  {Martin Bayfield, Kett Turton, Lily James, Ral...   \n",
       "3      18823  {Ian Whyte, Katherine Loeppky, Alexa Davalos, ...   \n",
       "4     253412  {Lucy Newman-Williams, Naoko Mori, Charlotte B...   \n",
       "5      49527  {Frank Pando, Geoffrey Cantor, Gerry Vichi, Gé...   \n",
       "6     144336  {Gary Grubbs, B.J. Winfrey, Everton Lawrence, ...   \n",
       "7      48289  {Adar Beck, Tom Wilkinson, Marton Csokas, Jesp...   \n",
       "8      19995  {Stuart Pollock, Gareth Ruck, James Patrick Pi...   \n",
       "9      54138  {Anton Yelchin, Cynthia Addai-Robinson, Matthe...   \n",
       "10    188927  {Anton Yelchin, Shohreh Aghdashloo, Doug Jung,...   \n",
       "11    118340  {Marama Corlett, Seth Green, Raed Abbas, Tyler...   \n",
       "12    228326  {Ben Gleib, Gabriel Iglesias, Diego Luna, Chee...   \n",
       "13     62835  {Charles Maquignon, Lennie James, Affif Ben Ba...   \n",
       "14     11638  {Jessica Cauffiel, Hal Williams, Bernie Mac, K...   \n",
       "15    190955  {Lili Taylor, Olek Krupa, Richard Petrocelli, ...   \n",
       "16     34813  {Óscar Jaenada, Peter Macdissi, Holt McCallany...   \n",
       "17    164457  {Todd Bobenrieth, Matt Baker, James Quinn, Mar...   \n",
       "18     13497  {Brandon Hirsch, Angela Elayne Gibbs, J. Antho...   \n",
       "19     10560  {Amanda Schull, Susan May Pratt, Scottie Thomp...   \n",
       "\n",
       "                       crew           actors  actor_id  gender  \\\n",
       "0           {James Cameron}  Sam Worthington      7735       2   \n",
       "1                     {McG}  Sam Worthington      7735       2   \n",
       "2      {Jonathan Liebesman}  Sam Worthington      7735       2   \n",
       "3         {Louis Leterrier}  Sam Worthington      7735       2   \n",
       "4       {Baltasar Kormákur}  Sam Worthington      7735       2   \n",
       "5              {Asger Leth}  Sam Worthington      7735       2   \n",
       "6              {David Ayer}  Sam Worthington      7735       2   \n",
       "7             {John Madden}  Sam Worthington      7735       2   \n",
       "8           {James Cameron}      Zoe Saldana      9158       1   \n",
       "9             {J.J. Abrams}      Zoe Saldana      9158       1   \n",
       "10             {Justin Lin}      Zoe Saldana      9158       1   \n",
       "11             {James Gunn}      Zoe Saldana      9158       1   \n",
       "12     {Jorge R. Gutierrez}      Zoe Saldana      9158       1   \n",
       "13        {Olivier Megaton}      Zoe Saldana      9158       1   \n",
       "14  {Kevin Rodney Sullivan}      Zoe Saldana      9158       1   \n",
       "15        {Guillaume Canet}      Zoe Saldana      9158       1   \n",
       "16          {Sylvain White}      Zoe Saldana      9158       1   \n",
       "17           {Scott Cooper}      Zoe Saldana      9158       1   \n",
       "18      {Charles Stone III}      Zoe Saldana      9158       1   \n",
       "19        {Nicholas Hytner}      Zoe Saldana      9158       1   \n",
       "\n",
       "                                            order  \n",
       "0                        [0, 1, 0, 0, 4, 0, 1, 4]  \n",
       "1                        [0, 1, 0, 0, 4, 0, 1, 4]  \n",
       "2                        [0, 1, 0, 0, 4, 0, 1, 4]  \n",
       "3                        [0, 1, 0, 0, 4, 0, 1, 4]  \n",
       "4                        [0, 1, 0, 0, 4, 0, 1, 4]  \n",
       "5                        [0, 1, 0, 0, 4, 0, 1, 4]  \n",
       "6                        [0, 1, 0, 0, 4, 0, 1, 4]  \n",
       "7                        [0, 1, 0, 0, 4, 0, 1, 4]  \n",
       "8   [1, 2, 4, 1, 2, 0, 2, 4, 1, 1, 1, 1, 1, 4, 1]  \n",
       "9   [1, 2, 4, 1, 2, 0, 2, 4, 1, 1, 1, 1, 1, 4, 1]  \n",
       "10  [1, 2, 4, 1, 2, 0, 2, 4, 1, 1, 1, 1, 1, 4, 1]  \n",
       "11  [1, 2, 4, 1, 2, 0, 2, 4, 1, 1, 1, 1, 1, 4, 1]  \n",
       "12  [1, 2, 4, 1, 2, 0, 2, 4, 1, 1, 1, 1, 1, 4, 1]  \n",
       "13  [1, 2, 4, 1, 2, 0, 2, 4, 1, 1, 1, 1, 1, 4, 1]  \n",
       "14  [1, 2, 4, 1, 2, 0, 2, 4, 1, 1, 1, 1, 1, 4, 1]  \n",
       "15  [1, 2, 4, 1, 2, 0, 2, 4, 1, 1, 1, 1, 1, 4, 1]  \n",
       "16  [1, 2, 4, 1, 2, 0, 2, 4, 1, 1, 1, 1, 1, 4, 1]  \n",
       "17  [1, 2, 4, 1, 2, 0, 2, 4, 1, 1, 1, 1, 1, 4, 1]  \n",
       "18  [1, 2, 4, 1, 2, 0, 2, 4, 1, 1, 1, 1, 1, 4, 1]  \n",
       "19  [1, 2, 4, 1, 2, 0, 2, 4, 1, 1, 1, 1, 1, 4, 1]  "
      ]
     },
     "execution_count": 17,
     "metadata": {},
     "output_type": "execute_result"
    }
   ],
   "source": [
    "actors_credits_df = pr_credits_df.merge(actors_df,right_on=actors_col,left_on=actors_col,how = 'inner')\n",
    "actors_credits_df.head(20)"
   ]
  },
  {
   "cell_type": "code",
   "execution_count": 18,
   "metadata": {},
   "outputs": [
    {
     "data": {
      "text/html": [
       "<div>\n",
       "<style scoped>\n",
       "    .dataframe tbody tr th:only-of-type {\n",
       "        vertical-align: middle;\n",
       "    }\n",
       "\n",
       "    .dataframe tbody tr th {\n",
       "        vertical-align: top;\n",
       "    }\n",
       "\n",
       "    .dataframe thead th {\n",
       "        text-align: right;\n",
       "    }\n",
       "</style>\n",
       "<table border=\"1\" class=\"dataframe\">\n",
       "  <thead>\n",
       "    <tr style=\"text-align: right;\">\n",
       "      <th></th>\n",
       "      <th>cast</th>\n",
       "      <th>crew</th>\n",
       "      <th>actors</th>\n",
       "      <th>actor_id</th>\n",
       "      <th>gender</th>\n",
       "      <th>order</th>\n",
       "      <th>budget</th>\n",
       "      <th>genres</th>\n",
       "      <th>keywords</th>\n",
       "      <th>original_language</th>\n",
       "      <th>...</th>\n",
       "      <th>production_countries</th>\n",
       "      <th>release_date</th>\n",
       "      <th>revenue</th>\n",
       "      <th>runtime</th>\n",
       "      <th>spoken_languages</th>\n",
       "      <th>status</th>\n",
       "      <th>title</th>\n",
       "      <th>vote_average</th>\n",
       "      <th>vote_count</th>\n",
       "      <th>movie_id</th>\n",
       "    </tr>\n",
       "  </thead>\n",
       "  <tbody>\n",
       "    <tr>\n",
       "      <td>0</td>\n",
       "      <td>{Stuart Pollock, Gareth Ruck, James Patrick Pi...</td>\n",
       "      <td>{James Cameron}</td>\n",
       "      <td>Sam Worthington</td>\n",
       "      <td>7735</td>\n",
       "      <td>2</td>\n",
       "      <td>[0, 1, 0, 0, 4, 0, 1, 4]</td>\n",
       "      <td>237000000</td>\n",
       "      <td>{Fantasy, Science Fiction, Action, Adventure}</td>\n",
       "      <td>{romance, space colony, cgi, space war, tribe,...</td>\n",
       "      <td>en</td>\n",
       "      <td>...</td>\n",
       "      <td>{United States of America, United Kingdom}</td>\n",
       "      <td>2009-12-10</td>\n",
       "      <td>2787965087</td>\n",
       "      <td>162.0</td>\n",
       "      <td>{English, Español}</td>\n",
       "      <td>Released</td>\n",
       "      <td>Avatar</td>\n",
       "      <td>7.2</td>\n",
       "      <td>11800</td>\n",
       "      <td>0</td>\n",
       "    </tr>\n",
       "    <tr>\n",
       "      <td>1</td>\n",
       "      <td>{Stuart Pollock, Gareth Ruck, James Patrick Pi...</td>\n",
       "      <td>{James Cameron}</td>\n",
       "      <td>Zoe Saldana</td>\n",
       "      <td>9158</td>\n",
       "      <td>1</td>\n",
       "      <td>[1, 2, 4, 1, 2, 0, 2, 4, 1, 1, 1, 1, 1, 4, 1]</td>\n",
       "      <td>237000000</td>\n",
       "      <td>{Fantasy, Science Fiction, Action, Adventure}</td>\n",
       "      <td>{romance, space colony, cgi, space war, tribe,...</td>\n",
       "      <td>en</td>\n",
       "      <td>...</td>\n",
       "      <td>{United States of America, United Kingdom}</td>\n",
       "      <td>2009-12-10</td>\n",
       "      <td>2787965087</td>\n",
       "      <td>162.0</td>\n",
       "      <td>{English, Español}</td>\n",
       "      <td>Released</td>\n",
       "      <td>Avatar</td>\n",
       "      <td>7.2</td>\n",
       "      <td>11800</td>\n",
       "      <td>0</td>\n",
       "    </tr>\n",
       "    <tr>\n",
       "      <td>2</td>\n",
       "      <td>{Stuart Pollock, Gareth Ruck, James Patrick Pi...</td>\n",
       "      <td>{James Cameron}</td>\n",
       "      <td>Sigourney Weaver</td>\n",
       "      <td>8051</td>\n",
       "      <td>1</td>\n",
       "      <td>[2, 4, 0, 0, 1, 3, 0, 3, 0, 0, 0, 1, 2, 2, 0, ...</td>\n",
       "      <td>237000000</td>\n",
       "      <td>{Fantasy, Science Fiction, Action, Adventure}</td>\n",
       "      <td>{romance, space colony, cgi, space war, tribe,...</td>\n",
       "      <td>en</td>\n",
       "      <td>...</td>\n",
       "      <td>{United States of America, United Kingdom}</td>\n",
       "      <td>2009-12-10</td>\n",
       "      <td>2787965087</td>\n",
       "      <td>162.0</td>\n",
       "      <td>{English, Español}</td>\n",
       "      <td>Released</td>\n",
       "      <td>Avatar</td>\n",
       "      <td>7.2</td>\n",
       "      <td>11800</td>\n",
       "      <td>0</td>\n",
       "    </tr>\n",
       "    <tr>\n",
       "      <td>3</td>\n",
       "      <td>{Stuart Pollock, Gareth Ruck, James Patrick Pi...</td>\n",
       "      <td>{James Cameron}</td>\n",
       "      <td>Stephen Lang</td>\n",
       "      <td>8189</td>\n",
       "      <td>2</td>\n",
       "      <td>[3, 0, 3, 4, 4, 0]</td>\n",
       "      <td>237000000</td>\n",
       "      <td>{Fantasy, Science Fiction, Action, Adventure}</td>\n",
       "      <td>{romance, space colony, cgi, space war, tribe,...</td>\n",
       "      <td>en</td>\n",
       "      <td>...</td>\n",
       "      <td>{United States of America, United Kingdom}</td>\n",
       "      <td>2009-12-10</td>\n",
       "      <td>2787965087</td>\n",
       "      <td>162.0</td>\n",
       "      <td>{English, Español}</td>\n",
       "      <td>Released</td>\n",
       "      <td>Avatar</td>\n",
       "      <td>7.2</td>\n",
       "      <td>11800</td>\n",
       "      <td>0</td>\n",
       "    </tr>\n",
       "    <tr>\n",
       "      <td>4</td>\n",
       "      <td>{Stuart Pollock, Gareth Ruck, James Patrick Pi...</td>\n",
       "      <td>{James Cameron}</td>\n",
       "      <td>Michelle Rodriguez</td>\n",
       "      <td>6225</td>\n",
       "      <td>1</td>\n",
       "      <td>[4, 3, 2, 2, 2, 1, 2, 2, 3, 1]</td>\n",
       "      <td>237000000</td>\n",
       "      <td>{Fantasy, Science Fiction, Action, Adventure}</td>\n",
       "      <td>{romance, space colony, cgi, space war, tribe,...</td>\n",
       "      <td>en</td>\n",
       "      <td>...</td>\n",
       "      <td>{United States of America, United Kingdom}</td>\n",
       "      <td>2009-12-10</td>\n",
       "      <td>2787965087</td>\n",
       "      <td>162.0</td>\n",
       "      <td>{English, Español}</td>\n",
       "      <td>Released</td>\n",
       "      <td>Avatar</td>\n",
       "      <td>7.2</td>\n",
       "      <td>11800</td>\n",
       "      <td>0</td>\n",
       "    </tr>\n",
       "  </tbody>\n",
       "</table>\n",
       "<p>5 rows × 22 columns</p>\n",
       "</div>"
      ],
      "text/plain": [
       "                                                cast             crew  \\\n",
       "0  {Stuart Pollock, Gareth Ruck, James Patrick Pi...  {James Cameron}   \n",
       "1  {Stuart Pollock, Gareth Ruck, James Patrick Pi...  {James Cameron}   \n",
       "2  {Stuart Pollock, Gareth Ruck, James Patrick Pi...  {James Cameron}   \n",
       "3  {Stuart Pollock, Gareth Ruck, James Patrick Pi...  {James Cameron}   \n",
       "4  {Stuart Pollock, Gareth Ruck, James Patrick Pi...  {James Cameron}   \n",
       "\n",
       "               actors  actor_id  gender  \\\n",
       "0     Sam Worthington      7735       2   \n",
       "1         Zoe Saldana      9158       1   \n",
       "2    Sigourney Weaver      8051       1   \n",
       "3        Stephen Lang      8189       2   \n",
       "4  Michelle Rodriguez      6225       1   \n",
       "\n",
       "                                               order     budget  \\\n",
       "0                           [0, 1, 0, 0, 4, 0, 1, 4]  237000000   \n",
       "1      [1, 2, 4, 1, 2, 0, 2, 4, 1, 1, 1, 1, 1, 4, 1]  237000000   \n",
       "2  [2, 4, 0, 0, 1, 3, 0, 3, 0, 0, 0, 1, 2, 2, 0, ...  237000000   \n",
       "3                                 [3, 0, 3, 4, 4, 0]  237000000   \n",
       "4                     [4, 3, 2, 2, 2, 1, 2, 2, 3, 1]  237000000   \n",
       "\n",
       "                                          genres  \\\n",
       "0  {Fantasy, Science Fiction, Action, Adventure}   \n",
       "1  {Fantasy, Science Fiction, Action, Adventure}   \n",
       "2  {Fantasy, Science Fiction, Action, Adventure}   \n",
       "3  {Fantasy, Science Fiction, Action, Adventure}   \n",
       "4  {Fantasy, Science Fiction, Action, Adventure}   \n",
       "\n",
       "                                            keywords original_language  ...  \\\n",
       "0  {romance, space colony, cgi, space war, tribe,...                en  ...   \n",
       "1  {romance, space colony, cgi, space war, tribe,...                en  ...   \n",
       "2  {romance, space colony, cgi, space war, tribe,...                en  ...   \n",
       "3  {romance, space colony, cgi, space war, tribe,...                en  ...   \n",
       "4  {romance, space colony, cgi, space war, tribe,...                en  ...   \n",
       "\n",
       "                         production_countries release_date     revenue  \\\n",
       "0  {United States of America, United Kingdom}   2009-12-10  2787965087   \n",
       "1  {United States of America, United Kingdom}   2009-12-10  2787965087   \n",
       "2  {United States of America, United Kingdom}   2009-12-10  2787965087   \n",
       "3  {United States of America, United Kingdom}   2009-12-10  2787965087   \n",
       "4  {United States of America, United Kingdom}   2009-12-10  2787965087   \n",
       "\n",
       "  runtime    spoken_languages    status   title vote_average vote_count  \\\n",
       "0   162.0  {English, Español}  Released  Avatar          7.2      11800   \n",
       "1   162.0  {English, Español}  Released  Avatar          7.2      11800   \n",
       "2   162.0  {English, Español}  Released  Avatar          7.2      11800   \n",
       "3   162.0  {English, Español}  Released  Avatar          7.2      11800   \n",
       "4   162.0  {English, Español}  Released  Avatar          7.2      11800   \n",
       "\n",
       "   movie_id  \n",
       "0         0  \n",
       "1         0  \n",
       "2         0  \n",
       "3         0  \n",
       "4         0  \n",
       "\n",
       "[5 rows x 22 columns]"
      ]
     },
     "execution_count": 18,
     "metadata": {},
     "output_type": "execute_result"
    }
   ],
   "source": [
    "movie_id_col = 'movie_id'\n",
    "new_movie_id_col = 'new_movie_id'\n",
    "actors_movies_credits_df = actors_credits_df.merge(pr_movies_df,\\\n",
    "                                                   right_on=movie_id_col,\\\n",
    "                                                   left_on=movie_id_col,\\\n",
    "                                                   how=\"inner\")\n",
    "# Set new movie ids\n",
    "unique_movies_df = pr_movies_df[movie_id_col]\\\n",
    "                    .to_frame()\\\n",
    "                    .drop_duplicates()\\\n",
    "                    .reset_index()\\\n",
    "                    .rename(columns={\"index\":new_movie_id_col})\n",
    "actors_movies_credits_df = actors_movies_credits_df.merge(unique_movies_df,right_on=movie_id_col,left_on=movie_id_col,how='inner')\\\n",
    "                            .drop(columns=movie_id_col)\\\n",
    "                            .rename(columns={new_movie_id_col:movie_id_col})\n",
    "\n",
    "actors_movies_credits_df.head()"
   ]
  },
  {
   "cell_type": "code",
   "execution_count": 19,
   "metadata": {},
   "outputs": [
    {
     "data": {
      "text/html": [
       "<div>\n",
       "<style scoped>\n",
       "    .dataframe tbody tr th:only-of-type {\n",
       "        vertical-align: middle;\n",
       "    }\n",
       "\n",
       "    .dataframe tbody tr th {\n",
       "        vertical-align: top;\n",
       "    }\n",
       "\n",
       "    .dataframe thead th {\n",
       "        text-align: right;\n",
       "    }\n",
       "</style>\n",
       "<table border=\"1\" class=\"dataframe\">\n",
       "  <thead>\n",
       "    <tr style=\"text-align: right;\">\n",
       "      <th></th>\n",
       "      <th>new_movie_id</th>\n",
       "      <th>movie_id</th>\n",
       "      <th>title</th>\n",
       "    </tr>\n",
       "  </thead>\n",
       "  <tbody>\n",
       "    <tr>\n",
       "      <td>0</td>\n",
       "      <td>0</td>\n",
       "      <td>19995</td>\n",
       "      <td>Avatar</td>\n",
       "    </tr>\n",
       "    <tr>\n",
       "      <td>1</td>\n",
       "      <td>1</td>\n",
       "      <td>285</td>\n",
       "      <td>Pirates of the Caribbean: At World's End</td>\n",
       "    </tr>\n",
       "    <tr>\n",
       "      <td>2</td>\n",
       "      <td>2</td>\n",
       "      <td>206647</td>\n",
       "      <td>Spectre</td>\n",
       "    </tr>\n",
       "    <tr>\n",
       "      <td>3</td>\n",
       "      <td>3</td>\n",
       "      <td>49026</td>\n",
       "      <td>The Dark Knight Rises</td>\n",
       "    </tr>\n",
       "    <tr>\n",
       "      <td>4</td>\n",
       "      <td>4</td>\n",
       "      <td>49529</td>\n",
       "      <td>John Carter</td>\n",
       "    </tr>\n",
       "  </tbody>\n",
       "</table>\n",
       "</div>"
      ],
      "text/plain": [
       "   new_movie_id  movie_id                                     title\n",
       "0             0     19995                                    Avatar\n",
       "1             1       285  Pirates of the Caribbean: At World's End\n",
       "2             2    206647                                   Spectre\n",
       "3             3     49026                     The Dark Knight Rises\n",
       "4             4     49529                               John Carter"
      ]
     },
     "execution_count": 19,
     "metadata": {},
     "output_type": "execute_result"
    }
   ],
   "source": [
    "aux_movies_df = unique_movies_df.merge(pr_movies_df[['movie_id','title']].drop_duplicates(),right_on='movie_id',left_on='movie_id')\n",
    "aux_movies_df.head()"
   ]
  },
  {
   "cell_type": "code",
   "execution_count": 20,
   "metadata": {},
   "outputs": [
    {
     "data": {
      "text/plain": [
       "Index(['cast', 'crew', 'actors', 'actor_id', 'gender', 'order', 'budget',\n",
       "       'genres', 'keywords', 'original_language', 'popularity',\n",
       "       'production_companies', 'production_countries', 'release_date',\n",
       "       'revenue', 'runtime', 'spoken_languages', 'status', 'title',\n",
       "       'vote_average', 'vote_count', 'movie_id'],\n",
       "      dtype='object')"
      ]
     },
     "execution_count": 20,
     "metadata": {},
     "output_type": "execute_result"
    }
   ],
   "source": [
    "actors_movies_credits_df.columns"
   ]
  },
  {
   "cell_type": "code",
   "execution_count": 21,
   "metadata": {},
   "outputs": [
    {
     "data": {
      "text/plain": [
       "23268"
      ]
     },
     "execution_count": 21,
     "metadata": {},
     "output_type": "execute_result"
    }
   ],
   "source": [
    "len(actors_movies_credits_df)"
   ]
  },
  {
   "cell_type": "code",
   "execution_count": 22,
   "metadata": {},
   "outputs": [
    {
     "data": {
      "text/html": [
       "<div>\n",
       "<style scoped>\n",
       "    .dataframe tbody tr th:only-of-type {\n",
       "        vertical-align: middle;\n",
       "    }\n",
       "\n",
       "    .dataframe tbody tr th {\n",
       "        vertical-align: top;\n",
       "    }\n",
       "\n",
       "    .dataframe thead th {\n",
       "        text-align: right;\n",
       "    }\n",
       "</style>\n",
       "<table border=\"1\" class=\"dataframe\">\n",
       "  <thead>\n",
       "    <tr style=\"text-align: right;\">\n",
       "      <th></th>\n",
       "      <th>movie_id</th>\n",
       "      <th>cast</th>\n",
       "      <th>crew</th>\n",
       "      <th>gender</th>\n",
       "      <th>budget</th>\n",
       "      <th>genres</th>\n",
       "      <th>keywords</th>\n",
       "      <th>original_language</th>\n",
       "      <th>popularity</th>\n",
       "      <th>production_companies</th>\n",
       "      <th>production_countries</th>\n",
       "      <th>release_date</th>\n",
       "      <th>revenue</th>\n",
       "      <th>runtime</th>\n",
       "      <th>spoken_languages</th>\n",
       "      <th>status</th>\n",
       "      <th>title</th>\n",
       "      <th>vote_average</th>\n",
       "      <th>vote_count</th>\n",
       "    </tr>\n",
       "    <tr>\n",
       "      <th>actor_id</th>\n",
       "      <th></th>\n",
       "      <th></th>\n",
       "      <th></th>\n",
       "      <th></th>\n",
       "      <th></th>\n",
       "      <th></th>\n",
       "      <th></th>\n",
       "      <th></th>\n",
       "      <th></th>\n",
       "      <th></th>\n",
       "      <th></th>\n",
       "      <th></th>\n",
       "      <th></th>\n",
       "      <th></th>\n",
       "      <th></th>\n",
       "      <th></th>\n",
       "      <th></th>\n",
       "      <th></th>\n",
       "      <th></th>\n",
       "    </tr>\n",
       "  </thead>\n",
       "  <tbody>\n",
       "    <tr>\n",
       "      <td>0</td>\n",
       "      <td>{2591}</td>\n",
       "      <td>{Bono, Adam Clayton, The Edge}</td>\n",
       "      <td>{Catherine Owens, Mark Pellington}</td>\n",
       "      <td>2</td>\n",
       "      <td>1.500000e+07</td>\n",
       "      <td>{Music, Documentary}</td>\n",
       "      <td>{}</td>\n",
       "      <td>{en}</td>\n",
       "      <td>0.335195</td>\n",
       "      <td>{3ality Digital Entertainment, National Geogra...</td>\n",
       "      <td>{United States of America}</td>\n",
       "      <td>[2007-05-19]</td>\n",
       "      <td>2.273084e+07</td>\n",
       "      <td>85.0</td>\n",
       "      <td>{English}</td>\n",
       "      <td>[Released]</td>\n",
       "      <td>{U2 3D}</td>\n",
       "      <td>6.700000</td>\n",
       "      <td>10.0</td>\n",
       "    </tr>\n",
       "    <tr>\n",
       "      <td>1</td>\n",
       "      <td>{3619}</td>\n",
       "      <td>{Michael Richards, Emo Philips, David Bowe, Vi...</td>\n",
       "      <td>{Jay Levey}</td>\n",
       "      <td>0</td>\n",
       "      <td>5.000000e+06</td>\n",
       "      <td>{Comedy}</td>\n",
       "      <td>{cult film, tv star, tv station, satire, music...</td>\n",
       "      <td>{en}</td>\n",
       "      <td>4.070044</td>\n",
       "      <td>{Orion Pictures, Cinecorp}</td>\n",
       "      <td>{United States of America}</td>\n",
       "      <td>[1989-07-21]</td>\n",
       "      <td>0.000000e+00</td>\n",
       "      <td>97.0</td>\n",
       "      <td>{English}</td>\n",
       "      <td>[Released]</td>\n",
       "      <td>{UHF}</td>\n",
       "      <td>6.700000</td>\n",
       "      <td>89.0</td>\n",
       "    </tr>\n",
       "    <tr>\n",
       "      <td>2</td>\n",
       "      <td>{609, 1232, 1233, 761, 1597}</td>\n",
       "      <td>{Malachy McCourt, Christian Stokes, Anastasia ...</td>\n",
       "      <td>{Jim Sheridan, Antoine Fuqua, Mikael Håfström,...</td>\n",
       "      <td>2</td>\n",
       "      <td>4.400000e+07</td>\n",
       "      <td>{Drama, Crime, Comedy, Action, Thriller, Romance}</td>\n",
       "      <td>{escape, rapper, prison escape, prison, musica...</td>\n",
       "      <td>{en}</td>\n",
       "      <td>32.720009</td>\n",
       "      <td>{Atmosphere Entertainment MM, Goldcrest Pictur...</td>\n",
       "      <td>{United States of America}</td>\n",
       "      <td>[2015-06-15, 2010-01-12, 2005-11-09, 2013-10-0...</td>\n",
       "      <td>7.860544e+07</td>\n",
       "      <td>558.0</td>\n",
       "      <td>{Український, العربية, اردو, Deutsch, Español,...</td>\n",
       "      <td>[Released, Released, Released, Released, Relea...</td>\n",
       "      <td>{Morning Glory, Righteous Kill, Southpaw, Esca...</td>\n",
       "      <td>6.460000</td>\n",
       "      <td>939.8</td>\n",
       "    </tr>\n",
       "    <tr>\n",
       "      <td>3</td>\n",
       "      <td>{3163}</td>\n",
       "      <td>{Harry Anthony Shelley, Matthew Albrecht, Aman...</td>\n",
       "      <td>{Joseph Kahn}</td>\n",
       "      <td>0</td>\n",
       "      <td>1.000000e+07</td>\n",
       "      <td>{Science Fiction, Horror, Comedy}</td>\n",
       "      <td>{horror spoof, high school, murder, slasher}</td>\n",
       "      <td>{en}</td>\n",
       "      <td>10.424596</td>\n",
       "      <td>{Detention Films}</td>\n",
       "      <td>{United States of America}</td>\n",
       "      <td>[2011-03-16]</td>\n",
       "      <td>0.000000e+00</td>\n",
       "      <td>93.0</td>\n",
       "      <td>{English}</td>\n",
       "      <td>[Released]</td>\n",
       "      <td>{Detention}</td>\n",
       "      <td>5.700000</td>\n",
       "      <td>129.0</td>\n",
       "    </tr>\n",
       "    <tr>\n",
       "      <td>4</td>\n",
       "      <td>{4034, 4054, 4375}</td>\n",
       "      <td>{Ron Roggé, Peter Wingfield, Louise Fletcher, ...</td>\n",
       "      <td>{John Murlowski, Karen Moncrieff, Michael Land...</td>\n",
       "      <td>2</td>\n",
       "      <td>3.333333e+05</td>\n",
       "      <td>{Drama, Family, Comedy}</td>\n",
       "      <td>{christianity, woman director, appalachia, con...</td>\n",
       "      <td>{en}</td>\n",
       "      <td>1.224799</td>\n",
       "      <td>{}</td>\n",
       "      <td>{United States of America}</td>\n",
       "      <td>[2002-01-11, 2007-02-09, 2010-12-01]</td>\n",
       "      <td>1.546667e+05</td>\n",
       "      <td>298.0</td>\n",
       "      <td>{Português, English}</td>\n",
       "      <td>[Released, Released, Released]</td>\n",
       "      <td>{The Last Sin Eater, Christmas Mail, Blue Car}</td>\n",
       "      <td>5.966667</td>\n",
       "      <td>13.0</td>\n",
       "    </tr>\n",
       "  </tbody>\n",
       "</table>\n",
       "</div>"
      ],
      "text/plain": [
       "                              movie_id  \\\n",
       "actor_id                                 \n",
       "0                               {2591}   \n",
       "1                               {3619}   \n",
       "2         {609, 1232, 1233, 761, 1597}   \n",
       "3                               {3163}   \n",
       "4                   {4034, 4054, 4375}   \n",
       "\n",
       "                                                       cast  \\\n",
       "actor_id                                                      \n",
       "0                            {Bono, Adam Clayton, The Edge}   \n",
       "1         {Michael Richards, Emo Philips, David Bowe, Vi...   \n",
       "2         {Malachy McCourt, Christian Stokes, Anastasia ...   \n",
       "3         {Harry Anthony Shelley, Matthew Albrecht, Aman...   \n",
       "4         {Ron Roggé, Peter Wingfield, Louise Fletcher, ...   \n",
       "\n",
       "                                                       crew  gender  \\\n",
       "actor_id                                                              \n",
       "0                        {Catherine Owens, Mark Pellington}       2   \n",
       "1                                               {Jay Levey}       0   \n",
       "2         {Jim Sheridan, Antoine Fuqua, Mikael Håfström,...       2   \n",
       "3                                             {Joseph Kahn}       0   \n",
       "4         {John Murlowski, Karen Moncrieff, Michael Land...       2   \n",
       "\n",
       "                budget                                             genres  \\\n",
       "actor_id                                                                    \n",
       "0         1.500000e+07                               {Music, Documentary}   \n",
       "1         5.000000e+06                                           {Comedy}   \n",
       "2         4.400000e+07  {Drama, Crime, Comedy, Action, Thriller, Romance}   \n",
       "3         1.000000e+07                  {Science Fiction, Horror, Comedy}   \n",
       "4         3.333333e+05                            {Drama, Family, Comedy}   \n",
       "\n",
       "                                                   keywords original_language  \\\n",
       "actor_id                                                                        \n",
       "0                                                        {}              {en}   \n",
       "1         {cult film, tv star, tv station, satire, music...              {en}   \n",
       "2         {escape, rapper, prison escape, prison, musica...              {en}   \n",
       "3              {horror spoof, high school, murder, slasher}              {en}   \n",
       "4         {christianity, woman director, appalachia, con...              {en}   \n",
       "\n",
       "          popularity                               production_companies  \\\n",
       "actor_id                                                                  \n",
       "0           0.335195  {3ality Digital Entertainment, National Geogra...   \n",
       "1           4.070044                         {Orion Pictures, Cinecorp}   \n",
       "2          32.720009  {Atmosphere Entertainment MM, Goldcrest Pictur...   \n",
       "3          10.424596                                  {Detention Films}   \n",
       "4           1.224799                                                 {}   \n",
       "\n",
       "                production_countries  \\\n",
       "actor_id                               \n",
       "0         {United States of America}   \n",
       "1         {United States of America}   \n",
       "2         {United States of America}   \n",
       "3         {United States of America}   \n",
       "4         {United States of America}   \n",
       "\n",
       "                                               release_date       revenue  \\\n",
       "actor_id                                                                    \n",
       "0                                              [2007-05-19]  2.273084e+07   \n",
       "1                                              [1989-07-21]  0.000000e+00   \n",
       "2         [2015-06-15, 2010-01-12, 2005-11-09, 2013-10-0...  7.860544e+07   \n",
       "3                                              [2011-03-16]  0.000000e+00   \n",
       "4                      [2002-01-11, 2007-02-09, 2010-12-01]  1.546667e+05   \n",
       "\n",
       "          runtime                                   spoken_languages  \\\n",
       "actor_id                                                               \n",
       "0            85.0                                          {English}   \n",
       "1            97.0                                          {English}   \n",
       "2           558.0  {Український, العربية, اردو, Deutsch, Español,...   \n",
       "3            93.0                                          {English}   \n",
       "4           298.0                               {Português, English}   \n",
       "\n",
       "                                                     status  \\\n",
       "actor_id                                                      \n",
       "0                                                [Released]   \n",
       "1                                                [Released]   \n",
       "2         [Released, Released, Released, Released, Relea...   \n",
       "3                                                [Released]   \n",
       "4                            [Released, Released, Released]   \n",
       "\n",
       "                                                      title  vote_average  \\\n",
       "actor_id                                                                    \n",
       "0                                                   {U2 3D}      6.700000   \n",
       "1                                                     {UHF}      6.700000   \n",
       "2         {Morning Glory, Righteous Kill, Southpaw, Esca...      6.460000   \n",
       "3                                               {Detention}      5.700000   \n",
       "4            {The Last Sin Eater, Christmas Mail, Blue Car}      5.966667   \n",
       "\n",
       "          vote_count  \n",
       "actor_id              \n",
       "0               10.0  \n",
       "1               89.0  \n",
       "2              939.8  \n",
       "3              129.0  \n",
       "4               13.0  "
      ]
     },
     "execution_count": 22,
     "metadata": {},
     "output_type": "execute_result"
    }
   ],
   "source": [
    "get_union = lambda s: reduce(set.union,s) \n",
    "actor_id_col = \"actor_id\"\n",
    "actors_agg_df = actors_movies_credits_df.groupby(actors_col).aggregate(\\\n",
    "                 {\"movie_id\":set,\"cast\":get_union,\"crew\":get_union,\"actor_id\":max,\"gender\":max,\"budget\":\"mean\",\\\n",
    "                  \"genres\":get_union,\"keywords\":get_union,\"original_language\":set,\"popularity\": \"mean\",\\\n",
    "                  \"production_companies\":get_union,\"production_countries\":get_union,\"release_date\":list,\\\n",
    "                  \"revenue\":\"mean\",\"runtime\":sum,\"spoken_languages\":get_union,\"status\":list,\"title\":set,\\\n",
    "                  \"vote_average\":\"mean\",\"vote_count\":\"mean\"})\\\n",
    "                  .set_index(actor_id_col)\n",
    "actors_agg_df.head()"
   ]
  },
  {
   "cell_type": "markdown",
   "metadata": {},
   "source": [
    "## Build graph"
   ]
  },
  {
   "cell_type": "code",
   "execution_count": 23,
   "metadata": {},
   "outputs": [
    {
     "data": {
      "text/html": [
       "<div>\n",
       "<style scoped>\n",
       "    .dataframe tbody tr th:only-of-type {\n",
       "        vertical-align: middle;\n",
       "    }\n",
       "\n",
       "    .dataframe tbody tr th {\n",
       "        vertical-align: top;\n",
       "    }\n",
       "\n",
       "    .dataframe thead th {\n",
       "        text-align: right;\n",
       "    }\n",
       "</style>\n",
       "<table border=\"1\" class=\"dataframe\">\n",
       "  <thead>\n",
       "    <tr style=\"text-align: right;\">\n",
       "      <th></th>\n",
       "      <th>cast</th>\n",
       "      <th>crew</th>\n",
       "      <th>production_companies</th>\n",
       "      <th>genres</th>\n",
       "      <th>movie_id</th>\n",
       "    </tr>\n",
       "    <tr>\n",
       "      <th>actor_id</th>\n",
       "      <th></th>\n",
       "      <th></th>\n",
       "      <th></th>\n",
       "      <th></th>\n",
       "      <th></th>\n",
       "    </tr>\n",
       "  </thead>\n",
       "  <tbody>\n",
       "    <tr>\n",
       "      <td>0</td>\n",
       "      <td>{Bono, Adam Clayton, The Edge}</td>\n",
       "      <td>{Catherine Owens, Mark Pellington}</td>\n",
       "      <td>{3ality Digital Entertainment, National Geogra...</td>\n",
       "      <td>{Music, Documentary}</td>\n",
       "      <td>{2591}</td>\n",
       "    </tr>\n",
       "    <tr>\n",
       "      <td>1</td>\n",
       "      <td>{Michael Richards, Emo Philips, David Bowe, Vi...</td>\n",
       "      <td>{Jay Levey}</td>\n",
       "      <td>{Orion Pictures, Cinecorp}</td>\n",
       "      <td>{Comedy}</td>\n",
       "      <td>{3619}</td>\n",
       "    </tr>\n",
       "    <tr>\n",
       "      <td>2</td>\n",
       "      <td>{Malachy McCourt, Christian Stokes, Anastasia ...</td>\n",
       "      <td>{Jim Sheridan, Antoine Fuqua, Mikael Håfström,...</td>\n",
       "      <td>{Atmosphere Entertainment MM, Goldcrest Pictur...</td>\n",
       "      <td>{Drama, Crime, Comedy, Action, Thriller, Romance}</td>\n",
       "      <td>{609, 1232, 1233, 761, 1597}</td>\n",
       "    </tr>\n",
       "    <tr>\n",
       "      <td>3</td>\n",
       "      <td>{Harry Anthony Shelley, Matthew Albrecht, Aman...</td>\n",
       "      <td>{Joseph Kahn}</td>\n",
       "      <td>{Detention Films}</td>\n",
       "      <td>{Science Fiction, Horror, Comedy}</td>\n",
       "      <td>{3163}</td>\n",
       "    </tr>\n",
       "    <tr>\n",
       "      <td>4</td>\n",
       "      <td>{Ron Roggé, Peter Wingfield, Louise Fletcher, ...</td>\n",
       "      <td>{John Murlowski, Karen Moncrieff, Michael Land...</td>\n",
       "      <td>{}</td>\n",
       "      <td>{Drama, Family, Comedy}</td>\n",
       "      <td>{4034, 4054, 4375}</td>\n",
       "    </tr>\n",
       "  </tbody>\n",
       "</table>\n",
       "</div>"
      ],
      "text/plain": [
       "                                                       cast  \\\n",
       "actor_id                                                      \n",
       "0                            {Bono, Adam Clayton, The Edge}   \n",
       "1         {Michael Richards, Emo Philips, David Bowe, Vi...   \n",
       "2         {Malachy McCourt, Christian Stokes, Anastasia ...   \n",
       "3         {Harry Anthony Shelley, Matthew Albrecht, Aman...   \n",
       "4         {Ron Roggé, Peter Wingfield, Louise Fletcher, ...   \n",
       "\n",
       "                                                       crew  \\\n",
       "actor_id                                                      \n",
       "0                        {Catherine Owens, Mark Pellington}   \n",
       "1                                               {Jay Levey}   \n",
       "2         {Jim Sheridan, Antoine Fuqua, Mikael Håfström,...   \n",
       "3                                             {Joseph Kahn}   \n",
       "4         {John Murlowski, Karen Moncrieff, Michael Land...   \n",
       "\n",
       "                                       production_companies  \\\n",
       "actor_id                                                      \n",
       "0         {3ality Digital Entertainment, National Geogra...   \n",
       "1                                {Orion Pictures, Cinecorp}   \n",
       "2         {Atmosphere Entertainment MM, Goldcrest Pictur...   \n",
       "3                                         {Detention Films}   \n",
       "4                                                        {}   \n",
       "\n",
       "                                                     genres  \\\n",
       "actor_id                                                      \n",
       "0                                      {Music, Documentary}   \n",
       "1                                                  {Comedy}   \n",
       "2         {Drama, Crime, Comedy, Action, Thriller, Romance}   \n",
       "3                         {Science Fiction, Horror, Comedy}   \n",
       "4                                   {Drama, Family, Comedy}   \n",
       "\n",
       "                              movie_id  \n",
       "actor_id                                \n",
       "0                               {2591}  \n",
       "1                               {3619}  \n",
       "2         {609, 1232, 1233, 761, 1597}  \n",
       "3                               {3163}  \n",
       "4                   {4034, 4054, 4375}  "
      ]
     },
     "execution_count": 23,
     "metadata": {},
     "output_type": "execute_result"
    }
   ],
   "source": [
    "nodes_df = actors_agg_df[['cast','crew','production_companies','genres','movie_id']]\n",
    "nodes_df.head()"
   ]
  },
  {
   "cell_type": "code",
   "execution_count": 24,
   "metadata": {},
   "outputs": [],
   "source": [
    "dict_actor_id = dict(zip(actors_df[actors_col],actors_df[actor_id_col]))\n",
    "dict_id_actor = dict(zip(actors_df[actor_id_col],actors_df[actors_col]))"
   ]
  },
  {
   "cell_type": "markdown",
   "metadata": {},
   "source": [
    "## Get cast intersecctions length mat"
   ]
  },
  {
   "cell_type": "code",
   "execution_count": 25,
   "metadata": {},
   "outputs": [],
   "source": [
    "import timeit\n",
    "\n",
    "def get_intersections_length_adj_mat(col):\n",
    "    \"Get the intersecction length of the set of each entry with the set of every other entry in the column\"\n",
    "    start = timeit.default_timer()\n",
    "    adj = np.zeros((col.shape[0],col.shape[0]))\n",
    "    for (i,set_row) in enumerate (col):\n",
    "        for(j,set_col) in enumerate (col):\n",
    "            try:\n",
    "                adj[i,j] = len(set_row.intersection(set_col))\n",
    "            except AttributeError:\n",
    "                adj[i,j] = 0\n",
    "    stop = timeit.default_timer()\n",
    "    print('Time: ', stop - start)\n",
    "    return adj"
   ]
  },
  {
   "cell_type": "code",
   "execution_count": 26,
   "metadata": {},
   "outputs": [],
   "source": [
    "def get_unions_length_adj_mat(col):\n",
    "    \"Get the unions length of the set of each entry with the set of every other entry in the column\"\n",
    "    start = timeit.default_timer()\n",
    "    adj = np.zeros((col.shape[0],col.shape[0]))\n",
    "    for (i,set_row) in enumerate(col):\n",
    "        for(j,set_col) in enumerate(col):\n",
    "            try:\n",
    "                adj[i,j] = len(set_row.union(set_col))\n",
    "            except AttributeError:\n",
    "                adj[i,j] = 0\n",
    "    stop = timeit.default_timer()\n",
    "    print('Time: ', stop - start)\n",
    "    return adj"
   ]
  },
  {
   "cell_type": "markdown",
   "metadata": {},
   "source": [
    "## Get cast intersections"
   ]
  },
  {
   "cell_type": "code",
   "execution_count": 27,
   "metadata": {},
   "outputs": [
    {
     "name": "stdout",
     "output_type": "stream",
     "text": [
      "Time:  99.77760400000001\n"
     ]
    }
   ],
   "source": [
    "col = 'cast'\n",
    "cast_col = nodes_df[col]\n",
    "cast_adj_raw = get_intersections_length_adj_mat(cast_col)\n",
    "cast_adj_diag = np.diag(np.diag(cast_adj_raw))\n",
    "cast_adj = cast_adj_raw - cast_adj_diag"
   ]
  },
  {
   "cell_type": "code",
   "execution_count": 28,
   "metadata": {},
   "outputs": [
    {
     "data": {
      "text/plain": [
       "<matplotlib.image.AxesImage at 0x263e539ff98>"
      ]
     },
     "execution_count": 28,
     "metadata": {},
     "output_type": "execute_result"
    },
    {
     "data": {
      "image/png": "[encoded data removed]",
      "text/plain": [
       "<Figure size 432x288 with 1 Axes>"
      ]
     },
     "metadata": {
      "needs_background": "light"
     },
     "output_type": "display_data"
    }
   ],
   "source": [
    "plt.spy(cast_adj)"
   ]
  },
  {
   "cell_type": "code",
   "execution_count": 29,
   "metadata": {},
   "outputs": [],
   "source": [
    "np.save('cast_adj',cast_adj)"
   ]
  },
  {
   "cell_type": "markdown",
   "metadata": {},
   "source": [
    "## Load cast adjacency matrix"
   ]
  },
  {
   "cell_type": "code",
   "execution_count": 30,
   "metadata": {},
   "outputs": [],
   "source": [
    "cast_adj = np.load('cast_adj.npy')"
   ]
  },
  {
   "cell_type": "code",
   "execution_count": 31,
   "metadata": {},
   "outputs": [
    {
     "data": {
      "text/plain": [
       "(9182, 9182)"
      ]
     },
     "execution_count": 31,
     "metadata": {},
     "output_type": "execute_result"
    }
   ],
   "source": [
    "cast_adj.shape"
   ]
  },
  {
   "cell_type": "code",
   "execution_count": 32,
   "metadata": {},
   "outputs": [],
   "source": [
    "node_degree = cast_adj.sum(axis=0)"
   ]
  },
  {
   "cell_type": "code",
   "execution_count": 33,
   "metadata": {},
   "outputs": [
    {
     "name": "stdout",
     "output_type": "stream",
     "text": [
      "['Robert De Niro', 'Samuel L. Jackson', 'Bruce Willis', 'Matt Damon', 'Mark Wahlberg', 'Owen Wilson', 'Gary Oldman', 'Morgan Freeman', 'Ben Affleck', 'Leonardo DiCaprio', 'Brad Pitt', 'Johnny Depp', 'Denzel Washington', 'Tom Cruise', 'Ben Stiller', 'Nicolas Cage', 'George Clooney', 'Scarlett Johansson', 'Tom Hanks', 'Christian Bale']\n"
     ]
    }
   ],
   "source": [
    "most_connected_actors_id = np.argsort(- node_degree)[:20]\n",
    "most_connected_actors = [dict_id_actor.get(id_) for id_ in most_connected_actors_id]\n",
    "actors_df[actors_df[actor_id_col].isin(most_connected_actors_id)]\n",
    "print(most_connected_actors)"
   ]
  },
  {
   "cell_type": "markdown",
   "metadata": {},
   "source": [
    "## Get cast unions length mat"
   ]
  },
  {
   "cell_type": "code",
   "execution_count": 34,
   "metadata": {},
   "outputs": [
    {
     "name": "stdout",
     "output_type": "stream",
     "text": [
      "Time:  341.756371\n"
     ]
    }
   ],
   "source": [
    "col = 'cast'\n",
    "cast_col = nodes_df[col]\n",
    "cast_adj_union_raw = get_unions_length_adj_mat(cast_col)\n",
    "cast_adj_union_diag = np.diag(np.diag(cast_adj_union_raw))\n",
    "cast_adj_union = cast_adj_union_raw - cast_adj_union_diag"
   ]
  },
  {
   "cell_type": "code",
   "execution_count": 35,
   "metadata": {},
   "outputs": [
    {
     "data": {
      "text/plain": [
       "<matplotlib.image.AxesImage at 0x263e535b6d8>"
      ]
     },
     "execution_count": 35,
     "metadata": {},
     "output_type": "execute_result"
    },
    {
     "data": {
      "image/png": "[encoded data removed]",
      "text/plain": [
       "<Figure size 432x288 with 1 Axes>"
      ]
     },
     "metadata": {
      "needs_background": "light"
     },
     "output_type": "display_data"
    }
   ],
   "source": [
    "plt.imshow(cast_adj_union, cmap='hot', interpolation='none')"
   ]
  },
  {
   "cell_type": "code",
   "execution_count": 36,
   "metadata": {},
   "outputs": [],
   "source": [
    "np.save('cast_adj_union',cast_adj_union)"
   ]
  },
  {
   "cell_type": "markdown",
   "metadata": {},
   "source": [
    "## Get movies intersections length mat"
   ]
  },
  {
   "cell_type": "code",
   "execution_count": 37,
   "metadata": {},
   "outputs": [
    {
     "name": "stdout",
     "output_type": "stream",
     "text": [
      "Time:  41.06919609999994\n"
     ]
    }
   ],
   "source": [
    "col = 'movie_id'\n",
    "movie_col = nodes_df[col]\n",
    "movie_adj_raw = get_intersections_length_adj_mat(movie_col)\n",
    "movie_adj_diag = np.diag(np.diag(movie_adj_raw))\n",
    "movie_adj = movie_adj_raw - movie_adj_diag"
   ]
  },
  {
   "cell_type": "code",
   "execution_count": 38,
   "metadata": {},
   "outputs": [
    {
     "data": {
      "text/plain": [
       "<matplotlib.image.AxesImage at 0x263e558c3c8>"
      ]
     },
     "execution_count": 38,
     "metadata": {},
     "output_type": "execute_result"
    },
    {
     "data": {
      "image/png": "[encoded data removed]",
      "text/plain": [
       "<Figure size 432x288 with 1 Axes>"
      ]
     },
     "metadata": {
      "needs_background": "light"
     },
     "output_type": "display_data"
    }
   ],
   "source": [
    "plt.spy(movie_adj)"
   ]
  },
  {
   "cell_type": "code",
   "execution_count": 39,
   "metadata": {},
   "outputs": [],
   "source": [
    "np.save('movie_adj',movie_adj)"
   ]
  },
  {
   "cell_type": "markdown",
   "metadata": {},
   "source": [
    "## Get movies union length mat"
   ]
  },
  {
   "cell_type": "code",
   "execution_count": 40,
   "metadata": {},
   "outputs": [
    {
     "name": "stdout",
     "output_type": "stream",
     "text": [
      "Time:  53.02801180000006\n"
     ]
    }
   ],
   "source": [
    "col = 'movie_id'\n",
    "movie_col = nodes_df[col]\n",
    "movie_adj_union_raw = get_unions_length_adj_mat(movie_col)\n",
    "movie_adj_union_diag = np.diag(np.diag(movie_adj_union_raw))\n",
    "movie_adj_union = movie_adj_union_raw - movie_adj_union_diag"
   ]
  },
  {
   "cell_type": "code",
   "execution_count": 41,
   "metadata": {},
   "outputs": [
    {
     "data": {
      "text/plain": [
       "<matplotlib.image.AxesImage at 0x263e5681550>"
      ]
     },
     "execution_count": 41,
     "metadata": {},
     "output_type": "execute_result"
    },
    {
     "data": {
      "image/png": "[encoded data removed]",
      "text/plain": [
       "<Figure size 432x288 with 1 Axes>"
      ]
     },
     "metadata": {
      "needs_background": "light"
     },
     "output_type": "display_data"
    }
   ],
   "source": [
    "plt.imshow(movie_adj_union, cmap='hot', interpolation='none')"
   ]
  },
  {
   "cell_type": "code",
   "execution_count": 42,
   "metadata": {},
   "outputs": [],
   "source": [
    "np.save('movie_adj_union',movie_adj_union)"
   ]
  },
  {
   "cell_type": "markdown",
   "metadata": {},
   "source": [
    "## Get directors intersections lenght mat"
   ]
  },
  {
   "cell_type": "code",
   "execution_count": 43,
   "metadata": {},
   "outputs": [
    {
     "name": "stdout",
     "output_type": "stream",
     "text": [
      "Time:  45.97264409999991\n"
     ]
    }
   ],
   "source": [
    "col = 'crew'\n",
    "crew_col = nodes_df[col]\n",
    "crew_adj_raw = get_intersections_length_adj_mat(crew_col)\n",
    "crew_adj_diag = np.diag(np.diag(crew_adj_raw))\n",
    "crew_adj = crew_adj_raw - crew_adj_diag"
   ]
  },
  {
   "cell_type": "code",
   "execution_count": 44,
   "metadata": {},
   "outputs": [
    {
     "data": {
      "text/plain": [
       "<matplotlib.image.AxesImage at 0x263e574de48>"
      ]
     },
     "execution_count": 44,
     "metadata": {},
     "output_type": "execute_result"
    },
    {
     "data": {
      "image/png": "[encoded data removed]",
      "text/plain": [
       "<Figure size 432x288 with 1 Axes>"
      ]
     },
     "metadata": {
      "needs_background": "light"
     },
     "output_type": "display_data"
    }
   ],
   "source": [
    "plt.spy(crew_adj)"
   ]
  },
  {
   "cell_type": "code",
   "execution_count": 45,
   "metadata": {},
   "outputs": [],
   "source": [
    "np.save('crew_adj',crew_adj)"
   ]
  },
  {
   "cell_type": "markdown",
   "metadata": {},
   "source": [
    "## Get directors union length mat"
   ]
  },
  {
   "cell_type": "code",
   "execution_count": 46,
   "metadata": {},
   "outputs": [
    {
     "name": "stdout",
     "output_type": "stream",
     "text": [
      "Time:  61.765833799999996\n"
     ]
    }
   ],
   "source": [
    "col = 'crew'\n",
    "crew_col = nodes_df[col]\n",
    "crew_adj_union_raw = get_unions_length_adj_mat(crew_col)\n",
    "crew_adj_union_diag = np.diag(np.diag(crew_adj_union_raw))\n",
    "crew_adj_union = crew_adj_union_raw - crew_adj_union_diag"
   ]
  },
  {
   "cell_type": "code",
   "execution_count": 47,
   "metadata": {},
   "outputs": [
    {
     "data": {
      "text/plain": [
       "<matplotlib.image.AxesImage at 0x263e58cce10>"
      ]
     },
     "execution_count": 47,
     "metadata": {},
     "output_type": "execute_result"
    },
    {
     "data": {
      "image/png": "[encoded data removed]",
      "text/plain": [
       "<Figure size 432x288 with 1 Axes>"
      ]
     },
     "metadata": {
      "needs_background": "light"
     },
     "output_type": "display_data"
    }
   ],
   "source": [
    "plt.imshow(crew_adj_union, cmap='hot', interpolation='none')"
   ]
  },
  {
   "cell_type": "code",
   "execution_count": 48,
   "metadata": {},
   "outputs": [],
   "source": [
    "np.save('crew_adj_union',crew_adj_union)"
   ]
  },
  {
   "cell_type": "markdown",
   "metadata": {},
   "source": [
    "## Get production companies intersections length mat"
   ]
  },
  {
   "cell_type": "code",
   "execution_count": 49,
   "metadata": {},
   "outputs": [
    {
     "name": "stdout",
     "output_type": "stream",
     "text": [
      "Time:  49.472363599999994\n"
     ]
    }
   ],
   "source": [
    "col = 'production_companies'\n",
    "prod_comp_col = nodes_df[col]\n",
    "prod_comp_adj_raw = get_intersections_length_adj_mat(prod_comp_col)\n",
    "prod_comp_adj_diag = np.diag(np.diag(prod_comp_adj_raw))\n",
    "prod_comp_adj = prod_comp_adj_raw - prod_comp_adj_diag"
   ]
  },
  {
   "cell_type": "code",
   "execution_count": 50,
   "metadata": {},
   "outputs": [
    {
     "data": {
      "text/plain": [
       "<matplotlib.image.AxesImage at 0x263e5a304e0>"
      ]
     },
     "execution_count": 50,
     "metadata": {},
     "output_type": "execute_result"
    },
    {
     "data": {
      "image/png": "[encoded data removed]",
      "text/plain": [
       "<Figure size 432x288 with 1 Axes>"
      ]
     },
     "metadata": {
      "needs_background": "light"
     },
     "output_type": "display_data"
    }
   ],
   "source": [
    "plt.spy(prod_comp_adj)"
   ]
  },
  {
   "cell_type": "code",
   "execution_count": 51,
   "metadata": {},
   "outputs": [],
   "source": [
    "np.save('prod_comp_adj',prod_comp_adj)"
   ]
  },
  {
   "cell_type": "markdown",
   "metadata": {},
   "source": [
    "## Get production companies unions length mat"
   ]
  },
  {
   "cell_type": "code",
   "execution_count": 52,
   "metadata": {},
   "outputs": [
    {
     "name": "stdout",
     "output_type": "stream",
     "text": [
      "Time:  82.38180890000001\n"
     ]
    }
   ],
   "source": [
    "col = 'production_companies'\n",
    "prod_comp_col = nodes_df[col]\n",
    "prod_comp_adj_union_raw = get_unions_length_adj_mat(prod_comp_col)\n",
    "prod_comp_adj_union_diag = np.diag(np.diag(prod_comp_adj_union_raw))\n",
    "prod_comp_adj_union = prod_comp_adj_union_raw - prod_comp_adj_union_diag"
   ]
  },
  {
   "cell_type": "code",
   "execution_count": 53,
   "metadata": {},
   "outputs": [
    {
     "data": {
      "text/plain": [
       "<matplotlib.image.AxesImage at 0x263e5b700f0>"
      ]
     },
     "execution_count": 53,
     "metadata": {},
     "output_type": "execute_result"
    },
    {
     "data": {
      "image/png": "[encoded data removed]",
      "text/plain": [
       "<Figure size 432x288 with 1 Axes>"
      ]
     },
     "metadata": {
      "needs_background": "light"
     },
     "output_type": "display_data"
    }
   ],
   "source": [
    "plt.imshow(prod_comp_adj_union, cmap='hot', interpolation='none')"
   ]
  },
  {
   "cell_type": "code",
   "execution_count": 54,
   "metadata": {},
   "outputs": [],
   "source": [
    "np.save('prod_comp_adj_union',prod_comp_adj_union)"
   ]
  },
  {
   "cell_type": "markdown",
   "metadata": {},
   "source": [
    "## Get genres intersections length mat"
   ]
  },
  {
   "cell_type": "code",
   "execution_count": 55,
   "metadata": {},
   "outputs": [
    {
     "name": "stdout",
     "output_type": "stream",
     "text": [
      "Time:  72.76547659999994\n"
     ]
    }
   ],
   "source": [
    "col = 'genres'\n",
    "genres_col = nodes_df[col]\n",
    "genres_adj_raw = get_intersections_length_adj_mat(genres_col)\n",
    "genres_adj_diag = np.diag(np.diag(genres_adj_raw))\n",
    "genres_adj = genres_adj_raw - genres_adj_diag"
   ]
  },
  {
   "cell_type": "code",
   "execution_count": 56,
   "metadata": {},
   "outputs": [
    {
     "data": {
      "text/plain": [
       "<matplotlib.image.AxesImage at 0x263e8df8ba8>"
      ]
     },
     "execution_count": 56,
     "metadata": {},
     "output_type": "execute_result"
    },
    {
     "data": {
      "image/png": "[encoded data removed]",
      "text/plain": [
       "<Figure size 432x288 with 1 Axes>"
      ]
     },
     "metadata": {
      "needs_background": "light"
     },
     "output_type": "display_data"
    }
   ],
   "source": [
    "plt.spy(genres_adj)"
   ]
  },
  {
   "cell_type": "code",
   "execution_count": 57,
   "metadata": {},
   "outputs": [],
   "source": [
    "np.save('genres_adj',genres_adj)"
   ]
  },
  {
   "cell_type": "markdown",
   "metadata": {},
   "source": [
    "## Get genres unions length mat"
   ]
  },
  {
   "cell_type": "code",
   "execution_count": 58,
   "metadata": {},
   "outputs": [
    {
     "name": "stdout",
     "output_type": "stream",
     "text": [
      "Time:  65.63656919999994\n"
     ]
    }
   ],
   "source": [
    "col = 'genres'\n",
    "genres_col = nodes_df[col]\n",
    "genres_adj_union_raw = get_unions_length_adj_mat(genres_col)\n",
    "genres_adj_union_diag = np.diag(np.diag(genres_adj_union_raw))\n",
    "genres_adj_union = genres_adj_union_raw - genres_adj_union_diag"
   ]
  },
  {
   "cell_type": "code",
   "execution_count": 59,
   "metadata": {},
   "outputs": [
    {
     "data": {
      "text/plain": [
       "<matplotlib.image.AxesImage at 0x263e9056a90>"
      ]
     },
     "execution_count": 59,
     "metadata": {},
     "output_type": "execute_result"
    },
    {
     "data": {
      "image/png": "[encoded data removed]",
      "text/plain": [
       "<Figure size 432x288 with 1 Axes>"
      ]
     },
     "metadata": {
      "needs_background": "light"
     },
     "output_type": "display_data"
    }
   ],
   "source": [
    "plt.imshow(genres_adj_union, cmap='hot', interpolation='none')"
   ]
  },
  {
   "cell_type": "code",
   "execution_count": 60,
   "metadata": {},
   "outputs": [],
   "source": [
    "np.save('genres_adj_union',genres_adj_union)"
   ]
  },
  {
   "cell_type": "markdown",
   "metadata": {},
   "source": [
    "## Aggregated adjacency matrix"
   ]
  },
  {
   "cell_type": "code",
   "execution_count": 61,
   "metadata": {},
   "outputs": [
    {
     "name": "stderr",
     "output_type": "stream",
     "text": [
      "C:\\Users\\AndresMontero\\.conda\\envs\\ntds_2019\\lib\\site-packages\\ipykernel_launcher.py:2: RuntimeWarning: invalid value encountered in true_divide\n",
      "  \n"
     ]
    },
    {
     "data": {
      "text/plain": [
       "472528.91617635224"
      ]
     },
     "execution_count": 61,
     "metadata": {},
     "output_type": "execute_result"
    }
   ],
   "source": [
    "agg_adj = np.divide((0.3*cast_adj + 0.3 * movie_adj + 0.2*crew_adj + 0.1 * genres_adj + 0.1 * prod_comp_adj),\\\n",
    "          (0.3*cast_adj_union + 0.3 * movie_adj_union + 0.2* crew_adj_union + 0.1*genres_adj_union + 0.1 * prod_comp_adj_union))\n",
    "agg_adj = np.where(np.isnan(agg_adj),0,agg_adj)\n",
    "np.sum(agg_adj)"
   ]
  },
  {
   "cell_type": "code",
   "execution_count": 62,
   "metadata": {},
   "outputs": [
    {
     "data": {
      "text/plain": [
       "<matplotlib.image.AxesImage at 0x263e92eb358>"
      ]
     },
     "execution_count": 62,
     "metadata": {},
     "output_type": "execute_result"
    },
    {
     "data": {
      "image/png": "[encoded data removed]",
      "text/plain": [
       "<Figure size 432x288 with 1 Axes>"
      ]
     },
     "metadata": {
      "needs_background": "light"
     },
     "output_type": "display_data"
    }
   ],
   "source": [
    "plt.spy(agg_adj)"
   ]
  },
  {
   "cell_type": "code",
   "execution_count": 63,
   "metadata": {},
   "outputs": [
    {
     "data": {
      "text/plain": [
       "<matplotlib.image.AxesImage at 0x263e9561048>"
      ]
     },
     "execution_count": 63,
     "metadata": {},
     "output_type": "execute_result"
    },
    {
     "data": {
      "image/png": "[encoded data removed]",
      "text/plain": [
       "<Figure size 432x288 with 1 Axes>"
      ]
     },
     "metadata": {
      "needs_background": "light"
     },
     "output_type": "display_data"
    }
   ],
   "source": [
    "plt.imshow(agg_adj, cmap='hot', interpolation='none')"
   ]
  },
  {
   "cell_type": "code",
   "execution_count": 64,
   "metadata": {},
   "outputs": [
    {
     "data": {
      "text/plain": [
       "0.0"
      ]
     },
     "execution_count": 64,
     "metadata": {},
     "output_type": "execute_result"
    }
   ],
   "source": [
    "np.min(agg_adj)"
   ]
  },
  {
   "cell_type": "code",
   "execution_count": 65,
   "metadata": {},
   "outputs": [
    {
     "data": {
      "text/plain": [
       "0.9850374064837905"
      ]
     },
     "execution_count": 65,
     "metadata": {},
     "output_type": "execute_result"
    }
   ],
   "source": [
    "np.max(agg_adj)"
   ]
  },
  {
   "cell_type": "code",
   "execution_count": 66,
   "metadata": {},
   "outputs": [],
   "source": [
    "np.save('agg_adj',agg_adj)"
   ]
  },
  {
   "cell_type": "code",
   "execution_count": null,
   "metadata": {},
   "outputs": [],
   "source": [
    "np.load('agg_adj.npy')"
   ]
  },
  {
   "cell_type": "markdown",
   "metadata": {},
   "source": [
    "## Tests"
   ]
  },
  {
   "cell_type": "markdown",
   "metadata": {},
   "source": [
    "### Test consistency of data"
   ]
  },
  {
   "cell_type": "code",
   "execution_count": 67,
   "metadata": {},
   "outputs": [
    {
     "data": {
      "text/plain": [
       "7735"
      ]
     },
     "execution_count": 67,
     "metadata": {},
     "output_type": "execute_result"
    }
   ],
   "source": [
    "dict_actor_id.get(\"Sam Worthington\")"
   ]
  },
  {
   "cell_type": "code",
   "execution_count": 68,
   "metadata": {},
   "outputs": [
    {
     "data": {
      "text/html": [
       "<div>\n",
       "<style scoped>\n",
       "    .dataframe tbody tr th:only-of-type {\n",
       "        vertical-align: middle;\n",
       "    }\n",
       "\n",
       "    .dataframe tbody tr th {\n",
       "        vertical-align: top;\n",
       "    }\n",
       "\n",
       "    .dataframe thead th {\n",
       "        text-align: right;\n",
       "    }\n",
       "</style>\n",
       "<table border=\"1\" class=\"dataframe\">\n",
       "  <thead>\n",
       "    <tr style=\"text-align: right;\">\n",
       "      <th></th>\n",
       "      <th>actor_id</th>\n",
       "      <th>actors</th>\n",
       "      <th>gender</th>\n",
       "      <th>order</th>\n",
       "    </tr>\n",
       "  </thead>\n",
       "  <tbody>\n",
       "    <tr>\n",
       "      <td>94</td>\n",
       "      <td>94</td>\n",
       "      <td>Adriana Barraza</td>\n",
       "      <td>1</td>\n",
       "      <td>[4, 0]</td>\n",
       "    </tr>\n",
       "  </tbody>\n",
       "</table>\n",
       "</div>"
      ],
      "text/plain": [
       "    actor_id           actors  gender   order\n",
       "94        94  Adriana Barraza       1  [4, 0]"
      ]
     },
     "execution_count": 68,
     "metadata": {},
     "output_type": "execute_result"
    }
   ],
   "source": [
    "actors_df[actors_df[\"actors\"]==\"Adriana Barraza\"]"
   ]
  },
  {
   "cell_type": "code",
   "execution_count": 69,
   "metadata": {},
   "outputs": [],
   "source": [
    "dict_actor_id.get(\"Andreas Berg\")"
   ]
  },
  {
   "cell_type": "code",
   "execution_count": 70,
   "metadata": {},
   "outputs": [
    {
     "data": {
      "text/html": [
       "<div>\n",
       "<style scoped>\n",
       "    .dataframe tbody tr th:only-of-type {\n",
       "        vertical-align: middle;\n",
       "    }\n",
       "\n",
       "    .dataframe tbody tr th {\n",
       "        vertical-align: top;\n",
       "    }\n",
       "\n",
       "    .dataframe thead th {\n",
       "        text-align: right;\n",
       "    }\n",
       "</style>\n",
       "<table border=\"1\" class=\"dataframe\">\n",
       "  <thead>\n",
       "    <tr style=\"text-align: right;\">\n",
       "      <th></th>\n",
       "      <th>actor_id</th>\n",
       "      <th>actors</th>\n",
       "      <th>gender</th>\n",
       "      <th>order</th>\n",
       "    </tr>\n",
       "  </thead>\n",
       "  <tbody>\n",
       "    <tr>\n",
       "      <td>1000</td>\n",
       "      <td>1000</td>\n",
       "      <td>Bonnie Hunt</td>\n",
       "      <td>1</td>\n",
       "      <td>[2, 3, 3, 2, 4, 1, 2, 1]</td>\n",
       "    </tr>\n",
       "  </tbody>\n",
       "</table>\n",
       "</div>"
      ],
      "text/plain": [
       "      actor_id       actors  gender                     order\n",
       "1000      1000  Bonnie Hunt       1  [2, 3, 3, 2, 4, 1, 2, 1]"
      ]
     },
     "execution_count": 70,
     "metadata": {},
     "output_type": "execute_result"
    }
   ],
   "source": [
    "actors_df[actors_df['actor_id']==1000]"
   ]
  },
  {
   "cell_type": "code",
   "execution_count": 71,
   "metadata": {},
   "outputs": [
    {
     "data": {
      "text/plain": [
       "{'Adam Clayton', 'Bono', 'The Edge'}"
      ]
     },
     "execution_count": 71,
     "metadata": {},
     "output_type": "execute_result"
    }
   ],
   "source": [
    "nodes_df.loc[0,'cast']"
   ]
  },
  {
   "cell_type": "code",
   "execution_count": 72,
   "metadata": {},
   "outputs": [
    {
     "data": {
      "text/plain": [
       "9182"
      ]
     },
     "execution_count": 72,
     "metadata": {},
     "output_type": "execute_result"
    }
   ],
   "source": [
    "# Test number of actors\n",
    "len(np.unique(actors_agg_df.index.values))"
   ]
  },
  {
   "cell_type": "code",
   "execution_count": 73,
   "metadata": {},
   "outputs": [
    {
     "data": {
      "text/html": [
       "<div>\n",
       "<style scoped>\n",
       "    .dataframe tbody tr th:only-of-type {\n",
       "        vertical-align: middle;\n",
       "    }\n",
       "\n",
       "    .dataframe tbody tr th {\n",
       "        vertical-align: top;\n",
       "    }\n",
       "\n",
       "    .dataframe thead th {\n",
       "        text-align: right;\n",
       "    }\n",
       "</style>\n",
       "<table border=\"1\" class=\"dataframe\">\n",
       "  <thead>\n",
       "    <tr style=\"text-align: right;\">\n",
       "      <th></th>\n",
       "      <th>movie_id</th>\n",
       "      <th>cast</th>\n",
       "      <th>crew</th>\n",
       "      <th>gender</th>\n",
       "      <th>budget</th>\n",
       "      <th>genres</th>\n",
       "      <th>keywords</th>\n",
       "      <th>original_language</th>\n",
       "      <th>popularity</th>\n",
       "      <th>production_companies</th>\n",
       "      <th>production_countries</th>\n",
       "      <th>release_date</th>\n",
       "      <th>revenue</th>\n",
       "      <th>runtime</th>\n",
       "      <th>spoken_languages</th>\n",
       "      <th>status</th>\n",
       "      <th>title</th>\n",
       "      <th>vote_average</th>\n",
       "      <th>vote_count</th>\n",
       "    </tr>\n",
       "    <tr>\n",
       "      <th>actor_id</th>\n",
       "      <th></th>\n",
       "      <th></th>\n",
       "      <th></th>\n",
       "      <th></th>\n",
       "      <th></th>\n",
       "      <th></th>\n",
       "      <th></th>\n",
       "      <th></th>\n",
       "      <th></th>\n",
       "      <th></th>\n",
       "      <th></th>\n",
       "      <th></th>\n",
       "      <th></th>\n",
       "      <th></th>\n",
       "      <th></th>\n",
       "      <th></th>\n",
       "      <th></th>\n",
       "      <th></th>\n",
       "      <th></th>\n",
       "    </tr>\n",
       "  </thead>\n",
       "  <tbody>\n",
       "    <tr>\n",
       "      <td>0</td>\n",
       "      <td>{2591}</td>\n",
       "      <td>{Bono, Adam Clayton, The Edge}</td>\n",
       "      <td>{Catherine Owens, Mark Pellington}</td>\n",
       "      <td>2</td>\n",
       "      <td>1.500000e+07</td>\n",
       "      <td>{Music, Documentary}</td>\n",
       "      <td>{}</td>\n",
       "      <td>{en}</td>\n",
       "      <td>0.335195</td>\n",
       "      <td>{3ality Digital Entertainment, National Geogra...</td>\n",
       "      <td>{United States of America}</td>\n",
       "      <td>[2007-05-19]</td>\n",
       "      <td>2.273084e+07</td>\n",
       "      <td>85.0</td>\n",
       "      <td>{English}</td>\n",
       "      <td>[Released]</td>\n",
       "      <td>{U2 3D}</td>\n",
       "      <td>6.700000</td>\n",
       "      <td>10.0</td>\n",
       "    </tr>\n",
       "    <tr>\n",
       "      <td>1</td>\n",
       "      <td>{3619}</td>\n",
       "      <td>{Michael Richards, Emo Philips, David Bowe, Vi...</td>\n",
       "      <td>{Jay Levey}</td>\n",
       "      <td>0</td>\n",
       "      <td>5.000000e+06</td>\n",
       "      <td>{Comedy}</td>\n",
       "      <td>{cult film, tv star, tv station, satire, music...</td>\n",
       "      <td>{en}</td>\n",
       "      <td>4.070044</td>\n",
       "      <td>{Orion Pictures, Cinecorp}</td>\n",
       "      <td>{United States of America}</td>\n",
       "      <td>[1989-07-21]</td>\n",
       "      <td>0.000000e+00</td>\n",
       "      <td>97.0</td>\n",
       "      <td>{English}</td>\n",
       "      <td>[Released]</td>\n",
       "      <td>{UHF}</td>\n",
       "      <td>6.700000</td>\n",
       "      <td>89.0</td>\n",
       "    </tr>\n",
       "    <tr>\n",
       "      <td>2</td>\n",
       "      <td>{609, 1232, 1233, 761, 1597}</td>\n",
       "      <td>{Malachy McCourt, Christian Stokes, Anastasia ...</td>\n",
       "      <td>{Jim Sheridan, Antoine Fuqua, Mikael Håfström,...</td>\n",
       "      <td>2</td>\n",
       "      <td>4.400000e+07</td>\n",
       "      <td>{Drama, Crime, Comedy, Action, Thriller, Romance}</td>\n",
       "      <td>{escape, rapper, prison escape, prison, musica...</td>\n",
       "      <td>{en}</td>\n",
       "      <td>32.720009</td>\n",
       "      <td>{Atmosphere Entertainment MM, Goldcrest Pictur...</td>\n",
       "      <td>{United States of America}</td>\n",
       "      <td>[2015-06-15, 2010-01-12, 2005-11-09, 2013-10-0...</td>\n",
       "      <td>7.860544e+07</td>\n",
       "      <td>558.0</td>\n",
       "      <td>{Український, العربية, اردو, Deutsch, Español,...</td>\n",
       "      <td>[Released, Released, Released, Released, Relea...</td>\n",
       "      <td>{Morning Glory, Righteous Kill, Southpaw, Esca...</td>\n",
       "      <td>6.460000</td>\n",
       "      <td>939.8</td>\n",
       "    </tr>\n",
       "    <tr>\n",
       "      <td>3</td>\n",
       "      <td>{3163}</td>\n",
       "      <td>{Harry Anthony Shelley, Matthew Albrecht, Aman...</td>\n",
       "      <td>{Joseph Kahn}</td>\n",
       "      <td>0</td>\n",
       "      <td>1.000000e+07</td>\n",
       "      <td>{Science Fiction, Horror, Comedy}</td>\n",
       "      <td>{horror spoof, high school, murder, slasher}</td>\n",
       "      <td>{en}</td>\n",
       "      <td>10.424596</td>\n",
       "      <td>{Detention Films}</td>\n",
       "      <td>{United States of America}</td>\n",
       "      <td>[2011-03-16]</td>\n",
       "      <td>0.000000e+00</td>\n",
       "      <td>93.0</td>\n",
       "      <td>{English}</td>\n",
       "      <td>[Released]</td>\n",
       "      <td>{Detention}</td>\n",
       "      <td>5.700000</td>\n",
       "      <td>129.0</td>\n",
       "    </tr>\n",
       "    <tr>\n",
       "      <td>4</td>\n",
       "      <td>{4034, 4054, 4375}</td>\n",
       "      <td>{Ron Roggé, Peter Wingfield, Louise Fletcher, ...</td>\n",
       "      <td>{John Murlowski, Karen Moncrieff, Michael Land...</td>\n",
       "      <td>2</td>\n",
       "      <td>3.333333e+05</td>\n",
       "      <td>{Drama, Family, Comedy}</td>\n",
       "      <td>{christianity, woman director, appalachia, con...</td>\n",
       "      <td>{en}</td>\n",
       "      <td>1.224799</td>\n",
       "      <td>{}</td>\n",
       "      <td>{United States of America}</td>\n",
       "      <td>[2002-01-11, 2007-02-09, 2010-12-01]</td>\n",
       "      <td>1.546667e+05</td>\n",
       "      <td>298.0</td>\n",
       "      <td>{Português, English}</td>\n",
       "      <td>[Released, Released, Released]</td>\n",
       "      <td>{The Last Sin Eater, Christmas Mail, Blue Car}</td>\n",
       "      <td>5.966667</td>\n",
       "      <td>13.0</td>\n",
       "    </tr>\n",
       "    <tr>\n",
       "      <td>...</td>\n",
       "      <td>...</td>\n",
       "      <td>...</td>\n",
       "      <td>...</td>\n",
       "      <td>...</td>\n",
       "      <td>...</td>\n",
       "      <td>...</td>\n",
       "      <td>...</td>\n",
       "      <td>...</td>\n",
       "      <td>...</td>\n",
       "      <td>...</td>\n",
       "      <td>...</td>\n",
       "      <td>...</td>\n",
       "      <td>...</td>\n",
       "      <td>...</td>\n",
       "      <td>...</td>\n",
       "      <td>...</td>\n",
       "      <td>...</td>\n",
       "      <td>...</td>\n",
       "      <td>...</td>\n",
       "    </tr>\n",
       "    <tr>\n",
       "      <td>9177</td>\n",
       "      <td>{2742}</td>\n",
       "      <td>{Janelle Bailey, Angelo Josue Lozano Corzo, Av...</td>\n",
       "      <td>{Jaume Collet-Serra}</td>\n",
       "      <td>2</td>\n",
       "      <td>1.700000e+07</td>\n",
       "      <td>{Drama, Horror, Thriller}</td>\n",
       "      <td>{mexico, young woman, survival, animal attack,...</td>\n",
       "      <td>{en}</td>\n",
       "      <td>60.829621</td>\n",
       "      <td>{Columbia Pictures, Weimaraner Republic Pictur...</td>\n",
       "      <td>{United States of America}</td>\n",
       "      <td>[2016-06-24]</td>\n",
       "      <td>1.191008e+08</td>\n",
       "      <td>86.0</td>\n",
       "      <td>{English}</td>\n",
       "      <td>[Released]</td>\n",
       "      <td>{The Shallows}</td>\n",
       "      <td>6.200000</td>\n",
       "      <td>1567.0</td>\n",
       "    </tr>\n",
       "    <tr>\n",
       "      <td>9178</td>\n",
       "      <td>{2203}</td>\n",
       "      <td>{Susan Parry, Jeff Truman, Lucia Noyce, Askar ...</td>\n",
       "      <td>{Phillip Noyce}</td>\n",
       "      <td>1</td>\n",
       "      <td>3.000000e+07</td>\n",
       "      <td>{Drama, Thriller, Action, Romance}</td>\n",
       "      <td>{saigon, terror, lover (female), journalist, i...</td>\n",
       "      <td>{en}</td>\n",
       "      <td>5.133744</td>\n",
       "      <td>{Miramax Films, Intermedia Films, Mirage Enter...</td>\n",
       "      <td>{United States of America}</td>\n",
       "      <td>[2002-11-22]</td>\n",
       "      <td>2.767412e+07</td>\n",
       "      <td>101.0</td>\n",
       "      <td>{Français, Tiếng Việt, English}</td>\n",
       "      <td>[Released]</td>\n",
       "      <td>{The Quiet American}</td>\n",
       "      <td>6.400000</td>\n",
       "      <td>81.0</td>\n",
       "    </tr>\n",
       "    <tr>\n",
       "      <td>9179</td>\n",
       "      <td>{4510}</td>\n",
       "      <td>{Lena Capuder, Ana Dolinar, Andrej Nahtigal, K...</td>\n",
       "      <td>{Blaž Završnik}</td>\n",
       "      <td>0</td>\n",
       "      <td>0.000000e+00</td>\n",
       "      <td>{Drama, Comedy}</td>\n",
       "      <td>{pornography, teenager, love, death, sex}</td>\n",
       "      <td>{sl}</td>\n",
       "      <td>0.061248</td>\n",
       "      <td>{Televizija Slovenija, Perfo Production}</td>\n",
       "      <td>{Slovenia}</td>\n",
       "      <td>[2015-09-17]</td>\n",
       "      <td>0.000000e+00</td>\n",
       "      <td>83.0</td>\n",
       "      <td>{Slovenščina, English}</td>\n",
       "      <td>[Released]</td>\n",
       "      <td>{Juliet and Alfa Romeo}</td>\n",
       "      <td>6.000000</td>\n",
       "      <td>1.0</td>\n",
       "    </tr>\n",
       "    <tr>\n",
       "      <td>9180</td>\n",
       "      <td>{337, 1341}</td>\n",
       "      <td>{Sebastian Koch, Rico Simonini, Vasily Stepano...</td>\n",
       "      <td>{Fyodor Bondarchuk, John Moore}</td>\n",
       "      <td>1</td>\n",
       "      <td>6.425000e+07</td>\n",
       "      <td>{Fantasy, Science Fiction, Action, Thriller}</td>\n",
       "      <td>{escape, brother sister relationship, big city...</td>\n",
       "      <td>{ru, en}</td>\n",
       "      <td>34.094213</td>\n",
       "      <td>{Mid Atlantic Films, Telekanal STS, Dune Enter...</td>\n",
       "      <td>{Russia, United States of America}</td>\n",
       "      <td>[2013-02-06, 2008-12-18]</td>\n",
       "      <td>1.632445e+08</td>\n",
       "      <td>213.0</td>\n",
       "      <td>{Pусский, English}</td>\n",
       "      <td>[Released, Released]</td>\n",
       "      <td>{A Good Day to Die Hard, The Inhabited Island}</td>\n",
       "      <td>5.250000</td>\n",
       "      <td>1758.0</td>\n",
       "    </tr>\n",
       "    <tr>\n",
       "      <td>9181</td>\n",
       "      <td>{4452}</td>\n",
       "      <td>{Ali-Asghar Shahbazi, Leila Hatami, Armine Zey...</td>\n",
       "      <td>{Asghar Farhadi}</td>\n",
       "      <td>2</td>\n",
       "      <td>8.000000e+05</td>\n",
       "      <td>{Drama}</td>\n",
       "      <td>{iranian, caregiver, class, divorce, iran, mon...</td>\n",
       "      <td>{fa}</td>\n",
       "      <td>12.049373</td>\n",
       "      <td>{Dreamlab Films, MPA APSA Academy Film Fund, A...</td>\n",
       "      <td>{France, Iran}</td>\n",
       "      <td>[2011-03-15]</td>\n",
       "      <td>0.000000e+00</td>\n",
       "      <td>123.0</td>\n",
       "      <td>{فارسی}</td>\n",
       "      <td>[Released]</td>\n",
       "      <td>{A Separation}</td>\n",
       "      <td>7.700000</td>\n",
       "      <td>469.0</td>\n",
       "    </tr>\n",
       "  </tbody>\n",
       "</table>\n",
       "<p>9182 rows × 19 columns</p>\n",
       "</div>"
      ],
      "text/plain": [
       "                              movie_id  \\\n",
       "actor_id                                 \n",
       "0                               {2591}   \n",
       "1                               {3619}   \n",
       "2         {609, 1232, 1233, 761, 1597}   \n",
       "3                               {3163}   \n",
       "4                   {4034, 4054, 4375}   \n",
       "...                                ...   \n",
       "9177                            {2742}   \n",
       "9178                            {2203}   \n",
       "9179                            {4510}   \n",
       "9180                       {337, 1341}   \n",
       "9181                            {4452}   \n",
       "\n",
       "                                                       cast  \\\n",
       "actor_id                                                      \n",
       "0                            {Bono, Adam Clayton, The Edge}   \n",
       "1         {Michael Richards, Emo Philips, David Bowe, Vi...   \n",
       "2         {Malachy McCourt, Christian Stokes, Anastasia ...   \n",
       "3         {Harry Anthony Shelley, Matthew Albrecht, Aman...   \n",
       "4         {Ron Roggé, Peter Wingfield, Louise Fletcher, ...   \n",
       "...                                                     ...   \n",
       "9177      {Janelle Bailey, Angelo Josue Lozano Corzo, Av...   \n",
       "9178      {Susan Parry, Jeff Truman, Lucia Noyce, Askar ...   \n",
       "9179      {Lena Capuder, Ana Dolinar, Andrej Nahtigal, K...   \n",
       "9180      {Sebastian Koch, Rico Simonini, Vasily Stepano...   \n",
       "9181      {Ali-Asghar Shahbazi, Leila Hatami, Armine Zey...   \n",
       "\n",
       "                                                       crew  gender  \\\n",
       "actor_id                                                              \n",
       "0                        {Catherine Owens, Mark Pellington}       2   \n",
       "1                                               {Jay Levey}       0   \n",
       "2         {Jim Sheridan, Antoine Fuqua, Mikael Håfström,...       2   \n",
       "3                                             {Joseph Kahn}       0   \n",
       "4         {John Murlowski, Karen Moncrieff, Michael Land...       2   \n",
       "...                                                     ...     ...   \n",
       "9177                                   {Jaume Collet-Serra}       2   \n",
       "9178                                        {Phillip Noyce}       1   \n",
       "9179                                        {Blaž Završnik}       0   \n",
       "9180                        {Fyodor Bondarchuk, John Moore}       1   \n",
       "9181                                       {Asghar Farhadi}       2   \n",
       "\n",
       "                budget                                             genres  \\\n",
       "actor_id                                                                    \n",
       "0         1.500000e+07                               {Music, Documentary}   \n",
       "1         5.000000e+06                                           {Comedy}   \n",
       "2         4.400000e+07  {Drama, Crime, Comedy, Action, Thriller, Romance}   \n",
       "3         1.000000e+07                  {Science Fiction, Horror, Comedy}   \n",
       "4         3.333333e+05                            {Drama, Family, Comedy}   \n",
       "...                ...                                                ...   \n",
       "9177      1.700000e+07                          {Drama, Horror, Thriller}   \n",
       "9178      3.000000e+07                 {Drama, Thriller, Action, Romance}   \n",
       "9179      0.000000e+00                                    {Drama, Comedy}   \n",
       "9180      6.425000e+07       {Fantasy, Science Fiction, Action, Thriller}   \n",
       "9181      8.000000e+05                                            {Drama}   \n",
       "\n",
       "                                                   keywords original_language  \\\n",
       "actor_id                                                                        \n",
       "0                                                        {}              {en}   \n",
       "1         {cult film, tv star, tv station, satire, music...              {en}   \n",
       "2         {escape, rapper, prison escape, prison, musica...              {en}   \n",
       "3              {horror spoof, high school, murder, slasher}              {en}   \n",
       "4         {christianity, woman director, appalachia, con...              {en}   \n",
       "...                                                     ...               ...   \n",
       "9177      {mexico, young woman, survival, animal attack,...              {en}   \n",
       "9178      {saigon, terror, lover (female), journalist, i...              {en}   \n",
       "9179              {pornography, teenager, love, death, sex}              {sl}   \n",
       "9180      {escape, brother sister relationship, big city...          {ru, en}   \n",
       "9181      {iranian, caregiver, class, divorce, iran, mon...              {fa}   \n",
       "\n",
       "          popularity                               production_companies  \\\n",
       "actor_id                                                                  \n",
       "0           0.335195  {3ality Digital Entertainment, National Geogra...   \n",
       "1           4.070044                         {Orion Pictures, Cinecorp}   \n",
       "2          32.720009  {Atmosphere Entertainment MM, Goldcrest Pictur...   \n",
       "3          10.424596                                  {Detention Films}   \n",
       "4           1.224799                                                 {}   \n",
       "...              ...                                                ...   \n",
       "9177       60.829621  {Columbia Pictures, Weimaraner Republic Pictur...   \n",
       "9178        5.133744  {Miramax Films, Intermedia Films, Mirage Enter...   \n",
       "9179        0.061248           {Televizija Slovenija, Perfo Production}   \n",
       "9180       34.094213  {Mid Atlantic Films, Telekanal STS, Dune Enter...   \n",
       "9181       12.049373  {Dreamlab Films, MPA APSA Academy Film Fund, A...   \n",
       "\n",
       "                        production_countries  \\\n",
       "actor_id                                       \n",
       "0                 {United States of America}   \n",
       "1                 {United States of America}   \n",
       "2                 {United States of America}   \n",
       "3                 {United States of America}   \n",
       "4                 {United States of America}   \n",
       "...                                      ...   \n",
       "9177              {United States of America}   \n",
       "9178              {United States of America}   \n",
       "9179                              {Slovenia}   \n",
       "9180      {Russia, United States of America}   \n",
       "9181                          {France, Iran}   \n",
       "\n",
       "                                               release_date       revenue  \\\n",
       "actor_id                                                                    \n",
       "0                                              [2007-05-19]  2.273084e+07   \n",
       "1                                              [1989-07-21]  0.000000e+00   \n",
       "2         [2015-06-15, 2010-01-12, 2005-11-09, 2013-10-0...  7.860544e+07   \n",
       "3                                              [2011-03-16]  0.000000e+00   \n",
       "4                      [2002-01-11, 2007-02-09, 2010-12-01]  1.546667e+05   \n",
       "...                                                     ...           ...   \n",
       "9177                                           [2016-06-24]  1.191008e+08   \n",
       "9178                                           [2002-11-22]  2.767412e+07   \n",
       "9179                                           [2015-09-17]  0.000000e+00   \n",
       "9180                               [2013-02-06, 2008-12-18]  1.632445e+08   \n",
       "9181                                           [2011-03-15]  0.000000e+00   \n",
       "\n",
       "          runtime                                   spoken_languages  \\\n",
       "actor_id                                                               \n",
       "0            85.0                                          {English}   \n",
       "1            97.0                                          {English}   \n",
       "2           558.0  {Український, العربية, اردو, Deutsch, Español,...   \n",
       "3            93.0                                          {English}   \n",
       "4           298.0                               {Português, English}   \n",
       "...           ...                                                ...   \n",
       "9177         86.0                                          {English}   \n",
       "9178        101.0                    {Français, Tiếng Việt, English}   \n",
       "9179         83.0                             {Slovenščina, English}   \n",
       "9180        213.0                                 {Pусский, English}   \n",
       "9181        123.0                                            {فارسی}   \n",
       "\n",
       "                                                     status  \\\n",
       "actor_id                                                      \n",
       "0                                                [Released]   \n",
       "1                                                [Released]   \n",
       "2         [Released, Released, Released, Released, Relea...   \n",
       "3                                                [Released]   \n",
       "4                            [Released, Released, Released]   \n",
       "...                                                     ...   \n",
       "9177                                             [Released]   \n",
       "9178                                             [Released]   \n",
       "9179                                             [Released]   \n",
       "9180                                   [Released, Released]   \n",
       "9181                                             [Released]   \n",
       "\n",
       "                                                      title  vote_average  \\\n",
       "actor_id                                                                    \n",
       "0                                                   {U2 3D}      6.700000   \n",
       "1                                                     {UHF}      6.700000   \n",
       "2         {Morning Glory, Righteous Kill, Southpaw, Esca...      6.460000   \n",
       "3                                               {Detention}      5.700000   \n",
       "4            {The Last Sin Eater, Christmas Mail, Blue Car}      5.966667   \n",
       "...                                                     ...           ...   \n",
       "9177                                         {The Shallows}      6.200000   \n",
       "9178                                   {The Quiet American}      6.400000   \n",
       "9179                                {Juliet and Alfa Romeo}      6.000000   \n",
       "9180         {A Good Day to Die Hard, The Inhabited Island}      5.250000   \n",
       "9181                                         {A Separation}      7.700000   \n",
       "\n",
       "          vote_count  \n",
       "actor_id              \n",
       "0               10.0  \n",
       "1               89.0  \n",
       "2              939.8  \n",
       "3              129.0  \n",
       "4               13.0  \n",
       "...              ...  \n",
       "9177          1567.0  \n",
       "9178            81.0  \n",
       "9179             1.0  \n",
       "9180          1758.0  \n",
       "9181           469.0  \n",
       "\n",
       "[9182 rows x 19 columns]"
      ]
     },
     "execution_count": 73,
     "metadata": {},
     "output_type": "execute_result"
    }
   ],
   "source": [
    "actors_agg_df"
   ]
  },
  {
   "cell_type": "code",
   "execution_count": 74,
   "metadata": {},
   "outputs": [
    {
     "data": {
      "text/plain": [
       "{0, 43, 132, 206, 671, 1146, 1448, 2147}"
      ]
     },
     "execution_count": 74,
     "metadata": {},
     "output_type": "execute_result"
    }
   ],
   "source": [
    "test_movie_id = actors_agg_df.loc[dict_actor_id.get(\"Sam Worthington\")][\"movie_id\"]\n",
    "test_movie_id"
   ]
  },
  {
   "cell_type": "code",
   "execution_count": 75,
   "metadata": {},
   "outputs": [
    {
     "data": {
      "text/html": [
       "<div>\n",
       "<style scoped>\n",
       "    .dataframe tbody tr th:only-of-type {\n",
       "        vertical-align: middle;\n",
       "    }\n",
       "\n",
       "    .dataframe tbody tr th {\n",
       "        vertical-align: top;\n",
       "    }\n",
       "\n",
       "    .dataframe thead th {\n",
       "        text-align: right;\n",
       "    }\n",
       "</style>\n",
       "<table border=\"1\" class=\"dataframe\">\n",
       "  <thead>\n",
       "    <tr style=\"text-align: right;\">\n",
       "      <th></th>\n",
       "      <th>movie_id</th>\n",
       "      <th>new_movie_id</th>\n",
       "      <th>title</th>\n",
       "    </tr>\n",
       "  </thead>\n",
       "  <tbody>\n",
       "    <tr>\n",
       "      <td>0</td>\n",
       "      <td>19995</td>\n",
       "      <td>0</td>\n",
       "      <td>Avatar</td>\n",
       "    </tr>\n",
       "    <tr>\n",
       "      <td>1</td>\n",
       "      <td>534</td>\n",
       "      <td>43</td>\n",
       "      <td>Terminator Salvation</td>\n",
       "    </tr>\n",
       "    <tr>\n",
       "      <td>2</td>\n",
       "      <td>57165</td>\n",
       "      <td>132</td>\n",
       "      <td>Wrath of the Titans</td>\n",
       "    </tr>\n",
       "    <tr>\n",
       "      <td>3</td>\n",
       "      <td>18823</td>\n",
       "      <td>206</td>\n",
       "      <td>Clash of the Titans</td>\n",
       "    </tr>\n",
       "    <tr>\n",
       "      <td>4</td>\n",
       "      <td>253412</td>\n",
       "      <td>671</td>\n",
       "      <td>Everest</td>\n",
       "    </tr>\n",
       "    <tr>\n",
       "      <td>5</td>\n",
       "      <td>49527</td>\n",
       "      <td>1146</td>\n",
       "      <td>Man on a Ledge</td>\n",
       "    </tr>\n",
       "    <tr>\n",
       "      <td>6</td>\n",
       "      <td>144336</td>\n",
       "      <td>1448</td>\n",
       "      <td>Sabotage</td>\n",
       "    </tr>\n",
       "    <tr>\n",
       "      <td>7</td>\n",
       "      <td>48289</td>\n",
       "      <td>2147</td>\n",
       "      <td>The Debt</td>\n",
       "    </tr>\n",
       "  </tbody>\n",
       "</table>\n",
       "</div>"
      ],
      "text/plain": [
       "   movie_id  new_movie_id                 title\n",
       "0     19995             0                Avatar\n",
       "1       534            43  Terminator Salvation\n",
       "2     57165           132   Wrath of the Titans\n",
       "3     18823           206   Clash of the Titans\n",
       "4    253412           671               Everest\n",
       "5     49527          1146        Man on a Ledge\n",
       "6    144336          1448              Sabotage\n",
       "7     48289          2147              The Debt"
      ]
     },
     "execution_count": 75,
     "metadata": {},
     "output_type": "execute_result"
    }
   ],
   "source": [
    "test_movies_df = unique_movies_df[unique_movies_df[new_movie_id_col].isin(test_movie_id)]\n",
    "test_movies_df = test_movies_df.merge(pr_movies_df,right_on=movie_id_col,left_on=movie_id_col)\n",
    "test_movies_df[[movie_id_col,new_movie_id_col,'title']]"
   ]
  },
  {
   "cell_type": "code",
   "execution_count": 76,
   "metadata": {},
   "outputs": [
    {
     "data": {
      "text/plain": [
       "False"
      ]
     },
     "execution_count": 76,
     "metadata": {},
     "output_type": "execute_result"
    }
   ],
   "source": [
    "\"Sam Worthington\" in pr_credits_df.loc[0,'cast']"
   ]
  },
  {
   "cell_type": "code",
   "execution_count": 77,
   "metadata": {},
   "outputs": [
    {
     "data": {
      "text/plain": [
       "movie_id                                                19995\n",
       "cast        {Stuart Pollock, Gareth Ruck, James Patrick Pi...\n",
       "crew                                          {James Cameron}\n",
       "actors                                        Sam Worthington\n",
       "Name: 0, dtype: object"
      ]
     },
     "execution_count": 77,
     "metadata": {},
     "output_type": "execute_result"
    }
   ],
   "source": [
    "pr_credits_df.loc[0]"
   ]
  }
 ],
 "metadata": {
  "kernelspec": {
   "display_name": "Python 3",
   "language": "python",
   "name": "python3"
  },
  "language_info": {
   "codemirror_mode": {
    "name": "ipython",
    "version": 3
   },
   "file_extension": ".py",
   "mimetype": "text/x-python",
   "name": "python",
   "nbconvert_exporter": "python",
   "pygments_lexer": "ipython3",
   "version": "3.7.3"
  }
 },
 "nbformat": 4,
 "nbformat_minor": 4
}
