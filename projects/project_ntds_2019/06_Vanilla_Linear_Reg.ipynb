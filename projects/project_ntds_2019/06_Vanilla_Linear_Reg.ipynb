{
 "cells": [
  {
   "cell_type": "markdown",
   "metadata": {},
   "source": [
    "# Vanilla Linear Regression"
   ]
  },
  {
   "cell_type": "markdown",
   "metadata": {},
   "source": [
    "In this notebook we are going to predict the aggregated popularity, revenue and budget for actors"
   ]
  },
  {
   "cell_type": "code",
   "execution_count": 1,
   "metadata": {},
   "outputs": [],
   "source": [
    "import pandas as pd\n",
    "import numpy as np\n",
    "import matplotlib.pyplot as plt\n",
    "import json\n",
    "import csv\n",
    "from sklearn.metrics import accuracy_score, confusion_matrix, mean_squared_error, mean_absolute_error\n",
    "from sklearn.linear_model import LinearRegression\n",
    "from sklearn.preprocessing import OneHotEncoder\n",
    "from sklearn.model_selection import train_test_split\n",
    "from scipy.stats import iqr\n",
    "from ast import literal_eval\n",
    "from project_utils import *\n",
    "from pandas.io.json import json_normalize\n",
    "from functools import reduce"
   ]
  },
  {
   "cell_type": "code",
   "execution_count": 2,
   "metadata": {},
   "outputs": [
    {
     "data": {
      "text/html": [
       "<div>\n",
       "<style scoped>\n",
       "    .dataframe tbody tr th:only-of-type {\n",
       "        vertical-align: middle;\n",
       "    }\n",
       "\n",
       "    .dataframe tbody tr th {\n",
       "        vertical-align: top;\n",
       "    }\n",
       "\n",
       "    .dataframe thead th {\n",
       "        text-align: right;\n",
       "    }\n",
       "</style>\n",
       "<table border=\"1\" class=\"dataframe\">\n",
       "  <thead>\n",
       "    <tr style=\"text-align: right;\">\n",
       "      <th></th>\n",
       "      <th>budget</th>\n",
       "      <th>popularity</th>\n",
       "      <th>revenue</th>\n",
       "      <th>vote_average</th>\n",
       "      <th>vote_count</th>\n",
       "      <th>community</th>\n",
       "    </tr>\n",
       "    <tr>\n",
       "      <th>actor_id</th>\n",
       "      <th></th>\n",
       "      <th></th>\n",
       "      <th></th>\n",
       "      <th></th>\n",
       "      <th></th>\n",
       "      <th></th>\n",
       "    </tr>\n",
       "  </thead>\n",
       "  <tbody>\n",
       "    <tr>\n",
       "      <td>0</td>\n",
       "      <td>17000000.0</td>\n",
       "      <td>14.215532</td>\n",
       "      <td>2.263852e+07</td>\n",
       "      <td>5.750</td>\n",
       "      <td>256.000</td>\n",
       "      <td>0</td>\n",
       "    </tr>\n",
       "    <tr>\n",
       "      <td>1</td>\n",
       "      <td>36652500.0</td>\n",
       "      <td>30.167837</td>\n",
       "      <td>9.993918e+07</td>\n",
       "      <td>6.175</td>\n",
       "      <td>772.625</td>\n",
       "      <td>1</td>\n",
       "    </tr>\n",
       "    <tr>\n",
       "      <td>2</td>\n",
       "      <td>37500000.0</td>\n",
       "      <td>19.503003</td>\n",
       "      <td>1.034682e+08</td>\n",
       "      <td>6.500</td>\n",
       "      <td>906.750</td>\n",
       "      <td>0</td>\n",
       "    </tr>\n",
       "    <tr>\n",
       "      <td>3</td>\n",
       "      <td>1100000.0</td>\n",
       "      <td>3.226925</td>\n",
       "      <td>6.015562e+06</td>\n",
       "      <td>6.900</td>\n",
       "      <td>53.000</td>\n",
       "      <td>0</td>\n",
       "    </tr>\n",
       "    <tr>\n",
       "      <td>4</td>\n",
       "      <td>33250000.0</td>\n",
       "      <td>21.136737</td>\n",
       "      <td>6.390146e+07</td>\n",
       "      <td>6.250</td>\n",
       "      <td>631.750</td>\n",
       "      <td>2</td>\n",
       "    </tr>\n",
       "  </tbody>\n",
       "</table>\n",
       "</div>"
      ],
      "text/plain": [
       "              budget  popularity       revenue  vote_average  vote_count  \\\n",
       "actor_id                                                                   \n",
       "0         17000000.0   14.215532  2.263852e+07         5.750     256.000   \n",
       "1         36652500.0   30.167837  9.993918e+07         6.175     772.625   \n",
       "2         37500000.0   19.503003  1.034682e+08         6.500     906.750   \n",
       "3          1100000.0    3.226925  6.015562e+06         6.900      53.000   \n",
       "4         33250000.0   21.136737  6.390146e+07         6.250     631.750   \n",
       "\n",
       "          community  \n",
       "actor_id             \n",
       "0                 0  \n",
       "1                 1  \n",
       "2                 0  \n",
       "3                 0  \n",
       "4                 2  "
      ]
     },
     "execution_count": 2,
     "metadata": {},
     "output_type": "execute_result"
    }
   ],
   "source": [
    "actors_dataset_df = pd.read_pickle(\"actors_dataset_df.pkl\")\n",
    "actors_dataset_df.head()"
   ]
  },
  {
   "cell_type": "code",
   "execution_count": 9,
   "metadata": {},
   "outputs": [],
   "source": [
    "def remove_elements_from_list(l,elements):\n",
    "    elements_set = set(elements)\n",
    "    mod_l = set(l)\n",
    "    mod_l = list(mod_l - elements_set)\n",
    "    return mod_l"
   ]
  },
  {
   "cell_type": "code",
   "execution_count": 10,
   "metadata": {},
   "outputs": [],
   "source": [
    "def get_train_feats_and_gt(df,gt_col,remove_cols = None):\n",
    "    \"\"\"Get the train features and groundtruth col\n",
    "        \n",
    "        Args:\n",
    "            df(pandas.DataFrame):\n",
    "            gt_col(str)         :\n",
    "            remove_cols(list)   :\n",
    "        Returns:\n",
    "            A numpy.ndarray containing the features\n",
    "            A numpy.ndarray containing the labels\n",
    "    \"\"\"\n",
    "    df_cols = list(df.columns)\n",
    "    if remove_cols:\n",
    "        feat_cols = remove_elements_from_list(df_cols,remove_cols + [gt_col])\n",
    "    else:\n",
    "        feat_cols = remove_elements_from_list(df_cols,[gt_col])\n",
    "    X = df[feat_cols].values\n",
    "    y = df[gt_col].values\n",
    "    return X, y"
   ]
  },
  {
   "cell_type": "code",
   "execution_count": 11,
   "metadata": {},
   "outputs": [],
   "source": [
    "def nmae(y_gt,y_pred,den_type=\"iqr\"):\n",
    "    \"\"\"Calculate the normalized mean-absolute error\n",
    "        \n",
    "        Can be normalized by 3 quantities calculated on the groundtruth:\n",
    "        - iqr: 'Interquartile range'\n",
    "        - range: 'Max-min range'\n",
    "        - std: 'Standard deviation'\n",
    "        \n",
    "        Args:\n",
    "            y_gt(numpy.ndarray)    :  the groundtruth values\n",
    "            y_pred(numpy.ndarray)  :  the predicted values\n",
    "            den_type(str)          :  the type of denominator           \n",
    "        Returns:\n",
    "            A float that is the value of the nmae\n",
    "    \"\"\"\n",
    "    if den_type == \"iqr\":\n",
    "        den = iqr(y_gt)\n",
    "    elif den_type == \"range\":\n",
    "        den = np.max(y_gt) - np.min(y_gt)\n",
    "    elif den_type == \"std\":\n",
    "        den = np.std(y_gt)\n",
    "    else:\n",
    "        raise ValueError(\"Normalized MAE can only handle iqr, range and std\")\n",
    "    return mean_absolute_error(y_gt,y_pred)/iqr(y_gt)"
   ]
  },
  {
   "cell_type": "code",
   "execution_count": 12,
   "metadata": {},
   "outputs": [],
   "source": [
    "def one_hot_encode_feats(X,cols):\n",
    "    \"\"\"One hot encode feature\n",
    "        Args:\n",
    "            X(numpy.ndarray)                           :   the features\n",
    "            cols(list)                                 :   list of column numbers of the features to be one-hot encoded\n",
    "        Returns:\n",
    "            A numpy.ndarray containing the encoded features\n",
    "            A OneHotEncoder object       \n",
    "    \"\"\"\n",
    "    enc = OneHotEncoder(handle_unknown=\"ignore\",categorical_features=cols)\n",
    "    encoded_feats = enc.fit_transform(X)\n",
    "    return encoded_feats,enc"
   ]
  },
  {
   "cell_type": "code",
   "execution_count": 29,
   "metadata": {},
   "outputs": [],
   "source": [
    "X_budget, y_budget = get_train_feats_and_gt(actors_dataset_df,\"budget\",[\"community\"])\n",
    "X_budget_com, y_budget_com = get_train_feats_and_gt(actors_dataset_df,\"budget\")\n",
    "X_revenue, y_revenue = get_train_feats_and_gt(actors_dataset_df,\"revenue\",[\"community\"])\n",
    "X_revenue_com, y_revenue_com = get_train_feats_and_gt(actors_dataset_df,\"revenue\")\n",
    "X_popularity, y_popularity = get_train_feats_and_gt(actors_dataset_df,\"popularity\",[\"community\"])\n",
    "X_popularity_com, y_popularity_com = get_train_feats_and_gt(actors_dataset_df,\"popularity\")"
   ]
  },
  {
   "cell_type": "markdown",
   "metadata": {},
   "source": [
    "## Predict features"
   ]
  },
  {
   "cell_type": "code",
   "execution_count": 30,
   "metadata": {},
   "outputs": [],
   "source": [
    "seed=10"
   ]
  },
  {
   "cell_type": "markdown",
   "metadata": {},
   "source": [
    "### Predict budget"
   ]
  },
  {
   "cell_type": "code",
   "execution_count": 60,
   "metadata": {},
   "outputs": [
    {
     "name": "stdout",
     "output_type": "stream",
     "text": [
      "Normalized MAE budget: 0.2527618842062534\n"
     ]
    }
   ],
   "source": [
    "X_train_budget, X_test_budget, y_train_budget, y_test_budget = train_test_split(X_budget,y_budget,test_size=0.2,random_state=seed)\n",
    "budget_lr = LinearRegression()\n",
    "fit_budget_lr = budget_lr.fit(X_train_budget,y_train_budget)\n",
    "y_pred_budget = fit_budget_lr.predict(X_test_budget)\n",
    "budget_nmae = nmae(y_test_budget,y_pred_budget,\"range\")\n",
    "print(\"Normalized MAE budget: \"+str(budget_nmae))"
   ]
  },
  {
   "cell_type": "markdown",
   "metadata": {},
   "source": [
    "### Predict budget using communities"
   ]
  },
  {
   "cell_type": "code",
   "execution_count": 45,
   "metadata": {},
   "outputs": [
    {
     "name": "stdout",
     "output_type": "stream",
     "text": [
      "Normalized MAE budget: 0.23126956803501916\n"
     ]
    }
   ],
   "source": [
    "X_train_budget_com, X_test_budget_com, y_train_budget_com, y_test_budget_com = train_test_split(X_budget_com,y_budget_com,test_size=0.2,random_state=seed)\n",
    "budget_com_lr = LinearRegression()\n",
    "fit_budget_com_lr = budget_com_lr.fit(X_train_budget_com,y_train_budget_com)\n",
    "y_pred_budget_com = fit_budget_com_lr.predict(X_test_budget_com)\n",
    "budget_com_nmae = nmae(y_test_budget_com,y_pred_budget_com,\"range\")\n",
    "print(\"Normalized MAE budget: \"+str(budget_com_nmae))"
   ]
  },
  {
   "cell_type": "code",
   "execution_count": 50,
   "metadata": {},
   "outputs": [
    {
     "name": "stdout",
     "output_type": "stream",
     "text": [
      "Improvement percentage of budget prediction using communities: 8.50298938019331 %\n"
     ]
    }
   ],
   "source": [
    "print(\"Improvement percentage of budget prediction using communities: \" +str((budget_nmae-budget_com_nmae)*100/budget_nmae)+\" %\")"
   ]
  },
  {
   "cell_type": "markdown",
   "metadata": {},
   "source": [
    "### Predict revenue "
   ]
  },
  {
   "cell_type": "code",
   "execution_count": 51,
   "metadata": {},
   "outputs": [
    {
     "name": "stdout",
     "output_type": "stream",
     "text": [
      "Normalized MAE revenue: 0.23467298745023915\n"
     ]
    }
   ],
   "source": [
    "X_train_revenue, X_test_revenue, y_train_revenue, y_test_revenue = train_test_split(X_revenue,y_revenue,test_size=0.2,random_state=seed)\n",
    "revenue_lr = LinearRegression()\n",
    "fit_revenue_lr = revenue_lr.fit(X_train_revenue,y_train_revenue)\n",
    "y_pred_revenue = fit_revenue_lr.predict(X_test_revenue)\n",
    "revenue_nmae = nmae(y_test_revenue,y_pred_revenue,\"range\")\n",
    "print(\"Normalized MAE revenue: \"+str(revenue_nmae))"
   ]
  },
  {
   "cell_type": "markdown",
   "metadata": {},
   "source": [
    "### Predict revenue using communities"
   ]
  },
  {
   "cell_type": "code",
   "execution_count": 52,
   "metadata": {},
   "outputs": [
    {
     "name": "stdout",
     "output_type": "stream",
     "text": [
      "Normalized MAE revenue: 0.22787730426535835\n"
     ]
    }
   ],
   "source": [
    "X_train_revenue_com, X_test_revenue_com, y_train_revenue_com, y_test_revenue_com = train_test_split(X_revenue_com,y_revenue_com,test_size=0.2,random_state=seed)\n",
    "revenue_com_lr = LinearRegression()\n",
    "fit_revenue_com_lr = revenue_com_lr.fit(X_train_revenue_com,y_train_revenue_com)\n",
    "y_pred_revenue_com = fit_revenue_com_lr.predict(X_test_revenue_com)\n",
    "revenue_com_nmae = nmae(y_test_revenue_com,y_pred_revenue_com,\"range\")\n",
    "print(\"Normalized MAE revenue: \"+str(revenue_com_nmae))"
   ]
  },
  {
   "cell_type": "code",
   "execution_count": 61,
   "metadata": {},
   "outputs": [
    {
     "name": "stdout",
     "output_type": "stream",
     "text": [
      "Improvement percentage of revenue prediction using communities: 2.8958097217396106 %\n"
     ]
    }
   ],
   "source": [
    "print(\"Improvement percentage of revenue prediction using communities: \" +str((revenue_nmae-revenue_com_nmae)*100/revenue_nmae)+\" %\")"
   ]
  },
  {
   "cell_type": "markdown",
   "metadata": {},
   "source": [
    "### Predict popularity "
   ]
  },
  {
   "cell_type": "code",
   "execution_count": 63,
   "metadata": {},
   "outputs": [
    {
     "name": "stdout",
     "output_type": "stream",
     "text": [
      "Normalized MAE popularity: 0.23811801059246626\n"
     ]
    }
   ],
   "source": [
    "X_train_popularity, X_test_popularity, y_train_popularity, y_test_popularity = train_test_split(X_popularity,y_popularity,test_size=0.2,random_state=seed)\n",
    "popularity_lr = LinearRegression()\n",
    "fit_popularity_lr = popularity_lr.fit(X_train_popularity,y_train_popularity)\n",
    "y_pred_popularity = fit_popularity_lr.predict(X_test_popularity)\n",
    "popularity_nmae = nmae(y_test_popularity,y_pred_popularity,\"range\")\n",
    "print(\"Normalized MAE popularity: \"+str(popularity_nmae))"
   ]
  },
  {
   "cell_type": "markdown",
   "metadata": {},
   "source": [
    "### Predict popularity using communities"
   ]
  },
  {
   "cell_type": "code",
   "execution_count": 64,
   "metadata": {},
   "outputs": [
    {
     "name": "stdout",
     "output_type": "stream",
     "text": [
      "Normalized MAE popularity: 0.23683402554734675\n"
     ]
    }
   ],
   "source": [
    "X_train_popularity_com, X_test_popularity_com, y_train_popularity_com, y_test_popularity_com = train_test_split(X_popularity_com,y_popularity_com,test_size=0.2,random_state=seed)\n",
    "popularity_com_lr = LinearRegression()\n",
    "fit_popularity_com_lr = popularity_com_lr.fit(X_train_popularity_com,y_train_popularity_com)\n",
    "y_pred_popularity_com = fit_popularity_com_lr.predict(X_test_popularity_com)\n",
    "popularity_com_nmae = nmae(y_test_popularity_com,y_pred_popularity_com,\"range\")\n",
    "print(\"Normalized MAE popularity: \"+str(popularity_com_nmae))"
   ]
  },
  {
   "cell_type": "code",
   "execution_count": 65,
   "metadata": {},
   "outputs": [
    {
     "name": "stdout",
     "output_type": "stream",
     "text": [
      "Improvement percentage of popularity prediction using communities: 0.5392221453239918 %\n"
     ]
    }
   ],
   "source": [
    "print(\"Improvement percentage of popularity prediction using communities: \" +str((popularity_nmae-popularity_com_nmae)*100/popularity_nmae)+\" %\")"
   ]
  }
 ],
 "metadata": {
  "kernelspec": {
   "display_name": "Python 3",
   "language": "python",
   "name": "python3"
  },
  "language_info": {
   "codemirror_mode": {
    "name": "ipython",
    "version": 3
   },
   "file_extension": ".py",
   "mimetype": "text/x-python",
   "name": "python",
   "nbconvert_exporter": "python",
   "pygments_lexer": "ipython3",
   "version": "3.7.3"
  }
 },
 "nbformat": 4,
 "nbformat_minor": 4
}
