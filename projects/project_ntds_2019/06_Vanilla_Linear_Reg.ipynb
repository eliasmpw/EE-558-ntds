{
 "cells": [
  {
   "cell_type": "markdown",
   "metadata": {},
   "source": [
    "# Vanilla Linear Regression"
   ]
  },
  {
   "cell_type": "markdown",
   "metadata": {},
   "source": [
    "In this notebook we are going to predict the aggregated popularity, revenue and budget for actors"
   ]
  },
  {
   "cell_type": "code",
   "execution_count": null,
   "metadata": {},
   "outputs": [],
   "source": [
    "import pandas as pd\n",
    "import numpy as np\n",
    "import matplotlib.pyplot as plt\n",
    "import json\n",
    "import csv\n",
    "from sklearn.metrics import accuracy_score, confusion_matrix, mean_squared_error, mean_absolute_error\n",
    "from sklearn.linear_model import LinearRegression\n",
    "from sklearn.preprocessing import OneHotEncoder\n",
    "from sklearn.model_selection import train_test_split\n",
    "from scipy.stats import iqr\n",
    "from ast import literal_eval\n",
    "from project_utils import *\n",
    "from pandas.io.json import json_normalize\n",
    "from functools import reduce"
   ]
  },
  {
   "cell_type": "code",
   "execution_count": null,
   "metadata": {},
   "outputs": [],
   "source": [
    "actors_dataset_df = pd.read_pickle(\"actors_dataset_df.pkl\")\n",
    "actors_dataset_df.head()"
   ]
  },
  {
   "cell_type": "code",
   "execution_count": null,
   "metadata": {},
   "outputs": [],
   "source": [
    "X_budget, y_budget = get_train_feats_and_gt(actors_dataset_df,\"budget\",[\"community\"])\n",
    "X_budget_com, y_budget_com = get_train_feats_and_gt(actors_dataset_df,\"budget\")\n",
    "X_revenue, y_revenue = get_train_feats_and_gt(actors_dataset_df,\"revenue\",[\"community\"])\n",
    "X_revenue_com, y_revenue_com = get_train_feats_and_gt(actors_dataset_df,\"revenue\")\n",
    "X_popularity, y_popularity = get_train_feats_and_gt(actors_dataset_df,\"popularity\",[\"community\"])\n",
    "X_popularity_com, y_popularity_com = get_train_feats_and_gt(actors_dataset_df,\"popularity\")"
   ]
  },
  {
   "cell_type": "markdown",
   "metadata": {},
   "source": [
    "## Predict features"
   ]
  },
  {
   "cell_type": "code",
   "execution_count": null,
   "metadata": {},
   "outputs": [],
   "source": [
    "seed=10"
   ]
  },
  {
   "cell_type": "markdown",
   "metadata": {},
   "source": [
    "### Predict budget"
   ]
  },
  {
   "cell_type": "code",
   "execution_count": null,
   "metadata": {},
   "outputs": [],
   "source": [
    "X_train_budget, X_test_budget, y_train_budget, y_test_budget = train_test_split(X_budget,y_budget,test_size=0.2,random_state=seed)\n",
    "budget_lr = LinearRegression()\n",
    "fit_budget_lr = budget_lr.fit(X_train_budget,y_train_budget)\n",
    "y_pred_budget = fit_budget_lr.predict(X_test_budget)\n",
    "budget_nmae = nmae(y_test_budget,y_pred_budget,\"range\")\n",
    "print(\"Normalized MAE budget: \"+str(budget_nmae))"
   ]
  },
  {
   "cell_type": "markdown",
   "metadata": {},
   "source": [
    "### Predict budget using communities"
   ]
  },
  {
   "cell_type": "code",
   "execution_count": null,
   "metadata": {},
   "outputs": [],
   "source": [
    "X_train_budget_com, X_test_budget_com, y_train_budget_com, y_test_budget_com = train_test_split(X_budget_com,y_budget_com,test_size=0.2,random_state=seed)\n",
    "budget_com_lr = LinearRegression()\n",
    "fit_budget_com_lr = budget_com_lr.fit(X_train_budget_com,y_train_budget_com)\n",
    "y_pred_budget_com = fit_budget_com_lr.predict(X_test_budget_com)\n",
    "budget_com_nmae = nmae(y_test_budget_com,y_pred_budget_com,\"range\")\n",
    "print(\"Normalized MAE budget: \"+str(budget_com_nmae))"
   ]
  },
  {
   "cell_type": "code",
   "execution_count": null,
   "metadata": {},
   "outputs": [],
   "source": [
    "print(\"Improvement percentage of budget prediction using communities: \" +str((budget_nmae-budget_com_nmae)*100/budget_nmae)+\" %\")"
   ]
  },
  {
   "cell_type": "markdown",
   "metadata": {},
   "source": [
    "### Predict revenue "
   ]
  },
  {
   "cell_type": "code",
   "execution_count": null,
   "metadata": {},
   "outputs": [],
   "source": [
    "X_train_revenue, X_test_revenue, y_train_revenue, y_test_revenue = train_test_split(X_revenue,y_revenue,test_size=0.2,random_state=seed)\n",
    "revenue_lr = LinearRegression()\n",
    "fit_revenue_lr = revenue_lr.fit(X_train_revenue,y_train_revenue)\n",
    "y_pred_revenue = fit_revenue_lr.predict(X_test_revenue)\n",
    "revenue_nmae = nmae(y_test_revenue,y_pred_revenue,\"range\")\n",
    "print(\"Normalized MAE revenue: \"+str(revenue_nmae))"
   ]
  },
  {
   "cell_type": "markdown",
   "metadata": {},
   "source": [
    "### Predict revenue using communities"
   ]
  },
  {
   "cell_type": "code",
   "execution_count": null,
   "metadata": {},
   "outputs": [],
   "source": [
    "X_train_revenue_com, X_test_revenue_com, y_train_revenue_com, y_test_revenue_com = train_test_split(X_revenue_com,y_revenue_com,test_size=0.2,random_state=seed)\n",
    "revenue_com_lr = LinearRegression()\n",
    "fit_revenue_com_lr = revenue_com_lr.fit(X_train_revenue_com,y_train_revenue_com)\n",
    "y_pred_revenue_com = fit_revenue_com_lr.predict(X_test_revenue_com)\n",
    "revenue_com_nmae = nmae(y_test_revenue_com,y_pred_revenue_com,\"range\")\n",
    "print(\"Normalized MAE revenue: \"+str(revenue_com_nmae))"
   ]
  },
  {
   "cell_type": "code",
   "execution_count": null,
   "metadata": {},
   "outputs": [],
   "source": [
    "print(\"Improvement percentage of revenue prediction using communities: \" +str((revenue_nmae-revenue_com_nmae)*100/revenue_nmae)+\" %\")"
   ]
  },
  {
   "cell_type": "markdown",
   "metadata": {},
   "source": [
    "### Predict popularity "
   ]
  },
  {
   "cell_type": "code",
   "execution_count": null,
   "metadata": {},
   "outputs": [],
   "source": [
    "X_train_popularity, X_test_popularity, y_train_popularity, y_test_popularity = train_test_split(X_popularity,y_popularity,test_size=0.2,random_state=seed)\n",
    "popularity_lr = LinearRegression()\n",
    "fit_popularity_lr = popularity_lr.fit(X_train_popularity,y_train_popularity)\n",
    "y_pred_popularity = fit_popularity_lr.predict(X_test_popularity)\n",
    "popularity_nmae = nmae(y_test_popularity,y_pred_popularity,\"range\")\n",
    "print(\"Normalized MAE popularity: \"+str(popularity_nmae))"
   ]
  },
  {
   "cell_type": "markdown",
   "metadata": {},
   "source": [
    "### Predict popularity using communities"
   ]
  },
  {
   "cell_type": "code",
   "execution_count": null,
   "metadata": {},
   "outputs": [],
   "source": [
    "X_train_popularity_com, X_test_popularity_com, y_train_popularity_com, y_test_popularity_com = train_test_split(X_popularity_com,y_popularity_com,test_size=0.2,random_state=seed)\n",
    "popularity_com_lr = LinearRegression()\n",
    "fit_popularity_com_lr = popularity_com_lr.fit(X_train_popularity_com,y_train_popularity_com)\n",
    "y_pred_popularity_com = fit_popularity_com_lr.predict(X_test_popularity_com)\n",
    "popularity_com_nmae = nmae(y_test_popularity_com,y_pred_popularity_com,\"range\")\n",
    "print(\"Normalized MAE popularity: \"+str(popularity_com_nmae))"
   ]
  },
  {
   "cell_type": "code",
   "execution_count": null,
   "metadata": {},
   "outputs": [],
   "source": [
    "print(\"Improvement percentage of popularity prediction using communities: \" +str((popularity_nmae-popularity_com_nmae)*100/popularity_nmae)+\" %\")"
   ]
  }
 ],
 "metadata": {
  "kernelspec": {
   "display_name": "Python 3",
   "language": "python",
   "name": "python3"
  },
  "language_info": {
   "codemirror_mode": {
    "name": "ipython",
    "version": 3
   },
   "file_extension": ".py",
   "mimetype": "text/x-python",
   "name": "python",
   "nbconvert_exporter": "python",
   "pygments_lexer": "ipython3",
   "version": "3.7.3"
  }
 },
 "nbformat": 4,
 "nbformat_minor": 4
}
