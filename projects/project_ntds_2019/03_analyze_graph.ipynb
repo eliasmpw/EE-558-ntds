{
 "cells": [
  {
   "cell_type": "code",
   "execution_count": 1,
   "metadata": {},
   "outputs": [],
   "source": [
    "import pandas as pd\n",
    "import matplotlib.pyplot as plt\n",
    "import numpy as np\n",
    "import networkx as nx\n",
    "import seaborn as sns\n",
    "import collections\n",
    "\n",
    "from project_utils import attrs_to_graph, gefx_compatible\n",
    "\n",
    "%reload_ext autoreload\n",
    "%autoreload 2\n",
    "%reload_ext lab_black\n",
    "\n",
    "sns.set()"
   ]
  },
  {
   "cell_type": "markdown",
   "metadata": {},
   "source": [
    "# Diameter of the graph"
   ]
  },
  {
   "cell_type": "code",
   "execution_count": 2,
   "metadata": {},
   "outputs": [],
   "source": [
    "actors_agg_adj = np.load(\"sparse_agg_actor_adj.npy\")\n",
    "actors_graph = nx.from_numpy_matrix(actors_agg_adj)"
   ]
  },
  {
   "cell_type": "code",
   "execution_count": null,
   "metadata": {},
   "outputs": [],
   "source": [
    "print(f\"The diameter of the graph is: {nx.diameter(actors_graph)}\")"
   ]
  },
  {
   "cell_type": "markdown",
   "metadata": {},
   "source": [
    "# Sparsity of the graph"
   ]
  },
  {
   "cell_type": "markdown",
   "metadata": {},
   "source": [
    "#### HeatMap"
   ]
  },
  {
   "cell_type": "code",
   "execution_count": null,
   "metadata": {},
   "outputs": [],
   "source": [
    "plt.figure(figsize=(15, 10))\n",
    "sns.heatmap(actors_agg_adj)\n",
    "plt.savefig(\"plots/adj_actors_heatmap.pdf\")"
   ]
  },
  {
   "cell_type": "markdown",
   "metadata": {},
   "source": [
    "### Sparsity "
   ]
  },
  {
   "cell_type": "code",
   "execution_count": null,
   "metadata": {},
   "outputs": [],
   "source": [
    "plt.figure(figsize=(15, 10))\n",
    "plt.spy(actors_agg_adj)\n",
    "plt.title(\"Sparsity of Adjj Matrix\")\n",
    "plt.savefig(\"plots/sparsity_adjj.pdf\")"
   ]
  },
  {
   "cell_type": "markdown",
   "metadata": {},
   "source": [
    "# Connected components"
   ]
  },
  {
   "cell_type": "code",
   "execution_count": null,
   "metadata": {},
   "outputs": [],
   "source": [
    "connected_components = nx.number_connected_components(actors_graph)\n",
    "connected_components"
   ]
  },
  {
   "cell_type": "markdown",
   "metadata": {},
   "source": [
    "# Degree Distribution"
   ]
  },
  {
   "cell_type": "code",
   "execution_count": null,
   "metadata": {},
   "outputs": [],
   "source": [
    "degree_sequence = sorted([d for n, d in actors_graph.degree()], reverse=True)\n",
    "\n",
    "plt.figure(figsize=(15, 10))\n",
    "plt.title(\"Degree Distribution\")\n",
    "plt.xlabel(\"Degree\")\n",
    "plt.ylabel(\"Frequency Normalized\")\n",
    "ax = sns.distplot(degree_sequence, kde=True)\n",
    "plt.savefig(\"plots/degree_distribution.pdf\")"
   ]
  },
  {
   "cell_type": "markdown",
   "metadata": {},
   "source": [
    "# Spectrum"
   ]
  },
  {
   "cell_type": "code",
   "execution_count": null,
   "metadata": {},
   "outputs": [],
   "source": [
    "lamb_comb = nx.laplacian_spectrum(actors_graph)\n",
    "lamb_norm = nx.normalized_laplacian_spectrum(actors_graph)"
   ]
  },
  {
   "cell_type": "code",
   "execution_count": null,
   "metadata": {},
   "outputs": [],
   "source": [
    "spectrum = pd.DataFrame({\"laplacian\": lamb_comb, \"normalized_laplacian\": lamb_norm})\n",
    "spectrum"
   ]
  },
  {
   "cell_type": "code",
   "execution_count": null,
   "metadata": {
    "collapsed": false,
    "jupyter": {
     "outputs_hidden": false
    },
    "pycharm": {
     "name": "#%%\n"
    }
   },
   "outputs": [],
   "source": [
    "plt.figure(figsize=(15, 10))\n",
    "plt.xlabel(\"Index\")\n",
    "plt.ylabel(\"Eigenvalue\")\n",
    "plt.title(\"Eigenvalues $L_{comb}$ and $L_{norm}$\")\n",
    "sns.lineplot(data=spectrum)\n",
    "plt.savefig(\"plots/both_spectrum.pdf\")"
   ]
  },
  {
   "cell_type": "code",
   "execution_count": null,
   "metadata": {
    "collapsed": false,
    "jupyter": {
     "outputs_hidden": false
    },
    "pycharm": {
     "name": "#%%\n"
    }
   },
   "outputs": [],
   "source": [
    "plt.figure(figsize=(15, 10))\n",
    "plt.xlabel(\"Index\")\n",
    "plt.ylabel(\"Eigenvalue\")\n",
    "plt.title(\"Eigenvalues $L_{comb}$\")\n",
    "sns.lineplot(\"index\", \"laplacian\", data=spectrum.reset_index())\n",
    "plt.savefig(\"plots/laplacian_spectrum.pdf\")"
   ]
  },
  {
   "cell_type": "code",
   "execution_count": null,
   "metadata": {
    "collapsed": false,
    "jupyter": {
     "outputs_hidden": false
    },
    "pycharm": {
     "name": "#%%\n"
    }
   },
   "outputs": [],
   "source": [
    "plt.figure(figsize=(15, 10))\n",
    "plt.xlabel(\"Index\")\n",
    "plt.ylabel(\"Eigenvalue\")\n",
    "plt.title(\"Eigenvalues $L_{norm}$\")\n",
    "sns.lineplot(\"index\", \"normalized_laplacian\", data=spectrum.reset_index())\n",
    "plt.savefig(\"plots/normalized_laplacian_spectrum.pdf\")"
   ]
  },
  {
   "cell_type": "markdown",
   "metadata": {},
   "source": [
    "# Average Degree"
   ]
  },
  {
   "cell_type": "code",
   "execution_count": null,
   "metadata": {},
   "outputs": [],
   "source": [
    "average_degree = nx.average_degree_connectivity(actors_graph)\n",
    "# average_degree\n",
    "dict(list(average_degree.items())[0:10])"
   ]
  },
  {
   "cell_type": "markdown",
   "metadata": {},
   "source": [
    "# Save for Gephi"
   ]
  },
  {
   "cell_type": "code",
   "execution_count": null,
   "metadata": {},
   "outputs": [],
   "source": [
    "# adds attributes to graph before saving it\n",
    "actors_agg_df = pd.read_pickle(\"actors_agg_df.pkl\")\n",
    "\n",
    "# Add name and gender as node attribute\n",
    "columns_of_type_set = [\n",
    "    \"cast\",\n",
    "    \"crew\",\n",
    "    \"movie_id\",\n",
    "    \"genres\",\n",
    "    \"keywords\",\n",
    "    \"original_language\",\n",
    "    \"production_companies\",\n",
    "    \"production_countries\",\n",
    "    \"spoken_languages\",\n",
    "    \"title\",\n",
    "    \"release_date\",\n",
    "    \"status\",\n",
    "]\n",
    "\n",
    "for col in columns_of_type_set:\n",
    "    actors_agg_df[col] = actors_agg_df[col].map(gefx_compatible)\n",
    "\n",
    "actors_agg_df = actors_agg_df.rename(columns={\"actors\": \"name\"})\n",
    "attrs_to_graph(actors_graph, actors_agg_df)"
   ]
  },
  {
   "cell_type": "code",
   "execution_count": null,
   "metadata": {},
   "outputs": [],
   "source": [
    "# write in gefx format\n",
    "DATA_PATH = \"data\"\n",
    "nx.write_gexf(actors_graph, f\"{DATA_PATH}/louvain_graph.gexf\")"
   ]
  },
  {
   "cell_type": "markdown",
   "metadata": {},
   "source": [
    "# Plot the Graph"
   ]
  },
  {
   "cell_type": "code",
   "execution_count": null,
   "metadata": {},
   "outputs": [],
   "source": [
    "nx.draw(actors_graph)"
   ]
  },
  {
   "cell_type": "code",
   "execution_count": null,
   "metadata": {},
   "outputs": [],
   "source": [
    "nx.draw_networkx(actors_graph)"
   ]
  },
  {
   "cell_type": "code",
   "execution_count": null,
   "metadata": {},
   "outputs": [],
   "source": [
    "# # Graph-tool\n",
    "# g = Graph()\n",
    "# g.add_edge_list(np.transpose(actors_agg_adj[100:200, 100:200].nonzero()))"
   ]
  },
  {
   "cell_type": "code",
   "execution_count": null,
   "metadata": {},
   "outputs": [],
   "source": [
    "# gt.draw.graph_draw(g, fmt=\"png\", output_size=(600, 600))"
   ]
  },
  {
   "cell_type": "code",
   "execution_count": null,
   "metadata": {},
   "outputs": [],
   "source": [
    "Gc_actors = max(nx.connected_component_subgraphs(actors_graph), key=len)\n",
    "nb_edges_gc = Gc_actors.number_of_edges()\n",
    "nb_nodes_gc = Gc_actors.number_of_nodes()\n",
    "coords_Gc = nx.spring_layout(Gc_actors, k=0.03)"
   ]
  },
  {
   "cell_type": "code",
   "execution_count": null,
   "metadata": {},
   "outputs": [],
   "source": [
    "plt.figure(figsize=(28, 7))\n",
    "im = nx.draw_networkx_nodes(\n",
    "    Gc_actors, coords_Gc, node_size=10, cmap=\"tab20\", vmin=0, vmax=20\n",
    ")\n",
    "nx.draw_networkx_edges(Gc_actors, coords_Gc, alpha=0.1, width=0.7)\n",
    "plt.title(\"Graph, with {} edges and {} nodes\".format(nb_edges_gc, nb_nodes_gc))\n",
    "plt.colorbar(im)\n",
    "plt.savefig(\"plots/graph\")\n",
    "plt.show()"
   ]
  }
 ],
 "metadata": {
  "kernelspec": {
   "display_name": "Python 3 (ntds_2019)",
   "language": "python",
   "name": "ntds_2019"
  },
  "language_info": {
   "codemirror_mode": {
    "name": "ipython",
    "version": 3
   },
   "file_extension": ".py",
   "mimetype": "text/x-python",
   "name": "python",
   "nbconvert_exporter": "python",
   "pygments_lexer": "ipython3",
   "version": "3.7.3"
  },
  "pycharm": {
   "stem_cell": {
    "cell_type": "raw",
    "metadata": {
     "collapsed": false
    },
    "source": []
   }
  }
 },
 "nbformat": 4,
 "nbformat_minor": 4
}
